{
 "cells": [
  {
   "cell_type": "markdown",
   "id": "74495da4-0af4-4acb-9cba-a33af106502e",
   "metadata": {},
   "source": [
    "# Setup"
   ]
  },
  {
   "cell_type": "code",
   "execution_count": 1,
   "id": "e93e685e-abdf-4dd3-9bcb-506bb76829b4",
   "metadata": {
    "tags": []
   },
   "outputs": [
    {
     "name": "stdout",
     "output_type": "stream",
     "text": [
      ":: loading settings :: url = jar:file:/Users/matthew.powers/opt/miniconda3/envs/pyspark-330-delta-220/lib/python3.9/site-packages/pyspark/jars/ivy-2.5.0.jar!/org/apache/ivy/core/settings/ivysettings.xml\n"
     ]
    },
    {
     "name": "stderr",
     "output_type": "stream",
     "text": [
      "Ivy Default Cache set to: /Users/matthew.powers/.ivy2/cache\n",
      "The jars for the packages stored in: /Users/matthew.powers/.ivy2/jars\n",
      "io.delta#delta-core_2.12 added as a dependency\n",
      ":: resolving dependencies :: org.apache.spark#spark-submit-parent-2510fa97-bf89-45db-941b-172bd811321f;1.0\n",
      "\tconfs: [default]\n",
      "\tfound io.delta#delta-core_2.12;2.2.0 in central\n",
      "\tfound io.delta#delta-storage;2.2.0 in central\n",
      "\tfound org.antlr#antlr4-runtime;4.8 in central\n",
      ":: resolution report :: resolve 111ms :: artifacts dl 5ms\n",
      "\t:: modules in use:\n",
      "\tio.delta#delta-core_2.12;2.2.0 from central in [default]\n",
      "\tio.delta#delta-storage;2.2.0 from central in [default]\n",
      "\torg.antlr#antlr4-runtime;4.8 from central in [default]\n",
      "\t---------------------------------------------------------------------\n",
      "\t|                  |            modules            ||   artifacts   |\n",
      "\t|       conf       | number| search|dwnlded|evicted|| number|dwnlded|\n",
      "\t---------------------------------------------------------------------\n",
      "\t|      default     |   3   |   0   |   0   |   0   ||   3   |   0   |\n",
      "\t---------------------------------------------------------------------\n",
      ":: retrieving :: org.apache.spark#spark-submit-parent-2510fa97-bf89-45db-941b-172bd811321f\n",
      "\tconfs: [default]\n",
      "\t0 artifacts copied, 3 already retrieved (0kB/2ms)\n"
     ]
    },
    {
     "name": "stdout",
     "output_type": "stream",
     "text": [
      "23/03/29 10:13:05 WARN NativeCodeLoader: Unable to load native-hadoop library for your platform... using builtin-java classes where applicable\n"
     ]
    },
    {
     "name": "stderr",
     "output_type": "stream",
     "text": [
      "Setting default log level to \"WARN\".\n",
      "To adjust logging level use sc.setLogLevel(newLevel). For SparkR, use setLogLevel(newLevel).\n"
     ]
    }
   ],
   "source": [
    "import pyspark\n",
    "from delta import *\n",
    "from pyspark.sql import functions as F\n",
    "\n",
    "builder = (\n",
    "    pyspark.sql.SparkSession.builder.appName(\"MyApp\")\n",
    "    .config(\"spark.sql.extensions\", \"io.delta.sql.DeltaSparkSessionExtension\")\n",
    "    .config(\n",
    "        \"spark.sql.catalog.spark_catalog\",\n",
    "        \"org.apache.spark.sql.delta.catalog.DeltaCatalog\",\n",
    "    )\n",
    ")\n",
    "\n",
    "spark = configure_spark_with_delta_pip(builder).getOrCreate()"
   ]
  },
  {
   "cell_type": "markdown",
   "id": "6f16b140-0abd-479d-81c9-fc5585ebe781",
   "metadata": {
    "tags": []
   },
   "source": [
    "# Delta Lake merge with whenNotMatchedInsert"
   ]
  },
  {
   "cell_type": "code",
   "execution_count": 22,
   "id": "00024bfa-b1d6-44aa-8e6e-6fb4be7dcf92",
   "metadata": {
    "tags": []
   },
   "outputs": [],
   "source": [
    "data = [(0, \"Bob\", 23), (1, \"Sue\", 25), (2, \"Jim\", 27)]"
   ]
  },
  {
   "cell_type": "code",
   "execution_count": 23,
   "id": "9c8b4574-16e4-4ce1-8b60-844cd11cc9e4",
   "metadata": {
    "tags": []
   },
   "outputs": [],
   "source": [
    "df = spark.createDataFrame(data).toDF(\"id\", \"name\", \"age\")"
   ]
  },
  {
   "cell_type": "code",
   "execution_count": 24,
   "id": "a9f83cdd-8d8d-4119-89a2-f8e0283d3426",
   "metadata": {
    "tags": []
   },
   "outputs": [
    {
     "name": "stdout",
     "output_type": "stream",
     "text": [
      "+---+----+---+\n",
      "| id|name|age|\n",
      "+---+----+---+\n",
      "|  0| Bob| 23|\n",
      "|  1| Sue| 25|\n",
      "|  2| Jim| 27|\n",
      "+---+----+---+\n",
      "\n"
     ]
    }
   ],
   "source": [
    "df.show()"
   ]
  },
  {
   "cell_type": "code",
   "execution_count": 25,
   "id": "1572ea7f-fade-40df-b039-6c213aaf0a3f",
   "metadata": {
    "tags": []
   },
   "outputs": [],
   "source": [
    "df.repartition(1).write.format(\"delta\").save(\"/tmp/people\")"
   ]
  },
  {
   "cell_type": "code",
   "execution_count": 26,
   "id": "2bfef85e-01aa-48f5-bcae-e66007bbefc2",
   "metadata": {
    "tags": []
   },
   "outputs": [],
   "source": [
    "new_data = [\n",
    "    (0, \"Bob\", 23),  # exists in our original dataset above\n",
    "    (3, \"Sally\", 30),  # new data\n",
    "    (7, \"Bob\", 49),  # new data\n",
    "]"
   ]
  },
  {
   "cell_type": "code",
   "execution_count": 27,
   "id": "f33db68d-0be9-4501-a22c-5b5b8fb2b348",
   "metadata": {
    "tags": []
   },
   "outputs": [],
   "source": [
    "new_df = spark.createDataFrame(new_data).toDF(\"id\", \"name\", \"age\")"
   ]
  },
  {
   "cell_type": "code",
   "execution_count": 28,
   "id": "aeafe849-7543-479e-94b9-2121e1e55fb0",
   "metadata": {
    "tags": []
   },
   "outputs": [
    {
     "name": "stdout",
     "output_type": "stream",
     "text": [
      "+---+-----+---+\n",
      "| id| name|age|\n",
      "+---+-----+---+\n",
      "|  0|  Bob| 23|\n",
      "|  3|Sally| 30|\n",
      "|  7|  Bob| 49|\n",
      "+---+-----+---+\n",
      "\n"
     ]
    }
   ],
   "source": [
    "new_df.show()"
   ]
  },
  {
   "cell_type": "code",
   "execution_count": 29,
   "id": "bd145614-9f8f-4d87-9c54-3ab426da932e",
   "metadata": {
    "tags": []
   },
   "outputs": [],
   "source": [
    "from delta.tables import DeltaTable"
   ]
  },
  {
   "cell_type": "code",
   "execution_count": 30,
   "id": "1743d1ef-6f61-4b08-ae64-3204e8d559bb",
   "metadata": {
    "tags": []
   },
   "outputs": [],
   "source": [
    "people_table = DeltaTable.forPath(spark, \"/tmp/people\")"
   ]
  },
  {
   "cell_type": "code",
   "execution_count": 31,
   "id": "5a0d118f-01f8-42f4-b17b-9ec0b06211ea",
   "metadata": {
    "tags": []
   },
   "outputs": [
    {
     "name": "stdout",
     "output_type": "stream",
     "text": [
      "+---+----+---+\n",
      "| id|name|age|\n",
      "+---+----+---+\n",
      "|  0| Bob| 23|\n",
      "|  1| Sue| 25|\n",
      "|  2| Jim| 27|\n",
      "+---+----+---+\n",
      "\n"
     ]
    }
   ],
   "source": [
    "people_table.toDF().show()"
   ]
  },
  {
   "cell_type": "code",
   "execution_count": 32,
   "id": "0d108e50-6214-4ddc-b645-fbf3c0e34764",
   "metadata": {
    "collapsed": true,
    "jupyter": {
     "outputs_hidden": true
    },
    "tags": []
   },
   "outputs": [
    {
     "name": "stdout",
     "output_type": "stream",
     "text": [
      "23/03/29 10:30:08 WARN MergeIntoCommand: Merge source has SQLMetric(id: 1620, name: Some(number of source rows), value: 3) rows in initial scan but SQLMetric(id: 1621, name: Some(number of source rows (during repeated scan)), value: 0) rows in second scan\n"
     ]
    }
   ],
   "source": [
    "people_table.alias(\"target\").merge(\n",
    "    new_df.alias(\"source\"), \"target.id = source.id\"\n",
    ").whenNotMatchedInsert(\n",
    "    values={\"id\": \"source.id\", \"name\": \"source.name\", \"age\": \"source.age\"}\n",
    ").execute()"
   ]
  },
  {
   "cell_type": "code",
   "execution_count": 33,
   "id": "c034157d-c9e1-455b-a81c-77e9a2a4ff52",
   "metadata": {
    "tags": []
   },
   "outputs": [
    {
     "name": "stdout",
     "output_type": "stream",
     "text": [
      "+---+-----+---+\n",
      "| id| name|age|\n",
      "+---+-----+---+\n",
      "|  0|  Bob| 23|\n",
      "|  1|  Sue| 25|\n",
      "|  2|  Jim| 27|\n",
      "|  3|Sally| 30|\n",
      "|  7|  Bob| 49|\n",
      "+---+-----+---+\n",
      "\n"
     ]
    }
   ],
   "source": [
    "people_table.toDF().show()"
   ]
  },
  {
   "cell_type": "code",
   "execution_count": 30,
   "id": "b6aaf261-0795-449a-9915-31ed3d92c087",
   "metadata": {
    "tags": []
   },
   "outputs": [
    {
     "name": "stdout",
     "output_type": "stream",
     "text": [
      "\u001b[1m\u001b[36m_delta_log\u001b[m\u001b[m\n",
      "part-00000-37993f6a-e72c-47d1-8023-7c056a5e89d2-c000.snappy.parquet\n",
      "part-00000-d542c8b2-1a61-4976-823a-0bd84536449d-c000.snappy.parquet\n"
     ]
    }
   ],
   "source": [
    "!ls /tmp/people"
   ]
  },
  {
   "cell_type": "code",
   "execution_count": 31,
   "id": "04640716-06fa-4f8d-bcb0-915f4aee2282",
   "metadata": {
    "tags": []
   },
   "outputs": [
    {
     "name": "stdout",
     "output_type": "stream",
     "text": [
      "{\"commitInfo\":{\"timestamp\":1676395230116,\"operation\":\"WRITE\",\"operationParameters\":{\"mode\":\"ErrorIfExists\",\"partitionBy\":\"[]\"},\"isolationLevel\":\"Serializable\",\"isBlindAppend\":true,\"operationMetrics\":{\"numFiles\":\"1\",\"numOutputRows\":\"3\",\"numOutputBytes\":\"980\"},\"engineInfo\":\"Apache-Spark/3.3.0 Delta-Lake/2.2.0\",\"txnId\":\"e175778a-7fc0-4df7-9957-6ee4f0d3401f\"}}\n",
      "{\"protocol\":{\"minReaderVersion\":1,\"minWriterVersion\":2}}\n",
      "{\"metaData\":{\"id\":\"c7747e8d-239e-4697-82bc-333445459721\",\"format\":{\"provider\":\"parquet\",\"options\":{}},\"schemaString\":\"{\\\"type\\\":\\\"struct\\\",\\\"fields\\\":[{\\\"name\\\":\\\"id\\\",\\\"type\\\":\\\"long\\\",\\\"nullable\\\":true,\\\"metadata\\\":{}},{\\\"name\\\":\\\"name\\\",\\\"type\\\":\\\"string\\\",\\\"nullable\\\":true,\\\"metadata\\\":{}},{\\\"name\\\":\\\"age\\\",\\\"type\\\":\\\"long\\\",\\\"nullable\\\":true,\\\"metadata\\\":{}}]}\",\"partitionColumns\":[],\"configuration\":{},\"createdTime\":1676395229956}}\n",
      "{\"add\":{\"path\":\"part-00000-d542c8b2-1a61-4976-823a-0bd84536449d-c000.snappy.parquet\",\"partitionValues\":{},\"size\":980,\"modificationTime\":1676395230112,\"dataChange\":true,\"stats\":\"{\\\"numRecords\\\":3,\\\"minValues\\\":{\\\"id\\\":0,\\\"name\\\":\\\"Bob\\\",\\\"age\\\":23},\\\"maxValues\\\":{\\\"id\\\":2,\\\"name\\\":\\\"Sue\\\",\\\"age\\\":27},\\\"nullCount\\\":{\\\"id\\\":0,\\\"name\\\":0,\\\"age\\\":0}}\"}}\n"
     ]
    }
   ],
   "source": [
    "!cat /tmp/people/_delta_log/00000000000000000000.json"
   ]
  },
  {
   "cell_type": "code",
   "execution_count": 32,
   "id": "11019d2b-87fd-490a-b3ec-eed180aa16fa",
   "metadata": {
    "tags": []
   },
   "outputs": [
    {
     "name": "stdout",
     "output_type": "stream",
     "text": [
      "{\"commitInfo\":{\"timestamp\":1676395236476,\"operation\":\"MERGE\",\"operationParameters\":{\"predicate\":\"(target.id = source.id)\",\"matchedPredicates\":\"[]\",\"notMatchedPredicates\":\"[{\\\"actionType\\\":\\\"insert\\\"}]\"},\"readVersion\":0,\"isolationLevel\":\"Serializable\",\"isBlindAppend\":false,\"operationMetrics\":{\"numTargetRowsCopied\":\"0\",\"numTargetRowsDeleted\":\"0\",\"numTargetFilesAdded\":\"1\",\"executionTimeMs\":\"261\",\"numTargetRowsInserted\":\"2\",\"scanTimeMs\":\"0\",\"numTargetRowsUpdated\":\"0\",\"numOutputRows\":\"2\",\"numTargetChangeFilesAdded\":\"0\",\"numSourceRows\":\"3\",\"numTargetFilesRemoved\":\"0\",\"rewriteTimeMs\":\"259\"},\"engineInfo\":\"Apache-Spark/3.3.0 Delta-Lake/2.2.0\",\"txnId\":\"b50edde7-39c9-4ecf-adab-3eee28958eab\"}}\n",
      "{\"add\":{\"path\":\"part-00000-37993f6a-e72c-47d1-8023-7c056a5e89d2-c000.snappy.parquet\",\"partitionValues\":{},\"size\":975,\"modificationTime\":1676395236473,\"dataChange\":true,\"stats\":\"{\\\"numRecords\\\":2,\\\"minValues\\\":{\\\"id\\\":3,\\\"name\\\":\\\"Henry\\\",\\\"age\\\":30},\\\"maxValues\\\":{\\\"id\\\":4,\\\"name\\\":\\\"Sally\\\",\\\"age\\\":33},\\\"nullCount\\\":{\\\"id\\\":0,\\\"name\\\":0,\\\"age\\\":0}}\"}}\n"
     ]
    }
   ],
   "source": [
    "!cat /tmp/people/_delta_log/00000000000000000001.json"
   ]
  },
  {
   "cell_type": "markdown",
   "id": "e31b2935-a8e7-437e-9a8e-7fff90144818",
   "metadata": {},
   "source": [
    "# Delta Lake merge with whenMatchedUpdate"
   ]
  },
  {
   "cell_type": "code",
   "execution_count": 33,
   "id": "d010faff-d7f4-4113-9dc8-492c55916aa8",
   "metadata": {
    "tags": []
   },
   "outputs": [],
   "source": [
    "new_data = [\n",
    "    (4, \"Henry\", 34),\n",
    "    (5, \"Allie\", 22),\n",
    "]\n",
    "\n",
    "new_df = spark.createDataFrame(new_data).toDF(\"id\", \"name\", \"age\").repartition(1)"
   ]
  },
  {
   "cell_type": "code",
   "execution_count": 34,
   "id": "18a8ee6e-4356-4f1b-9355-d968881fbb9f",
   "metadata": {
    "tags": []
   },
   "outputs": [],
   "source": [
    "people_table.alias(\"target\").merge(\n",
    "    new_df.alias(\"source\"), \"target.id = source.id\"\n",
    ").whenMatchedUpdate(set={\"age\": \"source.age\"}).whenNotMatchedInsertAll().execute()"
   ]
  },
  {
   "cell_type": "code",
   "execution_count": 35,
   "id": "413372f8-2d0c-42ae-b7ec-9a152ad0aee6",
   "metadata": {
    "tags": []
   },
   "outputs": [
    {
     "name": "stdout",
     "output_type": "stream",
     "text": [
      "+---+-----+---+\n",
      "| id| name|age|\n",
      "+---+-----+---+\n",
      "|  3|Sally| 30|\n",
      "|  4|Henry| 34|\n",
      "|  5|Allie| 22|\n",
      "|  0|  Bob| 23|\n",
      "|  1|  Sue| 25|\n",
      "|  2|  Jim| 27|\n",
      "+---+-----+---+\n",
      "\n"
     ]
    }
   ],
   "source": [
    "people_table.toDF().show()"
   ]
  },
  {
   "cell_type": "markdown",
   "id": "56d141a9-f2a5-4b9a-a33c-1f7db8b132a6",
   "metadata": {},
   "source": [
    "# Delta Lake merge vs Parquet table merge"
   ]
  },
  {
   "cell_type": "code",
   "execution_count": 62,
   "id": "4a49e2ca-34a3-48ba-8d4e-c2d385dcce62",
   "metadata": {
    "tags": []
   },
   "outputs": [
    {
     "name": "stdout",
     "output_type": "stream",
     "text": [
      "23/02/14 09:36:07 WARN CacheManager: Asked to cache already cached data.\n"
     ]
    }
   ],
   "source": [
    "data = [(0, \"Bob\", 23), (1, \"Sue\", 25), (2, \"Jim\", 27)]\n",
    "\n",
    "df = spark.createDataFrame(data).toDF(\"id\", \"name\", \"age\")\n",
    "df.repartition(1).write.format(\"parquet\").save(\"/tmp/parquet/people\")\n",
    "\n",
    "target = spark.read.format(\"parquet\").load(\"/tmp/parquet/people\")\n",
    "target.cache()\n",
    "\n",
    "new_data = [\n",
    "    (0, \"Bob\", 23),\n",
    "    (3, \"Sally\", 30),\n",
    "    (4, \"Henry\", 33),\n",
    "]\n",
    "\n",
    "source = spark.createDataFrame(new_data).toDF(\"id\", \"name\", \"age\").repartition(1)"
   ]
  },
  {
   "cell_type": "code",
   "execution_count": 63,
   "id": "fd4391fe-6870-45bb-ace0-9ba572623b97",
   "metadata": {
    "tags": []
   },
   "outputs": [],
   "source": [
    "source_prefix = source.select([F.col(c).alias(\"source_\" + c) for c in source.columns])\n",
    "target_prefix = target.select([F.col(c).alias(\"target_\" + c) for c in target.columns])\n",
    "\n",
    "joined_df = source_prefix.join(\n",
    "    target_prefix, target_prefix.target_id == source_prefix.source_id, \"full_outer\"\n",
    ")\n",
    "\n",
    "final_df = joined_df.select(\n",
    "    F.expr(\"CASE WHEN target_id IS NULL THEN source_id ELSE target_id END\").alias(\"id\"),\n",
    "    F.expr(\"CASE WHEN target_name IS NULL THEN source_name ELSE target_name END\").alias(\n",
    "        \"name\"\n",
    "    ),\n",
    "    F.expr(\"CASE WHEN target_age IS NULL THEN source_age ELSE target_age END\").alias(\n",
    "        \"age\"\n",
    "    ),\n",
    ")"
   ]
  },
  {
   "cell_type": "code",
   "execution_count": 64,
   "id": "01afcd35-48f4-40db-912f-e55ee43c1b63",
   "metadata": {
    "tags": []
   },
   "outputs": [
    {
     "name": "stderr",
     "output_type": "stream",
     "text": [
      "                                                                                \r"
     ]
    }
   ],
   "source": [
    "final_df.write.mode(\"overwrite\").format(\"parquet\").save(\"/tmp/parquet/people_new\")"
   ]
  },
  {
   "cell_type": "markdown",
   "id": "de324147-8efe-419e-b2c2-7dc9c59e3dc7",
   "metadata": {
    "tags": []
   },
   "source": [
    "# Apply change data with merge"
   ]
  },
  {
   "cell_type": "code",
   "execution_count": 67,
   "id": "ee049446-4552-4ef7-b464-c922b796c8f1",
   "metadata": {
    "tags": []
   },
   "outputs": [
    {
     "name": "stdout",
     "output_type": "stream",
     "text": [
      "+---+-----+---+\n",
      "| id| name|age|\n",
      "+---+-----+---+\n",
      "|  3|Sally| 30|\n",
      "|  4|Henry| 34|\n",
      "|  5|Allie| 22|\n",
      "|  0|  Bob| 23|\n",
      "|  1|  Sue| 25|\n",
      "|  2|  Jim| 27|\n",
      "+---+-----+---+\n",
      "\n"
     ]
    }
   ],
   "source": [
    "people_table.toDF().show()\n",
    "\n",
    "new_data = [\n",
    "    (9, \"Richard\", 75, \"INSERT\"),\n",
    "    (3, \"Sally\", 31, \"UPDATE\"),\n",
    "    (0, \"Bob\", 23, \"DELETE\"),\n",
    "]\n",
    "\n",
    "\n",
    "new_df = spark.createDataFrame(new_data).toDF(\"id\", \"name\", \"age\", \"_op\").repartition(1)"
   ]
  },
  {
   "cell_type": "code",
   "execution_count": 68,
   "id": "a8e5a724-3941-4678-8303-b2f33de9828c",
   "metadata": {
    "tags": []
   },
   "outputs": [],
   "source": [
    "people_table.alias(\"target\").merge(\n",
    "    new_df.alias(\"source\"), \"target.id = source.id\"\n",
    ").whenNotMatchedInsert(\n",
    "    condition='source._op = \"INSERT\"',\n",
    "    values={\"id\": \"source.id\", \"name\": \"source.name\", \"age\": \"source.age\"},\n",
    ").whenMatchedUpdate(\n",
    "    condition='source._op = \"UPDATE\"',\n",
    "    set={\"id\": \"source.id\", \"name\": \"source.name\", \"age\": \"source.age\"},\n",
    ").whenMatchedDelete(\n",
    "    condition='source._op = \"DELETE\"'\n",
    ").execute()"
   ]
  },
  {
   "cell_type": "markdown",
   "id": "aba84de3-c734-4ff3-8bcf-23309fde6254",
   "metadata": {},
   "source": [
    "# Delta Lake merge for partial Change Data"
   ]
  },
  {
   "cell_type": "code",
   "execution_count": 71,
   "id": "85182600-e20f-4723-97c5-ab63a5dc5761",
   "metadata": {
    "tags": []
   },
   "outputs": [
    {
     "name": "stdout",
     "output_type": "stream",
     "text": [
      "+---+-------+---+\n",
      "| id|   name|age|\n",
      "+---+-------+---+\n",
      "|  1|    Sue| 25|\n",
      "|  2|    Jim| 27|\n",
      "|  3|  Sally| 31|\n",
      "|  4|  Henry| 34|\n",
      "|  5|  Allie| 22|\n",
      "|  9|Richard| 75|\n",
      "+---+-------+---+\n",
      "\n"
     ]
    }
   ],
   "source": [
    "people_table.toDF().show()\n",
    "\n",
    "new_data = [\n",
    "    (1, \"SueNew\", None, \"UPDATE\"),\n",
    "    (3, None, 32, \"UPDATE\"),\n",
    "]\n",
    "\n",
    "new_df = spark.createDataFrame(new_data).toDF(\"id\", \"name\", \"age\", \"_op\").repartition(1)"
   ]
  },
  {
   "cell_type": "code",
   "execution_count": 72,
   "id": "4187e59b-b8dc-41a3-9ef1-8495b935c0a2",
   "metadata": {
    "tags": []
   },
   "outputs": [],
   "source": [
    "people_table.alias(\"target\").merge(\n",
    "    new_df.alias(\"source\"), \"target.id = source.id\"\n",
    ").whenMatchedUpdate(\n",
    "    condition='source._op = \"UPDATE\"',\n",
    "    set={\n",
    "        \"id\": \"source.id\",\n",
    "        \"name\": \"CASE WHEN source.name IS NOT NULL THEN source.name ELSE target.name END\",\n",
    "        \"age\": \"CASE WHEN source.age IS NOT NULL THEN source.age ELSE target.age END\",\n",
    "    },\n",
    ").execute()"
   ]
  },
  {
   "cell_type": "code",
   "execution_count": 73,
   "id": "43a0e924-d8f6-493e-8e2d-11d2182b1b91",
   "metadata": {
    "tags": []
   },
   "outputs": [
    {
     "name": "stdout",
     "output_type": "stream",
     "text": [
      "+---+-------+---+\n",
      "| id|   name|age|\n",
      "+---+-------+---+\n",
      "|  9|Richard| 75|\n",
      "|  5|  Allie| 22|\n",
      "|  1| SueNew| 25|\n",
      "|  3|  Sally| 32|\n",
      "|  2|    Jim| 27|\n",
      "|  4|  Henry| 34|\n",
      "+---+-------+---+\n",
      "\n"
     ]
    }
   ],
   "source": [
    "people_table.toDF().show()"
   ]
  },
  {
   "cell_type": "markdown",
   "id": "1a9e85de-3b63-4e8f-829f-435418af8119",
   "metadata": {},
   "source": [
    "## Cleanup"
   ]
  },
  {
   "cell_type": "code",
   "execution_count": 21,
   "id": "44b0e78b-11d3-4eb7-9e4e-47aa4b71b2e9",
   "metadata": {
    "tags": []
   },
   "outputs": [],
   "source": [
    "!rm -rf /tmp/people"
   ]
  },
  {
   "cell_type": "code",
   "execution_count": null,
   "id": "a5b172f8-b570-490a-93a2-92c77a6bb949",
   "metadata": {},
   "outputs": [],
   "source": []
  }
 ],
 "metadata": {
  "kernelspec": {
   "display_name": "Python [conda env:pyspark-332-delta-230]",
   "language": "python",
   "name": "conda-env-pyspark-332-delta-230-py"
  },
  "language_info": {
   "codemirror_mode": {
    "name": "ipython",
    "version": 3
   },
   "file_extension": ".py",
   "mimetype": "text/x-python",
   "name": "python",
   "nbconvert_exporter": "python",
   "pygments_lexer": "ipython3",
   "version": "3.9.16"
  }
 },
 "nbformat": 4,
 "nbformat_minor": 5
}
