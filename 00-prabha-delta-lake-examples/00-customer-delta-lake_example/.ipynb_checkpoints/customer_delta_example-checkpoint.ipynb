{
 "cells": [
  {
   "cell_type": "code",
   "execution_count": 7,
   "id": "44c0b149-f66b-4270-ad72-f77a4718e84d",
   "metadata": {},
   "outputs": [
    {
     "name": "stdout",
     "output_type": "stream",
     "text": [
      "+---+----------+\n",
      "|age|first_name|\n",
      "+---+----------+\n",
      "| 51|      leah|\n",
      "| 47|       bob|\n",
      "| 23|        li|\n",
      "+---+----------+\n",
      "\n"
     ]
    }
   ],
   "source": [
    "import pyspark\n",
    "from delta import *\n",
    "\n",
    "builder = (\n",
    "    pyspark.sql.SparkSession.builder.appName(\"MyApp\")\n",
    "    .config(\"spark.sql.extensions\", \"io.delta.sql.DeltaSparkSessionExtension\")\n",
    "    .config(\n",
    "        \"spark.sql.catalog.spark_catalog\",\n",
    "        \"org.apache.spark.sql.delta.catalog.DeltaCatalog\",\n",
    "    )\n",
    ")\n",
    "\n",
    "spark = configure_spark_with_delta_pip(builder).getOrCreate()\n",
    "\n",
    "\n",
    "# create a dataframe\n",
    "data = [\n",
    "    {'first_name': 'bob', 'age': 47},\n",
    "    {'first_name': 'li', 'age': 23},\n",
    "    {'first_name': 'leah', 'age': 51}\n",
    "]\n",
    "\n",
    "df = spark.createDataFrame(data=data)\n",
    "\n",
    "# write data to delta table\n",
    "df.write.format(\"delta\").save(\"/tmp/customer_delta_table\")\n",
    "# read delta table\n",
    "df = spark.read.format(\"delta\").load(\"/tmp/customer_delta_table\")\n",
    "df.show()\n",
    "\n",
    "\n"
   ]
  },
  {
   "cell_type": "code",
   "execution_count": null,
   "id": "db87439f-f1aa-447c-882f-93e57e009886",
   "metadata": {},
   "outputs": [],
   "source": []
  }
 ],
 "metadata": {
  "kernelspec": {
   "display_name": "Python 3 (ipykernel)",
   "language": "python",
   "name": "python3"
  },
  "language_info": {
   "codemirror_mode": {
    "name": "ipython",
    "version": 3
   },
   "file_extension": ".py",
   "mimetype": "text/x-python",
   "name": "python",
   "nbconvert_exporter": "python",
   "pygments_lexer": "ipython3",
   "version": "3.12.7"
  }
 },
 "nbformat": 4,
 "nbformat_minor": 5
}
