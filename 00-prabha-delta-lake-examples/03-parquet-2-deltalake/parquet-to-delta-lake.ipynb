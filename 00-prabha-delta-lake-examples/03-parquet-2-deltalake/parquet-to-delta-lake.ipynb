{
 "cells": [
  {
   "cell_type": "markdown",
   "id": "fa23952e-1680-49f8-9968-3196f86156f4",
   "metadata": {},
   "source": [
    "# Convert Parquet to Delta Lake"
   ]
  },
  {
   "cell_type": "code",
   "execution_count": 7,
   "id": "fe4d7c2c-361b-4893-8be1-e2c78689ee6b",
   "metadata": {},
   "outputs": [],
   "source": [
    "import pyspark\n",
    "from delta import *"
   ]
  },
  {
   "cell_type": "code",
   "execution_count": 9,
   "id": "0f9ec9cc-743e-448d-a8b9-3ed4d17586aa",
   "metadata": {},
   "outputs": [],
   "source": [
    "builder = (\n",
    "    pyspark.sql.SparkSession.builder.appName(\"MyApp\")\n",
    "    .config(\"spark.sql.extensions\", \"io.delta.sql.DeltaSparkSessionExtension\")\n",
    "    .config(\n",
    "        \"spark.sql.catalog.spark_catalog\",\n",
    "        \"org.apache.spark.sql.delta.catalog.DeltaCatalog\",\n",
    "    )\n",
    ")"
   ]
  },
  {
   "cell_type": "code",
   "execution_count": 11,
   "id": "87047914-fe45-4d2f-a14e-21597ac08eda",
   "metadata": {},
   "outputs": [
    {
     "name": "stderr",
     "output_type": "stream",
     "text": [
      "24/12/24 15:16:48 WARN Utils: Your hostname, Prabhakaras-Mac-Book-Pro-2022.local resolves to a loopback address: 127.0.0.1; using 192.168.0.137 instead (on interface en0)\n",
      "24/12/24 15:16:48 WARN Utils: Set SPARK_LOCAL_IP if you need to bind to another address\n",
      "Ivy Default Cache set to: /Users/prabhakarapelluru/.ivy2/cache\n",
      "The jars for the packages stored in: /Users/prabhakarapelluru/.ivy2/jars\n",
      "io.delta#delta-spark_2.12 added as a dependency\n",
      ":: resolving dependencies :: org.apache.spark#spark-submit-parent-9046566e-f2f7-44cd-b449-ec471d94ab0d;1.0\n",
      "\tconfs: [default]\n",
      "\tfound io.delta#delta-spark_2.12;3.2.1 in central\n",
      "\tfound io.delta#delta-storage;3.2.1 in central\n",
      "\tfound org.antlr#antlr4-runtime;4.9.3 in central\n",
      ":: resolution report :: resolve 67ms :: artifacts dl 2ms\n",
      "\t:: modules in use:\n",
      "\tio.delta#delta-spark_2.12;3.2.1 from central in [default]\n",
      "\tio.delta#delta-storage;3.2.1 from central in [default]\n",
      "\torg.antlr#antlr4-runtime;4.9.3 from central in [default]\n",
      "\t---------------------------------------------------------------------\n",
      "\t|                  |            modules            ||   artifacts   |\n",
      "\t|       conf       | number| search|dwnlded|evicted|| number|dwnlded|\n",
      "\t---------------------------------------------------------------------\n",
      "\t|      default     |   3   |   0   |   0   |   0   ||   3   |   0   |\n",
      "\t---------------------------------------------------------------------\n",
      ":: retrieving :: org.apache.spark#spark-submit-parent-9046566e-f2f7-44cd-b449-ec471d94ab0d\n",
      "\tconfs: [default]\n",
      "\t0 artifacts copied, 3 already retrieved (0kB/2ms)\n"
     ]
    },
    {
     "name": "stdout",
     "output_type": "stream",
     "text": [
      ":: loading settings :: url = jar:file:/opt/anaconda3/lib/python3.12/site-packages/pyspark/jars/ivy-2.5.1.jar!/org/apache/ivy/core/settings/ivysettings.xml\n"
     ]
    },
    {
     "name": "stderr",
     "output_type": "stream",
     "text": [
      "24/12/24 15:16:49 WARN NativeCodeLoader: Unable to load native-hadoop library for your platform... using builtin-java classes where applicable\n",
      "Setting default log level to \"WARN\".\n",
      "To adjust logging level use sc.setLogLevel(newLevel). For SparkR, use setLogLevel(newLevel).\n",
      "24/12/24 15:16:49 WARN Utils: Service 'SparkUI' could not bind on port 4040. Attempting port 4041.\n",
      "24/12/24 15:16:49 WARN Utils: Service 'SparkUI' could not bind on port 4041. Attempting port 4042.\n",
      "24/12/24 15:16:49 WARN Utils: Service 'SparkUI' could not bind on port 4042. Attempting port 4043.\n",
      "24/12/24 15:16:49 WARN Utils: Service 'SparkUI' could not bind on port 4043. Attempting port 4044.\n",
      "24/12/24 15:16:49 WARN Utils: Service 'SparkUI' could not bind on port 4044. Attempting port 4045.\n",
      "24/12/24 15:16:49 WARN Utils: Service 'SparkUI' could not bind on port 4045. Attempting port 4046.\n"
     ]
    }
   ],
   "source": [
    "spark = configure_spark_with_delta_pip(builder).getOrCreate()"
   ]
  },
  {
   "cell_type": "code",
   "execution_count": 13,
   "id": "0dc93e18-48a8-48de-813e-b60febef7894",
   "metadata": {},
   "outputs": [
    {
     "name": "stderr",
     "output_type": "stream",
     "text": [
      "                                                                                \r"
     ]
    }
   ],
   "source": [
    "columns = [\"language\", \"num_speakers\"]\n",
    "data = [(\"English\", \"1.5\"), (\"Mandarin\", \"1.1\"), (\"Hindi\", \"0.6\")]\n",
    "rdd = spark.sparkContext.parallelize(data)\n",
    "df = rdd.toDF(columns)"
   ]
  },
  {
   "cell_type": "markdown",
   "id": "77cd3a01-7491-4088-83f4-23ba5b9b7a66",
   "metadata": {},
   "source": [
    "## Unpartitioned Parquet to Delta Lake"
   ]
  },
  {
   "cell_type": "code",
   "execution_count": 20,
   "id": "971d94db-c7fb-4670-ad72-a536c677f5dc",
   "metadata": {},
   "outputs": [
    {
     "ename": "AnalysisException",
     "evalue": "[PATH_ALREADY_EXISTS] Path file:/Users/prabhakarapelluru/prabhakara/data_science/code/04-datascience-spark-python-2024/00-prabha-delta-lake-examples/03-parquet-2-deltalake/data/lake1 already exists. Set mode as \"overwrite\" to overwrite the existing path.",
     "output_type": "error",
     "traceback": [
      "\u001b[0;31m---------------------------------------------------------------------------\u001b[0m",
      "\u001b[0;31mAnalysisException\u001b[0m                         Traceback (most recent call last)",
      "Cell \u001b[0;32mIn[20], line 1\u001b[0m\n\u001b[0;32m----> 1\u001b[0m df\u001b[38;5;241m.\u001b[39mwrite\u001b[38;5;241m.\u001b[39mformat(\u001b[38;5;124m\"\u001b[39m\u001b[38;5;124mparquet\u001b[39m\u001b[38;5;124m\"\u001b[39m)\u001b[38;5;241m.\u001b[39msave(\u001b[38;5;124m\"\u001b[39m\u001b[38;5;124mdata/lake1\u001b[39m\u001b[38;5;124m\"\u001b[39m)\n",
      "File \u001b[0;32m/opt/anaconda3/lib/python3.12/site-packages/pyspark/sql/readwriter.py:1463\u001b[0m, in \u001b[0;36mDataFrameWriter.save\u001b[0;34m(self, path, format, mode, partitionBy, **options)\u001b[0m\n\u001b[1;32m   1461\u001b[0m     \u001b[38;5;28mself\u001b[39m\u001b[38;5;241m.\u001b[39m_jwrite\u001b[38;5;241m.\u001b[39msave()\n\u001b[1;32m   1462\u001b[0m \u001b[38;5;28;01melse\u001b[39;00m:\n\u001b[0;32m-> 1463\u001b[0m     \u001b[38;5;28mself\u001b[39m\u001b[38;5;241m.\u001b[39m_jwrite\u001b[38;5;241m.\u001b[39msave(path)\n",
      "File \u001b[0;32m/opt/anaconda3/lib/python3.12/site-packages/py4j/java_gateway.py:1322\u001b[0m, in \u001b[0;36mJavaMember.__call__\u001b[0;34m(self, *args)\u001b[0m\n\u001b[1;32m   1316\u001b[0m command \u001b[38;5;241m=\u001b[39m proto\u001b[38;5;241m.\u001b[39mCALL_COMMAND_NAME \u001b[38;5;241m+\u001b[39m\\\n\u001b[1;32m   1317\u001b[0m     \u001b[38;5;28mself\u001b[39m\u001b[38;5;241m.\u001b[39mcommand_header \u001b[38;5;241m+\u001b[39m\\\n\u001b[1;32m   1318\u001b[0m     args_command \u001b[38;5;241m+\u001b[39m\\\n\u001b[1;32m   1319\u001b[0m     proto\u001b[38;5;241m.\u001b[39mEND_COMMAND_PART\n\u001b[1;32m   1321\u001b[0m answer \u001b[38;5;241m=\u001b[39m \u001b[38;5;28mself\u001b[39m\u001b[38;5;241m.\u001b[39mgateway_client\u001b[38;5;241m.\u001b[39msend_command(command)\n\u001b[0;32m-> 1322\u001b[0m return_value \u001b[38;5;241m=\u001b[39m get_return_value(\n\u001b[1;32m   1323\u001b[0m     answer, \u001b[38;5;28mself\u001b[39m\u001b[38;5;241m.\u001b[39mgateway_client, \u001b[38;5;28mself\u001b[39m\u001b[38;5;241m.\u001b[39mtarget_id, \u001b[38;5;28mself\u001b[39m\u001b[38;5;241m.\u001b[39mname)\n\u001b[1;32m   1325\u001b[0m \u001b[38;5;28;01mfor\u001b[39;00m temp_arg \u001b[38;5;129;01min\u001b[39;00m temp_args:\n\u001b[1;32m   1326\u001b[0m     \u001b[38;5;28;01mif\u001b[39;00m \u001b[38;5;28mhasattr\u001b[39m(temp_arg, \u001b[38;5;124m\"\u001b[39m\u001b[38;5;124m_detach\u001b[39m\u001b[38;5;124m\"\u001b[39m):\n",
      "File \u001b[0;32m/opt/anaconda3/lib/python3.12/site-packages/pyspark/errors/exceptions/captured.py:185\u001b[0m, in \u001b[0;36mcapture_sql_exception.<locals>.deco\u001b[0;34m(*a, **kw)\u001b[0m\n\u001b[1;32m    181\u001b[0m converted \u001b[38;5;241m=\u001b[39m convert_exception(e\u001b[38;5;241m.\u001b[39mjava_exception)\n\u001b[1;32m    182\u001b[0m \u001b[38;5;28;01mif\u001b[39;00m \u001b[38;5;129;01mnot\u001b[39;00m \u001b[38;5;28misinstance\u001b[39m(converted, UnknownException):\n\u001b[1;32m    183\u001b[0m     \u001b[38;5;66;03m# Hide where the exception came from that shows a non-Pythonic\u001b[39;00m\n\u001b[1;32m    184\u001b[0m     \u001b[38;5;66;03m# JVM exception message.\u001b[39;00m\n\u001b[0;32m--> 185\u001b[0m     \u001b[38;5;28;01mraise\u001b[39;00m converted \u001b[38;5;28;01mfrom\u001b[39;00m \u001b[38;5;28;01mNone\u001b[39;00m\n\u001b[1;32m    186\u001b[0m \u001b[38;5;28;01melse\u001b[39;00m:\n\u001b[1;32m    187\u001b[0m     \u001b[38;5;28;01mraise\u001b[39;00m\n",
      "\u001b[0;31mAnalysisException\u001b[0m: [PATH_ALREADY_EXISTS] Path file:/Users/prabhakarapelluru/prabhakara/data_science/code/04-datascience-spark-python-2024/00-prabha-delta-lake-examples/03-parquet-2-deltalake/data/lake1 already exists. Set mode as \"overwrite\" to overwrite the existing path."
     ]
    }
   ],
   "source": [
    "df.write.format(\"parquet\").save(\"data/lake1\")"
   ]
  },
  {
   "cell_type": "code",
   "execution_count": 22,
   "id": "3c534f75-61b9-4c3b-958d-1e650ec8af0c",
   "metadata": {},
   "outputs": [
    {
     "name": "stdout",
     "output_type": "stream",
     "text": [
      "\u001b[01;34mdata/lake1\u001b[0m\n",
      "├── \u001b[00m_SUCCESS\u001b[0m\n",
      "├── \u001b[00mpart-00000-1c8b5145-64bc-445f-86bd-fdca02cbe8d1-c000.snappy.parquet\u001b[0m\n",
      "├── \u001b[00mpart-00002-1c8b5145-64bc-445f-86bd-fdca02cbe8d1-c000.snappy.parquet\u001b[0m\n",
      "├── \u001b[00mpart-00005-1c8b5145-64bc-445f-86bd-fdca02cbe8d1-c000.snappy.parquet\u001b[0m\n",
      "└── \u001b[00mpart-00007-1c8b5145-64bc-445f-86bd-fdca02cbe8d1-c000.snappy.parquet\u001b[0m\n",
      "\n",
      "1 directory, 5 files\n"
     ]
    }
   ],
   "source": [
    "!tree data/lake1"
   ]
  },
  {
   "cell_type": "code",
   "execution_count": 24,
   "id": "edb9898a-dc4e-4a19-88da-9f8adcfc36d1",
   "metadata": {},
   "outputs": [
    {
     "name": "stderr",
     "output_type": "stream",
     "text": [
      "24/12/24 15:18:17 WARN SparkStringUtils: Truncated the string representation of a plan since it was too large. This behavior can be adjusted by setting 'spark.sql.debug.maxToStringFields'.\n"
     ]
    }
   ],
   "source": [
    "deltaTable = DeltaTable.convertToDelta(spark, \"parquet.`data/lake1`\")"
   ]
  },
  {
   "cell_type": "code",
   "execution_count": 28,
   "id": "660b1bcb-93a4-4ba5-8d24-2875d21d2c7f",
   "metadata": {},
   "outputs": [
    {
     "name": "stdout",
     "output_type": "stream",
     "text": [
      "\u001b[01;34mdata/lake1\u001b[0m\n",
      "├── \u001b[00m_SUCCESS\u001b[0m\n",
      "├── \u001b[01;34m_delta_log\u001b[0m\n",
      "│   ├── \u001b[00m00000000000000000000.checkpoint.parquet\u001b[0m\n",
      "│   ├── \u001b[00m00000000000000000000.json\u001b[0m\n",
      "│   ├── \u001b[01;34m_commits\u001b[0m\n",
      "│   └── \u001b[00m_last_checkpoint\u001b[0m\n",
      "├── \u001b[00mpart-00000-1c8b5145-64bc-445f-86bd-fdca02cbe8d1-c000.snappy.parquet\u001b[0m\n",
      "├── \u001b[00mpart-00002-1c8b5145-64bc-445f-86bd-fdca02cbe8d1-c000.snappy.parquet\u001b[0m\n",
      "├── \u001b[00mpart-00005-1c8b5145-64bc-445f-86bd-fdca02cbe8d1-c000.snappy.parquet\u001b[0m\n",
      "└── \u001b[00mpart-00007-1c8b5145-64bc-445f-86bd-fdca02cbe8d1-c000.snappy.parquet\u001b[0m\n",
      "\n",
      "3 directories, 8 files\n"
     ]
    }
   ],
   "source": [
    "!tree data/lake1"
   ]
  },
  {
   "cell_type": "markdown",
   "id": "dffa224e-f5ee-4035-bc27-a1c214576b46",
   "metadata": {},
   "source": [
    "## Partitioned Parquet to Delta Lake"
   ]
  },
  {
   "cell_type": "code",
   "execution_count": 30,
   "id": "bee10cf3-4869-43aa-b8f8-f0837a6f7ca5",
   "metadata": {},
   "outputs": [],
   "source": [
    "df.write.partitionBy(\"language\").format(\"parquet\").save(\"data/lake2\")"
   ]
  },
  {
   "cell_type": "code",
   "execution_count": 32,
   "id": "ff634c58-ebf0-491f-8820-c7cec0647371",
   "metadata": {},
   "outputs": [
    {
     "name": "stdout",
     "output_type": "stream",
     "text": [
      "\u001b[01;34mdata/lake2\u001b[0m\n",
      "├── \u001b[00m_SUCCESS\u001b[0m\n",
      "├── \u001b[01;34mlanguage=English\u001b[0m\n",
      "│   └── \u001b[00mpart-00002-6eb4d5fd-bb5e-49e0-b112-035555e1757b.c000.snappy.parquet\u001b[0m\n",
      "├── \u001b[01;34mlanguage=Hindi\u001b[0m\n",
      "│   └── \u001b[00mpart-00007-6eb4d5fd-bb5e-49e0-b112-035555e1757b.c000.snappy.parquet\u001b[0m\n",
      "└── \u001b[01;34mlanguage=Mandarin\u001b[0m\n",
      "    └── \u001b[00mpart-00005-6eb4d5fd-bb5e-49e0-b112-035555e1757b.c000.snappy.parquet\u001b[0m\n",
      "\n",
      "4 directories, 4 files\n"
     ]
    }
   ],
   "source": [
    "!tree data/lake2"
   ]
  },
  {
   "cell_type": "code",
   "execution_count": 34,
   "id": "cb8f725b-eed9-42f2-9d3b-8d53e6dfc45b",
   "metadata": {},
   "outputs": [
    {
     "ename": "AnalysisException",
     "evalue": "[DELTA_UNEXPECTED_NUM_PARTITION_COLUMNS_FROM_FILE_NAME] Expecting 0 partition column(s): [], but found 1 partition column(s): [`language`] from parsing the file name: file:/Users/prabhakarapelluru/prabhakara/data_science/code/04-datascience-spark-python-2024/00-prabha-delta-lake-examples/03-parquet-2-deltalake/data/lake2/language=English/part-00002-6eb4d5fd-bb5e-49e0-b112-035555e1757b.c000.snappy.parquet",
     "output_type": "error",
     "traceback": [
      "\u001b[0;31m---------------------------------------------------------------------------\u001b[0m",
      "\u001b[0;31mAnalysisException\u001b[0m                         Traceback (most recent call last)",
      "Cell \u001b[0;32mIn[34], line 1\u001b[0m\n\u001b[0;32m----> 1\u001b[0m deltaTable \u001b[38;5;241m=\u001b[39m DeltaTable\u001b[38;5;241m.\u001b[39mconvertToDelta(spark, \u001b[38;5;124m\"\u001b[39m\u001b[38;5;124mparquet.`data/lake2`\u001b[39m\u001b[38;5;124m\"\u001b[39m)\n",
      "File \u001b[0;32m/opt/anaconda3/lib/python3.12/site-packages/delta/tables.py:340\u001b[0m, in \u001b[0;36mDeltaTable.convertToDelta\u001b[0;34m(cls, sparkSession, identifier, partitionSchema)\u001b[0m\n\u001b[1;32m    337\u001b[0m jsparkSession: \u001b[38;5;124m\"\u001b[39m\u001b[38;5;124mJavaObject\u001b[39m\u001b[38;5;124m\"\u001b[39m \u001b[38;5;241m=\u001b[39m sparkSession\u001b[38;5;241m.\u001b[39m_jsparkSession  \u001b[38;5;66;03m# type: ignore[attr-defined]\u001b[39;00m\n\u001b[1;32m    339\u001b[0m \u001b[38;5;28;01mif\u001b[39;00m partitionSchema \u001b[38;5;129;01mis\u001b[39;00m \u001b[38;5;28;01mNone\u001b[39;00m:\n\u001b[0;32m--> 340\u001b[0m     jdt \u001b[38;5;241m=\u001b[39m jvm\u001b[38;5;241m.\u001b[39mio\u001b[38;5;241m.\u001b[39mdelta\u001b[38;5;241m.\u001b[39mtables\u001b[38;5;241m.\u001b[39mDeltaTable\u001b[38;5;241m.\u001b[39mconvertToDelta(\n\u001b[1;32m    341\u001b[0m         jsparkSession, identifier\n\u001b[1;32m    342\u001b[0m     )\n\u001b[1;32m    343\u001b[0m \u001b[38;5;28;01melse\u001b[39;00m:\n\u001b[1;32m    344\u001b[0m     \u001b[38;5;28;01mif\u001b[39;00m \u001b[38;5;129;01mnot\u001b[39;00m \u001b[38;5;28misinstance\u001b[39m(partitionSchema, \u001b[38;5;28mstr\u001b[39m):\n",
      "File \u001b[0;32m/opt/anaconda3/lib/python3.12/site-packages/py4j/java_gateway.py:1322\u001b[0m, in \u001b[0;36mJavaMember.__call__\u001b[0;34m(self, *args)\u001b[0m\n\u001b[1;32m   1316\u001b[0m command \u001b[38;5;241m=\u001b[39m proto\u001b[38;5;241m.\u001b[39mCALL_COMMAND_NAME \u001b[38;5;241m+\u001b[39m\\\n\u001b[1;32m   1317\u001b[0m     \u001b[38;5;28mself\u001b[39m\u001b[38;5;241m.\u001b[39mcommand_header \u001b[38;5;241m+\u001b[39m\\\n\u001b[1;32m   1318\u001b[0m     args_command \u001b[38;5;241m+\u001b[39m\\\n\u001b[1;32m   1319\u001b[0m     proto\u001b[38;5;241m.\u001b[39mEND_COMMAND_PART\n\u001b[1;32m   1321\u001b[0m answer \u001b[38;5;241m=\u001b[39m \u001b[38;5;28mself\u001b[39m\u001b[38;5;241m.\u001b[39mgateway_client\u001b[38;5;241m.\u001b[39msend_command(command)\n\u001b[0;32m-> 1322\u001b[0m return_value \u001b[38;5;241m=\u001b[39m get_return_value(\n\u001b[1;32m   1323\u001b[0m     answer, \u001b[38;5;28mself\u001b[39m\u001b[38;5;241m.\u001b[39mgateway_client, \u001b[38;5;28mself\u001b[39m\u001b[38;5;241m.\u001b[39mtarget_id, \u001b[38;5;28mself\u001b[39m\u001b[38;5;241m.\u001b[39mname)\n\u001b[1;32m   1325\u001b[0m \u001b[38;5;28;01mfor\u001b[39;00m temp_arg \u001b[38;5;129;01min\u001b[39;00m temp_args:\n\u001b[1;32m   1326\u001b[0m     \u001b[38;5;28;01mif\u001b[39;00m \u001b[38;5;28mhasattr\u001b[39m(temp_arg, \u001b[38;5;124m\"\u001b[39m\u001b[38;5;124m_detach\u001b[39m\u001b[38;5;124m\"\u001b[39m):\n",
      "File \u001b[0;32m/opt/anaconda3/lib/python3.12/site-packages/pyspark/errors/exceptions/captured.py:185\u001b[0m, in \u001b[0;36mcapture_sql_exception.<locals>.deco\u001b[0;34m(*a, **kw)\u001b[0m\n\u001b[1;32m    181\u001b[0m converted \u001b[38;5;241m=\u001b[39m convert_exception(e\u001b[38;5;241m.\u001b[39mjava_exception)\n\u001b[1;32m    182\u001b[0m \u001b[38;5;28;01mif\u001b[39;00m \u001b[38;5;129;01mnot\u001b[39;00m \u001b[38;5;28misinstance\u001b[39m(converted, UnknownException):\n\u001b[1;32m    183\u001b[0m     \u001b[38;5;66;03m# Hide where the exception came from that shows a non-Pythonic\u001b[39;00m\n\u001b[1;32m    184\u001b[0m     \u001b[38;5;66;03m# JVM exception message.\u001b[39;00m\n\u001b[0;32m--> 185\u001b[0m     \u001b[38;5;28;01mraise\u001b[39;00m converted \u001b[38;5;28;01mfrom\u001b[39;00m \u001b[38;5;28;01mNone\u001b[39;00m\n\u001b[1;32m    186\u001b[0m \u001b[38;5;28;01melse\u001b[39;00m:\n\u001b[1;32m    187\u001b[0m     \u001b[38;5;28;01mraise\u001b[39;00m\n",
      "\u001b[0;31mAnalysisException\u001b[0m: [DELTA_UNEXPECTED_NUM_PARTITION_COLUMNS_FROM_FILE_NAME] Expecting 0 partition column(s): [], but found 1 partition column(s): [`language`] from parsing the file name: file:/Users/prabhakarapelluru/prabhakara/data_science/code/04-datascience-spark-python-2024/00-prabha-delta-lake-examples/03-parquet-2-deltalake/data/lake2/language=English/part-00002-6eb4d5fd-bb5e-49e0-b112-035555e1757b.c000.snappy.parquet"
     ]
    }
   ],
   "source": [
    "deltaTable = DeltaTable.convertToDelta(spark, \"parquet.`data/lake2`\")"
   ]
  },
  {
   "cell_type": "code",
   "execution_count": 36,
   "id": "a0d2e3e8-d0aa-41d4-89db-d62ad9140122",
   "metadata": {},
   "outputs": [
    {
     "name": "stdout",
     "output_type": "stream",
     "text": [
      "\u001b[01;34mdata/lake2\u001b[0m\n",
      "├── \u001b[00m_SUCCESS\u001b[0m\n",
      "├── \u001b[01;34m_delta_log\u001b[0m\n",
      "│   └── \u001b[01;34m_commits\u001b[0m\n",
      "├── \u001b[01;34mlanguage=English\u001b[0m\n",
      "│   └── \u001b[00mpart-00002-6eb4d5fd-bb5e-49e0-b112-035555e1757b.c000.snappy.parquet\u001b[0m\n",
      "├── \u001b[01;34mlanguage=Hindi\u001b[0m\n",
      "│   └── \u001b[00mpart-00007-6eb4d5fd-bb5e-49e0-b112-035555e1757b.c000.snappy.parquet\u001b[0m\n",
      "└── \u001b[01;34mlanguage=Mandarin\u001b[0m\n",
      "    └── \u001b[00mpart-00005-6eb4d5fd-bb5e-49e0-b112-035555e1757b.c000.snappy.parquet\u001b[0m\n",
      "\n",
      "6 directories, 4 files\n"
     ]
    }
   ],
   "source": [
    "!tree data/lake2"
   ]
  },
  {
   "cell_type": "code",
   "execution_count": null,
   "id": "78b755ce-11ad-4d63-8a51-0fe63bfae619",
   "metadata": {},
   "outputs": [],
   "source": [
    "deltaTable = DeltaTable.convertToDelta(spark, \"parquet.`data/lake2`\", \"language STRING\")"
   ]
  },
  {
   "cell_type": "code",
   "execution_count": 50,
   "id": "ed58d5f7-f130-4e4c-8165-b194aedeb4de",
   "metadata": {},
   "outputs": [
    {
     "name": "stdout",
     "output_type": "stream",
     "text": [
      "\u001b[01;34mtmp/lake2\u001b[0m\n",
      "├── \u001b[00m_SUCCESS\u001b[0m\n",
      "├── \u001b[01;34m_delta_log\u001b[0m\n",
      "│   ├── \u001b[00m00000000000000000000.checkpoint.parquet\u001b[0m\n",
      "│   ├── \u001b[00m00000000000000000000.json\u001b[0m\n",
      "│   └── \u001b[00m_last_checkpoint\u001b[0m\n",
      "├── \u001b[01;34mlanguage=English\u001b[0m\n",
      "│   └── \u001b[00mpart-00003-fa662100-1eff-4609-a0dd-794b5eec991a.c000.snappy.parquet\u001b[0m\n",
      "├── \u001b[01;34mlanguage=Hindi\u001b[0m\n",
      "│   └── \u001b[00mpart-00009-fa662100-1eff-4609-a0dd-794b5eec991a.c000.snappy.parquet\u001b[0m\n",
      "└── \u001b[01;34mlanguage=Mandarin\u001b[0m\n",
      "    └── \u001b[00mpart-00006-fa662100-1eff-4609-a0dd-794b5eec991a.c000.snappy.parquet\u001b[0m\n",
      "\n",
      "4 directories, 7 files\n"
     ]
    }
   ],
   "source": [
    "!tree tmp/lake2"
   ]
  },
  {
   "cell_type": "markdown",
   "id": "b6ce281a-8cbc-40bf-9c73-8107aca0d40c",
   "metadata": {},
   "source": [
    "## Convert Parquet Lake with Multiple Appends"
   ]
  },
  {
   "cell_type": "code",
   "execution_count": null,
   "id": "9c04c720-6683-4adf-b166-2e0ef88f68c8",
   "metadata": {},
   "outputs": [],
   "source": [
    "df.write.format(\"parquet\").save(\"data/lake3\")"
   ]
  },
  {
   "cell_type": "code",
   "execution_count": 51,
   "id": "2e46e246-5cbf-4933-ae42-5f4f95c72a3a",
   "metadata": {},
   "outputs": [],
   "source": [
    "columns = [\"language\", \"num_speakers\"]\n",
    "data = [(\"Spanish\", \"0.5\"), (\"French\", \"0.3\"), (\"Arabic\", \"0.3\")]\n",
    "rdd = spark.sparkContext.parallelize(data)\n",
    "df = rdd.toDF(columns)"
   ]
  },
  {
   "cell_type": "code",
   "execution_count": 52,
   "id": "e41489c6-fd47-4d8f-8fe2-4a7dd17b4794",
   "metadata": {},
   "outputs": [
    {
     "name": "stderr",
     "output_type": "stream",
     "text": [
      "                                                                                \r"
     ]
    }
   ],
   "source": [
    "df.write.mode(\"append\").format(\"parquet\").save(\"data/lake3\")"
   ]
  },
  {
   "cell_type": "code",
   "execution_count": 53,
   "id": "5c9939f4-c355-4c73-8d75-067bbad771ac",
   "metadata": {},
   "outputs": [
    {
     "name": "stderr",
     "output_type": "stream",
     "text": [
      "                                                                                \r"
     ]
    }
   ],
   "source": [
    "deltaTable = DeltaTable.convertToDelta(spark, \"parquet.`data/lake3`\")"
   ]
  },
  {
   "cell_type": "code",
   "execution_count": 56,
   "id": "0ba394c7-62f6-407c-8911-457dc3c20ccf",
   "metadata": {},
   "outputs": [
    {
     "ename": "AttributeError",
     "evalue": "'DeltaTable' object has no attribute 'version'",
     "output_type": "error",
     "traceback": [
      "\u001b[0;31m---------------------------------------------------------------------------\u001b[0m",
      "\u001b[0;31mAttributeError\u001b[0m                            Traceback (most recent call last)",
      "Input \u001b[0;32mIn [56]\u001b[0m, in \u001b[0;36m<cell line: 1>\u001b[0;34m()\u001b[0m\n\u001b[0;32m----> 1\u001b[0m \u001b[43mdeltaTable\u001b[49m\u001b[38;5;241;43m.\u001b[39;49m\u001b[43mversion\u001b[49m(\u001b[38;5;241m0\u001b[39m)\u001b[38;5;241m.\u001b[39mshow()\n",
      "\u001b[0;31mAttributeError\u001b[0m: 'DeltaTable' object has no attribute 'version'"
     ]
    }
   ],
   "source": [
    "deltaTable.version(0).show()"
   ]
  },
  {
   "cell_type": "markdown",
   "id": "6927b278-dbc2-47e7-a3fd-c57152ae4f73",
   "metadata": {},
   "source": [
    "## Convert Parquet Lake no statistics"
   ]
  },
  {
   "cell_type": "code",
   "execution_count": 16,
   "id": "841b4c40-6d5b-4ea6-9905-a0db3c4f7be6",
   "metadata": {},
   "outputs": [],
   "source": [
    "df.write.format(\"parquet\").saveAsTable(\"lake4\")"
   ]
  },
  {
   "cell_type": "code",
   "execution_count": 20,
   "id": "0a3355ac-a2ac-4ed4-af9b-c5304d5a43a6",
   "metadata": {},
   "outputs": [
    {
     "ename": "ParseException",
     "evalue": "\nSyntax error at or near 'CONVERT'(line 1, pos 0)\n\n== SQL ==\nCONVERT TO DELTA lake4 NO STATISTICS\n^^^\n",
     "output_type": "error",
     "traceback": [
      "\u001b[0;31m---------------------------------------------------------------------------\u001b[0m",
      "\u001b[0;31mParseException\u001b[0m                            Traceback (most recent call last)",
      "Input \u001b[0;32mIn [20]\u001b[0m, in \u001b[0;36m<cell line: 1>\u001b[0;34m()\u001b[0m\n\u001b[0;32m----> 1\u001b[0m \u001b[43mspark\u001b[49m\u001b[38;5;241;43m.\u001b[39;49m\u001b[43msql\u001b[49m\u001b[43m(\u001b[49m\u001b[38;5;124;43m\"\u001b[39;49m\u001b[38;5;124;43mCONVERT TO DELTA lake4 NO STATISTICS\u001b[39;49m\u001b[38;5;124;43m\"\u001b[39;49m\u001b[43m)\u001b[49m\n",
      "File \u001b[0;32m~/opt/miniconda3/envs/pyspark-330-delta-210/lib/python3.9/site-packages/pyspark/sql/session.py:1034\u001b[0m, in \u001b[0;36mSparkSession.sql\u001b[0;34m(self, sqlQuery, **kwargs)\u001b[0m\n\u001b[1;32m   1032\u001b[0m     sqlQuery \u001b[38;5;241m=\u001b[39m formatter\u001b[38;5;241m.\u001b[39mformat(sqlQuery, \u001b[38;5;241m*\u001b[39m\u001b[38;5;241m*\u001b[39mkwargs)\n\u001b[1;32m   1033\u001b[0m \u001b[38;5;28;01mtry\u001b[39;00m:\n\u001b[0;32m-> 1034\u001b[0m     \u001b[38;5;28;01mreturn\u001b[39;00m DataFrame(\u001b[38;5;28;43mself\u001b[39;49m\u001b[38;5;241;43m.\u001b[39;49m\u001b[43m_jsparkSession\u001b[49m\u001b[38;5;241;43m.\u001b[39;49m\u001b[43msql\u001b[49m\u001b[43m(\u001b[49m\u001b[43msqlQuery\u001b[49m\u001b[43m)\u001b[49m, \u001b[38;5;28mself\u001b[39m)\n\u001b[1;32m   1035\u001b[0m \u001b[38;5;28;01mfinally\u001b[39;00m:\n\u001b[1;32m   1036\u001b[0m     \u001b[38;5;28;01mif\u001b[39;00m \u001b[38;5;28mlen\u001b[39m(kwargs) \u001b[38;5;241m>\u001b[39m \u001b[38;5;241m0\u001b[39m:\n",
      "File \u001b[0;32m~/opt/miniconda3/envs/pyspark-330-delta-210/lib/python3.9/site-packages/py4j/java_gateway.py:1321\u001b[0m, in \u001b[0;36mJavaMember.__call__\u001b[0;34m(self, *args)\u001b[0m\n\u001b[1;32m   1315\u001b[0m command \u001b[38;5;241m=\u001b[39m proto\u001b[38;5;241m.\u001b[39mCALL_COMMAND_NAME \u001b[38;5;241m+\u001b[39m\\\n\u001b[1;32m   1316\u001b[0m     \u001b[38;5;28mself\u001b[39m\u001b[38;5;241m.\u001b[39mcommand_header \u001b[38;5;241m+\u001b[39m\\\n\u001b[1;32m   1317\u001b[0m     args_command \u001b[38;5;241m+\u001b[39m\\\n\u001b[1;32m   1318\u001b[0m     proto\u001b[38;5;241m.\u001b[39mEND_COMMAND_PART\n\u001b[1;32m   1320\u001b[0m answer \u001b[38;5;241m=\u001b[39m \u001b[38;5;28mself\u001b[39m\u001b[38;5;241m.\u001b[39mgateway_client\u001b[38;5;241m.\u001b[39msend_command(command)\n\u001b[0;32m-> 1321\u001b[0m return_value \u001b[38;5;241m=\u001b[39m \u001b[43mget_return_value\u001b[49m\u001b[43m(\u001b[49m\n\u001b[1;32m   1322\u001b[0m \u001b[43m    \u001b[49m\u001b[43manswer\u001b[49m\u001b[43m,\u001b[49m\u001b[43m \u001b[49m\u001b[38;5;28;43mself\u001b[39;49m\u001b[38;5;241;43m.\u001b[39;49m\u001b[43mgateway_client\u001b[49m\u001b[43m,\u001b[49m\u001b[43m \u001b[49m\u001b[38;5;28;43mself\u001b[39;49m\u001b[38;5;241;43m.\u001b[39;49m\u001b[43mtarget_id\u001b[49m\u001b[43m,\u001b[49m\u001b[43m \u001b[49m\u001b[38;5;28;43mself\u001b[39;49m\u001b[38;5;241;43m.\u001b[39;49m\u001b[43mname\u001b[49m\u001b[43m)\u001b[49m\n\u001b[1;32m   1324\u001b[0m \u001b[38;5;28;01mfor\u001b[39;00m temp_arg \u001b[38;5;129;01min\u001b[39;00m temp_args:\n\u001b[1;32m   1325\u001b[0m     temp_arg\u001b[38;5;241m.\u001b[39m_detach()\n",
      "File \u001b[0;32m~/opt/miniconda3/envs/pyspark-330-delta-210/lib/python3.9/site-packages/pyspark/sql/utils.py:196\u001b[0m, in \u001b[0;36mcapture_sql_exception.<locals>.deco\u001b[0;34m(*a, **kw)\u001b[0m\n\u001b[1;32m    192\u001b[0m converted \u001b[38;5;241m=\u001b[39m convert_exception(e\u001b[38;5;241m.\u001b[39mjava_exception)\n\u001b[1;32m    193\u001b[0m \u001b[38;5;28;01mif\u001b[39;00m \u001b[38;5;129;01mnot\u001b[39;00m \u001b[38;5;28misinstance\u001b[39m(converted, UnknownException):\n\u001b[1;32m    194\u001b[0m     \u001b[38;5;66;03m# Hide where the exception came from that shows a non-Pythonic\u001b[39;00m\n\u001b[1;32m    195\u001b[0m     \u001b[38;5;66;03m# JVM exception message.\u001b[39;00m\n\u001b[0;32m--> 196\u001b[0m     \u001b[38;5;28;01mraise\u001b[39;00m converted \u001b[38;5;28;01mfrom\u001b[39;00m \u001b[38;5;28mNone\u001b[39m\n\u001b[1;32m    197\u001b[0m \u001b[38;5;28;01melse\u001b[39;00m:\n\u001b[1;32m    198\u001b[0m     \u001b[38;5;28;01mraise\u001b[39;00m\n",
      "\u001b[0;31mParseException\u001b[0m: \nSyntax error at or near 'CONVERT'(line 1, pos 0)\n\n== SQL ==\nCONVERT TO DELTA lake4 NO STATISTICS\n^^^\n"
     ]
    },
    {
     "name": "stderr",
     "output_type": "stream",
     "text": [
      "----------------------------------------\n",
      "Exception occurred during processing of request from ('127.0.0.1', 52063)\n",
      "Traceback (most recent call last):\n",
      "  File \"/Users/matthew.powers/opt/miniconda3/envs/pyspark-330-delta-210/lib/python3.9/socketserver.py\", line 316, in _handle_request_noblock\n",
      "    self.process_request(request, client_address)\n",
      "  File \"/Users/matthew.powers/opt/miniconda3/envs/pyspark-330-delta-210/lib/python3.9/socketserver.py\", line 347, in process_request\n",
      "    self.finish_request(request, client_address)\n",
      "  File \"/Users/matthew.powers/opt/miniconda3/envs/pyspark-330-delta-210/lib/python3.9/socketserver.py\", line 360, in finish_request\n",
      "    self.RequestHandlerClass(request, client_address, self)\n",
      "  File \"/Users/matthew.powers/opt/miniconda3/envs/pyspark-330-delta-210/lib/python3.9/socketserver.py\", line 747, in __init__\n",
      "    self.handle()\n",
      "  File \"/Users/matthew.powers/opt/miniconda3/envs/pyspark-330-delta-210/lib/python3.9/site-packages/pyspark/accumulators.py\", line 281, in handle\n",
      "    poll(accum_updates)\n",
      "  File \"/Users/matthew.powers/opt/miniconda3/envs/pyspark-330-delta-210/lib/python3.9/site-packages/pyspark/accumulators.py\", line 253, in poll\n",
      "    if func():\n",
      "  File \"/Users/matthew.powers/opt/miniconda3/envs/pyspark-330-delta-210/lib/python3.9/site-packages/pyspark/accumulators.py\", line 257, in accum_updates\n",
      "    num_updates = read_int(self.rfile)\n",
      "  File \"/Users/matthew.powers/opt/miniconda3/envs/pyspark-330-delta-210/lib/python3.9/site-packages/pyspark/serializers.py\", line 595, in read_int\n",
      "    raise EOFError\n",
      "EOFError\n",
      "----------------------------------------\n"
     ]
    }
   ],
   "source": [
    "spark.sql(\"CONVERT TO DELTA lake4 NO STATISTICS\")"
   ]
  },
  {
   "cell_type": "markdown",
   "id": "5698e34e-7915-4df7-b216-a98a83156e63",
   "metadata": {},
   "source": [
    "## Cleanup"
   ]
  },
  {
   "cell_type": "code",
   "execution_count": 15,
   "id": "d9064fa0-8d9b-4c0d-8984-71e4b3cc4a65",
   "metadata": {},
   "outputs": [],
   "source": []
  },
  {
   "cell_type": "code",
   "execution_count": null,
   "id": "c87c4322-0f76-4ccc-a9f4-57409f2cbe9b",
   "metadata": {},
   "outputs": [],
   "source": []
  }
 ],
 "metadata": {
  "kernelspec": {
   "display_name": "Python 3 (ipykernel)",
   "language": "python",
   "name": "python3"
  },
  "language_info": {
   "codemirror_mode": {
    "name": "ipython",
    "version": 3
   },
   "file_extension": ".py",
   "mimetype": "text/x-python",
   "name": "python",
   "nbconvert_exporter": "python",
   "pygments_lexer": "ipython3",
   "version": "3.12.7"
  }
 },
 "nbformat": 4,
 "nbformat_minor": 5
}
