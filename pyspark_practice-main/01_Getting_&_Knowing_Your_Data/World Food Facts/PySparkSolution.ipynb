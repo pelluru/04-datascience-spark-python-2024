{
 "cells": [
  {
   "cell_type": "markdown",
   "metadata": {},
   "source": [
    "# Exercise 1"
   ]
  },
  {
   "cell_type": "code",
   "execution_count": 1,
   "metadata": {},
   "outputs": [
    {
     "data": {
      "text/html": [
       "\n",
       "            <div>\n",
       "                <p><b>SparkSession - in-memory</b></p>\n",
       "                \n",
       "        <div>\n",
       "            <p><b>SparkContext</b></p>\n",
       "\n",
       "            <p><a href=\"http://192.168.1.20:4040\">Spark UI</a></p>\n",
       "\n",
       "            <dl>\n",
       "              <dt>Version</dt>\n",
       "                <dd><code>v3.1.2</code></dd>\n",
       "              <dt>Master</dt>\n",
       "                <dd><code>local[*]</code></dd>\n",
       "              <dt>AppName</dt>\n",
       "                <dd><code>ex1</code></dd>\n",
       "            </dl>\n",
       "        </div>\n",
       "        \n",
       "            </div>\n",
       "        "
      ],
      "text/plain": [
       "<pyspark.sql.session.SparkSession at 0x10abb7e20>"
      ]
     },
     "execution_count": 1,
     "metadata": {},
     "output_type": "execute_result"
    }
   ],
   "source": [
    "import pyspark\n",
    "from pyspark.sql import SparkSession\n",
    "spark = SparkSession.builder.appName('ex1').getOrCreate()\n",
    "spark"
   ]
  },
  {
   "cell_type": "markdown",
   "metadata": {},
   "source": [
    "### Step 1. Go to https://www.kaggle.com/openfoodfacts/world-food-facts/data"
   ]
  },
  {
   "cell_type": "markdown",
   "metadata": {},
   "source": [
    "### Step 2. Download the dataset to your computer and unzip it."
   ]
  },
  {
   "cell_type": "markdown",
   "metadata": {},
   "source": [
    "### Step 3. Use the tsv file and assign it to a dataframe called food"
   ]
  },
  {
   "cell_type": "code",
   "execution_count": 3,
   "metadata": {},
   "outputs": [],
   "source": [
    "food = spark.read.csv('en.openfoodfacts.org.products.tsv',header=True, inferSchema=True, sep='\\t')"
   ]
  },
  {
   "cell_type": "markdown",
   "metadata": {},
   "source": [
    "### Step 4. See the first 5 entries"
   ]
  },
  {
   "cell_type": "code",
   "execution_count": 4,
   "metadata": {},
   "outputs": [
    {
     "data": {
      "text/plain": [
       "[Row(code=3087.0, url='http://world-en.openfoodfacts.org/product/0000000003087/farine-de-ble-noir-ferme-t-y-r-nao', creator='openfoodfacts-contributors', created_t='1474103866', created_datetime='2016-09-17T09:17:46Z', last_modified_t='1474103893', last_modified_datetime='2016-09-17T09:18:13Z', product_name='Farine de blé noir', generic_name=None, quantity='1kg', packaging=None, packaging_tags=None, brands=\"Ferme t'y R'nao\", brands_tags='ferme-t-y-r-nao', categories=None, categories_tags=None, categories_en=None, origins=None, origins_tags=None, manufacturing_places=None, manufacturing_places_tags=None, labels=None, labels_tags=None, labels_en=None, emb_codes=None, emb_codes_tags=None, first_packaging_code_geo=None, cities=None, cities_tags=None, purchase_places=None, stores=None, countries='en:FR', countries_tags='en:france', countries_en='France', ingredients_text=None, allergens=None, allergens_en=None, traces=None, traces_tags=None, traces_en=None, serving_size=None, no_nutriments=None, additives_n=None, additives=None, additives_tags=None, additives_en=None, ingredients_from_palm_oil_n=None, ingredients_from_palm_oil=None, ingredients_from_palm_oil_tags=None, ingredients_that_may_be_from_palm_oil_n=None, ingredients_that_may_be_from_palm_oil=None, ingredients_that_may_be_from_palm_oil_tags=None, nutrition_grade_uk=None, nutrition_grade_fr=None, pnns_groups_1=None, pnns_groups_2=None, states='en:to-be-completed, en:nutrition-facts-to-be-completed, en:ingredients-to-be-completed, en:expiration-date-to-be-completed, en:characteristics-to-be-completed, en:categories-to-be-completed, en:brands-completed, en:packaging-to-be-completed, en:quantity-completed, en:product-name-completed, en:photos-to-be-validated, en:photos-uploaded', states_tags='en:to-be-completed,en:nutrition-facts-to-be-completed,en:ingredients-to-be-completed,en:expiration-date-to-be-completed,en:characteristics-to-be-completed,en:categories-to-be-completed,en:brands-completed,en:packaging-to-be-completed,en:quantity-completed,en:product-name-completed,en:photos-to-be-validated,en:photos-uploaded', states_en='To be completed,Nutrition facts to be completed,Ingredients to be completed,Expiration date to be completed,Characteristics to be completed,Categories to be completed,Brands completed,Packaging to be completed,Quantity completed,Product name completed,Photos to be validated,Photos uploaded', main_category=None, main_category_en=None, image_url=None, image_small_url=None, energy_100g=None, energy-from-fat_100g=None, fat_100g=None, saturated-fat_100g=None, -butyric-acid_100g=None, -caproic-acid_100g=None, -caprylic-acid_100g=None, -capric-acid_100g=None, -lauric-acid_100g=None, -myristic-acid_100g=None, -palmitic-acid_100g=None, -stearic-acid_100g=None, -arachidic-acid_100g=None, -behenic-acid_100g=None, -lignoceric-acid_100g=None, -cerotic-acid_100g=None, -montanic-acid_100g=None, -melissic-acid_100g=None, monounsaturated-fat_100g=None, polyunsaturated-fat_100g=None, omega-3-fat_100g=None, -alpha-linolenic-acid_100g=None, -eicosapentaenoic-acid_100g=None, -docosahexaenoic-acid_100g=None, omega-6-fat_100g=None, -linoleic-acid_100g=None, -arachidonic-acid_100g=None, -gamma-linolenic-acid_100g=None, -dihomo-gamma-linolenic-acid_100g=None, omega-9-fat_100g=None, -oleic-acid_100g=None, -elaidic-acid_100g=None, -gondoic-acid_100g=None, -mead-acid_100g=None, -erucic-acid_100g=None, -nervonic-acid_100g=None, trans-fat_100g=None, cholesterol_100g=None, carbohydrates_100g=None, sugars_100g=None, -sucrose_100g=None, -glucose_100g=None, -fructose_100g=None, -lactose_100g=None, -maltose_100g=None, -maltodextrins_100g=None, starch_100g=None, polyols_100g=None, fiber_100g=None, proteins_100g=None, casein_100g=None, serum-proteins_100g=None, nucleotides_100g=None, salt_100g=None, sodium_100g=None, alcohol_100g=None, vitamin-a_100g=None, beta-carotene_100g=None, vitamin-d_100g=None, vitamin-e_100g=None, vitamin-k_100g=None, vitamin-c_100g=None, vitamin-b1_100g=None, vitamin-b2_100g=None, vitamin-pp_100g=None, vitamin-b6_100g=None, vitamin-b9_100g=None, folates_100g=None, vitamin-b12_100g=None, biotin_100g=None, pantothenic-acid_100g=None, silica_100g=None, bicarbonate_100g=None, potassium_100g=None, chloride_100g=None, calcium_100g=None, phosphorus_100g=None, iron_100g=None, magnesium_100g=None, zinc_100g=None, copper_100g=None, manganese_100g=None, fluoride_100g=None, selenium_100g=None, chromium_100g=None, molybdenum_100g=None, iodine_100g=None, caffeine_100g=None, taurine_100g=None, ph_100g=None, fruits-vegetables-nuts_100g=None, fruits-vegetables-nuts-estimate_100g=None, collagen-meat-protein-ratio_100g=None, cocoa_100g=None, chlorophyl_100g=None, carbon-footprint_100g=None, nutrition-score-fr_100g=None, nutrition-score-uk_100g=None, glycemic-index_100g=None, water-hardness_100g=None),\n",
       " Row(code=4530.0, url='http://world-en.openfoodfacts.org/product/0000000004530/banana-chips-sweetened-whole', creator='usda-ndb-import', created_t='1489069957', created_datetime='2017-03-09T14:32:37Z', last_modified_t='1489069957', last_modified_datetime='2017-03-09T14:32:37Z', product_name='Banana Chips Sweetened (Whole)', generic_name=None, quantity=None, packaging=None, packaging_tags=None, brands=None, brands_tags=None, categories=None, categories_tags=None, categories_en=None, origins=None, origins_tags=None, manufacturing_places=None, manufacturing_places_tags=None, labels=None, labels_tags=None, labels_en=None, emb_codes=None, emb_codes_tags=None, first_packaging_code_geo=None, cities=None, cities_tags=None, purchase_places=None, stores=None, countries='US', countries_tags='en:united-states', countries_en='United States', ingredients_text='Bananas, vegetable oil (coconut oil, corn oil and/or palm oil) sugar, natural banana flavor.', allergens=None, allergens_en=None, traces=None, traces_tags=None, traces_en=None, serving_size='28 g (1 ONZ)', no_nutriments=None, additives_n=0, additives=' [ bananas -> en:bananas  ]  [ vegetable-oil -> en:vegetable-oil  ]  [ oil -> en:oil  ]  [ coconut-oil -> en:coconut-oil  ]  [ oil -> en:oil  ]  [ corn-oil-and-or-palm-oil-sugar -> en:corn-oil-and-or-palm-oil-sugar  ]  [ oil-and-or-palm-oil-sugar -> en:oil-and-or-palm-oil-sugar  ]  [ and-or-palm-oil-sugar -> en:and-or-palm-oil-sugar  ]  [ or-palm-oil-sugar -> en:or-palm-oil-sugar  ]  [ palm-oil-sugar -> en:palm-oil-sugar  ]  [ oil-sugar -> en:oil-sugar  ]  [ sugar -> en:sugar  ]  [ natural-banana-flavor -> en:natural-banana-flavor  ]  [ banana-flavor -> en:banana-flavor  ]  [ flavor -> en:flavor  ] ', additives_tags=None, additives_en=None, ingredients_from_palm_oil_n=0, ingredients_from_palm_oil=None, ingredients_from_palm_oil_tags=None, ingredients_that_may_be_from_palm_oil_n=0, ingredients_that_may_be_from_palm_oil=None, ingredients_that_may_be_from_palm_oil_tags=None, nutrition_grade_uk=None, nutrition_grade_fr='d', pnns_groups_1=None, pnns_groups_2=None, states='en:to-be-completed, en:nutrition-facts-completed, en:ingredients-completed, en:expiration-date-to-be-completed, en:packaging-code-to-be-completed, en:characteristics-to-be-completed, en:categories-to-be-completed, en:brands-to-be-completed, en:packaging-to-be-completed, en:quantity-to-be-completed, en:product-name-completed, en:photos-to-be-uploaded', states_tags='en:to-be-completed,en:nutrition-facts-completed,en:ingredients-completed,en:expiration-date-to-be-completed,en:packaging-code-to-be-completed,en:characteristics-to-be-completed,en:categories-to-be-completed,en:brands-to-be-completed,en:packaging-to-be-completed,en:quantity-to-be-completed,en:product-name-completed,en:photos-to-be-uploaded', states_en='To be completed,Nutrition facts completed,Ingredients completed,Expiration date to be completed,Packaging-code-to-be-completed,Characteristics to be completed,Categories to be completed,Brands to be completed,Packaging to be completed,Quantity to be completed,Product name completed,Photos to be uploaded', main_category=None, main_category_en=None, image_url=None, image_small_url=None, energy_100g=2243.0, energy-from-fat_100g=None, fat_100g=28.57, saturated-fat_100g=28.57, -butyric-acid_100g=None, -caproic-acid_100g=None, -caprylic-acid_100g=None, -capric-acid_100g=None, -lauric-acid_100g=None, -myristic-acid_100g=None, -palmitic-acid_100g=None, -stearic-acid_100g=None, -arachidic-acid_100g=None, -behenic-acid_100g=None, -lignoceric-acid_100g=None, -cerotic-acid_100g=None, -montanic-acid_100g=None, -melissic-acid_100g=None, monounsaturated-fat_100g=None, polyunsaturated-fat_100g=None, omega-3-fat_100g=None, -alpha-linolenic-acid_100g=None, -eicosapentaenoic-acid_100g=None, -docosahexaenoic-acid_100g=None, omega-6-fat_100g=None, -linoleic-acid_100g=None, -arachidonic-acid_100g=None, -gamma-linolenic-acid_100g=None, -dihomo-gamma-linolenic-acid_100g=None, omega-9-fat_100g=None, -oleic-acid_100g=None, -elaidic-acid_100g=None, -gondoic-acid_100g=None, -mead-acid_100g=None, -erucic-acid_100g=None, -nervonic-acid_100g=None, trans-fat_100g=0.0, cholesterol_100g=0.018, carbohydrates_100g=64.29, sugars_100g=14.29, -sucrose_100g=None, -glucose_100g=None, -fructose_100g=None, -lactose_100g=None, -maltose_100g=None, -maltodextrins_100g=None, starch_100g=None, polyols_100g=None, fiber_100g=3.6, proteins_100g=3.57, casein_100g=None, serum-proteins_100g=None, nucleotides_100g=None, salt_100g=0.0, sodium_100g=0.0, alcohol_100g=None, vitamin-a_100g=0.0, beta-carotene_100g=None, vitamin-d_100g=None, vitamin-e_100g=None, vitamin-k_100g=None, vitamin-c_100g=0.0214, vitamin-b1_100g=None, vitamin-b2_100g=None, vitamin-pp_100g=None, vitamin-b6_100g=None, vitamin-b9_100g=None, folates_100g=None, vitamin-b12_100g=None, biotin_100g=None, pantothenic-acid_100g=None, silica_100g=None, bicarbonate_100g=None, potassium_100g=None, chloride_100g=None, calcium_100g=0.0, phosphorus_100g=None, iron_100g=0.00129, magnesium_100g=None, zinc_100g=None, copper_100g=None, manganese_100g=None, fluoride_100g=None, selenium_100g=None, chromium_100g=None, molybdenum_100g=None, iodine_100g=None, caffeine_100g=None, taurine_100g=None, ph_100g=None, fruits-vegetables-nuts_100g=None, fruits-vegetables-nuts-estimate_100g=None, collagen-meat-protein-ratio_100g=None, cocoa_100g=None, chlorophyl_100g=None, carbon-footprint_100g=None, nutrition-score-fr_100g=14, nutrition-score-uk_100g=14, glycemic-index_100g=None, water-hardness_100g=None),\n",
       " Row(code=4559.0, url='http://world-en.openfoodfacts.org/product/0000000004559/peanuts-torn-glasser', creator='usda-ndb-import', created_t='1489069957', created_datetime='2017-03-09T14:32:37Z', last_modified_t='1489069957', last_modified_datetime='2017-03-09T14:32:37Z', product_name='Peanuts', generic_name=None, quantity=None, packaging=None, packaging_tags=None, brands='Torn & Glasser', brands_tags='torn-glasser', categories=None, categories_tags=None, categories_en=None, origins=None, origins_tags=None, manufacturing_places=None, manufacturing_places_tags=None, labels=None, labels_tags=None, labels_en=None, emb_codes=None, emb_codes_tags=None, first_packaging_code_geo=None, cities=None, cities_tags=None, purchase_places=None, stores=None, countries='US', countries_tags='en:united-states', countries_en='United States', ingredients_text='Peanuts, wheat flour, sugar, rice flour, tapioca starch, salt, leavening (ammonium bicarbonate, baking soda), soy sauce (water, soybeans, wheat, salt), potato starch.', allergens=None, allergens_en=None, traces=None, traces_tags=None, traces_en=None, serving_size='28 g (0.25 cup)', no_nutriments=None, additives_n=0, additives=' [ peanuts -> en:peanuts  ]  [ wheat-flour -> en:wheat-flour  ]  [ flour -> en:flour  ]  [ sugar -> en:sugar  ]  [ rice-flour -> en:rice-flour  ]  [ flour -> en:flour  ]  [ tapioca-starch -> en:tapioca-starch  ]  [ starch -> en:starch  ]  [ salt -> en:salt  ]  [ leavening -> en:leavening  ]  [ ammonium-bicarbonate -> en:ammonium-bicarbonate  ]  [ bicarbonate -> en:bicarbonate  ]  [ baking-soda -> en:baking-soda  ]  [ soda -> en:soda  ]  [ soy-sauce -> en:soy-sauce  ]  [ sauce -> en:sauce  ]  [ water -> en:water  ]  [ soybeans -> en:soybeans  ]  [ wheat -> en:wheat  ]  [ salt -> en:salt  ]  [ potato-starch -> en:potato-starch  ]  [ starch -> en:starch  ] ', additives_tags=None, additives_en=None, ingredients_from_palm_oil_n=0, ingredients_from_palm_oil=None, ingredients_from_palm_oil_tags=None, ingredients_that_may_be_from_palm_oil_n=0, ingredients_that_may_be_from_palm_oil=None, ingredients_that_may_be_from_palm_oil_tags=None, nutrition_grade_uk=None, nutrition_grade_fr='b', pnns_groups_1=None, pnns_groups_2=None, states='en:to-be-completed, en:nutrition-facts-completed, en:ingredients-completed, en:expiration-date-to-be-completed, en:packaging-code-to-be-completed, en:characteristics-to-be-completed, en:categories-to-be-completed, en:brands-completed, en:packaging-to-be-completed, en:quantity-to-be-completed, en:product-name-completed, en:photos-to-be-uploaded', states_tags='en:to-be-completed,en:nutrition-facts-completed,en:ingredients-completed,en:expiration-date-to-be-completed,en:packaging-code-to-be-completed,en:characteristics-to-be-completed,en:categories-to-be-completed,en:brands-completed,en:packaging-to-be-completed,en:quantity-to-be-completed,en:product-name-completed,en:photos-to-be-uploaded', states_en='To be completed,Nutrition facts completed,Ingredients completed,Expiration date to be completed,Packaging-code-to-be-completed,Characteristics to be completed,Categories to be completed,Brands completed,Packaging to be completed,Quantity to be completed,Product name completed,Photos to be uploaded', main_category=None, main_category_en=None, image_url=None, image_small_url=None, energy_100g=1941.0, energy-from-fat_100g=None, fat_100g=17.86, saturated-fat_100g=0.0, -butyric-acid_100g=None, -caproic-acid_100g=None, -caprylic-acid_100g=None, -capric-acid_100g=None, -lauric-acid_100g=None, -myristic-acid_100g=None, -palmitic-acid_100g=None, -stearic-acid_100g=None, -arachidic-acid_100g=None, -behenic-acid_100g=None, -lignoceric-acid_100g=None, -cerotic-acid_100g=None, -montanic-acid_100g=None, -melissic-acid_100g=None, monounsaturated-fat_100g=None, polyunsaturated-fat_100g=None, omega-3-fat_100g=None, -alpha-linolenic-acid_100g=None, -eicosapentaenoic-acid_100g=None, -docosahexaenoic-acid_100g=None, omega-6-fat_100g=None, -linoleic-acid_100g=None, -arachidonic-acid_100g=None, -gamma-linolenic-acid_100g=None, -dihomo-gamma-linolenic-acid_100g=None, omega-9-fat_100g=None, -oleic-acid_100g=None, -elaidic-acid_100g=None, -gondoic-acid_100g=None, -mead-acid_100g=None, -erucic-acid_100g=None, -nervonic-acid_100g=None, trans-fat_100g=0.0, cholesterol_100g=0.0, carbohydrates_100g=60.71, sugars_100g=17.86, -sucrose_100g=None, -glucose_100g=None, -fructose_100g=None, -lactose_100g=None, -maltose_100g=None, -maltodextrins_100g=None, starch_100g=None, polyols_100g=None, fiber_100g=7.1, proteins_100g=17.86, casein_100g=None, serum-proteins_100g=None, nucleotides_100g=None, salt_100g=0.635, sodium_100g=0.25, alcohol_100g=None, vitamin-a_100g=0.0, beta-carotene_100g=None, vitamin-d_100g=None, vitamin-e_100g=None, vitamin-k_100g=None, vitamin-c_100g=0.0, vitamin-b1_100g=None, vitamin-b2_100g=None, vitamin-pp_100g=None, vitamin-b6_100g=None, vitamin-b9_100g=None, folates_100g=None, vitamin-b12_100g=None, biotin_100g=None, pantothenic-acid_100g=None, silica_100g=None, bicarbonate_100g=None, potassium_100g=None, chloride_100g=None, calcium_100g=0.071, phosphorus_100g=None, iron_100g=0.00129, magnesium_100g=None, zinc_100g=None, copper_100g=None, manganese_100g=None, fluoride_100g=None, selenium_100g=None, chromium_100g=None, molybdenum_100g=None, iodine_100g=None, caffeine_100g=None, taurine_100g=None, ph_100g=None, fruits-vegetables-nuts_100g=None, fruits-vegetables-nuts-estimate_100g=None, collagen-meat-protein-ratio_100g=None, cocoa_100g=None, chlorophyl_100g=None, carbon-footprint_100g=None, nutrition-score-fr_100g=0, nutrition-score-uk_100g=0, glycemic-index_100g=None, water-hardness_100g=None),\n",
       " Row(code=16087.0, url='http://world-en.openfoodfacts.org/product/0000000016087/organic-salted-nut-mix-grizzlies', creator='usda-ndb-import', created_t='1489055731', created_datetime='2017-03-09T10:35:31Z', last_modified_t='1489055731', last_modified_datetime='2017-03-09T10:35:31Z', product_name='Organic Salted Nut Mix', generic_name=None, quantity=None, packaging=None, packaging_tags=None, brands='Grizzlies', brands_tags='grizzlies', categories=None, categories_tags=None, categories_en=None, origins=None, origins_tags=None, manufacturing_places=None, manufacturing_places_tags=None, labels=None, labels_tags=None, labels_en=None, emb_codes=None, emb_codes_tags=None, first_packaging_code_geo=None, cities=None, cities_tags=None, purchase_places=None, stores=None, countries='US', countries_tags='en:united-states', countries_en='United States', ingredients_text='Organic hazelnuts, organic cashews, organic walnuts almonds, organic sunflower oil, sea salt.', allergens=None, allergens_en=None, traces=None, traces_tags=None, traces_en=None, serving_size='28 g (0.25 cup)', no_nutriments=None, additives_n=0, additives=' [ organic-hazelnuts -> en:organic-hazelnuts  ]  [ hazelnuts -> en:hazelnuts  ]  [ organic-cashews -> en:organic-cashews  ]  [ cashews -> en:cashews  ]  [ organic-walnuts-almonds -> en:organic-walnuts-almonds  ]  [ walnuts-almonds -> en:walnuts-almonds  ]  [ almonds -> en:almonds  ]  [ organic-sunflower-oil -> en:organic-sunflower-oil  ]  [ sunflower-oil -> en:sunflower-oil  ]  [ oil -> en:oil  ]  [ sea-salt -> en:sea-salt  ]  [ salt -> en:salt  ] ', additives_tags=None, additives_en=None, ingredients_from_palm_oil_n=0, ingredients_from_palm_oil=None, ingredients_from_palm_oil_tags=None, ingredients_that_may_be_from_palm_oil_n=0, ingredients_that_may_be_from_palm_oil=None, ingredients_that_may_be_from_palm_oil_tags=None, nutrition_grade_uk=None, nutrition_grade_fr='d', pnns_groups_1=None, pnns_groups_2=None, states='en:to-be-completed, en:nutrition-facts-completed, en:ingredients-completed, en:expiration-date-to-be-completed, en:packaging-code-to-be-completed, en:characteristics-to-be-completed, en:categories-to-be-completed, en:brands-completed, en:packaging-to-be-completed, en:quantity-to-be-completed, en:product-name-completed, en:photos-to-be-uploaded', states_tags='en:to-be-completed,en:nutrition-facts-completed,en:ingredients-completed,en:expiration-date-to-be-completed,en:packaging-code-to-be-completed,en:characteristics-to-be-completed,en:categories-to-be-completed,en:brands-completed,en:packaging-to-be-completed,en:quantity-to-be-completed,en:product-name-completed,en:photos-to-be-uploaded', states_en='To be completed,Nutrition facts completed,Ingredients completed,Expiration date to be completed,Packaging-code-to-be-completed,Characteristics to be completed,Categories to be completed,Brands completed,Packaging to be completed,Quantity to be completed,Product name completed,Photos to be uploaded', main_category=None, main_category_en=None, image_url=None, image_small_url=None, energy_100g=2540.0, energy-from-fat_100g=None, fat_100g=57.14, saturated-fat_100g=5.36, -butyric-acid_100g=None, -caproic-acid_100g=None, -caprylic-acid_100g=None, -capric-acid_100g=None, -lauric-acid_100g=None, -myristic-acid_100g=None, -palmitic-acid_100g=None, -stearic-acid_100g=None, -arachidic-acid_100g=None, -behenic-acid_100g=None, -lignoceric-acid_100g=None, -cerotic-acid_100g=None, -montanic-acid_100g=None, -melissic-acid_100g=None, monounsaturated-fat_100g=None, polyunsaturated-fat_100g=None, omega-3-fat_100g=None, -alpha-linolenic-acid_100g=None, -eicosapentaenoic-acid_100g=None, -docosahexaenoic-acid_100g=None, omega-6-fat_100g=None, -linoleic-acid_100g=None, -arachidonic-acid_100g=None, -gamma-linolenic-acid_100g=None, -dihomo-gamma-linolenic-acid_100g=None, omega-9-fat_100g=None, -oleic-acid_100g=None, -elaidic-acid_100g=None, -gondoic-acid_100g=None, -mead-acid_100g=None, -erucic-acid_100g=None, -nervonic-acid_100g=None, trans-fat_100g=None, cholesterol_100g=None, carbohydrates_100g=17.86, sugars_100g=3.57, -sucrose_100g=None, -glucose_100g=None, -fructose_100g=None, -lactose_100g=None, -maltose_100g=None, -maltodextrins_100g=None, starch_100g=None, polyols_100g=None, fiber_100g=7.1, proteins_100g=17.86, casein_100g=None, serum-proteins_100g=None, nucleotides_100g=None, salt_100g=1.22428, sodium_100g=0.482, alcohol_100g=None, vitamin-a_100g=None, beta-carotene_100g=None, vitamin-d_100g=None, vitamin-e_100g=None, vitamin-k_100g=None, vitamin-c_100g=None, vitamin-b1_100g=None, vitamin-b2_100g=None, vitamin-pp_100g=None, vitamin-b6_100g=None, vitamin-b9_100g=None, folates_100g=None, vitamin-b12_100g=None, biotin_100g=None, pantothenic-acid_100g=None, silica_100g=None, bicarbonate_100g=None, potassium_100g=None, chloride_100g=None, calcium_100g=0.143, phosphorus_100g=None, iron_100g=0.00514, magnesium_100g=None, zinc_100g=None, copper_100g=None, manganese_100g=None, fluoride_100g=None, selenium_100g=None, chromium_100g=None, molybdenum_100g=None, iodine_100g=None, caffeine_100g=None, taurine_100g=None, ph_100g=None, fruits-vegetables-nuts_100g=None, fruits-vegetables-nuts-estimate_100g=None, collagen-meat-protein-ratio_100g=None, cocoa_100g=None, chlorophyl_100g=None, carbon-footprint_100g=None, nutrition-score-fr_100g=12, nutrition-score-uk_100g=12, glycemic-index_100g=None, water-hardness_100g=None),\n",
       " Row(code=16094.0, url='http://world-en.openfoodfacts.org/product/0000000016094/organic-polenta-bob-s-red-mill', creator='usda-ndb-import', created_t='1489055653', created_datetime='2017-03-09T10:34:13Z', last_modified_t='1489055653', last_modified_datetime='2017-03-09T10:34:13Z', product_name='Organic Polenta', generic_name=None, quantity=None, packaging=None, packaging_tags=None, brands=\"Bob's Red Mill\", brands_tags='bob-s-red-mill', categories=None, categories_tags=None, categories_en=None, origins=None, origins_tags=None, manufacturing_places=None, manufacturing_places_tags=None, labels=None, labels_tags=None, labels_en=None, emb_codes=None, emb_codes_tags=None, first_packaging_code_geo=None, cities=None, cities_tags=None, purchase_places=None, stores=None, countries='US', countries_tags='en:united-states', countries_en='United States', ingredients_text='Organic polenta', allergens=None, allergens_en=None, traces=None, traces_tags=None, traces_en=None, serving_size='35 g (0.25 cup)', no_nutriments=None, additives_n=0, additives=' [ organic-polenta -> en:organic-polenta  ]  [ polenta -> en:polenta  ] ', additives_tags=None, additives_en=None, ingredients_from_palm_oil_n=0, ingredients_from_palm_oil=None, ingredients_from_palm_oil_tags=None, ingredients_that_may_be_from_palm_oil_n=0, ingredients_that_may_be_from_palm_oil=None, ingredients_that_may_be_from_palm_oil_tags=None, nutrition_grade_uk=None, nutrition_grade_fr=None, pnns_groups_1=None, pnns_groups_2=None, states='en:to-be-completed, en:nutrition-facts-completed, en:ingredients-completed, en:expiration-date-to-be-completed, en:packaging-code-to-be-completed, en:characteristics-to-be-completed, en:categories-to-be-completed, en:brands-completed, en:packaging-to-be-completed, en:quantity-to-be-completed, en:product-name-completed, en:photos-to-be-uploaded', states_tags='en:to-be-completed,en:nutrition-facts-completed,en:ingredients-completed,en:expiration-date-to-be-completed,en:packaging-code-to-be-completed,en:characteristics-to-be-completed,en:categories-to-be-completed,en:brands-completed,en:packaging-to-be-completed,en:quantity-to-be-completed,en:product-name-completed,en:photos-to-be-uploaded', states_en='To be completed,Nutrition facts completed,Ingredients completed,Expiration date to be completed,Packaging-code-to-be-completed,Characteristics to be completed,Categories to be completed,Brands completed,Packaging to be completed,Quantity to be completed,Product name completed,Photos to be uploaded', main_category=None, main_category_en=None, image_url=None, image_small_url=None, energy_100g=1552.0, energy-from-fat_100g=None, fat_100g=1.43, saturated-fat_100g=None, -butyric-acid_100g=None, -caproic-acid_100g=None, -caprylic-acid_100g=None, -capric-acid_100g=None, -lauric-acid_100g=None, -myristic-acid_100g=None, -palmitic-acid_100g=None, -stearic-acid_100g=None, -arachidic-acid_100g=None, -behenic-acid_100g=None, -lignoceric-acid_100g=None, -cerotic-acid_100g=None, -montanic-acid_100g=None, -melissic-acid_100g=None, monounsaturated-fat_100g=None, polyunsaturated-fat_100g=None, omega-3-fat_100g=None, -alpha-linolenic-acid_100g=None, -eicosapentaenoic-acid_100g=None, -docosahexaenoic-acid_100g=None, omega-6-fat_100g=None, -linoleic-acid_100g=None, -arachidonic-acid_100g=None, -gamma-linolenic-acid_100g=None, -dihomo-gamma-linolenic-acid_100g=None, omega-9-fat_100g=None, -oleic-acid_100g=None, -elaidic-acid_100g=None, -gondoic-acid_100g=None, -mead-acid_100g=None, -erucic-acid_100g=None, -nervonic-acid_100g=None, trans-fat_100g=None, cholesterol_100g=None, carbohydrates_100g=77.14, sugars_100g=None, -sucrose_100g=None, -glucose_100g=None, -fructose_100g=None, -lactose_100g=None, -maltose_100g=None, -maltodextrins_100g=None, starch_100g=None, polyols_100g=None, fiber_100g=5.7, proteins_100g=8.57, casein_100g=None, serum-proteins_100g=None, nucleotides_100g=None, salt_100g=None, sodium_100g=None, alcohol_100g=None, vitamin-a_100g=None, beta-carotene_100g=None, vitamin-d_100g=None, vitamin-e_100g=None, vitamin-k_100g=None, vitamin-c_100g=None, vitamin-b1_100g=None, vitamin-b2_100g=None, vitamin-pp_100g=None, vitamin-b6_100g=None, vitamin-b9_100g=None, folates_100g=None, vitamin-b12_100g=None, biotin_100g=None, pantothenic-acid_100g=None, silica_100g=None, bicarbonate_100g=None, potassium_100g=None, chloride_100g=None, calcium_100g=None, phosphorus_100g=None, iron_100g=None, magnesium_100g=None, zinc_100g=None, copper_100g=None, manganese_100g=None, fluoride_100g=None, selenium_100g=None, chromium_100g=None, molybdenum_100g=None, iodine_100g=None, caffeine_100g=None, taurine_100g=None, ph_100g=None, fruits-vegetables-nuts_100g=None, fruits-vegetables-nuts-estimate_100g=None, collagen-meat-protein-ratio_100g=None, cocoa_100g=None, chlorophyl_100g=None, carbon-footprint_100g=None, nutrition-score-fr_100g=None, nutrition-score-uk_100g=None, glycemic-index_100g=None, water-hardness_100g=None)]"
      ]
     },
     "execution_count": 4,
     "metadata": {},
     "output_type": "execute_result"
    }
   ],
   "source": [
    "food.head(5)"
   ]
  },
  {
   "cell_type": "markdown",
   "metadata": {},
   "source": [
    "### Step 5. What is the number of observations in the dataset?"
   ]
  },
  {
   "cell_type": "code",
   "execution_count": 5,
   "metadata": {},
   "outputs": [
    {
     "data": {
      "text/plain": [
       "356027"
      ]
     },
     "execution_count": 5,
     "metadata": {},
     "output_type": "execute_result"
    }
   ],
   "source": [
    "food.count()"
   ]
  },
  {
   "cell_type": "markdown",
   "metadata": {},
   "source": [
    "### Step 6. What is the number of columns in the dataset?"
   ]
  },
  {
   "cell_type": "code",
   "execution_count": 6,
   "metadata": {},
   "outputs": [
    {
     "data": {
      "text/plain": [
       "163"
      ]
     },
     "execution_count": 6,
     "metadata": {},
     "output_type": "execute_result"
    }
   ],
   "source": [
    "len(food.columns)"
   ]
  },
  {
   "cell_type": "markdown",
   "metadata": {},
   "source": [
    "### Step 7. Print the name of all the columns."
   ]
  },
  {
   "cell_type": "code",
   "execution_count": 8,
   "metadata": {
    "collapsed": true
   },
   "outputs": [
    {
     "name": "stdout",
     "output_type": "stream",
     "text": [
      "['code', 'url', 'creator', 'created_t', 'created_datetime', 'last_modified_t', 'last_modified_datetime', 'product_name', 'generic_name', 'quantity', 'packaging', 'packaging_tags', 'brands', 'brands_tags', 'categories', 'categories_tags', 'categories_en', 'origins', 'origins_tags', 'manufacturing_places', 'manufacturing_places_tags', 'labels', 'labels_tags', 'labels_en', 'emb_codes', 'emb_codes_tags', 'first_packaging_code_geo', 'cities', 'cities_tags', 'purchase_places', 'stores', 'countries', 'countries_tags', 'countries_en', 'ingredients_text', 'allergens', 'allergens_en', 'traces', 'traces_tags', 'traces_en', 'serving_size', 'no_nutriments', 'additives_n', 'additives', 'additives_tags', 'additives_en', 'ingredients_from_palm_oil_n', 'ingredients_from_palm_oil', 'ingredients_from_palm_oil_tags', 'ingredients_that_may_be_from_palm_oil_n', 'ingredients_that_may_be_from_palm_oil', 'ingredients_that_may_be_from_palm_oil_tags', 'nutrition_grade_uk', 'nutrition_grade_fr', 'pnns_groups_1', 'pnns_groups_2', 'states', 'states_tags', 'states_en', 'main_category', 'main_category_en', 'image_url', 'image_small_url', 'energy_100g', 'energy-from-fat_100g', 'fat_100g', 'saturated-fat_100g', '-butyric-acid_100g', '-caproic-acid_100g', '-caprylic-acid_100g', '-capric-acid_100g', '-lauric-acid_100g', '-myristic-acid_100g', '-palmitic-acid_100g', '-stearic-acid_100g', '-arachidic-acid_100g', '-behenic-acid_100g', '-lignoceric-acid_100g', '-cerotic-acid_100g', '-montanic-acid_100g', '-melissic-acid_100g', 'monounsaturated-fat_100g', 'polyunsaturated-fat_100g', 'omega-3-fat_100g', '-alpha-linolenic-acid_100g', '-eicosapentaenoic-acid_100g', '-docosahexaenoic-acid_100g', 'omega-6-fat_100g', '-linoleic-acid_100g', '-arachidonic-acid_100g', '-gamma-linolenic-acid_100g', '-dihomo-gamma-linolenic-acid_100g', 'omega-9-fat_100g', '-oleic-acid_100g', '-elaidic-acid_100g', '-gondoic-acid_100g', '-mead-acid_100g', '-erucic-acid_100g', '-nervonic-acid_100g', 'trans-fat_100g', 'cholesterol_100g', 'carbohydrates_100g', 'sugars_100g', '-sucrose_100g', '-glucose_100g', '-fructose_100g', '-lactose_100g', '-maltose_100g', '-maltodextrins_100g', 'starch_100g', 'polyols_100g', 'fiber_100g', 'proteins_100g', 'casein_100g', 'serum-proteins_100g', 'nucleotides_100g', 'salt_100g', 'sodium_100g', 'alcohol_100g', 'vitamin-a_100g', 'beta-carotene_100g', 'vitamin-d_100g', 'vitamin-e_100g', 'vitamin-k_100g', 'vitamin-c_100g', 'vitamin-b1_100g', 'vitamin-b2_100g', 'vitamin-pp_100g', 'vitamin-b6_100g', 'vitamin-b9_100g', 'folates_100g', 'vitamin-b12_100g', 'biotin_100g', 'pantothenic-acid_100g', 'silica_100g', 'bicarbonate_100g', 'potassium_100g', 'chloride_100g', 'calcium_100g', 'phosphorus_100g', 'iron_100g', 'magnesium_100g', 'zinc_100g', 'copper_100g', 'manganese_100g', 'fluoride_100g', 'selenium_100g', 'chromium_100g', 'molybdenum_100g', 'iodine_100g', 'caffeine_100g', 'taurine_100g', 'ph_100g', 'fruits-vegetables-nuts_100g', 'fruits-vegetables-nuts-estimate_100g', 'collagen-meat-protein-ratio_100g', 'cocoa_100g', 'chlorophyl_100g', 'carbon-footprint_100g', 'nutrition-score-fr_100g', 'nutrition-score-uk_100g', 'glycemic-index_100g', 'water-hardness_100g']\n"
     ]
    }
   ],
   "source": [
    "print(food.columns)"
   ]
  },
  {
   "cell_type": "markdown",
   "metadata": {},
   "source": [
    "### Step 8. What is the name of 105th column?"
   ]
  },
  {
   "cell_type": "code",
   "execution_count": 10,
   "metadata": {},
   "outputs": [
    {
     "data": {
      "text/plain": [
       "'-glucose_100g'"
      ]
     },
     "execution_count": 10,
     "metadata": {},
     "output_type": "execute_result"
    }
   ],
   "source": [
    "food.columns[104]"
   ]
  },
  {
   "cell_type": "markdown",
   "metadata": {},
   "source": [
    "### Step 9. What is the type of the observations of the 105th column?"
   ]
  },
  {
   "cell_type": "code",
   "execution_count": 16,
   "metadata": {},
   "outputs": [
    {
     "data": {
      "text/plain": [
       "'double'"
      ]
     },
     "execution_count": 16,
     "metadata": {},
     "output_type": "execute_result"
    }
   ],
   "source": [
    "dict(food.dtypes)[food.columns[104]]"
   ]
  },
  {
   "cell_type": "markdown",
   "metadata": {},
   "source": [
    "### Step 10. How is the dataset indexed?"
   ]
  },
  {
   "cell_type": "code",
   "execution_count": 17,
   "metadata": {},
   "outputs": [],
   "source": [
    "#trying to find an answer"
   ]
  },
  {
   "cell_type": "markdown",
   "metadata": {},
   "source": [
    "### Step 11. What is the product name of the 19th observation?"
   ]
  },
  {
   "cell_type": "code",
   "execution_count": 24,
   "metadata": {},
   "outputs": [
    {
     "name": "stdout",
     "output_type": "stream",
     "text": [
      "Row(product_name='Lotus Organic Brown Jasmine Rice')\n"
     ]
    }
   ],
   "source": [
    "print(food.select('product_name').collect()[18])"
   ]
  }
 ],
 "metadata": {
  "anaconda-cloud": {},
  "kernelspec": {
   "display_name": "Python 3",
   "language": "python",
   "name": "python3"
  },
  "language_info": {
   "codemirror_mode": {
    "name": "ipython",
    "version": 3
   },
   "file_extension": ".py",
   "mimetype": "text/x-python",
   "name": "python",
   "nbconvert_exporter": "python",
   "pygments_lexer": "ipython3",
   "version": "3.9.6"
  }
 },
 "nbformat": 4,
 "nbformat_minor": 1
}
