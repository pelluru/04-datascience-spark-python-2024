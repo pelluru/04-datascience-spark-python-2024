{
 "cells": [
  {
   "cell_type": "markdown",
   "metadata": {},
   "source": [
    "# US - Baby Names"
   ]
  },
  {
   "cell_type": "markdown",
   "metadata": {},
   "source": [
    "### Introduction:\n",
    "\n",
    "We are going to use a subset of [US Baby Names](https://www.kaggle.com/kaggle/us-baby-names) from Kaggle.  \n",
    "In the file it will be names from 2004 until 2014\n",
    "\n",
    "\n",
    "### Step 1. Import the necessary libraries"
   ]
  },
  {
   "cell_type": "code",
   "execution_count": 1,
   "metadata": {},
   "outputs": [
    {
     "data": {
      "text/html": [
       "\n",
       "            <div>\n",
       "                <p><b>SparkSession - in-memory</b></p>\n",
       "                \n",
       "        <div>\n",
       "            <p><b>SparkContext</b></p>\n",
       "\n",
       "            <p><a href=\"http://192.168.1.20:4040\">Spark UI</a></p>\n",
       "\n",
       "            <dl>\n",
       "              <dt>Version</dt>\n",
       "                <dd><code>v3.1.2</code></dd>\n",
       "              <dt>Master</dt>\n",
       "                <dd><code>local[*]</code></dd>\n",
       "              <dt>AppName</dt>\n",
       "                <dd><code>baby</code></dd>\n",
       "            </dl>\n",
       "        </div>\n",
       "        \n",
       "            </div>\n",
       "        "
      ],
      "text/plain": [
       "<pyspark.sql.session.SparkSession at 0x12c496af0>"
      ]
     },
     "execution_count": 1,
     "metadata": {},
     "output_type": "execute_result"
    }
   ],
   "source": [
    "import pyspark\n",
    "from pyspark.sql import SparkSession\n",
    "spark = SparkSession.builder.appName(\"baby\").getOrCreate()\n",
    "spark"
   ]
  },
  {
   "cell_type": "markdown",
   "metadata": {},
   "source": [
    "### Step 2. Import the dataset from this [address](https://raw.githubusercontent.com/guipsamora/pandas_exercises/master/06_Stats/US_Baby_Names/US_Baby_Names_right.csv). "
   ]
  },
  {
   "cell_type": "markdown",
   "metadata": {},
   "source": [
    "### Step 3. Assign it to a variable called baby_names."
   ]
  },
  {
   "cell_type": "code",
   "execution_count": 2,
   "metadata": {},
   "outputs": [],
   "source": [
    "from pyspark import SparkFiles"
   ]
  },
  {
   "cell_type": "code",
   "execution_count": 3,
   "metadata": {},
   "outputs": [
    {
     "name": "stdout",
     "output_type": "stream",
     "text": [
      "+-----+-----+-------+----+------+-----+-----+\n",
      "|  _c0|   Id|   Name|Year|Gender|State|Count|\n",
      "+-----+-----+-------+----+------+-----+-----+\n",
      "|11349|11350|   Emma|2004|     F|   AK|   62|\n",
      "|11350|11351|Madison|2004|     F|   AK|   48|\n",
      "|11351|11352| Hannah|2004|     F|   AK|   46|\n",
      "|11352|11353|  Grace|2004|     F|   AK|   44|\n",
      "|11353|11354|  Emily|2004|     F|   AK|   41|\n",
      "+-----+-----+-------+----+------+-----+-----+\n",
      "only showing top 5 rows\n",
      "\n"
     ]
    }
   ],
   "source": [
    "url = \"https://raw.githubusercontent.com/guipsamora/pandas_exercises/master/06_Stats/US_Baby_Names/US_Baby_Names_right.csv\"\n",
    "\n",
    "spark.sparkContext.addFile(url)\n",
    "\n",
    "baby_names = spark.read.csv(SparkFiles.get(\"US_Baby_Names_right.csv\"), header=True, inferSchema=True, sep=',')\n",
    "baby_names.show(5)"
   ]
  },
  {
   "cell_type": "markdown",
   "metadata": {},
   "source": [
    "### Step 4. See the first 10 entries"
   ]
  },
  {
   "cell_type": "code",
   "execution_count": 4,
   "metadata": {},
   "outputs": [
    {
     "name": "stdout",
     "output_type": "stream",
     "text": [
      "+-----+-----+--------+----+------+-----+-----+\n",
      "|  _c0|   Id|    Name|Year|Gender|State|Count|\n",
      "+-----+-----+--------+----+------+-----+-----+\n",
      "|11349|11350|    Emma|2004|     F|   AK|   62|\n",
      "|11350|11351| Madison|2004|     F|   AK|   48|\n",
      "|11351|11352|  Hannah|2004|     F|   AK|   46|\n",
      "|11352|11353|   Grace|2004|     F|   AK|   44|\n",
      "|11353|11354|   Emily|2004|     F|   AK|   41|\n",
      "|11354|11355| Abigail|2004|     F|   AK|   37|\n",
      "|11355|11356|  Olivia|2004|     F|   AK|   33|\n",
      "|11356|11357|Isabella|2004|     F|   AK|   30|\n",
      "|11357|11358|  Alyssa|2004|     F|   AK|   29|\n",
      "|11358|11359|  Sophia|2004|     F|   AK|   28|\n",
      "+-----+-----+--------+----+------+-----+-----+\n",
      "only showing top 10 rows\n",
      "\n"
     ]
    }
   ],
   "source": [
    "baby_names.show(10)"
   ]
  },
  {
   "cell_type": "code",
   "execution_count": 5,
   "metadata": {},
   "outputs": [
    {
     "name": "stdout",
     "output_type": "stream",
     "text": [
      "1016395\n"
     ]
    }
   ],
   "source": [
    "print(baby_names.count())"
   ]
  },
  {
   "cell_type": "markdown",
   "metadata": {},
   "source": [
    "### Step 5. Delete the column 'Unnamed: 0' and 'Id'"
   ]
  },
  {
   "cell_type": "code",
   "execution_count": 7,
   "metadata": {},
   "outputs": [
    {
     "name": "stdout",
     "output_type": "stream",
     "text": [
      "+-------+----+------+-----+-----+\n",
      "|   Name|Year|Gender|State|Count|\n",
      "+-------+----+------+-----+-----+\n",
      "|   Emma|2004|     F|   AK|   62|\n",
      "|Madison|2004|     F|   AK|   48|\n",
      "+-------+----+------+-----+-----+\n",
      "only showing top 2 rows\n",
      "\n"
     ]
    }
   ],
   "source": [
    "cols_to_drop = [\"_c0\",\"Id\"]\n",
    "baby_names= baby_names.drop(*cols_to_drop)\n",
    "baby_names.show(2)"
   ]
  },
  {
   "cell_type": "markdown",
   "metadata": {},
   "source": [
    "### Step 6. Is there more male or female names in the dataset?"
   ]
  },
  {
   "cell_type": "code",
   "execution_count": 12,
   "metadata": {},
   "outputs": [
    {
     "name": "stdout",
     "output_type": "stream",
     "text": [
      "females: 558846 males: 457549\n",
      "More Females 558846\n"
     ]
    }
   ],
   "source": [
    "females = baby_names.filter(baby_names.Gender.startswith(\"F\")).count()\n",
    "males = baby_names.filter(baby_names.Gender.startswith(\"M\")).count()\n",
    "\n",
    "print(\"females:\",females, \"males:\",males)\n",
    "if females > males:\n",
    "    print(\"More Females\",females)\n",
    "else:\n",
    "    print(\"More Males\",males)"
   ]
  },
  {
   "cell_type": "markdown",
   "metadata": {},
   "source": [
    "### Step 7. Group the dataset by name and assign to names"
   ]
  },
  {
   "cell_type": "code",
   "execution_count": 31,
   "metadata": {},
   "outputs": [
    {
     "name": "stdout",
     "output_type": "stream",
     "text": [
      "+------+----------+\n",
      "|  Name|name_count|\n",
      "+------+----------+\n",
      "| Kiana|       341|\n",
      "|Alayna|       469|\n",
      "| Ember|       262|\n",
      "| Tyler|       770|\n",
      "|Maddox|       537|\n",
      "+------+----------+\n",
      "only showing top 5 rows\n",
      "\n"
     ]
    }
   ],
   "source": [
    "names = baby_names.groupBy(\"Name\").count()\n",
    "names = names.withColumnRenamed(\"count\",\"name_count\")\n",
    "names.show(5)"
   ]
  },
  {
   "cell_type": "markdown",
   "metadata": {},
   "source": [
    "### Step 8. How many different names exist in the dataset?"
   ]
  },
  {
   "cell_type": "code",
   "execution_count": 19,
   "metadata": {},
   "outputs": [
    {
     "data": {
      "text/plain": [
       "17632"
      ]
     },
     "execution_count": 19,
     "metadata": {},
     "output_type": "execute_result"
    }
   ],
   "source": [
    "names.count()"
   ]
  },
  {
   "cell_type": "markdown",
   "metadata": {},
   "source": [
    "### Step 9. What is the name with most occurrences?"
   ]
  },
  {
   "cell_type": "code",
   "execution_count": 32,
   "metadata": {},
   "outputs": [
    {
     "name": "stdout",
     "output_type": "stream",
     "text": [
      "+------+----------+\n",
      "|  Name|name_count|\n",
      "+------+----------+\n",
      "| Riley|      1112|\n",
      "| Avery|      1080|\n",
      "|Jordan|      1073|\n",
      "|Peyton|      1064|\n",
      "|Hayden|      1049|\n",
      "+------+----------+\n",
      "only showing top 5 rows\n",
      "\n"
     ]
    }
   ],
   "source": [
    "names.orderBy(\"name_count\",ascending=0).show(5)"
   ]
  },
  {
   "cell_type": "code",
   "execution_count": 33,
   "metadata": {},
   "outputs": [
    {
     "data": {
      "text/plain": [
       "'Riley'"
      ]
     },
     "execution_count": 33,
     "metadata": {},
     "output_type": "execute_result"
    }
   ],
   "source": [
    "names.orderBy(\"name_count\",ascending=0).head(1)[0][0]"
   ]
  },
  {
   "cell_type": "code",
   "execution_count": 34,
   "metadata": {
    "scrolled": true
   },
   "outputs": [
    {
     "name": "stdout",
     "output_type": "stream",
     "text": [
      "+------------+----------+\n",
      "|        Name|name_count|\n",
      "+------------+----------+\n",
      "|      Jacoby|       330|\n",
      "|       Jacob|       568|\n",
      "|      Jacobe|        19|\n",
      "|      Jacobi|       118|\n",
      "|Jacobanthony|         2|\n",
      "|      Jacobo|        44|\n",
      "|     Jacobie|         9|\n",
      "|     Jacobey|         1|\n",
      "+------------+----------+\n",
      "\n"
     ]
    }
   ],
   "source": [
    "names.filter(names.Name.startswith(\"Jacob\")).show()"
   ]
  },
  {
   "cell_type": "markdown",
   "metadata": {},
   "source": [
    "### Step 10. How many different names have the least occurrences?"
   ]
  },
  {
   "cell_type": "code",
   "execution_count": 25,
   "metadata": {},
   "outputs": [],
   "source": [
    "from pyspark.sql.functions import *"
   ]
  },
  {
   "cell_type": "code",
   "execution_count": 35,
   "metadata": {},
   "outputs": [],
   "source": [
    "min_count = names.agg({\"name_count\":\"min\"}).head(1)[0][0]"
   ]
  },
  {
   "cell_type": "code",
   "execution_count": 36,
   "metadata": {},
   "outputs": [
    {
     "data": {
      "text/plain": [
       "1"
      ]
     },
     "execution_count": 36,
     "metadata": {},
     "output_type": "execute_result"
    }
   ],
   "source": [
    "min_count"
   ]
  },
  {
   "cell_type": "code",
   "execution_count": 38,
   "metadata": {},
   "outputs": [
    {
     "data": {
      "text/plain": [
       "3682"
      ]
     },
     "execution_count": 38,
     "metadata": {},
     "output_type": "execute_result"
    }
   ],
   "source": [
    "rare_names = names.filter(names.name_count.isin(min_count)).count()\n",
    "rare_names"
   ]
  },
  {
   "cell_type": "markdown",
   "metadata": {},
   "source": [
    "### Step 11. What is the median name occurrence?"
   ]
  },
  {
   "cell_type": "code",
   "execution_count": 42,
   "metadata": {},
   "outputs": [
    {
     "data": {
      "text/plain": [
       "[8.0]"
      ]
     },
     "execution_count": 42,
     "metadata": {},
     "output_type": "execute_result"
    }
   ],
   "source": [
    "# df.approxQuantile(\"x\", [0.5], 0.25)\n",
    "median_count = names.approxQuantile(\"name_count\",[0.5],0.0001)\n",
    "median_count"
   ]
  },
  {
   "cell_type": "markdown",
   "metadata": {},
   "source": [
    "### Step 12. What is the standard deviation of names?"
   ]
  },
  {
   "cell_type": "code",
   "execution_count": 44,
   "metadata": {},
   "outputs": [
    {
     "name": "stdout",
     "output_type": "stream",
     "text": [
      "+-------+------------------+\n",
      "|summary|        name_count|\n",
      "+-------+------------------+\n",
      "|  count|             17632|\n",
      "|   mean|57.644906987295826|\n",
      "| stddev| 122.0299635081389|\n",
      "|    min|                 1|\n",
      "|    max|              1112|\n",
      "+-------+------------------+\n",
      "\n"
     ]
    }
   ],
   "source": [
    "names.describe(['name_count']).show()"
   ]
  },
  {
   "cell_type": "markdown",
   "metadata": {},
   "source": [
    "### Step 13. Get a summary with the mean, min, max, std and quartiles."
   ]
  },
  {
   "cell_type": "code",
   "execution_count": 46,
   "metadata": {},
   "outputs": [
    {
     "data": {
      "text/plain": [
       "[2.0, 6.0, 22.0]"
      ]
     },
     "execution_count": 46,
     "metadata": {},
     "output_type": "execute_result"
    }
   ],
   "source": [
    "names.approxQuantile(\"name_count\",[0.25,0.5,0.75],0.1)"
   ]
  }
 ],
 "metadata": {
  "anaconda-cloud": {},
  "kernelspec": {
   "display_name": "Python 3",
   "language": "python",
   "name": "python3"
  },
  "language_info": {
   "codemirror_mode": {
    "name": "ipython",
    "version": 3
   },
   "file_extension": ".py",
   "mimetype": "text/x-python",
   "name": "python",
   "nbconvert_exporter": "python",
   "pygments_lexer": "ipython3",
   "version": "3.9.6"
  }
 },
 "nbformat": 4,
 "nbformat_minor": 1
}
