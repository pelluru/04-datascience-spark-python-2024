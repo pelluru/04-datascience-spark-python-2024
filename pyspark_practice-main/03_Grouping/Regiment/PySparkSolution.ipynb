{
 "cells": [
  {
   "cell_type": "markdown",
   "metadata": {},
   "source": [
    "# Regiment"
   ]
  },
  {
   "cell_type": "markdown",
   "metadata": {},
   "source": [
    "### Introduction:\n",
    "\n",
    "Special thanks to: http://chrisalbon.com/ for sharing the dataset and materials.\n",
    "\n",
    "### Step 1. Import the necessary libraries"
   ]
  },
  {
   "cell_type": "code",
   "execution_count": 1,
   "metadata": {},
   "outputs": [
    {
     "data": {
      "text/html": [
       "\n",
       "            <div>\n",
       "                <p><b>SparkSession - in-memory</b></p>\n",
       "                \n",
       "        <div>\n",
       "            <p><b>SparkContext</b></p>\n",
       "\n",
       "            <p><a href=\"http://192.168.1.20:4041\">Spark UI</a></p>\n",
       "\n",
       "            <dl>\n",
       "              <dt>Version</dt>\n",
       "                <dd><code>v3.1.2</code></dd>\n",
       "              <dt>Master</dt>\n",
       "                <dd><code>local[*]</code></dd>\n",
       "              <dt>AppName</dt>\n",
       "                <dd><code>regiment</code></dd>\n",
       "            </dl>\n",
       "        </div>\n",
       "        \n",
       "            </div>\n",
       "        "
      ],
      "text/plain": [
       "<pyspark.sql.session.SparkSession at 0x1215c89d0>"
      ]
     },
     "execution_count": 1,
     "metadata": {},
     "output_type": "execute_result"
    }
   ],
   "source": [
    "import pyspark\n",
    "from pyspark.sql import SparkSession\n",
    "spark = SparkSession.builder.appName(\"regiment\").getOrCreate()\n",
    "spark"
   ]
  },
  {
   "cell_type": "markdown",
   "metadata": {},
   "source": [
    "### Step 2. Create the DataFrame with the following values:"
   ]
  },
  {
   "cell_type": "code",
   "execution_count": 3,
   "metadata": {},
   "outputs": [],
   "source": [
    "raw_data = {'regiment': ['Nighthawks', 'Nighthawks', 'Nighthawks', 'Nighthawks', 'Dragoons', 'Dragoons', 'Dragoons', 'Dragoons', 'Scouts', 'Scouts', 'Scouts', 'Scouts'], \n",
    "        'company': ['1st', '1st', '2nd', '2nd', '1st', '1st', '2nd', '2nd','1st', '1st', '2nd', '2nd'], \n",
    "        'name': ['Miller', 'Jacobson', 'Ali', 'Milner', 'Cooze', 'Jacon', 'Ryaner', 'Sone', 'Sloan', 'Piger', 'Riani', 'Ali'], \n",
    "        'preTestScore': [4, 24, 31, 2, 3, 4, 24, 31, 2, 3, 2, 3],\n",
    "        'postTestScore': [25, 94, 57, 62, 70, 25, 94, 57, 62, 70, 62, 70]}"
   ]
  },
  {
   "cell_type": "markdown",
   "metadata": {},
   "source": [
    "### Step 3. Assign it to a variable called regiment.\n",
    "#### Don't forget to name each column"
   ]
  },
  {
   "cell_type": "code",
   "execution_count": 2,
   "metadata": {},
   "outputs": [],
   "source": [
    "import pandas as pd"
   ]
  },
  {
   "cell_type": "code",
   "execution_count": 5,
   "metadata": {},
   "outputs": [
    {
     "name": "stdout",
     "output_type": "stream",
     "text": [
      "+----------+-------+--------+------------+-------------+\n",
      "|  regiment|company|    name|preTestScore|postTestScore|\n",
      "+----------+-------+--------+------------+-------------+\n",
      "|Nighthawks|    1st|  Miller|           4|           25|\n",
      "|Nighthawks|    1st|Jacobson|          24|           94|\n",
      "|Nighthawks|    2nd|     Ali|          31|           57|\n",
      "|Nighthawks|    2nd|  Milner|           2|           62|\n",
      "|  Dragoons|    1st|   Cooze|           3|           70|\n",
      "+----------+-------+--------+------------+-------------+\n",
      "only showing top 5 rows\n",
      "\n"
     ]
    }
   ],
   "source": [
    "regiment = spark.createDataFrame(pd.DataFrame(data=raw_data))\n",
    "regiment.show(5)"
   ]
  },
  {
   "cell_type": "markdown",
   "metadata": {},
   "source": [
    "### Step 4. What is the mean preTestScore from the regiment Nighthawks?  "
   ]
  },
  {
   "cell_type": "code",
   "execution_count": 8,
   "metadata": {},
   "outputs": [
    {
     "name": "stdout",
     "output_type": "stream",
     "text": [
      "+-----------------+\n",
      "|avg(preTestScore)|\n",
      "+-----------------+\n",
      "|            15.25|\n",
      "+-----------------+\n",
      "\n"
     ]
    }
   ],
   "source": [
    "regiment.filter(regiment.regiment == \"Nighthawks\").agg({\"preTestScore\":\"avg\"}).show()"
   ]
  },
  {
   "cell_type": "markdown",
   "metadata": {},
   "source": [
    "### Step 5. Present general statistics by company"
   ]
  },
  {
   "cell_type": "code",
   "execution_count": 13,
   "metadata": {},
   "outputs": [],
   "source": [
    "import pyspark.sql.functions as F"
   ]
  },
  {
   "cell_type": "code",
   "execution_count": 21,
   "metadata": {},
   "outputs": [
    {
     "name": "stdout",
     "output_type": "stream",
     "text": [
      "+-------+-----+-----------------+------------------+---+----+----+-----+---+\n",
      "|company|count|             mean|               std|min| %25| %50|  %75|max|\n",
      "+-------+-----+-----------------+------------------+---+----+----+-----+---+\n",
      "|    2nd|    6|             15.5|14.652644812456213|  2|2.25|13.5|29.25| 31|\n",
      "|    1st|    6|6.666666666666667| 8.524474568362947|  2| 3.0| 3.5|  4.0| 24|\n",
      "+-------+-----+-----------------+------------------+---+----+----+-----+---+\n",
      "\n"
     ]
    }
   ],
   "source": [
    "regiment.groupby(\"company\").agg(F.count('preTestScore').alias('count'), \\\n",
    "                                F.mean('preTestScore').alias('mean'), \\\n",
    "                                F.stddev('preTestScore').alias('std'), \\\n",
    "                     F.min('preTestScore').alias('min'), \\\n",
    "                                F.expr('percentile(preTestScore, array(0.25))')[0].alias('%25'), \\\n",
    "                     F.expr('percentile(preTestScore, array(0.5))')[0].alias('%50'), \\\n",
    "                     F.expr('percentile(preTestScore, array(0.75))')[0].alias('%75'), \\\n",
    "                                F.max('preTestScore').alias('max')).show()"
   ]
  },
  {
   "cell_type": "markdown",
   "metadata": {},
   "source": [
    "### Step 6. What is the mean of each company's preTestScore?"
   ]
  },
  {
   "cell_type": "code",
   "execution_count": 26,
   "metadata": {},
   "outputs": [
    {
     "name": "stdout",
     "output_type": "stream",
     "text": [
      "+-------+-----------------+\n",
      "|company|avg(preTestScore)|\n",
      "+-------+-----------------+\n",
      "|    1st|6.666666666666667|\n",
      "|    2nd|             15.5|\n",
      "+-------+-----------------+\n",
      "\n"
     ]
    }
   ],
   "source": [
    "regiment.groupBy(\"company\").agg({\"preTestScore\": \"mean\"}).orderBy(\"company\").show()"
   ]
  },
  {
   "cell_type": "markdown",
   "metadata": {},
   "source": [
    "### Step 7. Present the mean preTestScores grouped by regiment and company"
   ]
  },
  {
   "cell_type": "code",
   "execution_count": 25,
   "metadata": {},
   "outputs": [
    {
     "name": "stdout",
     "output_type": "stream",
     "text": [
      "+----------+-------+-----------------+\n",
      "|  regiment|company|avg(preTestScore)|\n",
      "+----------+-------+-----------------+\n",
      "|  Dragoons|    1st|              3.5|\n",
      "|  Dragoons|    2nd|             27.5|\n",
      "|Nighthawks|    1st|             14.0|\n",
      "|Nighthawks|    2nd|             16.5|\n",
      "|    Scouts|    1st|              2.5|\n",
      "|    Scouts|    2nd|              2.5|\n",
      "+----------+-------+-----------------+\n",
      "\n"
     ]
    }
   ],
   "source": [
    "regiment.groupBy([\"regiment\",\"company\"]).agg({\"preTestScore\": \"mean\"}).\\\n",
    "orderBy([\"regiment\",\"company\"], ascending=1).show()"
   ]
  },
  {
   "cell_type": "markdown",
   "metadata": {},
   "source": [
    "### Step 8. Present the mean preTestScores grouped by regiment and company without heirarchical indexing"
   ]
  },
  {
   "cell_type": "code",
   "execution_count": 27,
   "metadata": {},
   "outputs": [
    {
     "name": "stdout",
     "output_type": "stream",
     "text": [
      "+----------+-------+-----------------+\n",
      "|  regiment|company|avg(preTestScore)|\n",
      "+----------+-------+-----------------+\n",
      "|  Dragoons|    1st|              3.5|\n",
      "|  Dragoons|    2nd|             27.5|\n",
      "|Nighthawks|    1st|             14.0|\n",
      "|Nighthawks|    2nd|             16.5|\n",
      "|    Scouts|    1st|              2.5|\n",
      "|    Scouts|    2nd|              2.5|\n",
      "+----------+-------+-----------------+\n",
      "\n"
     ]
    }
   ],
   "source": [
    "regiment.groupBy([\"regiment\",\"company\"]).agg({\"preTestScore\": \"mean\"}).\\\n",
    "orderBy([\"regiment\",\"company\"], ascending=1).show()"
   ]
  },
  {
   "cell_type": "markdown",
   "metadata": {},
   "source": [
    "### Step 9. Group the entire dataframe by regiment and company"
   ]
  },
  {
   "cell_type": "code",
   "execution_count": 29,
   "metadata": {},
   "outputs": [
    {
     "name": "stdout",
     "output_type": "stream",
     "text": [
      "+----------+-------+-----------------+------------------+\n",
      "|  regiment|company|avg(preTestScore)|avg(postTestScore)|\n",
      "+----------+-------+-----------------+------------------+\n",
      "|  Dragoons|    1st|              3.5|              47.5|\n",
      "|  Dragoons|    2nd|             27.5|              75.5|\n",
      "|Nighthawks|    1st|             14.0|              59.5|\n",
      "|Nighthawks|    2nd|             16.5|              59.5|\n",
      "|    Scouts|    1st|              2.5|              66.0|\n",
      "|    Scouts|    2nd|              2.5|              66.0|\n",
      "+----------+-------+-----------------+------------------+\n",
      "\n"
     ]
    }
   ],
   "source": [
    "regiment.groupBy([\"regiment\",\"company\"]).mean().\\\n",
    "orderBy([\"regiment\",\"company\"], ascending=1).show()"
   ]
  },
  {
   "cell_type": "markdown",
   "metadata": {},
   "source": [
    "### Step 10. What is the number of observations in each regiment and company"
   ]
  },
  {
   "cell_type": "code",
   "execution_count": 30,
   "metadata": {},
   "outputs": [
    {
     "name": "stdout",
     "output_type": "stream",
     "text": [
      "+----------+-------+-----+\n",
      "|  regiment|company|count|\n",
      "+----------+-------+-----+\n",
      "|  Dragoons|    1st|    2|\n",
      "|  Dragoons|    2nd|    2|\n",
      "|Nighthawks|    1st|    2|\n",
      "|Nighthawks|    2nd|    2|\n",
      "|    Scouts|    1st|    2|\n",
      "|    Scouts|    2nd|    2|\n",
      "+----------+-------+-----+\n",
      "\n"
     ]
    }
   ],
   "source": [
    "regiment.groupBy([\"regiment\",\"company\"]).count().\\\n",
    "orderBy([\"regiment\",\"company\"], ascending=1).show()"
   ]
  },
  {
   "cell_type": "markdown",
   "metadata": {},
   "source": [
    "### Step 11. Iterate over a group and print the name and the whole data from the regiment"
   ]
  },
  {
   "cell_type": "code",
   "execution_count": 37,
   "metadata": {},
   "outputs": [],
   "source": [
    "regiments = regiment.select(\"regiment\").distinct().collect()"
   ]
  },
  {
   "cell_type": "code",
   "execution_count": 39,
   "metadata": {},
   "outputs": [
    {
     "name": "stdout",
     "output_type": "stream",
     "text": [
      "Nighthawks\n",
      "+----------+-------+--------+------------+-------------+\n",
      "|  regiment|company|    name|preTestScore|postTestScore|\n",
      "+----------+-------+--------+------------+-------------+\n",
      "|Nighthawks|    1st|  Miller|           4|           25|\n",
      "|Nighthawks|    1st|Jacobson|          24|           94|\n",
      "|Nighthawks|    2nd|     Ali|          31|           57|\n",
      "|Nighthawks|    2nd|  Milner|           2|           62|\n",
      "+----------+-------+--------+------------+-------------+\n",
      "\n",
      "Dragoons\n",
      "+--------+-------+------+------------+-------------+\n",
      "|regiment|company|  name|preTestScore|postTestScore|\n",
      "+--------+-------+------+------------+-------------+\n",
      "|Dragoons|    1st| Cooze|           3|           70|\n",
      "|Dragoons|    1st| Jacon|           4|           25|\n",
      "|Dragoons|    2nd|Ryaner|          24|           94|\n",
      "|Dragoons|    2nd|  Sone|          31|           57|\n",
      "+--------+-------+------+------------+-------------+\n",
      "\n",
      "Scouts\n",
      "+--------+-------+-----+------------+-------------+\n",
      "|regiment|company| name|preTestScore|postTestScore|\n",
      "+--------+-------+-----+------------+-------------+\n",
      "|  Scouts|    1st|Sloan|           2|           62|\n",
      "|  Scouts|    1st|Piger|           3|           70|\n",
      "|  Scouts|    2nd|Riani|           2|           62|\n",
      "|  Scouts|    2nd|  Ali|           3|           70|\n",
      "+--------+-------+-----+------------+-------------+\n",
      "\n"
     ]
    }
   ],
   "source": [
    "for r in regiments:\n",
    "    print(r[0])\n",
    "    regiment.filter(regiment.regiment.isin(r[0])).show()"
   ]
  }
 ],
 "metadata": {
  "kernelspec": {
   "display_name": "Python 3",
   "language": "python",
   "name": "python3"
  },
  "language_info": {
   "codemirror_mode": {
    "name": "ipython",
    "version": 3
   },
   "file_extension": ".py",
   "mimetype": "text/x-python",
   "name": "python",
   "nbconvert_exporter": "python",
   "pygments_lexer": "ipython3",
   "version": "3.9.6"
  }
 },
 "nbformat": 4,
 "nbformat_minor": 1
}
