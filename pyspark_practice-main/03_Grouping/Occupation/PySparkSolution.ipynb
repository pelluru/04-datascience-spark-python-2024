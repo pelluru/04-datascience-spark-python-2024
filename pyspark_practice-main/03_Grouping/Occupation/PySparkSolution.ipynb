{
 "cells": [
  {
   "cell_type": "markdown",
   "metadata": {},
   "source": [
    "# Occupation"
   ]
  },
  {
   "cell_type": "markdown",
   "metadata": {},
   "source": [
    "### Introduction:\n",
    "\n",
    "Special thanks to: https://github.com/justmarkham for sharing the dataset and materials.\n",
    "\n",
    "### Step 1. Import the necessary libraries"
   ]
  },
  {
   "cell_type": "code",
   "execution_count": 1,
   "metadata": {},
   "outputs": [
    {
     "data": {
      "text/html": [
       "\n",
       "            <div>\n",
       "                <p><b>SparkSession - in-memory</b></p>\n",
       "                \n",
       "        <div>\n",
       "            <p><b>SparkContext</b></p>\n",
       "\n",
       "            <p><a href=\"http://192.168.1.20:4040\">Spark UI</a></p>\n",
       "\n",
       "            <dl>\n",
       "              <dt>Version</dt>\n",
       "                <dd><code>v3.1.2</code></dd>\n",
       "              <dt>Master</dt>\n",
       "                <dd><code>local[*]</code></dd>\n",
       "              <dt>AppName</dt>\n",
       "                <dd><code>occupation</code></dd>\n",
       "            </dl>\n",
       "        </div>\n",
       "        \n",
       "            </div>\n",
       "        "
      ],
      "text/plain": [
       "<pyspark.sql.session.SparkSession at 0x121bdca60>"
      ]
     },
     "execution_count": 1,
     "metadata": {},
     "output_type": "execute_result"
    }
   ],
   "source": [
    "import pyspark\n",
    "from pyspark.sql import SparkSession\n",
    "spark = SparkSession.builder.appName(\"occupation\").getOrCreate()\n",
    "spark"
   ]
  },
  {
   "cell_type": "markdown",
   "metadata": {},
   "source": [
    "### Step 2. Import the dataset from this [address](https://raw.githubusercontent.com/justmarkham/DAT8/master/data/u.user). "
   ]
  },
  {
   "cell_type": "markdown",
   "metadata": {},
   "source": [
    "### Step 3. Assign it to a variable called users."
   ]
  },
  {
   "cell_type": "code",
   "execution_count": 2,
   "metadata": {},
   "outputs": [],
   "source": [
    "from pyspark import SparkFiles"
   ]
  },
  {
   "cell_type": "code",
   "execution_count": 3,
   "metadata": {},
   "outputs": [
    {
     "name": "stdout",
     "output_type": "stream",
     "text": [
      "+-------+---+------+----------+--------+\n",
      "|user_id|age|gender|occupation|zip_code|\n",
      "+-------+---+------+----------+--------+\n",
      "|      1| 24|     M|technician|   85711|\n",
      "|      2| 53|     F|     other|   94043|\n",
      "|      3| 23|     M|    writer|   32067|\n",
      "|      4| 24|     M|technician|   43537|\n",
      "|      5| 33|     F|     other|   15213|\n",
      "+-------+---+------+----------+--------+\n",
      "only showing top 5 rows\n",
      "\n"
     ]
    }
   ],
   "source": [
    "url = \"https://raw.githubusercontent.com/justmarkham/DAT8/master/data/u.user\"\n",
    "spark.sparkContext.addFile(url)\n",
    "users = spark.read.csv(SparkFiles.get(\"u.user\"), header=True, inferSchema=True, sep='|')\n",
    "users.show(5)"
   ]
  },
  {
   "cell_type": "markdown",
   "metadata": {},
   "source": [
    "### Step 4. Discover what is the mean age per occupation"
   ]
  },
  {
   "cell_type": "code",
   "execution_count": 6,
   "metadata": {},
   "outputs": [
    {
     "name": "stdout",
     "output_type": "stream",
     "text": [
      "+----------+------------------+\n",
      "|occupation|          avg(age)|\n",
      "+----------+------------------+\n",
      "| librarian|              40.0|\n",
      "|   retired| 63.07142857142857|\n",
      "|    lawyer|             36.75|\n",
      "|      none|26.555555555555557|\n",
      "|    writer| 36.31111111111111|\n",
      "+----------+------------------+\n",
      "only showing top 5 rows\n",
      "\n"
     ]
    }
   ],
   "source": [
    "users.groupBy(\"occupation\").mean().select(\"occupation\",\"avg(age)\").show(5)"
   ]
  },
  {
   "cell_type": "markdown",
   "metadata": {},
   "source": [
    "### Step 5. Discover the Male ratio per occupation and sort it from the most to the least"
   ]
  },
  {
   "cell_type": "code",
   "execution_count": 13,
   "metadata": {},
   "outputs": [],
   "source": [
    "from pyspark.sql.functions import *\n",
    "from pyspark.sql.types import *"
   ]
  },
  {
   "cell_type": "code",
   "execution_count": 20,
   "metadata": {},
   "outputs": [],
   "source": [
    "def gender_num(x):\n",
    "    if x == \"M\":\n",
    "        return int(1)\n",
    "    if x == \"F\":\n",
    "        return int(0)\n",
    "udf_gender_num = udf(lambda x: gender_num(x),IntegerType())    "
   ]
  },
  {
   "cell_type": "code",
   "execution_count": 22,
   "metadata": {},
   "outputs": [
    {
     "name": "stdout",
     "output_type": "stream",
     "text": [
      "+-------+---+------+----------+--------+----------+\n",
      "|user_id|age|gender|occupation|zip_code|gender_num|\n",
      "+-------+---+------+----------+--------+----------+\n",
      "|      1| 24|     M|technician|   85711|         1|\n",
      "|      2| 53|     F|     other|   94043|         0|\n",
      "|      3| 23|     M|    writer|   32067|         1|\n",
      "|      4| 24|     M|technician|   43537|         1|\n",
      "|      5| 33|     F|     other|   15213|         0|\n",
      "+-------+---+------+----------+--------+----------+\n",
      "only showing top 5 rows\n",
      "\n"
     ]
    }
   ],
   "source": [
    "users_df = users.withColumn(\"gender_num\", udf_gender_num(col(\"gender\")))\n",
    "users_df.show(5)"
   ]
  },
  {
   "cell_type": "code",
   "execution_count": 23,
   "metadata": {},
   "outputs": [
    {
     "name": "stdout",
     "output_type": "stream",
     "text": [
      "root\n",
      " |-- user_id: integer (nullable = true)\n",
      " |-- age: integer (nullable = true)\n",
      " |-- gender: string (nullable = true)\n",
      " |-- occupation: string (nullable = true)\n",
      " |-- zip_code: string (nullable = true)\n",
      " |-- gender_num: integer (nullable = true)\n",
      "\n"
     ]
    }
   ],
   "source": [
    "users_df.printSchema()"
   ]
  },
  {
   "cell_type": "code",
   "execution_count": 68,
   "metadata": {},
   "outputs": [
    {
     "name": "stdout",
     "output_type": "stream",
     "text": [
      "+----------+----------+\n",
      "|occupation|male_count|\n",
      "+----------+----------+\n",
      "| librarian|        22|\n",
      "|   retired|        13|\n",
      "|    lawyer|        10|\n",
      "|      none|         5|\n",
      "|    writer|        26|\n",
      "+----------+----------+\n",
      "only showing top 5 rows\n",
      "\n"
     ]
    }
   ],
   "source": [
    "users_male = users_df.filter(users_df.gender == \"M\").groupBy(\"occupation\").count()\n",
    "users_male = users_male.withColumnRenamed(\"count\", \"male_count\")\n",
    "users_male.show(5)"
   ]
  },
  {
   "cell_type": "code",
   "execution_count": 69,
   "metadata": {},
   "outputs": [
    {
     "name": "stdout",
     "output_type": "stream",
     "text": [
      "root\n",
      " |-- occupation: string (nullable = true)\n",
      " |-- male_count: long (nullable = false)\n",
      "\n"
     ]
    }
   ],
   "source": [
    "users_male.printSchema()"
   ]
  },
  {
   "cell_type": "code",
   "execution_count": 70,
   "metadata": {},
   "outputs": [
    {
     "name": "stdout",
     "output_type": "stream",
     "text": [
      "+----------+---------+\n",
      "|occupation|occ_total|\n",
      "+----------+---------+\n",
      "| librarian|       51|\n",
      "|   retired|       14|\n",
      "|    lawyer|       12|\n",
      "|      none|        9|\n",
      "|    writer|       45|\n",
      "+----------+---------+\n",
      "only showing top 5 rows\n",
      "\n"
     ]
    }
   ],
   "source": [
    "users_all = users_df.groupBy(\"occupation\").count()\n",
    "users_all = users_all.withColumnRenamed(\"count\",\"occ_total\")\n",
    "users_all.show(5)"
   ]
  },
  {
   "cell_type": "code",
   "execution_count": 71,
   "metadata": {},
   "outputs": [
    {
     "name": "stdout",
     "output_type": "stream",
     "text": [
      "root\n",
      " |-- occupation: string (nullable = true)\n",
      " |-- occ_total: long (nullable = false)\n",
      "\n"
     ]
    }
   ],
   "source": [
    "users_all.printSchema()"
   ]
  },
  {
   "cell_type": "code",
   "execution_count": 74,
   "metadata": {},
   "outputs": [
    {
     "name": "stdout",
     "output_type": "stream",
     "text": [
      "+----------+----------+---------+\n",
      "|occupation|male_count|occ_total|\n",
      "+----------+----------+---------+\n",
      "| librarian|        22|       51|\n",
      "|   retired|        13|       14|\n",
      "|    lawyer|        10|       12|\n",
      "|      none|         5|        9|\n",
      "|    writer|        26|       45|\n",
      "+----------+----------+---------+\n",
      "only showing top 5 rows\n",
      "\n"
     ]
    }
   ],
   "source": [
    "# result = users_male.join(users_all, users_male[\"occupation\"] == users_all[\"occupation\"])\n",
    "#produces duplicate column \"occupation\"\n",
    "\n",
    "#produces no duplicate columns\n",
    "result = users_male.join(users_all, [\"occupation\"])\n",
    "result.show(5)"
   ]
  },
  {
   "cell_type": "code",
   "execution_count": 77,
   "metadata": {},
   "outputs": [
    {
     "name": "stdout",
     "output_type": "stream",
     "text": [
      "+----------+----------+---------+-----------------+\n",
      "|occupation|male_count|occ_total|       male_ratio|\n",
      "+----------+----------+---------+-----------------+\n",
      "|    doctor|         7|        7|            100.0|\n",
      "|  engineer|        65|       67|97.01492537313433|\n",
      "|technician|        26|       27|96.29629629629629|\n",
      "|   retired|        13|       14|92.85714285714286|\n",
      "|programmer|        60|       66| 90.9090909090909|\n",
      "+----------+----------+---------+-----------------+\n",
      "only showing top 5 rows\n",
      "\n"
     ]
    }
   ],
   "source": [
    "result_male_ratio = result.withColumn(\"male_ratio\",(result['male_count']/result['occ_total'])*100 )\n",
    "result_male_ratio.orderBy(\"male_ratio\", ascending=0).show(5)\n",
    "# result_male_ratio.show(5)"
   ]
  },
  {
   "cell_type": "markdown",
   "metadata": {},
   "source": [
    "### Step 6. For each occupation, calculate the minimum and maximum ages"
   ]
  },
  {
   "cell_type": "code",
   "execution_count": 80,
   "metadata": {},
   "outputs": [
    {
     "name": "stdout",
     "output_type": "stream",
     "text": [
      "+----------+--------+--------+\n",
      "|occupation|min(age)|max(age)|\n",
      "+----------+--------+--------+\n",
      "| librarian|      23|      69|\n",
      "|   retired|      51|      73|\n",
      "|    lawyer|      21|      53|\n",
      "|      none|      11|      55|\n",
      "|    writer|      18|      60|\n",
      "+----------+--------+--------+\n",
      "only showing top 5 rows\n",
      "\n"
     ]
    }
   ],
   "source": [
    "# users.groupBy(\"occupation\").agg({\"age\":\"min\", \"age\":\"max\"}).show(5)\n",
    "#performs the last agg in the dict\n",
    "\n",
    "#from pyspark.sql.functions import *\n",
    "# min & max must be already imported from pyspark.sql.functions\n",
    "\n",
    "users.groupBy(\"occupation\").agg(min('age'), max('age')).show(5)"
   ]
  },
  {
   "cell_type": "markdown",
   "metadata": {},
   "source": [
    "### Step 7. For each combination of occupation and gender, calculate the mean age"
   ]
  },
  {
   "cell_type": "code",
   "execution_count": 83,
   "metadata": {},
   "outputs": [
    {
     "name": "stdout",
     "output_type": "stream",
     "text": [
      "+-------------+------+------------------+\n",
      "|   occupation|gender|          avg(age)|\n",
      "+-------------+------+------------------+\n",
      "|administrator|     M| 37.16279069767442|\n",
      "|administrator|     F|40.638888888888886|\n",
      "|       artist|     M|32.333333333333336|\n",
      "|       artist|     F|30.307692307692307|\n",
      "|       doctor|     M| 43.57142857142857|\n",
      "+-------------+------+------------------+\n",
      "only showing top 5 rows\n",
      "\n"
     ]
    }
   ],
   "source": [
    "users.groupBy(\"occupation\",\"gender\").agg(mean('age')).orderBy(\"occupation\").show(5)"
   ]
  },
  {
   "cell_type": "markdown",
   "metadata": {},
   "source": [
    "### Step 8.  For each occupation present the percentage of women and men"
   ]
  },
  {
   "cell_type": "code",
   "execution_count": 85,
   "metadata": {},
   "outputs": [
    {
     "name": "stdout",
     "output_type": "stream",
     "text": [
      "+-------------+------+------------+\n",
      "|   occupation|gender|gender_count|\n",
      "+-------------+------+------------+\n",
      "|   technician|     M|          26|\n",
      "|     educator|     F|          26|\n",
      "|       lawyer|     F|           2|\n",
      "|entertainment|     F|           2|\n",
      "|       lawyer|     M|          10|\n",
      "+-------------+------+------------+\n",
      "only showing top 5 rows\n",
      "\n"
     ]
    }
   ],
   "source": [
    "# create a data frame and apply count to gender\n",
    "# gender_ocup = users.groupby(['occupation', 'gender']).agg({'gender': 'count'})\n",
    "gender_ocup = users.groupBy(\"occupation\",\"gender\").agg({\"gender\": \"count\"})\n",
    "gender_ocup = gender_ocup.withColumnRenamed(\"count(gender)\", \"gender_count\")\n",
    "gender_ocup.show(5)"
   ]
  },
  {
   "cell_type": "code",
   "execution_count": 87,
   "metadata": {},
   "outputs": [
    {
     "name": "stdout",
     "output_type": "stream",
     "text": [
      "+----------+-----------+\n",
      "|occupation|occup_count|\n",
      "+----------+-----------+\n",
      "| librarian|         51|\n",
      "|   retired|         14|\n",
      "|    lawyer|         12|\n",
      "|      none|          9|\n",
      "|    writer|         45|\n",
      "+----------+-----------+\n",
      "only showing top 5 rows\n",
      "\n"
     ]
    }
   ],
   "source": [
    "# create a DataFrame and apply count for each occupation\n",
    "# occup_count = users.groupby(['occupation']).agg('count')\n",
    "occup_count = users.groupBy(\"occupation\").count()\n",
    "occup_count = occup_count.withColumnRenamed(\"count\",\"occup_count\")\n",
    "occup_count.show(5)"
   ]
  },
  {
   "cell_type": "code",
   "execution_count": 89,
   "metadata": {},
   "outputs": [
    {
     "name": "stdout",
     "output_type": "stream",
     "text": [
      "+-------------+------+------------+-----------+\n",
      "|   occupation|gender|gender_count|occup_count|\n",
      "+-------------+------+------------+-----------+\n",
      "|   technician|     M|          26|         27|\n",
      "|     educator|     F|          26|         95|\n",
      "|       lawyer|     F|           2|         12|\n",
      "|entertainment|     F|           2|         18|\n",
      "|       lawyer|     M|          10|         12|\n",
      "+-------------+------+------------+-----------+\n",
      "only showing top 5 rows\n",
      "\n"
     ]
    }
   ],
   "source": [
    "# divide the gender_ocup per the occup_count and multiply per 100\n",
    "# occup_gender = gender_ocup.div(occup_count, level = \"occupation\") * 100\n",
    "occup_gender = gender_ocup.join(occup_count,['occupation'])\n",
    "occup_gender.show(5)"
   ]
  },
  {
   "cell_type": "code",
   "execution_count": 93,
   "metadata": {},
   "outputs": [
    {
     "name": "stdout",
     "output_type": "stream",
     "text": [
      "+-------------+------+------------+-----------+-----------------+\n",
      "|   occupation|gender|gender_count|occup_count| percent_presence|\n",
      "+-------------+------+------------+-----------+-----------------+\n",
      "|administrator|     F|          36|         79|45.56962025316456|\n",
      "|administrator|     M|          43|         79|54.43037974683544|\n",
      "|       artist|     F|          13|         28|46.42857142857143|\n",
      "|       artist|     M|          15|         28|53.57142857142857|\n",
      "|       doctor|     M|           7|          7|            100.0|\n",
      "+-------------+------+------------+-----------+-----------------+\n",
      "only showing top 5 rows\n",
      "\n"
     ]
    }
   ],
   "source": [
    "occup_gender = occup_gender.withColumn(\"percent_presence\", (occup_gender['gender_count']/occup_gender['occup_count'])*100)\n",
    "occup_gender.orderBy([\"occupation\",\"gender\"], ascending=1).show(5)"
   ]
  }
 ],
 "metadata": {
  "kernelspec": {
   "display_name": "Python 3",
   "language": "python",
   "name": "python3"
  },
  "language_info": {
   "codemirror_mode": {
    "name": "ipython",
    "version": 3
   },
   "file_extension": ".py",
   "mimetype": "text/x-python",
   "name": "python",
   "nbconvert_exporter": "python",
   "pygments_lexer": "ipython3",
   "version": "3.9.6"
  }
 },
 "nbformat": 4,
 "nbformat_minor": 1
}
