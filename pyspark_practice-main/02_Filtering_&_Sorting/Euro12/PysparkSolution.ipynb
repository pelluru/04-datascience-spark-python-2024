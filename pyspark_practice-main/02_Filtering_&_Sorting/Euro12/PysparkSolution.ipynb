{
 "cells": [
  {
   "cell_type": "markdown",
   "metadata": {},
   "source": [
    "# Ex2 - Filtering and Sorting Data"
   ]
  },
  {
   "cell_type": "markdown",
   "metadata": {},
   "source": [
    "This time we are going to pull data directly from the internet.\n",
    "\n",
    "### Step 1. Import the necessary libraries"
   ]
  },
  {
   "cell_type": "code",
   "execution_count": 1,
   "metadata": {},
   "outputs": [
    {
     "data": {
      "text/html": [
       "\n",
       "            <div>\n",
       "                <p><b>SparkSession - in-memory</b></p>\n",
       "                \n",
       "        <div>\n",
       "            <p><b>SparkContext</b></p>\n",
       "\n",
       "            <p><a href=\"http://192.168.1.20:4040\">Spark UI</a></p>\n",
       "\n",
       "            <dl>\n",
       "              <dt>Version</dt>\n",
       "                <dd><code>v3.1.2</code></dd>\n",
       "              <dt>Master</dt>\n",
       "                <dd><code>local[*]</code></dd>\n",
       "              <dt>AppName</dt>\n",
       "                <dd><code>ex2</code></dd>\n",
       "            </dl>\n",
       "        </div>\n",
       "        \n",
       "            </div>\n",
       "        "
      ],
      "text/plain": [
       "<pyspark.sql.session.SparkSession at 0x11641beb0>"
      ]
     },
     "execution_count": 1,
     "metadata": {},
     "output_type": "execute_result"
    }
   ],
   "source": [
    "import pyspark\n",
    "from pyspark.sql import SparkSession\n",
    "spark = SparkSession.builder.appName(\"ex2\").getOrCreate()\n",
    "spark"
   ]
  },
  {
   "cell_type": "markdown",
   "metadata": {},
   "source": [
    "### Step 2. Import the dataset from this [address](https://raw.githubusercontent.com/guipsamora/pandas_exercises/master/02_Filtering_%26_Sorting/Euro12/Euro_2012_stats_TEAM.csv). "
   ]
  },
  {
   "cell_type": "markdown",
   "metadata": {},
   "source": [
    "### Step 3. Assign it to a variable called euro12."
   ]
  },
  {
   "cell_type": "code",
   "execution_count": 2,
   "metadata": {},
   "outputs": [],
   "source": [
    "from pyspark import SparkFiles"
   ]
  },
  {
   "cell_type": "code",
   "execution_count": 16,
   "metadata": {},
   "outputs": [],
   "source": [
    "url = \"https://raw.githubusercontent.com/guipsamora/pandas_exercises/master/02_Filtering_%26_Sorting/Euro12/Euro_2012_stats_TEAM.csv\"\n",
    "spark.sparkContext.addFile(url)\n",
    "euro12 = spark.read.csv(SparkFiles.get('Euro_2012_stats_TEAM.csv'), header=True, inferSchema=True, sep=',')"
   ]
  },
  {
   "cell_type": "code",
   "execution_count": 18,
   "metadata": {},
   "outputs": [
    {
     "data": {
      "text/plain": [
       "[Row(Team='Croatia', Goals=4, Shots on target=13, Shots off target=12, Shooting Accuracy='51.9%', % Goals-to-shots='16.0%', Total shots (inc. Blocked)=32, Hit Woodwork=0, Penalty goals=0, Penalties not scored=0, Headed goals=2, Passes=1076, Passes completed=828, Passing Accuracy='76.9%', Touches=1706, Crosses=60, Dribbles=42, Corners Taken=14, Tackles=49, Clearances=83, Interceptions=56, Clearances off line=None, Clean Sheets=0, Blocks=10, Goals conceded=3, Saves made=13, Saves-to-shots ratio='81.3%', Fouls Won=41, Fouls Conceded=62, Offsides=2, Yellow Cards=9, Red Cards=0, Subs on=9, Subs off=9, Players Used=16)]"
      ]
     },
     "execution_count": 18,
     "metadata": {},
     "output_type": "execute_result"
    }
   ],
   "source": [
    "euro12.take(1)"
   ]
  },
  {
   "cell_type": "code",
   "execution_count": 15,
   "metadata": {},
   "outputs": [
    {
     "name": "stdout",
     "output_type": "stream",
     "text": [
      "16 , 35\n"
     ]
    }
   ],
   "source": [
    "print(euro12.count(), ',',len(euro12.columns))"
   ]
  },
  {
   "cell_type": "markdown",
   "metadata": {},
   "source": [
    "### Step 4. Select only the Goal column."
   ]
  },
  {
   "cell_type": "code",
   "execution_count": 5,
   "metadata": {},
   "outputs": [
    {
     "name": "stdout",
     "output_type": "stream",
     "text": [
      "+-----+\n",
      "|Goals|\n",
      "+-----+\n",
      "|    4|\n",
      "|    4|\n",
      "|    4|\n",
      "|    5|\n",
      "|    3|\n",
      "+-----+\n",
      "only showing top 5 rows\n",
      "\n"
     ]
    }
   ],
   "source": [
    "euro12.select(euro12['Goals']).show(5)"
   ]
  },
  {
   "cell_type": "markdown",
   "metadata": {},
   "source": [
    "### Step 5. How many team participated in the Euro2012?"
   ]
  },
  {
   "cell_type": "code",
   "execution_count": 14,
   "metadata": {},
   "outputs": [
    {
     "name": "stdout",
     "output_type": "stream",
     "text": [
      "Teams:  16\n"
     ]
    }
   ],
   "source": [
    "print(\"Teams: \",euro12.count())"
   ]
  },
  {
   "cell_type": "code",
   "execution_count": 8,
   "metadata": {},
   "outputs": [],
   "source": [
    "from pyspark.sql.functions import countDistinct, count"
   ]
  },
  {
   "cell_type": "code",
   "execution_count": 11,
   "metadata": {},
   "outputs": [
    {
     "data": {
      "text/plain": [
       "16"
      ]
     },
     "execution_count": 11,
     "metadata": {},
     "output_type": "execute_result"
    }
   ],
   "source": [
    "euro12.select(countDistinct('Team')).head(1)[0][0]"
   ]
  },
  {
   "cell_type": "code",
   "execution_count": 7,
   "metadata": {},
   "outputs": [
    {
     "name": "stdout",
     "output_type": "stream",
     "text": [
      "['Team', 'Goals', 'Shots on target', 'Shots off target', 'Shooting Accuracy', '% Goals-to-shots', 'Total shots (inc. Blocked)', 'Hit Woodwork', 'Penalty goals', 'Penalties not scored', 'Headed goals', 'Passes', 'Passes completed', 'Passing Accuracy', 'Touches', 'Crosses', 'Dribbles', 'Corners Taken', 'Tackles', 'Clearances', 'Interceptions', 'Clearances off line', 'Clean Sheets', 'Blocks', 'Goals conceded', 'Saves made', 'Saves-to-shots ratio', 'Fouls Won', 'Fouls Conceded', 'Offsides', 'Yellow Cards', 'Red Cards', 'Subs on', 'Subs off', 'Players Used']\n"
     ]
    }
   ],
   "source": [
    "print(euro12.columns)"
   ]
  },
  {
   "cell_type": "markdown",
   "metadata": {},
   "source": [
    "### Step 6. What is the number of columns in the dataset?"
   ]
  },
  {
   "cell_type": "code",
   "execution_count": 19,
   "metadata": {},
   "outputs": [
    {
     "name": "stdout",
     "output_type": "stream",
     "text": [
      "35\n"
     ]
    }
   ],
   "source": [
    "print(len(euro12.columns))"
   ]
  },
  {
   "cell_type": "markdown",
   "metadata": {},
   "source": [
    "### Step 7. View only the columns Team, Yellow Cards and Red Cards and assign them to a dataframe called discipline"
   ]
  },
  {
   "cell_type": "code",
   "execution_count": 22,
   "metadata": {},
   "outputs": [
    {
     "name": "stdout",
     "output_type": "stream",
     "text": [
      "+--------------+------------+---------+\n",
      "|          Team|Yellow Cards|Red Cards|\n",
      "+--------------+------------+---------+\n",
      "|       Croatia|           9|        0|\n",
      "|Czech Republic|           7|        0|\n",
      "|       Denmark|           4|        0|\n",
      "|       England|           5|        0|\n",
      "|        France|           6|        0|\n",
      "+--------------+------------+---------+\n",
      "only showing top 5 rows\n",
      "\n"
     ]
    }
   ],
   "source": [
    "discipline = euro12.select(\"Team\", \"Yellow Cards\", \"Red Cards\")\n",
    "discipline.show(5)"
   ]
  },
  {
   "cell_type": "markdown",
   "metadata": {},
   "source": [
    "### Step 8. Sort the teams by Red Cards, then to Yellow Cards"
   ]
  },
  {
   "cell_type": "code",
   "execution_count": 24,
   "metadata": {
    "scrolled": true
   },
   "outputs": [
    {
     "data": {
      "text/plain": [
       "[Row(Team='Germany', Goals=10, Shots on target=32, Shots off target=32, Shooting Accuracy='47.8%', % Goals-to-shots='15.6%', Total shots (inc. Blocked)=80, Hit Woodwork=2, Penalty goals=1, Penalties not scored=0, Headed goals=2, Passes=2774, Passes completed=2427, Passing Accuracy='87.4%', Touches=3761, Crosses=101, Dribbles=60, Corners Taken=35, Tackles=91, Clearances=73, Interceptions=69, Clearances off line=0, Clean Sheets=1, Blocks=11, Goals conceded=6, Saves made=10, Saves-to-shots ratio='62.6%', Fouls Won=63, Fouls Conceded=49, Offsides=12, Yellow Cards=4, Red Cards=0, Subs on=15, Subs off=15, Players Used=17),\n",
       " Row(Team='Denmark', Goals=4, Shots on target=10, Shots off target=10, Shooting Accuracy='50.0%', % Goals-to-shots='20.0%', Total shots (inc. Blocked)=27, Hit Woodwork=1, Penalty goals=0, Penalties not scored=0, Headed goals=3, Passes=1298, Passes completed=1082, Passing Accuracy='83.3%', Touches=1873, Crosses=43, Dribbles=32, Corners Taken=16, Tackles=40, Clearances=61, Interceptions=59, Clearances off line=0, Clean Sheets=1, Blocks=10, Goals conceded=5, Saves made=10, Saves-to-shots ratio='66.7%', Fouls Won=25, Fouls Conceded=38, Offsides=8, Yellow Cards=4, Red Cards=0, Subs on=7, Subs off=7, Players Used=15),\n",
       " Row(Team='England', Goals=5, Shots on target=11, Shots off target=18, Shooting Accuracy='50.0%', % Goals-to-shots='17.2%', Total shots (inc. Blocked)=40, Hit Woodwork=0, Penalty goals=0, Penalties not scored=0, Headed goals=3, Passes=1488, Passes completed=1200, Passing Accuracy='80.6%', Touches=2440, Crosses=58, Dribbles=60, Corners Taken=16, Tackles=86, Clearances=106, Interceptions=72, Clearances off line=1, Clean Sheets=2, Blocks=29, Goals conceded=3, Saves made=22, Saves-to-shots ratio='88.1%', Fouls Won=43, Fouls Conceded=45, Offsides=6, Yellow Cards=5, Red Cards=0, Subs on=11, Subs off=11, Players Used=16)]"
      ]
     },
     "execution_count": 24,
     "metadata": {},
     "output_type": "execute_result"
    }
   ],
   "source": [
    "euro12.orderBy([\"Red Cards\",\"Yellow Cards\"]).take(3)"
   ]
  },
  {
   "cell_type": "markdown",
   "metadata": {},
   "source": [
    "### Step 9. Calculate the mean Yellow Cards given per Team"
   ]
  },
  {
   "cell_type": "code",
   "execution_count": 36,
   "metadata": {},
   "outputs": [
    {
     "data": {
      "text/plain": [
       "7.4375"
      ]
     },
     "execution_count": 36,
     "metadata": {},
     "output_type": "execute_result"
    }
   ],
   "source": [
    "euro12.agg({\"Yellow Cards\" : \"mean\"}).head(1)[0][0]"
   ]
  },
  {
   "cell_type": "markdown",
   "metadata": {},
   "source": [
    "### Step 10. Filter teams that scored more than 6 goals"
   ]
  },
  {
   "cell_type": "code",
   "execution_count": 39,
   "metadata": {},
   "outputs": [
    {
     "name": "stdout",
     "output_type": "stream",
     "text": [
      "+-------+-----+\n",
      "|   Team|Goals|\n",
      "+-------+-----+\n",
      "|Germany|   10|\n",
      "|  Spain|   12|\n",
      "+-------+-----+\n",
      "\n"
     ]
    }
   ],
   "source": [
    "euro12.select(\"Team\",\"Goals\").filter(\"Goals>6\").show()"
   ]
  },
  {
   "cell_type": "markdown",
   "metadata": {},
   "source": [
    "### Step 11. Select the teams that start with G"
   ]
  },
  {
   "cell_type": "code",
   "execution_count": 41,
   "metadata": {},
   "outputs": [
    {
     "name": "stdout",
     "output_type": "stream",
     "text": [
      "+-------+\n",
      "|   Team|\n",
      "+-------+\n",
      "|Germany|\n",
      "| Greece|\n",
      "+-------+\n",
      "\n"
     ]
    }
   ],
   "source": [
    "euro12.where(euro12.Team.startswith(\"G\")).select(\"Team\").show()"
   ]
  },
  {
   "cell_type": "markdown",
   "metadata": {},
   "source": [
    "### Step 12. Select the first 7 columns"
   ]
  },
  {
   "cell_type": "code",
   "execution_count": 66,
   "metadata": {},
   "outputs": [],
   "source": [
    "# new_df = euro12.select(euro12.columns[:7])\n",
    "# new_df.show()"
   ]
  },
  {
   "cell_type": "markdown",
   "metadata": {},
   "source": [
    "### Step 13. Select all columns except the last 3."
   ]
  },
  {
   "cell_type": "code",
   "execution_count": 65,
   "metadata": {},
   "outputs": [],
   "source": [
    "#euro12.select(euro12.columns[0:-3]).show(5)"
   ]
  },
  {
   "cell_type": "markdown",
   "metadata": {},
   "source": [
    "### Step 14. Present only the Shooting Accuracy from England, Italy and Russia"
   ]
  },
  {
   "cell_type": "code",
   "execution_count": 63,
   "metadata": {},
   "outputs": [
    {
     "name": "stdout",
     "output_type": "stream",
     "text": [
      "+-------+-----------------+\n",
      "|   Team|Shooting Accuracy|\n",
      "+-------+-----------------+\n",
      "|England|            50.0%|\n",
      "|  Italy|            43.0%|\n",
      "| Russia|            22.5%|\n",
      "+-------+-----------------+\n",
      "\n"
     ]
    }
   ],
   "source": [
    "euro12.select(\"Team\",\"Shooting Accuracy\").filter(euro12.Team.isin(['England','Italy','Russia'])).show()"
   ]
  },
  {
   "cell_type": "code",
   "execution_count": 64,
   "metadata": {
    "scrolled": true
   },
   "outputs": [
    {
     "name": "stdout",
     "output_type": "stream",
     "text": [
      "+-------+-----------------+\n",
      "|   Team|Shooting Accuracy|\n",
      "+-------+-----------------+\n",
      "|England|            50.0%|\n",
      "|  Italy|            43.0%|\n",
      "| Russia|            22.5%|\n",
      "+-------+-----------------+\n",
      "\n"
     ]
    }
   ],
   "source": [
    "countries = ['England','Italy','Russia']\n",
    "euro12.select(\"Team\",\"Shooting Accuracy\").filter(euro12.Team.isin(countries)).show()"
   ]
  }
 ],
 "metadata": {
  "anaconda-cloud": {},
  "kernelspec": {
   "display_name": "Python 3",
   "language": "python",
   "name": "python3"
  },
  "language_info": {
   "codemirror_mode": {
    "name": "ipython",
    "version": 3
   },
   "file_extension": ".py",
   "mimetype": "text/x-python",
   "name": "python",
   "nbconvert_exporter": "python",
   "pygments_lexer": "ipython3",
   "version": "3.9.6"
  }
 },
 "nbformat": 4,
 "nbformat_minor": 1
}
