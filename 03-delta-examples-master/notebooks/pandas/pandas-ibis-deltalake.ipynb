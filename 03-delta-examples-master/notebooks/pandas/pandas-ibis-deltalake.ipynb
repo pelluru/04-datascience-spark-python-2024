{
 "cells": [
  {
   "cell_type": "markdown",
   "id": "97e69fec-8792-483d-bafe-06ae20a246bd",
   "metadata": {},
   "source": [
    "# Pandas / Ibis / deltalake"
   ]
  },
  {
   "cell_type": "code",
   "execution_count": 2,
   "id": "3a8984ae-8d15-4472-aa01-28d9448e06f5",
   "metadata": {
    "tags": []
   },
   "outputs": [],
   "source": [
    "import os\n",
    "\n",
    "import pandas as pd\n",
    "from deltalake import DeltaTable\n",
    "from deltalake.writer import write_deltalake"
   ]
  },
  {
   "cell_type": "markdown",
   "id": "1da12577-f1b2-46ae-b4f6-b1be2073ce73",
   "metadata": {},
   "source": [
    "# Create a Delta table"
   ]
  },
  {
   "cell_type": "code",
   "execution_count": 3,
   "id": "2e4ddf02-41a8-4d11-9e38-ed230ded8b56",
   "metadata": {
    "tags": []
   },
   "outputs": [],
   "source": [
    "df = pd.DataFrame({\"x\": [\"a\", \"b\", \"c\", \"a\"], \"y\": [1, 2, 3, 4]})"
   ]
  },
  {
   "cell_type": "code",
   "execution_count": 4,
   "id": "6d463fa2-9576-4b11-b98a-832982230050",
   "metadata": {
    "tags": []
   },
   "outputs": [
    {
     "data": {
      "text/html": [
       "<div>\n",
       "<style scoped>\n",
       "    .dataframe tbody tr th:only-of-type {\n",
       "        vertical-align: middle;\n",
       "    }\n",
       "\n",
       "    .dataframe tbody tr th {\n",
       "        vertical-align: top;\n",
       "    }\n",
       "\n",
       "    .dataframe thead th {\n",
       "        text-align: right;\n",
       "    }\n",
       "</style>\n",
       "<table border=\"1\" class=\"dataframe\">\n",
       "  <thead>\n",
       "    <tr style=\"text-align: right;\">\n",
       "      <th></th>\n",
       "      <th>x</th>\n",
       "      <th>y</th>\n",
       "    </tr>\n",
       "  </thead>\n",
       "  <tbody>\n",
       "    <tr>\n",
       "      <th>0</th>\n",
       "      <td>a</td>\n",
       "      <td>1</td>\n",
       "    </tr>\n",
       "    <tr>\n",
       "      <th>1</th>\n",
       "      <td>b</td>\n",
       "      <td>2</td>\n",
       "    </tr>\n",
       "    <tr>\n",
       "      <th>2</th>\n",
       "      <td>c</td>\n",
       "      <td>3</td>\n",
       "    </tr>\n",
       "    <tr>\n",
       "      <th>3</th>\n",
       "      <td>a</td>\n",
       "      <td>4</td>\n",
       "    </tr>\n",
       "  </tbody>\n",
       "</table>\n",
       "</div>"
      ],
      "text/plain": [
       "   x  y\n",
       "0  a  1\n",
       "1  b  2\n",
       "2  c  3\n",
       "3  a  4"
      ]
     },
     "execution_count": 4,
     "metadata": {},
     "output_type": "execute_result"
    }
   ],
   "source": [
    "df"
   ]
  },
  {
   "cell_type": "code",
   "execution_count": 5,
   "id": "8b416dda-9eda-4d53-ad61-359a5b3b3f6b",
   "metadata": {
    "tags": []
   },
   "outputs": [],
   "source": [
    "os.makedirs(\"tmp/some_delta_lake\", exist_ok=True)"
   ]
  },
  {
   "cell_type": "code",
   "execution_count": 6,
   "id": "63de2835-700f-4d87-87eb-562e35d6304f",
   "metadata": {
    "tags": []
   },
   "outputs": [],
   "source": [
    "write_deltalake(\"tmp/some_delta_lake\", df)"
   ]
  },
  {
   "cell_type": "markdown",
   "id": "697a0677-f70e-4cdf-8982-f3e0950f9642",
   "metadata": {},
   "source": [
    "## Append to the Delta table"
   ]
  },
  {
   "cell_type": "code",
   "execution_count": 7,
   "id": "de0a196a-f06f-4830-b12f-fdd416ef7568",
   "metadata": {
    "tags": []
   },
   "outputs": [],
   "source": [
    "df = pd.DataFrame({\"x\": [\"l\", \"m\"], \"y\": [20, 30]})"
   ]
  },
  {
   "cell_type": "code",
   "execution_count": 8,
   "id": "2c3bdeef-d7de-4539-8798-9182476d37d1",
   "metadata": {
    "tags": []
   },
   "outputs": [
    {
     "data": {
      "text/html": [
       "<div>\n",
       "<style scoped>\n",
       "    .dataframe tbody tr th:only-of-type {\n",
       "        vertical-align: middle;\n",
       "    }\n",
       "\n",
       "    .dataframe tbody tr th {\n",
       "        vertical-align: top;\n",
       "    }\n",
       "\n",
       "    .dataframe thead th {\n",
       "        text-align: right;\n",
       "    }\n",
       "</style>\n",
       "<table border=\"1\" class=\"dataframe\">\n",
       "  <thead>\n",
       "    <tr style=\"text-align: right;\">\n",
       "      <th></th>\n",
       "      <th>x</th>\n",
       "      <th>y</th>\n",
       "    </tr>\n",
       "  </thead>\n",
       "  <tbody>\n",
       "    <tr>\n",
       "      <th>0</th>\n",
       "      <td>l</td>\n",
       "      <td>20</td>\n",
       "    </tr>\n",
       "    <tr>\n",
       "      <th>1</th>\n",
       "      <td>m</td>\n",
       "      <td>30</td>\n",
       "    </tr>\n",
       "  </tbody>\n",
       "</table>\n",
       "</div>"
      ],
      "text/plain": [
       "   x   y\n",
       "0  l  20\n",
       "1  m  30"
      ]
     },
     "execution_count": 8,
     "metadata": {},
     "output_type": "execute_result"
    }
   ],
   "source": [
    "df"
   ]
  },
  {
   "cell_type": "code",
   "execution_count": 9,
   "id": "f551a08e-0eba-4b2f-bfd5-b261bf755339",
   "metadata": {
    "tags": []
   },
   "outputs": [],
   "source": [
    "write_deltalake(\"tmp/some_delta_lake\", df, mode=\"append\")"
   ]
  },
  {
   "cell_type": "markdown",
   "id": "bfa1a031-edc6-469b-a6e4-75b53bf46392",
   "metadata": {},
   "source": [
    "## Create an Ibis table from the Delta table"
   ]
  },
  {
   "cell_type": "code",
   "execution_count": 25,
   "id": "2e7d01b6-95e2-4efa-aa90-aa39f4b6ce2b",
   "metadata": {
    "tags": []
   },
   "outputs": [],
   "source": [
    "import ibis"
   ]
  },
  {
   "cell_type": "code",
   "execution_count": 37,
   "id": "009bbf4b-7a4a-4c14-b346-9246d3e087f7",
   "metadata": {
    "tags": []
   },
   "outputs": [],
   "source": [
    "con = ibis.pandas.connect({\"t\": DeltaTable(\"tmp/some_delta_lake\").to_pandas()})"
   ]
  },
  {
   "cell_type": "code",
   "execution_count": 38,
   "id": "c05095cb-a166-4858-afcd-ad6d4eb695ca",
   "metadata": {
    "tags": []
   },
   "outputs": [
    {
     "data": {
      "text/plain": [
       "['t']"
      ]
     },
     "execution_count": 38,
     "metadata": {},
     "output_type": "execute_result"
    }
   ],
   "source": [
    "con.list_tables()"
   ]
  },
  {
   "cell_type": "code",
   "execution_count": 39,
   "id": "495e549d-c1b4-4817-89f7-3557750b9cea",
   "metadata": {
    "tags": []
   },
   "outputs": [],
   "source": [
    "t = con.table(\"t\")"
   ]
  },
  {
   "cell_type": "code",
   "execution_count": 40,
   "id": "83592eaf-2f9a-4e86-b007-fc8cd66e75cb",
   "metadata": {
    "tags": []
   },
   "outputs": [
    {
     "data": {
      "text/html": [
       "<div>\n",
       "<style scoped>\n",
       "    .dataframe tbody tr th:only-of-type {\n",
       "        vertical-align: middle;\n",
       "    }\n",
       "\n",
       "    .dataframe tbody tr th {\n",
       "        vertical-align: top;\n",
       "    }\n",
       "\n",
       "    .dataframe thead th {\n",
       "        text-align: right;\n",
       "    }\n",
       "</style>\n",
       "<table border=\"1\" class=\"dataframe\">\n",
       "  <thead>\n",
       "    <tr style=\"text-align: right;\">\n",
       "      <th></th>\n",
       "      <th>x</th>\n",
       "      <th>y</th>\n",
       "    </tr>\n",
       "  </thead>\n",
       "  <tbody>\n",
       "    <tr>\n",
       "      <th>0</th>\n",
       "      <td>a</td>\n",
       "      <td>1</td>\n",
       "    </tr>\n",
       "    <tr>\n",
       "      <th>1</th>\n",
       "      <td>b</td>\n",
       "      <td>2</td>\n",
       "    </tr>\n",
       "  </tbody>\n",
       "</table>\n",
       "</div>"
      ],
      "text/plain": [
       "   x  y\n",
       "0  a  1\n",
       "1  b  2"
      ]
     },
     "execution_count": 40,
     "metadata": {},
     "output_type": "execute_result"
    }
   ],
   "source": [
    "t.head(2).execute()"
   ]
  },
  {
   "cell_type": "code",
   "execution_count": 41,
   "id": "a0064fe8-8a91-49a0-a5c1-701efb08a9d6",
   "metadata": {
    "tags": []
   },
   "outputs": [
    {
     "data": {
      "text/html": [
       "<div>\n",
       "<style scoped>\n",
       "    .dataframe tbody tr th:only-of-type {\n",
       "        vertical-align: middle;\n",
       "    }\n",
       "\n",
       "    .dataframe tbody tr th {\n",
       "        vertical-align: top;\n",
       "    }\n",
       "\n",
       "    .dataframe thead th {\n",
       "        text-align: right;\n",
       "    }\n",
       "</style>\n",
       "<table border=\"1\" class=\"dataframe\">\n",
       "  <thead>\n",
       "    <tr style=\"text-align: right;\">\n",
       "      <th></th>\n",
       "      <th>x</th>\n",
       "      <th>y</th>\n",
       "    </tr>\n",
       "  </thead>\n",
       "  <tbody>\n",
       "    <tr>\n",
       "      <th>0</th>\n",
       "      <td>a</td>\n",
       "      <td>4</td>\n",
       "    </tr>\n",
       "    <tr>\n",
       "      <th>1</th>\n",
       "      <td>l</td>\n",
       "      <td>20</td>\n",
       "    </tr>\n",
       "    <tr>\n",
       "      <th>2</th>\n",
       "      <td>m</td>\n",
       "      <td>30</td>\n",
       "    </tr>\n",
       "  </tbody>\n",
       "</table>\n",
       "</div>"
      ],
      "text/plain": [
       "   x   y\n",
       "0  a   4\n",
       "1  l  20\n",
       "2  m  30"
      ]
     },
     "execution_count": 41,
     "metadata": {},
     "output_type": "execute_result"
    }
   ],
   "source": [
    "t.filter(t.y >= 4).execute()"
   ]
  },
  {
   "cell_type": "markdown",
   "id": "35f25fcc-49c0-444f-8812-a38d5b63331d",
   "metadata": {},
   "source": [
    "## Time travel back to version 0 of the data"
   ]
  },
  {
   "cell_type": "code",
   "execution_count": 22,
   "id": "cfceb37c-0db0-4ed9-8c24-fba51a6ba4da",
   "metadata": {
    "tags": []
   },
   "outputs": [],
   "source": [
    "con = ibis.pandas.connect({\"t\": DeltaTable(\"tmp/some_delta_lake\", version=0).to_pandas()})"
   ]
  },
  {
   "cell_type": "code",
   "execution_count": 23,
   "id": "4097d6ab-29a9-4faa-a86c-6c615c32b62e",
   "metadata": {
    "tags": []
   },
   "outputs": [],
   "source": [
    "t = con.table(\"t\")"
   ]
  },
  {
   "cell_type": "code",
   "execution_count": 24,
   "id": "36f8597c-ee54-463a-afd8-15f521166508",
   "metadata": {
    "tags": []
   },
   "outputs": [
    {
     "data": {
      "text/html": [
       "<div>\n",
       "<style scoped>\n",
       "    .dataframe tbody tr th:only-of-type {\n",
       "        vertical-align: middle;\n",
       "    }\n",
       "\n",
       "    .dataframe tbody tr th {\n",
       "        vertical-align: top;\n",
       "    }\n",
       "\n",
       "    .dataframe thead th {\n",
       "        text-align: right;\n",
       "    }\n",
       "</style>\n",
       "<table border=\"1\" class=\"dataframe\">\n",
       "  <thead>\n",
       "    <tr style=\"text-align: right;\">\n",
       "      <th></th>\n",
       "      <th>x</th>\n",
       "      <th>y</th>\n",
       "    </tr>\n",
       "  </thead>\n",
       "  <tbody>\n",
       "    <tr>\n",
       "      <th>0</th>\n",
       "      <td>a</td>\n",
       "      <td>4</td>\n",
       "    </tr>\n",
       "  </tbody>\n",
       "</table>\n",
       "</div>"
      ],
      "text/plain": [
       "   x  y\n",
       "0  a  4"
      ]
     },
     "execution_count": 24,
     "metadata": {},
     "output_type": "execute_result"
    }
   ],
   "source": [
    "t.filter(t.y >= 4).execute()"
   ]
  },
  {
   "cell_type": "code",
   "execution_count": null,
   "id": "a9abeabd-8109-4c6f-ad9b-ee0445ccec40",
   "metadata": {},
   "outputs": [],
   "source": []
  }
 ],
 "metadata": {
  "kernelspec": {
   "display_name": "Python [conda env:deltalake-081] *",
   "language": "python",
   "name": "conda-env-deltalake-081-py"
  },
  "language_info": {
   "codemirror_mode": {
    "name": "ipython",
    "version": 3
   },
   "file_extension": ".py",
   "mimetype": "text/x-python",
   "name": "python",
   "nbconvert_exporter": "python",
   "pygments_lexer": "ipython3",
   "version": "3.9.16"
  }
 },
 "nbformat": 4,
 "nbformat_minor": 5
}
