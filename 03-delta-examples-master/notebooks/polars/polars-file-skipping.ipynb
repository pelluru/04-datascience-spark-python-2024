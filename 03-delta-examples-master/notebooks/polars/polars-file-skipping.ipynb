{
 "cells": [
  {
   "cell_type": "markdown",
   "id": "ddc0a49c-4226-4b69-a9ae-b40d049b15b2",
   "metadata": {},
   "source": [
    "# Polars file skipping with Delta Lake"
   ]
  },
  {
   "cell_type": "code",
   "execution_count": 15,
   "id": "a7764843-22fa-4d8b-8000-e9748fd3c0e5",
   "metadata": {},
   "outputs": [],
   "source": [
    "import polars as pl\n",
    "from deltalake import DeltaTable"
   ]
  },
  {
   "cell_type": "code",
   "execution_count": 16,
   "id": "75278815-5e1d-4003-aecd-56e82bdb8431",
   "metadata": {},
   "outputs": [
    {
     "data": {
      "text/plain": [
       "polars.config.Config"
      ]
     },
     "execution_count": 16,
     "metadata": {},
     "output_type": "execute_result"
    }
   ],
   "source": [
    "pl.Config.set_ascii_tables(True) "
   ]
  },
  {
   "cell_type": "code",
   "execution_count": 17,
   "id": "8afcc747-fc04-4d8c-b8c9-4b5a29eb7c9d",
   "metadata": {},
   "outputs": [],
   "source": [
    "df = pl.DataFrame({\"name\": [\"alice\", \"cat\", \"joy\"], \"age\": [12, 35, 46]})"
   ]
  },
  {
   "cell_type": "code",
   "execution_count": 18,
   "id": "7f86d033-f76a-49d5-90d8-f791d996c1fa",
   "metadata": {},
   "outputs": [],
   "source": [
    "df.write_delta(\"tmp/a_table\")"
   ]
  },
  {
   "cell_type": "code",
   "execution_count": 19,
   "id": "279e804c-b880-49e0-852b-86fbcb258244",
   "metadata": {},
   "outputs": [],
   "source": [
    "df = pl.DataFrame({\"name\": [\"allan\", \"brian\", \"linda\"], \"age\": [34, 35, 78]})"
   ]
  },
  {
   "cell_type": "code",
   "execution_count": 20,
   "id": "5db28fed-5c64-4b8f-a3c0-1f5a5740de08",
   "metadata": {},
   "outputs": [],
   "source": [
    "df.write_delta(\"tmp/a_table\", mode=\"append\")"
   ]
  },
  {
   "cell_type": "code",
   "execution_count": 21,
   "id": "74dd0938-8bf1-4d5b-8cdf-fefcbddec0ee",
   "metadata": {},
   "outputs": [
    {
     "name": "stdout",
     "output_type": "stream",
     "text": [
      "\u001b[01;34mtmp/a_table\u001b[0m\n",
      "├── \u001b[00m0-4c98d726-1f7e-40a5-bfc5-325000e7c01f-0.parquet\u001b[0m\n",
      "├── \u001b[00m1-58bea1e5-c2fe-4c0f-b835-7de6aab4ef9c-0.parquet\u001b[0m\n",
      "└── \u001b[01;34m_delta_log\u001b[0m\n",
      "    ├── \u001b[00m00000000000000000000.json\u001b[0m\n",
      "    └── \u001b[00m00000000000000000001.json\u001b[0m\n",
      "\n",
      "1 directory, 4 files\n"
     ]
    }
   ],
   "source": [
    "!tree tmp/a_table"
   ]
  },
  {
   "cell_type": "code",
   "execution_count": 23,
   "id": "d2a3bd30-f4c9-4fdf-b7ea-3d17ef7a7d09",
   "metadata": {},
   "outputs": [
    {
     "name": "stdout",
     "output_type": "stream",
     "text": [
      "shape: (1, 2)\n",
      "+-------+-----+\n",
      "| name  | age |\n",
      "| ---   | --- |\n",
      "| str   | i64 |\n",
      "+=============+\n",
      "| alice | 12  |\n",
      "+-------+-----+\n"
     ]
    }
   ],
   "source": [
    "print(pl.scan_delta(\"tmp/a_table\").filter(pl.col(\"age\") < 20).collect())"
   ]
  },
  {
   "cell_type": "code",
   "execution_count": null,
   "id": "28d7368c-a568-4cf0-ba7c-cab10afa1175",
   "metadata": {},
   "outputs": [],
   "source": [
    "select * from the_table where age < 20"
   ]
  },
  {
   "cell_type": "code",
   "execution_count": null,
   "id": "057f814b-d869-4fc8-871b-5d0b3e635ab5",
   "metadata": {},
   "outputs": [],
   "source": []
  }
 ],
 "metadata": {
  "kernelspec": {
   "display_name": "deltalake-0151",
   "language": "python",
   "name": "deltalake-0151"
  },
  "language_info": {
   "codemirror_mode": {
    "name": "ipython",
    "version": 3
   },
   "file_extension": ".py",
   "mimetype": "text/x-python",
   "name": "python",
   "nbconvert_exporter": "python",
   "pygments_lexer": "ipython3",
   "version": "3.9.18"
  }
 },
 "nbformat": 4,
 "nbformat_minor": 5
}
