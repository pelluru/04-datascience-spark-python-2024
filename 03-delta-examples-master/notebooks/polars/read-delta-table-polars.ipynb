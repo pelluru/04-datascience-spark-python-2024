{
 "cells": [
  {
   "cell_type": "markdown",
   "id": "30952780-3678-408f-b92f-fdcff6a91b30",
   "metadata": {},
   "source": [
    "# Read Delta Lake table with Polars\n",
    "\n",
    "This notebook works with the `delta-polars` environment."
   ]
  },
  {
   "cell_type": "code",
   "execution_count": 10,
   "id": "f851fa53-4bfc-4e32-985d-a124f10b98ce",
   "metadata": {},
   "outputs": [],
   "source": [
    "import polars as pl\n",
    "from deltalake import DeltaTable"
   ]
  },
  {
   "cell_type": "code",
   "execution_count": 11,
   "id": "3b069488-d877-4f74-802a-8b7b460c6df6",
   "metadata": {},
   "outputs": [
    {
     "data": {
      "text/plain": [
       "polars.config.Config"
      ]
     },
     "execution_count": 11,
     "metadata": {},
     "output_type": "execute_result"
    }
   ],
   "source": [
    "pl.Config.set_ascii_tables(True) "
   ]
  },
  {
   "cell_type": "markdown",
   "id": "195afc56-9be9-49a8-9dc0-9b86a1ea0c6b",
   "metadata": {},
   "source": [
    "## Create Delta table"
   ]
  },
  {
   "cell_type": "code",
   "execution_count": 12,
   "id": "d9310492-35ab-4d13-b978-b12c23641c37",
   "metadata": {},
   "outputs": [],
   "source": [
    "df = pl.DataFrame({\"x\": [1, 2, 3]})"
   ]
  },
  {
   "cell_type": "code",
   "execution_count": 13,
   "id": "1d66f20d-2c0b-4720-91c1-10324222226d",
   "metadata": {},
   "outputs": [],
   "source": [
    "df.write_delta(\"tmp/bear_delta_lake\")"
   ]
  },
  {
   "cell_type": "code",
   "execution_count": 14,
   "id": "a9811912-1860-46de-a555-f85a28fc92c5",
   "metadata": {},
   "outputs": [
    {
     "name": "stdout",
     "output_type": "stream",
     "text": [
      "shape: (3, 1)\n",
      "+-----+\n",
      "| x   |\n",
      "| --- |\n",
      "| i64 |\n",
      "+=====+\n",
      "| 1   |\n",
      "| 2   |\n",
      "| 3   |\n",
      "+-----+\n"
     ]
    }
   ],
   "source": [
    "print(pl.read_delta(\"tmp/bear_delta_lake\"))"
   ]
  },
  {
   "cell_type": "markdown",
   "id": "5f8d0c48-d64f-4cef-8790-b46fb1e352b3",
   "metadata": {},
   "source": [
    "## Append to Delta table"
   ]
  },
  {
   "cell_type": "code",
   "execution_count": 15,
   "id": "cce7fdc1-88d2-4a28-9d40-911b31538eff",
   "metadata": {},
   "outputs": [],
   "source": [
    "df = pl.DataFrame({\"x\": [8, 9, 10]})"
   ]
  },
  {
   "cell_type": "code",
   "execution_count": 16,
   "id": "9a04244e-b4bf-45b6-bac5-48ca5e33eeb5",
   "metadata": {},
   "outputs": [],
   "source": [
    "df.write_delta(\"tmp/bear_delta_lake\", mode=\"append\")"
   ]
  },
  {
   "cell_type": "code",
   "execution_count": 17,
   "id": "e5f21f5a-1881-4db6-93fe-0602fd32b5d2",
   "metadata": {},
   "outputs": [
    {
     "name": "stdout",
     "output_type": "stream",
     "text": [
      "shape: (6, 1)\n",
      "+-----+\n",
      "| x   |\n",
      "| --- |\n",
      "| i64 |\n",
      "+=====+\n",
      "| 1   |\n",
      "| 2   |\n",
      "| 3   |\n",
      "| 8   |\n",
      "| 9   |\n",
      "| 10  |\n",
      "+-----+\n"
     ]
    }
   ],
   "source": [
    "print(pl.read_delta(\"tmp/bear_delta_lake\"))"
   ]
  },
  {
   "cell_type": "markdown",
   "id": "d89dbcc1-9a2f-4ace-bc72-ce6f144dc21d",
   "metadata": {},
   "source": [
    "## Overwrite Delta table"
   ]
  },
  {
   "cell_type": "code",
   "execution_count": 18,
   "id": "0a1e23ed-762a-4557-916c-e9a03c386bf9",
   "metadata": {},
   "outputs": [],
   "source": [
    "df3 = pl.DataFrame({\"x\": [55, 66, 77]})"
   ]
  },
  {
   "cell_type": "code",
   "execution_count": 19,
   "id": "0f47eea4-dd7c-43ef-9c4a-6d9f007b0f7c",
   "metadata": {},
   "outputs": [],
   "source": [
    "df3.write_delta(\"tmp/bear_delta_lake\", mode=\"overwrite\")"
   ]
  },
  {
   "cell_type": "code",
   "execution_count": 20,
   "id": "1c6b28a4-d50d-41e4-a310-f0ff66781437",
   "metadata": {},
   "outputs": [
    {
     "name": "stdout",
     "output_type": "stream",
     "text": [
      "shape: (3, 1)\n",
      "+-----+\n",
      "| x   |\n",
      "| --- |\n",
      "| i64 |\n",
      "+=====+\n",
      "| 55  |\n",
      "| 66  |\n",
      "| 77  |\n",
      "+-----+\n"
     ]
    }
   ],
   "source": [
    "print(pl.read_delta(\"tmp/bear_delta_lake\"))"
   ]
  },
  {
   "cell_type": "markdown",
   "id": "911c3bab-693b-48ca-a8da-736e5d893e33",
   "metadata": {},
   "source": [
    "## Lazy read with scan_delta"
   ]
  },
  {
   "cell_type": "code",
   "execution_count": 21,
   "id": "ff7c249a-1133-4456-99e8-5667a8de1d2a",
   "metadata": {},
   "outputs": [],
   "source": [
    "df = pl.scan_delta(\"tmp/bear_delta_lake\")"
   ]
  },
  {
   "cell_type": "code",
   "execution_count": 22,
   "id": "6100b48a-273e-4fed-ba63-1595c2a6b96b",
   "metadata": {},
   "outputs": [
    {
     "name": "stdout",
     "output_type": "stream",
     "text": [
      "shape: (3, 1)\n",
      "+-----+\n",
      "| x   |\n",
      "| --- |\n",
      "| i64 |\n",
      "+=====+\n",
      "| 55  |\n",
      "| 66  |\n",
      "| 77  |\n",
      "+-----+\n"
     ]
    }
   ],
   "source": [
    "print(df.collect())"
   ]
  },
  {
   "cell_type": "markdown",
   "id": "7c1397d6-ea32-4f4b-9112-c71270c53f69",
   "metadata": {},
   "source": [
    "## Confirm other versions are still accessible via time travel"
   ]
  },
  {
   "cell_type": "code",
   "execution_count": 23,
   "id": "fee5eb04-1bea-49a2-ac9c-79dc8abd2da9",
   "metadata": {},
   "outputs": [
    {
     "name": "stdout",
     "output_type": "stream",
     "text": [
      "shape: (6, 1)\n",
      "+-----+\n",
      "| x   |\n",
      "| --- |\n",
      "| i64 |\n",
      "+=====+\n",
      "| 1   |\n",
      "| 2   |\n",
      "| 3   |\n",
      "| 8   |\n",
      "| 9   |\n",
      "| 10  |\n",
      "+-----+\n"
     ]
    }
   ],
   "source": [
    "print(pl.read_delta(\"tmp/bear_delta_lake\", version=1))"
   ]
  },
  {
   "cell_type": "code",
   "execution_count": 24,
   "id": "fdca8ca8-c0e0-473a-9f28-f63f074158c3",
   "metadata": {},
   "outputs": [
    {
     "name": "stdout",
     "output_type": "stream",
     "text": [
      "shape: (3, 1)\n",
      "+-----+\n",
      "| x   |\n",
      "| --- |\n",
      "| i64 |\n",
      "+=====+\n",
      "| 1   |\n",
      "| 2   |\n",
      "| 3   |\n",
      "+-----+\n"
     ]
    }
   ],
   "source": [
    "print(pl.read_delta(\"tmp/bear_delta_lake\", version=0))"
   ]
  },
  {
   "cell_type": "code",
   "execution_count": 25,
   "id": "d2210c95-d164-4727-8878-7177377280f2",
   "metadata": {},
   "outputs": [
    {
     "name": "stdout",
     "output_type": "stream",
     "text": [
      "shape: (3, 1)\n",
      "+-----+\n",
      "| x   |\n",
      "| --- |\n",
      "| i64 |\n",
      "+=====+\n",
      "| 55  |\n",
      "| 66  |\n",
      "| 77  |\n",
      "+-----+\n"
     ]
    }
   ],
   "source": [
    "print(pl.read_delta(\"tmp/bear_delta_lake\"))"
   ]
  },
  {
   "cell_type": "markdown",
   "id": "4dd66173-2364-4743-a534-6a5d08062c40",
   "metadata": {},
   "source": [
    "## Text for image"
   ]
  },
  {
   "cell_type": "code",
   "execution_count": 26,
   "id": "16c05e40-9a3d-4262-8b2a-831a016a8312",
   "metadata": {},
   "outputs": [
    {
     "name": "stdout",
     "output_type": "stream",
     "text": [
      "shape: (3, 1)\n",
      "+-----+\n",
      "| x   |\n",
      "| --- |\n",
      "| i64 |\n",
      "+=====+\n",
      "| 1   |\n",
      "| 2   |\n",
      "| 3   |\n",
      "+-----+\n"
     ]
    }
   ],
   "source": [
    "import polars as pl\n",
    "\n",
    "print(pl.read_delta(\"tmp/bear_delta_lake\", version=0))"
   ]
  },
  {
   "cell_type": "markdown",
   "id": "2de2eeda-df84-45c0-adb6-6a0ce77ed99c",
   "metadata": {},
   "source": [
    "## Schema enforcement"
   ]
  },
  {
   "cell_type": "code",
   "execution_count": 27,
   "id": "b8211320-f0a2-4309-a508-1ac07a043d60",
   "metadata": {},
   "outputs": [],
   "source": [
    "df = pl.DataFrame({\"y\": [\"a\", \"b\"]})"
   ]
  },
  {
   "cell_type": "code",
   "execution_count": 28,
   "id": "4490906e-1173-4bc0-a49a-47a0a89b1de5",
   "metadata": {},
   "outputs": [
    {
     "ename": "ValueError",
     "evalue": "Schema of data does not match table schema\nData schema:\ny: large_string\nTable Schema:\nx: int64",
     "output_type": "error",
     "traceback": [
      "\u001b[0;31m---------------------------------------------------------------------------\u001b[0m",
      "\u001b[0;31mValueError\u001b[0m                                Traceback (most recent call last)",
      "Cell \u001b[0;32mIn[28], line 1\u001b[0m\n\u001b[0;32m----> 1\u001b[0m \u001b[43mdf\u001b[49m\u001b[38;5;241;43m.\u001b[39;49m\u001b[43mwrite_delta\u001b[49m\u001b[43m(\u001b[49m\u001b[38;5;124;43m\"\u001b[39;49m\u001b[38;5;124;43mtmp/bear_delta_lake\u001b[39;49m\u001b[38;5;124;43m\"\u001b[39;49m\u001b[43m,\u001b[49m\u001b[43m \u001b[49m\u001b[43mmode\u001b[49m\u001b[38;5;241;43m=\u001b[39;49m\u001b[38;5;124;43m\"\u001b[39;49m\u001b[38;5;124;43mappend\u001b[39;49m\u001b[38;5;124;43m\"\u001b[39;49m\u001b[43m)\u001b[49m\n",
      "File \u001b[0;32m~/opt/miniconda3/envs/deltalake-0151/lib/python3.9/site-packages/polars/dataframe/frame.py:3864\u001b[0m, in \u001b[0;36mDataFrame.write_delta\u001b[0;34m(self, target, mode, overwrite_schema, storage_options, delta_write_options, delta_merge_options)\u001b[0m\n\u001b[1;32m   3861\u001b[0m     delta_write_options \u001b[38;5;241m=\u001b[39m {}\n\u001b[1;32m   3863\u001b[0m schema \u001b[38;5;241m=\u001b[39m delta_write_options\u001b[38;5;241m.\u001b[39mpop(\u001b[38;5;124m\"\u001b[39m\u001b[38;5;124mschema\u001b[39m\u001b[38;5;124m\"\u001b[39m, \u001b[38;5;28;01mNone\u001b[39;00m)\n\u001b[0;32m-> 3864\u001b[0m \u001b[43mwrite_deltalake\u001b[49m\u001b[43m(\u001b[49m\n\u001b[1;32m   3865\u001b[0m \u001b[43m    \u001b[49m\u001b[43mtable_or_uri\u001b[49m\u001b[38;5;241;43m=\u001b[39;49m\u001b[43mtarget\u001b[49m\u001b[43m,\u001b[49m\n\u001b[1;32m   3866\u001b[0m \u001b[43m    \u001b[49m\u001b[43mdata\u001b[49m\u001b[38;5;241;43m=\u001b[39;49m\u001b[43mdata\u001b[49m\u001b[43m,\u001b[49m\n\u001b[1;32m   3867\u001b[0m \u001b[43m    \u001b[49m\u001b[43mschema\u001b[49m\u001b[38;5;241;43m=\u001b[39;49m\u001b[43mschema\u001b[49m\u001b[43m,\u001b[49m\n\u001b[1;32m   3868\u001b[0m \u001b[43m    \u001b[49m\u001b[43mmode\u001b[49m\u001b[38;5;241;43m=\u001b[39;49m\u001b[43mmode\u001b[49m\u001b[43m,\u001b[49m\n\u001b[1;32m   3869\u001b[0m \u001b[43m    \u001b[49m\u001b[43moverwrite_schema\u001b[49m\u001b[38;5;241;43m=\u001b[39;49m\u001b[43moverwrite_schema\u001b[49m\u001b[43m,\u001b[49m\n\u001b[1;32m   3870\u001b[0m \u001b[43m    \u001b[49m\u001b[43mstorage_options\u001b[49m\u001b[38;5;241;43m=\u001b[39;49m\u001b[43mstorage_options\u001b[49m\u001b[43m,\u001b[49m\n\u001b[1;32m   3871\u001b[0m \u001b[43m    \u001b[49m\u001b[43mlarge_dtypes\u001b[49m\u001b[38;5;241;43m=\u001b[39;49m\u001b[38;5;28;43;01mTrue\u001b[39;49;00m\u001b[43m,\u001b[49m\n\u001b[1;32m   3872\u001b[0m \u001b[43m    \u001b[49m\u001b[38;5;241;43m*\u001b[39;49m\u001b[38;5;241;43m*\u001b[39;49m\u001b[43mdelta_write_options\u001b[49m\u001b[43m,\u001b[49m\n\u001b[1;32m   3873\u001b[0m \u001b[43m\u001b[49m\u001b[43m)\u001b[49m\n\u001b[1;32m   3874\u001b[0m \u001b[38;5;28;01mreturn\u001b[39;00m \u001b[38;5;28;01mNone\u001b[39;00m\n",
      "File \u001b[0;32m~/opt/miniconda3/envs/deltalake-0151/lib/python3.9/site-packages/deltalake/writer.py:325\u001b[0m, in \u001b[0;36mwrite_deltalake\u001b[0;34m(table_or_uri, data, schema, partition_by, filesystem, mode, file_options, max_partitions, max_open_files, max_rows_per_file, min_rows_per_group, max_rows_per_group, name, description, configuration, overwrite_schema, storage_options, partition_filters, predicate, large_dtypes, engine, writer_properties, custom_metadata)\u001b[0m\n\u001b[1;32m    321\u001b[0m \u001b[38;5;28;01mif\u001b[39;00m table:  \u001b[38;5;66;03m# already exists\u001b[39;00m\n\u001b[1;32m    322\u001b[0m     \u001b[38;5;28;01mif\u001b[39;00m schema \u001b[38;5;241m!=\u001b[39m table\u001b[38;5;241m.\u001b[39mschema()\u001b[38;5;241m.\u001b[39mto_pyarrow(\n\u001b[1;32m    323\u001b[0m         as_large_types\u001b[38;5;241m=\u001b[39mlarge_dtypes\n\u001b[1;32m    324\u001b[0m     ) \u001b[38;5;129;01mand\u001b[39;00m \u001b[38;5;129;01mnot\u001b[39;00m (mode \u001b[38;5;241m==\u001b[39m \u001b[38;5;124m\"\u001b[39m\u001b[38;5;124moverwrite\u001b[39m\u001b[38;5;124m\"\u001b[39m \u001b[38;5;129;01mand\u001b[39;00m overwrite_schema):\n\u001b[0;32m--> 325\u001b[0m         \u001b[38;5;28;01mraise\u001b[39;00m \u001b[38;5;167;01mValueError\u001b[39;00m(\n\u001b[1;32m    326\u001b[0m             \u001b[38;5;124m\"\u001b[39m\u001b[38;5;124mSchema of data does not match table schema\u001b[39m\u001b[38;5;130;01m\\n\u001b[39;00m\u001b[38;5;124m\"\u001b[39m\n\u001b[1;32m    327\u001b[0m             \u001b[38;5;124mf\u001b[39m\u001b[38;5;124m\"\u001b[39m\u001b[38;5;124mData schema:\u001b[39m\u001b[38;5;130;01m\\n\u001b[39;00m\u001b[38;5;132;01m{\u001b[39;00mschema\u001b[38;5;132;01m}\u001b[39;00m\u001b[38;5;130;01m\\n\u001b[39;00m\u001b[38;5;124mTable Schema:\u001b[39m\u001b[38;5;130;01m\\n\u001b[39;00m\u001b[38;5;132;01m{\u001b[39;00mtable\u001b[38;5;241m.\u001b[39mschema()\u001b[38;5;241m.\u001b[39mto_pyarrow(as_large_types\u001b[38;5;241m=\u001b[39mlarge_dtypes)\u001b[38;5;132;01m}\u001b[39;00m\u001b[38;5;124m\"\u001b[39m\n\u001b[1;32m    328\u001b[0m         )\n\u001b[1;32m    329\u001b[0m     \u001b[38;5;28;01mif\u001b[39;00m mode \u001b[38;5;241m==\u001b[39m \u001b[38;5;124m\"\u001b[39m\u001b[38;5;124merror\u001b[39m\u001b[38;5;124m\"\u001b[39m:\n\u001b[1;32m    330\u001b[0m         \u001b[38;5;28;01mraise\u001b[39;00m \u001b[38;5;167;01mAssertionError\u001b[39;00m(\u001b[38;5;124m\"\u001b[39m\u001b[38;5;124mDeltaTable already exists.\u001b[39m\u001b[38;5;124m\"\u001b[39m)\n",
      "\u001b[0;31mValueError\u001b[0m: Schema of data does not match table schema\nData schema:\ny: large_string\nTable Schema:\nx: int64"
     ]
    }
   ],
   "source": [
    "df.write_delta(\"tmp/bear_delta_lake\", mode=\"append\")"
   ]
  }
 ],
 "metadata": {
  "kernelspec": {
   "display_name": "deltalake-0151",
   "language": "python",
   "name": "deltalake-0151"
  },
  "language_info": {
   "codemirror_mode": {
    "name": "ipython",
    "version": 3
   },
   "file_extension": ".py",
   "mimetype": "text/x-python",
   "name": "python",
   "nbconvert_exporter": "python",
   "pygments_lexer": "ipython3",
   "version": "3.9.18"
  }
 },
 "nbformat": 4,
 "nbformat_minor": 5
}
