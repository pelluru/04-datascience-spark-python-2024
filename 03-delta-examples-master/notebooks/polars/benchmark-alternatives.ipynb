{
 "cells": [
  {
   "cell_type": "markdown",
   "id": "4332e5d0-694d-44a5-bb88-d991f396ead8",
   "metadata": {},
   "source": [
    "# Polars benchmark alternatives"
   ]
  },
  {
   "cell_type": "code",
   "execution_count": 1,
   "id": "3c16d798-4e7d-499a-a991-0bda186135a2",
   "metadata": {},
   "outputs": [],
   "source": [
    "import polars as pl"
   ]
  },
  {
   "cell_type": "code",
   "execution_count": null,
   "id": "f23c0d48-8d39-4960-adc8-c8001371a39b",
   "metadata": {},
   "outputs": [],
   "source": [
    "%%time\n",
    "# This query errors out on a Macbook M1 with 64GB of RAM\n",
    "pl.read_csv(\"~/data/G1_1e9_1e2_0_0.csv\").filter(pl.col(\"id1\") < \"id016\").group_by(\n",
    "    [\"id1\", \"id2\"]\n",
    ").agg(pl.sum(\"v1\").alias(\"v1_sum\")).collect()"
   ]
  },
  {
   "cell_type": "code",
   "execution_count": 5,
   "id": "88bc4c0a-171b-4931-b937-784e46c7d865",
   "metadata": {},
   "outputs": [
    {
     "name": "stdout",
     "output_type": "stream",
     "text": [
      "CPU times: user 1min 35s, sys: 1min 11s, total: 2min 47s\n",
      "Wall time: 56.2 s\n"
     ]
    },
    {
     "data": {
      "text/html": [
       "<div><style>\n",
       ".dataframe > thead > tr,\n",
       ".dataframe > tbody > tr {\n",
       "  text-align: right;\n",
       "  white-space: pre-wrap;\n",
       "}\n",
       "</style>\n",
       "<small>shape: (1_500, 3)</small><table border=\"1\" class=\"dataframe\"><thead><tr><th>id1</th><th>id2</th><th>v1_sum</th></tr><tr><td>str</td><td>str</td><td>i64</td></tr></thead><tbody><tr><td>&quot;id015&quot;</td><td>&quot;id043&quot;</td><td>298635</td></tr><tr><td>&quot;id003&quot;</td><td>&quot;id029&quot;</td><td>300119</td></tr><tr><td>&quot;id009&quot;</td><td>&quot;id049&quot;</td><td>300354</td></tr><tr><td>&quot;id007&quot;</td><td>&quot;id086&quot;</td><td>300120</td></tr><tr><td>&quot;id015&quot;</td><td>&quot;id044&quot;</td><td>300277</td></tr><tr><td>&quot;id002&quot;</td><td>&quot;id010&quot;</td><td>298593</td></tr><tr><td>&quot;id011&quot;</td><td>&quot;id099&quot;</td><td>302014</td></tr><tr><td>&quot;id003&quot;</td><td>&quot;id097&quot;</td><td>298624</td></tr><tr><td>&quot;id012&quot;</td><td>&quot;id051&quot;</td><td>300107</td></tr><tr><td>&quot;id011&quot;</td><td>&quot;id027&quot;</td><td>301747</td></tr><tr><td>&quot;id011&quot;</td><td>&quot;id038&quot;</td><td>299063</td></tr><tr><td>&quot;id013&quot;</td><td>&quot;id087&quot;</td><td>300141</td></tr><tr><td>&hellip;</td><td>&hellip;</td><td>&hellip;</td></tr><tr><td>&quot;id015&quot;</td><td>&quot;id058&quot;</td><td>297923</td></tr><tr><td>&quot;id010&quot;</td><td>&quot;id029&quot;</td><td>301469</td></tr><tr><td>&quot;id003&quot;</td><td>&quot;id024&quot;</td><td>300789</td></tr><tr><td>&quot;id002&quot;</td><td>&quot;id057&quot;</td><td>301251</td></tr><tr><td>&quot;id002&quot;</td><td>&quot;id027&quot;</td><td>299451</td></tr><tr><td>&quot;id012&quot;</td><td>&quot;id079&quot;</td><td>299429</td></tr><tr><td>&quot;id006&quot;</td><td>&quot;id007&quot;</td><td>301289</td></tr><tr><td>&quot;id012&quot;</td><td>&quot;id094&quot;</td><td>299522</td></tr><tr><td>&quot;id009&quot;</td><td>&quot;id089&quot;</td><td>300627</td></tr><tr><td>&quot;id004&quot;</td><td>&quot;id042&quot;</td><td>301741</td></tr><tr><td>&quot;id011&quot;</td><td>&quot;id076&quot;</td><td>299196</td></tr><tr><td>&quot;id014&quot;</td><td>&quot;id005&quot;</td><td>301573</td></tr></tbody></table></div>"
      ],
      "text/plain": [
       "shape: (1_500, 3)\n",
       "┌───────┬───────┬────────┐\n",
       "│ id1   ┆ id2   ┆ v1_sum │\n",
       "│ ---   ┆ ---   ┆ ---    │\n",
       "│ str   ┆ str   ┆ i64    │\n",
       "╞═══════╪═══════╪════════╡\n",
       "│ id015 ┆ id043 ┆ 298635 │\n",
       "│ id003 ┆ id029 ┆ 300119 │\n",
       "│ id009 ┆ id049 ┆ 300354 │\n",
       "│ id007 ┆ id086 ┆ 300120 │\n",
       "│ …     ┆ …     ┆ …      │\n",
       "│ id009 ┆ id089 ┆ 300627 │\n",
       "│ id004 ┆ id042 ┆ 301741 │\n",
       "│ id011 ┆ id076 ┆ 299196 │\n",
       "│ id014 ┆ id005 ┆ 301573 │\n",
       "└───────┴───────┴────────┘"
      ]
     },
     "execution_count": 5,
     "metadata": {},
     "output_type": "execute_result"
    }
   ],
   "source": [
    "%%time\n",
    "pl.scan_csv(\"~/data/G1_1e9_1e2_0_0.csv\").filter(pl.col(\"id1\") < \"id016\").group_by(\n",
    "    [\"id1\", \"id2\"]\n",
    ").agg(pl.sum(\"v1\").alias(\"v1_sum\")).collect()"
   ]
  },
  {
   "cell_type": "code",
   "execution_count": 2,
   "id": "85c5883b-e0ca-461e-bd0e-5f5ab29dea68",
   "metadata": {},
   "outputs": [
    {
     "name": "stdout",
     "output_type": "stream",
     "text": [
      "CPU times: user 39.4 s, sys: 6.06 s, total: 45.4 s\n",
      "Wall time: 8.32 s\n"
     ]
    },
    {
     "data": {
      "text/html": [
       "<div><style>\n",
       ".dataframe > thead > tr,\n",
       ".dataframe > tbody > tr {\n",
       "  text-align: right;\n",
       "  white-space: pre-wrap;\n",
       "}\n",
       "</style>\n",
       "<small>shape: (1_500, 3)</small><table border=\"1\" class=\"dataframe\"><thead><tr><th>id1</th><th>id2</th><th>v1_sum</th></tr><tr><td>str</td><td>str</td><td>i64</td></tr></thead><tbody><tr><td>&quot;id002&quot;</td><td>&quot;id080&quot;</td><td>300074</td></tr><tr><td>&quot;id004&quot;</td><td>&quot;id096&quot;</td><td>300097</td></tr><tr><td>&quot;id013&quot;</td><td>&quot;id019&quot;</td><td>300946</td></tr><tr><td>&quot;id006&quot;</td><td>&quot;id027&quot;</td><td>299293</td></tr><tr><td>&quot;id007&quot;</td><td>&quot;id043&quot;</td><td>298637</td></tr><tr><td>&quot;id007&quot;</td><td>&quot;id061&quot;</td><td>300144</td></tr><tr><td>&quot;id006&quot;</td><td>&quot;id023&quot;</td><td>302003</td></tr><tr><td>&quot;id010&quot;</td><td>&quot;id041&quot;</td><td>301516</td></tr><tr><td>&quot;id015&quot;</td><td>&quot;id044&quot;</td><td>300277</td></tr><tr><td>&quot;id008&quot;</td><td>&quot;id018&quot;</td><td>301904</td></tr><tr><td>&quot;id001&quot;</td><td>&quot;id012&quot;</td><td>298580</td></tr><tr><td>&quot;id008&quot;</td><td>&quot;id049&quot;</td><td>299679</td></tr><tr><td>&hellip;</td><td>&hellip;</td><td>&hellip;</td></tr><tr><td>&quot;id009&quot;</td><td>&quot;id031&quot;</td><td>300342</td></tr><tr><td>&quot;id009&quot;</td><td>&quot;id024&quot;</td><td>299841</td></tr><tr><td>&quot;id002&quot;</td><td>&quot;id021&quot;</td><td>298239</td></tr><tr><td>&quot;id006&quot;</td><td>&quot;id053&quot;</td><td>298366</td></tr><tr><td>&quot;id008&quot;</td><td>&quot;id030&quot;</td><td>301138</td></tr><tr><td>&quot;id013&quot;</td><td>&quot;id006&quot;</td><td>300422</td></tr><tr><td>&quot;id014&quot;</td><td>&quot;id058&quot;</td><td>298319</td></tr><tr><td>&quot;id003&quot;</td><td>&quot;id086&quot;</td><td>301898</td></tr><tr><td>&quot;id007&quot;</td><td>&quot;id079&quot;</td><td>300017</td></tr><tr><td>&quot;id007&quot;</td><td>&quot;id064&quot;</td><td>299028</td></tr><tr><td>&quot;id004&quot;</td><td>&quot;id004&quot;</td><td>300841</td></tr><tr><td>&quot;id005&quot;</td><td>&quot;id083&quot;</td><td>300432</td></tr></tbody></table></div>"
      ],
      "text/plain": [
       "shape: (1_500, 3)\n",
       "┌───────┬───────┬────────┐\n",
       "│ id1   ┆ id2   ┆ v1_sum │\n",
       "│ ---   ┆ ---   ┆ ---    │\n",
       "│ str   ┆ str   ┆ i64    │\n",
       "╞═══════╪═══════╪════════╡\n",
       "│ id002 ┆ id080 ┆ 300074 │\n",
       "│ id004 ┆ id096 ┆ 300097 │\n",
       "│ id013 ┆ id019 ┆ 300946 │\n",
       "│ id006 ┆ id027 ┆ 299293 │\n",
       "│ …     ┆ …     ┆ …      │\n",
       "│ id007 ┆ id079 ┆ 300017 │\n",
       "│ id007 ┆ id064 ┆ 299028 │\n",
       "│ id004 ┆ id004 ┆ 300841 │\n",
       "│ id005 ┆ id083 ┆ 300432 │\n",
       "└───────┴───────┴────────┘"
      ]
     },
     "execution_count": 2,
     "metadata": {},
     "output_type": "execute_result"
    }
   ],
   "source": [
    "%%time\n",
    "pl.scan_parquet(\"~/data/G1_1e9_1e2_0_0.parquet\").filter(\n",
    "    pl.col(\"id1\") < \"id016\"\n",
    ").group_by([\"id1\", \"id2\"]).agg(pl.sum(\"v1\").alias(\"v1_sum\")).collect()"
   ]
  },
  {
   "cell_type": "markdown",
   "id": "b6f30717-a55f-4691-a384-ce220773fadd",
   "metadata": {},
   "source": [
    "## Delta table version=1 is just compacted"
   ]
  },
  {
   "cell_type": "code",
   "execution_count": 4,
   "id": "dc7410e2-268c-4a6c-b804-4ef9a77d7ab3",
   "metadata": {},
   "outputs": [
    {
     "name": "stdout",
     "output_type": "stream",
     "text": [
      "CPU times: user 43 s, sys: 6.55 s, total: 49.6 s\n",
      "Wall time: 7.24 s\n"
     ]
    },
    {
     "data": {
      "text/html": [
       "<div><style>\n",
       ".dataframe > thead > tr,\n",
       ".dataframe > tbody > tr {\n",
       "  text-align: right;\n",
       "  white-space: pre-wrap;\n",
       "}\n",
       "</style>\n",
       "<small>shape: (1_500, 3)</small><table border=\"1\" class=\"dataframe\"><thead><tr><th>id1</th><th>id2</th><th>v1_sum</th></tr><tr><td>str</td><td>str</td><td>i64</td></tr></thead><tbody><tr><td>&quot;id011&quot;</td><td>&quot;id045&quot;</td><td>301091</td></tr><tr><td>&quot;id015&quot;</td><td>&quot;id032&quot;</td><td>298705</td></tr><tr><td>&quot;id002&quot;</td><td>&quot;id041&quot;</td><td>301317</td></tr><tr><td>&quot;id002&quot;</td><td>&quot;id056&quot;</td><td>299695</td></tr><tr><td>&quot;id007&quot;</td><td>&quot;id067&quot;</td><td>300461</td></tr><tr><td>&quot;id007&quot;</td><td>&quot;id020&quot;</td><td>300966</td></tr><tr><td>&quot;id004&quot;</td><td>&quot;id085&quot;</td><td>300749</td></tr><tr><td>&quot;id006&quot;</td><td>&quot;id011&quot;</td><td>301073</td></tr><tr><td>&quot;id006&quot;</td><td>&quot;id058&quot;</td><td>301437</td></tr><tr><td>&quot;id007&quot;</td><td>&quot;id073&quot;</td><td>300026</td></tr><tr><td>&quot;id006&quot;</td><td>&quot;id084&quot;</td><td>301124</td></tr><tr><td>&quot;id001&quot;</td><td>&quot;id095&quot;</td><td>300994</td></tr><tr><td>&hellip;</td><td>&hellip;</td><td>&hellip;</td></tr><tr><td>&quot;id007&quot;</td><td>&quot;id007&quot;</td><td>300031</td></tr><tr><td>&quot;id002&quot;</td><td>&quot;id010&quot;</td><td>298593</td></tr><tr><td>&quot;id004&quot;</td><td>&quot;id003&quot;</td><td>299234</td></tr><tr><td>&quot;id003&quot;</td><td>&quot;id054&quot;</td><td>298547</td></tr><tr><td>&quot;id007&quot;</td><td>&quot;id065&quot;</td><td>300423</td></tr><tr><td>&quot;id002&quot;</td><td>&quot;id033&quot;</td><td>302391</td></tr><tr><td>&quot;id005&quot;</td><td>&quot;id066&quot;</td><td>300128</td></tr><tr><td>&quot;id013&quot;</td><td>&quot;id031&quot;</td><td>300420</td></tr><tr><td>&quot;id012&quot;</td><td>&quot;id006&quot;</td><td>300224</td></tr><tr><td>&quot;id013&quot;</td><td>&quot;id076&quot;</td><td>299953</td></tr><tr><td>&quot;id006&quot;</td><td>&quot;id071&quot;</td><td>300209</td></tr><tr><td>&quot;id007&quot;</td><td>&quot;id094&quot;</td><td>299639</td></tr></tbody></table></div>"
      ],
      "text/plain": [
       "shape: (1_500, 3)\n",
       "┌───────┬───────┬────────┐\n",
       "│ id1   ┆ id2   ┆ v1_sum │\n",
       "│ ---   ┆ ---   ┆ ---    │\n",
       "│ str   ┆ str   ┆ i64    │\n",
       "╞═══════╪═══════╪════════╡\n",
       "│ id011 ┆ id045 ┆ 301091 │\n",
       "│ id015 ┆ id032 ┆ 298705 │\n",
       "│ id002 ┆ id041 ┆ 301317 │\n",
       "│ id002 ┆ id056 ┆ 299695 │\n",
       "│ …     ┆ …     ┆ …      │\n",
       "│ id012 ┆ id006 ┆ 300224 │\n",
       "│ id013 ┆ id076 ┆ 299953 │\n",
       "│ id006 ┆ id071 ┆ 300209 │\n",
       "│ id007 ┆ id094 ┆ 299639 │\n",
       "└───────┴───────┴────────┘"
      ]
     },
     "execution_count": 4,
     "metadata": {},
     "output_type": "execute_result"
    }
   ],
   "source": [
    "%%time\n",
    "pl.scan_delta(\"~/data/deltalake/G1_1e9_1e2_0_0\", version=1).filter(\n",
    "    pl.col(\"id1\") < \"id016\"\n",
    ").group_by([\"id1\", \"id2\"]).agg(pl.sum(\"v1\").alias(\"v1_sum\")).collect()"
   ]
  },
  {
   "cell_type": "markdown",
   "id": "27588af2-d6c7-4a1a-a3fb-63c7fb6cbb51",
   "metadata": {},
   "source": [
    "## Delta table version=2 is Z Ordered by id1"
   ]
  },
  {
   "cell_type": "code",
   "execution_count": 6,
   "id": "c8b28478-19ad-4659-aa20-19f65f354b57",
   "metadata": {},
   "outputs": [
    {
     "name": "stdout",
     "output_type": "stream",
     "text": [
      "CPU times: user 13.4 s, sys: 4.23 s, total: 17.6 s\n",
      "Wall time: 3.5 s\n"
     ]
    },
    {
     "data": {
      "text/html": [
       "<div><style>\n",
       ".dataframe > thead > tr,\n",
       ".dataframe > tbody > tr {\n",
       "  text-align: right;\n",
       "  white-space: pre-wrap;\n",
       "}\n",
       "</style>\n",
       "<small>shape: (1_500, 3)</small><table border=\"1\" class=\"dataframe\"><thead><tr><th>id1</th><th>id2</th><th>v1_sum</th></tr><tr><td>str</td><td>str</td><td>i64</td></tr></thead><tbody><tr><td>&quot;id005&quot;</td><td>&quot;id070&quot;</td><td>299379</td></tr><tr><td>&quot;id001&quot;</td><td>&quot;id061&quot;</td><td>301157</td></tr><tr><td>&quot;id012&quot;</td><td>&quot;id060&quot;</td><td>300968</td></tr><tr><td>&quot;id007&quot;</td><td>&quot;id081&quot;</td><td>298421</td></tr><tr><td>&quot;id010&quot;</td><td>&quot;id029&quot;</td><td>301469</td></tr><tr><td>&quot;id008&quot;</td><td>&quot;id063&quot;</td><td>298568</td></tr><tr><td>&quot;id011&quot;</td><td>&quot;id045&quot;</td><td>301091</td></tr><tr><td>&quot;id013&quot;</td><td>&quot;id006&quot;</td><td>300422</td></tr><tr><td>&quot;id015&quot;</td><td>&quot;id097&quot;</td><td>301027</td></tr><tr><td>&quot;id010&quot;</td><td>&quot;id073&quot;</td><td>299414</td></tr><tr><td>&quot;id004&quot;</td><td>&quot;id043&quot;</td><td>300478</td></tr><tr><td>&quot;id003&quot;</td><td>&quot;id053&quot;</td><td>300290</td></tr><tr><td>&hellip;</td><td>&hellip;</td><td>&hellip;</td></tr><tr><td>&quot;id006&quot;</td><td>&quot;id068&quot;</td><td>301814</td></tr><tr><td>&quot;id011&quot;</td><td>&quot;id076&quot;</td><td>299196</td></tr><tr><td>&quot;id001&quot;</td><td>&quot;id019&quot;</td><td>301485</td></tr><tr><td>&quot;id009&quot;</td><td>&quot;id020&quot;</td><td>301349</td></tr><tr><td>&quot;id008&quot;</td><td>&quot;id072&quot;</td><td>302124</td></tr><tr><td>&quot;id010&quot;</td><td>&quot;id012&quot;</td><td>301538</td></tr><tr><td>&quot;id014&quot;</td><td>&quot;id034&quot;</td><td>300536</td></tr><tr><td>&quot;id014&quot;</td><td>&quot;id062&quot;</td><td>300163</td></tr><tr><td>&quot;id010&quot;</td><td>&quot;id026&quot;</td><td>300122</td></tr><tr><td>&quot;id003&quot;</td><td>&quot;id024&quot;</td><td>300789</td></tr><tr><td>&quot;id001&quot;</td><td>&quot;id093&quot;</td><td>300693</td></tr><tr><td>&quot;id003&quot;</td><td>&quot;id097&quot;</td><td>298624</td></tr></tbody></table></div>"
      ],
      "text/plain": [
       "shape: (1_500, 3)\n",
       "┌───────┬───────┬────────┐\n",
       "│ id1   ┆ id2   ┆ v1_sum │\n",
       "│ ---   ┆ ---   ┆ ---    │\n",
       "│ str   ┆ str   ┆ i64    │\n",
       "╞═══════╪═══════╪════════╡\n",
       "│ id005 ┆ id070 ┆ 299379 │\n",
       "│ id001 ┆ id061 ┆ 301157 │\n",
       "│ id012 ┆ id060 ┆ 300968 │\n",
       "│ id007 ┆ id081 ┆ 298421 │\n",
       "│ …     ┆ …     ┆ …      │\n",
       "│ id010 ┆ id026 ┆ 300122 │\n",
       "│ id003 ┆ id024 ┆ 300789 │\n",
       "│ id001 ┆ id093 ┆ 300693 │\n",
       "│ id003 ┆ id097 ┆ 298624 │\n",
       "└───────┴───────┴────────┘"
      ]
     },
     "execution_count": 6,
     "metadata": {},
     "output_type": "execute_result"
    }
   ],
   "source": [
    "%%time\n",
    "pl.scan_delta(\"~/data/deltalake/G1_1e9_1e2_0_0\", version=2).filter(\n",
    "    pl.col(\"id1\") < \"id016\"\n",
    ").group_by([\"id1\", \"id2\"]).agg(pl.sum(\"v1\").alias(\"v1_sum\")).collect()"
   ]
  },
  {
   "cell_type": "code",
   "execution_count": null,
   "id": "fcd31641-efc9-435f-a6cf-6476ea012b09",
   "metadata": {},
   "outputs": [],
   "source": []
  }
 ],
 "metadata": {
  "kernelspec": {
   "display_name": "deltalake-0130",
   "language": "python",
   "name": "deltalake-0130"
  },
  "language_info": {
   "codemirror_mode": {
    "name": "ipython",
    "version": 3
   },
   "file_extension": ".py",
   "mimetype": "text/x-python",
   "name": "python",
   "nbconvert_exporter": "python",
   "pygments_lexer": "ipython3",
   "version": "3.9.18"
  }
 },
 "nbformat": 4,
 "nbformat_minor": 5
}
