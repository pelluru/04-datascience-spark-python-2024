{
 "cells": [
  {
   "cell_type": "markdown",
   "id": "8d32b53b-dd79-4183-ab21-0ca9f585d581",
   "metadata": {},
   "source": [
    "# Delta Lake Transactions"
   ]
  },
  {
   "cell_type": "code",
   "execution_count": 7,
   "id": "90d10072-4366-453f-ba8a-bac3238fc856",
   "metadata": {},
   "outputs": [],
   "source": [
    "import pandas as pd\n",
    "from deltalake import write_deltalake, DeltaTable"
   ]
  },
  {
   "cell_type": "code",
   "execution_count": 2,
   "id": "6d573f02-7f8a-4cff-9b39-c06376f7efc4",
   "metadata": {},
   "outputs": [],
   "source": [
    "df = pd.DataFrame({\"num\": [1, 2, 3], \"animal\": [\"cat\", \"dog\", \"snake\"]})"
   ]
  },
  {
   "cell_type": "code",
   "execution_count": 5,
   "id": "92bdf77e-b468-4709-9a74-4b816cf4a31a",
   "metadata": {},
   "outputs": [],
   "source": [
    "write_deltalake(\"tmp/my-delta-table\", df)"
   ]
  },
  {
   "cell_type": "code",
   "execution_count": 6,
   "id": "294018e2-f2ec-4328-a89b-8d5a79c09876",
   "metadata": {},
   "outputs": [
    {
     "name": "stdout",
     "output_type": "stream",
     "text": [
      "\u001b[01;34mtmp/my-delta-table\u001b[0m\n",
      "├── \u001b[00m0-fea2de92-861a-423e-9708-a9e91dafb27b-0.parquet\u001b[0m\n",
      "└── \u001b[01;34m_delta_log\u001b[0m\n",
      "    └── \u001b[00m00000000000000000000.json\u001b[0m\n",
      "\n",
      "1 directory, 2 files\n"
     ]
    }
   ],
   "source": [
    "!tree tmp/my-delta-table"
   ]
  },
  {
   "cell_type": "code",
   "execution_count": 8,
   "id": "568aa6a7-81f8-4b59-a62a-ef2c994e2f9e",
   "metadata": {},
   "outputs": [
    {
     "name": "stdout",
     "output_type": "stream",
     "text": [
      "   num animal\n",
      "0    1    cat\n",
      "1    2    dog\n",
      "2    3  snake\n"
     ]
    }
   ],
   "source": [
    "print(DeltaTable(\"tmp/my-delta-table\").to_pandas())"
   ]
  },
  {
   "cell_type": "code",
   "execution_count": 10,
   "id": "0fabd014-4f77-4615-9d14-32afc221f852",
   "metadata": {},
   "outputs": [
    {
     "data": {
      "text/plain": [
       "{'num_added_files': 1,\n",
       " 'num_removed_files': 1,\n",
       " 'num_deleted_rows': 1,\n",
       " 'num_copied_rows': 2,\n",
       " 'execution_time_ms': 8013,\n",
       " 'scan_time_ms': 5601,\n",
       " 'rewrite_time_ms': 2}"
      ]
     },
     "execution_count": 10,
     "metadata": {},
     "output_type": "execute_result"
    }
   ],
   "source": [
    "dt = DeltaTable(\"tmp/my-delta-table\")\n",
    "dt.delete(\"animal = 'cat'\")"
   ]
  },
  {
   "cell_type": "code",
   "execution_count": 11,
   "id": "16b0e25a-4aeb-498a-8ef6-02e996c7c2d1",
   "metadata": {},
   "outputs": [
    {
     "name": "stdout",
     "output_type": "stream",
     "text": [
      "\u001b[01;34mtmp/my-delta-table\u001b[0m\n",
      "├── \u001b[00m0-fea2de92-861a-423e-9708-a9e91dafb27b-0.parquet\u001b[0m\n",
      "├── \u001b[01;34m_delta_log\u001b[0m\n",
      "│   ├── \u001b[00m00000000000000000000.json\u001b[0m\n",
      "│   └── \u001b[00m00000000000000000001.json\u001b[0m\n",
      "└── \u001b[00mpart-00001-90312b96-b487-4a8f-9edc-1b9b3963f136-c000.snappy.parquet\u001b[0m\n",
      "\n",
      "1 directory, 4 files\n"
     ]
    }
   ],
   "source": [
    "!tree tmp/my-delta-table"
   ]
  },
  {
   "cell_type": "code",
   "execution_count": 12,
   "id": "aab6526a-f539-43eb-9409-e7c39251571a",
   "metadata": {},
   "outputs": [
    {
     "name": "stdout",
     "output_type": "stream",
     "text": [
      "\u001b[1;39m{\n",
      "  \u001b[0m\u001b[34;1m\"add\"\u001b[0m\u001b[1;39m: \u001b[0m\u001b[1;39m{\n",
      "    \u001b[0m\u001b[34;1m\"path\"\u001b[0m\u001b[1;39m: \u001b[0m\u001b[0;32m\"part-00001-90312b96-b487-4a8f-9edc-1b9b3963f136-c000.snappy.parquet\"\u001b[0m\u001b[1;39m,\n",
      "    \u001b[0m\u001b[34;1m\"partitionValues\"\u001b[0m\u001b[1;39m: \u001b[0m\u001b[1;39m{}\u001b[0m\u001b[1;39m,\n",
      "    \u001b[0m\u001b[34;1m\"size\"\u001b[0m\u001b[1;39m: \u001b[0m\u001b[0;39m858\u001b[0m\u001b[1;39m,\n",
      "    \u001b[0m\u001b[34;1m\"modificationTime\"\u001b[0m\u001b[1;39m: \u001b[0m\u001b[0;39m1705070631953\u001b[0m\u001b[1;39m,\n",
      "    \u001b[0m\u001b[34;1m\"dataChange\"\u001b[0m\u001b[1;39m: \u001b[0m\u001b[0;39mtrue\u001b[0m\u001b[1;39m,\n",
      "    \u001b[0m\u001b[34;1m\"stats\"\u001b[0m\u001b[1;39m: \u001b[0m\u001b[0;32m\"{\\\"numRecords\\\":2,\\\"minValues\\\":{\\\"num\\\":2,\\\"animal\\\":\\\"dog\\\"},\\\"maxValues\\\":{\\\"num\\\":3,\\\"animal\\\":\\\"snake\\\"},\\\"nullCount\\\":{\\\"num\\\":0,\\\"animal\\\":0}}\"\u001b[0m\u001b[1;39m,\n",
      "    \u001b[0m\u001b[34;1m\"tags\"\u001b[0m\u001b[1;39m: \u001b[0m\u001b[1;30mnull\u001b[0m\u001b[1;39m,\n",
      "    \u001b[0m\u001b[34;1m\"deletionVector\"\u001b[0m\u001b[1;39m: \u001b[0m\u001b[1;30mnull\u001b[0m\u001b[1;39m,\n",
      "    \u001b[0m\u001b[34;1m\"baseRowId\"\u001b[0m\u001b[1;39m: \u001b[0m\u001b[1;30mnull\u001b[0m\u001b[1;39m,\n",
      "    \u001b[0m\u001b[34;1m\"defaultRowCommitVersion\"\u001b[0m\u001b[1;39m: \u001b[0m\u001b[1;30mnull\u001b[0m\u001b[1;39m,\n",
      "    \u001b[0m\u001b[34;1m\"clusteringProvider\"\u001b[0m\u001b[1;39m: \u001b[0m\u001b[1;30mnull\u001b[0m\u001b[1;39m\n",
      "  \u001b[1;39m}\u001b[0m\u001b[1;39m\n",
      "\u001b[1;39m}\u001b[0m\n",
      "\u001b[1;39m{\n",
      "  \u001b[0m\u001b[34;1m\"remove\"\u001b[0m\u001b[1;39m: \u001b[0m\u001b[1;39m{\n",
      "    \u001b[0m\u001b[34;1m\"path\"\u001b[0m\u001b[1;39m: \u001b[0m\u001b[0;32m\"0-fea2de92-861a-423e-9708-a9e91dafb27b-0.parquet\"\u001b[0m\u001b[1;39m,\n",
      "    \u001b[0m\u001b[34;1m\"dataChange\"\u001b[0m\u001b[1;39m: \u001b[0m\u001b[0;39mtrue\u001b[0m\u001b[1;39m,\n",
      "    \u001b[0m\u001b[34;1m\"deletionTimestamp\"\u001b[0m\u001b[1;39m: \u001b[0m\u001b[0;39m1705070631953\u001b[0m\u001b[1;39m,\n",
      "    \u001b[0m\u001b[34;1m\"extendedFileMetadata\"\u001b[0m\u001b[1;39m: \u001b[0m\u001b[0;39mtrue\u001b[0m\u001b[1;39m,\n",
      "    \u001b[0m\u001b[34;1m\"partitionValues\"\u001b[0m\u001b[1;39m: \u001b[0m\u001b[1;39m{}\u001b[0m\u001b[1;39m,\n",
      "    \u001b[0m\u001b[34;1m\"size\"\u001b[0m\u001b[1;39m: \u001b[0m\u001b[0;39m895\u001b[0m\u001b[1;39m\n",
      "  \u001b[1;39m}\u001b[0m\u001b[1;39m\n",
      "\u001b[1;39m}\u001b[0m\n",
      "\u001b[1;39m{\n",
      "  \u001b[0m\u001b[34;1m\"commitInfo\"\u001b[0m\u001b[1;39m: \u001b[0m\u001b[1;39m{\n",
      "    \u001b[0m\u001b[34;1m\"timestamp\"\u001b[0m\u001b[1;39m: \u001b[0m\u001b[0;39m1705070631953\u001b[0m\u001b[1;39m,\n",
      "    \u001b[0m\u001b[34;1m\"operation\"\u001b[0m\u001b[1;39m: \u001b[0m\u001b[0;32m\"DELETE\"\u001b[0m\u001b[1;39m,\n",
      "    \u001b[0m\u001b[34;1m\"operationParameters\"\u001b[0m\u001b[1;39m: \u001b[0m\u001b[1;39m{\n",
      "      \u001b[0m\u001b[34;1m\"predicate\"\u001b[0m\u001b[1;39m: \u001b[0m\u001b[0;32m\"animal = 'cat'\"\u001b[0m\u001b[1;39m\n",
      "    \u001b[1;39m}\u001b[0m\u001b[1;39m,\n",
      "    \u001b[0m\u001b[34;1m\"readVersion\"\u001b[0m\u001b[1;39m: \u001b[0m\u001b[0;39m0\u001b[0m\u001b[1;39m,\n",
      "    \u001b[0m\u001b[34;1m\"operationMetrics\"\u001b[0m\u001b[1;39m: \u001b[0m\u001b[1;39m{\n",
      "      \u001b[0m\u001b[34;1m\"execution_time_ms\"\u001b[0m\u001b[1;39m: \u001b[0m\u001b[0;39m8013\u001b[0m\u001b[1;39m,\n",
      "      \u001b[0m\u001b[34;1m\"num_added_files\"\u001b[0m\u001b[1;39m: \u001b[0m\u001b[0;39m1\u001b[0m\u001b[1;39m,\n",
      "      \u001b[0m\u001b[34;1m\"num_copied_rows\"\u001b[0m\u001b[1;39m: \u001b[0m\u001b[0;39m2\u001b[0m\u001b[1;39m,\n",
      "      \u001b[0m\u001b[34;1m\"num_deleted_rows\"\u001b[0m\u001b[1;39m: \u001b[0m\u001b[0;39m1\u001b[0m\u001b[1;39m,\n",
      "      \u001b[0m\u001b[34;1m\"num_removed_files\"\u001b[0m\u001b[1;39m: \u001b[0m\u001b[0;39m1\u001b[0m\u001b[1;39m,\n",
      "      \u001b[0m\u001b[34;1m\"rewrite_time_ms\"\u001b[0m\u001b[1;39m: \u001b[0m\u001b[0;39m2\u001b[0m\u001b[1;39m,\n",
      "      \u001b[0m\u001b[34;1m\"scan_time_ms\"\u001b[0m\u001b[1;39m: \u001b[0m\u001b[0;39m5601\u001b[0m\u001b[1;39m\n",
      "    \u001b[1;39m}\u001b[0m\u001b[1;39m,\n",
      "    \u001b[0m\u001b[34;1m\"clientVersion\"\u001b[0m\u001b[1;39m: \u001b[0m\u001b[0;32m\"delta-rs.0.17.0\"\u001b[0m\u001b[1;39m\n",
      "  \u001b[1;39m}\u001b[0m\u001b[1;39m\n",
      "\u001b[1;39m}\u001b[0m\n"
     ]
    }
   ],
   "source": [
    "!jq . tmp/my-delta-table/_delta_log/00000000000000000001.json"
   ]
  },
  {
   "cell_type": "code",
   "execution_count": 13,
   "id": "ad1cd3a8-487e-4c42-93b7-1728ef5c681a",
   "metadata": {},
   "outputs": [
    {
     "name": "stdout",
     "output_type": "stream",
     "text": [
      "   num animal\n",
      "0    2    dog\n",
      "1    3  snake\n"
     ]
    }
   ],
   "source": [
    "print(DeltaTable(\"tmp/my-delta-table\").to_pandas())"
   ]
  },
  {
   "cell_type": "code",
   "execution_count": null,
   "id": "7a4ff7f4-e3af-4cbc-81e6-21eae1b57054",
   "metadata": {},
   "outputs": [],
   "source": []
  }
 ],
 "metadata": {
  "kernelspec": {
   "display_name": "deltalake-0151",
   "language": "python",
   "name": "deltalake-0151"
  },
  "language_info": {
   "codemirror_mode": {
    "name": "ipython",
    "version": 3
   },
   "file_extension": ".py",
   "mimetype": "text/x-python",
   "name": "python",
   "nbconvert_exporter": "python",
   "pygments_lexer": "ipython3",
   "version": "3.9.18"
  }
 },
 "nbformat": 4,
 "nbformat_minor": 5
}
