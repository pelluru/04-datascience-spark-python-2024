{
 "cells": [
  {
   "cell_type": "markdown",
   "id": "823ff00b-d490-44a3-bb27-5d859fa7f79f",
   "metadata": {},
   "source": [
    "# deltalake 0.7.0\n",
    "\n",
    "New features in deltalake 0.7.0:\n",
    "\n",
    "* Cleaner API for getting a file list\n",
    "* Can manually create checkpoints\n",
    "* Can get DataFrame of table add actions"
   ]
  },
  {
   "cell_type": "code",
   "execution_count": 2,
   "id": "5edf5645-02ac-41ff-945a-87c7545dd8f9",
   "metadata": {},
   "outputs": [],
   "source": [
    "import pandas as pd\n",
    "from deltalake import DeltaTable, write_deltalake\n",
    "\n",
    "example_df = pd.DataFrame({\n",
    "    \"part\": [\"a\", \"a\", \"b\", \"b\"],\n",
    "    \"value\": [1, 2, 3, 4]\n",
    "})\n",
    "\n",
    "write_deltalake(\n",
    "    \"example_table\",\n",
    "    example_df,\n",
    "    partition_by=[\"part\"],\n",
    "    mode=\"overwrite\"\n",
    ")"
   ]
  },
  {
   "cell_type": "markdown",
   "id": "031050d9-92b8-4f2c-b637-a7a64323af49",
   "metadata": {},
   "source": [
    "## Cleaner API for file lists\n",
    "\n",
    "There used to be four different methods on `DeltaTable` to get the list of files: `files()`, `file_paths()`, `file_uris()`, and `files_by_partition()`. These varied in whether you could pass filters (to select a subset of partitions) and whether they returned relative paths or absolute URIs. In 0.7.0, we've consolidated them into two functions:\n",
    "\n",
    " * `DeltaTable.files()`: get the paths of files as they are in the Delta Log (usually relative, but can be absolute, particularly if they are located outside of the delta table root)\n",
    " * `DeltaTable.file_uris()`: get the aboslute URIs for files.\n",
    " \n",
    "Both of these functions accept partition filters."
   ]
  },
  {
   "cell_type": "code",
   "execution_count": 7,
   "id": "391f8fcb-581b-4c3d-b54a-1138f5ad616e",
   "metadata": {},
   "outputs": [
    {
     "name": "stdout",
     "output_type": "stream",
     "text": [
      "All files:\n",
      "  ['part=a/0-a635877b-2228-4237-9a16-4f72ff147cd7-0.parquet', 'part=b/0-a635877b-2228-4237-9a16-4f72ff147cd7-0.parquet']\n",
      "All file URIs:\n",
      "  ['/Users/willjones/Documents/notebooks/example_table/part=a/0-a635877b-2228-4237-9a16-4f72ff147cd7-0.parquet', '/Users/willjones/Documents/notebooks/example_table/part=b/0-a635877b-2228-4237-9a16-4f72ff147cd7-0.parquet']\n",
      "Files in partition part=a:\n",
      "  ['part=a/0-a635877b-2228-4237-9a16-4f72ff147cd7-0.parquet']\n",
      "File URIs in partition part=a:\n",
      "  ['/Users/willjones/Documents/notebooks/example_table/part=a/0-a635877b-2228-4237-9a16-4f72ff147cd7-0.parquet']\n"
     ]
    }
   ],
   "source": [
    "table = DeltaTable(\"example_table\")\n",
    "\n",
    "print(f\"All files:\\n  {table.files()}\")\n",
    "print(f\"All file URIs:\\n  {table.file_uris()}\")\n",
    "print(f\"Files in partition part=a:\\n  {table.files([('part', '=', 'a')])}\")\n",
    "print(f\"File URIs in partition part=a:\\n  {table.file_uris([('part', '=', 'a')])}\")"
   ]
  },
  {
   "cell_type": "markdown",
   "id": "48077b5a-f953-4931-9dd4-3b7fce9fc3ba",
   "metadata": {},
   "source": [
    "## Manually create checkpoints\n",
    "\n",
    "We not allow manually creating checkpoints. This can be useful if you have done several operations that create and remove many files (such as successive overwrites), but haven't yet hit an automatic checkpoint."
   ]
  },
  {
   "cell_type": "code",
   "execution_count": 8,
   "id": "bdf91b1e-b241-40ca-a9d4-e316cb8534de",
   "metadata": {},
   "outputs": [],
   "source": [
    "table.create_checkpoint()"
   ]
  },
  {
   "cell_type": "code",
   "execution_count": 11,
   "id": "a6acffd1-b644-4080-9cff-58b4ddf2510f",
   "metadata": {},
   "outputs": [
    {
     "data": {
      "text/plain": [
       "['_last_checkpoint',\n",
       " '00000000000000000000.checkpoint.parquet',\n",
       " '00000000000000000000.json']"
      ]
     },
     "execution_count": 11,
     "metadata": {},
     "output_type": "execute_result"
    }
   ],
   "source": [
    "import os\n",
    "\n",
    "# Now we will see a checkpoint file in our log:\n",
    "os.listdir(table.table_uri + '_delta_log')"
   ]
  },
  {
   "cell_type": "markdown",
   "id": "13565ce7-0c8d-403c-aa2a-01038f9281bb",
   "metadata": {},
   "source": [
    "## Get DataFrame of active add actions\n",
    "\n",
    "We also have a new experimental API to provide a table of the active add actions. The active add actions is the metadata about the set of files that are part of the table. This allows you to see their partition values, record counts, and statistics. (Note: there is currently a bug in the modification time, but that will soon be fixed.) This data can be useful in understanding how well compaction and Z-order are working for your table."
   ]
  },
  {
   "cell_type": "code",
   "execution_count": 20,
   "id": "bc7827c7-aa08-4655-8a73-44b63fe31d0d",
   "metadata": {},
   "outputs": [
    {
     "data": {
      "text/html": [
       "<div>\n",
       "<style scoped>\n",
       "    .dataframe tbody tr th:only-of-type {\n",
       "        vertical-align: middle;\n",
       "    }\n",
       "\n",
       "    .dataframe tbody tr th {\n",
       "        vertical-align: top;\n",
       "    }\n",
       "\n",
       "    .dataframe thead th {\n",
       "        text-align: right;\n",
       "    }\n",
       "</style>\n",
       "<table border=\"1\" class=\"dataframe\">\n",
       "  <thead>\n",
       "    <tr style=\"text-align: right;\">\n",
       "      <th></th>\n",
       "      <th>path</th>\n",
       "      <th>size_bytes</th>\n",
       "      <th>modification_time</th>\n",
       "      <th>data_change</th>\n",
       "      <th>partition.part</th>\n",
       "      <th>num_records</th>\n",
       "      <th>null_count.value</th>\n",
       "      <th>min.value</th>\n",
       "      <th>max.value</th>\n",
       "    </tr>\n",
       "  </thead>\n",
       "  <tbody>\n",
       "    <tr>\n",
       "      <th>0</th>\n",
       "      <td>part=a/0-a635877b-2228-4237-9a16-4f72ff147cd7-...</td>\n",
       "      <td>1936</td>\n",
       "      <td>1970-01-20 09:27:03.636</td>\n",
       "      <td>True</td>\n",
       "      <td>a</td>\n",
       "      <td>2</td>\n",
       "      <td>0</td>\n",
       "      <td>1</td>\n",
       "      <td>2</td>\n",
       "    </tr>\n",
       "    <tr>\n",
       "      <th>1</th>\n",
       "      <td>part=b/0-a635877b-2228-4237-9a16-4f72ff147cd7-...</td>\n",
       "      <td>1936</td>\n",
       "      <td>1970-01-20 09:27:03.636</td>\n",
       "      <td>True</td>\n",
       "      <td>b</td>\n",
       "      <td>2</td>\n",
       "      <td>0</td>\n",
       "      <td>3</td>\n",
       "      <td>4</td>\n",
       "    </tr>\n",
       "  </tbody>\n",
       "</table>\n",
       "</div>"
      ],
      "text/plain": [
       "                                                path  size_bytes  \\\n",
       "0  part=a/0-a635877b-2228-4237-9a16-4f72ff147cd7-...        1936   \n",
       "1  part=b/0-a635877b-2228-4237-9a16-4f72ff147cd7-...        1936   \n",
       "\n",
       "        modification_time  data_change partition.part  num_records  \\\n",
       "0 1970-01-20 09:27:03.636         True              a            2   \n",
       "1 1970-01-20 09:27:03.636         True              b            2   \n",
       "\n",
       "   null_count.value  min.value  max.value  \n",
       "0                 0          1          2  \n",
       "1                 0          3          4  "
      ]
     },
     "execution_count": 20,
     "metadata": {},
     "output_type": "execute_result"
    }
   ],
   "source": [
    "# flatten=True eliminates nested columns, making it easier to work with in Pandas\n",
    "table.get_add_actions(flatten=True).to_pandas()"
   ]
  }
 ],
 "metadata": {
  "kernelspec": {
   "display_name": "Python 3 (ipykernel)",
   "language": "python",
   "name": "python3"
  },
  "language_info": {
   "codemirror_mode": {
    "name": "ipython",
    "version": 3
   },
   "file_extension": ".py",
   "mimetype": "text/x-python",
   "name": "python",
   "nbconvert_exporter": "python",
   "pygments_lexer": "ipython3",
   "version": "3.9.16"
  }
 },
 "nbformat": 4,
 "nbformat_minor": 5
}
