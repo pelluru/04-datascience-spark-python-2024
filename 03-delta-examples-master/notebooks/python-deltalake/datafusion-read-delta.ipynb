{
 "cells": [
  {
   "cell_type": "code",
   "execution_count": 1,
   "id": "8883d00c-85b9-4fa9-8ec7-03e37eff841b",
   "metadata": {},
   "outputs": [],
   "source": [
    "import pathlib\n",
    "\n",
    "import pyarrow.dataset as ds\n",
    "from datafusion import SessionContext, col, lit\n",
    "from deltalake import DeltaTable"
   ]
  },
  {
   "cell_type": "markdown",
   "id": "94986b6c-e062-4120-a1a9-bf686926c53b",
   "metadata": {},
   "source": [
    "# DataFusion Read Delta"
   ]
  },
  {
   "cell_type": "code",
   "execution_count": 2,
   "id": "af6ef2be-0a69-4ab9-9c2a-d143e79f99fc",
   "metadata": {},
   "outputs": [],
   "source": [
    "ctx = SessionContext()"
   ]
  },
  {
   "cell_type": "code",
   "execution_count": 3,
   "id": "15e84ec2-91c1-45fb-82c0-ca760de16eef",
   "metadata": {},
   "outputs": [],
   "source": [
    "table = DeltaTable(f\"{pathlib.Path.home()}/data/delta/G1_1e8_1e2_0_0\")"
   ]
  },
  {
   "cell_type": "markdown",
   "id": "c2c75ad2-3858-4355-8684-6aa19fb8418e",
   "metadata": {},
   "source": [
    "### With PyArrow dataset"
   ]
  },
  {
   "cell_type": "code",
   "execution_count": 5,
   "id": "5f51b242-200c-4642-8659-050dabf604ea",
   "metadata": {},
   "outputs": [
    {
     "name": "stdout",
     "output_type": "stream",
     "text": [
      "CPU times: user 3.82 ms, sys: 4.53 ms, total: 8.34 ms\n",
      "Wall time: 8.49 ms\n"
     ]
    }
   ],
   "source": [
    "%%time\n",
    "ctx.register_dataset(\"my_dataset\", table.to_pyarrow_dataset())"
   ]
  },
  {
   "cell_type": "code",
   "execution_count": 6,
   "id": "d26990bd-6ad8-495b-aa92-effa7f552f7e",
   "metadata": {},
   "outputs": [
    {
     "name": "stdout",
     "output_type": "stream",
     "text": [
      "CPU times: user 1.36 ms, sys: 5.43 ms, total: 6.79 ms\n",
      "Wall time: 9.67 ms\n"
     ]
    },
    {
     "data": {
      "text/plain": [
       "DataFrame()\n",
       "+-------+-------+--------------+-----+-----+--------+----+----+-----------+\n",
       "| id1   | id2   | id3          | id4 | id5 | id6    | v1 | v2 | v3        |\n",
       "+-------+-------+--------------+-----+-----+--------+----+----+-----------+\n",
       "| id082 | id049 | id0000022715 | 97  | 55  | 756924 | 2  | 11 | 74.161136 |\n",
       "| id053 | id052 | id0000113549 | 19  | 56  | 139048 | 1  | 10 | 95.178444 |\n",
       "| id090 | id043 | id0000637409 | 94  | 50  | 12448  | 3  | 12 | 60.21896  |\n",
       "| id071 | id092 | id0000537978 | 52  | 51  | 638154 | 2  | 11 | 41.181681 |\n",
       "| id099 | id017 | id0000324904 | 100 | 98  | 650130 | 5  | 6  | 53.967191 |\n",
       "| id068 | id010 | id0000645245 | 85  | 15  | 392202 | 5  | 15 | 47.74931  |\n",
       "| id080 | id005 | id0000722692 | 54  | 90  | 737105 | 4  | 9  | 37.710627 |\n",
       "| id060 | id084 | id0000269745 | 70  | 93  | 496965 | 2  | 10 | 45.513606 |\n",
       "| id085 | id004 | id0000020734 | 65  | 10  | 861078 | 3  | 9  | 35.692509 |\n",
       "| id068 | id095 | id0000888093 | 37  | 3   | 395630 | 5  | 11 | 11.12151  |\n",
       "+-------+-------+--------------+-----+-----+--------+----+----+-----------+"
      ]
     },
     "execution_count": 6,
     "metadata": {},
     "output_type": "execute_result"
    }
   ],
   "source": [
    "%%time\n",
    "ctx.sql(\"select * from my_dataset where v2 > 5\")"
   ]
  },
  {
   "cell_type": "code",
   "execution_count": 11,
   "id": "c004b9b4-e270-4aea-946e-eedfda6b3922",
   "metadata": {},
   "outputs": [],
   "source": [
    "ctx.register_dataset(\"some_table\", table.to_pyarrow_dataset())"
   ]
  },
  {
   "cell_type": "code",
   "execution_count": 12,
   "id": "ac2d7790-b7e2-4a73-bb6e-cba5207b7b1d",
   "metadata": {},
   "outputs": [
    {
     "data": {
      "text/plain": [
       "DataFrame()\n",
       "+-------+-------+--------------+-----+-----+--------+----+----+-----------+\n",
       "| id1   | id2   | id3          | id4 | id5 | id6    | v1 | v2 | v3        |\n",
       "+-------+-------+--------------+-----+-----+--------+----+----+-----------+\n",
       "| id007 | id096 | id0000445327 | 76  | 60  | 566466 | 2  | 11 | 82.691753 |\n",
       "| id018 | id078 | id0000576456 | 52  | 92  | 193437 | 3  | 8  | 32.02124  |\n",
       "| id019 | id049 | id0000790237 | 11  | 85  | 979819 | 4  | 13 | 17.001827 |\n",
       "| id052 | id058 | id0000041914 | 42  | 12  | 198611 | 5  | 13 | 66.46749  |\n",
       "| id010 | id016 | id0000921752 | 11  | 99  | 166079 | 1  | 7  | 61.637281 |\n",
       "| id033 | id027 | id0000054357 | 100 | 79  | 793235 | 1  | 13 | 65.844356 |\n",
       "| id049 | id031 | id0000237885 | 21  | 96  | 849387 | 3  | 7  | 40.847662 |\n",
       "| id036 | id100 | id0000840597 | 26  | 92  | 51226  | 2  | 8  | 38.039983 |\n",
       "| id010 | id033 | id0000128874 | 33  | 18  | 493856 | 3  | 15 | 91.906635 |\n",
       "| id026 | id045 | id0000045901 | 35  | 94  | 785336 | 4  | 13 | 11.126579 |\n",
       "+-------+-------+--------------+-----+-----+--------+----+----+-----------+"
      ]
     },
     "execution_count": 12,
     "metadata": {},
     "output_type": "execute_result"
    }
   ],
   "source": [
    "ctx.sql(\"select * from some_table where v2 > 5\")"
   ]
  },
  {
   "cell_type": "markdown",
   "id": "c370e6b0-b0e1-4417-b92f-34da72ae70eb",
   "metadata": {},
   "source": [
    "### With PyArrow table"
   ]
  },
  {
   "cell_type": "code",
   "execution_count": 7,
   "id": "69e4a85f-a3dc-4b08-99bd-c50e598b90be",
   "metadata": {},
   "outputs": [
    {
     "ename": "TypeError",
     "evalue": "argument 'table': 'Table' object cannot be converted to 'Table'",
     "output_type": "error",
     "traceback": [
      "\u001b[0;31m---------------------------------------------------------------------------\u001b[0m",
      "\u001b[0;31mTypeError\u001b[0m                                 Traceback (most recent call last)",
      "Cell \u001b[0;32mIn[7], line 1\u001b[0m\n\u001b[0;32m----> 1\u001b[0m \u001b[43mctx\u001b[49m\u001b[38;5;241;43m.\u001b[39;49m\u001b[43mregister_table\u001b[49m\u001b[43m(\u001b[49m\u001b[38;5;124;43m\"\u001b[39;49m\u001b[38;5;124;43mmy_table\u001b[39;49m\u001b[38;5;124;43m\"\u001b[39;49m\u001b[43m,\u001b[49m\u001b[43m \u001b[49m\u001b[43mtable\u001b[49m\u001b[38;5;241;43m.\u001b[39;49m\u001b[43mto_pyarrow_table\u001b[49m\u001b[43m(\u001b[49m\u001b[43m)\u001b[49m\u001b[43m)\u001b[49m\n",
      "\u001b[0;31mTypeError\u001b[0m: argument 'table': 'Table' object cannot be converted to 'Table'"
     ]
    }
   ],
   "source": [
    "ctx.register_table(\"my_table\", table.to_pyarrow_table())"
   ]
  },
  {
   "cell_type": "markdown",
   "id": "1e198729-30e0-44cb-926f-481d5982bc35",
   "metadata": {},
   "source": [
    "### With batches"
   ]
  },
  {
   "cell_type": "code",
   "execution_count": 8,
   "id": "12174e7a-4b51-4dda-8227-d8d41af4bcac",
   "metadata": {},
   "outputs": [
    {
     "name": "stdout",
     "output_type": "stream",
     "text": [
      "CPU times: user 4.99 s, sys: 1.14 s, total: 6.13 s\n",
      "Wall time: 1.28 s\n"
     ]
    }
   ],
   "source": [
    "%%time\n",
    "df = ctx.create_dataframe([table.to_pyarrow_table().to_batches()])"
   ]
  },
  {
   "cell_type": "code",
   "execution_count": 9,
   "id": "4edbe9bb-c985-4381-ab97-f4a72696f843",
   "metadata": {},
   "outputs": [
    {
     "name": "stdout",
     "output_type": "stream",
     "text": [
      "CPU times: user 144 µs, sys: 325 µs, total: 469 µs\n",
      "Wall time: 1.83 ms\n"
     ]
    },
    {
     "data": {
      "text/plain": [
       "DataFrame()\n",
       "+-------+-------+--------------+-----+-----+--------+----+----+-----------+\n",
       "| id1   | id2   | id3          | id4 | id5 | id6    | v1 | v2 | v3        |\n",
       "+-------+-------+--------------+-----+-----+--------+----+----+-----------+\n",
       "| id007 | id096 | id0000445327 | 76  | 60  | 566466 | 2  | 11 | 82.691753 |\n",
       "| id018 | id078 | id0000576456 | 52  | 92  | 193437 | 3  | 8  | 32.02124  |\n",
       "| id019 | id049 | id0000790237 | 11  | 85  | 979819 | 4  | 13 | 17.001827 |\n",
       "| id052 | id058 | id0000041914 | 42  | 12  | 198611 | 5  | 13 | 66.46749  |\n",
       "| id010 | id016 | id0000921752 | 11  | 99  | 166079 | 1  | 7  | 61.637281 |\n",
       "| id033 | id027 | id0000054357 | 100 | 79  | 793235 | 1  | 13 | 65.844356 |\n",
       "| id049 | id031 | id0000237885 | 21  | 96  | 849387 | 3  | 7  | 40.847662 |\n",
       "| id036 | id100 | id0000840597 | 26  | 92  | 51226  | 2  | 8  | 38.039983 |\n",
       "| id010 | id033 | id0000128874 | 33  | 18  | 493856 | 3  | 15 | 91.906635 |\n",
       "| id026 | id045 | id0000045901 | 35  | 94  | 785336 | 4  | 13 | 11.126579 |\n",
       "+-------+-------+--------------+-----+-----+--------+----+----+-----------+"
      ]
     },
     "execution_count": 9,
     "metadata": {},
     "output_type": "execute_result"
    }
   ],
   "source": [
    "%%time\n",
    "df.filter(col(\"v2\") > lit(5))"
   ]
  },
  {
   "cell_type": "markdown",
   "id": "0ac338a4-87f8-444c-a0d0-6b79f703cdaf",
   "metadata": {},
   "source": [
    "## Delta Lake vs Parquet"
   ]
  },
  {
   "cell_type": "code",
   "execution_count": 14,
   "id": "1a0809b8-2e21-4516-8e6c-fd1501955092",
   "metadata": {},
   "outputs": [],
   "source": [
    "table = DeltaTable(f\"{pathlib.Path.home()}/data/deltalake/G1_1e9_1e2_0_0\")"
   ]
  },
  {
   "cell_type": "code",
   "execution_count": 15,
   "id": "c3d6ff71-c476-410d-a87c-9f0850ae8020",
   "metadata": {},
   "outputs": [
    {
     "ename": "Exception",
     "evalue": "DataFusion error: Execution(\"The table my_delta_table already exists\")",
     "output_type": "error",
     "traceback": [
      "\u001b[0;31m---------------------------------------------------------------------------\u001b[0m",
      "\u001b[0;31mException\u001b[0m                                 Traceback (most recent call last)",
      "File \u001b[0;32m<timed eval>:1\u001b[0m\n",
      "\u001b[0;31mException\u001b[0m: DataFusion error: Execution(\"The table my_delta_table already exists\")"
     ]
    }
   ],
   "source": [
    "%%time\n",
    "ctx.register_dataset(\"my_delta_table\", table.to_pyarrow_dataset())"
   ]
  },
  {
   "cell_type": "code",
   "execution_count": 30,
   "id": "281183d4-9331-46c7-9d8a-d0d38df3dd1d",
   "metadata": {},
   "outputs": [
    {
     "name": "stdout",
     "output_type": "stream",
     "text": [
      "CPU times: user 635 µs, sys: 560 µs, total: 1.2 ms\n",
      "Wall time: 587 µs\n"
     ]
    }
   ],
   "source": [
    "%%time\n",
    "res = ctx.sql(\"select id1, sum(v1) as v1 from my_delta_table where id1='id096' group by id1\")"
   ]
  },
  {
   "cell_type": "code",
   "execution_count": 31,
   "id": "6f335e7b-7a5b-4f91-a614-19d8e581f56d",
   "metadata": {},
   "outputs": [
    {
     "name": "stdout",
     "output_type": "stream",
     "text": [
      "DataFrame()\n",
      "+-------+----------+\n",
      "| id1   | v1       |\n",
      "+-------+----------+\n",
      "| id096 | 29993372 |\n",
      "+-------+----------+\n",
      "CPU times: user 14.8 s, sys: 3.45 s, total: 18.2 s\n",
      "Wall time: 2.81 s\n"
     ]
    }
   ],
   "source": [
    "%%time\n",
    "print(res)"
   ]
  },
  {
   "cell_type": "code",
   "execution_count": 18,
   "id": "b2a8020e-24a9-481d-aa76-64e6c83de4fe",
   "metadata": {},
   "outputs": [
    {
     "name": "stdout",
     "output_type": "stream",
     "text": [
      "CPU times: user 803 µs, sys: 246 µs, total: 1.05 ms\n",
      "Wall time: 583 µs\n"
     ]
    }
   ],
   "source": [
    "%%time\n",
    "res = ctx.sql(\"select id1, sum(v1) as v1 from my_delta_table group by id1\")"
   ]
  },
  {
   "cell_type": "code",
   "execution_count": 19,
   "id": "d67e0e21-6e1a-48d0-8bf7-b13c6bd8ccf1",
   "metadata": {},
   "outputs": [
    {
     "name": "stdout",
     "output_type": "stream",
     "text": [
      "DataFrame()\n",
      "+-------+----------+\n",
      "| id1   | v1       |\n",
      "+-------+----------+\n",
      "| id016 | 30003304 |\n",
      "| id014 | 29998476 |\n",
      "| id020 | 29993667 |\n",
      "| id075 | 30013372 |\n",
      "| id096 | 29993372 |\n",
      "| id010 | 30006196 |\n",
      "| id055 | 30009993 |\n",
      "| id095 | 30010887 |\n",
      "| id086 | 30003608 |\n",
      "| id033 | 29983262 |\n",
      "+-------+----------+\n",
      "CPU times: user 55.6 s, sys: 6.34 s, total: 1min 1s\n",
      "Wall time: 8.67 s\n"
     ]
    }
   ],
   "source": [
    "%%time\n",
    "print(res)"
   ]
  },
  {
   "cell_type": "markdown",
   "id": "0bcbcbe9-f326-463b-92a7-c0910d8496de",
   "metadata": {},
   "source": [
    "### Run the same query with Parquet"
   ]
  },
  {
   "cell_type": "code",
   "execution_count": 10,
   "id": "bda8daa6-3e08-4e3d-91ab-253c090c5fcc",
   "metadata": {},
   "outputs": [],
   "source": [
    "path = f\"{pathlib.Path.home()}/data/G1_1e9_1e2_0_0.parquet\""
   ]
  },
  {
   "cell_type": "code",
   "execution_count": 11,
   "id": "01ccb98f-5b9d-4572-bdb1-ae78086b7faa",
   "metadata": {},
   "outputs": [
    {
     "name": "stdout",
     "output_type": "stream",
     "text": [
      "CPU times: user 298 ms, sys: 55.5 ms, total: 354 ms\n",
      "Wall time: 358 ms\n"
     ]
    }
   ],
   "source": [
    "%%time\n",
    "ctx.register_parquet(\"my_parquet_table\", path)"
   ]
  },
  {
   "cell_type": "code",
   "execution_count": 28,
   "id": "530f979b-c157-474e-a171-a1da9d243690",
   "metadata": {},
   "outputs": [
    {
     "name": "stdout",
     "output_type": "stream",
     "text": [
      "CPU times: user 882 µs, sys: 182 µs, total: 1.06 ms\n",
      "Wall time: 593 µs\n"
     ]
    }
   ],
   "source": [
    "%%time\n",
    "res = ctx.sql(\"select id1, sum(v1) as v1 from my_parquet_table where id1='id096' group by id1\")"
   ]
  },
  {
   "cell_type": "code",
   "execution_count": 29,
   "id": "9c12c9b2-c599-4f76-b2e5-a9ffcf1eaf24",
   "metadata": {},
   "outputs": [
    {
     "name": "stdout",
     "output_type": "stream",
     "text": [
      "DataFrame()\n",
      "+-------+----------+\n",
      "| id1   | v1       |\n",
      "+-------+----------+\n",
      "| id096 | 29993372 |\n",
      "+-------+----------+\n",
      "CPU times: user 17.9 s, sys: 6.25 s, total: 24.1 s\n",
      "Wall time: 5.29 s\n"
     ]
    }
   ],
   "source": [
    "%%time\n",
    "print(res)"
   ]
  },
  {
   "cell_type": "code",
   "execution_count": 20,
   "id": "47d655bb-0e00-46fe-b6e5-9c43671868e7",
   "metadata": {},
   "outputs": [
    {
     "name": "stdout",
     "output_type": "stream",
     "text": [
      "CPU times: user 520 µs, sys: 103 µs, total: 623 µs\n",
      "Wall time: 335 µs\n"
     ]
    }
   ],
   "source": [
    "%%time\n",
    "res = ctx.sql(\"select id1, sum(v1) as v1 from my_parquet_table group by id1\")"
   ]
  },
  {
   "cell_type": "code",
   "execution_count": 21,
   "id": "34959925-1b47-4117-989d-a8b7cd16c971",
   "metadata": {},
   "outputs": [
    {
     "name": "stdout",
     "output_type": "stream",
     "text": [
      "DataFrame()\n",
      "+-------+----------+\n",
      "| id1   | v1       |\n",
      "+-------+----------+\n",
      "| id047 | 29972409 |\n",
      "| id091 | 29995955 |\n",
      "| id078 | 29998434 |\n",
      "| id052 | 30014118 |\n",
      "| id026 | 29993858 |\n",
      "| id048 | 29998849 |\n",
      "| id034 | 30010786 |\n",
      "| id006 | 30006882 |\n",
      "| id066 | 29997843 |\n",
      "| id084 | 30005578 |\n",
      "+-------+----------+\n",
      "CPU times: user 37.3 s, sys: 5.69 s, total: 43 s\n",
      "Wall time: 7.37 s\n"
     ]
    }
   ],
   "source": [
    "%%time\n",
    "print(res)"
   ]
  },
  {
   "cell_type": "code",
   "execution_count": null,
   "id": "94112b44-597d-495b-8725-d4f33312202f",
   "metadata": {},
   "outputs": [],
   "source": []
  }
 ],
 "metadata": {
  "kernelspec": {
   "display_name": "deltalake-0100",
   "language": "python",
   "name": "deltalake-0100"
  },
  "language_info": {
   "codemirror_mode": {
    "name": "ipython",
    "version": 3
   },
   "file_extension": ".py",
   "mimetype": "text/x-python",
   "name": "python",
   "nbconvert_exporter": "python",
   "pygments_lexer": "ipython3",
   "version": "3.9.16"
  }
 },
 "nbformat": 4,
 "nbformat_minor": 5
}
