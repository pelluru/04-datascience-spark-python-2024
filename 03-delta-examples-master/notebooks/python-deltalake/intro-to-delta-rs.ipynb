{
 "cells": [
  {
   "cell_type": "markdown",
   "id": "e853d085-c9af-4f0f-af96-917af0b3dd7c",
   "metadata": {},
   "source": [
    "# Introduction to delta-rs\n",
    "\n",
    "This notebook introduces you to the key features of Delta Lake via the delta-rs library.\n",
    "\n",
    "delta-rs allows you to work with Delta Lake without a Spark runtime.\n",
    "\n",
    "You can easily install the software environment for running this notebook by running `conda install env -f envs/mr-powers-rs` and then run `conda activate mr-powers-rs` to activate the environment.\n",
    "\n",
    "Once you work through this notebook, you'll have a better understanding of the features that make Delta Lake powerful.  It's a relatively quick guide and should be eye-opening!  Let's dive in!\n",
    "\n",
    "We'll start by importing pandas and deltalake and by creating a current working directory path."
   ]
  },
  {
   "cell_type": "code",
   "execution_count": 7,
   "id": "73632a99-f70d-485d-8cfc-96914589ae3d",
   "metadata": {},
   "outputs": [],
   "source": [
    "import pathlib\n",
    "\n",
    "from deltalake import write_deltalake, DeltaTable\n",
    "import pandas as pd\n",
    "import pyarrow.dataset as ds"
   ]
  },
  {
   "cell_type": "code",
   "execution_count": 8,
   "id": "bc61bb88-f87f-4609-a57e-3ce8ef02efda",
   "metadata": {},
   "outputs": [],
   "source": [
    "cwd = pathlib.Path().resolve()"
   ]
  },
  {
   "cell_type": "markdown",
   "id": "1f9a9c07-8af1-4a66-a77c-262f726d6e05",
   "metadata": {},
   "source": [
    "## Create a Delta Lake\n",
    "\n",
    "Let's create a pandas DataFrame and then write out the data to a Delta Lake."
   ]
  },
  {
   "cell_type": "code",
   "execution_count": 9,
   "id": "6b75ada7-9c31-46f2-a623-e4de881ad991",
   "metadata": {},
   "outputs": [],
   "source": [
    "df = pd.DataFrame({\"num\": [1, 2, 3], \"letter\": [\"a\", \"b\", \"c\"]})"
   ]
  },
  {
   "cell_type": "code",
   "execution_count": 10,
   "id": "22fdc8aa-7f0e-46d4-bee1-6a34fc65f845",
   "metadata": {},
   "outputs": [
    {
     "name": "stdout",
     "output_type": "stream",
     "text": [
      "   num letter\n",
      "0    1      a\n",
      "1    2      b\n",
      "2    3      c\n"
     ]
    }
   ],
   "source": [
    "print(df)"
   ]
  },
  {
   "cell_type": "code",
   "execution_count": 11,
   "id": "df2bb17a-ba0e-4c37-9770-8ec3ea93194b",
   "metadata": {},
   "outputs": [],
   "source": [
    "write_deltalake(f\"{cwd}/tmp/delta-table\", df)"
   ]
  },
  {
   "cell_type": "markdown",
   "id": "678a7917-0d65-4f80-96e9-0d02513eecf8",
   "metadata": {},
   "source": [
    "You can inspect the contents of the `tmp/delta-table` folder to begin understanding how Delta Lake works.  Here's what the folder will contain:\n",
    "\n",
    "```\n",
    "tmp/\n",
    "  delta-table/\n",
    "    _delta_log/\n",
    "      00000000000000000000.json\n",
    "    0-3f43d8ae-40a5-4417-8a00-ae55392a662f-0.parquet\n",
    "```\n",
    "\n",
    "`tmp/delta-table` contains a `delta_log` which is often refered to as the \"transaction log\".  The transaction log tracks the files that have been added and removed from the Delta Lake, along with other metadata.\n",
    "\n",
    "The Parquet file contains the actual data that was written to the Delta Lake.\n",
    "\n",
    "You don't need to have a detailed understanding of how the transaction log works.  A high level conceptual grasp is all you need to understand how Delta Lake provides you with useful data management features."
   ]
  },
  {
   "cell_type": "code",
   "execution_count": 12,
   "id": "cb0ef9b8-abd0-432c-84dc-dcd203d9eeba",
   "metadata": {},
   "outputs": [
    {
     "name": "stdout",
     "output_type": "stream",
     "text": [
      "\u001b[01;34mtmp/delta-table\u001b[0m\n",
      "├── \u001b[00m0-acc1b1db-f6a6-4486-acae-3f2b314ad48a-0.parquet\u001b[0m\n",
      "└── \u001b[01;34m_delta_log\u001b[0m\n",
      "    └── \u001b[00m00000000000000000000.json\u001b[0m\n",
      "\n",
      "1 directory, 2 files\n"
     ]
    }
   ],
   "source": [
    "!tree tmp/delta-table"
   ]
  },
  {
   "cell_type": "code",
   "execution_count": 13,
   "id": "e54495cf-c1ac-460c-bc67-909df4fa531e",
   "metadata": {},
   "outputs": [
    {
     "name": "stdout",
     "output_type": "stream",
     "text": [
      "\u001b[1;39m{\n",
      "  \u001b[0m\u001b[34;1m\"protocol\"\u001b[0m\u001b[1;39m: \u001b[0m\u001b[1;39m{\n",
      "    \u001b[0m\u001b[34;1m\"minReaderVersion\"\u001b[0m\u001b[1;39m: \u001b[0m\u001b[0;39m1\u001b[0m\u001b[1;39m,\n",
      "    \u001b[0m\u001b[34;1m\"minWriterVersion\"\u001b[0m\u001b[1;39m: \u001b[0m\u001b[0;39m1\u001b[0m\u001b[1;39m\n",
      "  \u001b[1;39m}\u001b[0m\u001b[1;39m\n",
      "\u001b[1;39m}\u001b[0m\n",
      "\u001b[1;39m{\n",
      "  \u001b[0m\u001b[34;1m\"metaData\"\u001b[0m\u001b[1;39m: \u001b[0m\u001b[1;39m{\n",
      "    \u001b[0m\u001b[34;1m\"id\"\u001b[0m\u001b[1;39m: \u001b[0m\u001b[0;32m\"c55d7d7d-65e2-4d61-bdab-e01dd84f94a2\"\u001b[0m\u001b[1;39m,\n",
      "    \u001b[0m\u001b[34;1m\"name\"\u001b[0m\u001b[1;39m: \u001b[0m\u001b[1;30mnull\u001b[0m\u001b[1;39m,\n",
      "    \u001b[0m\u001b[34;1m\"description\"\u001b[0m\u001b[1;39m: \u001b[0m\u001b[1;30mnull\u001b[0m\u001b[1;39m,\n",
      "    \u001b[0m\u001b[34;1m\"format\"\u001b[0m\u001b[1;39m: \u001b[0m\u001b[1;39m{\n",
      "      \u001b[0m\u001b[34;1m\"provider\"\u001b[0m\u001b[1;39m: \u001b[0m\u001b[0;32m\"parquet\"\u001b[0m\u001b[1;39m,\n",
      "      \u001b[0m\u001b[34;1m\"options\"\u001b[0m\u001b[1;39m: \u001b[0m\u001b[1;39m{}\u001b[0m\u001b[1;39m\n",
      "    \u001b[1;39m}\u001b[0m\u001b[1;39m,\n",
      "    \u001b[0m\u001b[34;1m\"schemaString\"\u001b[0m\u001b[1;39m: \u001b[0m\u001b[0;32m\"{\\\"type\\\":\\\"struct\\\",\\\"fields\\\":[{\\\"name\\\":\\\"num\\\",\\\"type\\\":\\\"long\\\",\\\"nullable\\\":true,\\\"metadata\\\":{}},{\\\"name\\\":\\\"letter\\\",\\\"type\\\":\\\"string\\\",\\\"nullable\\\":true,\\\"metadata\\\":{}}]}\"\u001b[0m\u001b[1;39m,\n",
      "    \u001b[0m\u001b[34;1m\"partitionColumns\"\u001b[0m\u001b[1;39m: \u001b[0m\u001b[1;39m[]\u001b[0m\u001b[1;39m,\n",
      "    \u001b[0m\u001b[34;1m\"createdTime\"\u001b[0m\u001b[1;39m: \u001b[0m\u001b[0;39m1701198535928\u001b[0m\u001b[1;39m,\n",
      "    \u001b[0m\u001b[34;1m\"configuration\"\u001b[0m\u001b[1;39m: \u001b[0m\u001b[1;39m{}\u001b[0m\u001b[1;39m\n",
      "  \u001b[1;39m}\u001b[0m\u001b[1;39m\n",
      "\u001b[1;39m}\u001b[0m\n",
      "\u001b[1;39m{\n",
      "  \u001b[0m\u001b[34;1m\"add\"\u001b[0m\u001b[1;39m: \u001b[0m\u001b[1;39m{\n",
      "    \u001b[0m\u001b[34;1m\"path\"\u001b[0m\u001b[1;39m: \u001b[0m\u001b[0;32m\"0-acc1b1db-f6a6-4486-acae-3f2b314ad48a-0.parquet\"\u001b[0m\u001b[1;39m,\n",
      "    \u001b[0m\u001b[34;1m\"size\"\u001b[0m\u001b[1;39m: \u001b[0m\u001b[0;39m2208\u001b[0m\u001b[1;39m,\n",
      "    \u001b[0m\u001b[34;1m\"partitionValues\"\u001b[0m\u001b[1;39m: \u001b[0m\u001b[1;39m{}\u001b[0m\u001b[1;39m,\n",
      "    \u001b[0m\u001b[34;1m\"modificationTime\"\u001b[0m\u001b[1;39m: \u001b[0m\u001b[0;39m1701198535928\u001b[0m\u001b[1;39m,\n",
      "    \u001b[0m\u001b[34;1m\"dataChange\"\u001b[0m\u001b[1;39m: \u001b[0m\u001b[0;39mtrue\u001b[0m\u001b[1;39m,\n",
      "    \u001b[0m\u001b[34;1m\"stats\"\u001b[0m\u001b[1;39m: \u001b[0m\u001b[0;32m\"{\\\"numRecords\\\": 3, \\\"minValues\\\": {\\\"num\\\": 1, \\\"letter\\\": \\\"a\\\"}, \\\"maxValues\\\": {\\\"num\\\": 3, \\\"letter\\\": \\\"c\\\"}, \\\"nullCount\\\": {\\\"num\\\": 0, \\\"letter\\\": 0}}\"\u001b[0m\u001b[1;39m\n",
      "  \u001b[1;39m}\u001b[0m\u001b[1;39m\n",
      "\u001b[1;39m}\u001b[0m\n",
      "\u001b[1;39m{\n",
      "  \u001b[0m\u001b[34;1m\"commitInfo\"\u001b[0m\u001b[1;39m: \u001b[0m\u001b[1;39m{\n",
      "    \u001b[0m\u001b[34;1m\"timestamp\"\u001b[0m\u001b[1;39m: \u001b[0m\u001b[0;39m1701198535928\u001b[0m\u001b[1;39m,\n",
      "    \u001b[0m\u001b[34;1m\"operation\"\u001b[0m\u001b[1;39m: \u001b[0m\u001b[0;32m\"CREATE TABLE\"\u001b[0m\u001b[1;39m,\n",
      "    \u001b[0m\u001b[34;1m\"operationParameters\"\u001b[0m\u001b[1;39m: \u001b[0m\u001b[1;39m{\n",
      "      \u001b[0m\u001b[34;1m\"metadata\"\u001b[0m\u001b[1;39m: \u001b[0m\u001b[0;32m\"{\\\"configuration\\\":{},\\\"created_time\\\":1701198535928,\\\"description\\\":null,\\\"format\\\":{\\\"options\\\":{},\\\"provider\\\":\\\"parquet\\\"},\\\"id\\\":\\\"c55d7d7d-65e2-4d61-bdab-e01dd84f94a2\\\",\\\"name\\\":null,\\\"partition_columns\\\":[],\\\"schema\\\":{\\\"fields\\\":[{\\\"metadata\\\":{},\\\"name\\\":\\\"num\\\",\\\"nullable\\\":true,\\\"type\\\":\\\"long\\\"},{\\\"metadata\\\":{},\\\"name\\\":\\\"letter\\\",\\\"nullable\\\":true,\\\"type\\\":\\\"string\\\"}],\\\"type\\\":\\\"struct\\\"}}\"\u001b[0m\u001b[1;39m,\n",
      "      \u001b[0m\u001b[34;1m\"location\"\u001b[0m\u001b[1;39m: \u001b[0m\u001b[0;32m\"file:///Users/matthew.powers/Documents/code/delta/delta-examples/notebooks/python-deltalake/tmp/delta-table\"\u001b[0m\u001b[1;39m,\n",
      "      \u001b[0m\u001b[34;1m\"mode\"\u001b[0m\u001b[1;39m: \u001b[0m\u001b[0;32m\"ErrorIfExists\"\u001b[0m\u001b[1;39m,\n",
      "      \u001b[0m\u001b[34;1m\"protocol\"\u001b[0m\u001b[1;39m: \u001b[0m\u001b[0;32m\"{\\\"minReaderVersion\\\":1,\\\"minWriterVersion\\\":1}\"\u001b[0m\u001b[1;39m\n",
      "    \u001b[1;39m}\u001b[0m\u001b[1;39m,\n",
      "    \u001b[0m\u001b[34;1m\"clientVersion\"\u001b[0m\u001b[1;39m: \u001b[0m\u001b[0;32m\"delta-rs.0.17.0\"\u001b[0m\u001b[1;39m\n",
      "  \u001b[1;39m}\u001b[0m\u001b[1;39m\n",
      "\u001b[1;39m}\u001b[0m\n"
     ]
    }
   ],
   "source": [
    "!jq . tmp/delta-table/_delta_log/00000000000000000000.json"
   ]
  },
  {
   "cell_type": "markdown",
   "id": "4d0006b9-99ef-4ae3-b8bf-46870c44e3a2",
   "metadata": {},
   "source": [
    "## Read a Delta Lake\n",
    "\n",
    "Let's read the Delta Lake you created into a pandas DataFrame and print out the contents."
   ]
  },
  {
   "cell_type": "code",
   "execution_count": 14,
   "id": "59859a17-3ccd-440e-aacc-255bdb022ef8",
   "metadata": {},
   "outputs": [],
   "source": [
    "dt = DeltaTable(\"./tmp/delta-table\")"
   ]
  },
  {
   "cell_type": "code",
   "execution_count": 15,
   "id": "d181ee49-3e3b-43d4-a6dc-8ee3b4d16b54",
   "metadata": {},
   "outputs": [
    {
     "data": {
      "text/html": [
       "<div>\n",
       "<style scoped>\n",
       "    .dataframe tbody tr th:only-of-type {\n",
       "        vertical-align: middle;\n",
       "    }\n",
       "\n",
       "    .dataframe tbody tr th {\n",
       "        vertical-align: top;\n",
       "    }\n",
       "\n",
       "    .dataframe thead th {\n",
       "        text-align: right;\n",
       "    }\n",
       "</style>\n",
       "<table border=\"1\" class=\"dataframe\">\n",
       "  <thead>\n",
       "    <tr style=\"text-align: right;\">\n",
       "      <th></th>\n",
       "      <th>num</th>\n",
       "      <th>letter</th>\n",
       "    </tr>\n",
       "  </thead>\n",
       "  <tbody>\n",
       "    <tr>\n",
       "      <th>0</th>\n",
       "      <td>1</td>\n",
       "      <td>a</td>\n",
       "    </tr>\n",
       "    <tr>\n",
       "      <th>1</th>\n",
       "      <td>2</td>\n",
       "      <td>b</td>\n",
       "    </tr>\n",
       "    <tr>\n",
       "      <th>2</th>\n",
       "      <td>3</td>\n",
       "      <td>c</td>\n",
       "    </tr>\n",
       "  </tbody>\n",
       "</table>\n",
       "</div>"
      ],
      "text/plain": [
       "   num letter\n",
       "0    1      a\n",
       "1    2      b\n",
       "2    3      c"
      ]
     },
     "execution_count": 15,
     "metadata": {},
     "output_type": "execute_result"
    }
   ],
   "source": [
    "dt.to_pandas()"
   ]
  },
  {
   "cell_type": "code",
   "execution_count": 16,
   "id": "4a6cf731-1eee-4712-90fa-93b2f7667710",
   "metadata": {},
   "outputs": [
    {
     "data": {
      "text/plain": [
       "0"
      ]
     },
     "execution_count": 16,
     "metadata": {},
     "output_type": "execute_result"
    }
   ],
   "source": [
    "dt.version()"
   ]
  },
  {
   "cell_type": "markdown",
   "id": "37720f01-a47f-47d2-9be9-115b754571f9",
   "metadata": {},
   "source": [
    "After the first data insert, the Delta Lake is at \"version 0\".  Let's add some more data to the Delta Lake and see how the version gets updated after another write transaction is performed."
   ]
  },
  {
   "cell_type": "markdown",
   "id": "f2dc64bf-3137-4acc-a642-cdc236183ff7",
   "metadata": {},
   "source": [
    "## Insert more data into Delta Lake\n",
    "\n",
    "Create another pandas DataFrame with the same schema and insert it to the Delta Lake."
   ]
  },
  {
   "cell_type": "code",
   "execution_count": 17,
   "id": "c00554da-cdd3-4b9e-806e-d247e51575f1",
   "metadata": {},
   "outputs": [],
   "source": [
    "df = pd.DataFrame({\"num\": [77, 88, 99], \"letter\": [\"x\", \"y\", \"z\"]})"
   ]
  },
  {
   "cell_type": "markdown",
   "id": "aa15eef9-1e97-4458-a5de-fc6b8963d8bd",
   "metadata": {},
   "source": [
    "The Delta Lake already exists, so we need to set the write `mode=\"append\"` to add additional data."
   ]
  },
  {
   "cell_type": "code",
   "execution_count": 18,
   "id": "05859db2-024a-4f62-84b4-aa3350ec1e98",
   "metadata": {},
   "outputs": [],
   "source": [
    "write_deltalake(f\"{cwd}/tmp/delta-table\", df, mode=\"append\")"
   ]
  },
  {
   "cell_type": "markdown",
   "id": "a31c5ead-e864-42fb-8043-d260312a142a",
   "metadata": {},
   "source": [
    "Let's read the Delta Lake into a pandas DataFrame and confirm it contains the data from both the first and second write transactions."
   ]
  },
  {
   "cell_type": "code",
   "execution_count": 19,
   "id": "b0562f63-309e-4bf1-9bd6-d02dfb42bdca",
   "metadata": {},
   "outputs": [],
   "source": [
    "dt = DeltaTable(\"./tmp/delta-table\")"
   ]
  },
  {
   "cell_type": "code",
   "execution_count": 20,
   "id": "7c4ae384-f630-4de1-9808-97528bb758b9",
   "metadata": {},
   "outputs": [
    {
     "data": {
      "text/html": [
       "<div>\n",
       "<style scoped>\n",
       "    .dataframe tbody tr th:only-of-type {\n",
       "        vertical-align: middle;\n",
       "    }\n",
       "\n",
       "    .dataframe tbody tr th {\n",
       "        vertical-align: top;\n",
       "    }\n",
       "\n",
       "    .dataframe thead th {\n",
       "        text-align: right;\n",
       "    }\n",
       "</style>\n",
       "<table border=\"1\" class=\"dataframe\">\n",
       "  <thead>\n",
       "    <tr style=\"text-align: right;\">\n",
       "      <th></th>\n",
       "      <th>num</th>\n",
       "      <th>letter</th>\n",
       "    </tr>\n",
       "  </thead>\n",
       "  <tbody>\n",
       "    <tr>\n",
       "      <th>0</th>\n",
       "      <td>1</td>\n",
       "      <td>a</td>\n",
       "    </tr>\n",
       "    <tr>\n",
       "      <th>1</th>\n",
       "      <td>2</td>\n",
       "      <td>b</td>\n",
       "    </tr>\n",
       "    <tr>\n",
       "      <th>2</th>\n",
       "      <td>3</td>\n",
       "      <td>c</td>\n",
       "    </tr>\n",
       "    <tr>\n",
       "      <th>3</th>\n",
       "      <td>77</td>\n",
       "      <td>x</td>\n",
       "    </tr>\n",
       "    <tr>\n",
       "      <th>4</th>\n",
       "      <td>88</td>\n",
       "      <td>y</td>\n",
       "    </tr>\n",
       "    <tr>\n",
       "      <th>5</th>\n",
       "      <td>99</td>\n",
       "      <td>z</td>\n",
       "    </tr>\n",
       "  </tbody>\n",
       "</table>\n",
       "</div>"
      ],
      "text/plain": [
       "   num letter\n",
       "0    1      a\n",
       "1    2      b\n",
       "2    3      c\n",
       "3   77      x\n",
       "4   88      y\n",
       "5   99      z"
      ]
     },
     "execution_count": 20,
     "metadata": {},
     "output_type": "execute_result"
    }
   ],
   "source": [
    "dt.to_pandas()"
   ]
  },
  {
   "cell_type": "markdown",
   "id": "c7069d7d-9877-433b-b24e-bdf9c8b52b38",
   "metadata": {},
   "source": [
    "After the first write transaction, the Delta Lake was at \"version 0\".  Now, after the second write transaction, the Delta Lake is at \"version 1\"."
   ]
  },
  {
   "cell_type": "code",
   "execution_count": 15,
   "id": "ee7acbe0-ac36-47ec-9828-a3a8fd95cb3f",
   "metadata": {},
   "outputs": [
    {
     "data": {
      "text/plain": [
       "1"
      ]
     },
     "execution_count": 15,
     "metadata": {},
     "output_type": "execute_result"
    }
   ],
   "source": [
    "dt.version()"
   ]
  },
  {
   "cell_type": "code",
   "execution_count": 21,
   "id": "e4d87360-2f6e-46ea-9c43-01c93abe886b",
   "metadata": {},
   "outputs": [
    {
     "name": "stdout",
     "output_type": "stream",
     "text": [
      "\u001b[01;34mtmp/delta-table\u001b[0m\n",
      "├── \u001b[00m0-acc1b1db-f6a6-4486-acae-3f2b314ad48a-0.parquet\u001b[0m\n",
      "├── \u001b[00m1-582344a2-df7e-4688-9f3c-cac96939bdae-0.parquet\u001b[0m\n",
      "└── \u001b[01;34m_delta_log\u001b[0m\n",
      "    ├── \u001b[00m00000000000000000000.json\u001b[0m\n",
      "    └── \u001b[00m00000000000000000001.json\u001b[0m\n",
      "\n",
      "1 directory, 4 files\n"
     ]
    }
   ],
   "source": [
    "!tree tmp/delta-table"
   ]
  },
  {
   "cell_type": "code",
   "execution_count": 22,
   "id": "9960de80-6d3e-4d00-87af-527f849ea866",
   "metadata": {},
   "outputs": [
    {
     "name": "stdout",
     "output_type": "stream",
     "text": [
      "\u001b[1;39m{\n",
      "  \u001b[0m\u001b[34;1m\"add\"\u001b[0m\u001b[1;39m: \u001b[0m\u001b[1;39m{\n",
      "    \u001b[0m\u001b[34;1m\"path\"\u001b[0m\u001b[1;39m: \u001b[0m\u001b[0;32m\"1-582344a2-df7e-4688-9f3c-cac96939bdae-0.parquet\"\u001b[0m\u001b[1;39m,\n",
      "    \u001b[0m\u001b[34;1m\"size\"\u001b[0m\u001b[1;39m: \u001b[0m\u001b[0;39m2208\u001b[0m\u001b[1;39m,\n",
      "    \u001b[0m\u001b[34;1m\"partitionValues\"\u001b[0m\u001b[1;39m: \u001b[0m\u001b[1;39m{}\u001b[0m\u001b[1;39m,\n",
      "    \u001b[0m\u001b[34;1m\"modificationTime\"\u001b[0m\u001b[1;39m: \u001b[0m\u001b[0;39m1701198708275\u001b[0m\u001b[1;39m,\n",
      "    \u001b[0m\u001b[34;1m\"dataChange\"\u001b[0m\u001b[1;39m: \u001b[0m\u001b[0;39mtrue\u001b[0m\u001b[1;39m,\n",
      "    \u001b[0m\u001b[34;1m\"stats\"\u001b[0m\u001b[1;39m: \u001b[0m\u001b[0;32m\"{\\\"numRecords\\\": 3, \\\"minValues\\\": {\\\"num\\\": 77, \\\"letter\\\": \\\"x\\\"}, \\\"maxValues\\\": {\\\"num\\\": 99, \\\"letter\\\": \\\"z\\\"}, \\\"nullCount\\\": {\\\"num\\\": 0, \\\"letter\\\": 0}}\"\u001b[0m\u001b[1;39m\n",
      "  \u001b[1;39m}\u001b[0m\u001b[1;39m\n",
      "\u001b[1;39m}\u001b[0m\n",
      "\u001b[1;39m{\n",
      "  \u001b[0m\u001b[34;1m\"commitInfo\"\u001b[0m\u001b[1;39m: \u001b[0m\u001b[1;39m{\n",
      "    \u001b[0m\u001b[34;1m\"timestamp\"\u001b[0m\u001b[1;39m: \u001b[0m\u001b[0;39m1701198708275\u001b[0m\u001b[1;39m,\n",
      "    \u001b[0m\u001b[34;1m\"operation\"\u001b[0m\u001b[1;39m: \u001b[0m\u001b[0;32m\"WRITE\"\u001b[0m\u001b[1;39m,\n",
      "    \u001b[0m\u001b[34;1m\"operationParameters\"\u001b[0m\u001b[1;39m: \u001b[0m\u001b[1;39m{\n",
      "      \u001b[0m\u001b[34;1m\"partitionBy\"\u001b[0m\u001b[1;39m: \u001b[0m\u001b[0;32m\"[]\"\u001b[0m\u001b[1;39m,\n",
      "      \u001b[0m\u001b[34;1m\"mode\"\u001b[0m\u001b[1;39m: \u001b[0m\u001b[0;32m\"Append\"\u001b[0m\u001b[1;39m\n",
      "    \u001b[1;39m}\u001b[0m\u001b[1;39m,\n",
      "    \u001b[0m\u001b[34;1m\"clientVersion\"\u001b[0m\u001b[1;39m: \u001b[0m\u001b[0;32m\"delta-rs.0.17.0\"\u001b[0m\u001b[1;39m\n",
      "  \u001b[1;39m}\u001b[0m\u001b[1;39m\n",
      "\u001b[1;39m}\u001b[0m\n"
     ]
    }
   ],
   "source": [
    "!jq . tmp/delta-table/_delta_log/00000000000000000001.json"
   ]
  },
  {
   "cell_type": "markdown",
   "id": "7f03dc87-1bf4-49d2-bd3d-903b5d9b83d0",
   "metadata": {},
   "source": [
    "## Overwrite Delta table"
   ]
  },
  {
   "cell_type": "code",
   "execution_count": null,
   "id": "db006327-fded-4e2f-b169-4a7c67d2a660",
   "metadata": {},
   "outputs": [],
   "source": []
  },
  {
   "cell_type": "code",
   "execution_count": null,
   "id": "d58e6e8e-02d1-4cfc-adef-a80a26d25814",
   "metadata": {},
   "outputs": [],
   "source": []
  },
  {
   "cell_type": "code",
   "execution_count": null,
   "id": "c6807c89-febd-4c2f-a705-4dbcff964c7b",
   "metadata": {},
   "outputs": [],
   "source": []
  },
  {
   "cell_type": "markdown",
   "id": "f7dfab2a-a55e-4ae6-8594-9c174b25bc84",
   "metadata": {},
   "source": [
    "## Time travel to previous version of data\n",
    "\n",
    "Let's travel back in time and inspect the content of the Delta Lake at \"version 0\".  "
   ]
  },
  {
   "cell_type": "code",
   "execution_count": 23,
   "id": "9d6da783-a4ab-4806-a28d-3ef69b1ad5a9",
   "metadata": {},
   "outputs": [],
   "source": [
    "dt = DeltaTable(\"./tmp/delta-table\", version=0)"
   ]
  },
  {
   "cell_type": "code",
   "execution_count": 24,
   "id": "23d2ef7c-4d41-4e9f-9fe9-883954807e19",
   "metadata": {},
   "outputs": [
    {
     "data": {
      "text/html": [
       "<div>\n",
       "<style scoped>\n",
       "    .dataframe tbody tr th:only-of-type {\n",
       "        vertical-align: middle;\n",
       "    }\n",
       "\n",
       "    .dataframe tbody tr th {\n",
       "        vertical-align: top;\n",
       "    }\n",
       "\n",
       "    .dataframe thead th {\n",
       "        text-align: right;\n",
       "    }\n",
       "</style>\n",
       "<table border=\"1\" class=\"dataframe\">\n",
       "  <thead>\n",
       "    <tr style=\"text-align: right;\">\n",
       "      <th></th>\n",
       "      <th>num</th>\n",
       "      <th>letter</th>\n",
       "    </tr>\n",
       "  </thead>\n",
       "  <tbody>\n",
       "    <tr>\n",
       "      <th>0</th>\n",
       "      <td>1</td>\n",
       "      <td>a</td>\n",
       "    </tr>\n",
       "    <tr>\n",
       "      <th>1</th>\n",
       "      <td>2</td>\n",
       "      <td>b</td>\n",
       "    </tr>\n",
       "    <tr>\n",
       "      <th>2</th>\n",
       "      <td>3</td>\n",
       "      <td>c</td>\n",
       "    </tr>\n",
       "  </tbody>\n",
       "</table>\n",
       "</div>"
      ],
      "text/plain": [
       "   num letter\n",
       "0    1      a\n",
       "1    2      b\n",
       "2    3      c"
      ]
     },
     "execution_count": 24,
     "metadata": {},
     "output_type": "execute_result"
    }
   ],
   "source": [
    "dt.to_pandas()"
   ]
  },
  {
   "cell_type": "code",
   "execution_count": 25,
   "id": "34f86488-8ab7-4652-a066-22aa9adcbd68",
   "metadata": {},
   "outputs": [
    {
     "name": "stdout",
     "output_type": "stream",
     "text": [
      "\u001b[01;34mtmp/delta-table\u001b[0m\n",
      "├── \u001b[00m0-acc1b1db-f6a6-4486-acae-3f2b314ad48a-0.parquet\u001b[0m\n",
      "├── \u001b[00m1-582344a2-df7e-4688-9f3c-cac96939bdae-0.parquet\u001b[0m\n",
      "└── \u001b[01;34m_delta_log\u001b[0m\n",
      "    ├── \u001b[00m00000000000000000000.json\u001b[0m\n",
      "    └── \u001b[00m00000000000000000001.json\u001b[0m\n",
      "\n",
      "1 directory, 4 files\n"
     ]
    }
   ],
   "source": [
    "!tree tmp/delta-table"
   ]
  },
  {
   "cell_type": "markdown",
   "id": "717e21cd-01d8-4c87-a26a-5f3dd82b9f44",
   "metadata": {},
   "source": [
    "Wow!  That's cool!\n",
    "\n",
    "We performed two write transactions and were able to travel back in time and view the contents of the Delta Lake before the second write transaction was performed.  This is an incredibly powerful and useful feature.\n",
    "\n",
    "Delta Lake gives you time travel for free!"
   ]
  },
  {
   "cell_type": "markdown",
   "id": "1d5b4bd4-3def-450a-a3b6-c04a46bddb56",
   "metadata": {},
   "source": [
    "## Schema enforcement"
   ]
  },
  {
   "cell_type": "markdown",
   "id": "d4e75556-eee4-4129-b2e4-c782735b33c7",
   "metadata": {},
   "source": [
    "Schema enforcement is enabled by default.  If you try to append data to a Delta Lake that doesn't have the same schema, it'll error out with a descriptive message detailing the schema differences."
   ]
  },
  {
   "cell_type": "code",
   "execution_count": 19,
   "id": "65f8aa0a-08d4-41a7-a68f-69c67ab24d09",
   "metadata": {},
   "outputs": [],
   "source": [
    "df = pd.DataFrame({\"name\": [\"bob\", \"denise\"], \"age\": [64, 43]})"
   ]
  },
  {
   "cell_type": "code",
   "execution_count": 20,
   "id": "9c110e1d-528a-4cc8-b68f-a6c0aac5a400",
   "metadata": {},
   "outputs": [
    {
     "ename": "ValueError",
     "evalue": "Schema of data does not match table schema\nTable schema:\nname: string\nage: int64\n-- schema metadata --\npandas: '{\"index_columns\": [{\"kind\": \"range\", \"name\": null, \"start\": 0, \"' + 470\nData Schema:\nnum: int64\nletter: string",
     "output_type": "error",
     "traceback": [
      "\u001b[0;31m---------------------------------------------------------------------------\u001b[0m",
      "\u001b[0;31mValueError\u001b[0m                                Traceback (most recent call last)",
      "Cell \u001b[0;32mIn[20], line 1\u001b[0m\n\u001b[0;32m----> 1\u001b[0m \u001b[43mdl\u001b[49m\u001b[38;5;241;43m.\u001b[39;49m\u001b[43mwriter\u001b[49m\u001b[38;5;241;43m.\u001b[39;49m\u001b[43mwrite_deltalake\u001b[49m\u001b[43m(\u001b[49m\u001b[38;5;124;43mf\u001b[39;49m\u001b[38;5;124;43m\"\u001b[39;49m\u001b[38;5;132;43;01m{\u001b[39;49;00m\u001b[43mcwd\u001b[49m\u001b[38;5;132;43;01m}\u001b[39;49;00m\u001b[38;5;124;43m/tmp/delta-table\u001b[39;49m\u001b[38;5;124;43m\"\u001b[39;49m\u001b[43m,\u001b[49m\u001b[43m \u001b[49m\u001b[43mdf\u001b[49m\u001b[43m,\u001b[49m\u001b[43m \u001b[49m\u001b[43mmode\u001b[49m\u001b[38;5;241;43m=\u001b[39;49m\u001b[38;5;124;43m\"\u001b[39;49m\u001b[38;5;124;43mappend\u001b[39;49m\u001b[38;5;124;43m\"\u001b[39;49m\u001b[43m)\u001b[49m\n",
      "File \u001b[0;32m~/opt/miniconda3/envs/deltalake-0110/lib/python3.9/site-packages/deltalake/writer.py:183\u001b[0m, in \u001b[0;36mwrite_deltalake\u001b[0;34m(table_or_uri, data, schema, partition_by, filesystem, mode, file_options, max_partitions, max_open_files, max_rows_per_file, min_rows_per_group, max_rows_per_group, name, description, configuration, overwrite_schema, storage_options, partition_filters)\u001b[0m\n\u001b[1;32m    179\u001b[0m \u001b[38;5;28;01mif\u001b[39;00m table:  \u001b[38;5;66;03m# already exists\u001b[39;00m\n\u001b[1;32m    180\u001b[0m     \u001b[38;5;28;01mif\u001b[39;00m schema \u001b[38;5;241m!=\u001b[39m table\u001b[38;5;241m.\u001b[39mschema()\u001b[38;5;241m.\u001b[39mto_pyarrow() \u001b[38;5;129;01mand\u001b[39;00m \u001b[38;5;129;01mnot\u001b[39;00m (\n\u001b[1;32m    181\u001b[0m         mode \u001b[38;5;241m==\u001b[39m \u001b[38;5;124m\"\u001b[39m\u001b[38;5;124moverwrite\u001b[39m\u001b[38;5;124m\"\u001b[39m \u001b[38;5;129;01mand\u001b[39;00m overwrite_schema\n\u001b[1;32m    182\u001b[0m     ):\n\u001b[0;32m--> 183\u001b[0m         \u001b[38;5;28;01mraise\u001b[39;00m \u001b[38;5;167;01mValueError\u001b[39;00m(\n\u001b[1;32m    184\u001b[0m             \u001b[38;5;124m\"\u001b[39m\u001b[38;5;124mSchema of data does not match table schema\u001b[39m\u001b[38;5;130;01m\\n\u001b[39;00m\u001b[38;5;124m\"\u001b[39m\n\u001b[1;32m    185\u001b[0m             \u001b[38;5;124mf\u001b[39m\u001b[38;5;124m\"\u001b[39m\u001b[38;5;124mTable schema:\u001b[39m\u001b[38;5;130;01m\\n\u001b[39;00m\u001b[38;5;132;01m{\u001b[39;00mschema\u001b[38;5;132;01m}\u001b[39;00m\u001b[38;5;130;01m\\n\u001b[39;00m\u001b[38;5;124mData Schema:\u001b[39m\u001b[38;5;130;01m\\n\u001b[39;00m\u001b[38;5;132;01m{\u001b[39;00mtable\u001b[38;5;241m.\u001b[39mschema()\u001b[38;5;241m.\u001b[39mto_pyarrow()\u001b[38;5;132;01m}\u001b[39;00m\u001b[38;5;124m\"\u001b[39m\n\u001b[1;32m    186\u001b[0m         )\n\u001b[1;32m    188\u001b[0m     \u001b[38;5;28;01mif\u001b[39;00m mode \u001b[38;5;241m==\u001b[39m \u001b[38;5;124m\"\u001b[39m\u001b[38;5;124merror\u001b[39m\u001b[38;5;124m\"\u001b[39m:\n\u001b[1;32m    189\u001b[0m         \u001b[38;5;28;01mraise\u001b[39;00m \u001b[38;5;167;01mAssertionError\u001b[39;00m(\u001b[38;5;124m\"\u001b[39m\u001b[38;5;124mDeltaTable already exists.\u001b[39m\u001b[38;5;124m\"\u001b[39m)\n",
      "\u001b[0;31mValueError\u001b[0m: Schema of data does not match table schema\nTable schema:\nname: string\nage: int64\n-- schema metadata --\npandas: '{\"index_columns\": [{\"kind\": \"range\", \"name\": null, \"start\": 0, \"' + 470\nData Schema:\nnum: int64\nletter: string"
     ]
    }
   ],
   "source": [
    "dl.writer.write_deltalake(f\"{cwd}/tmp/delta-table\", df, mode=\"append\")"
   ]
  },
  {
   "cell_type": "code",
   "execution_count": 21,
   "id": "f440ed5c-c65e-4bd5-a453-ccfdba803ca9",
   "metadata": {},
   "outputs": [],
   "source": [
    "dt = dl.DeltaTable(\"./tmp/delta-table\")"
   ]
  },
  {
   "cell_type": "code",
   "execution_count": 22,
   "id": "c75d3fdd-c8c9-4ad1-b110-640872e2e45f",
   "metadata": {},
   "outputs": [
    {
     "data": {
      "text/html": [
       "<div>\n",
       "<style scoped>\n",
       "    .dataframe tbody tr th:only-of-type {\n",
       "        vertical-align: middle;\n",
       "    }\n",
       "\n",
       "    .dataframe tbody tr th {\n",
       "        vertical-align: top;\n",
       "    }\n",
       "\n",
       "    .dataframe thead th {\n",
       "        text-align: right;\n",
       "    }\n",
       "</style>\n",
       "<table border=\"1\" class=\"dataframe\">\n",
       "  <thead>\n",
       "    <tr style=\"text-align: right;\">\n",
       "      <th></th>\n",
       "      <th>num</th>\n",
       "      <th>letter</th>\n",
       "    </tr>\n",
       "  </thead>\n",
       "  <tbody>\n",
       "    <tr>\n",
       "      <th>0</th>\n",
       "      <td>1</td>\n",
       "      <td>a</td>\n",
       "    </tr>\n",
       "    <tr>\n",
       "      <th>1</th>\n",
       "      <td>2</td>\n",
       "      <td>b</td>\n",
       "    </tr>\n",
       "    <tr>\n",
       "      <th>2</th>\n",
       "      <td>3</td>\n",
       "      <td>c</td>\n",
       "    </tr>\n",
       "    <tr>\n",
       "      <th>3</th>\n",
       "      <td>77</td>\n",
       "      <td>x</td>\n",
       "    </tr>\n",
       "    <tr>\n",
       "      <th>4</th>\n",
       "      <td>88</td>\n",
       "      <td>y</td>\n",
       "    </tr>\n",
       "    <tr>\n",
       "      <th>5</th>\n",
       "      <td>99</td>\n",
       "      <td>z</td>\n",
       "    </tr>\n",
       "  </tbody>\n",
       "</table>\n",
       "</div>"
      ],
      "text/plain": [
       "   num letter\n",
       "0    1      a\n",
       "1    2      b\n",
       "2    3      c\n",
       "3   77      x\n",
       "4   88      y\n",
       "5   99      z"
      ]
     },
     "execution_count": 22,
     "metadata": {},
     "output_type": "execute_result"
    }
   ],
   "source": [
    "dt.to_pandas()"
   ]
  },
  {
   "cell_type": "markdown",
   "id": "99660544-acf0-4c75-ace6-de4aec38ce02",
   "metadata": {},
   "source": [
    "## Delete rows\n",
    "\n",
    "This section demonstrates how you can delete rows of data from the Delta Lake."
   ]
  },
  {
   "cell_type": "code",
   "execution_count": 23,
   "id": "eb7bedb2-f39a-4dae-affa-750f286d6bdb",
   "metadata": {},
   "outputs": [],
   "source": [
    "dt = dl.DeltaTable(\"./tmp/delta-table\")"
   ]
  },
  {
   "cell_type": "markdown",
   "id": "a49b8ff0-5300-4672-8e50-38ff74fb9612",
   "metadata": {},
   "source": [
    "Convert the DeltaTable to a PyArrow dataset, so we can perform a filtering operation."
   ]
  },
  {
   "cell_type": "code",
   "execution_count": 24,
   "id": "36da289e-9c36-47b0-b034-5640e9b2961e",
   "metadata": {},
   "outputs": [],
   "source": [
    "dataset = dt.to_pyarrow_dataset()"
   ]
  },
  {
   "cell_type": "markdown",
   "id": "cafec7f1-a481-4ea4-91b8-e75176889f1f",
   "metadata": {},
   "source": [
    "Filter out all the values that are less than 1 and greater than 99"
   ]
  },
  {
   "cell_type": "code",
   "execution_count": 25,
   "id": "66d9c325-beec-4bd4-87a5-5cc5ec35aca9",
   "metadata": {},
   "outputs": [],
   "source": [
    "condition = (ds.field(\"num\") > 1.0) & (ds.field(\"num\") < 99.0)"
   ]
  },
  {
   "cell_type": "code",
   "execution_count": 26,
   "id": "27a0cdc4-51ed-42be-b746-ac0f54fa2d66",
   "metadata": {},
   "outputs": [],
   "source": [
    "filtered = dataset.to_table(filter=condition).to_pandas()"
   ]
  },
  {
   "cell_type": "code",
   "execution_count": 27,
   "id": "a3500aba-85a9-4971-82e5-353e76aea78a",
   "metadata": {},
   "outputs": [
    {
     "data": {
      "text/html": [
       "<div>\n",
       "<style scoped>\n",
       "    .dataframe tbody tr th:only-of-type {\n",
       "        vertical-align: middle;\n",
       "    }\n",
       "\n",
       "    .dataframe tbody tr th {\n",
       "        vertical-align: top;\n",
       "    }\n",
       "\n",
       "    .dataframe thead th {\n",
       "        text-align: right;\n",
       "    }\n",
       "</style>\n",
       "<table border=\"1\" class=\"dataframe\">\n",
       "  <thead>\n",
       "    <tr style=\"text-align: right;\">\n",
       "      <th></th>\n",
       "      <th>num</th>\n",
       "      <th>letter</th>\n",
       "    </tr>\n",
       "  </thead>\n",
       "  <tbody>\n",
       "    <tr>\n",
       "      <th>0</th>\n",
       "      <td>2</td>\n",
       "      <td>b</td>\n",
       "    </tr>\n",
       "    <tr>\n",
       "      <th>1</th>\n",
       "      <td>3</td>\n",
       "      <td>c</td>\n",
       "    </tr>\n",
       "    <tr>\n",
       "      <th>2</th>\n",
       "      <td>77</td>\n",
       "      <td>x</td>\n",
       "    </tr>\n",
       "    <tr>\n",
       "      <th>3</th>\n",
       "      <td>88</td>\n",
       "      <td>y</td>\n",
       "    </tr>\n",
       "  </tbody>\n",
       "</table>\n",
       "</div>"
      ],
      "text/plain": [
       "   num letter\n",
       "0    2      b\n",
       "1    3      c\n",
       "2   77      x\n",
       "3   88      y"
      ]
     },
     "execution_count": 27,
     "metadata": {},
     "output_type": "execute_result"
    }
   ],
   "source": [
    "filtered"
   ]
  },
  {
   "cell_type": "markdown",
   "id": "a53ce94f-9348-43fc-beba-43e15a9f4947",
   "metadata": {},
   "source": [
    "Set the save mode to overwrite to update the Delta Lake to only include the filtered data."
   ]
  },
  {
   "cell_type": "code",
   "execution_count": 28,
   "id": "4fd7cf52-128f-4c8e-a644-deb9dbc93021",
   "metadata": {},
   "outputs": [],
   "source": [
    "dl.writer.write_deltalake(f\"{cwd}/tmp/delta-table\", filtered, mode=\"overwrite\")"
   ]
  },
  {
   "cell_type": "markdown",
   "id": "7db0f7a5-7a20-47b3-9dc1-a40cb2980387",
   "metadata": {},
   "source": [
    "Read in the latest version of the Delta Lake to a pandas DataFrame to confirm that it only includes the filtered data."
   ]
  },
  {
   "cell_type": "code",
   "execution_count": 29,
   "id": "9c3ef7ca-465a-4cb5-b546-5513e404c6d7",
   "metadata": {},
   "outputs": [],
   "source": [
    "dt = dl.DeltaTable(\"./tmp/delta-table\")"
   ]
  },
  {
   "cell_type": "code",
   "execution_count": 30,
   "id": "bd608890-89f0-414d-bdf5-3c1a0c1dec76",
   "metadata": {},
   "outputs": [
    {
     "data": {
      "text/html": [
       "<div>\n",
       "<style scoped>\n",
       "    .dataframe tbody tr th:only-of-type {\n",
       "        vertical-align: middle;\n",
       "    }\n",
       "\n",
       "    .dataframe tbody tr th {\n",
       "        vertical-align: top;\n",
       "    }\n",
       "\n",
       "    .dataframe thead th {\n",
       "        text-align: right;\n",
       "    }\n",
       "</style>\n",
       "<table border=\"1\" class=\"dataframe\">\n",
       "  <thead>\n",
       "    <tr style=\"text-align: right;\">\n",
       "      <th></th>\n",
       "      <th>num</th>\n",
       "      <th>letter</th>\n",
       "    </tr>\n",
       "  </thead>\n",
       "  <tbody>\n",
       "    <tr>\n",
       "      <th>0</th>\n",
       "      <td>2</td>\n",
       "      <td>b</td>\n",
       "    </tr>\n",
       "    <tr>\n",
       "      <th>1</th>\n",
       "      <td>3</td>\n",
       "      <td>c</td>\n",
       "    </tr>\n",
       "    <tr>\n",
       "      <th>2</th>\n",
       "      <td>77</td>\n",
       "      <td>x</td>\n",
       "    </tr>\n",
       "    <tr>\n",
       "      <th>3</th>\n",
       "      <td>88</td>\n",
       "      <td>y</td>\n",
       "    </tr>\n",
       "  </tbody>\n",
       "</table>\n",
       "</div>"
      ],
      "text/plain": [
       "   num letter\n",
       "0    2      b\n",
       "1    3      c\n",
       "2   77      x\n",
       "3   88      y"
      ]
     },
     "execution_count": 30,
     "metadata": {},
     "output_type": "execute_result"
    }
   ],
   "source": [
    "dt.to_pandas()"
   ]
  },
  {
   "cell_type": "markdown",
   "id": "6a98b920-3a87-4228-8be1-7584e68f5448",
   "metadata": {},
   "source": [
    "## Vacuum old data files\n",
    "\n",
    "Delta Lake doesn't delete stale file from disk by default.  We just performed an overwrite transaction which means that all the data for the latest version of the Delta Lake is in a new file.  When we read in the latest version of the Delta Lake, it'll just read the new file.  Let's take a look."
   ]
  },
  {
   "cell_type": "code",
   "execution_count": 31,
   "id": "1d9e221b-fc93-4690-b020-821b47a62e31",
   "metadata": {},
   "outputs": [],
   "source": [
    "dt = dl.DeltaTable(\"./tmp/delta-table\")"
   ]
  },
  {
   "cell_type": "code",
   "execution_count": 32,
   "id": "12b3fb19-d865-40f8-a91c-e94f3f6e01a9",
   "metadata": {},
   "outputs": [
    {
     "data": {
      "text/plain": [
       "['2-5f1b893c-7e42-4968-b4cf-0a76c3061d6e-0.parquet']"
      ]
     },
     "execution_count": 32,
     "metadata": {},
     "output_type": "execute_result"
    }
   ],
   "source": [
    "dt.files()"
   ]
  },
  {
   "cell_type": "code",
   "execution_count": 33,
   "id": "573217ce-1bdb-472c-a937-d4fddb80e0bc",
   "metadata": {},
   "outputs": [
    {
     "data": {
      "text/html": [
       "<div>\n",
       "<style scoped>\n",
       "    .dataframe tbody tr th:only-of-type {\n",
       "        vertical-align: middle;\n",
       "    }\n",
       "\n",
       "    .dataframe tbody tr th {\n",
       "        vertical-align: top;\n",
       "    }\n",
       "\n",
       "    .dataframe thead th {\n",
       "        text-align: right;\n",
       "    }\n",
       "</style>\n",
       "<table border=\"1\" class=\"dataframe\">\n",
       "  <thead>\n",
       "    <tr style=\"text-align: right;\">\n",
       "      <th></th>\n",
       "      <th>num</th>\n",
       "      <th>letter</th>\n",
       "    </tr>\n",
       "  </thead>\n",
       "  <tbody>\n",
       "    <tr>\n",
       "      <th>0</th>\n",
       "      <td>2</td>\n",
       "      <td>b</td>\n",
       "    </tr>\n",
       "    <tr>\n",
       "      <th>1</th>\n",
       "      <td>3</td>\n",
       "      <td>c</td>\n",
       "    </tr>\n",
       "    <tr>\n",
       "      <th>2</th>\n",
       "      <td>77</td>\n",
       "      <td>x</td>\n",
       "    </tr>\n",
       "    <tr>\n",
       "      <th>3</th>\n",
       "      <td>88</td>\n",
       "      <td>y</td>\n",
       "    </tr>\n",
       "  </tbody>\n",
       "</table>\n",
       "</div>"
      ],
      "text/plain": [
       "   num letter\n",
       "0    2      b\n",
       "1    3      c\n",
       "2   77      x\n",
       "3   88      y"
      ]
     },
     "execution_count": 33,
     "metadata": {},
     "output_type": "execute_result"
    }
   ],
   "source": [
    "dt.to_pandas()"
   ]
  },
  {
   "cell_type": "markdown",
   "id": "00506606-b0f5-444c-8ed3-6776eb80497f",
   "metadata": {},
   "source": [
    "We have several Parquet files on disk, but only one is being read for the current version of the Delta Lake.  Let's take a look at all the Parquet files currently in the Delta Lake."
   ]
  },
  {
   "cell_type": "code",
   "execution_count": 34,
   "id": "8b738b21-07ef-4057-86c6-5633d847df80",
   "metadata": {},
   "outputs": [
    {
     "name": "stdout",
     "output_type": "stream",
     "text": [
      "tmp/delta-table/0-e859573b-51d9-4193-aaee-55f52b07392a-0.parquet\n",
      "tmp/delta-table/1-5db2221e-eb29-47eb-b59d-ea99281c351c-0.parquet\n",
      "tmp/delta-table/2-5f1b893c-7e42-4968-b4cf-0a76c3061d6e-0.parquet\n"
     ]
    }
   ],
   "source": [
    "! ls tmp/delta-table/*.parquet"
   ]
  },
  {
   "cell_type": "markdown",
   "id": "6fdb5741-1674-4237-9289-310c6ed2d47c",
   "metadata": {},
   "source": [
    "The \"stale\" Parquet files are what allow for time travel.  Let's time travel back to \"version 1\" of the Delta Lake."
   ]
  },
  {
   "cell_type": "code",
   "execution_count": 35,
   "id": "22895197-d2a1-46dd-a35a-bc5b18d2b869",
   "metadata": {},
   "outputs": [],
   "source": [
    "dt = dl.DeltaTable(\"./tmp/delta-table\", version=1)"
   ]
  },
  {
   "cell_type": "code",
   "execution_count": 36,
   "id": "999df0f5-1c2c-463f-99de-15d4e930d147",
   "metadata": {},
   "outputs": [
    {
     "data": {
      "text/plain": [
       "['0-e859573b-51d9-4193-aaee-55f52b07392a-0.parquet',\n",
       " '1-5db2221e-eb29-47eb-b59d-ea99281c351c-0.parquet']"
      ]
     },
     "execution_count": 36,
     "metadata": {},
     "output_type": "execute_result"
    }
   ],
   "source": [
    "dt.files()"
   ]
  },
  {
   "cell_type": "code",
   "execution_count": 37,
   "id": "5090c6f5-64c9-4eb8-ba53-712e224ed227",
   "metadata": {},
   "outputs": [
    {
     "data": {
      "text/html": [
       "<div>\n",
       "<style scoped>\n",
       "    .dataframe tbody tr th:only-of-type {\n",
       "        vertical-align: middle;\n",
       "    }\n",
       "\n",
       "    .dataframe tbody tr th {\n",
       "        vertical-align: top;\n",
       "    }\n",
       "\n",
       "    .dataframe thead th {\n",
       "        text-align: right;\n",
       "    }\n",
       "</style>\n",
       "<table border=\"1\" class=\"dataframe\">\n",
       "  <thead>\n",
       "    <tr style=\"text-align: right;\">\n",
       "      <th></th>\n",
       "      <th>num</th>\n",
       "      <th>letter</th>\n",
       "    </tr>\n",
       "  </thead>\n",
       "  <tbody>\n",
       "    <tr>\n",
       "      <th>0</th>\n",
       "      <td>1</td>\n",
       "      <td>a</td>\n",
       "    </tr>\n",
       "    <tr>\n",
       "      <th>1</th>\n",
       "      <td>2</td>\n",
       "      <td>b</td>\n",
       "    </tr>\n",
       "    <tr>\n",
       "      <th>2</th>\n",
       "      <td>3</td>\n",
       "      <td>c</td>\n",
       "    </tr>\n",
       "    <tr>\n",
       "      <th>3</th>\n",
       "      <td>77</td>\n",
       "      <td>x</td>\n",
       "    </tr>\n",
       "    <tr>\n",
       "      <th>4</th>\n",
       "      <td>88</td>\n",
       "      <td>y</td>\n",
       "    </tr>\n",
       "    <tr>\n",
       "      <th>5</th>\n",
       "      <td>99</td>\n",
       "      <td>z</td>\n",
       "    </tr>\n",
       "  </tbody>\n",
       "</table>\n",
       "</div>"
      ],
      "text/plain": [
       "   num letter\n",
       "0    1      a\n",
       "1    2      b\n",
       "2    3      c\n",
       "3   77      x\n",
       "4   88      y\n",
       "5   99      z"
      ]
     },
     "execution_count": 37,
     "metadata": {},
     "output_type": "execute_result"
    }
   ],
   "source": [
    "dt.to_pandas()"
   ]
  },
  {
   "cell_type": "markdown",
   "id": "6820d869-0248-49d9-aa5e-ee233931fa48",
   "metadata": {},
   "source": [
    "When we time travel back to version 1, we're reading entirely different files than when we read the latest version of the the Delta Lake.\n",
    "\n",
    "The legacy files are what allow you to time travel.\n",
    "\n",
    "If you don't want to time travel, you can delete the legacy files with the `vacuum()` command."
   ]
  },
  {
   "cell_type": "code",
   "execution_count": 38,
   "id": "a8a0f2f9-2a33-4caa-bb82-6db81608deb6",
   "metadata": {},
   "outputs": [],
   "source": [
    "dt = dl.DeltaTable(f\"{cwd}/tmp/delta-table\")"
   ]
  },
  {
   "cell_type": "markdown",
   "id": "ffcec5cc-0614-4dd6-bb87-7ddd1dd63da4",
   "metadata": {},
   "source": [
    "Vacuum is run in \"dry run\" mode by default."
   ]
  },
  {
   "cell_type": "code",
   "execution_count": 39,
   "id": "42f787f0-ee21-49d0-b205-3434d4423eb8",
   "metadata": {},
   "outputs": [
    {
     "data": {
      "text/plain": [
       "['/Users/powers/Documents/code/my_apps/delta-examples/notebooks/delta-rs/tmp/delta-table/1-5db2221e-eb29-47eb-b59d-ea99281c351c-0.parquet',\n",
       " '/Users/powers/Documents/code/my_apps/delta-examples/notebooks/delta-rs/tmp/delta-table/0-e859573b-51d9-4193-aaee-55f52b07392a-0.parquet']"
      ]
     },
     "execution_count": 39,
     "metadata": {},
     "output_type": "execute_result"
    }
   ],
   "source": [
    "dt.vacuum(retention_hours=0, enforce_retention_duration=False)"
   ]
  },
  {
   "cell_type": "markdown",
   "id": "a9e36763-fc29-4a89-815e-f19745e81dcf",
   "metadata": {},
   "source": [
    "The files aren't actually deleted when the code is executed in dry run mode."
   ]
  },
  {
   "cell_type": "code",
   "execution_count": 40,
   "id": "363d7781-e351-49e0-99e8-1cc7f0a21965",
   "metadata": {},
   "outputs": [
    {
     "name": "stdout",
     "output_type": "stream",
     "text": [
      "tmp/delta-table/0-e859573b-51d9-4193-aaee-55f52b07392a-0.parquet\n",
      "tmp/delta-table/1-5db2221e-eb29-47eb-b59d-ea99281c351c-0.parquet\n",
      "tmp/delta-table/2-5f1b893c-7e42-4968-b4cf-0a76c3061d6e-0.parquet\n"
     ]
    }
   ],
   "source": [
    "! ls tmp/delta-table/*.parquet"
   ]
  },
  {
   "cell_type": "markdown",
   "id": "ce33a3f5-e0a2-4e84-be01-665c35079da8",
   "metadata": {},
   "source": [
    "Explicitly set `dry_run` to `False` to actually delete the files."
   ]
  },
  {
   "cell_type": "code",
   "execution_count": 41,
   "id": "cf2142f3-7538-47ed-a6a5-feb1330908a2",
   "metadata": {},
   "outputs": [
    {
     "data": {
      "text/plain": [
       "['/Users/powers/Documents/code/my_apps/delta-examples/notebooks/delta-rs/tmp/delta-table/1-5db2221e-eb29-47eb-b59d-ea99281c351c-0.parquet',\n",
       " '/Users/powers/Documents/code/my_apps/delta-examples/notebooks/delta-rs/tmp/delta-table/0-e859573b-51d9-4193-aaee-55f52b07392a-0.parquet']"
      ]
     },
     "execution_count": 41,
     "metadata": {},
     "output_type": "execute_result"
    }
   ],
   "source": [
    "dt.vacuum(retention_hours=0, enforce_retention_duration=False, dry_run=False)"
   ]
  },
  {
   "cell_type": "code",
   "execution_count": 42,
   "id": "7aab40ec-5209-4e66-8d3a-4acd15e854b2",
   "metadata": {},
   "outputs": [
    {
     "name": "stdout",
     "output_type": "stream",
     "text": [
      "tmp/delta-table/2-5f1b893c-7e42-4968-b4cf-0a76c3061d6e-0.parquet\n"
     ]
    }
   ],
   "source": [
    "! ls tmp/delta-table/*.parquet"
   ]
  },
  {
   "cell_type": "markdown",
   "id": "4569ba36-c4b5-4ee7-9c0b-2f151ed65ca8",
   "metadata": {},
   "source": [
    "## Cleanup\n",
    "\n",
    "Let's delete the Delta Lake now that we're done with this demo."
   ]
  },
  {
   "cell_type": "code",
   "execution_count": 1,
   "id": "eb58b857-efe0-4a33-955c-de909603a597",
   "metadata": {},
   "outputs": [],
   "source": [
    "! rm -rf ./tmp/delta-table/"
   ]
  },
  {
   "cell_type": "code",
   "execution_count": null,
   "id": "001b41c1-0aa9-475b-a54d-94fa10ab5764",
   "metadata": {},
   "outputs": [],
   "source": []
  },
  {
   "cell_type": "code",
   "execution_count": null,
   "id": "fff3aff6-b16e-4b7d-a54c-3bc219f7717e",
   "metadata": {},
   "outputs": [],
   "source": []
  },
  {
   "cell_type": "code",
   "execution_count": null,
   "id": "b4ec7c9b-45c0-413a-8070-d8fe79f87f82",
   "metadata": {},
   "outputs": [],
   "source": []
  }
 ],
 "metadata": {
  "kernelspec": {
   "display_name": "deltalake-0130",
   "language": "python",
   "name": "deltalake-0130"
  },
  "language_info": {
   "codemirror_mode": {
    "name": "ipython",
    "version": 3
   },
   "file_extension": ".py",
   "mimetype": "text/x-python",
   "name": "python",
   "nbconvert_exporter": "python",
   "pygments_lexer": "ipython3",
   "version": "3.9.18"
  }
 },
 "nbformat": 4,
 "nbformat_minor": 5
}
