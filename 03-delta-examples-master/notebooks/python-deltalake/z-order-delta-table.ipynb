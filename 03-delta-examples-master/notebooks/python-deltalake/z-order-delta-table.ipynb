{
 "cells": [
  {
   "cell_type": "code",
   "execution_count": 5,
   "id": "00f56eb6-d665-44d8-b3c3-4bdc4b4d36bc",
   "metadata": {},
   "outputs": [],
   "source": [
    "from deltalake import DeltaTable\n",
    "import pandas as pd\n",
    "from pathlib import Path"
   ]
  },
  {
   "cell_type": "markdown",
   "id": "93d73a39-cade-4c71-9a49-45b63d59a2fc",
   "metadata": {},
   "source": [
    "## Run queries on Delta table with pandas"
   ]
  },
  {
   "cell_type": "code",
   "execution_count": 6,
   "id": "b622c32a-5dc9-4332-a553-866427425ed2",
   "metadata": {},
   "outputs": [],
   "source": [
    "path = f\"{Path.home()}/data/deltalake_baseline_G1_1e9_1e2_0_0\""
   ]
  },
  {
   "cell_type": "code",
   "execution_count": 7,
   "id": "ec6608ea-5fc9-4962-9329-f838fc5a5d84",
   "metadata": {},
   "outputs": [],
   "source": [
    "dt = DeltaTable(path)"
   ]
  },
  {
   "cell_type": "code",
   "execution_count": 9,
   "id": "2d7cc066-b097-4dbd-8403-5c713eadeda6",
   "metadata": {},
   "outputs": [
    {
     "name": "stdout",
     "output_type": "stream",
     "text": [
      "CPU times: user 1min 7s, sys: 1.51 s, total: 1min 9s\n",
      "Wall time: 1min 7s\n"
     ]
    },
    {
     "data": {
      "text/html": [
       "<div>\n",
       "<style scoped>\n",
       "    .dataframe tbody tr th:only-of-type {\n",
       "        vertical-align: middle;\n",
       "    }\n",
       "\n",
       "    .dataframe tbody tr th {\n",
       "        vertical-align: top;\n",
       "    }\n",
       "\n",
       "    .dataframe thead th {\n",
       "        text-align: right;\n",
       "    }\n",
       "</style>\n",
       "<table border=\"1\" class=\"dataframe\">\n",
       "  <thead>\n",
       "    <tr style=\"text-align: right;\">\n",
       "      <th></th>\n",
       "      <th>v1</th>\n",
       "    </tr>\n",
       "    <tr>\n",
       "      <th>id2</th>\n",
       "      <th></th>\n",
       "    </tr>\n",
       "  </thead>\n",
       "  <tbody>\n",
       "    <tr>\n",
       "      <th>id001</th>\n",
       "      <td>5413334115411131444111211215135424141111135122...</td>\n",
       "    </tr>\n",
       "    <tr>\n",
       "      <th>id002</th>\n",
       "      <td>3513425325315321123254523434122334525144115542...</td>\n",
       "    </tr>\n",
       "    <tr>\n",
       "      <th>id003</th>\n",
       "      <td>3331513322443552124514455231251533425214413135...</td>\n",
       "    </tr>\n",
       "    <tr>\n",
       "      <th>id004</th>\n",
       "      <td>3554452514412353423231533425541345311225345542...</td>\n",
       "    </tr>\n",
       "    <tr>\n",
       "      <th>id005</th>\n",
       "      <td>2534353242344422134143544543222423415313131335...</td>\n",
       "    </tr>\n",
       "    <tr>\n",
       "      <th>...</th>\n",
       "      <td>...</td>\n",
       "    </tr>\n",
       "    <tr>\n",
       "      <th>id096</th>\n",
       "      <td>5135221131514421342325135152131515241145235435...</td>\n",
       "    </tr>\n",
       "    <tr>\n",
       "      <th>id097</th>\n",
       "      <td>1144141245311113545155444421332544134544542445...</td>\n",
       "    </tr>\n",
       "    <tr>\n",
       "      <th>id098</th>\n",
       "      <td>5342321411412142311452342514212524224215222534...</td>\n",
       "    </tr>\n",
       "    <tr>\n",
       "      <th>id099</th>\n",
       "      <td>5152244212344324112521514243524452543334311541...</td>\n",
       "    </tr>\n",
       "    <tr>\n",
       "      <th>id100</th>\n",
       "      <td>5525254141222321525343421335453345334531224341...</td>\n",
       "    </tr>\n",
       "  </tbody>\n",
       "</table>\n",
       "<p>100 rows × 1 columns</p>\n",
       "</div>"
      ],
      "text/plain": [
       "                                                      v1\n",
       "id2                                                     \n",
       "id001  5413334115411131444111211215135424141111135122...\n",
       "id002  3513425325315321123254523434122334525144115542...\n",
       "id003  3331513322443552124514455231251533425214413135...\n",
       "id004  3554452514412353423231533425541345311225345542...\n",
       "id005  2534353242344422134143544543222423415313131335...\n",
       "...                                                  ...\n",
       "id096  5135221131514421342325135152131515241145235435...\n",
       "id097  1144141245311113545155444421332544134544542445...\n",
       "id098  5342321411412142311452342514212524224215222534...\n",
       "id099  5152244212344324112521514243524452543334311541...\n",
       "id100  5525254141222321525343421335453345334531224341...\n",
       "\n",
       "[100 rows x 1 columns]"
      ]
     },
     "execution_count": 9,
     "metadata": {},
     "output_type": "execute_result"
    }
   ],
   "source": [
    "%%time\n",
    "(\n",
    "    dt.to_pandas(filters=[(\"id1\", \"==\", \"id016\")], columns=[\"id1\", \"id2\", \"v1\"])\n",
    "    .query(\"id1 == 'id016'\")\n",
    "    .groupby(\"id2\")\n",
    "    .agg({\"v1\": \"sum\"})\n",
    ")"
   ]
  },
  {
   "cell_type": "markdown",
   "id": "613a545b-9332-46d8-8eb9-d9e150e2764f",
   "metadata": {},
   "source": [
    "## Z Order 50 GB dataset"
   ]
  },
  {
   "cell_type": "code",
   "execution_count": 10,
   "id": "8e11c082-cc48-4bde-af67-c564a2efedf1",
   "metadata": {},
   "outputs": [
    {
     "name": "stderr",
     "output_type": "stream",
     "text": [
      "thread 'tokio-runtime-worker' panicked at 'overflow', /Users/runner/.cargo/registry/src/github.com-1ecc6299db9ec823/arrow-select-39.0.0/src/interleave.rs:172:56\n",
      "note: run with `RUST_BACKTRACE=1` environment variable to display a backtrace\n"
     ]
    },
    {
     "ename": "DeltaError",
     "evalue": "Generic error: task 334 panicked",
     "output_type": "error",
     "traceback": [
      "\u001b[0;31m---------------------------------------------------------------------------\u001b[0m",
      "\u001b[0;31mDeltaError\u001b[0m                                Traceback (most recent call last)",
      "File \u001b[0;32m<timed eval>:1\u001b[0m\n",
      "File \u001b[0;32m~/opt/miniconda3/envs/deltalake-0100/lib/python3.9/site-packages/deltalake/table.py:697\u001b[0m, in \u001b[0;36mTableOptimizer.z_order\u001b[0;34m(self, columns, partition_filters, target_size, max_concurrent_tasks)\u001b[0m\n\u001b[1;32m    675\u001b[0m \u001b[38;5;28;01mdef\u001b[39;00m \u001b[38;5;21mz_order\u001b[39m(\n\u001b[1;32m    676\u001b[0m     \u001b[38;5;28mself\u001b[39m,\n\u001b[1;32m    677\u001b[0m     columns: Iterable[\u001b[38;5;28mstr\u001b[39m],\n\u001b[0;32m   (...)\u001b[0m\n\u001b[1;32m    680\u001b[0m     max_concurrent_tasks: Optional[\u001b[38;5;28mint\u001b[39m] \u001b[38;5;241m=\u001b[39m \u001b[38;5;28;01mNone\u001b[39;00m,\n\u001b[1;32m    681\u001b[0m ) \u001b[38;5;241m-\u001b[39m\u001b[38;5;241m>\u001b[39m Dict[\u001b[38;5;28mstr\u001b[39m, Any]:\n\u001b[1;32m    682\u001b[0m \u001b[38;5;250m    \u001b[39m\u001b[38;5;124;03m\"\"\"\u001b[39;00m\n\u001b[1;32m    683\u001b[0m \u001b[38;5;124;03m    Reorders the data using a Z-order curve to improve data skipping.\u001b[39;00m\n\u001b[1;32m    684\u001b[0m \n\u001b[0;32m   (...)\u001b[0m\n\u001b[1;32m    695\u001b[0m \u001b[38;5;124;03m    :return: the metrics from optimize\u001b[39;00m\n\u001b[1;32m    696\u001b[0m \u001b[38;5;124;03m    \"\"\"\u001b[39;00m\n\u001b[0;32m--> 697\u001b[0m     metrics \u001b[38;5;241m=\u001b[39m \u001b[38;5;28;43mself\u001b[39;49m\u001b[38;5;241;43m.\u001b[39;49m\u001b[43mtable\u001b[49m\u001b[38;5;241;43m.\u001b[39;49m\u001b[43m_table\u001b[49m\u001b[38;5;241;43m.\u001b[39;49m\u001b[43mz_order_optimize\u001b[49m\u001b[43m(\u001b[49m\n\u001b[1;32m    698\u001b[0m \u001b[43m        \u001b[49m\u001b[38;5;28;43mlist\u001b[39;49m\u001b[43m(\u001b[49m\u001b[43mcolumns\u001b[49m\u001b[43m)\u001b[49m\u001b[43m,\u001b[49m\u001b[43m \u001b[49m\u001b[43mpartition_filters\u001b[49m\u001b[43m,\u001b[49m\u001b[43m \u001b[49m\u001b[43mtarget_size\u001b[49m\u001b[43m,\u001b[49m\u001b[43m \u001b[49m\u001b[43mmax_concurrent_tasks\u001b[49m\n\u001b[1;32m    699\u001b[0m \u001b[43m    \u001b[49m\u001b[43m)\u001b[49m\n\u001b[1;32m    700\u001b[0m     \u001b[38;5;28mself\u001b[39m\u001b[38;5;241m.\u001b[39mtable\u001b[38;5;241m.\u001b[39mupdate_incremental()\n\u001b[1;32m    701\u001b[0m     \u001b[38;5;28;01mreturn\u001b[39;00m json\u001b[38;5;241m.\u001b[39mloads(metrics)\n",
      "\u001b[0;31mDeltaError\u001b[0m: Generic error: task 334 panicked"
     ]
    }
   ],
   "source": [
    "%%time\n",
    "dt.optimize.z_order([\"id1\"])"
   ]
  },
  {
   "cell_type": "markdown",
   "id": "8bb53171-da48-47da-8dff-642fbb099cf9",
   "metadata": {},
   "source": [
    "## Z Order 5 GB"
   ]
  },
  {
   "cell_type": "code",
   "execution_count": 13,
   "id": "d4b8a070-fad8-46f7-b081-631225eabec1",
   "metadata": {},
   "outputs": [],
   "source": [
    "df = pd.read_csv(f\"{Path.home()}/data/G1_1e8_1e2_0_0.csv\")"
   ]
  },
  {
   "cell_type": "code",
   "execution_count": 14,
   "id": "ec2d99d3-3079-4bc0-a88a-11ae59ecae46",
   "metadata": {},
   "outputs": [],
   "source": [
    "from deltalake.writer import write_deltalake"
   ]
  },
  {
   "cell_type": "code",
   "execution_count": 17,
   "id": "486f9493-4391-49d2-b3a7-a45217641606",
   "metadata": {},
   "outputs": [],
   "source": [
    "path = f\"{Path.home()}/data/deltalake_baseline_G1_1e8_1e2_0_0\""
   ]
  },
  {
   "cell_type": "code",
   "execution_count": 18,
   "id": "aa11dbdc-208c-4150-b069-165316c0a980",
   "metadata": {},
   "outputs": [],
   "source": [
    "write_deltalake(path, data=df)"
   ]
  },
  {
   "cell_type": "code",
   "execution_count": 19,
   "id": "5c81bb5b-f0a6-4dd2-b571-19cdf3dd4688",
   "metadata": {},
   "outputs": [],
   "source": [
    "dt = DeltaTable(path)"
   ]
  },
  {
   "cell_type": "code",
   "execution_count": 20,
   "id": "89d35eb3-46b6-4d4d-ac37-f3defe99dc57",
   "metadata": {},
   "outputs": [
    {
     "name": "stdout",
     "output_type": "stream",
     "text": [
      "CPU times: user 4.29 s, sys: 604 ms, total: 4.89 s\n",
      "Wall time: 953 ms\n"
     ]
    },
    {
     "data": {
      "text/html": [
       "<div>\n",
       "<style scoped>\n",
       "    .dataframe tbody tr th:only-of-type {\n",
       "        vertical-align: middle;\n",
       "    }\n",
       "\n",
       "    .dataframe tbody tr th {\n",
       "        vertical-align: top;\n",
       "    }\n",
       "\n",
       "    .dataframe thead th {\n",
       "        text-align: right;\n",
       "    }\n",
       "</style>\n",
       "<table border=\"1\" class=\"dataframe\">\n",
       "  <thead>\n",
       "    <tr style=\"text-align: right;\">\n",
       "      <th></th>\n",
       "      <th>v1</th>\n",
       "    </tr>\n",
       "    <tr>\n",
       "      <th>id2</th>\n",
       "      <th></th>\n",
       "    </tr>\n",
       "  </thead>\n",
       "  <tbody>\n",
       "    <tr>\n",
       "      <th>id001</th>\n",
       "      <td>29918</td>\n",
       "    </tr>\n",
       "    <tr>\n",
       "      <th>id002</th>\n",
       "      <td>30343</td>\n",
       "    </tr>\n",
       "    <tr>\n",
       "      <th>id003</th>\n",
       "      <td>30180</td>\n",
       "    </tr>\n",
       "    <tr>\n",
       "      <th>id004</th>\n",
       "      <td>30581</td>\n",
       "    </tr>\n",
       "    <tr>\n",
       "      <th>id005</th>\n",
       "      <td>30769</td>\n",
       "    </tr>\n",
       "    <tr>\n",
       "      <th>...</th>\n",
       "      <td>...</td>\n",
       "    </tr>\n",
       "    <tr>\n",
       "      <th>id096</th>\n",
       "      <td>30011</td>\n",
       "    </tr>\n",
       "    <tr>\n",
       "      <th>id097</th>\n",
       "      <td>29728</td>\n",
       "    </tr>\n",
       "    <tr>\n",
       "      <th>id098</th>\n",
       "      <td>30131</td>\n",
       "    </tr>\n",
       "    <tr>\n",
       "      <th>id099</th>\n",
       "      <td>30141</td>\n",
       "    </tr>\n",
       "    <tr>\n",
       "      <th>id100</th>\n",
       "      <td>29743</td>\n",
       "    </tr>\n",
       "  </tbody>\n",
       "</table>\n",
       "<p>100 rows × 1 columns</p>\n",
       "</div>"
      ],
      "text/plain": [
       "          v1\n",
       "id2         \n",
       "id001  29918\n",
       "id002  30343\n",
       "id003  30180\n",
       "id004  30581\n",
       "id005  30769\n",
       "...      ...\n",
       "id096  30011\n",
       "id097  29728\n",
       "id098  30131\n",
       "id099  30141\n",
       "id100  29743\n",
       "\n",
       "[100 rows x 1 columns]"
      ]
     },
     "execution_count": 20,
     "metadata": {},
     "output_type": "execute_result"
    }
   ],
   "source": [
    "%%time\n",
    "(\n",
    "    dt.to_pandas(filters=[(\"id1\", \"==\", \"id016\")], columns=[\"id1\", \"id2\", \"v1\"])\n",
    "    .query(\"id1 == 'id016'\")\n",
    "    .groupby(\"id2\")\n",
    "    .agg({\"v1\": \"sum\"})\n",
    ")"
   ]
  },
  {
   "cell_type": "code",
   "execution_count": 21,
   "id": "0dae740a-0004-49e9-aba3-ae2861537320",
   "metadata": {},
   "outputs": [
    {
     "name": "stdout",
     "output_type": "stream",
     "text": [
      "CPU times: user 3min 4s, sys: 12.4 s, total: 3min 17s\n",
      "Wall time: 3min 18s\n"
     ]
    },
    {
     "data": {
      "text/plain": [
       "{'numFilesAdded': 16,\n",
       " 'numFilesRemoved': 10,\n",
       " 'filesAdded': {'min': 96009746,\n",
       "  'max': 106859356,\n",
       "  'avg': 106098635.875,\n",
       "  'totalFiles': 16,\n",
       "  'totalSize': 1697578174},\n",
       " 'filesRemoved': {'min': 167410637,\n",
       "  'max': 311952314,\n",
       "  'avg': 297489865.5,\n",
       "  'totalFiles': 10,\n",
       "  'totalSize': 2974898655},\n",
       " 'partitionsOptimized': 0,\n",
       " 'numBatches': 1,\n",
       " 'totalConsideredFiles': 10,\n",
       " 'totalFilesSkipped': 0,\n",
       " 'preserveInsertionOrder': True}"
      ]
     },
     "execution_count": 21,
     "metadata": {},
     "output_type": "execute_result"
    }
   ],
   "source": [
    "%%time\n",
    "dt.optimize.z_order([\"id1\"])"
   ]
  },
  {
   "cell_type": "code",
   "execution_count": 22,
   "id": "f1b29bb6-4903-4bbe-90e7-2012c70643db",
   "metadata": {},
   "outputs": [
    {
     "name": "stdout",
     "output_type": "stream",
     "text": [
      "CPU times: user 3.34 s, sys: 182 ms, total: 3.52 s\n",
      "Wall time: 544 ms\n"
     ]
    },
    {
     "data": {
      "text/html": [
       "<div>\n",
       "<style scoped>\n",
       "    .dataframe tbody tr th:only-of-type {\n",
       "        vertical-align: middle;\n",
       "    }\n",
       "\n",
       "    .dataframe tbody tr th {\n",
       "        vertical-align: top;\n",
       "    }\n",
       "\n",
       "    .dataframe thead th {\n",
       "        text-align: right;\n",
       "    }\n",
       "</style>\n",
       "<table border=\"1\" class=\"dataframe\">\n",
       "  <thead>\n",
       "    <tr style=\"text-align: right;\">\n",
       "      <th></th>\n",
       "      <th>v1</th>\n",
       "    </tr>\n",
       "    <tr>\n",
       "      <th>id2</th>\n",
       "      <th></th>\n",
       "    </tr>\n",
       "  </thead>\n",
       "  <tbody>\n",
       "    <tr>\n",
       "      <th>id001</th>\n",
       "      <td>29918</td>\n",
       "    </tr>\n",
       "    <tr>\n",
       "      <th>id002</th>\n",
       "      <td>30343</td>\n",
       "    </tr>\n",
       "    <tr>\n",
       "      <th>id003</th>\n",
       "      <td>30180</td>\n",
       "    </tr>\n",
       "    <tr>\n",
       "      <th>id004</th>\n",
       "      <td>30581</td>\n",
       "    </tr>\n",
       "    <tr>\n",
       "      <th>id005</th>\n",
       "      <td>30769</td>\n",
       "    </tr>\n",
       "    <tr>\n",
       "      <th>...</th>\n",
       "      <td>...</td>\n",
       "    </tr>\n",
       "    <tr>\n",
       "      <th>id096</th>\n",
       "      <td>30011</td>\n",
       "    </tr>\n",
       "    <tr>\n",
       "      <th>id097</th>\n",
       "      <td>29728</td>\n",
       "    </tr>\n",
       "    <tr>\n",
       "      <th>id098</th>\n",
       "      <td>30131</td>\n",
       "    </tr>\n",
       "    <tr>\n",
       "      <th>id099</th>\n",
       "      <td>30141</td>\n",
       "    </tr>\n",
       "    <tr>\n",
       "      <th>id100</th>\n",
       "      <td>29743</td>\n",
       "    </tr>\n",
       "  </tbody>\n",
       "</table>\n",
       "<p>100 rows × 1 columns</p>\n",
       "</div>"
      ],
      "text/plain": [
       "          v1\n",
       "id2         \n",
       "id001  29918\n",
       "id002  30343\n",
       "id003  30180\n",
       "id004  30581\n",
       "id005  30769\n",
       "...      ...\n",
       "id096  30011\n",
       "id097  29728\n",
       "id098  30131\n",
       "id099  30141\n",
       "id100  29743\n",
       "\n",
       "[100 rows x 1 columns]"
      ]
     },
     "execution_count": 22,
     "metadata": {},
     "output_type": "execute_result"
    }
   ],
   "source": [
    "%%time\n",
    "(\n",
    "    dt.to_pandas(filters=[(\"id1\", \"==\", \"id016\")], columns=[\"id1\", \"id2\", \"v1\"])\n",
    "    .query(\"id1 == 'id016'\")\n",
    "    .groupby(\"id2\")\n",
    "    .agg({\"v1\": \"sum\"})\n",
    ")"
   ]
  },
  {
   "cell_type": "code",
   "execution_count": null,
   "id": "9cf6b7ca-3029-4fac-8156-b065e36652a3",
   "metadata": {},
   "outputs": [],
   "source": []
  }
 ],
 "metadata": {
  "kernelspec": {
   "display_name": "deltalake-0130",
   "language": "python",
   "name": "deltalake-0130"
  },
  "language_info": {
   "codemirror_mode": {
    "name": "ipython",
    "version": 3
   },
   "file_extension": ".py",
   "mimetype": "text/x-python",
   "name": "python",
   "nbconvert_exporter": "python",
   "pygments_lexer": "ipython3",
   "version": "3.9.18"
  }
 },
 "nbformat": 4,
 "nbformat_minor": 5
}
