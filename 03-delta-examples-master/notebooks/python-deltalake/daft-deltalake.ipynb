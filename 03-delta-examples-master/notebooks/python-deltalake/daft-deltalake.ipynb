{
 "cells": [
  {
   "cell_type": "markdown",
   "id": "5852add6-c642-4f41-9370-377370a8925b",
   "metadata": {},
   "source": [
    "# Using Delta Lake with Daft\n",
    "\n",
    "[Daft](www.getdaft.io) is a framework for ETL, analytics, and ML/AI at scale with a familiar Python dataframe API, implemented in Rust. \n",
    "\n",
    "Daft and Delta Lake work really well together. Daft provides unified compute for Delta Lake’s unified storage. Together, Delta Lake and Daft give you high-performance query optimization and distributed compute on massive datasets.\n",
    "\n",
    "Delta Lake is a great storage format for Daft workloads. Here are some of the benefits that Delta Lake gives the Daft community: \n",
    "- highly **optimized query planning** via Delta Lake's metadata file\n",
    "- **enhanced file skipping** via Z Ordering\n",
    "- **ACID transactions** and **schema enforcement** for safer writes\n",
    "\n",
    "In turn for Delta Lake users, Daft is a great data processing tool because it gives you the following features:\n",
    "- **Multimodal Dataframes**: read, write and transform multimodal data incl. images, JSON, PDF, audio, etc. \n",
    "- **Parallel + Distributed Reads**: Daft parallelizes Delta Lake table reads over all cores of your machine or cluster.\n",
    "- **Multi-cloud Support**: Daft supports reading Delta Lake tables from AWS S3, Azure Blob Store, and GCS, as well as local files.\n"
   ]
  },
  {
   "cell_type": "markdown",
   "id": "26f3bd1e-2459-4027-8d93-df8076dafd13",
   "metadata": {},
   "source": [
    "## Installing Daft for Delta Lake"
   ]
  },
  {
   "cell_type": "markdown",
   "id": "076b9a36-6d8d-4f53-bf28-a8e4f57df357",
   "metadata": {},
   "source": [
    "The easiest way to use Delta Lake format with Daft DataFrames is to install Daft with the `[deltalake]` extras using `pip`:"
   ]
  },
  {
   "cell_type": "code",
   "execution_count": null,
   "id": "5f5c8f86-b91b-45b7-a558-56ab7e9af78b",
   "metadata": {},
   "outputs": [],
   "source": [
    "!pip install -U \"getdaft[deltalake]\""
   ]
  },
  {
   "cell_type": "markdown",
   "id": "e630a67c-e81a-471b-bf9d-ff08f2c0a12f",
   "metadata": {},
   "source": [
    "This adds the `deltalake` Python package to your install. This package is used to fetch metadata about the Delta Lake table, such as paths to the underlying Parquet files and table statistics. You can of course also install the `deltalake` manually."
   ]
  },
  {
   "cell_type": "code",
   "execution_count": 3,
   "id": "72a7f675-8ffd-43f8-b5de-8d0ad81ef0bb",
   "metadata": {},
   "outputs": [],
   "source": [
    "import warnings\n",
    "warnings.filterwarnings('ignore')"
   ]
  },
  {
   "cell_type": "markdown",
   "id": "b34a6995-03f5-4446-9f9c-e6f0b8f9e28b",
   "metadata": {},
   "source": [
    "## Read Delta Lake into a Daft DataFrame"
   ]
  },
  {
   "cell_type": "markdown",
   "id": "8f8b82cf-2bb8-475a-9354-f8a3d67f249f",
   "metadata": {},
   "source": [
    "You can easily read Delta Lake tables into a Daft DataFrame using the `read_delta_lake` method. Let's use it to read some data stored in a Delta Lake on disk:"
   ]
  },
  {
   "cell_type": "code",
   "execution_count": 4,
   "id": "bcb28348-f7f4-4259-82ee-1b202e14b7af",
   "metadata": {},
   "outputs": [],
   "source": [
    "import daft\n",
    "\n",
    "# read delta table into Daft DataFrame\n",
    "delta_path = \"../../data/people_countries_delta_dask\"\n",
    "df = daft.read_delta_lake(delta_path)"
   ]
  },
  {
   "cell_type": "markdown",
   "id": "3b8931c9-51f2-48a9-8066-309136afdd5b",
   "metadata": {},
   "source": [
    "You can also read in Delta Lake data from remote sources like S3:"
   ]
  },
  {
   "cell_type": "code",
   "execution_count": 3,
   "id": "e3e67232-4e92-4337-8892-354f15928890",
   "metadata": {},
   "outputs": [],
   "source": [
    "# table_uri = (\n",
    "#     \"s3://daft-public-datasets/red-pajamas/\"\n",
    "#     \"stackexchange-sample-north-germanic-deltalake\"\n",
    "# )\n",
    "# df = daft.read_delta_lake(table_uri)"
   ]
  },
  {
   "cell_type": "code",
   "execution_count": 4,
   "id": "fe55ba09-64bb-4944-a043-d395db83627b",
   "metadata": {},
   "outputs": [
    {
     "data": {
      "text/html": [
       "<div>\n",
       "<table class=\"dataframe\">\n",
       "<thead><tr><th style=\"text-wrap: nowrap; max-width:192px; overflow:auto; text-align:left\">first_name<br />Utf8</th><th style=\"text-wrap: nowrap; max-width:192px; overflow:auto; text-align:left\">last_name<br />Utf8</th><th style=\"text-wrap: nowrap; max-width:192px; overflow:auto; text-align:left\">country<br />Utf8</th><th style=\"text-wrap: nowrap; max-width:192px; overflow:auto; text-align:left\">continent<br />Utf8</th></tr></thead>\n",
       "</table>\n",
       "<small>(No data to display: Dataframe not materialized)</small>\n",
       "</div>"
      ],
      "text/plain": [
       "╭────────────┬───────────┬─────────┬───────────╮\n",
       "│ first_name ┆ last_name ┆ country ┆ continent │\n",
       "│ ---        ┆ ---       ┆ ---     ┆ ---       │\n",
       "│ Utf8       ┆ Utf8      ┆ Utf8    ┆ Utf8      │\n",
       "╰────────────┴───────────┴─────────┴───────────╯\n",
       "\n",
       "(No data to display: Dataframe not materialized)"
      ]
     },
     "execution_count": 4,
     "metadata": {},
     "output_type": "execute_result"
    }
   ],
   "source": [
    "df"
   ]
  },
  {
   "cell_type": "markdown",
   "id": "fbef6355-f1c5-4cb6-bf76-a64c62d8a1c2",
   "metadata": {},
   "source": [
    "Daft DataFrames are lazy by default. This means that the contents will not be computed (\"materialized\") unless you explicitly tell Daft to do so. This is best practice for working with larger-than-memory datasets and parallel/distributed architectures.\n",
    "\n",
    "The Delta table we have just loaded only has 5 rows. You can materialize it in memory using the `.collect` method:"
   ]
  },
  {
   "cell_type": "code",
   "execution_count": 7,
   "id": "745af908-f7b2-41fc-8df6-02cbc4da5c79",
   "metadata": {},
   "outputs": [
    {
     "name": "stderr",
     "output_type": "stream",
     "text": [
      "WARNING:root:DeltaLakeScanOperator(None) has partitioning keys = [PartitionField(country#Utf8)], but no partition filter was specified. This will result in a full table scan.\n",
      "                                                                                                                        \r"
     ]
    },
    {
     "data": {
      "text/html": [
       "<div>\n",
       "<table class=\"dataframe\">\n",
       "<thead><tr><th style=\"text-wrap: nowrap; max-width:192px; overflow:auto; text-align:left\">first_name<br />Utf8</th><th style=\"text-wrap: nowrap; max-width:192px; overflow:auto; text-align:left\">last_name<br />Utf8</th><th style=\"text-wrap: nowrap; max-width:192px; overflow:auto; text-align:left\">country<br />Utf8</th><th style=\"text-wrap: nowrap; max-width:192px; overflow:auto; text-align:left\">continent<br />Utf8</th></tr></thead>\n",
       "<tbody>\n",
       "<tr><td><div style=\"text-align:left; max-width:192px; max-height:64px; overflow:auto\">Ernesto</div></td><td><div style=\"text-align:left; max-width:192px; max-height:64px; overflow:auto\">Guevara</div></td><td><div style=\"text-align:left; max-width:192px; max-height:64px; overflow:auto\">Argentina</div></td><td><div style=\"text-align:left; max-width:192px; max-height:64px; overflow:auto\">NaN</div></td></tr>\n",
       "<tr><td><div style=\"text-align:left; max-width:192px; max-height:64px; overflow:auto\">Bruce</div></td><td><div style=\"text-align:left; max-width:192px; max-height:64px; overflow:auto\">Lee</div></td><td><div style=\"text-align:left; max-width:192px; max-height:64px; overflow:auto\">China</div></td><td><div style=\"text-align:left; max-width:192px; max-height:64px; overflow:auto\">Asia</div></td></tr>\n",
       "<tr><td><div style=\"text-align:left; max-width:192px; max-height:64px; overflow:auto\">Jack</div></td><td><div style=\"text-align:left; max-width:192px; max-height:64px; overflow:auto\">Ma</div></td><td><div style=\"text-align:left; max-width:192px; max-height:64px; overflow:auto\">China</div></td><td><div style=\"text-align:left; max-width:192px; max-height:64px; overflow:auto\">Asia</div></td></tr>\n",
       "<tr><td><div style=\"text-align:left; max-width:192px; max-height:64px; overflow:auto\">Wolfgang</div></td><td><div style=\"text-align:left; max-width:192px; max-height:64px; overflow:auto\">Manche</div></td><td><div style=\"text-align:left; max-width:192px; max-height:64px; overflow:auto\">Germany</div></td><td><div style=\"text-align:left; max-width:192px; max-height:64px; overflow:auto\">NaN</div></td></tr>\n",
       "<tr><td><div style=\"text-align:left; max-width:192px; max-height:64px; overflow:auto\">Soraya</div></td><td><div style=\"text-align:left; max-width:192px; max-height:64px; overflow:auto\">Jala</div></td><td><div style=\"text-align:left; max-width:192px; max-height:64px; overflow:auto\">Germany</div></td><td><div style=\"text-align:left; max-width:192px; max-height:64px; overflow:auto\">NaN</div></td></tr>\n",
       "</tbody>\n",
       "</table>\n",
       "<small>(Showing first 5 of 5 rows)</small>\n",
       "</div>"
      ],
      "text/plain": [
       "╭────────────┬───────────┬───────────┬───────────╮\n",
       "│ first_name ┆ last_name ┆ country   ┆ continent │\n",
       "│ ---        ┆ ---       ┆ ---       ┆ ---       │\n",
       "│ Utf8       ┆ Utf8      ┆ Utf8      ┆ Utf8      │\n",
       "╞════════════╪═══════════╪═══════════╪═══════════╡\n",
       "│ Ernesto    ┆ Guevara   ┆ Argentina ┆ NaN       │\n",
       "├╌╌╌╌╌╌╌╌╌╌╌╌┼╌╌╌╌╌╌╌╌╌╌╌┼╌╌╌╌╌╌╌╌╌╌╌┼╌╌╌╌╌╌╌╌╌╌╌┤\n",
       "│ Bruce      ┆ Lee       ┆ China     ┆ Asia      │\n",
       "├╌╌╌╌╌╌╌╌╌╌╌╌┼╌╌╌╌╌╌╌╌╌╌╌┼╌╌╌╌╌╌╌╌╌╌╌┼╌╌╌╌╌╌╌╌╌╌╌┤\n",
       "│ Jack       ┆ Ma        ┆ China     ┆ Asia      │\n",
       "├╌╌╌╌╌╌╌╌╌╌╌╌┼╌╌╌╌╌╌╌╌╌╌╌┼╌╌╌╌╌╌╌╌╌╌╌┼╌╌╌╌╌╌╌╌╌╌╌┤\n",
       "│ Wolfgang   ┆ Manche    ┆ Germany   ┆ NaN       │\n",
       "├╌╌╌╌╌╌╌╌╌╌╌╌┼╌╌╌╌╌╌╌╌╌╌╌┼╌╌╌╌╌╌╌╌╌╌╌┼╌╌╌╌╌╌╌╌╌╌╌┤\n",
       "│ Soraya     ┆ Jala      ┆ Germany   ┆ NaN       │\n",
       "╰────────────┴───────────┴───────────┴───────────╯\n",
       "\n",
       "(Showing first 5 of 5 rows)"
      ]
     },
     "execution_count": 7,
     "metadata": {},
     "output_type": "execute_result"
    }
   ],
   "source": [
    "df.collect()"
   ]
  },
  {
   "cell_type": "code",
   "execution_count": null,
   "id": "6c2e0798-5724-49f2-b560-acff720dbe95",
   "metadata": {},
   "outputs": [],
   "source": []
  },
  {
   "cell_type": "markdown",
   "id": "80158de0-8469-46ce-9e2e-b3e0aec1bdb8",
   "metadata": {},
   "source": [
    "## What can I do with a Daft DataFrame?"
   ]
  },
  {
   "cell_type": "markdown",
   "id": "9c3b965d-8577-4609-9268-eae93b267d72",
   "metadata": {},
   "source": [
    "Daft gives you [full-featured DataFrame functionality](https://www.getdaft.io/projects/docs/en/latest/user_guide/basic_concepts.html), similar to what you might be used to from pandas, Dask or PySpark. \n",
    "\n",
    "On top of this, Daft also gives you:\n",
    "- **Multimodal data type support** to work with Images, URLs, Tensors and more\n",
    "- **Expressions API** for easy column transformations\n",
    "- **UDFs** for multi-column transformation, incl. ML applications\n"
   ]
  },
  {
   "cell_type": "markdown",
   "id": "0ca32563-07fd-4d19-84b5-c62598355272",
   "metadata": {},
   "source": [
    "Let's take a quick look at some of Daft's basic DataFrame operations.\n",
    "\n",
    "You can **select columns** from your DataFrame using the `select` method. We'll use the `show` method to show the first `n` rows (defaults to 10):"
   ]
  },
  {
   "cell_type": "code",
   "execution_count": 8,
   "id": "b8cf44cb-cb81-45e4-9f2a-365f59f66ef0",
   "metadata": {},
   "outputs": [
    {
     "data": {
      "text/html": [
       "<div>\n",
       "<table class=\"dataframe\">\n",
       "<thead><tr><th style=\"text-wrap: nowrap; max-width:192px; overflow:auto; text-align:left\">first_name<br />Utf8</th><th style=\"text-wrap: nowrap; max-width:192px; overflow:auto; text-align:left\">country<br />Utf8</th></tr></thead>\n",
       "<tbody>\n",
       "<tr><td><div style=\"text-align:left; max-width:192px; max-height:64px; overflow:auto\">Ernesto</div></td><td><div style=\"text-align:left; max-width:192px; max-height:64px; overflow:auto\">Argentina</div></td></tr>\n",
       "<tr><td><div style=\"text-align:left; max-width:192px; max-height:64px; overflow:auto\">Bruce</div></td><td><div style=\"text-align:left; max-width:192px; max-height:64px; overflow:auto\">China</div></td></tr>\n",
       "<tr><td><div style=\"text-align:left; max-width:192px; max-height:64px; overflow:auto\">Jack</div></td><td><div style=\"text-align:left; max-width:192px; max-height:64px; overflow:auto\">China</div></td></tr>\n",
       "<tr><td><div style=\"text-align:left; max-width:192px; max-height:64px; overflow:auto\">Wolfgang</div></td><td><div style=\"text-align:left; max-width:192px; max-height:64px; overflow:auto\">Germany</div></td></tr>\n",
       "<tr><td><div style=\"text-align:left; max-width:192px; max-height:64px; overflow:auto\">Soraya</div></td><td><div style=\"text-align:left; max-width:192px; max-height:64px; overflow:auto\">Germany</div></td></tr>\n",
       "</tbody>\n",
       "</table>\n",
       "<small>(Showing first 5 of 5 rows)</small>\n",
       "</div>"
      ],
      "text/plain": [
       "╭────────────┬───────────╮\n",
       "│ first_name ┆ country   │\n",
       "│ ---        ┆ ---       │\n",
       "│ Utf8       ┆ Utf8      │\n",
       "╞════════════╪═══════════╡\n",
       "│ Ernesto    ┆ Argentina │\n",
       "├╌╌╌╌╌╌╌╌╌╌╌╌┼╌╌╌╌╌╌╌╌╌╌╌┤\n",
       "│ Bruce      ┆ China     │\n",
       "├╌╌╌╌╌╌╌╌╌╌╌╌┼╌╌╌╌╌╌╌╌╌╌╌┤\n",
       "│ Jack       ┆ China     │\n",
       "├╌╌╌╌╌╌╌╌╌╌╌╌┼╌╌╌╌╌╌╌╌╌╌╌┤\n",
       "│ Wolfgang   ┆ Germany   │\n",
       "├╌╌╌╌╌╌╌╌╌╌╌╌┼╌╌╌╌╌╌╌╌╌╌╌┤\n",
       "│ Soraya     ┆ Germany   │\n",
       "╰────────────┴───────────╯\n",
       "\n",
       "(Showing first 5 of 5 rows)"
      ]
     },
     "metadata": {},
     "output_type": "display_data"
    }
   ],
   "source": [
    "df.select(\"first_name\", \"country\").show()"
   ]
  },
  {
   "cell_type": "markdown",
   "id": "dcb60506-e096-47b5-b784-4194a8e06001",
   "metadata": {},
   "source": [
    "You can **sort** your Daft DataFrame using the `sort` method:"
   ]
  },
  {
   "cell_type": "code",
   "execution_count": 9,
   "id": "a8084fba-b68c-41e8-bb6e-3d3ca06c0818",
   "metadata": {},
   "outputs": [
    {
     "data": {
      "text/html": [
       "<div>\n",
       "<table class=\"dataframe\">\n",
       "<thead><tr><th style=\"text-wrap: nowrap; max-width:192px; overflow:auto; text-align:left\">first_name<br />Utf8</th><th style=\"text-wrap: nowrap; max-width:192px; overflow:auto; text-align:left\">last_name<br />Utf8</th><th style=\"text-wrap: nowrap; max-width:192px; overflow:auto; text-align:left\">country<br />Utf8</th><th style=\"text-wrap: nowrap; max-width:192px; overflow:auto; text-align:left\">continent<br />Utf8</th></tr></thead>\n",
       "<tbody>\n",
       "<tr><td><div style=\"text-align:left; max-width:192px; max-height:64px; overflow:auto\">Wolfgang</div></td><td><div style=\"text-align:left; max-width:192px; max-height:64px; overflow:auto\">Manche</div></td><td><div style=\"text-align:left; max-width:192px; max-height:64px; overflow:auto\">Germany</div></td><td><div style=\"text-align:left; max-width:192px; max-height:64px; overflow:auto\">NaN</div></td></tr>\n",
       "<tr><td><div style=\"text-align:left; max-width:192px; max-height:64px; overflow:auto\">Soraya</div></td><td><div style=\"text-align:left; max-width:192px; max-height:64px; overflow:auto\">Jala</div></td><td><div style=\"text-align:left; max-width:192px; max-height:64px; overflow:auto\">Germany</div></td><td><div style=\"text-align:left; max-width:192px; max-height:64px; overflow:auto\">NaN</div></td></tr>\n",
       "<tr><td><div style=\"text-align:left; max-width:192px; max-height:64px; overflow:auto\">Bruce</div></td><td><div style=\"text-align:left; max-width:192px; max-height:64px; overflow:auto\">Lee</div></td><td><div style=\"text-align:left; max-width:192px; max-height:64px; overflow:auto\">China</div></td><td><div style=\"text-align:left; max-width:192px; max-height:64px; overflow:auto\">Asia</div></td></tr>\n",
       "<tr><td><div style=\"text-align:left; max-width:192px; max-height:64px; overflow:auto\">Jack</div></td><td><div style=\"text-align:left; max-width:192px; max-height:64px; overflow:auto\">Ma</div></td><td><div style=\"text-align:left; max-width:192px; max-height:64px; overflow:auto\">China</div></td><td><div style=\"text-align:left; max-width:192px; max-height:64px; overflow:auto\">Asia</div></td></tr>\n",
       "<tr><td><div style=\"text-align:left; max-width:192px; max-height:64px; overflow:auto\">Ernesto</div></td><td><div style=\"text-align:left; max-width:192px; max-height:64px; overflow:auto\">Guevara</div></td><td><div style=\"text-align:left; max-width:192px; max-height:64px; overflow:auto\">Argentina</div></td><td><div style=\"text-align:left; max-width:192px; max-height:64px; overflow:auto\">NaN</div></td></tr>\n",
       "</tbody>\n",
       "</table>\n",
       "<small>(Showing first 5 of 5 rows)</small>\n",
       "</div>"
      ],
      "text/plain": [
       "╭────────────┬───────────┬───────────┬───────────╮\n",
       "│ first_name ┆ last_name ┆ country   ┆ continent │\n",
       "│ ---        ┆ ---       ┆ ---       ┆ ---       │\n",
       "│ Utf8       ┆ Utf8      ┆ Utf8      ┆ Utf8      │\n",
       "╞════════════╪═══════════╪═══════════╪═══════════╡\n",
       "│ Wolfgang   ┆ Manche    ┆ Germany   ┆ NaN       │\n",
       "├╌╌╌╌╌╌╌╌╌╌╌╌┼╌╌╌╌╌╌╌╌╌╌╌┼╌╌╌╌╌╌╌╌╌╌╌┼╌╌╌╌╌╌╌╌╌╌╌┤\n",
       "│ Soraya     ┆ Jala      ┆ Germany   ┆ NaN       │\n",
       "├╌╌╌╌╌╌╌╌╌╌╌╌┼╌╌╌╌╌╌╌╌╌╌╌┼╌╌╌╌╌╌╌╌╌╌╌┼╌╌╌╌╌╌╌╌╌╌╌┤\n",
       "│ Bruce      ┆ Lee       ┆ China     ┆ Asia      │\n",
       "├╌╌╌╌╌╌╌╌╌╌╌╌┼╌╌╌╌╌╌╌╌╌╌╌┼╌╌╌╌╌╌╌╌╌╌╌┼╌╌╌╌╌╌╌╌╌╌╌┤\n",
       "│ Jack       ┆ Ma        ┆ China     ┆ Asia      │\n",
       "├╌╌╌╌╌╌╌╌╌╌╌╌┼╌╌╌╌╌╌╌╌╌╌╌┼╌╌╌╌╌╌╌╌╌╌╌┼╌╌╌╌╌╌╌╌╌╌╌┤\n",
       "│ Ernesto    ┆ Guevara   ┆ Argentina ┆ NaN       │\n",
       "╰────────────┴───────────┴───────────┴───────────╯\n",
       "\n",
       "(Showing first 5 of 5 rows)"
      ]
     },
     "metadata": {},
     "output_type": "display_data"
    }
   ],
   "source": [
    "df.sort(df[\"country\"], desc=True).show()"
   ]
  },
  {
   "cell_type": "markdown",
   "id": "b9f8c42a-ecf7-4786-941a-c2d2ef080576",
   "metadata": {},
   "source": [
    "You can **filter** your DataFrame using the `where` method:"
   ]
  },
  {
   "cell_type": "code",
   "execution_count": 10,
   "id": "4270f372-3d73-4cb6-b172-1f5e2836a568",
   "metadata": {},
   "outputs": [
    {
     "data": {
      "text/html": [
       "<div>\n",
       "<table class=\"dataframe\">\n",
       "<thead><tr><th style=\"text-wrap: nowrap; max-width:192px; overflow:auto; text-align:left\">first_name<br />Utf8</th><th style=\"text-wrap: nowrap; max-width:192px; overflow:auto; text-align:left\">last_name<br />Utf8</th><th style=\"text-wrap: nowrap; max-width:192px; overflow:auto; text-align:left\">country<br />Utf8</th><th style=\"text-wrap: nowrap; max-width:192px; overflow:auto; text-align:left\">continent<br />Utf8</th></tr></thead>\n",
       "<tbody>\n",
       "<tr><td><div style=\"text-align:left; max-width:192px; max-height:64px; overflow:auto\">Bruce</div></td><td><div style=\"text-align:left; max-width:192px; max-height:64px; overflow:auto\">Lee</div></td><td><div style=\"text-align:left; max-width:192px; max-height:64px; overflow:auto\">China</div></td><td><div style=\"text-align:left; max-width:192px; max-height:64px; overflow:auto\">Asia</div></td></tr>\n",
       "<tr><td><div style=\"text-align:left; max-width:192px; max-height:64px; overflow:auto\">Jack</div></td><td><div style=\"text-align:left; max-width:192px; max-height:64px; overflow:auto\">Ma</div></td><td><div style=\"text-align:left; max-width:192px; max-height:64px; overflow:auto\">China</div></td><td><div style=\"text-align:left; max-width:192px; max-height:64px; overflow:auto\">Asia</div></td></tr>\n",
       "</tbody>\n",
       "</table>\n",
       "<small>(Showing first 2 of 2 rows)</small>\n",
       "</div>"
      ],
      "text/plain": [
       "╭────────────┬───────────┬─────────┬───────────╮\n",
       "│ first_name ┆ last_name ┆ country ┆ continent │\n",
       "│ ---        ┆ ---       ┆ ---     ┆ ---       │\n",
       "│ Utf8       ┆ Utf8      ┆ Utf8    ┆ Utf8      │\n",
       "╞════════════╪═══════════╪═════════╪═══════════╡\n",
       "│ Bruce      ┆ Lee       ┆ China   ┆ Asia      │\n",
       "├╌╌╌╌╌╌╌╌╌╌╌╌┼╌╌╌╌╌╌╌╌╌╌╌┼╌╌╌╌╌╌╌╌╌┼╌╌╌╌╌╌╌╌╌╌╌┤\n",
       "│ Jack       ┆ Ma        ┆ China   ┆ Asia      │\n",
       "╰────────────┴───────────┴─────────┴───────────╯\n",
       "\n",
       "(Showing first 2 of 2 rows)"
      ]
     },
     "metadata": {},
     "output_type": "display_data"
    }
   ],
   "source": [
    "df.where(df[\"continent\"] == \"Asia\").show()"
   ]
  },
  {
   "cell_type": "markdown",
   "id": "e553e346-e827-4d9f-9f14-b68fdbcf1e63",
   "metadata": {},
   "source": [
    "You can group your DataFrame by a specific columns using the `groupby` method. You can then specify the aggregation method, in this case using the `count` aggregator:"
   ]
  },
  {
   "cell_type": "code",
   "execution_count": 11,
   "id": "00f10ce9-1e0c-4231-847d-612d257ea00e",
   "metadata": {},
   "outputs": [
    {
     "data": {
      "text/html": [
       "<div>\n",
       "<table class=\"dataframe\">\n",
       "<thead><tr><th style=\"text-wrap: nowrap; max-width:192px; overflow:auto; text-align:left\">country<br />Utf8</th><th style=\"text-wrap: nowrap; max-width:192px; overflow:auto; text-align:left\">first_name<br />UInt64</th></tr></thead>\n",
       "<tbody>\n",
       "<tr><td><div style=\"text-align:left; max-width:192px; max-height:64px; overflow:auto\">Germany</div></td><td><div style=\"text-align:left; max-width:192px; max-height:64px; overflow:auto\">2</div></td></tr>\n",
       "<tr><td><div style=\"text-align:left; max-width:192px; max-height:64px; overflow:auto\">China</div></td><td><div style=\"text-align:left; max-width:192px; max-height:64px; overflow:auto\">2</div></td></tr>\n",
       "<tr><td><div style=\"text-align:left; max-width:192px; max-height:64px; overflow:auto\">Argentina</div></td><td><div style=\"text-align:left; max-width:192px; max-height:64px; overflow:auto\">1</div></td></tr>\n",
       "</tbody>\n",
       "</table>\n",
       "<small>(Showing first 3 of 3 rows)</small>\n",
       "</div>"
      ],
      "text/plain": [
       "╭───────────┬────────────╮\n",
       "│ country   ┆ first_name │\n",
       "│ ---       ┆ ---        │\n",
       "│ Utf8      ┆ UInt64     │\n",
       "╞═══════════╪════════════╡\n",
       "│ Germany   ┆ 2          │\n",
       "├╌╌╌╌╌╌╌╌╌╌╌┼╌╌╌╌╌╌╌╌╌╌╌╌┤\n",
       "│ China     ┆ 2          │\n",
       "├╌╌╌╌╌╌╌╌╌╌╌┼╌╌╌╌╌╌╌╌╌╌╌╌┤\n",
       "│ Argentina ┆ 1          │\n",
       "╰───────────┴────────────╯\n",
       "\n",
       "(Showing first 3 of 3 rows)"
      ]
     },
     "metadata": {},
     "output_type": "display_data"
    }
   ],
   "source": [
    "df.select(\"first_name\", \"country\").groupby(df[\"country\"]).count(\"first_name\").show()"
   ]
  },
  {
   "cell_type": "markdown",
   "id": "5069a809-ba27-432f-ab9f-2a0b89c01d26",
   "metadata": {},
   "source": [
    "Check out the [Daft User Guide](https://www.getdaft.io/projects/docs/en/latest/user_guide/index.html) for a complete list of DataFrame operations. "
   ]
  },
  {
   "cell_type": "code",
   "execution_count": null,
   "id": "5275d5c7-80e1-495e-a01c-2611614790bd",
   "metadata": {},
   "outputs": [],
   "source": []
  },
  {
   "cell_type": "markdown",
   "id": "f81f1caa-5c76-4ea4-82f0-b9911df7bd4b",
   "metadata": {},
   "source": [
    "## Data Skipping Optimizations"
   ]
  },
  {
   "cell_type": "markdown",
   "id": "1c1b4b5f-9237-4a97-810d-0506e2d23bcd",
   "metadata": {},
   "source": [
    "Delta tables store data in Parquet files and persist file-level metadata in the transaction log. Delta Lake stores min/max values for each column of each file in the table. Certain queries can skip entire files based on the metadata. File skipping can be a massive performance optimization."
   ]
  },
  {
   "cell_type": "markdown",
   "id": "777ead1a-37c2-4f1a-b312-3b6a90adb441",
   "metadata": {},
   "source": [
    "You may have noticed the Delta Lake warning at the top when we first called `collect` on our DataFrame: \n",
    "\n",
    "<div class=\"alert alert-block alert-danger\">WARNING: has partitioning keys = [PartitionField(country#Utf8)], but no partition filter was specified. This will result in a full table scan.</div>\n",
    "\n",
    "Delta Lake is informing us that the data is partitioned on the `country` column. \n",
    "\n",
    "Daft's native query optimizer has access to all of the Delta Lake metadata and is informing us that we can optimize our query by skipping the partitions that are not relevant for this query. Instead of having to read all 3 partitions, we can read only 1 and get the same result, just faster!"
   ]
  },
  {
   "cell_type": "code",
   "execution_count": 12,
   "id": "2c5976e2-3ec9-49cd-8cac-868d0e19f834",
   "metadata": {},
   "outputs": [
    {
     "data": {
      "text/html": [
       "<div>\n",
       "<table class=\"dataframe\">\n",
       "<thead><tr><th style=\"text-wrap: nowrap; max-width:192px; overflow:auto; text-align:left\">first_name<br />Utf8</th><th style=\"text-wrap: nowrap; max-width:192px; overflow:auto; text-align:left\">last_name<br />Utf8</th><th style=\"text-wrap: nowrap; max-width:192px; overflow:auto; text-align:left\">country<br />Utf8</th><th style=\"text-wrap: nowrap; max-width:192px; overflow:auto; text-align:left\">continent<br />Utf8</th></tr></thead>\n",
       "<tbody>\n",
       "<tr><td><div style=\"text-align:left; max-width:192px; max-height:64px; overflow:auto\">Wolfgang</div></td><td><div style=\"text-align:left; max-width:192px; max-height:64px; overflow:auto\">Manche</div></td><td><div style=\"text-align:left; max-width:192px; max-height:64px; overflow:auto\">Germany</div></td><td><div style=\"text-align:left; max-width:192px; max-height:64px; overflow:auto\">NaN</div></td></tr>\n",
       "<tr><td><div style=\"text-align:left; max-width:192px; max-height:64px; overflow:auto\">Soraya</div></td><td><div style=\"text-align:left; max-width:192px; max-height:64px; overflow:auto\">Jala</div></td><td><div style=\"text-align:left; max-width:192px; max-height:64px; overflow:auto\">Germany</div></td><td><div style=\"text-align:left; max-width:192px; max-height:64px; overflow:auto\">NaN</div></td></tr>\n",
       "</tbody>\n",
       "</table>\n",
       "<small>(Showing first 2 of 2 rows)</small>\n",
       "</div>"
      ],
      "text/plain": [
       "╭────────────┬───────────┬─────────┬───────────╮\n",
       "│ first_name ┆ last_name ┆ country ┆ continent │\n",
       "│ ---        ┆ ---       ┆ ---     ┆ ---       │\n",
       "│ Utf8       ┆ Utf8      ┆ Utf8    ┆ Utf8      │\n",
       "╞════════════╪═══════════╪═════════╪═══════════╡\n",
       "│ Wolfgang   ┆ Manche    ┆ Germany ┆ NaN       │\n",
       "├╌╌╌╌╌╌╌╌╌╌╌╌┼╌╌╌╌╌╌╌╌╌╌╌┼╌╌╌╌╌╌╌╌╌┼╌╌╌╌╌╌╌╌╌╌╌┤\n",
       "│ Soraya     ┆ Jala      ┆ Germany ┆ NaN       │\n",
       "╰────────────┴───────────┴─────────┴───────────╯\n",
       "\n",
       "(Showing first 2 of 2 rows)"
      ]
     },
     "metadata": {},
     "output_type": "display_data"
    }
   ],
   "source": [
    "# Filter on partition columns will result in efficient partition pruning; non-matching partitions will be skipped.\n",
    "df.where(df[\"country\"] == \"Germany\").show()"
   ]
  },
  {
   "cell_type": "markdown",
   "id": "0bac1cde-a0ad-4054-8a4a-1c321bdd9873",
   "metadata": {},
   "source": [
    "You can use the `explain` method to see how Daft is optimizing your query. Since we've already called `collect` on our DataFrame, it is already in memory. So below we copy the output of `explain(show_all=True)` **before** calling `collect`:\n",
    "\n",
    "Running `df.where(df[\"continent\"] == \"Asia\").explain(True)` returns:\n",
    "\n",
    "```\n",
    "(...)\n",
    "\n",
    "== Optimized Logical Plan ==\n",
    "\n",
    "* PythonScanOperator: DeltaLakeScanOperator(None)\n",
    "|   File schema = first_name#Utf8, last_name#Utf8, country#Utf8, continent#Utf8\n",
    "|   Partitioning keys = [PartitionField(country#Utf8)]\n",
    "|   Filter pushdown = col(continent) == lit(\"Asia\")\n",
    "|   Output schema = first_name#Utf8, last_name#Utf8, country#Utf8, continent#Utf8\n",
    "\n",
    "\n",
    "== Physical Plan ==\n",
    "\n",
    "* TabularScan:\n",
    "|   Num Scan Tasks = 3\n",
    "|   Estimated Scan Bytes = 3045\n",
    "|   Clustering spec = { Num partitions = 3 }\n",
    "```\n",
    "\n",
    "Whereas running `df.where(df[\"country\"] == \"Germany\").explain(True)` returns:\n",
    "\n",
    "```\n",
    "(...)\n",
    "\n",
    "== Optimized Logical Plan ==\n",
    "\n",
    "* PythonScanOperator: DeltaLakeScanOperator(None)\n",
    "|   File schema = first_name#Utf8, last_name#Utf8, country#Utf8, continent#Utf8\n",
    "|   Partitioning keys = [PartitionField(country#Utf8)]\n",
    "|   Partition Filter = col(country) == lit(\"Germany\")\n",
    "|   Output schema = first_name#Utf8, last_name#Utf8, country#Utf8, continent#Utf8\n",
    "\n",
    "\n",
    "== Physical Plan ==\n",
    "\n",
    "* TabularScan:\n",
    "|   Num Scan Tasks = 1\n",
    "|   Estimated Scan Bytes = 1025\n",
    "|   Clustering spec = { Num partitions = 1 }\n",
    "```\n",
    "\n",
    "Running a query on a non-partitioned column like `continent` will require reading in all partitions, totalling 3045 bytes in this case.\n",
    "\n",
    "Instead, running a query on a partitioned column (`country` in this case) means Daft only has to read only the relevant partition, saving us a whopping 2000+ bytes in this toy example :)"
   ]
  },
  {
   "cell_type": "markdown",
   "id": "efb1497a-5562-44dc-ad9b-87d7d100199a",
   "metadata": {},
   "source": [
    "## Enhanced File Skipping with Z-Ordering\n",
    "Delta Lake makes it easy to rearrange data in the table so more file skipping is possible. In particular, Delta Lake supports Z-Ordering, a technique that groups similar data in the same files to optimize data skipping for your query patterns.\n",
    "\n",
    "Daft analyses can benefit from significant speed-ups through Z-ordering. You can read [High-Performance Querying on Massive Delta Lake Tables with Daft](https://delta.io/blog/daft-delta-lake-integration/) for an in-depth benchmarking of query optimization with Delta Lake and Daft, showcasing performance gains with Delta Lake vs CSV and regular Parquet."
   ]
  },
  {
   "cell_type": "markdown",
   "id": "d9d726ee-bb36-4362-8dde-63f0f86317fd",
   "metadata": {},
   "source": [
    "## Schema Enforcement for Safer Writes\n",
    "Delta Lake enforces schema-on-write, which means that the compatability of old and new schemas is checked when writing the data. This makes for more reliable writes and avoids accidental overwrites with mismatching schemas. \n",
    "\n",
    "Data lakes and common file formats like Parquet are schema-on-read, which makes it possible to write data with mismatched schemas. These inconsistencies then need to be resolved when the data is read in."
   ]
  },
  {
   "cell_type": "code",
   "execution_count": null,
   "id": "bc88ff9f-4399-43eb-9025-185ae8612ea5",
   "metadata": {},
   "outputs": [],
   "source": []
  },
  {
   "cell_type": "code",
   "execution_count": 16,
   "id": "55f77e8d-732d-4589-b9a8-db0fe75a9390",
   "metadata": {},
   "outputs": [],
   "source": [
    "df2 = df.with_column(\n",
    "    \"continent\",\n",
    "    (daft.col(\"country\") == \"Germany\").if_else(\"Europe\", daft.col(\"continent\")),\n",
    ")\n",
    "\n",
    "df2 = df2.with_column(\n",
    "    \"continent\",\n",
    "    (daft.col(\"country\") == \"Argentina\").if_else(\"South America\", daft.col(\"continent\")),\n",
    ")"
   ]
  },
  {
   "cell_type": "code",
   "execution_count": 18,
   "id": "8a953f15-7f7e-4fb0-93dd-730e0c9bc9e1",
   "metadata": {},
   "outputs": [
    {
     "data": {
      "text/html": [
       "<div>\n",
       "<table class=\"dataframe\">\n",
       "<thead><tr><th style=\"text-wrap: nowrap; max-width:192px; overflow:auto; text-align:left\">first_name<br />Utf8</th><th style=\"text-wrap: nowrap; max-width:192px; overflow:auto; text-align:left\">last_name<br />Utf8</th><th style=\"text-wrap: nowrap; max-width:192px; overflow:auto; text-align:left\">country<br />Utf8</th><th style=\"text-wrap: nowrap; max-width:192px; overflow:auto; text-align:left\">continent<br />Utf8</th></tr></thead>\n",
       "<tbody>\n",
       "<tr><td><div style=\"text-align:left; max-width:192px; max-height:64px; overflow:auto\">Ernesto</div></td><td><div style=\"text-align:left; max-width:192px; max-height:64px; overflow:auto\">Guevara</div></td><td><div style=\"text-align:left; max-width:192px; max-height:64px; overflow:auto\">Argentina</div></td><td><div style=\"text-align:left; max-width:192px; max-height:64px; overflow:auto\">South America</div></td></tr>\n",
       "<tr><td><div style=\"text-align:left; max-width:192px; max-height:64px; overflow:auto\">Bruce</div></td><td><div style=\"text-align:left; max-width:192px; max-height:64px; overflow:auto\">Lee</div></td><td><div style=\"text-align:left; max-width:192px; max-height:64px; overflow:auto\">China</div></td><td><div style=\"text-align:left; max-width:192px; max-height:64px; overflow:auto\">Asia</div></td></tr>\n",
       "<tr><td><div style=\"text-align:left; max-width:192px; max-height:64px; overflow:auto\">Jack</div></td><td><div style=\"text-align:left; max-width:192px; max-height:64px; overflow:auto\">Ma</div></td><td><div style=\"text-align:left; max-width:192px; max-height:64px; overflow:auto\">China</div></td><td><div style=\"text-align:left; max-width:192px; max-height:64px; overflow:auto\">Asia</div></td></tr>\n",
       "<tr><td><div style=\"text-align:left; max-width:192px; max-height:64px; overflow:auto\">Wolfgang</div></td><td><div style=\"text-align:left; max-width:192px; max-height:64px; overflow:auto\">Manche</div></td><td><div style=\"text-align:left; max-width:192px; max-height:64px; overflow:auto\">Germany</div></td><td><div style=\"text-align:left; max-width:192px; max-height:64px; overflow:auto\">Europe</div></td></tr>\n",
       "<tr><td><div style=\"text-align:left; max-width:192px; max-height:64px; overflow:auto\">Soraya</div></td><td><div style=\"text-align:left; max-width:192px; max-height:64px; overflow:auto\">Jala</div></td><td><div style=\"text-align:left; max-width:192px; max-height:64px; overflow:auto\">Germany</div></td><td><div style=\"text-align:left; max-width:192px; max-height:64px; overflow:auto\">Europe</div></td></tr>\n",
       "</tbody>\n",
       "</table>\n",
       "<small>(Showing first 5 of 5 rows)</small>\n",
       "</div>"
      ],
      "text/plain": [
       "╭────────────┬───────────┬───────────┬───────────────╮\n",
       "│ first_name ┆ last_name ┆ country   ┆ continent     │\n",
       "│ ---        ┆ ---       ┆ ---       ┆ ---           │\n",
       "│ Utf8       ┆ Utf8      ┆ Utf8      ┆ Utf8          │\n",
       "╞════════════╪═══════════╪═══════════╪═══════════════╡\n",
       "│ Ernesto    ┆ Guevara   ┆ Argentina ┆ South America │\n",
       "├╌╌╌╌╌╌╌╌╌╌╌╌┼╌╌╌╌╌╌╌╌╌╌╌┼╌╌╌╌╌╌╌╌╌╌╌┼╌╌╌╌╌╌╌╌╌╌╌╌╌╌╌┤\n",
       "│ Bruce      ┆ Lee       ┆ China     ┆ Asia          │\n",
       "├╌╌╌╌╌╌╌╌╌╌╌╌┼╌╌╌╌╌╌╌╌╌╌╌┼╌╌╌╌╌╌╌╌╌╌╌┼╌╌╌╌╌╌╌╌╌╌╌╌╌╌╌┤\n",
       "│ Jack       ┆ Ma        ┆ China     ┆ Asia          │\n",
       "├╌╌╌╌╌╌╌╌╌╌╌╌┼╌╌╌╌╌╌╌╌╌╌╌┼╌╌╌╌╌╌╌╌╌╌╌┼╌╌╌╌╌╌╌╌╌╌╌╌╌╌╌┤\n",
       "│ Wolfgang   ┆ Manche    ┆ Germany   ┆ Europe        │\n",
       "├╌╌╌╌╌╌╌╌╌╌╌╌┼╌╌╌╌╌╌╌╌╌╌╌┼╌╌╌╌╌╌╌╌╌╌╌┼╌╌╌╌╌╌╌╌╌╌╌╌╌╌╌┤\n",
       "│ Soraya     ┆ Jala      ┆ Germany   ┆ Europe        │\n",
       "╰────────────┴───────────┴───────────┴───────────────╯\n",
       "\n",
       "(Showing first 5 of 5 rows)"
      ]
     },
     "metadata": {},
     "output_type": "display_data"
    }
   ],
   "source": [
    "df2.show()"
   ]
  },
  {
   "cell_type": "code",
   "execution_count": 21,
   "id": "e18446ca-923e-4183-8b1f-8b83eed7ff9e",
   "metadata": {},
   "outputs": [
    {
     "data": {
      "text/html": [
       "<table class=\"dataframe\">\n",
       "<thead><tr><th style=\"text-wrap: nowrap; max-width:192px; overflow:auto; text-align:left\">first_name<br />Utf8</th><th style=\"text-wrap: nowrap; max-width:192px; overflow:auto; text-align:left\">last_name<br />Utf8</th><th style=\"text-wrap: nowrap; max-width:192px; overflow:auto; text-align:left\">country<br />Utf8</th><th style=\"text-wrap: nowrap; max-width:192px; overflow:auto; text-align:left\">continent<br />Utf8</th></tr></thead>\n",
       "</table>"
      ],
      "text/plain": [
       "╭─────────────┬──────╮\n",
       "│ Column Name ┆ Type │\n",
       "╞═════════════╪══════╡\n",
       "│ first_name  ┆ Utf8 │\n",
       "├╌╌╌╌╌╌╌╌╌╌╌╌╌┼╌╌╌╌╌╌┤\n",
       "│ last_name   ┆ Utf8 │\n",
       "├╌╌╌╌╌╌╌╌╌╌╌╌╌┼╌╌╌╌╌╌┤\n",
       "│ country     ┆ Utf8 │\n",
       "├╌╌╌╌╌╌╌╌╌╌╌╌╌┼╌╌╌╌╌╌┤\n",
       "│ continent   ┆ Utf8 │\n",
       "╰─────────────┴──────╯"
      ]
     },
     "execution_count": 21,
     "metadata": {},
     "output_type": "execute_result"
    }
   ],
   "source": [
    "df2.schema()"
   ]
  },
  {
   "cell_type": "code",
   "execution_count": 23,
   "id": "cef53ba1-2017-4a31-af8f-2e8e925c8704",
   "metadata": {},
   "outputs": [
    {
     "data": {
      "text/html": [
       "<table class=\"dataframe\">\n",
       "<thead><tr><th style=\"text-wrap: nowrap; max-width:192px; overflow:auto; text-align:left\">first_name<br />Utf8</th><th style=\"text-wrap: nowrap; max-width:192px; overflow:auto; text-align:left\">last_name<br />Utf8</th><th style=\"text-wrap: nowrap; max-width:192px; overflow:auto; text-align:left\">country<br />Utf8</th><th style=\"text-wrap: nowrap; max-width:192px; overflow:auto; text-align:left\">continent<br />Utf8</th></tr></thead>\n",
       "</table>"
      ],
      "text/plain": [
       "╭─────────────┬──────╮\n",
       "│ Column Name ┆ Type │\n",
       "╞═════════════╪══════╡\n",
       "│ first_name  ┆ Utf8 │\n",
       "├╌╌╌╌╌╌╌╌╌╌╌╌╌┼╌╌╌╌╌╌┤\n",
       "│ last_name   ┆ Utf8 │\n",
       "├╌╌╌╌╌╌╌╌╌╌╌╌╌┼╌╌╌╌╌╌┤\n",
       "│ country     ┆ Utf8 │\n",
       "├╌╌╌╌╌╌╌╌╌╌╌╌╌┼╌╌╌╌╌╌┤\n",
       "│ continent   ┆ Utf8 │\n",
       "╰─────────────┴──────╯"
      ]
     },
     "execution_count": 23,
     "metadata": {},
     "output_type": "execute_result"
    }
   ],
   "source": [
    "df.schema()"
   ]
  },
  {
   "cell_type": "code",
   "execution_count": 25,
   "id": "437546e6-36f0-476a-b582-cef8ef5e5157",
   "metadata": {},
   "outputs": [
    {
     "name": "stderr",
     "output_type": "stream",
     "text": [
      "                                                                                                                                                  \r"
     ]
    }
   ],
   "source": [
    "df_write = df2.to_pandas()"
   ]
  },
  {
   "cell_type": "code",
   "execution_count": 26,
   "id": "2c249442-d624-4acb-ad79-e1c0b7dc4074",
   "metadata": {},
   "outputs": [],
   "source": [
    "from deltalake import write_deltalake\n",
    "write_deltalake(\n",
    "    '../../data/people_countries_delta_dask', \n",
    "    df_write, \n",
    "    mode='overwrite',\n",
    ")"
   ]
  },
  {
   "cell_type": "code",
   "execution_count": null,
   "id": "da968125-576f-40a2-8f12-7a04f66fbda3",
   "metadata": {},
   "outputs": [],
   "source": []
  },
  {
   "cell_type": "code",
   "execution_count": null,
   "id": "a6d05466-50e1-4358-99fb-ccc9b5244eb6",
   "metadata": {},
   "outputs": [],
   "source": []
  },
  {
   "cell_type": "markdown",
   "id": "c9bf530b-c1da-4702-84ab-3f348292cc59",
   "metadata": {},
   "source": [
    "## Transform columns with Expressions"
   ]
  },
  {
   "attachments": {},
   "cell_type": "markdown",
   "id": "082da831-bd4e-4e9a-a809-cb961f64c599",
   "metadata": {},
   "source": [
    "Daft provides a flexible [Expressions](https://www.getdaft.io/projects/docs/en/latest/api_docs/expressions.html) API for defining computation that needs to happen over your columns.\n",
    "\n",
    "For example, we can use `daft.col()` expressions together with the `with_column` method to create a new column `full_name`, joining the contents of the `last_name` column to the `first_name` column:"
   ]
  },
  {
   "cell_type": "code",
   "execution_count": 16,
   "id": "1c6ae2e9-6cc4-44bc-9839-67e93db191c0",
   "metadata": {},
   "outputs": [
    {
     "data": {
      "text/html": [
       "<div>\n",
       "<table class=\"dataframe\">\n",
       "<thead><tr><th style=\"text-wrap: nowrap; max-width:192px; overflow:auto; text-align:left\">first_name<br />Utf8</th><th style=\"text-wrap: nowrap; max-width:192px; overflow:auto; text-align:left\">last_name<br />Utf8</th><th style=\"text-wrap: nowrap; max-width:192px; overflow:auto; text-align:left\">country<br />Utf8</th><th style=\"text-wrap: nowrap; max-width:192px; overflow:auto; text-align:left\">continent<br />Utf8</th><th style=\"text-wrap: nowrap; max-width:192px; overflow:auto; text-align:left\">full_name<br />Utf8</th></tr></thead>\n",
       "<tbody>\n",
       "<tr><td><div style=\"text-align:left; max-width:192px; max-height:64px; overflow:auto\">Ernesto</div></td><td><div style=\"text-align:left; max-width:192px; max-height:64px; overflow:auto\">Guevara</div></td><td><div style=\"text-align:left; max-width:192px; max-height:64px; overflow:auto\">Argentina</div></td><td><div style=\"text-align:left; max-width:192px; max-height:64px; overflow:auto\">NaN</div></td><td><div style=\"text-align:left; max-width:192px; max-height:64px; overflow:auto\">Ernesto Guevara</div></td></tr>\n",
       "<tr><td><div style=\"text-align:left; max-width:192px; max-height:64px; overflow:auto\">Bruce</div></td><td><div style=\"text-align:left; max-width:192px; max-height:64px; overflow:auto\">Lee</div></td><td><div style=\"text-align:left; max-width:192px; max-height:64px; overflow:auto\">China</div></td><td><div style=\"text-align:left; max-width:192px; max-height:64px; overflow:auto\">Asia</div></td><td><div style=\"text-align:left; max-width:192px; max-height:64px; overflow:auto\">Bruce Lee</div></td></tr>\n",
       "<tr><td><div style=\"text-align:left; max-width:192px; max-height:64px; overflow:auto\">Jack</div></td><td><div style=\"text-align:left; max-width:192px; max-height:64px; overflow:auto\">Ma</div></td><td><div style=\"text-align:left; max-width:192px; max-height:64px; overflow:auto\">China</div></td><td><div style=\"text-align:left; max-width:192px; max-height:64px; overflow:auto\">Asia</div></td><td><div style=\"text-align:left; max-width:192px; max-height:64px; overflow:auto\">Jack Ma</div></td></tr>\n",
       "<tr><td><div style=\"text-align:left; max-width:192px; max-height:64px; overflow:auto\">Wolfgang</div></td><td><div style=\"text-align:left; max-width:192px; max-height:64px; overflow:auto\">Manche</div></td><td><div style=\"text-align:left; max-width:192px; max-height:64px; overflow:auto\">Germany</div></td><td><div style=\"text-align:left; max-width:192px; max-height:64px; overflow:auto\">NaN</div></td><td><div style=\"text-align:left; max-width:192px; max-height:64px; overflow:auto\">Wolfgang Manche</div></td></tr>\n",
       "<tr><td><div style=\"text-align:left; max-width:192px; max-height:64px; overflow:auto\">Soraya</div></td><td><div style=\"text-align:left; max-width:192px; max-height:64px; overflow:auto\">Jala</div></td><td><div style=\"text-align:left; max-width:192px; max-height:64px; overflow:auto\">Germany</div></td><td><div style=\"text-align:left; max-width:192px; max-height:64px; overflow:auto\">NaN</div></td><td><div style=\"text-align:left; max-width:192px; max-height:64px; overflow:auto\">Soraya Jala</div></td></tr>\n",
       "</tbody>\n",
       "</table>\n",
       "<small>(Showing first 5 of 5 rows)</small>\n",
       "</div>"
      ],
      "text/plain": [
       "╭────────────┬───────────┬───────────┬───────────┬─────────────────╮\n",
       "│ first_name ┆ last_name ┆ country   ┆ continent ┆ full_name       │\n",
       "│ ---        ┆ ---       ┆ ---       ┆ ---       ┆ ---             │\n",
       "│ Utf8       ┆ Utf8      ┆ Utf8      ┆ Utf8      ┆ Utf8            │\n",
       "╞════════════╪═══════════╪═══════════╪═══════════╪═════════════════╡\n",
       "│ Ernesto    ┆ Guevara   ┆ Argentina ┆ NaN       ┆ Ernesto Guevara │\n",
       "├╌╌╌╌╌╌╌╌╌╌╌╌┼╌╌╌╌╌╌╌╌╌╌╌┼╌╌╌╌╌╌╌╌╌╌╌┼╌╌╌╌╌╌╌╌╌╌╌┼╌╌╌╌╌╌╌╌╌╌╌╌╌╌╌╌╌┤\n",
       "│ Bruce      ┆ Lee       ┆ China     ┆ Asia      ┆ Bruce Lee       │\n",
       "├╌╌╌╌╌╌╌╌╌╌╌╌┼╌╌╌╌╌╌╌╌╌╌╌┼╌╌╌╌╌╌╌╌╌╌╌┼╌╌╌╌╌╌╌╌╌╌╌┼╌╌╌╌╌╌╌╌╌╌╌╌╌╌╌╌╌┤\n",
       "│ Jack       ┆ Ma        ┆ China     ┆ Asia      ┆ Jack Ma         │\n",
       "├╌╌╌╌╌╌╌╌╌╌╌╌┼╌╌╌╌╌╌╌╌╌╌╌┼╌╌╌╌╌╌╌╌╌╌╌┼╌╌╌╌╌╌╌╌╌╌╌┼╌╌╌╌╌╌╌╌╌╌╌╌╌╌╌╌╌┤\n",
       "│ Wolfgang   ┆ Manche    ┆ Germany   ┆ NaN       ┆ Wolfgang Manche │\n",
       "├╌╌╌╌╌╌╌╌╌╌╌╌┼╌╌╌╌╌╌╌╌╌╌╌┼╌╌╌╌╌╌╌╌╌╌╌┼╌╌╌╌╌╌╌╌╌╌╌┼╌╌╌╌╌╌╌╌╌╌╌╌╌╌╌╌╌┤\n",
       "│ Soraya     ┆ Jala      ┆ Germany   ┆ NaN       ┆ Soraya Jala     │\n",
       "╰────────────┴───────────┴───────────┴───────────┴─────────────────╯\n",
       "\n",
       "(Showing first 5 of 5 rows)"
      ]
     },
     "metadata": {},
     "output_type": "display_data"
    }
   ],
   "source": [
    "df_full = df.with_column(\"full_name\", daft.col('first_name') + ' ' + daft.col('last_name'))\n",
    "df_full.show()"
   ]
  },
  {
   "cell_type": "code",
   "execution_count": null,
   "id": "3f6fb29a-3994-4043-be37-e95956f7d3ee",
   "metadata": {},
   "outputs": [],
   "source": []
  },
  {
   "cell_type": "markdown",
   "id": "899ec453-fd1b-404a-b234-82503da58579",
   "metadata": {},
   "source": [
    "## Multimodal Data Type Support"
   ]
  },
  {
   "cell_type": "markdown",
   "id": "c3dd01cc-3d42-4611-8f6d-ff1708a1d4a8",
   "metadata": {},
   "source": [
    "Daft has a rich multimodal type-system with support for Images, URLs, Tensors and more.\n",
    "\n",
    "Daft columns can contain any Python objects. For example, let's add a column containing a Python class `Dog` for some of the people in our dataset:"
   ]
  },
  {
   "cell_type": "code",
   "execution_count": 17,
   "id": "df8e6eef-9f17-42eb-95d3-88a8c35aec5f",
   "metadata": {},
   "outputs": [
    {
     "data": {
      "text/html": [
       "<div>\n",
       "<table class=\"dataframe\">\n",
       "<thead><tr><th style=\"text-wrap: nowrap; max-width:192px; overflow:auto; text-align:left\">full_name<br />Utf8</th><th style=\"text-wrap: nowrap; max-width:192px; overflow:auto; text-align:left\">dogs<br />Python</th></tr></thead>\n",
       "<tbody>\n",
       "<tr><td><div style=\"text-align:left; max-width:192px; max-height:64px; overflow:auto\">Ernesto Guevara</div></td><td><div style=\"text-align:left; max-width:192px; max-height:64px; overflow:auto\">&lt;__main__.Dog object at 0x12be77490&gt;</div></td></tr>\n",
       "<tr><td><div style=\"text-align:left; max-width:192px; max-height:64px; overflow:auto\">Bruce Lee</div></td><td><div style=\"text-align:left; max-width:192px; max-height:64px; overflow:auto\">&lt;__main__.Dog object at 0x105d10250&gt;</div></td></tr>\n",
       "<tr><td><div style=\"text-align:left; max-width:192px; max-height:64px; overflow:auto\">Jack Ma</div></td><td><div style=\"text-align:left; max-width:192px; max-height:64px; overflow:auto\">&lt;__main__.Dog object at 0x12bed5e10&gt;</div></td></tr>\n",
       "<tr><td><div style=\"text-align:left; max-width:192px; max-height:64px; overflow:auto\">Wolfgang Manche</div></td><td><div style=\"text-align:left; max-width:192px; max-height:64px; overflow:auto\">&lt;__main__.Dog object at 0x12be58f90&gt;</div></td></tr>\n",
       "<tr><td><div style=\"text-align:left; max-width:192px; max-height:64px; overflow:auto\">Soraya Jala</div></td><td><div style=\"text-align:left; max-width:192px; max-height:64px; overflow:auto\">&lt;__main__.Dog object at 0x12bec6610&gt;</div></td></tr>\n",
       "</tbody>\n",
       "</table>\n",
       "<small>(Showing first 5 of 5 rows)</small>\n",
       "</div>"
      ],
      "text/plain": [
       "╭─────────────────┬────────────────────────────────╮\n",
       "│ full_name       ┆ dogs                           │\n",
       "│ ---             ┆ ---                            │\n",
       "│ Utf8            ┆ Python                         │\n",
       "╞═════════════════╪════════════════════════════════╡\n",
       "│ Ernesto Guevara ┆ <__main__.Dog object at 0x12b… │\n",
       "├╌╌╌╌╌╌╌╌╌╌╌╌╌╌╌╌╌┼╌╌╌╌╌╌╌╌╌╌╌╌╌╌╌╌╌╌╌╌╌╌╌╌╌╌╌╌╌╌╌╌┤\n",
       "│ Bruce Lee       ┆ <__main__.Dog object at 0x105… │\n",
       "├╌╌╌╌╌╌╌╌╌╌╌╌╌╌╌╌╌┼╌╌╌╌╌╌╌╌╌╌╌╌╌╌╌╌╌╌╌╌╌╌╌╌╌╌╌╌╌╌╌╌┤\n",
       "│ Jack Ma         ┆ <__main__.Dog object at 0x12b… │\n",
       "├╌╌╌╌╌╌╌╌╌╌╌╌╌╌╌╌╌┼╌╌╌╌╌╌╌╌╌╌╌╌╌╌╌╌╌╌╌╌╌╌╌╌╌╌╌╌╌╌╌╌┤\n",
       "│ Wolfgang Manche ┆ <__main__.Dog object at 0x12b… │\n",
       "├╌╌╌╌╌╌╌╌╌╌╌╌╌╌╌╌╌┼╌╌╌╌╌╌╌╌╌╌╌╌╌╌╌╌╌╌╌╌╌╌╌╌╌╌╌╌╌╌╌╌┤\n",
       "│ Soraya Jala     ┆ <__main__.Dog object at 0x12b… │\n",
       "╰─────────────────┴────────────────────────────────╯\n",
       "\n",
       "(Showing first 5 of 5 rows)"
      ]
     },
     "metadata": {},
     "output_type": "display_data"
    }
   ],
   "source": [
    "import numpy as np\n",
    "\n",
    "class Dog:\n",
    "    def __init__(self, name):\n",
    "        self.name = name\n",
    "        \n",
    "    def bark(self):\n",
    "        return f\"{self.name}!\"\n",
    "\n",
    "df_dogs = daft.from_pydict({\n",
    "    'full_name': ['Ernesto Guevara','Bruce Lee','Jack Ma','Wolfgang Manche','Soraya Jala'],\n",
    "    \"dogs\": [Dog(\"ruffles\"), Dog(\"shnoodles\"), Dog(\"waffles\"), Dog(\"doofus\"), Dog(\"Fluffles\")],\n",
    "})\n",
    "\n",
    "df_dogs.show()"
   ]
  },
  {
   "cell_type": "markdown",
   "id": "3e2799b8-0dd4-4573-9954-fb043e39fd30",
   "metadata": {},
   "source": [
    "You can join this new `dogs` column to your existing DataFrame using the `join` method:"
   ]
  },
  {
   "cell_type": "code",
   "execution_count": 18,
   "id": "1716481b-3929-4373-917e-7417a0acf751",
   "metadata": {},
   "outputs": [
    {
     "data": {
      "text/html": [
       "<div>\n",
       "<table class=\"dataframe\">\n",
       "<thead><tr><th style=\"text-wrap: nowrap; max-width:192px; overflow:auto; text-align:left\">full_name<br />Utf8</th><th style=\"text-wrap: nowrap; max-width:192px; overflow:auto; text-align:left\">first_name<br />Utf8</th><th style=\"text-wrap: nowrap; max-width:192px; overflow:auto; text-align:left\">last_name<br />Utf8</th><th style=\"text-wrap: nowrap; max-width:192px; overflow:auto; text-align:left\">country<br />Utf8</th><th style=\"text-wrap: nowrap; max-width:192px; overflow:auto; text-align:left\">continent<br />Utf8</th><th style=\"text-wrap: nowrap; max-width:192px; overflow:auto; text-align:left\">dogs<br />Python</th></tr></thead>\n",
       "<tbody>\n",
       "<tr><td><div style=\"text-align:left; max-width:192px; max-height:64px; overflow:auto\">Ernesto Guevara</div></td><td><div style=\"text-align:left; max-width:192px; max-height:64px; overflow:auto\">Ernesto</div></td><td><div style=\"text-align:left; max-width:192px; max-height:64px; overflow:auto\">Guevara</div></td><td><div style=\"text-align:left; max-width:192px; max-height:64px; overflow:auto\">Argentina</div></td><td><div style=\"text-align:left; max-width:192px; max-height:64px; overflow:auto\">NaN</div></td><td><div style=\"text-align:left; max-width:192px; max-height:64px; overflow:auto\">&lt;__main__.Dog object at 0x12be77490&gt;</div></td></tr>\n",
       "<tr><td><div style=\"text-align:left; max-width:192px; max-height:64px; overflow:auto\">Bruce Lee</div></td><td><div style=\"text-align:left; max-width:192px; max-height:64px; overflow:auto\">Bruce</div></td><td><div style=\"text-align:left; max-width:192px; max-height:64px; overflow:auto\">Lee</div></td><td><div style=\"text-align:left; max-width:192px; max-height:64px; overflow:auto\">China</div></td><td><div style=\"text-align:left; max-width:192px; max-height:64px; overflow:auto\">Asia</div></td><td><div style=\"text-align:left; max-width:192px; max-height:64px; overflow:auto\">&lt;__main__.Dog object at 0x105d10250&gt;</div></td></tr>\n",
       "<tr><td><div style=\"text-align:left; max-width:192px; max-height:64px; overflow:auto\">Jack Ma</div></td><td><div style=\"text-align:left; max-width:192px; max-height:64px; overflow:auto\">Jack</div></td><td><div style=\"text-align:left; max-width:192px; max-height:64px; overflow:auto\">Ma</div></td><td><div style=\"text-align:left; max-width:192px; max-height:64px; overflow:auto\">China</div></td><td><div style=\"text-align:left; max-width:192px; max-height:64px; overflow:auto\">Asia</div></td><td><div style=\"text-align:left; max-width:192px; max-height:64px; overflow:auto\">&lt;__main__.Dog object at 0x12bed5e10&gt;</div></td></tr>\n",
       "<tr><td><div style=\"text-align:left; max-width:192px; max-height:64px; overflow:auto\">Wolfgang Manche</div></td><td><div style=\"text-align:left; max-width:192px; max-height:64px; overflow:auto\">Wolfgang</div></td><td><div style=\"text-align:left; max-width:192px; max-height:64px; overflow:auto\">Manche</div></td><td><div style=\"text-align:left; max-width:192px; max-height:64px; overflow:auto\">Germany</div></td><td><div style=\"text-align:left; max-width:192px; max-height:64px; overflow:auto\">NaN</div></td><td><div style=\"text-align:left; max-width:192px; max-height:64px; overflow:auto\">&lt;__main__.Dog object at 0x12be58f90&gt;</div></td></tr>\n",
       "<tr><td><div style=\"text-align:left; max-width:192px; max-height:64px; overflow:auto\">Soraya Jala</div></td><td><div style=\"text-align:left; max-width:192px; max-height:64px; overflow:auto\">Soraya</div></td><td><div style=\"text-align:left; max-width:192px; max-height:64px; overflow:auto\">Jala</div></td><td><div style=\"text-align:left; max-width:192px; max-height:64px; overflow:auto\">Germany</div></td><td><div style=\"text-align:left; max-width:192px; max-height:64px; overflow:auto\">NaN</div></td><td><div style=\"text-align:left; max-width:192px; max-height:64px; overflow:auto\">&lt;__main__.Dog object at 0x12bec6610&gt;</div></td></tr>\n",
       "</tbody>\n",
       "</table>\n",
       "<small>(Showing first 5 of 5 rows)</small>\n",
       "</div>"
      ],
      "text/plain": [
       "╭─────────────────┬────────────┬───────────┬───────────┬───────────┬────────────────────────────────╮\n",
       "│ full_name       ┆ first_name ┆ last_name ┆ country   ┆ continent ┆ dogs                           │\n",
       "│ ---             ┆ ---        ┆ ---       ┆ ---       ┆ ---       ┆ ---                            │\n",
       "│ Utf8            ┆ Utf8       ┆ Utf8      ┆ Utf8      ┆ Utf8      ┆ Python                         │\n",
       "╞═════════════════╪════════════╪═══════════╪═══════════╪═══════════╪════════════════════════════════╡\n",
       "│ Ernesto Guevara ┆ Ernesto    ┆ Guevara   ┆ Argentina ┆ NaN       ┆ <__main__.Dog object at 0x12b… │\n",
       "├╌╌╌╌╌╌╌╌╌╌╌╌╌╌╌╌╌┼╌╌╌╌╌╌╌╌╌╌╌╌┼╌╌╌╌╌╌╌╌╌╌╌┼╌╌╌╌╌╌╌╌╌╌╌┼╌╌╌╌╌╌╌╌╌╌╌┼╌╌╌╌╌╌╌╌╌╌╌╌╌╌╌╌╌╌╌╌╌╌╌╌╌╌╌╌╌╌╌╌┤\n",
       "│ Bruce Lee       ┆ Bruce      ┆ Lee       ┆ China     ┆ Asia      ┆ <__main__.Dog object at 0x105… │\n",
       "├╌╌╌╌╌╌╌╌╌╌╌╌╌╌╌╌╌┼╌╌╌╌╌╌╌╌╌╌╌╌┼╌╌╌╌╌╌╌╌╌╌╌┼╌╌╌╌╌╌╌╌╌╌╌┼╌╌╌╌╌╌╌╌╌╌╌┼╌╌╌╌╌╌╌╌╌╌╌╌╌╌╌╌╌╌╌╌╌╌╌╌╌╌╌╌╌╌╌╌┤\n",
       "│ Jack Ma         ┆ Jack       ┆ Ma        ┆ China     ┆ Asia      ┆ <__main__.Dog object at 0x12b… │\n",
       "├╌╌╌╌╌╌╌╌╌╌╌╌╌╌╌╌╌┼╌╌╌╌╌╌╌╌╌╌╌╌┼╌╌╌╌╌╌╌╌╌╌╌┼╌╌╌╌╌╌╌╌╌╌╌┼╌╌╌╌╌╌╌╌╌╌╌┼╌╌╌╌╌╌╌╌╌╌╌╌╌╌╌╌╌╌╌╌╌╌╌╌╌╌╌╌╌╌╌╌┤\n",
       "│ Wolfgang Manche ┆ Wolfgang   ┆ Manche    ┆ Germany   ┆ NaN       ┆ <__main__.Dog object at 0x12b… │\n",
       "├╌╌╌╌╌╌╌╌╌╌╌╌╌╌╌╌╌┼╌╌╌╌╌╌╌╌╌╌╌╌┼╌╌╌╌╌╌╌╌╌╌╌┼╌╌╌╌╌╌╌╌╌╌╌┼╌╌╌╌╌╌╌╌╌╌╌┼╌╌╌╌╌╌╌╌╌╌╌╌╌╌╌╌╌╌╌╌╌╌╌╌╌╌╌╌╌╌╌╌┤\n",
       "│ Soraya Jala     ┆ Soraya     ┆ Jala      ┆ Germany   ┆ NaN       ┆ <__main__.Dog object at 0x12b… │\n",
       "╰─────────────────┴────────────┴───────────┴───────────┴───────────┴────────────────────────────────╯\n",
       "\n",
       "(Showing first 5 of 5 rows)"
      ]
     },
     "metadata": {},
     "output_type": "display_data"
    }
   ],
   "source": [
    "df_family = df_full.join(df_dogs, on=[\"full_name\"])\n",
    "df_family.show()"
   ]
  },
  {
   "cell_type": "markdown",
   "id": "03cc94e6-f6ce-4db0-81c0-bad02dece2ef",
   "metadata": {},
   "source": [
    "We can then use the `apply` method to apply a function to each instance of the Dog class:"
   ]
  },
  {
   "cell_type": "code",
   "execution_count": 19,
   "id": "8146d677-a933-490b-a2f9-c6e2fa6939c9",
   "metadata": {},
   "outputs": [
    {
     "data": {
      "text/html": [
       "<div>\n",
       "<table class=\"dataframe\">\n",
       "<thead><tr><th style=\"text-wrap: nowrap; max-width:192px; overflow:auto; text-align:left\">first_name<br />Utf8</th><th style=\"text-wrap: nowrap; max-width:192px; overflow:auto; text-align:left\">last_name<br />Utf8</th><th style=\"text-wrap: nowrap; max-width:192px; overflow:auto; text-align:left\">country<br />Utf8</th><th style=\"text-wrap: nowrap; max-width:192px; overflow:auto; text-align:left\">continent<br />Utf8</th><th style=\"text-wrap: nowrap; max-width:192px; overflow:auto; text-align:left\">full_name<br />Utf8</th><th style=\"text-wrap: nowrap; max-width:192px; overflow:auto; text-align:left\">dogs<br />Python</th><th style=\"text-wrap: nowrap; max-width:192px; overflow:auto; text-align:left\">dogs_bark_name<br />Utf8</th></tr></thead>\n",
       "<tbody>\n",
       "<tr><td><div style=\"text-align:left; max-width:192px; max-height:64px; overflow:auto\">Ernesto</div></td><td><div style=\"text-align:left; max-width:192px; max-height:64px; overflow:auto\">Guevara</div></td><td><div style=\"text-align:left; max-width:192px; max-height:64px; overflow:auto\">Argentina</div></td><td><div style=\"text-align:left; max-width:192px; max-height:64px; overflow:auto\">NaN</div></td><td><div style=\"text-align:left; max-width:192px; max-height:64px; overflow:auto\">Ernesto Guevara</div></td><td><div style=\"text-align:left; max-width:192px; max-height:64px; overflow:auto\">&lt;__main__.Dog object at 0x12be77490&gt;</div></td><td><div style=\"text-align:left; max-width:192px; max-height:64px; overflow:auto\">ruffles!</div></td></tr>\n",
       "<tr><td><div style=\"text-align:left; max-width:192px; max-height:64px; overflow:auto\">Bruce</div></td><td><div style=\"text-align:left; max-width:192px; max-height:64px; overflow:auto\">Lee</div></td><td><div style=\"text-align:left; max-width:192px; max-height:64px; overflow:auto\">China</div></td><td><div style=\"text-align:left; max-width:192px; max-height:64px; overflow:auto\">Asia</div></td><td><div style=\"text-align:left; max-width:192px; max-height:64px; overflow:auto\">Bruce Lee</div></td><td><div style=\"text-align:left; max-width:192px; max-height:64px; overflow:auto\">&lt;__main__.Dog object at 0x105d10250&gt;</div></td><td><div style=\"text-align:left; max-width:192px; max-height:64px; overflow:auto\">shnoodles!</div></td></tr>\n",
       "<tr><td><div style=\"text-align:left; max-width:192px; max-height:64px; overflow:auto\">Jack</div></td><td><div style=\"text-align:left; max-width:192px; max-height:64px; overflow:auto\">Ma</div></td><td><div style=\"text-align:left; max-width:192px; max-height:64px; overflow:auto\">China</div></td><td><div style=\"text-align:left; max-width:192px; max-height:64px; overflow:auto\">Asia</div></td><td><div style=\"text-align:left; max-width:192px; max-height:64px; overflow:auto\">Jack Ma</div></td><td><div style=\"text-align:left; max-width:192px; max-height:64px; overflow:auto\">&lt;__main__.Dog object at 0x12bed5e10&gt;</div></td><td><div style=\"text-align:left; max-width:192px; max-height:64px; overflow:auto\">waffles!</div></td></tr>\n",
       "<tr><td><div style=\"text-align:left; max-width:192px; max-height:64px; overflow:auto\">Wolfgang</div></td><td><div style=\"text-align:left; max-width:192px; max-height:64px; overflow:auto\">Manche</div></td><td><div style=\"text-align:left; max-width:192px; max-height:64px; overflow:auto\">Germany</div></td><td><div style=\"text-align:left; max-width:192px; max-height:64px; overflow:auto\">NaN</div></td><td><div style=\"text-align:left; max-width:192px; max-height:64px; overflow:auto\">Wolfgang Manche</div></td><td><div style=\"text-align:left; max-width:192px; max-height:64px; overflow:auto\">&lt;__main__.Dog object at 0x12be58f90&gt;</div></td><td><div style=\"text-align:left; max-width:192px; max-height:64px; overflow:auto\">doofus!</div></td></tr>\n",
       "<tr><td><div style=\"text-align:left; max-width:192px; max-height:64px; overflow:auto\">Soraya</div></td><td><div style=\"text-align:left; max-width:192px; max-height:64px; overflow:auto\">Jala</div></td><td><div style=\"text-align:left; max-width:192px; max-height:64px; overflow:auto\">Germany</div></td><td><div style=\"text-align:left; max-width:192px; max-height:64px; overflow:auto\">NaN</div></td><td><div style=\"text-align:left; max-width:192px; max-height:64px; overflow:auto\">Soraya Jala</div></td><td><div style=\"text-align:left; max-width:192px; max-height:64px; overflow:auto\">&lt;__main__.Dog object at 0x12bec6610&gt;</div></td><td><div style=\"text-align:left; max-width:192px; max-height:64px; overflow:auto\">Fluffles!</div></td></tr>\n",
       "</tbody>\n",
       "</table>\n",
       "<small>(Showing first 5 of 5 rows)</small>\n",
       "</div>"
      ],
      "text/plain": [
       "╭────────────┬───────────┬───────────┬────────────┬─────────────────┬────────────────────────────────┬────────────────╮\n",
       "│ first_name ┆ last_name ┆ country   ┆      …     ┆ full_name       ┆ dogs                           ┆ dogs_bark_name │\n",
       "│ ---        ┆ ---       ┆ ---       ┆            ┆ ---             ┆ ---                            ┆ ---            │\n",
       "│ Utf8       ┆ Utf8      ┆ Utf8      ┆ (1 hidden) ┆ Utf8            ┆ Python                         ┆ Utf8           │\n",
       "╞════════════╪═══════════╪═══════════╪════════════╪═════════════════╪════════════════════════════════╪════════════════╡\n",
       "│ Ernesto    ┆ Guevara   ┆ Argentina ┆ …          ┆ Ernesto Guevara ┆ <__main__.Dog object at 0x12b… ┆ ruffles!       │\n",
       "├╌╌╌╌╌╌╌╌╌╌╌╌┼╌╌╌╌╌╌╌╌╌╌╌┼╌╌╌╌╌╌╌╌╌╌╌┼╌╌╌╌╌╌╌╌╌╌╌╌┼╌╌╌╌╌╌╌╌╌╌╌╌╌╌╌╌╌┼╌╌╌╌╌╌╌╌╌╌╌╌╌╌╌╌╌╌╌╌╌╌╌╌╌╌╌╌╌╌╌╌┼╌╌╌╌╌╌╌╌╌╌╌╌╌╌╌╌┤\n",
       "│ Bruce      ┆ Lee       ┆ China     ┆ …          ┆ Bruce Lee       ┆ <__main__.Dog object at 0x105… ┆ shnoodles!     │\n",
       "├╌╌╌╌╌╌╌╌╌╌╌╌┼╌╌╌╌╌╌╌╌╌╌╌┼╌╌╌╌╌╌╌╌╌╌╌┼╌╌╌╌╌╌╌╌╌╌╌╌┼╌╌╌╌╌╌╌╌╌╌╌╌╌╌╌╌╌┼╌╌╌╌╌╌╌╌╌╌╌╌╌╌╌╌╌╌╌╌╌╌╌╌╌╌╌╌╌╌╌╌┼╌╌╌╌╌╌╌╌╌╌╌╌╌╌╌╌┤\n",
       "│ Jack       ┆ Ma        ┆ China     ┆ …          ┆ Jack Ma         ┆ <__main__.Dog object at 0x12b… ┆ waffles!       │\n",
       "├╌╌╌╌╌╌╌╌╌╌╌╌┼╌╌╌╌╌╌╌╌╌╌╌┼╌╌╌╌╌╌╌╌╌╌╌┼╌╌╌╌╌╌╌╌╌╌╌╌┼╌╌╌╌╌╌╌╌╌╌╌╌╌╌╌╌╌┼╌╌╌╌╌╌╌╌╌╌╌╌╌╌╌╌╌╌╌╌╌╌╌╌╌╌╌╌╌╌╌╌┼╌╌╌╌╌╌╌╌╌╌╌╌╌╌╌╌┤\n",
       "│ Wolfgang   ┆ Manche    ┆ Germany   ┆ …          ┆ Wolfgang Manche ┆ <__main__.Dog object at 0x12b… ┆ doofus!        │\n",
       "├╌╌╌╌╌╌╌╌╌╌╌╌┼╌╌╌╌╌╌╌╌╌╌╌┼╌╌╌╌╌╌╌╌╌╌╌┼╌╌╌╌╌╌╌╌╌╌╌╌┼╌╌╌╌╌╌╌╌╌╌╌╌╌╌╌╌╌┼╌╌╌╌╌╌╌╌╌╌╌╌╌╌╌╌╌╌╌╌╌╌╌╌╌╌╌╌╌╌╌╌┼╌╌╌╌╌╌╌╌╌╌╌╌╌╌╌╌┤\n",
       "│ Soraya     ┆ Jala      ┆ Germany   ┆ …          ┆ Soraya Jala     ┆ <__main__.Dog object at 0x12b… ┆ Fluffles!      │\n",
       "╰────────────┴───────────┴───────────┴────────────┴─────────────────┴────────────────────────────────┴────────────────╯\n",
       "\n",
       "(Showing first 5 of 5 rows)"
      ]
     },
     "metadata": {},
     "output_type": "display_data"
    }
   ],
   "source": [
    "from daft import DataType\n",
    "\n",
    "df_family = df_family.with_column(\n",
    "    \"dogs_bark_name\",\n",
    "    df_family[\"dogs\"].apply(lambda dog: dog.bark(), return_dtype=DataType.string()),\n",
    ")\n",
    "\n",
    "df_family.show()"
   ]
  },
  {
   "cell_type": "markdown",
   "id": "22ff29fc-2ce0-46f7-887e-a376b906faed",
   "metadata": {},
   "source": [
    "Daft DataFrames can also contain [many other data types](https://www.getdaft.io/projects/docs/en/latest/api_docs/datatype.html), like tensors, JSON, URLs and images. The Expressions API provides useful tools to work with these data types. \n",
    "\n",
    "For example, let's say we have images of our 5 dogs stored at a URL. We can add these URLs to our DataFrame and download the bytes into a new column using the `url.download()` Expression:"
   ]
  },
  {
   "cell_type": "code",
   "execution_count": 24,
   "id": "81aca807-0d73-4d35-b96f-2e3c11ae059d",
   "metadata": {},
   "outputs": [
    {
     "data": {
      "text/html": [
       "<div>\n",
       "<table class=\"dataframe\">\n",
       "<thead><tr><th style=\"text-wrap: nowrap; max-width:192px; overflow:auto; text-align:left\">urls<br />Utf8</th><th style=\"text-wrap: nowrap; max-width:192px; overflow:auto; text-align:left\">full_name<br />Utf8</th><th style=\"text-wrap: nowrap; max-width:192px; overflow:auto; text-align:left\">image_bytes<br />Binary</th></tr></thead>\n",
       "<tbody>\n",
       "<tr><td><div style=\"text-align:left; max-width:192px; max-height:64px; overflow:auto\">https://i.natgeofe.com/n/4f5aaece-3300-41a4-b2a8-ed2708a0a27c/domestic-dog_thumb_square.jpg?wp=1&amp;w=272&amp;h=272</div></td><td><div style=\"text-align:left; max-width:192px; max-height:64px; overflow:auto\">Ernesto Guevara</div></td><td><div style=\"text-align:left; max-width:192px; max-height:64px; overflow:auto\">b\"\\xff\\xd8\\xff\\xe0\\x00\\x10JFIF\\x00\\x01\"...</div></td></tr>\n",
       "<tr><td><div style=\"text-align:left; max-width:192px; max-height:64px; overflow:auto\">https://i.pinimg.com/736x/ab/e5/5f/abe55ff1a275ae726657fb1d03a37a97.jpg</div></td><td><div style=\"text-align:left; max-width:192px; max-height:64px; overflow:auto\">Bruce Lee</div></td><td><div style=\"text-align:left; max-width:192px; max-height:64px; overflow:auto\">b\"\\xff\\xd8\\xff\\xe0\\x00\\x10JFIF\\x00\\x01\"...</div></td></tr>\n",
       "<tr><td><div style=\"text-align:left; max-width:192px; max-height:64px; overflow:auto\">https://kb.rspca.org.au/wp-content/uploads/2018/11/golder-retriever-puppy.jpeg</div></td><td><div style=\"text-align:left; max-width:192px; max-height:64px; overflow:auto\">Jack Ma</div></td><td><div style=\"text-align:left; max-width:192px; max-height:64px; overflow:auto\">b\"\\xff\\xd8\\xff\\xe0\\x00\\x10JFIF\\x00\\x01\"...</div></td></tr>\n",
       "<tr><td><div style=\"text-align:left; max-width:192px; max-height:64px; overflow:auto\">https://www.thesprucepets.com/thmb/hxWjs7evF2hP1Fb1c1HAvRi_Rw0=/2765x0/filters:no_upscale():strip_icc()/chinese-dog-breeds-4797219-hero-2a1e9c5ed2c54d00aef75b05c5db399c.jpg</div></td><td><div style=\"text-align:left; max-width:192px; max-height:64px; overflow:auto\">Wolfgang Manche</div></td><td><div style=\"text-align:left; max-width:192px; max-height:64px; overflow:auto\">b\"\\xff\\xd8\\xff\\xe0\\x00\\x10JFIF\\x00\\x01\"...</div></td></tr>\n",
       "<tr><td><div style=\"text-align:left; max-width:192px; max-height:64px; overflow:auto\">https://www.dogstrust.org.uk/images/800x600/assets/2023-12/Web%20header%20image-dexter_outdoors_kenilworth_dogstrust.jpg</div></td><td><div style=\"text-align:left; max-width:192px; max-height:64px; overflow:auto\">Soraya Jala</div></td><td><div style=\"text-align:left; max-width:192px; max-height:64px; overflow:auto\">b\"\\xff\\xd8\\xff\\xdb\\x00C\\x00\\x06\\x04\\x05\"...</div></td></tr>\n",
       "</tbody>\n",
       "</table>\n",
       "<small>(Showing first 5 of 5 rows)</small>\n",
       "</div>"
      ],
      "text/plain": [
       "╭────────────────────────────────┬─────────────────┬────────────────────────────────╮\n",
       "│ urls                           ┆ full_name       ┆ image_bytes                    │\n",
       "│ ---                            ┆ ---             ┆ ---                            │\n",
       "│ Utf8                           ┆ Utf8            ┆ Binary                         │\n",
       "╞════════════════════════════════╪═════════════════╪════════════════════════════════╡\n",
       "│ https://i.natgeofe.com/n/4f5a… ┆ Ernesto Guevara ┆ b\"\\xff\\xd8\\xff\\xe0\\x00\\x10JFI… │\n",
       "├╌╌╌╌╌╌╌╌╌╌╌╌╌╌╌╌╌╌╌╌╌╌╌╌╌╌╌╌╌╌╌╌┼╌╌╌╌╌╌╌╌╌╌╌╌╌╌╌╌╌┼╌╌╌╌╌╌╌╌╌╌╌╌╌╌╌╌╌╌╌╌╌╌╌╌╌╌╌╌╌╌╌╌┤\n",
       "│ https://i.pinimg.com/736x/ab/… ┆ Bruce Lee       ┆ b\"\\xff\\xd8\\xff\\xe0\\x00\\x10JFI… │\n",
       "├╌╌╌╌╌╌╌╌╌╌╌╌╌╌╌╌╌╌╌╌╌╌╌╌╌╌╌╌╌╌╌╌┼╌╌╌╌╌╌╌╌╌╌╌╌╌╌╌╌╌┼╌╌╌╌╌╌╌╌╌╌╌╌╌╌╌╌╌╌╌╌╌╌╌╌╌╌╌╌╌╌╌╌┤\n",
       "│ https://kb.rspca.org.au/wp-co… ┆ Jack Ma         ┆ b\"\\xff\\xd8\\xff\\xe0\\x00\\x10JFI… │\n",
       "├╌╌╌╌╌╌╌╌╌╌╌╌╌╌╌╌╌╌╌╌╌╌╌╌╌╌╌╌╌╌╌╌┼╌╌╌╌╌╌╌╌╌╌╌╌╌╌╌╌╌┼╌╌╌╌╌╌╌╌╌╌╌╌╌╌╌╌╌╌╌╌╌╌╌╌╌╌╌╌╌╌╌╌┤\n",
       "│ https://www.thesprucepets.com… ┆ Wolfgang Manche ┆ b\"\\xff\\xd8\\xff\\xe0\\x00\\x10JFI… │\n",
       "├╌╌╌╌╌╌╌╌╌╌╌╌╌╌╌╌╌╌╌╌╌╌╌╌╌╌╌╌╌╌╌╌┼╌╌╌╌╌╌╌╌╌╌╌╌╌╌╌╌╌┼╌╌╌╌╌╌╌╌╌╌╌╌╌╌╌╌╌╌╌╌╌╌╌╌╌╌╌╌╌╌╌╌┤\n",
       "│ https://www.dogstrust.org.uk/… ┆ Soraya Jala     ┆ b\"\\xff\\xd8\\xff\\xdb\\x00C\\x00\\x… │\n",
       "╰────────────────────────────────┴─────────────────┴────────────────────────────────╯\n",
       "\n",
       "(Showing first 5 of 5 rows)"
      ]
     },
     "metadata": {},
     "output_type": "display_data"
    }
   ],
   "source": [
    "df_dogs_img = daft.from_pydict({\n",
    "    \"urls\": [\n",
    "        \"https://i.natgeofe.com/n/4f5aaece-3300-41a4-b2a8-ed2708a0a27c/domestic-dog_thumb_square.jpg?wp=1&w=272&h=272\",\n",
    "        \"https://i.pinimg.com/736x/ab/e5/5f/abe55ff1a275ae726657fb1d03a37a97.jpg\",\n",
    "        \"https://kb.rspca.org.au/wp-content/uploads/2018/11/golder-retriever-puppy.jpeg\",\n",
    "        \"https://www.thesprucepets.com/thmb/hxWjs7evF2hP1Fb1c1HAvRi_Rw0=/2765x0/filters:no_upscale():strip_icc()/chinese-dog-breeds-4797219-hero-2a1e9c5ed2c54d00aef75b05c5db399c.jpg\",\n",
    "        \"https://www.dogstrust.org.uk/images/800x600/assets/2023-12/Web%20header%20image-dexter_outdoors_kenilworth_dogstrust.jpg\"\n",
    "    ],\n",
    "    \"full_name\": ['Ernesto Guevara','Bruce Lee','Jack Ma','Wolfgang Manche','Soraya Jala']\n",
    "})\n",
    "df_dogs_img = df_dogs_img.with_column(\"image_bytes\", df_dogs_img[\"urls\"].url.download(on_error=\"null\"))\n",
    "df_dogs_img.show()"
   ]
  },
  {
   "cell_type": "markdown",
   "id": "90e9cb01-d604-483a-a838-3f5b4a5470aa",
   "metadata": {},
   "source": [
    "We can then apply the `image.decode()` Expression to decode the bytes into human-readable images, right within our Jupyter notebook:"
   ]
  },
  {
   "cell_type": "code",
   "execution_count": 25,
   "id": "e0c18dc1-680d-4279-8930-a5676f183722",
   "metadata": {},
   "outputs": [],
   "source": [
    "df_dogs_img = df_dogs_img.with_column(\"image\", daft.col(\"image_bytes\").image.decode())"
   ]
  },
  {
   "cell_type": "code",
   "execution_count": 26,
   "id": "b92f8122-8a8d-4f0c-8bd5-c04e19fc35b3",
   "metadata": {},
   "outputs": [
    {
     "data": {
      "text/html": [
       "<div>\n",
       "<table class=\"dataframe\">\n",
       "<thead><tr><th style=\"text-wrap: nowrap; max-width:192px; overflow:auto; text-align:left\">urls<br />Utf8</th><th style=\"text-wrap: nowrap; max-width:192px; overflow:auto; text-align:left\">full_name<br />Utf8</th><th style=\"text-wrap: nowrap; max-width:192px; overflow:auto; text-align:left\">image_bytes<br />Binary</th><th style=\"text-wrap: nowrap; max-width:192px; overflow:auto; text-align:left\">image<br />Image[MIXED]</th></tr></thead>\n",
       "<tbody>\n",
       "<tr><td><div style=\"text-align:left; max-width:192px; max-height:64px; overflow:auto\">https://i.natgeofe.com/n/4f5aaece-3300-41a4-b2a8-ed2708a0a27c/domestic-dog_thumb_square.jpg?wp=1&amp;w=272&amp;h=272</div></td><td><div style=\"text-align:left; max-width:192px; max-height:64px; overflow:auto\">Ernesto Guevara</div></td><td><div style=\"text-align:left; max-width:192px; max-height:64px; overflow:auto\">b\"\\xff\\xd8\\xff\\xe0\\x00\\x10JFIF\\x00\\x01\"...</div></td><td><div style=\"text-align:left; max-width:192px; max-height:64px; overflow:auto\"><img style=\"max-height:128px;width:auto\" src=\"data:image/png;base64, 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\" alt=\"<Image>\" /></div></td></tr>\n",
       "<tr><td><div style=\"text-align:left; max-width:192px; max-height:64px; overflow:auto\">https://i.pinimg.com/736x/ab/e5/5f/abe55ff1a275ae726657fb1d03a37a97.jpg</div></td><td><div style=\"text-align:left; max-width:192px; max-height:64px; overflow:auto\">Bruce Lee</div></td><td><div style=\"text-align:left; max-width:192px; max-height:64px; overflow:auto\">b\"\\xff\\xd8\\xff\\xe0\\x00\\x10JFIF\\x00\\x01\"...</div></td><td><div style=\"text-align:left; max-width:192px; max-height:64px; overflow:auto\"><img style=\"max-height:128px;width:auto\" src=\"data:image/png;base64, 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\" alt=\"<Image>\" /></div></td></tr>\n",
       "<tr><td><div style=\"text-align:left; max-width:192px; max-height:64px; overflow:auto\">https://kb.rspca.org.au/wp-content/uploads/2018/11/golder-retriever-puppy.jpeg</div></td><td><div style=\"text-align:left; max-width:192px; max-height:64px; overflow:auto\">Jack Ma</div></td><td><div style=\"text-align:left; max-width:192px; max-height:64px; overflow:auto\">b\"\\xff\\xd8\\xff\\xe0\\x00\\x10JFIF\\x00\\x01\"...</div></td><td><div style=\"text-align:left; max-width:192px; max-height:64px; overflow:auto\"><img style=\"max-height:128px;width:auto\" src=\"data:image/png;base64, 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\" alt=\"<Image>\" /></div></td></tr>\n",
       "<tr><td><div style=\"text-align:left; max-width:192px; max-height:64px; overflow:auto\">https://www.thesprucepets.com/thmb/hxWjs7evF2hP1Fb1c1HAvRi_Rw0=/2765x0/filters:no_upscale():strip_icc()/chinese-dog-breeds-4797219-hero-2a1e9c5ed2c54d00aef75b05c5db399c.jpg</div></td><td><div style=\"text-align:left; max-width:192px; max-height:64px; overflow:auto\">Wolfgang Manche</div></td><td><div style=\"text-align:left; max-width:192px; max-height:64px; overflow:auto\">b\"\\xff\\xd8\\xff\\xe0\\x00\\x10JFIF\\x00\\x01\"...</div></td><td><div style=\"text-align:left; max-width:192px; max-height:64px; overflow:auto\"><img style=\"max-height:128px;width:auto\" src=\"data:image/png;base64, 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\" alt=\"<Image>\" /></div></td></tr>\n",
       "<tr><td><div style=\"text-align:left; max-width:192px; max-height:64px; overflow:auto\">https://www.dogstrust.org.uk/images/800x600/assets/2023-12/Web%20header%20image-dexter_outdoors_kenilworth_dogstrust.jpg</div></td><td><div style=\"text-align:left; max-width:192px; max-height:64px; overflow:auto\">Soraya Jala</div></td><td><div style=\"text-align:left; max-width:192px; max-height:64px; overflow:auto\">b\"\\xff\\xd8\\xff\\xdb\\x00C\\x00\\x06\\x04\\x05\"...</div></td><td><div style=\"text-align:left; max-width:192px; max-height:64px; overflow:auto\"><img style=\"max-height:128px;width:auto\" src=\"data:image/png;base64, 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\" alt=\"<Image>\" /></div></td></tr>\n",
       "</tbody>\n",
       "</table>\n",
       "<small>(Showing first 5 of 5 rows)</small>\n",
       "</div>"
      ],
      "text/plain": [
       "╭────────────────────────────────┬─────────────────┬────────────────────────────────┬──────────────╮\n",
       "│ urls                           ┆ full_name       ┆ image_bytes                    ┆ image        │\n",
       "│ ---                            ┆ ---             ┆ ---                            ┆ ---          │\n",
       "│ Utf8                           ┆ Utf8            ┆ Binary                         ┆ Image[MIXED] │\n",
       "╞════════════════════════════════╪═════════════════╪════════════════════════════════╪══════════════╡\n",
       "│ https://i.natgeofe.com/n/4f5a… ┆ Ernesto Guevara ┆ b\"\\xff\\xd8\\xff\\xe0\\x00\\x10JFI… ┆ <Image>      │\n",
       "├╌╌╌╌╌╌╌╌╌╌╌╌╌╌╌╌╌╌╌╌╌╌╌╌╌╌╌╌╌╌╌╌┼╌╌╌╌╌╌╌╌╌╌╌╌╌╌╌╌╌┼╌╌╌╌╌╌╌╌╌╌╌╌╌╌╌╌╌╌╌╌╌╌╌╌╌╌╌╌╌╌╌╌┼╌╌╌╌╌╌╌╌╌╌╌╌╌╌┤\n",
       "│ https://i.pinimg.com/736x/ab/… ┆ Bruce Lee       ┆ b\"\\xff\\xd8\\xff\\xe0\\x00\\x10JFI… ┆ <Image>      │\n",
       "├╌╌╌╌╌╌╌╌╌╌╌╌╌╌╌╌╌╌╌╌╌╌╌╌╌╌╌╌╌╌╌╌┼╌╌╌╌╌╌╌╌╌╌╌╌╌╌╌╌╌┼╌╌╌╌╌╌╌╌╌╌╌╌╌╌╌╌╌╌╌╌╌╌╌╌╌╌╌╌╌╌╌╌┼╌╌╌╌╌╌╌╌╌╌╌╌╌╌┤\n",
       "│ https://kb.rspca.org.au/wp-co… ┆ Jack Ma         ┆ b\"\\xff\\xd8\\xff\\xe0\\x00\\x10JFI… ┆ <Image>      │\n",
       "├╌╌╌╌╌╌╌╌╌╌╌╌╌╌╌╌╌╌╌╌╌╌╌╌╌╌╌╌╌╌╌╌┼╌╌╌╌╌╌╌╌╌╌╌╌╌╌╌╌╌┼╌╌╌╌╌╌╌╌╌╌╌╌╌╌╌╌╌╌╌╌╌╌╌╌╌╌╌╌╌╌╌╌┼╌╌╌╌╌╌╌╌╌╌╌╌╌╌┤\n",
       "│ https://www.thesprucepets.com… ┆ Wolfgang Manche ┆ b\"\\xff\\xd8\\xff\\xe0\\x00\\x10JFI… ┆ <Image>      │\n",
       "├╌╌╌╌╌╌╌╌╌╌╌╌╌╌╌╌╌╌╌╌╌╌╌╌╌╌╌╌╌╌╌╌┼╌╌╌╌╌╌╌╌╌╌╌╌╌╌╌╌╌┼╌╌╌╌╌╌╌╌╌╌╌╌╌╌╌╌╌╌╌╌╌╌╌╌╌╌╌╌╌╌╌╌┼╌╌╌╌╌╌╌╌╌╌╌╌╌╌┤\n",
       "│ https://www.dogstrust.org.uk/… ┆ Soraya Jala     ┆ b\"\\xff\\xd8\\xff\\xdb\\x00C\\x00\\x… ┆ <Image>      │\n",
       "╰────────────────────────────────┴─────────────────┴────────────────────────────────┴──────────────╯\n",
       "\n",
       "(Showing first 5 of 5 rows)"
      ]
     },
     "metadata": {},
     "output_type": "display_data"
    }
   ],
   "source": [
    "df_dogs_img.show()"
   ]
  },
  {
   "cell_type": "markdown",
   "id": "68477343-ebcb-46b7-845b-a6706ac20ef1",
   "metadata": {},
   "source": [
    "Finally, we can `join` on `full_name` and `owners` to bring these beautiful fluffy beings back to their owners:"
   ]
  },
  {
   "cell_type": "code",
   "execution_count": 27,
   "id": "c90098a4-94aa-4060-a4cd-438ab853b41e",
   "metadata": {},
   "outputs": [],
   "source": [
    "df_family = df_family.join(df_dogs_img.select(\"full_name\", \"image\"), on=[\"full_name\"])"
   ]
  },
  {
   "cell_type": "code",
   "execution_count": 28,
   "id": "7f1ff54a-69a6-48fa-8fc5-7e4412c33d50",
   "metadata": {},
   "outputs": [
    {
     "data": {
      "text/html": [
       "<div>\n",
       "<table class=\"dataframe\">\n",
       "<thead><tr><th style=\"text-wrap: nowrap; max-width:192px; overflow:auto; text-align:left\">full_name<br />Utf8</th><th style=\"text-wrap: nowrap; max-width:192px; overflow:auto; text-align:left\">first_name<br />Utf8</th><th style=\"text-wrap: nowrap; max-width:192px; overflow:auto; text-align:left\">last_name<br />Utf8</th><th style=\"text-wrap: nowrap; max-width:192px; overflow:auto; text-align:left\">country<br />Utf8</th><th style=\"text-wrap: nowrap; max-width:192px; overflow:auto; text-align:left\">continent<br />Utf8</th><th style=\"text-wrap: nowrap; max-width:192px; overflow:auto; text-align:left\">dogs<br />Python</th><th style=\"text-wrap: nowrap; max-width:192px; overflow:auto; text-align:left\">dogs_bark_name<br />Utf8</th><th style=\"text-wrap: nowrap; max-width:192px; overflow:auto; text-align:left\">image<br />Image[MIXED]</th></tr></thead>\n",
       "<tbody>\n",
       "<tr><td><div style=\"text-align:left; max-width:192px; max-height:64px; overflow:auto\">Ernesto Guevara</div></td><td><div style=\"text-align:left; max-width:192px; max-height:64px; overflow:auto\">Ernesto</div></td><td><div style=\"text-align:left; max-width:192px; max-height:64px; overflow:auto\">Guevara</div></td><td><div style=\"text-align:left; max-width:192px; max-height:64px; overflow:auto\">Argentina</div></td><td><div style=\"text-align:left; max-width:192px; max-height:64px; overflow:auto\">NaN</div></td><td><div style=\"text-align:left; max-width:192px; max-height:64px; overflow:auto\">&lt;__main__.Dog object at 0x12be77490&gt;</div></td><td><div style=\"text-align:left; max-width:192px; max-height:64px; overflow:auto\">ruffles!</div></td><td><div style=\"text-align:left; max-width:192px; max-height:64px; overflow:auto\"><img style=\"max-height:128px;width:auto\" src=\"data:image/png;base64, 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\" alt=\"<Image>\" /></div></td></tr>\n",
       "<tr><td><div style=\"text-align:left; max-width:192px; max-height:64px; overflow:auto\">Bruce Lee</div></td><td><div style=\"text-align:left; max-width:192px; max-height:64px; overflow:auto\">Bruce</div></td><td><div style=\"text-align:left; max-width:192px; max-height:64px; overflow:auto\">Lee</div></td><td><div style=\"text-align:left; max-width:192px; max-height:64px; overflow:auto\">China</div></td><td><div style=\"text-align:left; max-width:192px; max-height:64px; overflow:auto\">Asia</div></td><td><div style=\"text-align:left; max-width:192px; max-height:64px; overflow:auto\">&lt;__main__.Dog object at 0x105d10250&gt;</div></td><td><div style=\"text-align:left; max-width:192px; max-height:64px; overflow:auto\">shnoodles!</div></td><td><div style=\"text-align:left; max-width:192px; max-height:64px; overflow:auto\"><img style=\"max-height:128px;width:auto\" src=\"data:image/png;base64, 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\" alt=\"<Image>\" /></div></td></tr>\n",
       "<tr><td><div style=\"text-align:left; max-width:192px; max-height:64px; overflow:auto\">Jack Ma</div></td><td><div style=\"text-align:left; max-width:192px; max-height:64px; overflow:auto\">Jack</div></td><td><div style=\"text-align:left; max-width:192px; max-height:64px; overflow:auto\">Ma</div></td><td><div style=\"text-align:left; max-width:192px; max-height:64px; overflow:auto\">China</div></td><td><div style=\"text-align:left; max-width:192px; max-height:64px; overflow:auto\">Asia</div></td><td><div style=\"text-align:left; max-width:192px; max-height:64px; overflow:auto\">&lt;__main__.Dog object at 0x12bed5e10&gt;</div></td><td><div style=\"text-align:left; max-width:192px; max-height:64px; overflow:auto\">waffles!</div></td><td><div style=\"text-align:left; max-width:192px; max-height:64px; overflow:auto\"><img style=\"max-height:128px;width:auto\" src=\"data:image/png;base64, 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\" alt=\"<Image>\" /></div></td></tr>\n",
       "<tr><td><div style=\"text-align:left; max-width:192px; max-height:64px; overflow:auto\">Wolfgang Manche</div></td><td><div style=\"text-align:left; max-width:192px; max-height:64px; overflow:auto\">Wolfgang</div></td><td><div style=\"text-align:left; max-width:192px; max-height:64px; overflow:auto\">Manche</div></td><td><div style=\"text-align:left; max-width:192px; max-height:64px; overflow:auto\">Germany</div></td><td><div style=\"text-align:left; max-width:192px; max-height:64px; overflow:auto\">NaN</div></td><td><div style=\"text-align:left; max-width:192px; max-height:64px; overflow:auto\">&lt;__main__.Dog object at 0x12be58f90&gt;</div></td><td><div style=\"text-align:left; max-width:192px; max-height:64px; overflow:auto\">doofus!</div></td><td><div style=\"text-align:left; max-width:192px; max-height:64px; overflow:auto\"><img style=\"max-height:128px;width:auto\" src=\"data:image/png;base64, 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\" alt=\"<Image>\" /></div></td></tr>\n",
       "<tr><td><div style=\"text-align:left; max-width:192px; max-height:64px; overflow:auto\">Soraya Jala</div></td><td><div style=\"text-align:left; max-width:192px; max-height:64px; overflow:auto\">Soraya</div></td><td><div style=\"text-align:left; max-width:192px; max-height:64px; overflow:auto\">Jala</div></td><td><div style=\"text-align:left; max-width:192px; max-height:64px; overflow:auto\">Germany</div></td><td><div style=\"text-align:left; max-width:192px; max-height:64px; overflow:auto\">NaN</div></td><td><div style=\"text-align:left; max-width:192px; max-height:64px; overflow:auto\">&lt;__main__.Dog object at 0x12bec6610&gt;</div></td><td><div style=\"text-align:left; max-width:192px; max-height:64px; overflow:auto\">Fluffles!</div></td><td><div style=\"text-align:left; max-width:192px; max-height:64px; overflow:auto\"><img style=\"max-height:128px;width:auto\" src=\"data:image/png;base64, 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\" alt=\"<Image>\" /></div></td></tr>\n",
       "</tbody>\n",
       "</table>\n",
       "<small>(Showing first 5 of 5 rows)</small>\n",
       "</div>"
      ],
      "text/plain": [
       "╭─────────────────┬────────────┬───────────┬────────────┬─────────────────────────┬────────────────┬──────────────╮\n",
       "│ full_name       ┆ first_name ┆ last_name ┆      …     ┆ dogs                    ┆ dogs_bark_name ┆ image        │\n",
       "│ ---             ┆ ---        ┆ ---       ┆            ┆ ---                     ┆ ---            ┆ ---          │\n",
       "│ Utf8            ┆ Utf8       ┆ Utf8      ┆ (2 hidden) ┆ Python                  ┆ Utf8           ┆ Image[MIXED] │\n",
       "╞═════════════════╪════════════╪═══════════╪════════════╪═════════════════════════╪════════════════╪══════════════╡\n",
       "│ Ernesto Guevara ┆ Ernesto    ┆ Guevara   ┆ …          ┆ <__main__.Dog object at ┆ ruffles!       ┆ <Image>      │\n",
       "│                 ┆            ┆           ┆            ┆ 0x12b…                  ┆                ┆              │\n",
       "├╌╌╌╌╌╌╌╌╌╌╌╌╌╌╌╌╌┼╌╌╌╌╌╌╌╌╌╌╌╌┼╌╌╌╌╌╌╌╌╌╌╌┼╌╌╌╌╌╌╌╌╌╌╌╌┼╌╌╌╌╌╌╌╌╌╌╌╌╌╌╌╌╌╌╌╌╌╌╌╌╌┼╌╌╌╌╌╌╌╌╌╌╌╌╌╌╌╌┼╌╌╌╌╌╌╌╌╌╌╌╌╌╌┤\n",
       "│ Bruce Lee       ┆ Bruce      ┆ Lee       ┆ …          ┆ <__main__.Dog object at ┆ shnoodles!     ┆ <Image>      │\n",
       "│                 ┆            ┆           ┆            ┆ 0x105…                  ┆                ┆              │\n",
       "├╌╌╌╌╌╌╌╌╌╌╌╌╌╌╌╌╌┼╌╌╌╌╌╌╌╌╌╌╌╌┼╌╌╌╌╌╌╌╌╌╌╌┼╌╌╌╌╌╌╌╌╌╌╌╌┼╌╌╌╌╌╌╌╌╌╌╌╌╌╌╌╌╌╌╌╌╌╌╌╌╌┼╌╌╌╌╌╌╌╌╌╌╌╌╌╌╌╌┼╌╌╌╌╌╌╌╌╌╌╌╌╌╌┤\n",
       "│ Jack Ma         ┆ Jack       ┆ Ma        ┆ …          ┆ <__main__.Dog object at ┆ waffles!       ┆ <Image>      │\n",
       "│                 ┆            ┆           ┆            ┆ 0x12b…                  ┆                ┆              │\n",
       "├╌╌╌╌╌╌╌╌╌╌╌╌╌╌╌╌╌┼╌╌╌╌╌╌╌╌╌╌╌╌┼╌╌╌╌╌╌╌╌╌╌╌┼╌╌╌╌╌╌╌╌╌╌╌╌┼╌╌╌╌╌╌╌╌╌╌╌╌╌╌╌╌╌╌╌╌╌╌╌╌╌┼╌╌╌╌╌╌╌╌╌╌╌╌╌╌╌╌┼╌╌╌╌╌╌╌╌╌╌╌╌╌╌┤\n",
       "│ Wolfgang Manche ┆ Wolfgang   ┆ Manche    ┆ …          ┆ <__main__.Dog object at ┆ doofus!        ┆ <Image>      │\n",
       "│                 ┆            ┆           ┆            ┆ 0x12b…                  ┆                ┆              │\n",
       "├╌╌╌╌╌╌╌╌╌╌╌╌╌╌╌╌╌┼╌╌╌╌╌╌╌╌╌╌╌╌┼╌╌╌╌╌╌╌╌╌╌╌┼╌╌╌╌╌╌╌╌╌╌╌╌┼╌╌╌╌╌╌╌╌╌╌╌╌╌╌╌╌╌╌╌╌╌╌╌╌╌┼╌╌╌╌╌╌╌╌╌╌╌╌╌╌╌╌┼╌╌╌╌╌╌╌╌╌╌╌╌╌╌┤\n",
       "│ Soraya Jala     ┆ Soraya     ┆ Jala      ┆ …          ┆ <__main__.Dog object at ┆ Fluffles!      ┆ <Image>      │\n",
       "│                 ┆            ┆           ┆            ┆ 0x12b…                  ┆                ┆              │\n",
       "╰─────────────────┴────────────┴───────────┴────────────┴─────────────────────────┴────────────────┴──────────────╯\n",
       "\n",
       "(Showing first 5 of 5 rows)"
      ]
     },
     "metadata": {},
     "output_type": "display_data"
    }
   ],
   "source": [
    "df_family.show()"
   ]
  },
  {
   "cell_type": "markdown",
   "id": "4e808072-aa3a-48f1-9dce-3447179dc53d",
   "metadata": {},
   "source": [
    "## WOOF! 🐶 🥳"
   ]
  },
  {
   "cell_type": "markdown",
   "id": "519e3970-07a8-463e-85f9-02664550fed7",
   "metadata": {},
   "source": [
    "For a full list of all Expression methods and operators, see the [Expressions API Docs](https://www.getdaft.io/projects/docs/en/latest/api_docs/expressions.html#api-numeric-expression-operations)."
   ]
  },
  {
   "cell_type": "code",
   "execution_count": null,
   "id": "26156403-7531-4454-9a1d-e5ab5cf21b61",
   "metadata": {},
   "outputs": [],
   "source": []
  },
  {
   "cell_type": "markdown",
   "id": "1c912d3b-f71d-4ba5-a2ba-f808d9228d28",
   "metadata": {},
   "source": [
    "## Transform multiple columns with UDFs"
   ]
  },
  {
   "cell_type": "markdown",
   "id": "e159f76e-c4a9-4222-92cb-c8cfa9d98039",
   "metadata": {},
   "source": [
    "You can use User-Defined Functions (UDFs) to run functions over multiple rows or columns:"
   ]
  },
  {
   "cell_type": "code",
   "execution_count": 29,
   "id": "b60b94fd-0302-4446-aed3-6f06f85fa2db",
   "metadata": {},
   "outputs": [
    {
     "data": {
      "text/html": [
       "<div>\n",
       "<table class=\"dataframe\">\n",
       "<thead><tr><th style=\"text-wrap: nowrap; max-width:192px; overflow:auto; text-align:left\">first_name<br />Utf8</th><th style=\"text-wrap: nowrap; max-width:192px; overflow:auto; text-align:left\">last_name<br />Utf8</th><th style=\"text-wrap: nowrap; max-width:192px; overflow:auto; text-align:left\">country<br />Utf8</th><th style=\"text-wrap: nowrap; max-width:192px; overflow:auto; text-align:left\">continent<br />Utf8</th><th style=\"text-wrap: nowrap; max-width:192px; overflow:auto; text-align:left\">full_name<br />Utf8</th><th style=\"text-wrap: nowrap; max-width:192px; overflow:auto; text-align:left\">dogs<br />Python</th><th style=\"text-wrap: nowrap; max-width:192px; overflow:auto; text-align:left\">dogs_bark_name<br />Utf8</th><th style=\"text-wrap: nowrap; max-width:192px; overflow:auto; text-align:left\">image<br />Image[MIXED]</th><th style=\"text-wrap: nowrap; max-width:192px; overflow:auto; text-align:left\">custom_bark<br />Utf8</th></tr></thead>\n",
       "<tbody>\n",
       "<tr><td><div style=\"text-align:left; max-width:192px; max-height:64px; overflow:auto\">Ernesto</div></td><td><div style=\"text-align:left; max-width:192px; max-height:64px; overflow:auto\">Guevara</div></td><td><div style=\"text-align:left; max-width:192px; max-height:64px; overflow:auto\">Argentina</div></td><td><div style=\"text-align:left; max-width:192px; max-height:64px; overflow:auto\">NaN</div></td><td><div style=\"text-align:left; max-width:192px; max-height:64px; overflow:auto\">Ernesto Guevara</div></td><td><div style=\"text-align:left; max-width:192px; max-height:64px; overflow:auto\">&lt;__main__.Dog object at 0x12be77490&gt;</div></td><td><div style=\"text-align:left; max-width:192px; max-height:64px; overflow:auto\">ruffles!</div></td><td><div style=\"text-align:left; max-width:192px; max-height:64px; overflow:auto\"><img style=\"max-height:128px;width:auto\" src=\"data:image/png;base64, /9j/4AAQSkZJRgABAgAAAQABAAD/wAARCACAAIADAREAAhEBAxEB/9sAQwAIBgYHBgUIBwcHCQkICgwUDQwLCwwZEhMPFB0aHx4dGhwcICQuJyAiLCMcHCg3KSwwMTQ0NB8nOT04MjwuMzQy/9sAQwEJCQkMCwwYDQ0YMiEcITIyMjIyMjIyMjIyMjIyMjIyMjIyMjIyMjIyMjIyMjIyMjIyMjIyMjIyMjIyMjIyMjIy/8QAHwAAAQUBAQEBAQEAAAAAAAAAAAECAwQFBgcICQoL/8QAtRAAAgEDAwIEAwUFBAQAAAF9AQIDAAQRBRIhMUEGE1FhByJxFDKBkaEII0KxwRVS0fAkM2JyggkKFhcYGRolJicoKSo0NTY3ODk6Q0RFRkdISUpTVFVWV1hZWmNkZWZnaGlqc3R1dnd4eXqDhIWGh4iJipKTlJWWl5iZmqKjpKWmp6ipqrKztLW2t7i5usLDxMXGx8jJytLT1NXW19jZ2uHi4+Tl5ufo6erx8vP09fb3+Pn6/8QAHwEAAwEBAQEBAQEBAQAAAAAAAAECAwQFBgcICQoL/8QAtREAAgECBAQDBAcFBAQAAQJ3AAECAxEEBSExBhJBUQdhcRMiMoEIFEKRobHBCSMzUvAVYnLRChYkNOEl8RcYGRomJygpKjU2Nzg5OkNERUZHSElKU1RVVldYWVpjZGVmZ2hpanN0dXZ3eHl6goOEhYaHiImKkpOUlZaXmJmaoqOkpaanqKmqsrO0tba3uLm6wsPExcbHyMnK0tPU1dbX2Nna4uPk5ebn6Onq8vP09fb3+Pn6/9oADAMBAAIRAxEAPwD3isxi0AFABQAUAFMAoAKQBQAtMApAFABQAUwEoGFABSEFABTAKAAnFIDm9c8YWeisY2BkkxwAeKxlWs7I1jTvqcs3xRffhbVAPck1HtJleziXIPiUpUGWzHI42t3p+2kHs0XE+Itscb7KQfRqftn2F7Itr8QNGwPMaRCTjBWn7ZdifZs1LLxNpV9jybtMnsxwapVYsTgzVR1dQVIIPcVonchi0xhQAUAFABSEFABTAz73WrGw4uJ0Ruyk8ms3USLUGzh9c8fuUkitAsa9N+cmsJVJSNVTS3PN767lv7g73OTzknOalIojVYY1+ZiT2NFwJbXUF+2QrtGwMAaLDudZ42jt7awh1CNwgYhNo7+ppLUGcfHfJKwBIx2PpTsK5PEHD745CR6+lGgHeeDvGD2zrZ3z7oScK/8Ad/GqhNxZMo3PTo5UlQPGwZWGQRXUmnsYWsOpgFABQAUhBTA57xP4ssfDlozzuGmI+SMdTWU6ltEXGN9TwnV/GE2t6m8u4DceFz0rHl6s1v0ERjIoZi2O/wA3SkyiK4u0t0wo3euKVguZMuq5yCPzqkhXH6ZqEaajGZMmNjg02tBJm1451FprSwhjfcjxb1btjp/SpprUc2cpFetCuQx+VQPqc1pYi5tWWrhcI34mpcSkzbW7jKq0ZJb0FRYq51nh/wAbXGnBLaTDR56E/wBaabjsJpS3PVrC7S8tUlVlO4Z+U5xXTCV0YSVmWqsQUAFIRBdzi2tZJT0RSTUzdlccVdnzL4w1ufVtWnaSTqxwAc4Fcq01Oh9jA0qHz7wkoSAfvYrS7sT1N+5n8pcAcjpxUIoqJbXF/MsUYyzdsc0pTUVdlRi5OxpX/gm8i05587iqbsY5BHY/hmuaGMg52NpYeSjc4iKRopxnoDmu847nU+JZY28O6awUZEbFOfXH/wBeogtWXLY5eHczqo5O4H8cDFaPQhHoNv8AD+7fTo7pZAr7dxXHJPYD/PeuJ4yPNY6vq7tcyjFPaMUcYdeCuf510JqWqMWmh9xK7WwcEhl9qaBno3ws8VG4kbSp2O4DchPpTj7siJao9brpMgoAKBHK+PtUGmeG5juwzgj8KwrPoaU1rc+V57s3V1NISRuPAHapsO50Xh+3VIWkCYOOp60psuCHXlx5YLA/MTgcUkhsseGtS+w6vE90SFc4yxBx/hXNiqblDQ2w80panp+p38MWnTPuXYIzz+FeRCL51Y9GTXKzwWRhJOzqeCxOK+kWx4r3NXV7g3Gk6b/sBl/AYA/z70luxvYzbU7buMtwA4/LNEvhYo7n0Jb38MekrI7/ACiLdn2xXz9m5NHsO1rnkWp6utzqsssaMsTNwdoFezRg4wVzzakk5aF60IuLaVW5+XINaEGdoWpy6R4ktruF1UJIAec5HcGhsVj6ltpRPbRyjoygiuqLujB6MlpgFAjzb4wIw8P+bngKRXPV+JG0PhZ5L8Pfh+vjKy1Sd7s2/wBm2hMLu3E5PPPtTs7XJRBplrLYX15YsdwjYjdjGcVnLVGkSrfRvLeR26fIW4DHoKcQZNeaRpv9mWb2hf8AtArmWSR/lDZ5AFaJ99iLdirrl/qdip0p7jfHjO/PJB7VzxoQ5uZI2dafLymHEuAc1uYmpJCz6VEcZVc8/j/+ujqPoUQm7OOoFMR02mX+r6vpc1jHKNkEZYgnBYDoKwjh4c/MautLlsMvtG+zWVnLb3rTyzhjLC38IXv9K6ZJGMWzR0gbbF5Qcrt4zWD3NVscfqF0I5XdGXcHyCtU1qRc+pvAGp/2t4J0y6JyxiCt9Rx/StaexEtzpK0JCgR5/wDGCJm8FSOoztfB/EVjVWqNIdSH4P8AhybQ/BbTXSbZr9/O2HghMYXP6n8atL3SXuc7q3hZp9S1TUY4hF8x4HSuCdTldjrhC6ucBeqJXKjhlPBraJmzGnuJUlO75iT6dTWiIZH5E165eUlnxgewoukO1x9rpck8oQDB7e9HMHKd8vhmb/hGyGgJVc4456Vlz+8a8uhxh0t1ZgylSK2uY2Igs1jIXjyFb5XHqKAsXYJZrjO1F2sMFu+KGM63SdNe7tGgto921fmArGUrMtRueWa7HLb6ld20wKvFIyEH2Nap3Zkz6O+CUrS/D2FWOdkzqPpWlPdkyPR60IuJQBW1DT7bVLRrW7iWWFiCVPQ4OalpMadidUVIwijCqMADtTA5zUFSS3vVQfNzkd+leXiFqzuovQ8B1GBkvpARtIY4/Ot4O8TOS1Io9Imv7xAqcEgdO1EqigtQjByZ1tv4bt7aEqFLynv0rgeIlKR3Kgoo6Lw34IR2W6mDRgHhfWuyLckcskkzvxY2/wBn8jA2YxitOVWI5mcnqngOCRZJYMb+SBSakkCaZyWpeGd0TL5JWcDnjg1zKs4SszodJSjdHL/2a1mGQjaCc812KXMcjjys9H+G9iWinmYHnCg4rKWs0i1pE87+NHhiXTfF51CKEi1vQHDAcb8cj6966rWZz3uj1r4NWL2fw+tvMBBlkeQA+mcf0qqZMjv60IEpDCmBQ1fVYdKsmmkI3dFHqazqT5UXCPMzgfD3iT7fr97bzsT53KDtXnz11Z2RVtEZ/ijwv9ovg8EaJk5LVgq3s3Zm3s+dXRPaaXFY2saYGQOTXLUqOTOqnBRRvWelgQG4YgYGQMd63pUtOZmVSrryla88Vx2A2gCUp97aa6oSexzySW5zUvj8jUPNXeYzgeXngVfJInnijrtJ8V29+FbYVJGMk8VXM1uTZPY3msorq33si7sdRRKmpxuCqOLscF4g0D7UqGFR5gcj8K5qdTkbTN5w5ldHXeF7OHSLOC3chZJDnB7muqi05XZy1U0rI3NU0ew1m1+zX9tHPFnO1xnmu1xTOVSaLNvbw2lukEEaxxRjaqqMACmlYTdyWgQlIoM0AeRfErWwbwxK5Cx/KB79646j5pHTTVonn+m6wbTVYbtpdio3zZPUfTrUyV1YtPW57Fb6raa3pQurd8lRg8V52IjodlB6lGQq6lVboea479jr2N9ZAdIJcjIQ9K9Wm/3Z5817541qurrpFzqaXIx543RBjwM9ea6KSulYwq6NnEpPdSzNNby/u3PADZrpMNTtPDOpC406bTftP+ku6quGzjmsqlrGlO9z3XTS0Okxh23bUxn14qE7QKkryMpHDXJz9SK8295nda0Th9d8Sm+1tUtpGQQt8nYgiu1K2pyvsen+GNaGtaUsrcSp8sg9/Wu6lPmRx1I8rNutTMM0DG0gK97P9nsppv7iE1M3aI0rs+bvF1/LNqLnOT1zXHHudT0Rx+5433E7d3XJ5NWQeq/C2QyRXtvNICjoGRd4z+VcuJgmtTpoSaOt8tbe4eMY2NyBivNcbaHfzXRsBY5dKI3dB+VehCzgccr855T4y077Sp80Kdp4JHataMrGVWNzkFRoJY0EYHcBVwMD2rquc9jsvBOiompPdCKJGk+7gcCsasuZWNqUbO57NbQFLVVZsgL2pKPug5amYwht47m7lwEhU5PsBXHGneVzplP3bHjpuUl1CS5jkLwM2d23DJn1rttpY5b6nf8Aw3v2i1q4s2PyTJuX0OK0pO0jOqro9TrrOcKAG0gM3XmC6Jd7iAPLNZ1fhLh8R8za5cedfSODwD36VyrQ6Gc40iRsXdgSTnnt/wDXrWOpmzW8M+ILnS9eN/CG8sA7kP8AEDxj+VTUpqUbFQm4u560usDU4Le5jVgJOgHb/wCtXnex5Xqdyqpo6G2W4kszlW6cEjrWii0ieZMybnRYrncJAXIPKj/E04zE4mNL4TmkuRILaNYhxjOW/Oq52TyI3NN0FrSQNHu4A4xxS5mx2SOvDSR2RQZLbetbraxk7XPMvGPid49Pm0uzfEo+aVgeCAeV/SopU9bsdSehw1ldLIC8a+WzEBo+34fXHSt5IyR12gXps/E9l5ZIPmJgegPBFRHuOXY97ByAa70cgUAMpAc/4zYp4auiB29axrbGlPc+aNTcmRsVijVmJtEr/OwBHbFMkjjuGhkmA4DJtHHqRWkUI9K8IzzW1lbyEu5BCqpPTpxj61hUWprB6HtelztcWqGSIDI6URSa1CTs9CzPDGqM6xru+lEoJK44zbMjUdT+wwrJ5KuhIBXHNZ6F6mFrHjaK0AFuUCMdu9f4SPWtEiLnmuv+OtVlmkh8+WNHByFYqRn9DVqCJczlzqEkskkhOZXwTk9+5/Hn86qxNyaxdhO2D8mePYZpSHE9L8K6TJfeIdPu1DMvDP6DFZxd3ylS2ue4AYAFdxxhTGMpAcx48uUt/Dcyt/y04rnrPSxrSWp85aom1jxwelZxNGYD/JLnn3xwaogdDaiYvIQw4GPrVXA9R8BRRxmPzX3KjZ5557Cs57mkT2azaNgojIIHpTiTIszAeW1OS0CO5zup2jXNowX7yHcBXNY3ueL+I4riwlnjZdqOxbFdEHcykrHHyyF38vcWzzWhmJCrb/3nGDjNK40bdhGpIA5HrUMtHuHw0uYWhktzt8xQCv0p0Uucmq3ynoua6zmCgCF3CKWY4AGSahuwzy3xZ4ph1O/W0ij82CM/Nzj8a4qsnJnVTjymDeeEbLVLXzYsRsR/eOK5fbyizf2akjgdY8G39izMoEidiprphXjIxlRaMuXT9Rs7UBoXRWOenWt1JMz5WjX0nV7qER2ttGQ7AnHcep/nSaW40z3LwKZ20WOS4Zizc5NRDcqWx1Ex4q5ExM6RxGXJPQc1jszXoeJ/EnUhe6sEhXMcS7OP7xDA/wBK1p9yJnBxRLEcu33hxVmZYVxN8q85PbvRsM6nw7ol3eSqqqAO/OaxnUSNIxbPTvDGmyaLr9ssiSDzMru/hPFKnK8kFRe6eoA5rvOMBQB//9k=\" alt=\"<Image>\" /></div></td><td><div style=\"text-align:left; max-width:192px; max-height:64px; overflow:auto\">ruffles loves Ernesto!</div></td></tr>\n",
       "<tr><td><div style=\"text-align:left; max-width:192px; max-height:64px; overflow:auto\">Bruce</div></td><td><div style=\"text-align:left; max-width:192px; max-height:64px; overflow:auto\">Lee</div></td><td><div style=\"text-align:left; max-width:192px; max-height:64px; overflow:auto\">China</div></td><td><div style=\"text-align:left; max-width:192px; max-height:64px; overflow:auto\">Asia</div></td><td><div style=\"text-align:left; max-width:192px; max-height:64px; overflow:auto\">Bruce Lee</div></td><td><div style=\"text-align:left; max-width:192px; max-height:64px; overflow:auto\">&lt;__main__.Dog object at 0x105d10250&gt;</div></td><td><div style=\"text-align:left; max-width:192px; max-height:64px; overflow:auto\">shnoodles!</div></td><td><div style=\"text-align:left; max-width:192px; max-height:64px; overflow:auto\"><img style=\"max-height:128px;width:auto\" src=\"data:image/png;base64, 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\" alt=\"<Image>\" /></div></td><td><div style=\"text-align:left; max-width:192px; max-height:64px; overflow:auto\">shnoodles loves Bruce!</div></td></tr>\n",
       "<tr><td><div style=\"text-align:left; max-width:192px; max-height:64px; overflow:auto\">Jack</div></td><td><div style=\"text-align:left; max-width:192px; max-height:64px; overflow:auto\">Ma</div></td><td><div style=\"text-align:left; max-width:192px; max-height:64px; overflow:auto\">China</div></td><td><div style=\"text-align:left; max-width:192px; max-height:64px; overflow:auto\">Asia</div></td><td><div style=\"text-align:left; max-width:192px; max-height:64px; overflow:auto\">Jack Ma</div></td><td><div style=\"text-align:left; max-width:192px; max-height:64px; overflow:auto\">&lt;__main__.Dog object at 0x12bed5e10&gt;</div></td><td><div style=\"text-align:left; max-width:192px; max-height:64px; overflow:auto\">waffles!</div></td><td><div style=\"text-align:left; max-width:192px; max-height:64px; overflow:auto\"><img style=\"max-height:128px;width:auto\" src=\"data:image/png;base64, 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\" alt=\"<Image>\" /></div></td><td><div style=\"text-align:left; max-width:192px; max-height:64px; overflow:auto\">waffles loves Jack!</div></td></tr>\n",
       "<tr><td><div style=\"text-align:left; max-width:192px; max-height:64px; overflow:auto\">Wolfgang</div></td><td><div style=\"text-align:left; max-width:192px; max-height:64px; overflow:auto\">Manche</div></td><td><div style=\"text-align:left; max-width:192px; max-height:64px; overflow:auto\">Germany</div></td><td><div style=\"text-align:left; max-width:192px; max-height:64px; overflow:auto\">NaN</div></td><td><div style=\"text-align:left; max-width:192px; max-height:64px; overflow:auto\">Wolfgang Manche</div></td><td><div style=\"text-align:left; max-width:192px; max-height:64px; overflow:auto\">&lt;__main__.Dog object at 0x12be58f90&gt;</div></td><td><div style=\"text-align:left; max-width:192px; max-height:64px; overflow:auto\">doofus!</div></td><td><div style=\"text-align:left; max-width:192px; max-height:64px; overflow:auto\"><img style=\"max-height:128px;width:auto\" src=\"data:image/png;base64, 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\" alt=\"<Image>\" /></div></td><td><div style=\"text-align:left; max-width:192px; max-height:64px; overflow:auto\">doofus loves Wolfgang!</div></td></tr>\n",
       "<tr><td><div style=\"text-align:left; max-width:192px; max-height:64px; overflow:auto\">Soraya</div></td><td><div style=\"text-align:left; max-width:192px; max-height:64px; overflow:auto\">Jala</div></td><td><div style=\"text-align:left; max-width:192px; max-height:64px; overflow:auto\">Germany</div></td><td><div style=\"text-align:left; max-width:192px; max-height:64px; overflow:auto\">NaN</div></td><td><div style=\"text-align:left; max-width:192px; max-height:64px; overflow:auto\">Soraya Jala</div></td><td><div style=\"text-align:left; max-width:192px; max-height:64px; overflow:auto\">&lt;__main__.Dog object at 0x12bec6610&gt;</div></td><td><div style=\"text-align:left; max-width:192px; max-height:64px; overflow:auto\">Fluffles!</div></td><td><div style=\"text-align:left; max-width:192px; max-height:64px; overflow:auto\"><img style=\"max-height:128px;width:auto\" src=\"data:image/png;base64, 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\" alt=\"<Image>\" /></div></td><td><div style=\"text-align:left; max-width:192px; max-height:64px; overflow:auto\">Fluffles loves Soraya!</div></td></tr>\n",
       "</tbody>\n",
       "</table>\n",
       "<small>(Showing first 5 of 5 rows)</small>\n",
       "</div>"
      ],
      "text/plain": [
       "╭────────────┬───────────┬───────────┬────────────┬────────────────┬──────────────┬────────────────────────╮\n",
       "│ first_name ┆ last_name ┆ country   ┆      …     ┆ dogs_bark_name ┆ image        ┆ custom_bark            │\n",
       "│ ---        ┆ ---       ┆ ---       ┆            ┆ ---            ┆ ---          ┆ ---                    │\n",
       "│ Utf8       ┆ Utf8      ┆ Utf8      ┆ (3 hidden) ┆ Utf8           ┆ Image[MIXED] ┆ Utf8                   │\n",
       "╞════════════╪═══════════╪═══════════╪════════════╪════════════════╪══════════════╪════════════════════════╡\n",
       "│ Ernesto    ┆ Guevara   ┆ Argentina ┆ …          ┆ ruffles!       ┆ <Image>      ┆ ruffles loves Ernesto! │\n",
       "├╌╌╌╌╌╌╌╌╌╌╌╌┼╌╌╌╌╌╌╌╌╌╌╌┼╌╌╌╌╌╌╌╌╌╌╌┼╌╌╌╌╌╌╌╌╌╌╌╌┼╌╌╌╌╌╌╌╌╌╌╌╌╌╌╌╌┼╌╌╌╌╌╌╌╌╌╌╌╌╌╌┼╌╌╌╌╌╌╌╌╌╌╌╌╌╌╌╌╌╌╌╌╌╌╌╌┤\n",
       "│ Bruce      ┆ Lee       ┆ China     ┆ …          ┆ shnoodles!     ┆ <Image>      ┆ shnoodles loves Bruce! │\n",
       "├╌╌╌╌╌╌╌╌╌╌╌╌┼╌╌╌╌╌╌╌╌╌╌╌┼╌╌╌╌╌╌╌╌╌╌╌┼╌╌╌╌╌╌╌╌╌╌╌╌┼╌╌╌╌╌╌╌╌╌╌╌╌╌╌╌╌┼╌╌╌╌╌╌╌╌╌╌╌╌╌╌┼╌╌╌╌╌╌╌╌╌╌╌╌╌╌╌╌╌╌╌╌╌╌╌╌┤\n",
       "│ Jack       ┆ Ma        ┆ China     ┆ …          ┆ waffles!       ┆ <Image>      ┆ waffles loves Jack!    │\n",
       "├╌╌╌╌╌╌╌╌╌╌╌╌┼╌╌╌╌╌╌╌╌╌╌╌┼╌╌╌╌╌╌╌╌╌╌╌┼╌╌╌╌╌╌╌╌╌╌╌╌┼╌╌╌╌╌╌╌╌╌╌╌╌╌╌╌╌┼╌╌╌╌╌╌╌╌╌╌╌╌╌╌┼╌╌╌╌╌╌╌╌╌╌╌╌╌╌╌╌╌╌╌╌╌╌╌╌┤\n",
       "│ Wolfgang   ┆ Manche    ┆ Germany   ┆ …          ┆ doofus!        ┆ <Image>      ┆ doofus loves Wolfgang! │\n",
       "├╌╌╌╌╌╌╌╌╌╌╌╌┼╌╌╌╌╌╌╌╌╌╌╌┼╌╌╌╌╌╌╌╌╌╌╌┼╌╌╌╌╌╌╌╌╌╌╌╌┼╌╌╌╌╌╌╌╌╌╌╌╌╌╌╌╌┼╌╌╌╌╌╌╌╌╌╌╌╌╌╌┼╌╌╌╌╌╌╌╌╌╌╌╌╌╌╌╌╌╌╌╌╌╌╌╌┤\n",
       "│ Soraya     ┆ Jala      ┆ Germany   ┆ …          ┆ Fluffles!      ┆ <Image>      ┆ Fluffles loves Soraya! │\n",
       "╰────────────┴───────────┴───────────┴────────────┴────────────────┴──────────────┴────────────────────────╯\n",
       "\n",
       "(Showing first 5 of 5 rows)"
      ]
     },
     "metadata": {},
     "output_type": "display_data"
    }
   ],
   "source": [
    "from daft import udf\n",
    "\n",
    "@udf(return_dtype=DataType.string())\n",
    "def custom_bark(dog_series, owner_series):\n",
    "    return [\n",
    "        f\"{dog.name} loves {owner_name}!\"\n",
    "        for dog, owner_name\n",
    "        in zip(dog_series.to_pylist(), owner_series.to_pylist())\n",
    "    ]\n",
    "\n",
    "df_family.with_column(\"custom_bark\", custom_bark(df_family[\"dogs\"], df_family[\"first_name\"])).show()"
   ]
  },
  {
   "cell_type": "markdown",
   "id": "0f119f30-c4a2-4b3d-9c78-72640b6c60b3",
   "metadata": {},
   "source": [
    "Daft supports workloads with [many more data types](https://www.getdaft.io/projects/docs/en/latest/api_docs/datatype.html) than traditional DataFrame APIs. \n",
    "\n",
    "By combining multimodal data support with the UDF functionality you can [run ML workloads](https://www.getdaft.io/projects/docs/en/latest/user_guide/tutorials.html#mnist-digit-classification) right within your DataFrame."
   ]
  },
  {
   "cell_type": "code",
   "execution_count": null,
   "id": "ac098b0e-e732-4da4-952f-20b55aaeac41",
   "metadata": {},
   "outputs": [],
   "source": []
  },
  {
   "cell_type": "markdown",
   "id": "49ca307a-6f0b-4d9d-bd18-6fd02ff7f800",
   "metadata": {},
   "source": [
    "## When should I use Daft DataFrames?"
   ]
  },
  {
   "cell_type": "markdown",
   "id": "42075cef-90f2-4d91-9a7f-6ba7b5369196",
   "metadata": {},
   "source": [
    "Daft DataFrames are designed for multimodal, distributed workloads. \n",
    "\n",
    "You may want to consider using Daft if you're working with:\n",
    "\n",
    "1. **Large datasets** that don't fit into memory or would benefit from parallelization\n",
    "2. **Multimodal data types**, such as images, JSON, vector embeddings, and tensors\n",
    "3. **ML workloads** that would benefit from interactive computation within DataFrame (via UDFs)\n",
    "4 ...\n",
    "\n",
    "Take a look at the [Daft tutorials](https://www.getdaft.io/projects/docs/en/latest/user_guide/tutorials.html) for in-depth examples of each use case."
   ]
  },
  {
   "cell_type": "markdown",
   "id": "d6283a50-8bff-4e97-a926-7a62b0e7f9f9",
   "metadata": {},
   "source": [
    "## Contribute to `daft`"
   ]
  },
  {
   "cell_type": "markdown",
   "id": "9801b4bd-b3dc-44d4-926b-3dfee6cda151",
   "metadata": {},
   "source": [
    "Excited about Daft and want to contribute? Join us on [Github](https://github.com/Eventual-Inc/Daft) 🚀"
   ]
  },
  {
   "cell_type": "code",
   "execution_count": null,
   "id": "b6843f77-2d07-4f31-afc3-cc58b48418c6",
   "metadata": {},
   "outputs": [],
   "source": []
  }
 ],
 "metadata": {
  "kernelspec": {
   "display_name": "Python [conda env:daft] *",
   "language": "python",
   "name": "conda-env-daft-py"
  },
  "language_info": {
   "codemirror_mode": {
    "name": "ipython",
    "version": 3
   },
   "file_extension": ".py",
   "mimetype": "text/x-python",
   "name": "python",
   "nbconvert_exporter": "python",
   "pygments_lexer": "ipython3",
   "version": "3.11.8"
  }
 },
 "nbformat": 4,
 "nbformat_minor": 5
}
