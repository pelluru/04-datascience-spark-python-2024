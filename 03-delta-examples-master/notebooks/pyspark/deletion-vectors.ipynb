{
 "cells": [
  {
   "cell_type": "markdown",
   "id": "dbac73d1-5514-4946-92c6-73b3490b2c50",
   "metadata": {},
   "source": [
    "# MiniBench: Total time DV vs. CoW as % of file deleted\n",
    "\n",
    "This example will run the DELETE operation w/ Deletion Vectors vs. traditional CoW across two dimensions: number of files touched, and % of file deleted."
   ]
  },
  {
   "cell_type": "code",
   "execution_count": null,
   "id": "c266f7fb-426d-45e2-afbc-4bda2347a09d",
   "metadata": {},
   "outputs": [],
   "source": [
    "from delta.tables import *\n",
    "from pyspark.sql.functions import lit, expr, col\n",
    "from dataclasses import dataclass\n",
    "import time"
   ]
  },
  {
   "cell_type": "code",
   "execution_count": null,
   "id": "6c227d62-4c93-4fbd-8299-c88cf5d73e72",
   "metadata": {},
   "outputs": [],
   "source": [
    "t1 = \"/tmp/tables/t10_1000000\"\n",
    "t2 = \"/tmp/tables/t10_1000000_nondv\""
   ]
  },
  {
   "cell_type": "code",
   "execution_count": null,
   "id": "a5e0bf5c-60de-49af-bf37-399e39b243ef",
   "metadata": {},
   "outputs": [],
   "source": [
    "def write_num_files_parquet(path, num_files, num_rows):\n",
    "    for i in range(1, num_files + 1):\n",
    "        (\n",
    "            spark.range(0, num_rows, 1, 1)\n",
    "            .withColumn(\"data\", expr(\"uuid()\"))\n",
    "            .withColumn(\"file\", lit(i))\n",
    "            .write.format(\"parquet\")\n",
    "            .mode(\"append\")\n",
    "            .save(path)\n",
    "        )\n",
    "\n",
    "\n",
    "# returns time taken to (delete, read)\n",
    "def delete_and_read(dt, num_files, num_rows):\n",
    "    start_time = time.time_ns()\n",
    "    dt.delete((col(\"id\") < num_rows) & (col(\"file\") <= int(num_files)))\n",
    "    time_to_delete = time.time_ns() - start_time\n",
    "\n",
    "    start_time = time.time_ns()\n",
    "    dt.toDF().selectExpr(\"sum(id)\").collect()\n",
    "    time_to_read = time.time_ns() - start_time\n",
    "\n",
    "    return (time_to_delete, time_to_read)"
   ]
  },
  {
   "cell_type": "code",
   "execution_count": null,
   "id": "727e2f21-4710-4e12-9887-b899631c192b",
   "metadata": {},
   "outputs": [],
   "source": [
    "num_files = 10\n",
    "num_rows = 1000000"
   ]
  },
  {
   "cell_type": "code",
   "execution_count": null,
   "id": "fa214a07-3182-431e-bf74-9262ad3eaf67",
   "metadata": {},
   "outputs": [],
   "source": [
    "write_num_files_parquet(t1, num_files, num_rows)\n",
    "write_num_files_parquet(t2, num_files, num_rows)"
   ]
  },
  {
   "cell_type": "code",
   "execution_count": null,
   "id": "3f93bb71-c3d6-4e62-8766-951c568ad691",
   "metadata": {},
   "outputs": [],
   "source": [
    "dt1 = DeltaTable.convertToDelta(spark, \"parquet.`%s`\" % t1)\n",
    "dt2 = DeltaTable.convertToDelta(spark, \"parquet.`%s`\" % t2)"
   ]
  },
  {
   "cell_type": "code",
   "execution_count": null,
   "id": "694ddeb7-2ecf-4661-8c86-93ebad1d1261",
   "metadata": {},
   "outputs": [],
   "source": [
    "# enable Deletion Vectors table feature\n",
    "spark.sql(\n",
    "    \"ALTER TABLE delta.`%s` SET TBLPROPERTIES ('delta.enableDeletionVectors' = true)\"\n",
    "    % t1\n",
    ")"
   ]
  },
  {
   "cell_type": "code",
   "execution_count": null,
   "id": "72a255e8-0819-41f1-adfc-c2d909478f0e",
   "metadata": {},
   "outputs": [],
   "source": [
    "@dataclass\n",
    "class TestResult:\n",
    "    mode: str\n",
    "    percent_file_deleted: int\n",
    "    num_files_touched: int\n",
    "    run: str\n",
    "    time_to_delete: float\n",
    "    time_to_read: float"
   ]
  },
  {
   "cell_type": "code",
   "execution_count": null,
   "id": "dcc1cd8f-f48b-4e2a-8c3e-e3e2ac054dd5",
   "metadata": {},
   "outputs": [],
   "source": [
    "percent_of_file_range = list(range(1, 31, 2))  # 1,3,..29\n",
    "num_file_range = list(range(1, 11))  # 1,2,..10\n",
    "amount_of_iterations_to_smooth = 3\n",
    "results = []"
   ]
  },
  {
   "cell_type": "code",
   "execution_count": null,
   "id": "ccba9579-e4b4-4339-8a65-d1f8006adcaf",
   "metadata": {},
   "outputs": [],
   "source": [
    "dt1.history().select(\"version\", \"operation\").show()\n",
    "dt2.history().select(\"version\", \"operation\").show()"
   ]
  },
  {
   "cell_type": "code",
   "execution_count": null,
   "id": "c77958dc-eaaa-4a16-9c94-b5d1e0fa1d6a",
   "metadata": {},
   "outputs": [],
   "source": [
    "for num_files in num_file_range:\n",
    "    for percent in percent_of_file_range:\n",
    "        # for each of 2 dimensions (number of files touched, percent of file deleted)\n",
    "        for run in range(0, amount_of_iterations_to_smooth):\n",
    "            # for this number of iterations (to smooth out noise)\n",
    "\n",
    "            # delete and read using DV enabled table and append to results\n",
    "            (ted, ter) = delete_and_read(dt1, num_files, (percent * 0.01) * num_rows)\n",
    "            tr = TestResult(\n",
    "                mode=\"MoR\",\n",
    "                percent_file_deleted=percent,\n",
    "                num_files_touched=num_files,\n",
    "                run=run,\n",
    "                time_to_delete=ted,\n",
    "                time_to_read=ter,\n",
    "            )\n",
    "            results.append(tr)\n",
    "            print(tr)\n",
    "\n",
    "            # delete and read using non DV enabled table and append to results\n",
    "            (ted, ter) = delete_and_read(dt2, num_files, (percent * 0.01) * num_rows)\n",
    "            tr = TestResult(\n",
    "                mode=\"CoW\",\n",
    "                percent_file_deleted=percent,\n",
    "                num_files_touched=num_files,\n",
    "                run=run,\n",
    "                time_to_delete=ted,\n",
    "                time_to_read=ter,\n",
    "            )\n",
    "            results.append(tr)\n",
    "            print(tr)\n",
    "\n",
    "            dt1.restoreToVersion(1)  # restore to setting DV feature flag (DV table)\n",
    "            dt2.restoreToVersion(0)  # restore to convert (non DV table)"
   ]
  }
 ],
 "metadata": {
  "kernelspec": {
   "display_name": "Python 3 (ipykernel)",
   "language": "python",
   "name": "python3"
  },
  "language_info": {
   "codemirror_mode": {
    "name": "ipython",
    "version": 3
   },
   "file_extension": ".py",
   "mimetype": "text/x-python",
   "name": "python",
   "nbconvert_exporter": "python",
   "pygments_lexer": "ipython3",
   "version": "3.9.18"
  },
  "widgets": {
   "application/vnd.jupyter.widget-state+json": {
    "state": {},
    "version_major": 2,
    "version_minor": 0
   }
  }
 },
 "nbformat": 4,
 "nbformat_minor": 5
}
