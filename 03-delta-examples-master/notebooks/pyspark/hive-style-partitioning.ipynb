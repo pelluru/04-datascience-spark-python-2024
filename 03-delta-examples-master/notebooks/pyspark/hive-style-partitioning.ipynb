{
 "cells": [
  {
   "cell_type": "markdown",
   "id": "93d151b5-1b73-43bd-94cd-563c3a333452",
   "metadata": {},
   "source": [
    "# Hive style partitioning in Delta"
   ]
  },
  {
   "cell_type": "code",
   "execution_count": 1,
   "id": "f5d6b24b-e8d4-43b6-a667-38cf86840f66",
   "metadata": {},
   "outputs": [],
   "source": [
    "import delta\n",
    "import pyspark\n",
    "import pyspark.sql.functions as F\n",
    "from delta import configure_spark_with_delta_pip"
   ]
  },
  {
   "cell_type": "code",
   "execution_count": 2,
   "id": "1359ae61-2af4-42c5-8979-4eff4003cd19",
   "metadata": {},
   "outputs": [],
   "source": [
    "builder = (\n",
    "    pyspark.sql.SparkSession.builder.appName(\"MyApp\")\n",
    "    .config(\"spark.sql.extensions\", \"io.delta.sql.DeltaSparkSessionExtension\")\n",
    "    .config(\n",
    "        \"spark.sql.catalog.spark_catalog\",\n",
    "        \"org.apache.spark.sql.delta.catalog.DeltaCatalog\",\n",
    "    )\n",
    ")"
   ]
  },
  {
   "cell_type": "code",
   "execution_count": 3,
   "id": "f31244d6-9732-4325-b050-beac481eb3b4",
   "metadata": {},
   "outputs": [
    {
     "name": "stdout",
     "output_type": "stream",
     "text": [
      ":: loading settings :: url = jar:file:/Users/matthew.powers/opt/miniconda3/envs/pyspark-330-delta-210/lib/python3.9/site-packages/pyspark/jars/ivy-2.5.0.jar!/org/apache/ivy/core/settings/ivysettings.xml\n"
     ]
    },
    {
     "name": "stderr",
     "output_type": "stream",
     "text": [
      "Ivy Default Cache set to: /Users/matthew.powers/.ivy2/cache\n",
      "The jars for the packages stored in: /Users/matthew.powers/.ivy2/jars\n",
      "io.delta#delta-core_2.12 added as a dependency\n",
      ":: resolving dependencies :: org.apache.spark#spark-submit-parent-179ee808-595f-4183-a307-c3ea75b0c9ba;1.0\n",
      "\tconfs: [default]\n",
      "\tfound io.delta#delta-core_2.12;2.1.0 in central\n",
      "\tfound io.delta#delta-storage;2.1.0 in central\n",
      "\tfound org.antlr#antlr4-runtime;4.8 in central\n",
      "\tfound org.codehaus.jackson#jackson-core-asl;1.9.13 in central\n",
      ":: resolution report :: resolve 126ms :: artifacts dl 5ms\n",
      "\t:: modules in use:\n",
      "\tio.delta#delta-core_2.12;2.1.0 from central in [default]\n",
      "\tio.delta#delta-storage;2.1.0 from central in [default]\n",
      "\torg.antlr#antlr4-runtime;4.8 from central in [default]\n",
      "\torg.codehaus.jackson#jackson-core-asl;1.9.13 from central in [default]\n",
      "\t---------------------------------------------------------------------\n",
      "\t|                  |            modules            ||   artifacts   |\n",
      "\t|       conf       | number| search|dwnlded|evicted|| number|dwnlded|\n",
      "\t---------------------------------------------------------------------\n",
      "\t|      default     |   4   |   0   |   0   |   0   ||   4   |   0   |\n",
      "\t---------------------------------------------------------------------\n",
      ":: retrieving :: org.apache.spark#spark-submit-parent-179ee808-595f-4183-a307-c3ea75b0c9ba\n",
      "\tconfs: [default]\n",
      "\t0 artifacts copied, 4 already retrieved (0kB/4ms)\n"
     ]
    },
    {
     "name": "stdout",
     "output_type": "stream",
     "text": [
      "23/04/06 12:32:04 WARN NativeCodeLoader: Unable to load native-hadoop library for your platform... using builtin-java classes where applicable\n"
     ]
    },
    {
     "name": "stderr",
     "output_type": "stream",
     "text": [
      "Setting default log level to \"WARN\".\n",
      "To adjust logging level use sc.setLogLevel(newLevel). For SparkR, use setLogLevel(newLevel).\n"
     ]
    }
   ],
   "source": [
    "spark = configure_spark_with_delta_pip(builder).getOrCreate()"
   ]
  },
  {
   "cell_type": "code",
   "execution_count": 4,
   "id": "2d7b2785-326a-4a95-925c-516be66a2f30",
   "metadata": {},
   "outputs": [],
   "source": [
    "df = spark.createDataFrame(\n",
    "    [\n",
    "        (\"Ernesto\", \"Guevara\", \"Argentina\"),\n",
    "        (\"Maria\", \"Sharapova\", \"Russia\"),\n",
    "        (\"Bruce\", \"Lee\", \"China\"),\n",
    "        (\"Jack\", \"Ma\", \"China\"),\n",
    "    ]\n",
    ").toDF(\"first_name\", \"last_name\", \"country\")"
   ]
  },
  {
   "cell_type": "code",
   "execution_count": 5,
   "id": "1eb5ab3c-59d1-44fb-8afc-779bd5d3f199",
   "metadata": {
    "tags": []
   },
   "outputs": [
    {
     "name": "stderr",
     "output_type": "stream",
     "text": [
      "[Stage 0:>                                                          (0 + 1) / 1]\r"
     ]
    },
    {
     "name": "stdout",
     "output_type": "stream",
     "text": [
      "+----------+---------+---------+\n",
      "|first_name|last_name|  country|\n",
      "+----------+---------+---------+\n",
      "|   Ernesto|  Guevara|Argentina|\n",
      "|     Maria|Sharapova|   Russia|\n",
      "|     Bruce|      Lee|    China|\n",
      "|      Jack|       Ma|    China|\n",
      "+----------+---------+---------+\n",
      "\n"
     ]
    },
    {
     "name": "stderr",
     "output_type": "stream",
     "text": [
      "                                                                                \r"
     ]
    }
   ],
   "source": [
    "df.show()"
   ]
  },
  {
   "cell_type": "code",
   "execution_count": 6,
   "id": "57266313-2cf5-4807-aedf-5aa815e67d8f",
   "metadata": {},
   "outputs": [
    {
     "name": "stderr",
     "output_type": "stream",
     "text": [
      "                                                                                \r"
     ]
    }
   ],
   "source": [
    "(\n",
    "    df.repartition(F.col(\"country\"))\n",
    "    .write.partitionBy(\"country\")\n",
    "    .format(\"delta\")\n",
    "    .saveAsTable(\"country_people\")\n",
    ")"
   ]
  },
  {
   "cell_type": "code",
   "execution_count": 7,
   "id": "2b0f3ea5-d27f-4572-b8a8-f6b72592a5ca",
   "metadata": {},
   "outputs": [
    {
     "name": "stdout",
     "output_type": "stream",
     "text": [
      "\u001b[01;34mspark-warehouse/country_people\u001b[0m\n",
      "├── \u001b[01;34m_delta_log\u001b[0m\n",
      "│   └── \u001b[00m00000000000000000000.json\u001b[0m\n",
      "├── \u001b[01;34mcountry=Argentina\u001b[0m\n",
      "│   └── \u001b[00mpart-00000-0e188daf-7ed1-4a46-9786-251e5a5b7c61.c000.snappy.parquet\u001b[0m\n",
      "├── \u001b[01;34mcountry=China\u001b[0m\n",
      "│   └── \u001b[00mpart-00000-69aeadfb-3692-4765-94bc-f4b271133b35.c000.snappy.parquet\u001b[0m\n",
      "└── \u001b[01;34mcountry=Russia\u001b[0m\n",
      "    └── \u001b[00mpart-00000-d3a4d532-74f9-4304-970d-b476cf296a07.c000.snappy.parquet\u001b[0m\n",
      "\n",
      "4 directories, 4 files\n"
     ]
    }
   ],
   "source": [
    "!tree spark-warehouse/country_people"
   ]
  },
  {
   "cell_type": "markdown",
   "id": "bb383b5a-0176-452e-ad57-28be48b46619",
   "metadata": {},
   "source": [
    "## Add partition to Delta table"
   ]
  },
  {
   "cell_type": "code",
   "execution_count": 7,
   "id": "0e3ed36c-3fb9-42f8-b852-4df39c080022",
   "metadata": {},
   "outputs": [],
   "source": [
    "df = spark.createDataFrame(\n",
    "    [\n",
    "        (\"Orlando\", \"Cabrera\", \"Colombia\"),\n",
    "        (\"Carlos\", \"Vives\", \"Colombia\"),\n",
    "    ]\n",
    ").toDF(\"first_name\", \"last_name\", \"country\")"
   ]
  },
  {
   "cell_type": "code",
   "execution_count": 8,
   "id": "42a56091-72b2-4424-8cc9-a5ddb7474745",
   "metadata": {},
   "outputs": [
    {
     "name": "stderr",
     "output_type": "stream",
     "text": [
      "                                                                                \r"
     ]
    }
   ],
   "source": [
    "df.repartition(F.col(\"country\")).write.mode(\"append\").partitionBy(\"country\").format(\n",
    "    \"delta\"\n",
    ").saveAsTable(\"country_people\")"
   ]
  },
  {
   "cell_type": "code",
   "execution_count": 9,
   "id": "a137de1e-ad70-4eb3-8f56-e8f31c307c18",
   "metadata": {},
   "outputs": [
    {
     "name": "stdout",
     "output_type": "stream",
     "text": [
      "\u001b[01;34mspark-warehouse/country_people\u001b[0m\n",
      "├── \u001b[01;34m_delta_log\u001b[0m\n",
      "│   ├── \u001b[00m00000000000000000000.json\u001b[0m\n",
      "│   └── \u001b[00m00000000000000000001.json\u001b[0m\n",
      "├── \u001b[01;34mcountry=Argentina\u001b[0m\n",
      "│   └── \u001b[00mpart-00000-03ceafc8-b9b5-4309-8457-6e50814aaa8b.c000.snappy.parquet\u001b[0m\n",
      "├── \u001b[01;34mcountry=China\u001b[0m\n",
      "│   └── \u001b[00mpart-00000-9a8d67fa-c23d-41a4-b570-a45405f9ad78.c000.snappy.parquet\u001b[0m\n",
      "├── \u001b[01;34mcountry=Colombia\u001b[0m\n",
      "│   └── \u001b[00mpart-00000-7e3d3d49-39e9-4eb2-ab92-22a485291f91.c000.snappy.parquet\u001b[0m\n",
      "└── \u001b[01;34mcountry=Russia\u001b[0m\n",
      "    └── \u001b[00mpart-00000-c49ca623-ea69-4088-8d85-c7c2de30cc28.c000.snappy.parquet\u001b[0m\n",
      "\n",
      "5 directories, 6 files\n"
     ]
    }
   ],
   "source": [
    "!tree spark-warehouse/country_people"
   ]
  },
  {
   "cell_type": "markdown",
   "id": "8137f170-9331-4ed1-b53d-c97c313abbc6",
   "metadata": {},
   "source": [
    "## Remove partition from Delta table"
   ]
  },
  {
   "cell_type": "code",
   "execution_count": 10,
   "id": "53832e27-c6ee-4017-ad86-34063f43a870",
   "metadata": {},
   "outputs": [],
   "source": [
    "dt = delta.DeltaTable.forName(spark, \"country_people\")"
   ]
  },
  {
   "cell_type": "code",
   "execution_count": 11,
   "id": "b90d87e8-e027-4f0c-b482-afe290af3c50",
   "metadata": {},
   "outputs": [
    {
     "name": "stderr",
     "output_type": "stream",
     "text": [
      "                                                                                \r"
     ]
    }
   ],
   "source": [
    "dt.delete(F.col(\"country\") == \"Argentina\")"
   ]
  },
  {
   "cell_type": "code",
   "execution_count": 12,
   "id": "1ef8a035-1063-4754-8931-a49dc065be47",
   "metadata": {},
   "outputs": [
    {
     "name": "stdout",
     "output_type": "stream",
     "text": [
      "\u001b[01;34mspark-warehouse/country_people\u001b[0m\n",
      "├── \u001b[01;34m_delta_log\u001b[0m\n",
      "│   ├── \u001b[00m00000000000000000000.json\u001b[0m\n",
      "│   ├── \u001b[00m00000000000000000001.json\u001b[0m\n",
      "│   └── \u001b[00m00000000000000000002.json\u001b[0m\n",
      "├── \u001b[01;34mcountry=Argentina\u001b[0m\n",
      "│   └── \u001b[00mpart-00000-03ceafc8-b9b5-4309-8457-6e50814aaa8b.c000.snappy.parquet\u001b[0m\n",
      "├── \u001b[01;34mcountry=China\u001b[0m\n",
      "│   └── \u001b[00mpart-00000-9a8d67fa-c23d-41a4-b570-a45405f9ad78.c000.snappy.parquet\u001b[0m\n",
      "├── \u001b[01;34mcountry=Colombia\u001b[0m\n",
      "│   └── \u001b[00mpart-00000-7e3d3d49-39e9-4eb2-ab92-22a485291f91.c000.snappy.parquet\u001b[0m\n",
      "└── \u001b[01;34mcountry=Russia\u001b[0m\n",
      "    └── \u001b[00mpart-00000-c49ca623-ea69-4088-8d85-c7c2de30cc28.c000.snappy.parquet\u001b[0m\n",
      "\n",
      "5 directories, 7 files\n"
     ]
    }
   ],
   "source": [
    "!tree spark-warehouse/country_people"
   ]
  },
  {
   "cell_type": "code",
   "execution_count": 13,
   "id": "c2c9e8bc-7b60-43fc-8b4c-8aa58c69ce32",
   "metadata": {},
   "outputs": [],
   "source": [
    "dt = delta.DeltaTable.forName(spark, \"country_people\")"
   ]
  },
  {
   "cell_type": "code",
   "execution_count": 14,
   "id": "58cefa24-a320-4a65-a317-f7e92e2feec9",
   "metadata": {},
   "outputs": [
    {
     "name": "stdout",
     "output_type": "stream",
     "text": [
      "+----------+---------+--------+\n",
      "|first_name|last_name| country|\n",
      "+----------+---------+--------+\n",
      "|     Maria|Sharapova|  Russia|\n",
      "|   Orlando|  Cabrera|Colombia|\n",
      "|    Carlos|    Vives|Colombia|\n",
      "|     Bruce|      Lee|   China|\n",
      "|      Jack|       Ma|   China|\n",
      "+----------+---------+--------+\n",
      "\n"
     ]
    }
   ],
   "source": [
    "dt.toDF().show()"
   ]
  },
  {
   "cell_type": "code",
   "execution_count": 15,
   "id": "1e5714a7-c799-42c9-b88f-98ac3b04e3cf",
   "metadata": {},
   "outputs": [],
   "source": [
    "spark.conf.set(\"spark.databricks.delta.retentionDurationCheck.enabled\", \"false\")"
   ]
  },
  {
   "cell_type": "code",
   "execution_count": 16,
   "id": "8c7dcb83-76f6-4850-b0e2-73c51c582b26",
   "metadata": {},
   "outputs": [
    {
     "name": "stderr",
     "output_type": "stream",
     "text": [
      "                                                                                \r"
     ]
    },
    {
     "name": "stdout",
     "output_type": "stream",
     "text": [
      "Deleted 1 files and directories in a total of 5 directories.\n",
      "+-----------------------------------------------------------------------------------------------------------------+\n",
      "|path                                                                                                             |\n",
      "+-----------------------------------------------------------------------------------------------------------------+\n",
      "|file:/Users/matthew.powers/Documents/code/my_apps/delta-examples/notebooks/pyspark/spark-warehouse/country_people|\n",
      "+-----------------------------------------------------------------------------------------------------------------+\n",
      "\n"
     ]
    }
   ],
   "source": [
    "spark.sql(\"VACUUM country_people RETAIN 0 HOURS\").show(truncate=False)"
   ]
  },
  {
   "cell_type": "code",
   "execution_count": 17,
   "id": "49336f58-28ce-457d-8a9f-55d0567a5cf4",
   "metadata": {},
   "outputs": [
    {
     "name": "stdout",
     "output_type": "stream",
     "text": [
      "\u001b[01;34mspark-warehouse/country_people\u001b[0m\n",
      "├── \u001b[01;34m_delta_log\u001b[0m\n",
      "│   ├── \u001b[00m00000000000000000000.json\u001b[0m\n",
      "│   ├── \u001b[00m00000000000000000001.json\u001b[0m\n",
      "│   └── \u001b[00m00000000000000000002.json\u001b[0m\n",
      "├── \u001b[01;34mcountry=Argentina\u001b[0m\n",
      "├── \u001b[01;34mcountry=China\u001b[0m\n",
      "│   └── \u001b[00mpart-00000-9a8d67fa-c23d-41a4-b570-a45405f9ad78.c000.snappy.parquet\u001b[0m\n",
      "├── \u001b[01;34mcountry=Colombia\u001b[0m\n",
      "│   └── \u001b[00mpart-00000-7e3d3d49-39e9-4eb2-ab92-22a485291f91.c000.snappy.parquet\u001b[0m\n",
      "└── \u001b[01;34mcountry=Russia\u001b[0m\n",
      "    └── \u001b[00mpart-00000-c49ca623-ea69-4088-8d85-c7c2de30cc28.c000.snappy.parquet\u001b[0m\n",
      "\n",
      "5 directories, 6 files\n"
     ]
    }
   ],
   "source": [
    "!tree spark-warehouse/country_people"
   ]
  },
  {
   "cell_type": "code",
   "execution_count": 18,
   "id": "d801a34c-ac36-45cf-ba10-8977bbba668d",
   "metadata": {},
   "outputs": [
    {
     "name": "stderr",
     "output_type": "stream",
     "text": [
      "                                                                                \r"
     ]
    },
    {
     "name": "stdout",
     "output_type": "stream",
     "text": [
      "Deleted 1 files and directories in a total of 5 directories.\n",
      "+-----------------------------------------------------------------------------------------------------------------+\n",
      "|path                                                                                                             |\n",
      "+-----------------------------------------------------------------------------------------------------------------+\n",
      "|file:/Users/matthew.powers/Documents/code/my_apps/delta-examples/notebooks/pyspark/spark-warehouse/country_people|\n",
      "+-----------------------------------------------------------------------------------------------------------------+\n",
      "\n"
     ]
    }
   ],
   "source": [
    "spark.sql(\"VACUUM country_people RETAIN 0 HOURS\").show(truncate=False)"
   ]
  },
  {
   "cell_type": "code",
   "execution_count": 19,
   "id": "76ba1eac-7b92-4a5e-966c-9a392ddac407",
   "metadata": {},
   "outputs": [
    {
     "name": "stdout",
     "output_type": "stream",
     "text": [
      "\u001b[01;34mspark-warehouse/country_people\u001b[0m\n",
      "├── \u001b[01;34m_delta_log\u001b[0m\n",
      "│   ├── \u001b[00m00000000000000000000.json\u001b[0m\n",
      "│   ├── \u001b[00m00000000000000000001.json\u001b[0m\n",
      "│   └── \u001b[00m00000000000000000002.json\u001b[0m\n",
      "├── \u001b[01;34mcountry=China\u001b[0m\n",
      "│   └── \u001b[00mpart-00000-9a8d67fa-c23d-41a4-b570-a45405f9ad78.c000.snappy.parquet\u001b[0m\n",
      "├── \u001b[01;34mcountry=Colombia\u001b[0m\n",
      "│   └── \u001b[00mpart-00000-7e3d3d49-39e9-4eb2-ab92-22a485291f91.c000.snappy.parquet\u001b[0m\n",
      "└── \u001b[01;34mcountry=Russia\u001b[0m\n",
      "    └── \u001b[00mpart-00000-c49ca623-ea69-4088-8d85-c7c2de30cc28.c000.snappy.parquet\u001b[0m\n",
      "\n",
      "4 directories, 6 files\n"
     ]
    }
   ],
   "source": [
    "!tree spark-warehouse/country_people"
   ]
  },
  {
   "cell_type": "code",
   "execution_count": null,
   "id": "54a2bb17-97ae-4dd2-859f-09bae8c8e90f",
   "metadata": {},
   "outputs": [],
   "source": []
  }
 ],
 "metadata": {
  "kernelspec": {
   "display_name": "Python [conda env:pyspark-330-delta-210]",
   "language": "python",
   "name": "conda-env-pyspark-330-delta-210-py"
  },
  "language_info": {
   "codemirror_mode": {
    "name": "ipython",
    "version": 3
   },
   "file_extension": ".py",
   "mimetype": "text/x-python",
   "name": "python",
   "nbconvert_exporter": "python",
   "pygments_lexer": "ipython3",
   "version": "3.9.13"
  }
 },
 "nbformat": 4,
 "nbformat_minor": 5
}
