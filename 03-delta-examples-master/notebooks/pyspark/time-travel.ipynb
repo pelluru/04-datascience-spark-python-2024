{
 "cells": [
  {
   "cell_type": "markdown",
   "id": "9c20ff75-d44d-4bb5-89e4-b7c818d296b3",
   "metadata": {},
   "source": [
    "# Delta Lake Time Travel"
   ]
  },
  {
   "cell_type": "code",
   "execution_count": 1,
   "id": "8484a00d-121c-41f0-af04-86cad81fa8da",
   "metadata": {},
   "outputs": [],
   "source": [
    "import delta\n",
    "import pyspark\n",
    "from delta import configure_spark_with_delta_pip"
   ]
  },
  {
   "cell_type": "code",
   "execution_count": 2,
   "id": "2e9f0d9e-f9c2-4939-a407-ae87b60eda9b",
   "metadata": {},
   "outputs": [],
   "source": [
    "builder = (\n",
    "    pyspark.sql.SparkSession.builder.appName(\"MyApp\")\n",
    "    .config(\"spark.sql.extensions\", \"io.delta.sql.DeltaSparkSessionExtension\")\n",
    "    .config(\n",
    "        \"spark.sql.catalog.spark_catalog\",\n",
    "        \"org.apache.spark.sql.delta.catalog.DeltaCatalog\",\n",
    "    )\n",
    ")"
   ]
  },
  {
   "cell_type": "code",
   "execution_count": 3,
   "id": "936d41fb-d933-402b-8239-63e66f569a44",
   "metadata": {},
   "outputs": [
    {
     "name": "stdout",
     "output_type": "stream",
     "text": [
      ":: loading settings :: url = jar:file:/Users/matthew.powers/opt/miniconda3/envs/pyspark-330-delta-210/lib/python3.9/site-packages/pyspark/jars/ivy-2.5.0.jar!/org/apache/ivy/core/settings/ivysettings.xml\n"
     ]
    },
    {
     "name": "stderr",
     "output_type": "stream",
     "text": [
      "Ivy Default Cache set to: /Users/matthew.powers/.ivy2/cache\n",
      "The jars for the packages stored in: /Users/matthew.powers/.ivy2/jars\n",
      "io.delta#delta-core_2.12 added as a dependency\n",
      ":: resolving dependencies :: org.apache.spark#spark-submit-parent-a3d5ac44-640c-4a59-8ad8-923f7468bebd;1.0\n",
      "\tconfs: [default]\n",
      "\tfound io.delta#delta-core_2.12;2.1.0 in central\n",
      "\tfound io.delta#delta-storage;2.1.0 in central\n",
      "\tfound org.antlr#antlr4-runtime;4.8 in central\n",
      "\tfound org.codehaus.jackson#jackson-core-asl;1.9.13 in central\n",
      ":: resolution report :: resolve 362ms :: artifacts dl 24ms\n",
      "\t:: modules in use:\n",
      "\tio.delta#delta-core_2.12;2.1.0 from central in [default]\n",
      "\tio.delta#delta-storage;2.1.0 from central in [default]\n",
      "\torg.antlr#antlr4-runtime;4.8 from central in [default]\n",
      "\torg.codehaus.jackson#jackson-core-asl;1.9.13 from central in [default]\n",
      "\t---------------------------------------------------------------------\n",
      "\t|                  |            modules            ||   artifacts   |\n",
      "\t|       conf       | number| search|dwnlded|evicted|| number|dwnlded|\n",
      "\t---------------------------------------------------------------------\n",
      "\t|      default     |   4   |   0   |   0   |   0   ||   4   |   0   |\n",
      "\t---------------------------------------------------------------------\n",
      ":: retrieving :: org.apache.spark#spark-submit-parent-a3d5ac44-640c-4a59-8ad8-923f7468bebd\n",
      "\tconfs: [default]\n",
      "\t0 artifacts copied, 4 already retrieved (0kB/16ms)\n"
     ]
    },
    {
     "name": "stdout",
     "output_type": "stream",
     "text": [
      "23/02/03 14:39:49 WARN NativeCodeLoader: Unable to load native-hadoop library for your platform... using builtin-java classes where applicable\n"
     ]
    },
    {
     "name": "stderr",
     "output_type": "stream",
     "text": [
      "Setting default log level to \"WARN\".\n",
      "To adjust logging level use sc.setLogLevel(newLevel). For SparkR, use setLogLevel(newLevel).\n"
     ]
    }
   ],
   "source": [
    "spark = configure_spark_with_delta_pip(builder).getOrCreate()"
   ]
  },
  {
   "cell_type": "markdown",
   "id": "67b2e6c2-7b73-4356-9ddf-5acf8985e345",
   "metadata": {},
   "source": [
    "## Create Delta table"
   ]
  },
  {
   "cell_type": "code",
   "execution_count": 4,
   "id": "4a073b70-184a-4b7e-9ecf-4bd4cca1a962",
   "metadata": {
    "tags": []
   },
   "outputs": [],
   "source": [
    "df = spark.range(0, 3)"
   ]
  },
  {
   "cell_type": "code",
   "execution_count": 5,
   "id": "9f1573b8-4b34-4929-b44a-06daae470bdd",
   "metadata": {},
   "outputs": [
    {
     "name": "stderr",
     "output_type": "stream",
     "text": [
      "                                                                                \r"
     ]
    }
   ],
   "source": [
    "df.repartition(1).write.format(\"delta\").save(\"tmp/some_nums\")"
   ]
  },
  {
   "cell_type": "code",
   "execution_count": 6,
   "id": "de2f5df2-316a-4f6e-9159-f432367f959a",
   "metadata": {},
   "outputs": [],
   "source": [
    "df = spark.range(8, 11)"
   ]
  },
  {
   "cell_type": "code",
   "execution_count": 7,
   "id": "6a0aaf25-43aa-4055-aa24-605a3a46e470",
   "metadata": {},
   "outputs": [
    {
     "name": "stderr",
     "output_type": "stream",
     "text": [
      "                                                                                \r"
     ]
    }
   ],
   "source": [
    "df.repartition(1).write.mode(\"append\").format(\"delta\").save(\"tmp/some_nums\")"
   ]
  },
  {
   "cell_type": "code",
   "execution_count": 8,
   "id": "70884b15-fcb6-428f-8e18-69b6ddf8bee1",
   "metadata": {},
   "outputs": [],
   "source": [
    "df = spark.createDataFrame([(55,), (66,), (77,)]).toDF(\"id\")"
   ]
  },
  {
   "cell_type": "code",
   "execution_count": 9,
   "id": "df00fdd0-8e74-409e-a7b5-37b3e987095f",
   "metadata": {
    "tags": []
   },
   "outputs": [
    {
     "name": "stderr",
     "output_type": "stream",
     "text": [
      "                                                                                \r"
     ]
    }
   ],
   "source": [
    "df.repartition(1).write.mode(\"overwrite\").format(\"delta\").save(\"tmp/some_nums\")"
   ]
  },
  {
   "cell_type": "markdown",
   "id": "f5e1b158-d8b3-445a-8fd6-5e4710681759",
   "metadata": {},
   "source": [
    "## Read different versions of the data"
   ]
  },
  {
   "cell_type": "code",
   "execution_count": 10,
   "id": "393d6e25-fab3-4199-93bf-9cf4123c58e4",
   "metadata": {},
   "outputs": [
    {
     "name": "stdout",
     "output_type": "stream",
     "text": [
      "+---+\n",
      "| id|\n",
      "+---+\n",
      "| 55|\n",
      "| 66|\n",
      "| 77|\n",
      "+---+\n",
      "\n"
     ]
    }
   ],
   "source": [
    "spark.read.format(\"delta\").load(\"tmp/some_nums\").show()"
   ]
  },
  {
   "cell_type": "code",
   "execution_count": 11,
   "id": "761a9b77-269e-4909-a039-2b209fdf3446",
   "metadata": {},
   "outputs": [
    {
     "name": "stderr",
     "output_type": "stream",
     "text": [
      "                                                                                \r"
     ]
    },
    {
     "name": "stdout",
     "output_type": "stream",
     "text": [
      "+---+\n",
      "| id|\n",
      "+---+\n",
      "|  0|\n",
      "|  1|\n",
      "|  2|\n",
      "+---+\n",
      "\n"
     ]
    }
   ],
   "source": [
    "spark.read.format(\"delta\").option(\"versionAsOf\", \"0\").load(\"tmp/some_nums\").show()"
   ]
  },
  {
   "cell_type": "code",
   "execution_count": 12,
   "id": "d1aa9ce1-e784-4bcf-990a-c4ba3e91761e",
   "metadata": {},
   "outputs": [
    {
     "name": "stderr",
     "output_type": "stream",
     "text": [
      "                                                                                \r"
     ]
    },
    {
     "name": "stdout",
     "output_type": "stream",
     "text": [
      "+---+\n",
      "| id|\n",
      "+---+\n",
      "|  8|\n",
      "|  9|\n",
      "| 10|\n",
      "|  0|\n",
      "|  1|\n",
      "|  2|\n",
      "+---+\n",
      "\n"
     ]
    }
   ],
   "source": [
    "spark.read.format(\"delta\").option(\"versionAsOf\", \"1\").load(\"tmp/some_nums\").show()"
   ]
  },
  {
   "cell_type": "code",
   "execution_count": 13,
   "id": "98e833d7-eabf-4b46-a832-aaa94ac252b4",
   "metadata": {},
   "outputs": [
    {
     "name": "stdout",
     "output_type": "stream",
     "text": [
      "+---+\n",
      "| id|\n",
      "+---+\n",
      "| 55|\n",
      "| 66|\n",
      "| 77|\n",
      "+---+\n",
      "\n"
     ]
    }
   ],
   "source": [
    "spark.read.format(\"delta\").option(\"versionAsOf\", \"2\").load(\"tmp/some_nums\").show()"
   ]
  },
  {
   "cell_type": "code",
   "execution_count": 14,
   "id": "9209527e-2386-404e-83ee-e8f575e616da",
   "metadata": {},
   "outputs": [],
   "source": [
    "from delta.tables import DeltaTable"
   ]
  },
  {
   "cell_type": "code",
   "execution_count": 15,
   "id": "b48b74b6-3bed-49d3-8d92-d60874c2d885",
   "metadata": {},
   "outputs": [],
   "source": [
    "delta_table = DeltaTable.forPath(spark, \"tmp/some_nums\")"
   ]
  },
  {
   "cell_type": "code",
   "execution_count": 16,
   "id": "183fce7b-6020-4167-8f21-a5a3d318e006",
   "metadata": {},
   "outputs": [
    {
     "name": "stdout",
     "output_type": "stream",
     "text": [
      "+-------+-----------------------+---------+\n",
      "|version|timestamp              |operation|\n",
      "+-------+-----------------------+---------+\n",
      "|2      |2023-02-03 14:40:25.46 |WRITE    |\n",
      "|1      |2023-02-03 14:40:18.877|WRITE    |\n",
      "|0      |2023-02-03 14:40:05.617|WRITE    |\n",
      "+-------+-----------------------+---------+\n",
      "\n"
     ]
    }
   ],
   "source": [
    "delta_table.history().select(\"version\", \"timestamp\", \"operation\").show(truncate=False)"
   ]
  },
  {
   "cell_type": "code",
   "execution_count": null,
   "id": "b9981e5b-9190-4bd1-8bf5-f9553471b7d0",
   "metadata": {},
   "outputs": [],
   "source": []
  }
 ],
 "metadata": {
  "kernelspec": {
   "display_name": "Python [conda env:pyspark-332-delta-230]",
   "language": "python",
   "name": "conda-env-pyspark-332-delta-230-py"
  },
  "language_info": {
   "codemirror_mode": {
    "name": "ipython",
    "version": 3
   },
   "file_extension": ".py",
   "mimetype": "text/x-python",
   "name": "python",
   "nbconvert_exporter": "python",
   "pygments_lexer": "ipython3",
   "version": "3.9.16"
  }
 },
 "nbformat": 4,
 "nbformat_minor": 5
}
