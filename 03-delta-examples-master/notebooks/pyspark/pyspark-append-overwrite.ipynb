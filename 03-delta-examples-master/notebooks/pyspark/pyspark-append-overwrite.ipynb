{
 "cells": [
  {
   "cell_type": "markdown",
   "id": "d7c5c104-854a-4554-a6f0-5f414487bfe6",
   "metadata": {},
   "source": [
    "# PySpark Append and Overwrite in Delta Lake"
   ]
  },
  {
   "cell_type": "code",
   "execution_count": 62,
   "id": "9367242c-742d-4319-8d87-4da3ceab49c0",
   "metadata": {},
   "outputs": [],
   "source": [
    "import pyspark\n",
    "from delta import *"
   ]
  },
  {
   "cell_type": "code",
   "execution_count": 63,
   "id": "26bd486a-48f0-4d41-9563-618a9029df77",
   "metadata": {},
   "outputs": [],
   "source": [
    "builder = (\n",
    "    pyspark.sql.SparkSession.builder.appName(\"MyApp\")\n",
    "    .config(\"spark.sql.extensions\", \"io.delta.sql.DeltaSparkSessionExtension\")\n",
    "    .config(\n",
    "        \"spark.sql.catalog.spark_catalog\",\n",
    "        \"org.apache.spark.sql.delta.catalog.DeltaCatalog\",\n",
    "    )\n",
    ")"
   ]
  },
  {
   "cell_type": "code",
   "execution_count": 64,
   "id": "fded707a-d56d-45b7-abd1-edbfa409d68b",
   "metadata": {},
   "outputs": [],
   "source": [
    "spark = configure_spark_with_delta_pip(builder).getOrCreate()"
   ]
  },
  {
   "cell_type": "markdown",
   "id": "5563d04b-7bc5-40a9-843b-e157b69072ab",
   "metadata": {},
   "source": [
    "## Append and Overwrite with Parquet"
   ]
  },
  {
   "cell_type": "code",
   "execution_count": 65,
   "id": "0bf266c3-56df-4571-94de-2606688ac157",
   "metadata": {},
   "outputs": [],
   "source": [
    "columns = [\"singer\", \"country\"]"
   ]
  },
  {
   "cell_type": "code",
   "execution_count": 66,
   "id": "a19d2970-4885-4eb3-aef1-b98554fe8c92",
   "metadata": {},
   "outputs": [],
   "source": [
    "data1 = [(\"feid\", \"colombia\")]\n",
    "rdd1 = spark.sparkContext.parallelize(data1)\n",
    "df1 = rdd1.toDF(columns)"
   ]
  },
  {
   "cell_type": "code",
   "execution_count": 67,
   "id": "1a282416-4e1f-48df-9933-ee53ae22f776",
   "metadata": {},
   "outputs": [],
   "source": [
    "df1.repartition(1).write.format(\"parquet\").save(\"tmp/singers1\")"
   ]
  },
  {
   "cell_type": "code",
   "execution_count": 68,
   "id": "52564ec1-fad1-40a3-acb3-97fa08b86d3d",
   "metadata": {},
   "outputs": [
    {
     "name": "stdout",
     "output_type": "stream",
     "text": [
      "\u001b[01;34mtmp/singers1\u001b[0m\n",
      "├── \u001b[00m_SUCCESS\u001b[0m\n",
      "└── \u001b[00mpart-00000-ffcc616b-4009-462a-a60d-9e2bd7130083-c000.snappy.parquet\u001b[0m\n",
      "\n",
      "0 directories, 2 files\n"
     ]
    }
   ],
   "source": [
    "!tree tmp/singers1"
   ]
  },
  {
   "cell_type": "code",
   "execution_count": 69,
   "id": "4f0643b6-905e-4b4c-b2a1-f4e31ffb7e3b",
   "metadata": {},
   "outputs": [],
   "source": [
    "data2 = [(\"annita\", \"brasil\")]\n",
    "rdd2 = spark.sparkContext.parallelize(data2)\n",
    "df2 = rdd2.toDF(columns)"
   ]
  },
  {
   "cell_type": "code",
   "execution_count": 70,
   "id": "1f938131-47c0-4e47-93e8-f7b223363585",
   "metadata": {},
   "outputs": [],
   "source": [
    "df2.repartition(1).write.mode(\"append\").format(\"parquet\").save(\"tmp/singers1\")"
   ]
  },
  {
   "cell_type": "code",
   "execution_count": 71,
   "id": "099a90cd-bb0b-4772-a900-f4c1e04cc55a",
   "metadata": {},
   "outputs": [
    {
     "name": "stdout",
     "output_type": "stream",
     "text": [
      "+------+--------+\n",
      "|singer| country|\n",
      "+------+--------+\n",
      "|annita|  brasil|\n",
      "|  feid|colombia|\n",
      "+------+--------+\n",
      "\n"
     ]
    }
   ],
   "source": [
    "spark.read.format(\"parquet\").load(\"tmp/singers1\").show()"
   ]
  },
  {
   "cell_type": "code",
   "execution_count": 72,
   "id": "6426f928-5815-4286-826f-79378960d413",
   "metadata": {},
   "outputs": [
    {
     "name": "stdout",
     "output_type": "stream",
     "text": [
      "\u001b[01;34mtmp/singers1\u001b[0m\n",
      "├── \u001b[00m_SUCCESS\u001b[0m\n",
      "├── \u001b[00mpart-00000-49da366f-fd15-481b-a3a4-8b3bd26ef2c7-c000.snappy.parquet\u001b[0m\n",
      "└── \u001b[00mpart-00000-ffcc616b-4009-462a-a60d-9e2bd7130083-c000.snappy.parquet\u001b[0m\n",
      "\n",
      "0 directories, 3 files\n"
     ]
    }
   ],
   "source": [
    "!tree tmp/singers1"
   ]
  },
  {
   "cell_type": "code",
   "execution_count": 73,
   "id": "d48b17d6-f515-483d-8ee7-8d937c18731b",
   "metadata": {},
   "outputs": [],
   "source": [
    "data3 = [(\"rihanna\", \"barbados\")]\n",
    "rdd3 = spark.sparkContext.parallelize(data3)\n",
    "df3 = rdd3.toDF(columns)"
   ]
  },
  {
   "cell_type": "code",
   "execution_count": 74,
   "id": "6604bae5-444f-4c23-b4b9-9cbc503382a5",
   "metadata": {},
   "outputs": [],
   "source": [
    "df3.repartition(1).write.mode(\"overwrite\").format(\"parquet\").save(\"tmp/singers1\")"
   ]
  },
  {
   "cell_type": "code",
   "execution_count": 75,
   "id": "07f6548d-dca3-4e73-8df1-cd4680c2063f",
   "metadata": {},
   "outputs": [
    {
     "name": "stdout",
     "output_type": "stream",
     "text": [
      "+-------+--------+\n",
      "| singer| country|\n",
      "+-------+--------+\n",
      "|rihanna|barbados|\n",
      "+-------+--------+\n",
      "\n"
     ]
    }
   ],
   "source": [
    "spark.read.format(\"parquet\").load(\"tmp/singers1\").show()"
   ]
  },
  {
   "cell_type": "code",
   "execution_count": 76,
   "id": "1592d330-a140-4eb6-ba0d-ca3c7f17d87f",
   "metadata": {},
   "outputs": [
    {
     "name": "stdout",
     "output_type": "stream",
     "text": [
      "\u001b[01;34mtmp/singers1\u001b[0m\n",
      "├── \u001b[00m_SUCCESS\u001b[0m\n",
      "└── \u001b[00mpart-00000-63531918-401d-4983-8848-7b99fff39713-c000.snappy.parquet\u001b[0m\n",
      "\n",
      "0 directories, 2 files\n"
     ]
    }
   ],
   "source": [
    "!tree tmp/singers1"
   ]
  },
  {
   "cell_type": "markdown",
   "id": "f076811a-1236-466a-b034-4054d03255e5",
   "metadata": {},
   "source": [
    "## Append and Overwrite with Delta Lake"
   ]
  },
  {
   "cell_type": "code",
   "execution_count": 77,
   "id": "49346ea6-98f2-486c-9031-5ecae3650942",
   "metadata": {},
   "outputs": [
    {
     "name": "stderr",
     "output_type": "stream",
     "text": [
      "                                                                                \r"
     ]
    }
   ],
   "source": [
    "df1.repartition(1).write.format(\"delta\").save(\"tmp/singers2\")"
   ]
  },
  {
   "cell_type": "code",
   "execution_count": 78,
   "id": "755925f4-3a36-4410-929d-5b17f7df1e41",
   "metadata": {},
   "outputs": [
    {
     "name": "stdout",
     "output_type": "stream",
     "text": [
      "\u001b[01;34mtmp/singers2\u001b[0m\n",
      "├── \u001b[01;34m_delta_log\u001b[0m\n",
      "│   └── \u001b[00m00000000000000000000.json\u001b[0m\n",
      "└── \u001b[00mpart-00000-946ae20f-fa5a-4e92-b1c9-49322594609a-c000.snappy.parquet\u001b[0m\n",
      "\n",
      "1 directory, 2 files\n"
     ]
    }
   ],
   "source": [
    "!tree tmp/singers2"
   ]
  },
  {
   "cell_type": "code",
   "execution_count": 79,
   "id": "03188c04-56de-4bb0-93ef-60500af37481",
   "metadata": {},
   "outputs": [
    {
     "name": "stdout",
     "output_type": "stream",
     "text": [
      "+------+--------+\n",
      "|singer| country|\n",
      "+------+--------+\n",
      "|  feid|colombia|\n",
      "+------+--------+\n",
      "\n"
     ]
    }
   ],
   "source": [
    "spark.read.format(\"delta\").load(\"tmp/singers2\").show()"
   ]
  },
  {
   "cell_type": "code",
   "execution_count": 80,
   "id": "287edd8d-a60b-442f-99b4-b21717945b27",
   "metadata": {},
   "outputs": [],
   "source": [
    "df2.repartition(1).write.mode(\"append\").format(\"delta\").save(\"tmp/singers2\")"
   ]
  },
  {
   "cell_type": "code",
   "execution_count": 81,
   "id": "060210c0-a2ef-4116-a0a1-a1c06dd84376",
   "metadata": {},
   "outputs": [
    {
     "name": "stdout",
     "output_type": "stream",
     "text": [
      "\u001b[01;34mtmp/singers2\u001b[0m\n",
      "├── \u001b[01;34m_delta_log\u001b[0m\n",
      "│   ├── \u001b[00m00000000000000000000.json\u001b[0m\n",
      "│   └── \u001b[00m00000000000000000001.json\u001b[0m\n",
      "├── \u001b[00mpart-00000-946ae20f-fa5a-4e92-b1c9-49322594609a-c000.snappy.parquet\u001b[0m\n",
      "└── \u001b[00mpart-00000-adda870a-83a2-4f5c-82a0-c6ecc60d9d2e-c000.snappy.parquet\u001b[0m\n",
      "\n",
      "1 directory, 4 files\n"
     ]
    }
   ],
   "source": [
    "!tree tmp/singers2"
   ]
  },
  {
   "cell_type": "code",
   "execution_count": 82,
   "id": "5447d68a-d59e-4bd0-a397-f9ba67d71704",
   "metadata": {},
   "outputs": [
    {
     "name": "stdout",
     "output_type": "stream",
     "text": [
      "+------+--------+\n",
      "|singer| country|\n",
      "+------+--------+\n",
      "|annita|  brasil|\n",
      "|  feid|colombia|\n",
      "+------+--------+\n",
      "\n"
     ]
    }
   ],
   "source": [
    "spark.read.format(\"delta\").load(\"tmp/singers2\").show()"
   ]
  },
  {
   "cell_type": "code",
   "execution_count": 83,
   "id": "bf71cbf3-f219-4e69-a1a7-eb4548581766",
   "metadata": {},
   "outputs": [],
   "source": [
    "df3.repartition(1).write.mode(\"overwrite\").format(\"delta\").save(\"tmp/singers2\")"
   ]
  },
  {
   "cell_type": "code",
   "execution_count": 84,
   "id": "aca1ba80-8555-4d87-8e42-98a97afcb8ce",
   "metadata": {},
   "outputs": [
    {
     "name": "stdout",
     "output_type": "stream",
     "text": [
      "\u001b[01;34mtmp/singers2\u001b[0m\n",
      "├── \u001b[01;34m_delta_log\u001b[0m\n",
      "│   ├── \u001b[00m00000000000000000000.json\u001b[0m\n",
      "│   ├── \u001b[00m00000000000000000001.json\u001b[0m\n",
      "│   └── \u001b[00m00000000000000000002.json\u001b[0m\n",
      "├── \u001b[00mpart-00000-2d176e2d-66e0-44b6-8922-6bc3a15a6b96-c000.snappy.parquet\u001b[0m\n",
      "├── \u001b[00mpart-00000-946ae20f-fa5a-4e92-b1c9-49322594609a-c000.snappy.parquet\u001b[0m\n",
      "└── \u001b[00mpart-00000-adda870a-83a2-4f5c-82a0-c6ecc60d9d2e-c000.snappy.parquet\u001b[0m\n",
      "\n",
      "1 directory, 6 files\n"
     ]
    }
   ],
   "source": [
    "!tree tmp/singers2"
   ]
  },
  {
   "cell_type": "code",
   "execution_count": 85,
   "id": "200359a1-6cfd-498c-9915-ffad9d2071be",
   "metadata": {},
   "outputs": [
    {
     "name": "stdout",
     "output_type": "stream",
     "text": [
      "+-------+--------+\n",
      "| singer| country|\n",
      "+-------+--------+\n",
      "|rihanna|barbados|\n",
      "+-------+--------+\n",
      "\n"
     ]
    }
   ],
   "source": [
    "spark.read.format(\"delta\").load(\"tmp/singers2\").show()"
   ]
  },
  {
   "cell_type": "markdown",
   "id": "b1d9b951-b81a-4460-a140-8049c24f9a3d",
   "metadata": {},
   "source": [
    "## PySpark error / errorifexists save mode"
   ]
  },
  {
   "cell_type": "code",
   "execution_count": 87,
   "id": "2d2cf9dc-abe6-48b1-849b-13e698d4dea8",
   "metadata": {},
   "outputs": [
    {
     "name": "stderr",
     "output_type": "stream",
     "text": [
      "                                                                                \r"
     ]
    }
   ],
   "source": [
    "df1.repartition(1).write.mode(\"error\").format(\"delta\").save(\"tmp/singers3\")"
   ]
  },
  {
   "cell_type": "code",
   "execution_count": 88,
   "id": "051eaf1c-8102-4cc1-b0c2-37394bab6af9",
   "metadata": {},
   "outputs": [
    {
     "ename": "AnalysisException",
     "evalue": "Cannot write to already existent path file:/Users/matthew.powers/Documents/code/my_apps/delta-examples/notebooks/pyspark/tmp/singers3 without setting OVERWRITE = 'true'.",
     "output_type": "error",
     "traceback": [
      "\u001b[0;31m---------------------------------------------------------------------------\u001b[0m",
      "\u001b[0;31mAnalysisException\u001b[0m                         Traceback (most recent call last)",
      "Input \u001b[0;32mIn [88]\u001b[0m, in \u001b[0;36m<cell line: 1>\u001b[0;34m()\u001b[0m\n\u001b[0;32m----> 1\u001b[0m \u001b[43mdf2\u001b[49m\u001b[38;5;241;43m.\u001b[39;49m\u001b[43mrepartition\u001b[49m\u001b[43m(\u001b[49m\u001b[38;5;241;43m1\u001b[39;49m\u001b[43m)\u001b[49m\u001b[38;5;241;43m.\u001b[39;49m\u001b[43mwrite\u001b[49m\u001b[38;5;241;43m.\u001b[39;49m\u001b[43mmode\u001b[49m\u001b[43m(\u001b[49m\u001b[38;5;124;43m\"\u001b[39;49m\u001b[38;5;124;43merror\u001b[39;49m\u001b[38;5;124;43m\"\u001b[39;49m\u001b[43m)\u001b[49m\u001b[38;5;241;43m.\u001b[39;49m\u001b[43mformat\u001b[49m\u001b[43m(\u001b[49m\u001b[38;5;124;43m\"\u001b[39;49m\u001b[38;5;124;43mdelta\u001b[39;49m\u001b[38;5;124;43m\"\u001b[39;49m\u001b[43m)\u001b[49m\u001b[38;5;241;43m.\u001b[39;49m\u001b[43msave\u001b[49m\u001b[43m(\u001b[49m\u001b[38;5;124;43m\"\u001b[39;49m\u001b[38;5;124;43mtmp/singers3\u001b[39;49m\u001b[38;5;124;43m\"\u001b[39;49m\u001b[43m)\u001b[49m\n",
      "File \u001b[0;32m~/opt/miniconda3/envs/pyspark-330-delta-210/lib/python3.9/site-packages/pyspark/sql/readwriter.py:968\u001b[0m, in \u001b[0;36mDataFrameWriter.save\u001b[0;34m(self, path, format, mode, partitionBy, **options)\u001b[0m\n\u001b[1;32m    966\u001b[0m     \u001b[38;5;28mself\u001b[39m\u001b[38;5;241m.\u001b[39m_jwrite\u001b[38;5;241m.\u001b[39msave()\n\u001b[1;32m    967\u001b[0m \u001b[38;5;28;01melse\u001b[39;00m:\n\u001b[0;32m--> 968\u001b[0m     \u001b[38;5;28;43mself\u001b[39;49m\u001b[38;5;241;43m.\u001b[39;49m\u001b[43m_jwrite\u001b[49m\u001b[38;5;241;43m.\u001b[39;49m\u001b[43msave\u001b[49m\u001b[43m(\u001b[49m\u001b[43mpath\u001b[49m\u001b[43m)\u001b[49m\n",
      "File \u001b[0;32m~/opt/miniconda3/envs/pyspark-330-delta-210/lib/python3.9/site-packages/py4j/java_gateway.py:1321\u001b[0m, in \u001b[0;36mJavaMember.__call__\u001b[0;34m(self, *args)\u001b[0m\n\u001b[1;32m   1315\u001b[0m command \u001b[38;5;241m=\u001b[39m proto\u001b[38;5;241m.\u001b[39mCALL_COMMAND_NAME \u001b[38;5;241m+\u001b[39m\\\n\u001b[1;32m   1316\u001b[0m     \u001b[38;5;28mself\u001b[39m\u001b[38;5;241m.\u001b[39mcommand_header \u001b[38;5;241m+\u001b[39m\\\n\u001b[1;32m   1317\u001b[0m     args_command \u001b[38;5;241m+\u001b[39m\\\n\u001b[1;32m   1318\u001b[0m     proto\u001b[38;5;241m.\u001b[39mEND_COMMAND_PART\n\u001b[1;32m   1320\u001b[0m answer \u001b[38;5;241m=\u001b[39m \u001b[38;5;28mself\u001b[39m\u001b[38;5;241m.\u001b[39mgateway_client\u001b[38;5;241m.\u001b[39msend_command(command)\n\u001b[0;32m-> 1321\u001b[0m return_value \u001b[38;5;241m=\u001b[39m \u001b[43mget_return_value\u001b[49m\u001b[43m(\u001b[49m\n\u001b[1;32m   1322\u001b[0m \u001b[43m    \u001b[49m\u001b[43manswer\u001b[49m\u001b[43m,\u001b[49m\u001b[43m \u001b[49m\u001b[38;5;28;43mself\u001b[39;49m\u001b[38;5;241;43m.\u001b[39;49m\u001b[43mgateway_client\u001b[49m\u001b[43m,\u001b[49m\u001b[43m \u001b[49m\u001b[38;5;28;43mself\u001b[39;49m\u001b[38;5;241;43m.\u001b[39;49m\u001b[43mtarget_id\u001b[49m\u001b[43m,\u001b[49m\u001b[43m \u001b[49m\u001b[38;5;28;43mself\u001b[39;49m\u001b[38;5;241;43m.\u001b[39;49m\u001b[43mname\u001b[49m\u001b[43m)\u001b[49m\n\u001b[1;32m   1324\u001b[0m \u001b[38;5;28;01mfor\u001b[39;00m temp_arg \u001b[38;5;129;01min\u001b[39;00m temp_args:\n\u001b[1;32m   1325\u001b[0m     temp_arg\u001b[38;5;241m.\u001b[39m_detach()\n",
      "File \u001b[0;32m~/opt/miniconda3/envs/pyspark-330-delta-210/lib/python3.9/site-packages/pyspark/sql/utils.py:196\u001b[0m, in \u001b[0;36mcapture_sql_exception.<locals>.deco\u001b[0;34m(*a, **kw)\u001b[0m\n\u001b[1;32m    192\u001b[0m converted \u001b[38;5;241m=\u001b[39m convert_exception(e\u001b[38;5;241m.\u001b[39mjava_exception)\n\u001b[1;32m    193\u001b[0m \u001b[38;5;28;01mif\u001b[39;00m \u001b[38;5;129;01mnot\u001b[39;00m \u001b[38;5;28misinstance\u001b[39m(converted, UnknownException):\n\u001b[1;32m    194\u001b[0m     \u001b[38;5;66;03m# Hide where the exception came from that shows a non-Pythonic\u001b[39;00m\n\u001b[1;32m    195\u001b[0m     \u001b[38;5;66;03m# JVM exception message.\u001b[39;00m\n\u001b[0;32m--> 196\u001b[0m     \u001b[38;5;28;01mraise\u001b[39;00m converted \u001b[38;5;28;01mfrom\u001b[39;00m \u001b[38;5;28mNone\u001b[39m\n\u001b[1;32m    197\u001b[0m \u001b[38;5;28;01melse\u001b[39;00m:\n\u001b[1;32m    198\u001b[0m     \u001b[38;5;28;01mraise\u001b[39;00m\n",
      "\u001b[0;31mAnalysisException\u001b[0m: Cannot write to already existent path file:/Users/matthew.powers/Documents/code/my_apps/delta-examples/notebooks/pyspark/tmp/singers3 without setting OVERWRITE = 'true'."
     ]
    }
   ],
   "source": [
    "df2.repartition(1).write.mode(\"error\").format(\"delta\").save(\"tmp/singers3\")"
   ]
  },
  {
   "cell_type": "markdown",
   "id": "2fe404ad-4b61-446c-8939-58d180357b8d",
   "metadata": {},
   "source": [
    "## PySpark ignore save mode"
   ]
  },
  {
   "cell_type": "code",
   "execution_count": 89,
   "id": "e4495996-469c-4514-8a27-d295bfbe4c9c",
   "metadata": {},
   "outputs": [
    {
     "name": "stderr",
     "output_type": "stream",
     "text": [
      "                                                                                \r"
     ]
    }
   ],
   "source": [
    "df1.repartition(1).write.mode(\"ignore\").format(\"delta\").save(\"tmp/singers4\")"
   ]
  },
  {
   "cell_type": "code",
   "execution_count": 90,
   "id": "4dd87e38-16d9-49fc-824c-7a21be73d080",
   "metadata": {},
   "outputs": [
    {
     "name": "stdout",
     "output_type": "stream",
     "text": [
      "+------+--------+\n",
      "|singer| country|\n",
      "+------+--------+\n",
      "|  feid|colombia|\n",
      "+------+--------+\n",
      "\n"
     ]
    }
   ],
   "source": [
    "spark.read.format(\"delta\").load(\"tmp/singers4\").show()"
   ]
  },
  {
   "cell_type": "code",
   "execution_count": 91,
   "id": "e0ffc251-2e69-4e39-9765-1b71bf38be18",
   "metadata": {},
   "outputs": [
    {
     "name": "stderr",
     "output_type": "stream",
     "text": [
      "                                                                                \r"
     ]
    }
   ],
   "source": [
    "df2.repartition(1).write.mode(\"ignore\").format(\"delta\").save(\"tmp/singers4\")"
   ]
  },
  {
   "cell_type": "code",
   "execution_count": 93,
   "id": "b6109be8-ee0a-4b40-974f-3f14ec77b794",
   "metadata": {},
   "outputs": [
    {
     "name": "stdout",
     "output_type": "stream",
     "text": [
      "+------+-------+\n",
      "|singer|country|\n",
      "+------+-------+\n",
      "|annita| brasil|\n",
      "+------+-------+\n",
      "\n"
     ]
    }
   ],
   "source": [
    "df2.show()"
   ]
  },
  {
   "cell_type": "code",
   "execution_count": 92,
   "id": "ec884937-d961-4abb-8143-c339335c1cc2",
   "metadata": {},
   "outputs": [
    {
     "name": "stdout",
     "output_type": "stream",
     "text": [
      "+------+--------+\n",
      "|singer| country|\n",
      "+------+--------+\n",
      "|  feid|colombia|\n",
      "+------+--------+\n",
      "\n"
     ]
    }
   ],
   "source": [
    "spark.read.format(\"delta\").load(\"tmp/singers4\").show()"
   ]
  },
  {
   "cell_type": "code",
   "execution_count": 94,
   "id": "bc5f8131-e7d1-45a0-98f7-ecca24ca6b45",
   "metadata": {},
   "outputs": [
    {
     "name": "stdout",
     "output_type": "stream",
     "text": [
      "\u001b[01;34mtmp/singers4\u001b[0m\n",
      "├── \u001b[01;34m_delta_log\u001b[0m\n",
      "│   ├── \u001b[00m00000000000000000000.json\u001b[0m\n",
      "│   └── \u001b[00m00000000000000000001.json\u001b[0m\n",
      "└── \u001b[00mpart-00000-e992ef60-1c11-423a-820c-50397e2f9ab1-c000.snappy.parquet\u001b[0m\n",
      "\n",
      "1 directory, 3 files\n"
     ]
    }
   ],
   "source": [
    "!tree tmp/singers4"
   ]
  },
  {
   "cell_type": "code",
   "execution_count": 96,
   "id": "bc6a22e8-7774-462e-aa76-11281448d74d",
   "metadata": {},
   "outputs": [
    {
     "name": "stdout",
     "output_type": "stream",
     "text": [
      "{\"commitInfo\":{\"timestamp\":1664801261318,\"operation\":\"WRITE\",\"operationParameters\":{\"mode\":\"Ignore\",\"partitionBy\":\"[]\"},\"readVersion\":0,\"isolationLevel\":\"SnapshotIsolation\",\"isBlindAppend\":true,\"operationMetrics\":{},\"engineInfo\":\"Apache-Spark/3.3.0 Delta-Lake/2.1.0\",\"txnId\":\"dcb6992b-24cb-4f3e-bcd3-203837c7986e\"}}\n"
     ]
    }
   ],
   "source": [
    "!cat tmp/singers4/_delta_log/00000000000000000001.json"
   ]
  },
  {
   "cell_type": "markdown",
   "id": "a421b065-02ea-49d4-8922-e552c171693c",
   "metadata": {},
   "source": [
    "## Cleanup"
   ]
  },
  {
   "cell_type": "code",
   "execution_count": 86,
   "id": "c551dda2-ecb4-4823-a337-00a7425d4345",
   "metadata": {},
   "outputs": [],
   "source": [
    "!rm -rf tmp"
   ]
  },
  {
   "cell_type": "code",
   "execution_count": null,
   "id": "2799365c-44a8-4cae-808f-b9392eda0e30",
   "metadata": {},
   "outputs": [],
   "source": []
  }
 ],
 "metadata": {
  "kernelspec": {
   "display_name": "Python [conda env:pyspark-330-delta-210] *",
   "language": "python",
   "name": "conda-env-pyspark-330-delta-210-py"
  },
  "language_info": {
   "codemirror_mode": {
    "name": "ipython",
    "version": 3
   },
   "file_extension": ".py",
   "mimetype": "text/x-python",
   "name": "python",
   "nbconvert_exporter": "python",
   "pygments_lexer": "ipython3",
   "version": "3.9.13"
  }
 },
 "nbformat": 4,
 "nbformat_minor": 5
}
