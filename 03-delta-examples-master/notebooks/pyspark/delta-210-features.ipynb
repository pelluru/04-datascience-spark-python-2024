{
 "cells": [
  {
   "cell_type": "markdown",
   "id": "c08b4861-6b14-4c14-9e1d-cd3c2af5dd6c",
   "metadata": {},
   "source": [
    "# Delta 2.1.0 Features\n",
    "\n",
    "This notebook demonstrates a lot of the cool features that were added to Delta Lake in the 2.1.0 release."
   ]
  },
  {
   "cell_type": "code",
   "execution_count": null,
   "id": "3c5da992-db56-4fde-8700-f485808a0940",
   "metadata": {},
   "outputs": [],
   "source": []
  }
 ],
 "metadata": {
  "kernelspec": {
   "display_name": "Python [conda env:pyspark-330-delta-210] *",
   "language": "python",
   "name": "conda-env-pyspark-330-delta-210-py"
  },
  "language_info": {
   "codemirror_mode": {
    "name": "ipython",
    "version": 3
   },
   "file_extension": ".py",
   "mimetype": "text/x-python",
   "name": "python",
   "nbconvert_exporter": "python",
   "pygments_lexer": "ipython3",
   "version": "3.9.13"
  }
 },
 "nbformat": 4,
 "nbformat_minor": 5
}
