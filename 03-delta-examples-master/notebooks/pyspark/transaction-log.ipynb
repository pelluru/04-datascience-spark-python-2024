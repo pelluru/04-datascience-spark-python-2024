{
 "cells": [
  {
   "cell_type": "markdown",
   "id": "8f350dd6-e763-43b1-93db-d3cb841ca220",
   "metadata": {},
   "source": [
    "# Delta Lake Transaction Log"
   ]
  },
  {
   "cell_type": "code",
   "execution_count": 1,
   "id": "ac5df047-c632-4561-bd26-4aeadd9a4240",
   "metadata": {},
   "outputs": [],
   "source": [
    "import pyspark\n",
    "from delta import *"
   ]
  },
  {
   "cell_type": "code",
   "execution_count": 2,
   "id": "c73bd896-a9ad-4c63-bbfa-ae2f14a2d564",
   "metadata": {},
   "outputs": [],
   "source": [
    "builder = (\n",
    "    pyspark.sql.SparkSession.builder.appName(\"MyApp\")\n",
    "    .config(\"spark.sql.extensions\", \"io.delta.sql.DeltaSparkSessionExtension\")\n",
    "    .config(\n",
    "        \"spark.sql.catalog.spark_catalog\",\n",
    "        \"org.apache.spark.sql.delta.catalog.DeltaCatalog\",\n",
    "    )\n",
    ")"
   ]
  },
  {
   "cell_type": "code",
   "execution_count": 3,
   "id": "79e79b3e-8f73-424a-b087-18ac148d921d",
   "metadata": {},
   "outputs": [
    {
     "name": "stdout",
     "output_type": "stream",
     "text": [
      ":: loading settings :: url = jar:file:/Users/matthew.powers/opt/miniconda3/envs/pyspark-330-delta-210/lib/python3.9/site-packages/pyspark/jars/ivy-2.5.0.jar!/org/apache/ivy/core/settings/ivysettings.xml\n"
     ]
    },
    {
     "name": "stderr",
     "output_type": "stream",
     "text": [
      "Ivy Default Cache set to: /Users/matthew.powers/.ivy2/cache\n",
      "The jars for the packages stored in: /Users/matthew.powers/.ivy2/jars\n",
      "io.delta#delta-core_2.12 added as a dependency\n",
      ":: resolving dependencies :: org.apache.spark#spark-submit-parent-757f0266-747d-4ac7-bb56-31436ea983b8;1.0\n",
      "\tconfs: [default]\n",
      "\tfound io.delta#delta-core_2.12;2.1.0 in central\n",
      "\tfound io.delta#delta-storage;2.1.0 in central\n",
      "\tfound org.antlr#antlr4-runtime;4.8 in central\n",
      "\tfound org.codehaus.jackson#jackson-core-asl;1.9.13 in central\n",
      ":: resolution report :: resolve 381ms :: artifacts dl 30ms\n",
      "\t:: modules in use:\n",
      "\tio.delta#delta-core_2.12;2.1.0 from central in [default]\n",
      "\tio.delta#delta-storage;2.1.0 from central in [default]\n",
      "\torg.antlr#antlr4-runtime;4.8 from central in [default]\n",
      "\torg.codehaus.jackson#jackson-core-asl;1.9.13 from central in [default]\n",
      "\t---------------------------------------------------------------------\n",
      "\t|                  |            modules            ||   artifacts   |\n",
      "\t|       conf       | number| search|dwnlded|evicted|| number|dwnlded|\n",
      "\t---------------------------------------------------------------------\n",
      "\t|      default     |   4   |   0   |   0   |   0   ||   4   |   0   |\n",
      "\t---------------------------------------------------------------------\n",
      ":: retrieving :: org.apache.spark#spark-submit-parent-757f0266-747d-4ac7-bb56-31436ea983b8\n",
      "\tconfs: [default]\n",
      "\t0 artifacts copied, 4 already retrieved (0kB/16ms)\n"
     ]
    },
    {
     "name": "stdout",
     "output_type": "stream",
     "text": [
      "22/11/02 11:12:18 WARN NativeCodeLoader: Unable to load native-hadoop library for your platform... using builtin-java classes where applicable\n"
     ]
    },
    {
     "name": "stderr",
     "output_type": "stream",
     "text": [
      "Setting default log level to \"WARN\".\n",
      "To adjust logging level use sc.setLogLevel(newLevel). For SparkR, use setLogLevel(newLevel).\n"
     ]
    }
   ],
   "source": [
    "spark = configure_spark_with_delta_pip(builder).getOrCreate()"
   ]
  },
  {
   "cell_type": "markdown",
   "id": "b64c8cfd-fe7f-4594-a52d-d4e495b691df",
   "metadata": {},
   "source": [
    "## Create Delta table"
   ]
  },
  {
   "cell_type": "code",
   "execution_count": 17,
   "id": "b37900d2-bdd5-4cdb-a659-bfbfe13632ca",
   "metadata": {},
   "outputs": [],
   "source": [
    "df = spark.range(0, 3)"
   ]
  },
  {
   "cell_type": "code",
   "execution_count": 18,
   "id": "246f1d6c-a041-41b6-a4bd-1cc0014eab1b",
   "metadata": {},
   "outputs": [
    {
     "name": "stderr",
     "output_type": "stream",
     "text": [
      "                                                                                \r"
     ]
    }
   ],
   "source": [
    "df.repartition(1).write.format(\"delta\").save(\"tmp/speakers\")"
   ]
  },
  {
   "cell_type": "code",
   "execution_count": 19,
   "id": "9043ea71-8578-4bb1-95c1-645e7adb9ed3",
   "metadata": {},
   "outputs": [],
   "source": [
    "df = spark.range(8, 11)"
   ]
  },
  {
   "cell_type": "code",
   "execution_count": 20,
   "id": "58314755-984d-4a9d-8ae1-59abc5dcaed1",
   "metadata": {},
   "outputs": [
    {
     "name": "stderr",
     "output_type": "stream",
     "text": [
      "                                                                                \r"
     ]
    }
   ],
   "source": [
    "df.repartition(1).write.mode(\"append\").format(\"delta\").save(\"tmp/speakers\")"
   ]
  },
  {
   "cell_type": "code",
   "execution_count": 21,
   "id": "37ebac5f-cd76-4851-9f56-e3dd8ec035ce",
   "metadata": {},
   "outputs": [
    {
     "name": "stdout",
     "output_type": "stream",
     "text": [
      "\u001b[01;34mtmp/speakers\u001b[0m\n",
      "├── \u001b[01;34m_delta_log\u001b[0m\n",
      "│   ├── \u001b[00m00000000000000000000.json\u001b[0m\n",
      "│   └── \u001b[00m00000000000000000001.json\u001b[0m\n",
      "├── \u001b[00mpart-00000-28e1c5d4-5d4f-4091-95de-794cb333aac0-c000.snappy.parquet\u001b[0m\n",
      "└── \u001b[00mpart-00000-622f60e2-1bd4-4e46-b65d-5383ea6595bd-c000.snappy.parquet\u001b[0m\n",
      "\n",
      "1 directory, 4 files\n"
     ]
    }
   ],
   "source": [
    "!tree tmp/speakers"
   ]
  },
  {
   "cell_type": "code",
   "execution_count": 26,
   "id": "6ced8046-8707-484b-9964-f576fb0b0865",
   "metadata": {},
   "outputs": [],
   "source": [
    "columns = [\"id\"]\n",
    "data = [(55,), (66,), (77,)]\n",
    "rdd = spark.sparkContext.parallelize(data)\n",
    "df = rdd.toDF(columns)"
   ]
  },
  {
   "cell_type": "code",
   "execution_count": 28,
   "id": "400ecbf0-e6c8-4f14-842f-b74d350274e9",
   "metadata": {},
   "outputs": [
    {
     "name": "stderr",
     "output_type": "stream",
     "text": [
      "                                                                                \r"
     ]
    }
   ],
   "source": [
    "df.repartition(1).write.mode(\"overwrite\").format(\"delta\").save(\"tmp/speakers\")"
   ]
  },
  {
   "cell_type": "code",
   "execution_count": 30,
   "id": "f9f6c0dd-54ff-4122-acc1-1854a1a17936",
   "metadata": {},
   "outputs": [
    {
     "name": "stdout",
     "output_type": "stream",
     "text": [
      "+---+\n",
      "| id|\n",
      "+---+\n",
      "| 55|\n",
      "| 66|\n",
      "| 77|\n",
      "+---+\n",
      "\n"
     ]
    }
   ],
   "source": [
    "spark.read.format(\"delta\").load(\"tmp/speakers\").show()"
   ]
  },
  {
   "cell_type": "code",
   "execution_count": 31,
   "id": "a2ea1f18-2adc-4d4d-bc52-ed957df293a0",
   "metadata": {},
   "outputs": [
    {
     "name": "stderr",
     "output_type": "stream",
     "text": [
      "                                                                                \r"
     ]
    },
    {
     "name": "stdout",
     "output_type": "stream",
     "text": [
      "+---+\n",
      "| id|\n",
      "+---+\n",
      "|  0|\n",
      "|  1|\n",
      "|  2|\n",
      "+---+\n",
      "\n"
     ]
    }
   ],
   "source": [
    "spark.read.format(\"delta\").option(\"versionAsOf\", \"0\").load(\"tmp/speakers\").show()"
   ]
  },
  {
   "cell_type": "code",
   "execution_count": 32,
   "id": "f336995a-fe04-485c-9d5d-6c44ecfdf16c",
   "metadata": {},
   "outputs": [
    {
     "name": "stderr",
     "output_type": "stream",
     "text": [
      "                                                                                \r"
     ]
    },
    {
     "name": "stdout",
     "output_type": "stream",
     "text": [
      "+---+\n",
      "| id|\n",
      "+---+\n",
      "|  8|\n",
      "|  9|\n",
      "| 10|\n",
      "|  0|\n",
      "|  1|\n",
      "|  2|\n",
      "+---+\n",
      "\n"
     ]
    }
   ],
   "source": [
    "spark.read.format(\"delta\").option(\"versionAsOf\", \"1\").load(\"tmp/speakers\").show()"
   ]
  },
  {
   "cell_type": "code",
   "execution_count": 29,
   "id": "015598ac-8537-48b0-963c-34e9bdc8a450",
   "metadata": {},
   "outputs": [
    {
     "name": "stdout",
     "output_type": "stream",
     "text": [
      "\u001b[01;34mtmp/speakers\u001b[0m\n",
      "├── \u001b[01;34m_delta_log\u001b[0m\n",
      "│   ├── \u001b[00m00000000000000000000.json\u001b[0m\n",
      "│   ├── \u001b[00m00000000000000000001.json\u001b[0m\n",
      "│   └── \u001b[00m00000000000000000002.json\u001b[0m\n",
      "├── \u001b[00mpart-00000-28e1c5d4-5d4f-4091-95de-794cb333aac0-c000.snappy.parquet\u001b[0m\n",
      "├── \u001b[00mpart-00000-622f60e2-1bd4-4e46-b65d-5383ea6595bd-c000.snappy.parquet\u001b[0m\n",
      "└── \u001b[00mpart-00000-9569a078-4c6a-4f1e-8856-08c5505e738d-c000.snappy.parquet\u001b[0m\n",
      "\n",
      "1 directory, 6 files\n"
     ]
    }
   ],
   "source": [
    "!tree tmp/speakers"
   ]
  },
  {
   "cell_type": "code",
   "execution_count": 35,
   "id": "40c0d9b2-5df0-443d-9af9-3ed9669e5617",
   "metadata": {},
   "outputs": [
    {
     "name": "stdout",
     "output_type": "stream",
     "text": [
      "\u001b[1;39m{\n",
      "  \u001b[0m\u001b[34;1m\"protocol\"\u001b[0m\u001b[1;39m: \u001b[0m\u001b[1;39m{\n",
      "    \u001b[0m\u001b[34;1m\"minReaderVersion\"\u001b[0m\u001b[1;39m: \u001b[0m\u001b[0;39m1\u001b[0m\u001b[1;39m,\n",
      "    \u001b[0m\u001b[34;1m\"minWriterVersion\"\u001b[0m\u001b[1;39m: \u001b[0m\u001b[0;39m2\u001b[0m\u001b[1;39m\n",
      "  \u001b[1;39m}\u001b[0m\u001b[1;39m\n",
      "\u001b[1;39m}\u001b[0m\n",
      "\u001b[1;39m{\n",
      "  \u001b[0m\u001b[34;1m\"metaData\"\u001b[0m\u001b[1;39m: \u001b[0m\u001b[1;39m{\n",
      "    \u001b[0m\u001b[34;1m\"id\"\u001b[0m\u001b[1;39m: \u001b[0m\u001b[0;32m\"a6b3d7e2-6930-4a47-99a2-89e1f671f074\"\u001b[0m\u001b[1;39m,\n",
      "    \u001b[0m\u001b[34;1m\"format\"\u001b[0m\u001b[1;39m: \u001b[0m\u001b[1;39m{\n",
      "      \u001b[0m\u001b[34;1m\"provider\"\u001b[0m\u001b[1;39m: \u001b[0m\u001b[0;32m\"parquet\"\u001b[0m\u001b[1;39m,\n",
      "      \u001b[0m\u001b[34;1m\"options\"\u001b[0m\u001b[1;39m: \u001b[0m\u001b[1;39m{}\u001b[0m\u001b[1;39m\n",
      "    \u001b[1;39m}\u001b[0m\u001b[1;39m,\n",
      "    \u001b[0m\u001b[34;1m\"schemaString\"\u001b[0m\u001b[1;39m: \u001b[0m\u001b[0;32m\"{\\\"type\\\":\\\"struct\\\",\\\"fields\\\":[{\\\"name\\\":\\\"id\\\",\\\"type\\\":\\\"long\\\",\\\"nullable\\\":true,\\\"metadata\\\":{}}]}\"\u001b[0m\u001b[1;39m,\n",
      "    \u001b[0m\u001b[34;1m\"partitionColumns\"\u001b[0m\u001b[1;39m: \u001b[0m\u001b[1;39m[]\u001b[0m\u001b[1;39m,\n",
      "    \u001b[0m\u001b[34;1m\"configuration\"\u001b[0m\u001b[1;39m: \u001b[0m\u001b[1;39m{}\u001b[0m\u001b[1;39m,\n",
      "    \u001b[0m\u001b[34;1m\"createdTime\"\u001b[0m\u001b[1;39m: \u001b[0m\u001b[0;39m1667402134987\u001b[0m\u001b[1;39m\n",
      "  \u001b[1;39m}\u001b[0m\u001b[1;39m\n",
      "\u001b[1;39m}\u001b[0m\n",
      "\u001b[1;39m{\n",
      "  \u001b[0m\u001b[34;1m\"add\"\u001b[0m\u001b[1;39m: \u001b[0m\u001b[1;39m{\n",
      "    \u001b[0m\u001b[34;1m\"path\"\u001b[0m\u001b[1;39m: \u001b[0m\u001b[0;32m\"part-00000-622f60e2-1bd4-4e46-b65d-5383ea6595bd-c000.snappy.parquet\"\u001b[0m\u001b[1;39m,\n",
      "    \u001b[0m\u001b[34;1m\"partitionValues\"\u001b[0m\u001b[1;39m: \u001b[0m\u001b[1;39m{}\u001b[0m\u001b[1;39m,\n",
      "    \u001b[0m\u001b[34;1m\"size\"\u001b[0m\u001b[1;39m: \u001b[0m\u001b[0;39m490\u001b[0m\u001b[1;39m,\n",
      "    \u001b[0m\u001b[34;1m\"modificationTime\"\u001b[0m\u001b[1;39m: \u001b[0m\u001b[0;39m1667402135285\u001b[0m\u001b[1;39m,\n",
      "    \u001b[0m\u001b[34;1m\"dataChange\"\u001b[0m\u001b[1;39m: \u001b[0m\u001b[0;39mtrue\u001b[0m\u001b[1;39m,\n",
      "    \u001b[0m\u001b[34;1m\"stats\"\u001b[0m\u001b[1;39m: \u001b[0m\u001b[0;32m\"{\\\"numRecords\\\":3,\\\"minValues\\\":{\\\"id\\\":0},\\\"maxValues\\\":{\\\"id\\\":2},\\\"nullCount\\\":{\\\"id\\\":0}}\"\u001b[0m\u001b[1;39m\n",
      "  \u001b[1;39m}\u001b[0m\u001b[1;39m\n",
      "\u001b[1;39m}\u001b[0m\n",
      "\u001b[1;39m{\n",
      "  \u001b[0m\u001b[34;1m\"commitInfo\"\u001b[0m\u001b[1;39m: \u001b[0m\u001b[1;39m{\n",
      "    \u001b[0m\u001b[34;1m\"timestamp\"\u001b[0m\u001b[1;39m: \u001b[0m\u001b[0;39m1667402135300\u001b[0m\u001b[1;39m,\n",
      "    \u001b[0m\u001b[34;1m\"operation\"\u001b[0m\u001b[1;39m: \u001b[0m\u001b[0;32m\"WRITE\"\u001b[0m\u001b[1;39m,\n",
      "    \u001b[0m\u001b[34;1m\"operationParameters\"\u001b[0m\u001b[1;39m: \u001b[0m\u001b[1;39m{\n",
      "      \u001b[0m\u001b[34;1m\"mode\"\u001b[0m\u001b[1;39m: \u001b[0m\u001b[0;32m\"ErrorIfExists\"\u001b[0m\u001b[1;39m,\n",
      "      \u001b[0m\u001b[34;1m\"partitionBy\"\u001b[0m\u001b[1;39m: \u001b[0m\u001b[0;32m\"[]\"\u001b[0m\u001b[1;39m\n",
      "    \u001b[1;39m}\u001b[0m\u001b[1;39m,\n",
      "    \u001b[0m\u001b[34;1m\"isolationLevel\"\u001b[0m\u001b[1;39m: \u001b[0m\u001b[0;32m\"Serializable\"\u001b[0m\u001b[1;39m,\n",
      "    \u001b[0m\u001b[34;1m\"isBlindAppend\"\u001b[0m\u001b[1;39m: \u001b[0m\u001b[0;39mtrue\u001b[0m\u001b[1;39m,\n",
      "    \u001b[0m\u001b[34;1m\"operationMetrics\"\u001b[0m\u001b[1;39m: \u001b[0m\u001b[1;39m{\n",
      "      \u001b[0m\u001b[34;1m\"numFiles\"\u001b[0m\u001b[1;39m: \u001b[0m\u001b[0;32m\"1\"\u001b[0m\u001b[1;39m,\n",
      "      \u001b[0m\u001b[34;1m\"numOutputRows\"\u001b[0m\u001b[1;39m: \u001b[0m\u001b[0;32m\"3\"\u001b[0m\u001b[1;39m,\n",
      "      \u001b[0m\u001b[34;1m\"numOutputBytes\"\u001b[0m\u001b[1;39m: \u001b[0m\u001b[0;32m\"490\"\u001b[0m\u001b[1;39m\n",
      "    \u001b[1;39m}\u001b[0m\u001b[1;39m,\n",
      "    \u001b[0m\u001b[34;1m\"engineInfo\"\u001b[0m\u001b[1;39m: \u001b[0m\u001b[0;32m\"Apache-Spark/3.3.0 Delta-Lake/2.1.0\"\u001b[0m\u001b[1;39m,\n",
      "    \u001b[0m\u001b[34;1m\"txnId\"\u001b[0m\u001b[1;39m: \u001b[0m\u001b[0;32m\"411e1acd-e6f7-4fe0-82f4-eda01aeed26c\"\u001b[0m\u001b[1;39m\n",
      "  \u001b[1;39m}\u001b[0m\u001b[1;39m\n",
      "\u001b[1;39m}\u001b[0m\n"
     ]
    }
   ],
   "source": [
    "!jq . tmp/speakers/_delta_log/00000000000000000000.json"
   ]
  },
  {
   "cell_type": "code",
   "execution_count": 36,
   "id": "a70144c5-a915-43a8-96af-92a46804b47f",
   "metadata": {},
   "outputs": [
    {
     "name": "stdout",
     "output_type": "stream",
     "text": [
      "\u001b[1;39m{\n",
      "  \u001b[0m\u001b[34;1m\"protocol\"\u001b[0m\u001b[1;39m: \u001b[0m\u001b[1;39m{\n",
      "    \u001b[0m\u001b[34;1m\"minReaderVersion\"\u001b[0m\u001b[1;39m: \u001b[0m\u001b[0;39m1\u001b[0m\u001b[1;39m,\n",
      "    \u001b[0m\u001b[34;1m\"minWriterVersion\"\u001b[0m\u001b[1;39m: \u001b[0m\u001b[0;39m2\u001b[0m\u001b[1;39m\n",
      "  \u001b[1;39m}\u001b[0m\u001b[1;39m\n",
      "\u001b[1;39m}\u001b[0m\n",
      "\u001b[1;39m{\n",
      "  \u001b[0m\u001b[34;1m\"metaData\"\u001b[0m\u001b[1;39m: \u001b[0m\u001b[1;39m{\n",
      "    \u001b[0m\u001b[34;1m\"id\"\u001b[0m\u001b[1;39m: \u001b[0m\u001b[0;32m\"a6b3d7e2-6930-4a47-99a2-89e1f671f074\"\u001b[0m\u001b[1;39m,\n",
      "    \u001b[0m\u001b[34;1m\"format\"\u001b[0m\u001b[1;39m: \u001b[0m\u001b[1;39m{\n",
      "      \u001b[0m\u001b[34;1m\"provider\"\u001b[0m\u001b[1;39m: \u001b[0m\u001b[0;32m\"parquet\"\u001b[0m\u001b[1;39m,\n",
      "      \u001b[0m\u001b[34;1m\"options\"\u001b[0m\u001b[1;39m: \u001b[0m\u001b[1;39m{}\u001b[0m\u001b[1;39m\n",
      "    \u001b[1;39m}\u001b[0m\u001b[1;39m,\n",
      "    \u001b[0m\u001b[34;1m\"schemaString\"\u001b[0m\u001b[1;39m: \u001b[0m\u001b[0;32m\"{\\\"type\\\":\\\"struct\\\",\\\"fields\\\":[{\\\"name\\\":\\\"id\\\",\\\"type\\\":\\\"long\\\",\\\"nullable\\\":true,\\\"metadata\\\":{}}]}\"\u001b[0m\u001b[1;39m,\n",
      "    \u001b[0m\u001b[34;1m\"partitionColumns\"\u001b[0m\u001b[1;39m: \u001b[0m\u001b[1;39m[]\u001b[0m\u001b[1;39m,\n",
      "    \u001b[0m\u001b[34;1m\"configuration\"\u001b[0m\u001b[1;39m: \u001b[0m\u001b[1;39m{}\u001b[0m\u001b[1;39m,\n",
      "    \u001b[0m\u001b[34;1m\"createdTime\"\u001b[0m\u001b[1;39m: \u001b[0m\u001b[0;39m1667402134987\u001b[0m\u001b[1;39m\n",
      "  \u001b[1;39m}\u001b[0m\u001b[1;39m\n",
      "\u001b[1;39m}\u001b[0m\n",
      "\u001b[1;39m{\n",
      "  \u001b[0m\u001b[34;1m\"add\"\u001b[0m\u001b[1;39m: \u001b[0m\u001b[1;39m{\n",
      "    \u001b[0m\u001b[34;1m\"path\"\u001b[0m\u001b[1;39m: \u001b[0m\u001b[0;32m\"part-00000-622f60e2-1bd4-4e46-b65d-5383ea6595bd-c000.snappy.parquet\"\u001b[0m\u001b[1;39m,\n",
      "    \u001b[0m\u001b[34;1m\"partitionValues\"\u001b[0m\u001b[1;39m: \u001b[0m\u001b[1;39m{}\u001b[0m\u001b[1;39m,\n",
      "    \u001b[0m\u001b[34;1m\"size\"\u001b[0m\u001b[1;39m: \u001b[0m\u001b[0;39m490\u001b[0m\u001b[1;39m,\n",
      "    \u001b[0m\u001b[34;1m\"modificationTime\"\u001b[0m\u001b[1;39m: \u001b[0m\u001b[0;39m1667402135285\u001b[0m\u001b[1;39m,\n",
      "    \u001b[0m\u001b[34;1m\"dataChange\"\u001b[0m\u001b[1;39m: \u001b[0m\u001b[0;39mtrue\u001b[0m\u001b[1;39m,\n",
      "    \u001b[0m\u001b[34;1m\"stats\"\u001b[0m\u001b[1;39m: \u001b[0m\u001b[0;32m\"{\\\"numRecords\\\":3,\\\"minValues\\\":{\\\"id\\\":0},\\\"maxValues\\\":{\\\"id\\\":2},\\\"nullCount\\\":{\\\"id\\\":0}}\"\u001b[0m\u001b[1;39m\n",
      "  \u001b[1;39m}\u001b[0m\u001b[1;39m\n",
      "\u001b[1;39m}\u001b[0m\n",
      "\u001b[1;39m{\n",
      "  \u001b[0m\u001b[34;1m\"commitInfo\"\u001b[0m\u001b[1;39m: \u001b[0m\u001b[1;39m{\n",
      "    \u001b[0m\u001b[34;1m\"timestamp\"\u001b[0m\u001b[1;39m: \u001b[0m\u001b[0;39m1667402135300\u001b[0m\u001b[1;39m,\n",
      "    \u001b[0m\u001b[34;1m\"operation\"\u001b[0m\u001b[1;39m: \u001b[0m\u001b[0;32m\"WRITE\"\u001b[0m\u001b[1;39m,\n",
      "    \u001b[0m\u001b[34;1m\"operationParameters\"\u001b[0m\u001b[1;39m: \u001b[0m\u001b[1;39m{\n",
      "      \u001b[0m\u001b[34;1m\"mode\"\u001b[0m\u001b[1;39m: \u001b[0m\u001b[0;32m\"ErrorIfExists\"\u001b[0m\u001b[1;39m,\n",
      "      \u001b[0m\u001b[34;1m\"partitionBy\"\u001b[0m\u001b[1;39m: \u001b[0m\u001b[0;32m\"[]\"\u001b[0m\u001b[1;39m\n",
      "    \u001b[1;39m}\u001b[0m\u001b[1;39m,\n",
      "    \u001b[0m\u001b[34;1m\"isolationLevel\"\u001b[0m\u001b[1;39m: \u001b[0m\u001b[0;32m\"Serializable\"\u001b[0m\u001b[1;39m,\n",
      "    \u001b[0m\u001b[34;1m\"isBlindAppend\"\u001b[0m\u001b[1;39m: \u001b[0m\u001b[0;39mtrue\u001b[0m\u001b[1;39m,\n",
      "    \u001b[0m\u001b[34;1m\"operationMetrics\"\u001b[0m\u001b[1;39m: \u001b[0m\u001b[1;39m{\n",
      "      \u001b[0m\u001b[34;1m\"numFiles\"\u001b[0m\u001b[1;39m: \u001b[0m\u001b[0;32m\"1\"\u001b[0m\u001b[1;39m,\n",
      "      \u001b[0m\u001b[34;1m\"numOutputRows\"\u001b[0m\u001b[1;39m: \u001b[0m\u001b[0;32m\"3\"\u001b[0m\u001b[1;39m,\n",
      "      \u001b[0m\u001b[34;1m\"numOutputBytes\"\u001b[0m\u001b[1;39m: \u001b[0m\u001b[0;32m\"490\"\u001b[0m\u001b[1;39m\n",
      "    \u001b[1;39m}\u001b[0m\u001b[1;39m,\n",
      "    \u001b[0m\u001b[34;1m\"engineInfo\"\u001b[0m\u001b[1;39m: \u001b[0m\u001b[0;32m\"Apache-Spark/3.3.0 Delta-Lake/2.1.0\"\u001b[0m\u001b[1;39m,\n",
      "    \u001b[0m\u001b[34;1m\"txnId\"\u001b[0m\u001b[1;39m: \u001b[0m\u001b[0;32m\"411e1acd-e6f7-4fe0-82f4-eda01aeed26c\"\u001b[0m\u001b[1;39m\n",
      "  \u001b[1;39m}\u001b[0m\u001b[1;39m\n",
      "\u001b[1;39m}\u001b[0m\n"
     ]
    }
   ],
   "source": [
    "!jq . tmp/speakers/_delta_log/00000000000000000000.json"
   ]
  },
  {
   "cell_type": "code",
   "execution_count": 37,
   "id": "615aaa8d-c72c-4216-92e7-34bfc0e23d8e",
   "metadata": {},
   "outputs": [
    {
     "name": "stdout",
     "output_type": "stream",
     "text": [
      "\u001b[1;39m{\n",
      "  \u001b[0m\u001b[34;1m\"add\"\u001b[0m\u001b[1;39m: \u001b[0m\u001b[1;39m{\n",
      "    \u001b[0m\u001b[34;1m\"path\"\u001b[0m\u001b[1;39m: \u001b[0m\u001b[0;32m\"part-00000-28e1c5d4-5d4f-4091-95de-794cb333aac0-c000.snappy.parquet\"\u001b[0m\u001b[1;39m,\n",
      "    \u001b[0m\u001b[34;1m\"partitionValues\"\u001b[0m\u001b[1;39m: \u001b[0m\u001b[1;39m{}\u001b[0m\u001b[1;39m,\n",
      "    \u001b[0m\u001b[34;1m\"size\"\u001b[0m\u001b[1;39m: \u001b[0m\u001b[0;39m491\u001b[0m\u001b[1;39m,\n",
      "    \u001b[0m\u001b[34;1m\"modificationTime\"\u001b[0m\u001b[1;39m: \u001b[0m\u001b[0;39m1667402138594\u001b[0m\u001b[1;39m,\n",
      "    \u001b[0m\u001b[34;1m\"dataChange\"\u001b[0m\u001b[1;39m: \u001b[0m\u001b[0;39mtrue\u001b[0m\u001b[1;39m,\n",
      "    \u001b[0m\u001b[34;1m\"stats\"\u001b[0m\u001b[1;39m: \u001b[0m\u001b[0;32m\"{\\\"numRecords\\\":3,\\\"minValues\\\":{\\\"id\\\":8},\\\"maxValues\\\":{\\\"id\\\":10},\\\"nullCount\\\":{\\\"id\\\":0}}\"\u001b[0m\u001b[1;39m\n",
      "  \u001b[1;39m}\u001b[0m\u001b[1;39m\n",
      "\u001b[1;39m}\u001b[0m\n",
      "\u001b[1;39m{\n",
      "  \u001b[0m\u001b[34;1m\"commitInfo\"\u001b[0m\u001b[1;39m: \u001b[0m\u001b[1;39m{\n",
      "    \u001b[0m\u001b[34;1m\"timestamp\"\u001b[0m\u001b[1;39m: \u001b[0m\u001b[0;39m1667402138600\u001b[0m\u001b[1;39m,\n",
      "    \u001b[0m\u001b[34;1m\"operation\"\u001b[0m\u001b[1;39m: \u001b[0m\u001b[0;32m\"WRITE\"\u001b[0m\u001b[1;39m,\n",
      "    \u001b[0m\u001b[34;1m\"operationParameters\"\u001b[0m\u001b[1;39m: \u001b[0m\u001b[1;39m{\n",
      "      \u001b[0m\u001b[34;1m\"mode\"\u001b[0m\u001b[1;39m: \u001b[0m\u001b[0;32m\"Append\"\u001b[0m\u001b[1;39m,\n",
      "      \u001b[0m\u001b[34;1m\"partitionBy\"\u001b[0m\u001b[1;39m: \u001b[0m\u001b[0;32m\"[]\"\u001b[0m\u001b[1;39m\n",
      "    \u001b[1;39m}\u001b[0m\u001b[1;39m,\n",
      "    \u001b[0m\u001b[34;1m\"readVersion\"\u001b[0m\u001b[1;39m: \u001b[0m\u001b[0;39m0\u001b[0m\u001b[1;39m,\n",
      "    \u001b[0m\u001b[34;1m\"isolationLevel\"\u001b[0m\u001b[1;39m: \u001b[0m\u001b[0;32m\"Serializable\"\u001b[0m\u001b[1;39m,\n",
      "    \u001b[0m\u001b[34;1m\"isBlindAppend\"\u001b[0m\u001b[1;39m: \u001b[0m\u001b[0;39mtrue\u001b[0m\u001b[1;39m,\n",
      "    \u001b[0m\u001b[34;1m\"operationMetrics\"\u001b[0m\u001b[1;39m: \u001b[0m\u001b[1;39m{\n",
      "      \u001b[0m\u001b[34;1m\"numFiles\"\u001b[0m\u001b[1;39m: \u001b[0m\u001b[0;32m\"1\"\u001b[0m\u001b[1;39m,\n",
      "      \u001b[0m\u001b[34;1m\"numOutputRows\"\u001b[0m\u001b[1;39m: \u001b[0m\u001b[0;32m\"3\"\u001b[0m\u001b[1;39m,\n",
      "      \u001b[0m\u001b[34;1m\"numOutputBytes\"\u001b[0m\u001b[1;39m: \u001b[0m\u001b[0;32m\"491\"\u001b[0m\u001b[1;39m\n",
      "    \u001b[1;39m}\u001b[0m\u001b[1;39m,\n",
      "    \u001b[0m\u001b[34;1m\"engineInfo\"\u001b[0m\u001b[1;39m: \u001b[0m\u001b[0;32m\"Apache-Spark/3.3.0 Delta-Lake/2.1.0\"\u001b[0m\u001b[1;39m,\n",
      "    \u001b[0m\u001b[34;1m\"txnId\"\u001b[0m\u001b[1;39m: \u001b[0m\u001b[0;32m\"033fc31e-df3d-498b-8def-e0a1c8707b88\"\u001b[0m\u001b[1;39m\n",
      "  \u001b[1;39m}\u001b[0m\u001b[1;39m\n",
      "\u001b[1;39m}\u001b[0m\n"
     ]
    }
   ],
   "source": [
    "!jq . tmp/speakers/_delta_log/00000000000000000001.json"
   ]
  },
  {
   "cell_type": "code",
   "execution_count": 38,
   "id": "5dc7fab8-a58c-4047-9478-702bf688d3c6",
   "metadata": {},
   "outputs": [
    {
     "name": "stdout",
     "output_type": "stream",
     "text": [
      "\u001b[1;39m{\n",
      "  \u001b[0m\u001b[34;1m\"add\"\u001b[0m\u001b[1;39m: \u001b[0m\u001b[1;39m{\n",
      "    \u001b[0m\u001b[34;1m\"path\"\u001b[0m\u001b[1;39m: \u001b[0m\u001b[0;32m\"part-00000-9569a078-4c6a-4f1e-8856-08c5505e738d-c000.snappy.parquet\"\u001b[0m\u001b[1;39m,\n",
      "    \u001b[0m\u001b[34;1m\"partitionValues\"\u001b[0m\u001b[1;39m: \u001b[0m\u001b[1;39m{}\u001b[0m\u001b[1;39m,\n",
      "    \u001b[0m\u001b[34;1m\"size\"\u001b[0m\u001b[1;39m: \u001b[0m\u001b[0;39m491\u001b[0m\u001b[1;39m,\n",
      "    \u001b[0m\u001b[34;1m\"modificationTime\"\u001b[0m\u001b[1;39m: \u001b[0m\u001b[0;39m1667403635053\u001b[0m\u001b[1;39m,\n",
      "    \u001b[0m\u001b[34;1m\"dataChange\"\u001b[0m\u001b[1;39m: \u001b[0m\u001b[0;39mtrue\u001b[0m\u001b[1;39m,\n",
      "    \u001b[0m\u001b[34;1m\"stats\"\u001b[0m\u001b[1;39m: \u001b[0m\u001b[0;32m\"{\\\"numRecords\\\":3,\\\"minValues\\\":{\\\"id\\\":55},\\\"maxValues\\\":{\\\"id\\\":77},\\\"nullCount\\\":{\\\"id\\\":0}}\"\u001b[0m\u001b[1;39m\n",
      "  \u001b[1;39m}\u001b[0m\u001b[1;39m\n",
      "\u001b[1;39m}\u001b[0m\n",
      "\u001b[1;39m{\n",
      "  \u001b[0m\u001b[34;1m\"remove\"\u001b[0m\u001b[1;39m: \u001b[0m\u001b[1;39m{\n",
      "    \u001b[0m\u001b[34;1m\"path\"\u001b[0m\u001b[1;39m: \u001b[0m\u001b[0;32m\"part-00000-622f60e2-1bd4-4e46-b65d-5383ea6595bd-c000.snappy.parquet\"\u001b[0m\u001b[1;39m,\n",
      "    \u001b[0m\u001b[34;1m\"deletionTimestamp\"\u001b[0m\u001b[1;39m: \u001b[0m\u001b[0;39m1667403636006\u001b[0m\u001b[1;39m,\n",
      "    \u001b[0m\u001b[34;1m\"dataChange\"\u001b[0m\u001b[1;39m: \u001b[0m\u001b[0;39mtrue\u001b[0m\u001b[1;39m,\n",
      "    \u001b[0m\u001b[34;1m\"extendedFileMetadata\"\u001b[0m\u001b[1;39m: \u001b[0m\u001b[0;39mtrue\u001b[0m\u001b[1;39m,\n",
      "    \u001b[0m\u001b[34;1m\"partitionValues\"\u001b[0m\u001b[1;39m: \u001b[0m\u001b[1;39m{}\u001b[0m\u001b[1;39m,\n",
      "    \u001b[0m\u001b[34;1m\"size\"\u001b[0m\u001b[1;39m: \u001b[0m\u001b[0;39m490\u001b[0m\u001b[1;39m\n",
      "  \u001b[1;39m}\u001b[0m\u001b[1;39m\n",
      "\u001b[1;39m}\u001b[0m\n",
      "\u001b[1;39m{\n",
      "  \u001b[0m\u001b[34;1m\"remove\"\u001b[0m\u001b[1;39m: \u001b[0m\u001b[1;39m{\n",
      "    \u001b[0m\u001b[34;1m\"path\"\u001b[0m\u001b[1;39m: \u001b[0m\u001b[0;32m\"part-00000-28e1c5d4-5d4f-4091-95de-794cb333aac0-c000.snappy.parquet\"\u001b[0m\u001b[1;39m,\n",
      "    \u001b[0m\u001b[34;1m\"deletionTimestamp\"\u001b[0m\u001b[1;39m: \u001b[0m\u001b[0;39m1667403636006\u001b[0m\u001b[1;39m,\n",
      "    \u001b[0m\u001b[34;1m\"dataChange\"\u001b[0m\u001b[1;39m: \u001b[0m\u001b[0;39mtrue\u001b[0m\u001b[1;39m,\n",
      "    \u001b[0m\u001b[34;1m\"extendedFileMetadata\"\u001b[0m\u001b[1;39m: \u001b[0m\u001b[0;39mtrue\u001b[0m\u001b[1;39m,\n",
      "    \u001b[0m\u001b[34;1m\"partitionValues\"\u001b[0m\u001b[1;39m: \u001b[0m\u001b[1;39m{}\u001b[0m\u001b[1;39m,\n",
      "    \u001b[0m\u001b[34;1m\"size\"\u001b[0m\u001b[1;39m: \u001b[0m\u001b[0;39m491\u001b[0m\u001b[1;39m\n",
      "  \u001b[1;39m}\u001b[0m\u001b[1;39m\n",
      "\u001b[1;39m}\u001b[0m\n",
      "\u001b[1;39m{\n",
      "  \u001b[0m\u001b[34;1m\"commitInfo\"\u001b[0m\u001b[1;39m: \u001b[0m\u001b[1;39m{\n",
      "    \u001b[0m\u001b[34;1m\"timestamp\"\u001b[0m\u001b[1;39m: \u001b[0m\u001b[0;39m1667403636007\u001b[0m\u001b[1;39m,\n",
      "    \u001b[0m\u001b[34;1m\"operation\"\u001b[0m\u001b[1;39m: \u001b[0m\u001b[0;32m\"WRITE\"\u001b[0m\u001b[1;39m,\n",
      "    \u001b[0m\u001b[34;1m\"operationParameters\"\u001b[0m\u001b[1;39m: \u001b[0m\u001b[1;39m{\n",
      "      \u001b[0m\u001b[34;1m\"mode\"\u001b[0m\u001b[1;39m: \u001b[0m\u001b[0;32m\"Overwrite\"\u001b[0m\u001b[1;39m,\n",
      "      \u001b[0m\u001b[34;1m\"partitionBy\"\u001b[0m\u001b[1;39m: \u001b[0m\u001b[0;32m\"[]\"\u001b[0m\u001b[1;39m\n",
      "    \u001b[1;39m}\u001b[0m\u001b[1;39m,\n",
      "    \u001b[0m\u001b[34;1m\"readVersion\"\u001b[0m\u001b[1;39m: \u001b[0m\u001b[0;39m1\u001b[0m\u001b[1;39m,\n",
      "    \u001b[0m\u001b[34;1m\"isolationLevel\"\u001b[0m\u001b[1;39m: \u001b[0m\u001b[0;32m\"Serializable\"\u001b[0m\u001b[1;39m,\n",
      "    \u001b[0m\u001b[34;1m\"isBlindAppend\"\u001b[0m\u001b[1;39m: \u001b[0m\u001b[0;39mfalse\u001b[0m\u001b[1;39m,\n",
      "    \u001b[0m\u001b[34;1m\"operationMetrics\"\u001b[0m\u001b[1;39m: \u001b[0m\u001b[1;39m{\n",
      "      \u001b[0m\u001b[34;1m\"numFiles\"\u001b[0m\u001b[1;39m: \u001b[0m\u001b[0;32m\"1\"\u001b[0m\u001b[1;39m,\n",
      "      \u001b[0m\u001b[34;1m\"numOutputRows\"\u001b[0m\u001b[1;39m: \u001b[0m\u001b[0;32m\"3\"\u001b[0m\u001b[1;39m,\n",
      "      \u001b[0m\u001b[34;1m\"numOutputBytes\"\u001b[0m\u001b[1;39m: \u001b[0m\u001b[0;32m\"491\"\u001b[0m\u001b[1;39m\n",
      "    \u001b[1;39m}\u001b[0m\u001b[1;39m,\n",
      "    \u001b[0m\u001b[34;1m\"engineInfo\"\u001b[0m\u001b[1;39m: \u001b[0m\u001b[0;32m\"Apache-Spark/3.3.0 Delta-Lake/2.1.0\"\u001b[0m\u001b[1;39m,\n",
      "    \u001b[0m\u001b[34;1m\"txnId\"\u001b[0m\u001b[1;39m: \u001b[0m\u001b[0;32m\"0bec6e0f-3e16-44ed-9a74-6a28c1ba5efc\"\u001b[0m\u001b[1;39m\n",
      "  \u001b[1;39m}\u001b[0m\u001b[1;39m\n",
      "\u001b[1;39m}\u001b[0m\n"
     ]
    }
   ],
   "source": [
    "!jq . tmp/speakers/_delta_log/00000000000000000002.json"
   ]
  },
  {
   "cell_type": "markdown",
   "id": "446885a3-3fb5-4f4c-8bb0-4e031b9c2a5b",
   "metadata": {},
   "source": [
    "## Cleanup"
   ]
  },
  {
   "cell_type": "code",
   "execution_count": 16,
   "id": "c16fa40d-258d-49fa-8010-e02751112547",
   "metadata": {},
   "outputs": [],
   "source": [
    "!rm -rf tmp/speakers"
   ]
  },
  {
   "cell_type": "code",
   "execution_count": null,
   "id": "1aaef37a-8b56-4170-ab14-bcccb62a19b0",
   "metadata": {},
   "outputs": [],
   "source": []
  }
 ],
 "metadata": {
  "kernelspec": {
   "display_name": "Python [conda env:pyspark-330-delta-210] *",
   "language": "python",
   "name": "conda-env-pyspark-330-delta-210-py"
  },
  "language_info": {
   "codemirror_mode": {
    "name": "ipython",
    "version": 3
   },
   "file_extension": ".py",
   "mimetype": "text/x-python",
   "name": "python",
   "nbconvert_exporter": "python",
   "pygments_lexer": "ipython3",
   "version": "3.9.13"
  }
 },
 "nbformat": 4,
 "nbformat_minor": 5
}
