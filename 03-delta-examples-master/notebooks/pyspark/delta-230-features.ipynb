{
 "cells": [
  {
   "cell_type": "markdown",
   "id": "f2710a07-a7bd-4b26-835a-add65d77f5d4",
   "metadata": {},
   "source": [
    "# Delta Lake 2.3.0 Release"
   ]
  },
  {
   "cell_type": "code",
   "execution_count": 1,
   "id": "ff42fa93-ff77-4941-a9c3-532783237190",
   "metadata": {
    "tags": []
   },
   "outputs": [
    {
     "name": "stdout",
     "output_type": "stream",
     "text": [
      ":: loading settings :: url = jar:file:/Users/matthew.powers/opt/miniconda3/envs/pyspark-332-delta-230/lib/python3.9/site-packages/pyspark/jars/ivy-2.5.1.jar!/org/apache/ivy/core/settings/ivysettings.xml\n"
     ]
    },
    {
     "name": "stderr",
     "output_type": "stream",
     "text": [
      "Ivy Default Cache set to: /Users/matthew.powers/.ivy2/cache\n",
      "The jars for the packages stored in: /Users/matthew.powers/.ivy2/jars\n",
      "io.delta#delta-core_2.12 added as a dependency\n",
      ":: resolving dependencies :: org.apache.spark#spark-submit-parent-e88cc9e9-26ae-411b-a03c-cbeb51015784;1.0\n",
      "\tconfs: [default]\n",
      "\tfound io.delta#delta-core_2.12;2.3.0 in central\n",
      "\tfound io.delta#delta-storage;2.3.0 in central\n",
      "\tfound org.antlr#antlr4-runtime;4.8 in central\n",
      ":: resolution report :: resolve 97ms :: artifacts dl 4ms\n",
      "\t:: modules in use:\n",
      "\tio.delta#delta-core_2.12;2.3.0 from central in [default]\n",
      "\tio.delta#delta-storage;2.3.0 from central in [default]\n",
      "\torg.antlr#antlr4-runtime;4.8 from central in [default]\n",
      "\t---------------------------------------------------------------------\n",
      "\t|                  |            modules            ||   artifacts   |\n",
      "\t|       conf       | number| search|dwnlded|evicted|| number|dwnlded|\n",
      "\t---------------------------------------------------------------------\n",
      "\t|      default     |   3   |   0   |   0   |   0   ||   3   |   0   |\n",
      "\t---------------------------------------------------------------------\n",
      ":: retrieving :: org.apache.spark#spark-submit-parent-e88cc9e9-26ae-411b-a03c-cbeb51015784\n",
      "\tconfs: [default]\n",
      "\t0 artifacts copied, 3 already retrieved (0kB/3ms)\n"
     ]
    },
    {
     "name": "stdout",
     "output_type": "stream",
     "text": [
      "23/04/12 05:30:39 WARN NativeCodeLoader: Unable to load native-hadoop library for your platform... using builtin-java classes where applicable\n"
     ]
    },
    {
     "name": "stderr",
     "output_type": "stream",
     "text": [
      "Setting default log level to \"WARN\".\n",
      "To adjust logging level use sc.setLogLevel(newLevel). For SparkR, use setLogLevel(newLevel).\n"
     ]
    }
   ],
   "source": [
    "import datetime\n",
    "import pathlib\n",
    "\n",
    "import pyspark\n",
    "from delta import *\n",
    "from pyspark.sql import functions as F\n",
    "\n",
    "builder = (\n",
    "    pyspark.sql.SparkSession.builder.appName(\"MyApp\")\n",
    "    .config(\"spark.sql.extensions\", \"io.delta.sql.DeltaSparkSessionExtension\")\n",
    "    .config(\n",
    "        \"spark.sql.catalog.spark_catalog\",\n",
    "        \"org.apache.spark.sql.delta.catalog.DeltaCatalog\",\n",
    "    )\n",
    ")\n",
    "\n",
    "spark = configure_spark_with_delta_pip(builder).getOrCreate()"
   ]
  },
  {
   "cell_type": "code",
   "execution_count": 2,
   "id": "e874cdc5-b41d-4cbb-9af4-97bc19d9e7b3",
   "metadata": {},
   "outputs": [],
   "source": [
    "cwd = pathlib.Path().resolve()"
   ]
  },
  {
   "cell_type": "markdown",
   "id": "46c2cb73-1343-496b-a977-417862ae51f1",
   "metadata": {},
   "source": [
    "## Convert Iceberg to Delta Lake"
   ]
  },
  {
   "cell_type": "markdown",
   "id": "b39bcbfe-aa27-443a-9998-99ec53e28190",
   "metadata": {},
   "source": [
    "TODO: Figure out how to create an Iceberg table"
   ]
  },
  {
   "cell_type": "markdown",
   "id": "b4001454-5989-4d80-9f67-f1df2f2f5c44",
   "metadata": {
    "tags": []
   },
   "source": [
    "## Delta Lake Shallow Clone"
   ]
  },
  {
   "cell_type": "code",
   "execution_count": 13,
   "id": "78586418-17ac-4739-88ea-03e9ad370d79",
   "metadata": {
    "tags": []
   },
   "outputs": [],
   "source": [
    "data = [(0, \"Bob\", 23), (1, \"Sue\", 25), (2, \"Jim\", 27)]"
   ]
  },
  {
   "cell_type": "code",
   "execution_count": 14,
   "id": "80d05bba-fb45-4fe4-a3df-dbce1ccdd34a",
   "metadata": {
    "tags": []
   },
   "outputs": [],
   "source": [
    "df = spark.createDataFrame(data).toDF(\"id\", \"name\", \"age\")"
   ]
  },
  {
   "cell_type": "code",
   "execution_count": 15,
   "id": "93be5def-aead-4af0-b782-14c6467d3a0a",
   "metadata": {
    "tags": []
   },
   "outputs": [],
   "source": [
    "df.write.format(\"delta\").save(\"tmp/my_people\")"
   ]
  },
  {
   "cell_type": "code",
   "execution_count": 16,
   "id": "b779e6b3-1769-4702-91ad-050adb853b8e",
   "metadata": {
    "tags": []
   },
   "outputs": [
    {
     "data": {
      "text/plain": [
       "DataFrame[source_table_size: bigint, source_num_of_files: bigint, num_removed_files: bigint, num_copied_files: bigint, removed_files_size: bigint, copied_files_size: bigint]"
      ]
     },
     "execution_count": 16,
     "metadata": {},
     "output_type": "execute_result"
    }
   ],
   "source": [
    "spark.sql(\n",
    "    f\"CREATE TABLE delta.`{cwd}/tmp/my_cloned_people` SHALLOW CLONE delta.`{cwd}/tmp/my_people`\"\n",
    ")"
   ]
  },
  {
   "cell_type": "code",
   "execution_count": 17,
   "id": "175f8a25-170b-46c5-8aff-0f41b829d1bc",
   "metadata": {
    "tags": []
   },
   "outputs": [
    {
     "name": "stdout",
     "output_type": "stream",
     "text": [
      "+---+----+---+\n",
      "| id|name|age|\n",
      "+---+----+---+\n",
      "|  0| Bob| 23|\n",
      "|  2| Jim| 27|\n",
      "|  1| Sue| 25|\n",
      "+---+----+---+\n",
      "\n"
     ]
    }
   ],
   "source": [
    "spark.read.format(\"delta\").load(\"tmp/my_cloned_people\").show()"
   ]
  },
  {
   "cell_type": "code",
   "execution_count": 18,
   "id": "cf9124cd-60f3-4af7-a9bc-ced9fea7e075",
   "metadata": {
    "tags": []
   },
   "outputs": [
    {
     "name": "stdout",
     "output_type": "stream",
     "text": [
      "\u001b[01;34mtmp/my_cloned_people\u001b[0m\n",
      "└── \u001b[01;34m_delta_log\u001b[0m\n",
      "    ├── \u001b[00m00000000000000000000.checkpoint.parquet\u001b[0m\n",
      "    ├── \u001b[00m00000000000000000000.json\u001b[0m\n",
      "    └── \u001b[00m_last_checkpoint\u001b[0m\n",
      "\n",
      "1 directory, 3 files\n"
     ]
    }
   ],
   "source": [
    "!tree tmp/my_cloned_people"
   ]
  },
  {
   "cell_type": "code",
   "execution_count": 19,
   "id": "41091b62-e753-403b-9508-e48d89d3ea50",
   "metadata": {
    "tags": []
   },
   "outputs": [
    {
     "name": "stdout",
     "output_type": "stream",
     "text": [
      "\u001b[01;34mtmp/my_people\u001b[0m\n",
      "├── \u001b[01;34m_delta_log\u001b[0m\n",
      "│   └── \u001b[00m00000000000000000000.json\u001b[0m\n",
      "├── \u001b[00mpart-00000-b33f79ee-473d-4b98-ad79-a8b087ae5c50-c000.snappy.parquet\u001b[0m\n",
      "├── \u001b[00mpart-00003-3de8e2cd-bb73-4ed6-af3c-2d61911670d0-c000.snappy.parquet\u001b[0m\n",
      "├── \u001b[00mpart-00006-206bd2a6-bc3f-47d4-9b6c-e9fb8d317732-c000.snappy.parquet\u001b[0m\n",
      "└── \u001b[00mpart-00009-1c687cd5-4515-4966-9aeb-27e03bc00818-c000.snappy.parquet\u001b[0m\n",
      "\n",
      "1 directory, 5 files\n"
     ]
    }
   ],
   "source": [
    "!tree tmp/my_people"
   ]
  },
  {
   "cell_type": "code",
   "execution_count": 20,
   "id": "0d9fe8c9-116e-4fec-b40e-6f36404dc892",
   "metadata": {
    "tags": []
   },
   "outputs": [],
   "source": [
    "data = [\n",
    "    (0, \"Clare\", 5),\n",
    "]"
   ]
  },
  {
   "cell_type": "code",
   "execution_count": 21,
   "id": "2b776043-5d94-4b8e-a101-6746aa8578a0",
   "metadata": {
    "tags": []
   },
   "outputs": [],
   "source": [
    "df = spark.createDataFrame(data).toDF(\"id\", \"name\", \"age\")"
   ]
  },
  {
   "cell_type": "code",
   "execution_count": 22,
   "id": "e5468ce9-8e81-4352-b9cb-850b0c92e142",
   "metadata": {
    "tags": []
   },
   "outputs": [],
   "source": [
    "df.write.format(\"delta\").mode(\"append\").save(\"tmp/my_people\")"
   ]
  },
  {
   "cell_type": "code",
   "execution_count": 23,
   "id": "307810c6-1639-4f77-b097-17f022e8b97f",
   "metadata": {
    "tags": []
   },
   "outputs": [
    {
     "name": "stdout",
     "output_type": "stream",
     "text": [
      "+---+-----+---+\n",
      "| id| name|age|\n",
      "+---+-----+---+\n",
      "|  0|Clare|  5|\n",
      "|  2|  Jim| 27|\n",
      "|  0|  Bob| 23|\n",
      "|  1|  Sue| 25|\n",
      "+---+-----+---+\n",
      "\n"
     ]
    }
   ],
   "source": [
    "spark.read.format(\"delta\").load(\"tmp/my_people\").show()"
   ]
  },
  {
   "cell_type": "code",
   "execution_count": 24,
   "id": "ee5cb825-0e8a-4867-a1b0-ff6e3ef24eb3",
   "metadata": {
    "tags": []
   },
   "outputs": [
    {
     "name": "stdout",
     "output_type": "stream",
     "text": [
      "+---+----+---+\n",
      "| id|name|age|\n",
      "+---+----+---+\n",
      "|  0| Bob| 23|\n",
      "|  2| Jim| 27|\n",
      "|  1| Sue| 25|\n",
      "+---+----+---+\n",
      "\n"
     ]
    }
   ],
   "source": [
    "spark.read.format(\"delta\").load(\"tmp/my_cloned_people\").show()"
   ]
  },
  {
   "cell_type": "code",
   "execution_count": 25,
   "id": "676670fb-d863-46ad-93f2-2c2f706b67be",
   "metadata": {
    "tags": []
   },
   "outputs": [],
   "source": [
    "data = [\n",
    "    (0, \"Linda\", 32),\n",
    "]"
   ]
  },
  {
   "cell_type": "code",
   "execution_count": 26,
   "id": "9bf2b985-7930-4324-afdf-71a797e15917",
   "metadata": {
    "tags": []
   },
   "outputs": [],
   "source": [
    "df = spark.createDataFrame(data).toDF(\"id\", \"name\", \"age\")"
   ]
  },
  {
   "cell_type": "code",
   "execution_count": 27,
   "id": "dd6cd094-1cc5-4225-813c-bac76ce705ff",
   "metadata": {
    "tags": []
   },
   "outputs": [],
   "source": [
    "df.write.format(\"delta\").mode(\"append\").save(\"tmp/my_cloned_people\")"
   ]
  },
  {
   "cell_type": "code",
   "execution_count": 28,
   "id": "657e9e25-924c-44f1-b44a-47c21db3e0c7",
   "metadata": {
    "tags": []
   },
   "outputs": [
    {
     "name": "stdout",
     "output_type": "stream",
     "text": [
      "+---+-----+---+\n",
      "| id| name|age|\n",
      "+---+-----+---+\n",
      "|  0|Linda| 32|\n",
      "|  0|  Bob| 23|\n",
      "|  2|  Jim| 27|\n",
      "|  1|  Sue| 25|\n",
      "+---+-----+---+\n",
      "\n"
     ]
    }
   ],
   "source": [
    "spark.read.format(\"delta\").load(\"tmp/my_cloned_people\").show()"
   ]
  },
  {
   "cell_type": "code",
   "execution_count": 29,
   "id": "a6f920c3-76a4-4ecf-9840-d2a91f22b235",
   "metadata": {
    "tags": []
   },
   "outputs": [
    {
     "name": "stdout",
     "output_type": "stream",
     "text": [
      "\u001b[01;34mtmp/my_cloned_people\u001b[0m\n",
      "├── \u001b[01;34m_delta_log\u001b[0m\n",
      "│   ├── \u001b[00m00000000000000000000.checkpoint.parquet\u001b[0m\n",
      "│   ├── \u001b[00m00000000000000000000.json\u001b[0m\n",
      "│   ├── \u001b[00m00000000000000000001.json\u001b[0m\n",
      "│   └── \u001b[00m_last_checkpoint\u001b[0m\n",
      "├── \u001b[00mpart-00000-3c099586-316a-4e8d-b7d8-57827215ceaa-c000.snappy.parquet\u001b[0m\n",
      "└── \u001b[00mpart-00009-2ff4b5d0-995f-4e86-b9ab-68fc54a2847a-c000.snappy.parquet\u001b[0m\n",
      "\n",
      "1 directory, 6 files\n"
     ]
    }
   ],
   "source": [
    "!tree tmp/my_cloned_people"
   ]
  },
  {
   "cell_type": "markdown",
   "id": "af68ae92-7aa4-4a38-ad60-eba32beeb754",
   "metadata": {},
   "source": [
    "## When not matched by source\n",
    "\n",
    "* Imagine this analysis is run on April 12, 2023\n",
    "* \"active\" customers have been last_seen in the previous 30 days"
   ]
  },
  {
   "cell_type": "code",
   "execution_count": 43,
   "id": "267803db-507d-490c-b226-452b5e392448",
   "metadata": {},
   "outputs": [],
   "source": [
    "data = [\n",
    "    (0, \"Bob\", 23, datetime.date(2022, 1, 2), \"inactive\"),  # inactive\n",
    "    (1, \"Sue\", 25, datetime.date(2023, 4, 5), \"active\"),  # active\n",
    "    # marked as active, but should not be active anymore\n",
    "    (\n",
    "        2,\n",
    "        \"Jim\",\n",
    "        27,\n",
    "        datetime.date(2023, 2, 7),\n",
    "        \"active\",\n",
    "    ),\n",
    "]"
   ]
  },
  {
   "cell_type": "code",
   "execution_count": 44,
   "id": "d37d28ba-4e5f-4624-b0ce-1d9916ff5ea0",
   "metadata": {
    "tags": []
   },
   "outputs": [],
   "source": [
    "df = spark.createDataFrame(data).toDF(\"id\", \"name\", \"age\", \"last_seen\", \"status\")"
   ]
  },
  {
   "cell_type": "code",
   "execution_count": 45,
   "id": "bac1df34-bc79-4894-8854-0f5fbdd5e5ad",
   "metadata": {
    "tags": []
   },
   "outputs": [
    {
     "name": "stdout",
     "output_type": "stream",
     "text": [
      "+---+----+---+----------+--------+\n",
      "| id|name|age| last_seen|  status|\n",
      "+---+----+---+----------+--------+\n",
      "|  0| Bob| 23|2022-01-02|inactive|\n",
      "|  1| Sue| 25|2023-04-05|  active|\n",
      "|  2| Jim| 27|2023-02-07|  active|\n",
      "+---+----+---+----------+--------+\n",
      "\n"
     ]
    }
   ],
   "source": [
    "df.show()"
   ]
  },
  {
   "cell_type": "code",
   "execution_count": 46,
   "id": "7e37ab6d-eb9e-4513-9797-cb4f4d9c5071",
   "metadata": {
    "tags": []
   },
   "outputs": [],
   "source": [
    "df.repartition(1).write.format(\"delta\").save(\"tmp/customers\")"
   ]
  },
  {
   "cell_type": "code",
   "execution_count": 47,
   "id": "b6eaaa09-58d7-4f42-9a6d-de5c4d45fac3",
   "metadata": {
    "tags": []
   },
   "outputs": [],
   "source": [
    "new_data = [\n",
    "    (0, \"Bob\", 23, datetime.date.today()),  # existing customer\n",
    "    (3, \"Sally\", 30, datetime.date.today()),  # new customer\n",
    "]"
   ]
  },
  {
   "cell_type": "code",
   "execution_count": 48,
   "id": "5d567101-d18e-42dd-9a8a-327e3ecf343f",
   "metadata": {
    "tags": []
   },
   "outputs": [],
   "source": [
    "new_df = spark.createDataFrame(new_data).toDF(\"id\", \"name\", \"age\", \"current_date\")"
   ]
  },
  {
   "cell_type": "code",
   "execution_count": 49,
   "id": "861cca09-70b4-4aba-80dd-e9ada9d5a600",
   "metadata": {
    "tags": []
   },
   "outputs": [
    {
     "name": "stdout",
     "output_type": "stream",
     "text": [
      "+---+-----+---+------------+\n",
      "| id| name|age|current_date|\n",
      "+---+-----+---+------------+\n",
      "|  0|  Bob| 23|  2023-04-12|\n",
      "|  3|Sally| 30|  2023-04-12|\n",
      "+---+-----+---+------------+\n",
      "\n"
     ]
    }
   ],
   "source": [
    "new_df.show()"
   ]
  },
  {
   "cell_type": "code",
   "execution_count": 50,
   "id": "0aa719df-eec9-4a2c-a5f4-57bd0ee73082",
   "metadata": {
    "tags": []
   },
   "outputs": [],
   "source": [
    "from delta.tables import DeltaTable"
   ]
  },
  {
   "cell_type": "code",
   "execution_count": 51,
   "id": "7e628868-4722-466a-bc5e-ed9965381e51",
   "metadata": {
    "tags": []
   },
   "outputs": [],
   "source": [
    "customers_table = DeltaTable.forPath(spark, \"tmp/customers\")"
   ]
  },
  {
   "cell_type": "code",
   "execution_count": 52,
   "id": "4dc29e51-c654-43fc-83ae-04e24e6dade0",
   "metadata": {
    "tags": []
   },
   "outputs": [
    {
     "name": "stdout",
     "output_type": "stream",
     "text": [
      "+---+----+---+----------+--------+\n",
      "| id|name|age| last_seen|  status|\n",
      "+---+----+---+----------+--------+\n",
      "|  0| Bob| 23|2022-01-02|inactive|\n",
      "|  1| Sue| 25|2023-04-05|  active|\n",
      "|  2| Jim| 27|2023-02-07|  active|\n",
      "+---+----+---+----------+--------+\n",
      "\n"
     ]
    }
   ],
   "source": [
    "customers_table.toDF().show()"
   ]
  },
  {
   "cell_type": "code",
   "execution_count": 53,
   "id": "a334dab4-cdcf-439e-a77e-b77b1bbed776",
   "metadata": {
    "tags": []
   },
   "outputs": [],
   "source": [
    "(\n",
    "    customers_table.alias(\"target\")\n",
    "    .merge(new_df.alias(\"source\"), \"target.id = source.id\")\n",
    "    .whenMatchedUpdate(\n",
    "        set={\"target.last_seen\": \"source.current_date\", \"target.status\": \"'active'\"}\n",
    "    )\n",
    "    .whenNotMatchedInsert(\n",
    "        values={\n",
    "            \"target.id\": \"source.id\",\n",
    "            \"target.name\": \"source.name\",\n",
    "            \"target.age\": \"source.age\",\n",
    "            \"target.last_seen\": \"source.current_date\",\n",
    "            \"target.status\": \"'active'\",\n",
    "        }\n",
    "    )\n",
    "    .whenNotMatchedBySourceUpdate(\n",
    "        condition=\"target.last_seen <= (current_date() - INTERVAL '30' DAY)\",\n",
    "        set={\"target.status\": \"'inactive'\"},\n",
    "    )\n",
    "    .execute()\n",
    ")"
   ]
  },
  {
   "cell_type": "code",
   "execution_count": 54,
   "id": "d1a26c1d-870f-4179-bfc9-2517007cb724",
   "metadata": {
    "tags": []
   },
   "outputs": [
    {
     "name": "stdout",
     "output_type": "stream",
     "text": [
      "+---+-----+---+----------+--------+\n",
      "| id| name|age| last_seen|  status|\n",
      "+---+-----+---+----------+--------+\n",
      "|  0|  Bob| 23|2023-04-12|  active|\n",
      "|  1|  Sue| 25|2023-04-05|  active|\n",
      "|  2|  Jim| 27|2023-02-07|inactive|\n",
      "|  3|Sally| 30|2023-04-12|  active|\n",
      "+---+-----+---+----------+--------+\n",
      "\n"
     ]
    }
   ],
   "source": [
    "DeltaTable.forPath(spark, \"tmp/customers\").toDF().show()"
   ]
  },
  {
   "cell_type": "markdown",
   "id": "715a82ff-0d87-4f8b-a774-a7e179ef7b50",
   "metadata": {},
   "source": [
    "## CREATE TABLE LIKE"
   ]
  },
  {
   "cell_type": "code",
   "execution_count": 55,
   "id": "7cbebe46-82d5-498f-9e42-dacafdb971c8",
   "metadata": {},
   "outputs": [],
   "source": [
    "df = spark.createDataFrame(\n",
    "    [(0, \"Bob\", \"Loblaw\", 23), (1, \"Sue\", \"Grafton\", None), (2, \"Jim\", \"Carrey\", 61)]\n",
    ").toDF(\"id\", \"first_name\", \"last_name\", \"age\")"
   ]
  },
  {
   "cell_type": "code",
   "execution_count": 56,
   "id": "61f85f14-093f-4f62-9940-91d8ed2e3404",
   "metadata": {
    "tags": []
   },
   "outputs": [],
   "source": [
    "df.write.format(\"delta\").saveAsTable(\"default.famous_people\")"
   ]
  },
  {
   "cell_type": "code",
   "execution_count": 58,
   "id": "dc4c1570-b020-4403-8043-5939eb6ac354",
   "metadata": {
    "tags": []
   },
   "outputs": [
    {
     "name": "stdout",
     "output_type": "stream",
     "text": [
      "+---+----------+---------+----+\n",
      "| id|first_name|last_name| age|\n",
      "+---+----------+---------+----+\n",
      "|  0|       Bob|   Loblaw|  23|\n",
      "|  1|       Sue|  Grafton|null|\n",
      "|  2|       Jim|   Carrey|  61|\n",
      "+---+----------+---------+----+\n",
      "\n"
     ]
    }
   ],
   "source": [
    "spark.sql(\"select * from famous_people order by id asc\").show()"
   ]
  },
  {
   "cell_type": "code",
   "execution_count": 59,
   "id": "f1e14c66-ed31-41ab-95d9-2946fbe3749a",
   "metadata": {
    "tags": []
   },
   "outputs": [
    {
     "data": {
      "text/plain": [
       "DataFrame[]"
      ]
     },
     "execution_count": 59,
     "metadata": {},
     "output_type": "execute_result"
    }
   ],
   "source": [
    "spark.sql(\"CREATE TABLE famous_people_duplicate like famous_people\")"
   ]
  },
  {
   "cell_type": "code",
   "execution_count": 60,
   "id": "763a4990-8dac-4be9-a288-8509e3bc2438",
   "metadata": {
    "tags": []
   },
   "outputs": [
    {
     "name": "stdout",
     "output_type": "stream",
     "text": [
      "+---+----------+---------+---+\n",
      "| id|first_name|last_name|age|\n",
      "+---+----------+---------+---+\n",
      "+---+----------+---------+---+\n",
      "\n"
     ]
    }
   ],
   "source": [
    "spark.sql(\"select * from famous_people_duplicate\").show()"
   ]
  },
  {
   "cell_type": "code",
   "execution_count": null,
   "id": "9721271e-b25a-4d4e-ba12-71209ca643fd",
   "metadata": {},
   "outputs": [],
   "source": []
  },
  {
   "cell_type": "markdown",
   "id": "f2f98081-7fe7-48ac-9678-26cf98318052",
   "metadata": {},
   "source": [
    "## Reading change data feed in SQL queries"
   ]
  },
  {
   "cell_type": "code",
   "execution_count": null,
   "id": "a3c6d577-0b59-458b-bc5e-b48a3a837e45",
   "metadata": {},
   "outputs": [],
   "source": []
  },
  {
   "cell_type": "markdown",
   "id": "ba737836-2308-4501-b479-ee94530fe4d3",
   "metadata": {},
   "source": [
    "## Cleanup"
   ]
  },
  {
   "cell_type": "code",
   "execution_count": null,
   "id": "12eca18b-226b-42c4-becc-48c97b6b7d9d",
   "metadata": {},
   "outputs": [],
   "source": []
  }
 ],
 "metadata": {
  "kernelspec": {
   "display_name": "Python [conda env:pyspark-332-delta-230]",
   "language": "python",
   "name": "conda-env-pyspark-332-delta-230-py"
  },
  "language_info": {
   "codemirror_mode": {
    "name": "ipython",
    "version": 3
   },
   "file_extension": ".py",
   "mimetype": "text/x-python",
   "name": "python",
   "nbconvert_exporter": "python",
   "pygments_lexer": "ipython3",
   "version": "3.9.16"
  }
 },
 "nbformat": 4,
 "nbformat_minor": 5
}
