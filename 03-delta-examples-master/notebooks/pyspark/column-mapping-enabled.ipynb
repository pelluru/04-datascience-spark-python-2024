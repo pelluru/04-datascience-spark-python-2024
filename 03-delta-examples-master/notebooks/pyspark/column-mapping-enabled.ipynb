{
 "cells": [
  {
   "cell_type": "markdown",
   "id": "ae14e6cf-f729-46d4-a931-c2f70c92899b",
   "metadata": {},
   "source": [
    "# Parquet files with column mapping enabled"
   ]
  },
  {
   "cell_type": "code",
   "execution_count": 1,
   "id": "d1293d22-65c4-40f4-b249-f45b4281b5f6",
   "metadata": {},
   "outputs": [],
   "source": [
    "import pyspark\n",
    "from delta import *"
   ]
  },
  {
   "cell_type": "code",
   "execution_count": 2,
   "id": "0c33cd93-7770-423d-8ec7-311ec5a6820d",
   "metadata": {},
   "outputs": [],
   "source": [
    "builder = (\n",
    "    pyspark.sql.SparkSession.builder.appName(\"MyApp\")\n",
    "    .config(\"spark.sql.extensions\", \"io.delta.sql.DeltaSparkSessionExtension\")\n",
    "    .config(\n",
    "        \"spark.sql.catalog.spark_catalog\",\n",
    "        \"org.apache.spark.sql.delta.catalog.DeltaCatalog\",\n",
    "    )\n",
    ")"
   ]
  },
  {
   "cell_type": "code",
   "execution_count": 3,
   "id": "2febcd88-6aef-48a9-82fd-70027d2497d9",
   "metadata": {},
   "outputs": [
    {
     "name": "stdout",
     "output_type": "stream",
     "text": [
      ":: loading settings :: url = jar:file:/Users/matthew.powers/opt/miniconda3/envs/pyspark-330-delta-210/lib/python3.9/site-packages/pyspark/jars/ivy-2.5.0.jar!/org/apache/ivy/core/settings/ivysettings.xml\n"
     ]
    },
    {
     "name": "stderr",
     "output_type": "stream",
     "text": [
      "Ivy Default Cache set to: /Users/matthew.powers/.ivy2/cache\n",
      "The jars for the packages stored in: /Users/matthew.powers/.ivy2/jars\n",
      "io.delta#delta-core_2.12 added as a dependency\n",
      ":: resolving dependencies :: org.apache.spark#spark-submit-parent-3eab10ca-db02-4ec5-8772-ac978bb86612;1.0\n",
      "\tconfs: [default]\n",
      "\tfound io.delta#delta-core_2.12;2.1.0 in central\n",
      "\tfound io.delta#delta-storage;2.1.0 in central\n",
      "\tfound org.antlr#antlr4-runtime;4.8 in central\n",
      "\tfound org.codehaus.jackson#jackson-core-asl;1.9.13 in central\n",
      ":: resolution report :: resolve 387ms :: artifacts dl 27ms\n",
      "\t:: modules in use:\n",
      "\tio.delta#delta-core_2.12;2.1.0 from central in [default]\n",
      "\tio.delta#delta-storage;2.1.0 from central in [default]\n",
      "\torg.antlr#antlr4-runtime;4.8 from central in [default]\n",
      "\torg.codehaus.jackson#jackson-core-asl;1.9.13 from central in [default]\n",
      "\t---------------------------------------------------------------------\n",
      "\t|                  |            modules            ||   artifacts   |\n",
      "\t|       conf       | number| search|dwnlded|evicted|| number|dwnlded|\n",
      "\t---------------------------------------------------------------------\n",
      "\t|      default     |   4   |   0   |   0   |   0   ||   4   |   0   |\n",
      "\t---------------------------------------------------------------------\n",
      ":: retrieving :: org.apache.spark#spark-submit-parent-3eab10ca-db02-4ec5-8772-ac978bb86612\n",
      "\tconfs: [default]\n",
      "\t0 artifacts copied, 4 already retrieved (0kB/14ms)\n"
     ]
    },
    {
     "name": "stdout",
     "output_type": "stream",
     "text": [
      "22/09/19 13:36:16 WARN NativeCodeLoader: Unable to load native-hadoop library for your platform... using builtin-java classes where applicable\n"
     ]
    },
    {
     "name": "stderr",
     "output_type": "stream",
     "text": [
      "Setting default log level to \"WARN\".\n",
      "To adjust logging level use sc.setLogLevel(newLevel). For SparkR, use setLogLevel(newLevel).\n"
     ]
    },
    {
     "name": "stdout",
     "output_type": "stream",
     "text": [
      "22/09/19 13:36:18 WARN Utils: Service 'SparkUI' could not bind on port 4040. Attempting port 4041.\n"
     ]
    }
   ],
   "source": [
    "spark = configure_spark_with_delta_pip(builder).getOrCreate()"
   ]
  },
  {
   "cell_type": "code",
   "execution_count": 5,
   "id": "8327f62c-5140-428d-ba4e-068ff07d8e7f",
   "metadata": {},
   "outputs": [
    {
     "name": "stderr",
     "output_type": "stream",
     "text": [
      "                                                                                \r"
     ]
    }
   ],
   "source": [
    "columns = [\"language\", \"num_speakers\"]\n",
    "data = [(\"English\", \"1.5\"), (\"Mandarin\", \"1.1\"), (\"Hindi\", \"0.6\")]\n",
    "rdd = spark.sparkContext.parallelize(data)\n",
    "df = rdd.toDF(columns)"
   ]
  },
  {
   "cell_type": "code",
   "execution_count": 7,
   "id": "369eadac-4209-4fec-816c-3f6246af0534",
   "metadata": {},
   "outputs": [
    {
     "name": "stderr",
     "output_type": "stream",
     "text": [
      "                                                                                \r"
     ]
    }
   ],
   "source": [
    "df.write.format(\"delta\").saveAsTable(\"mydeltalake1\")"
   ]
  },
  {
   "cell_type": "code",
   "execution_count": 8,
   "id": "c4f285a7-3466-4445-9693-ac4d80ec721e",
   "metadata": {
    "tags": []
   },
   "outputs": [
    {
     "name": "stderr",
     "output_type": "stream",
     "text": [
      "                                                                                \r"
     ]
    },
    {
     "data": {
      "text/plain": [
       "DataFrame[]"
      ]
     },
     "execution_count": 8,
     "metadata": {},
     "output_type": "execute_result"
    }
   ],
   "source": [
    "spark.sql(\n",
    "    \"\"\"ALTER TABLE `mydeltalake1` SET TBLPROPERTIES (\n",
    "   'delta.columnMapping.mode' = 'name',\n",
    "   'delta.minReaderVersion' = '2',\n",
    "   'delta.minWriterVersion' = '5')\"\"\"\n",
    ")"
   ]
  },
  {
   "cell_type": "code",
   "execution_count": 9,
   "id": "417debf2-3fbf-4e04-a974-ddbf756474b5",
   "metadata": {},
   "outputs": [
    {
     "name": "stdout",
     "output_type": "stream",
     "text": [
      "\u001b[01;34mspark-warehouse/mydeltalake1\u001b[0m\n",
      "├── \u001b[01;34m_delta_log\u001b[0m\n",
      "│   ├── \u001b[00m00000000000000000000.json\u001b[0m\n",
      "│   └── \u001b[00m00000000000000000001.json\u001b[0m\n",
      "├── \u001b[00mpart-00000-1cfa9924-48d5-4573-abbe-db4531926c64-c000.snappy.parquet\u001b[0m\n",
      "├── \u001b[00mpart-00003-054d4636-fd36-45c9-aec8-62d79d2ff260-c000.snappy.parquet\u001b[0m\n",
      "├── \u001b[00mpart-00006-84743340-f7db-4560-9d4a-6b952f69762a-c000.snappy.parquet\u001b[0m\n",
      "└── \u001b[00mpart-00009-f1827133-315f-4e46-ae06-d61601435aab-c000.snappy.parquet\u001b[0m\n",
      "\n",
      "1 directory, 6 files\n"
     ]
    }
   ],
   "source": [
    "!tree spark-warehouse/mydeltalake1"
   ]
  },
  {
   "cell_type": "markdown",
   "id": "2964a167-c91d-41e2-9534-96b93a122600",
   "metadata": {},
   "source": [
    "## Inspect Parquet file with PyArrow"
   ]
  },
  {
   "cell_type": "code",
   "execution_count": 10,
   "id": "33ee3ea2-c4b4-4636-8437-8b92395988ec",
   "metadata": {},
   "outputs": [],
   "source": [
    "import pyarrow.parquet as pq"
   ]
  },
  {
   "cell_type": "code",
   "execution_count": 12,
   "id": "1d13364e-073b-4eeb-86f0-b73520096bbe",
   "metadata": {},
   "outputs": [],
   "source": [
    "parquet_file = pq.ParquetFile('spark-warehouse/mydeltalake1/part-00000-1cfa9924-48d5-4573-abbe-db4531926c64-c000.snappy.parquet')"
   ]
  },
  {
   "cell_type": "code",
   "execution_count": 14,
   "id": "d5770dc8-fc0a-40c6-bc5e-efc7a1c1c969",
   "metadata": {},
   "outputs": [
    {
     "data": {
      "text/plain": [
       "<pyarrow._parquet.ParquetSchema object at 0x157124c80>\n",
       "required group field_id=-1 spark_schema {\n",
       "  optional binary field_id=-1 language (String);\n",
       "  optional binary field_id=-1 num_speakers (String);\n",
       "}"
      ]
     },
     "execution_count": 14,
     "metadata": {},
     "output_type": "execute_result"
    }
   ],
   "source": [
    "parquet_file.schema"
   ]
  },
  {
   "cell_type": "code",
   "execution_count": null,
   "id": "8a6ea6d1-cbe0-437f-bad2-e7b1506b16b8",
   "metadata": {},
   "outputs": [],
   "source": []
  }
 ],
 "metadata": {
  "kernelspec": {
   "display_name": "Python [conda env:pyspark-340-delta-240]",
   "language": "python",
   "name": "conda-env-pyspark-340-delta-240-py"
  },
  "language_info": {
   "codemirror_mode": {
    "name": "ipython",
    "version": 3
   },
   "file_extension": ".py",
   "mimetype": "text/x-python",
   "name": "python",
   "nbconvert_exporter": "python",
   "pygments_lexer": "ipython3",
   "version": "3.9.16"
  }
 },
 "nbformat": 4,
 "nbformat_minor": 5
}
