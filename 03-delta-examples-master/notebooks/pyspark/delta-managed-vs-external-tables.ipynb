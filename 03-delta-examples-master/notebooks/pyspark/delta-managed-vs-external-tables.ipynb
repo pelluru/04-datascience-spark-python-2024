{
 "cells": [
  {
   "cell_type": "markdown",
   "id": "f2c4bd4b-e48e-40c2-bca2-ad16d67199fc",
   "metadata": {},
   "source": [
    "# Delta Lake Managed vs External Tables\n",
    "\n",
    "This notebook demonstrates how to create managed and external tables with Delta Lake."
   ]
  },
  {
   "cell_type": "code",
   "execution_count": 1,
   "id": "79ba600d-29b1-4a8d-a3e8-8ac4e416961c",
   "metadata": {},
   "outputs": [],
   "source": [
    "import pyspark\n",
    "from delta import *\n",
    "from pyspark.sql.types import *"
   ]
  },
  {
   "cell_type": "code",
   "execution_count": 2,
   "id": "aa82114c-61e3-424a-8cb3-0141ca495469",
   "metadata": {},
   "outputs": [],
   "source": [
    "builder = (\n",
    "    pyspark.sql.SparkSession.builder.appName(\"MyApp\")\n",
    "    .config(\"spark.sql.extensions\", \"io.delta.sql.DeltaSparkSessionExtension\")\n",
    "    .config(\n",
    "        \"spark.sql.catalog.spark_catalog\",\n",
    "        \"org.apache.spark.sql.delta.catalog.DeltaCatalog\",\n",
    "    )\n",
    ")"
   ]
  },
  {
   "cell_type": "code",
   "execution_count": 3,
   "id": "6301f210-a13a-48b5-af88-ba0b3165f836",
   "metadata": {},
   "outputs": [
    {
     "name": "stdout",
     "output_type": "stream",
     "text": [
      ":: loading settings :: url = jar:file:/Users/matthew.powers/opt/miniconda3/envs/pyspark-330-delta-210/lib/python3.9/site-packages/pyspark/jars/ivy-2.5.0.jar!/org/apache/ivy/core/settings/ivysettings.xml\n"
     ]
    },
    {
     "name": "stderr",
     "output_type": "stream",
     "text": [
      "Ivy Default Cache set to: /Users/matthew.powers/.ivy2/cache\n",
      "The jars for the packages stored in: /Users/matthew.powers/.ivy2/jars\n",
      "io.delta#delta-core_2.12 added as a dependency\n",
      ":: resolving dependencies :: org.apache.spark#spark-submit-parent-c78bb9b5-aa4b-49a2-89fd-d3ade02e74a1;1.0\n",
      "\tconfs: [default]\n",
      "\tfound io.delta#delta-core_2.12;2.1.0 in central\n",
      "\tfound io.delta#delta-storage;2.1.0 in central\n",
      "\tfound org.antlr#antlr4-runtime;4.8 in central\n",
      "\tfound org.codehaus.jackson#jackson-core-asl;1.9.13 in central\n",
      ":: resolution report :: resolve 304ms :: artifacts dl 23ms\n",
      "\t:: modules in use:\n",
      "\tio.delta#delta-core_2.12;2.1.0 from central in [default]\n",
      "\tio.delta#delta-storage;2.1.0 from central in [default]\n",
      "\torg.antlr#antlr4-runtime;4.8 from central in [default]\n",
      "\torg.codehaus.jackson#jackson-core-asl;1.9.13 from central in [default]\n",
      "\t---------------------------------------------------------------------\n",
      "\t|                  |            modules            ||   artifacts   |\n",
      "\t|       conf       | number| search|dwnlded|evicted|| number|dwnlded|\n",
      "\t---------------------------------------------------------------------\n",
      "\t|      default     |   4   |   0   |   0   |   0   ||   4   |   0   |\n",
      "\t---------------------------------------------------------------------\n",
      ":: retrieving :: org.apache.spark#spark-submit-parent-c78bb9b5-aa4b-49a2-89fd-d3ade02e74a1\n",
      "\tconfs: [default]\n",
      "\t0 artifacts copied, 4 already retrieved (0kB/19ms)\n"
     ]
    },
    {
     "name": "stdout",
     "output_type": "stream",
     "text": [
      "22/10/11 16:46:46 WARN NativeCodeLoader: Unable to load native-hadoop library for your platform... using builtin-java classes where applicable\n"
     ]
    },
    {
     "name": "stderr",
     "output_type": "stream",
     "text": [
      "Setting default log level to \"WARN\".\n",
      "To adjust logging level use sc.setLogLevel(newLevel). For SparkR, use setLogLevel(newLevel).\n"
     ]
    }
   ],
   "source": [
    "spark = configure_spark_with_delta_pip(builder).getOrCreate()"
   ]
  },
  {
   "cell_type": "markdown",
   "id": "4e1fd932-a6d1-4ada-9351-e5c949cdf6f9",
   "metadata": {},
   "source": [
    "## Create Delta Lake table with save"
   ]
  },
  {
   "cell_type": "code",
   "execution_count": 5,
   "id": "04902982-729b-4f21-bf4c-b8c3b41f9a4e",
   "metadata": {},
   "outputs": [],
   "source": [
    "columns = [\"movie\", \"release_date\"]\n",
    "data = [(\"The Godfather\", 1972), (\"Detective Pikachu\", 2019), (\"Donny Darko\", 2001)]\n",
    "rdd = spark.sparkContext.parallelize(data)\n",
    "df = rdd.toDF(columns)"
   ]
  },
  {
   "cell_type": "code",
   "execution_count": 6,
   "id": "f2af6986-6bcc-4219-9f7b-28796a95954e",
   "metadata": {},
   "outputs": [
    {
     "name": "stderr",
     "output_type": "stream",
     "text": [
      "                                                                                \r"
     ]
    }
   ],
   "source": [
    "df.write.format(\"delta\").save(\"tmp/some_delta_lake\")"
   ]
  },
  {
   "cell_type": "code",
   "execution_count": 8,
   "id": "0cc1596c-db79-4d81-a53a-3f80ca19fc66",
   "metadata": {},
   "outputs": [
    {
     "name": "stdout",
     "output_type": "stream",
     "text": [
      "\u001b[01;34mtmp/some_delta_lake\u001b[0m\n",
      "├── \u001b[01;34m_delta_log\u001b[0m\n",
      "│   └── \u001b[00m00000000000000000000.json\u001b[0m\n",
      "├── \u001b[00mpart-00000-43141f85-4de4-45d6-b17b-7b329382628b-c000.snappy.parquet\u001b[0m\n",
      "├── \u001b[00mpart-00003-14759774-2b5e-444f-a53f-7a26ccd7c51a-c000.snappy.parquet\u001b[0m\n",
      "├── \u001b[00mpart-00006-83a16b8f-3a18-43da-b2fc-39f50677c942-c000.snappy.parquet\u001b[0m\n",
      "└── \u001b[00mpart-00009-a7f2c1e6-c6e0-4098-9342-597ecba0e035-c000.snappy.parquet\u001b[0m\n",
      "\n",
      "1 directory, 5 files\n"
     ]
    }
   ],
   "source": [
    "!tree tmp/some_delta_lake"
   ]
  },
  {
   "cell_type": "code",
   "execution_count": 9,
   "id": "02daf155-1c34-4e7f-9122-e10755ee2a12",
   "metadata": {
    "tags": []
   },
   "outputs": [
    {
     "name": "stdout",
     "output_type": "stream",
     "text": [
      "+-----------------+------------+\n",
      "|            movie|release_date|\n",
      "+-----------------+------------+\n",
      "|Detective Pikachu|        2019|\n",
      "|    The Godfather|        1972|\n",
      "|      Donny Darko|        2001|\n",
      "+-----------------+------------+\n",
      "\n"
     ]
    }
   ],
   "source": [
    "spark.read.format(\"delta\").load(\"tmp/some_delta_lake\").show()"
   ]
  },
  {
   "cell_type": "code",
   "execution_count": 10,
   "id": "585d28e6-4722-419f-9479-211dd6bd65a4",
   "metadata": {},
   "outputs": [],
   "source": [
    "df.createOrReplaceTempView(\"some_view\")"
   ]
  },
  {
   "cell_type": "code",
   "execution_count": 13,
   "id": "dd7b0bb3-a40d-435f-a35b-c1dfbf0138e7",
   "metadata": {},
   "outputs": [
    {
     "name": "stdout",
     "output_type": "stream",
     "text": [
      "+-----------------+------------+\n",
      "|            movie|release_date|\n",
      "+-----------------+------------+\n",
      "|    The Godfather|        1972|\n",
      "|Detective Pikachu|        2019|\n",
      "|      Donny Darko|        2001|\n",
      "+-----------------+------------+\n",
      "\n"
     ]
    }
   ],
   "source": [
    "spark.sql(\"SELECT * FROM some_view\").show()"
   ]
  },
  {
   "cell_type": "code",
   "execution_count": 11,
   "id": "21f0dc9f-17be-455c-8748-af811e996635",
   "metadata": {},
   "outputs": [
    {
     "name": "stdout",
     "output_type": "stream",
     "text": [
      "+------------+---------+-------+\n",
      "|col_name    |data_type|comment|\n",
      "+------------+---------+-------+\n",
      "|movie       |string   |null   |\n",
      "|release_date|bigint   |null   |\n",
      "+------------+---------+-------+\n",
      "\n"
     ]
    }
   ],
   "source": [
    "spark.sql(\"DESCRIBE TABLE EXTENDED some_view\").show(truncate=False)"
   ]
  },
  {
   "cell_type": "code",
   "execution_count": 7,
   "id": "3d50453d-f1e0-40b0-8f21-2fb29eba73f5",
   "metadata": {},
   "outputs": [],
   "source": [
    "%rm -rf tmp/some_delta_lake"
   ]
  },
  {
   "cell_type": "markdown",
   "id": "8af5468c-00c1-4f3e-98b9-d51377beab1b",
   "metadata": {},
   "source": [
    "## Create external Delta Lake table with saveAsTable"
   ]
  },
  {
   "cell_type": "code",
   "execution_count": 15,
   "id": "bc421056-d9b6-41e3-b1c7-b25ec5c785c8",
   "metadata": {},
   "outputs": [
    {
     "name": "stderr",
     "output_type": "stream",
     "text": [
      "                                                                                \r"
     ]
    }
   ],
   "source": [
    "df.write.format(\"delta\").option(\"path\", \"tmp/some_external_table\").saveAsTable(\n",
    "    \"default.my_external_table\"\n",
    ")"
   ]
  },
  {
   "cell_type": "code",
   "execution_count": 16,
   "id": "9057d449-2dd3-41a9-838b-a9206f7f7b9e",
   "metadata": {},
   "outputs": [
    {
     "name": "stdout",
     "output_type": "stream",
     "text": [
      "+-----------------+------------+\n",
      "|            movie|release_date|\n",
      "+-----------------+------------+\n",
      "|Detective Pikachu|        2019|\n",
      "|    The Godfather|        1972|\n",
      "|      Donny Darko|        2001|\n",
      "+-----------------+------------+\n",
      "\n"
     ]
    }
   ],
   "source": [
    "spark.sql(\"select * from my_external_table\").show()"
   ]
  },
  {
   "cell_type": "code",
   "execution_count": 17,
   "id": "b5f8aabd-c1c2-47ef-be81-64e20db13f77",
   "metadata": {},
   "outputs": [
    {
     "name": "stdout",
     "output_type": "stream",
     "text": [
      "+-----------------+------------+\n",
      "|            movie|release_date|\n",
      "+-----------------+------------+\n",
      "|Detective Pikachu|        2019|\n",
      "|    The Godfather|        1972|\n",
      "|      Donny Darko|        2001|\n",
      "+-----------------+------------+\n",
      "\n"
     ]
    }
   ],
   "source": [
    "spark.table(\"my_external_table\").show()"
   ]
  },
  {
   "cell_type": "code",
   "execution_count": 19,
   "id": "1b9b03c4-7568-4120-b0bc-4d1816831b1c",
   "metadata": {},
   "outputs": [
    {
     "name": "stdout",
     "output_type": "stream",
     "text": [
      "+---------------+---------+-------+\n",
      "|col_name       |data_type|comment|\n",
      "+---------------+---------+-------+\n",
      "|movie          |string   |       |\n",
      "|release_date   |bigint   |       |\n",
      "|               |         |       |\n",
      "|# Partitioning |         |       |\n",
      "|Not partitioned|         |       |\n",
      "+---------------+---------+-------+\n",
      "\n"
     ]
    }
   ],
   "source": [
    "spark.sql(\"DESCRIBE TABLE my_external_table\").show(truncate=False)"
   ]
  },
  {
   "cell_type": "code",
   "execution_count": 18,
   "id": "ffd2606d-dc30-4b09-9549-8a7293131242",
   "metadata": {},
   "outputs": [
    {
     "name": "stdout",
     "output_type": "stream",
     "text": [
      "+----------------------------+--------------------------------------------------------------------------------------------------------------------------+-------+\n",
      "|col_name                    |data_type                                                                                                                 |comment|\n",
      "+----------------------------+--------------------------------------------------------------------------------------------------------------------------+-------+\n",
      "|movie                       |string                                                                                                                    |       |\n",
      "|release_date                |bigint                                                                                                                    |       |\n",
      "|                            |                                                                                                                          |       |\n",
      "|# Partitioning              |                                                                                                                          |       |\n",
      "|Not partitioned             |                                                                                                                          |       |\n",
      "|                            |                                                                                                                          |       |\n",
      "|# Detailed Table Information|                                                                                                                          |       |\n",
      "|Name                        |default.my_external_table                                                                                                 |       |\n",
      "|Location                    |file:/Users/matthew.powers/Documents/code/my_apps/delta-examples/notebooks/pyspark/spark-warehouse/tmp/some_external_table|       |\n",
      "|Provider                    |delta                                                                                                                     |       |\n",
      "|External                    |true                                                                                                                      |       |\n",
      "|Table Properties            |[delta.minReaderVersion=1,delta.minWriterVersion=2]                                                                       |       |\n",
      "+----------------------------+--------------------------------------------------------------------------------------------------------------------------+-------+\n",
      "\n"
     ]
    }
   ],
   "source": [
    "spark.sql(\"DESCRIBE TABLE EXTENDED my_external_table\").show(truncate=False)"
   ]
  },
  {
   "cell_type": "code",
   "execution_count": 15,
   "id": "3eb11b19-0bbe-4c1e-8c9e-13ff14d66446",
   "metadata": {},
   "outputs": [],
   "source": [
    "%rm -rf some_external_table"
   ]
  },
  {
   "cell_type": "markdown",
   "id": "4a6c005d-4a2e-4ab7-8f59-061316d9150c",
   "metadata": {},
   "source": [
    "## Creating Delta Lake Managed Table"
   ]
  },
  {
   "cell_type": "code",
   "execution_count": null,
   "id": "92e6b748-8106-40e9-a81b-b38db2b99c31",
   "metadata": {},
   "outputs": [],
   "source": []
  },
  {
   "cell_type": "code",
   "execution_count": 20,
   "id": "7b8ba775-b372-4954-be23-78c2a21d0ad3",
   "metadata": {},
   "outputs": [
    {
     "name": "stderr",
     "output_type": "stream",
     "text": [
      "                                                                                \r"
     ]
    }
   ],
   "source": [
    "df.write.format(\"delta\").mode(\"overwrite\").saveAsTable(\"some_managed_table\")"
   ]
  },
  {
   "cell_type": "code",
   "execution_count": 26,
   "id": "dcd77ed8-675c-4aba-856a-d2895615101a",
   "metadata": {},
   "outputs": [
    {
     "name": "stdout",
     "output_type": "stream",
     "text": [
      "+-----------------+------------+\n",
      "|            movie|release_date|\n",
      "+-----------------+------------+\n",
      "|Detective Pikachu|        2019|\n",
      "|    The Godfather|        1972|\n",
      "|      Donny Darko|        2001|\n",
      "+-----------------+------------+\n",
      "\n"
     ]
    }
   ],
   "source": [
    "spark.table(\"some_managed_table\").show()"
   ]
  },
  {
   "cell_type": "code",
   "execution_count": 21,
   "id": "f5829bb5-d05c-498e-91ae-0d2796ef2555",
   "metadata": {},
   "outputs": [
    {
     "name": "stdout",
     "output_type": "stream",
     "text": [
      "\u001b[01;34mspark-warehouse/some_managed_table\u001b[0m\n",
      "├── \u001b[01;34m_delta_log\u001b[0m\n",
      "│   └── \u001b[00m00000000000000000000.json\u001b[0m\n",
      "├── \u001b[00mpart-00000-3d163841-6018-4dea-b8ac-40ffdb0d9641-c000.snappy.parquet\u001b[0m\n",
      "├── \u001b[00mpart-00003-ec50c15d-26f5-4dce-a09b-93ada38f75be-c000.snappy.parquet\u001b[0m\n",
      "├── \u001b[00mpart-00006-55b380fd-acbc-4298-ba42-0938909a524c-c000.snappy.parquet\u001b[0m\n",
      "└── \u001b[00mpart-00009-6668ddd5-f0b8-410f-97a5-d9fa9c224978-c000.snappy.parquet\u001b[0m\n",
      "\n",
      "1 directory, 5 files\n"
     ]
    }
   ],
   "source": [
    "!tree spark-warehouse/some_managed_table"
   ]
  },
  {
   "cell_type": "code",
   "execution_count": 22,
   "id": "26d2b7c0-6f3a-49fb-9ace-d145e9e9c644",
   "metadata": {},
   "outputs": [
    {
     "name": "stdout",
     "output_type": "stream",
     "text": [
      "+-----------------+------------+\n",
      "|            movie|release_date|\n",
      "+-----------------+------------+\n",
      "|Detective Pikachu|        2019|\n",
      "|    The Godfather|        1972|\n",
      "|      Donny Darko|        2001|\n",
      "+-----------------+------------+\n",
      "\n"
     ]
    }
   ],
   "source": [
    "spark.sql(\"select * from some_managed_table\").show()"
   ]
  },
  {
   "cell_type": "code",
   "execution_count": 25,
   "id": "19f23268-4ccc-4903-bf22-87691f5fcbc7",
   "metadata": {},
   "outputs": [
    {
     "name": "stdout",
     "output_type": "stream",
     "text": [
      "+----------------------------+---------------------------------------------------------------------------------------------------------------------+-------+\n",
      "|col_name                    |data_type                                                                                                            |comment|\n",
      "+----------------------------+---------------------------------------------------------------------------------------------------------------------+-------+\n",
      "|movie                       |string                                                                                                               |       |\n",
      "|release_date                |bigint                                                                                                               |       |\n",
      "|                            |                                                                                                                     |       |\n",
      "|# Partitioning              |                                                                                                                     |       |\n",
      "|Not partitioned             |                                                                                                                     |       |\n",
      "|                            |                                                                                                                     |       |\n",
      "|# Detailed Table Information|                                                                                                                     |       |\n",
      "|Name                        |default.some_managed_table                                                                                           |       |\n",
      "|Location                    |file:/Users/matthew.powers/Documents/code/my_apps/delta-examples/notebooks/pyspark/spark-warehouse/some_managed_table|       |\n",
      "|Provider                    |delta                                                                                                                |       |\n",
      "|Table Properties            |[delta.minReaderVersion=1,delta.minWriterVersion=2]                                                                  |       |\n",
      "+----------------------------+---------------------------------------------------------------------------------------------------------------------+-------+\n",
      "\n"
     ]
    }
   ],
   "source": [
    "spark.sql(\"DESCRIBE TABLE EXTENDED some_managed_table\").show(truncate=False)"
   ]
  },
  {
   "cell_type": "code",
   "execution_count": 27,
   "id": "4188c03d-f449-4999-a90d-768ec5a400aa",
   "metadata": {},
   "outputs": [
    {
     "name": "stderr",
     "output_type": "stream",
     "text": [
      "                                                                                \r"
     ]
    },
    {
     "data": {
      "text/html": [
       "<div>\n",
       "<style scoped>\n",
       "    .dataframe tbody tr th:only-of-type {\n",
       "        vertical-align: middle;\n",
       "    }\n",
       "\n",
       "    .dataframe tbody tr th {\n",
       "        vertical-align: top;\n",
       "    }\n",
       "\n",
       "    .dataframe thead th {\n",
       "        text-align: right;\n",
       "    }\n",
       "</style>\n",
       "<table border=\"1\" class=\"dataframe\">\n",
       "  <thead>\n",
       "    <tr style=\"text-align: right;\">\n",
       "      <th></th>\n",
       "      <th>col_name</th>\n",
       "      <th>data_type</th>\n",
       "      <th>comment</th>\n",
       "    </tr>\n",
       "  </thead>\n",
       "  <tbody>\n",
       "    <tr>\n",
       "      <th>0</th>\n",
       "      <td>movie</td>\n",
       "      <td>string</td>\n",
       "      <td></td>\n",
       "    </tr>\n",
       "    <tr>\n",
       "      <th>1</th>\n",
       "      <td>release_date</td>\n",
       "      <td>bigint</td>\n",
       "      <td></td>\n",
       "    </tr>\n",
       "    <tr>\n",
       "      <th>2</th>\n",
       "      <td></td>\n",
       "      <td></td>\n",
       "      <td></td>\n",
       "    </tr>\n",
       "    <tr>\n",
       "      <th>3</th>\n",
       "      <td># Partitioning</td>\n",
       "      <td></td>\n",
       "      <td></td>\n",
       "    </tr>\n",
       "    <tr>\n",
       "      <th>4</th>\n",
       "      <td>Not partitioned</td>\n",
       "      <td></td>\n",
       "      <td></td>\n",
       "    </tr>\n",
       "    <tr>\n",
       "      <th>5</th>\n",
       "      <td></td>\n",
       "      <td></td>\n",
       "      <td></td>\n",
       "    </tr>\n",
       "    <tr>\n",
       "      <th>6</th>\n",
       "      <td># Detailed Table Information</td>\n",
       "      <td></td>\n",
       "      <td></td>\n",
       "    </tr>\n",
       "    <tr>\n",
       "      <th>7</th>\n",
       "      <td>Name</td>\n",
       "      <td>default.some_managed_table</td>\n",
       "      <td></td>\n",
       "    </tr>\n",
       "    <tr>\n",
       "      <th>8</th>\n",
       "      <td>Location</td>\n",
       "      <td>file:/Users/matthew.powers/Documents/code/my_a...</td>\n",
       "      <td></td>\n",
       "    </tr>\n",
       "    <tr>\n",
       "      <th>9</th>\n",
       "      <td>Provider</td>\n",
       "      <td>delta</td>\n",
       "      <td></td>\n",
       "    </tr>\n",
       "    <tr>\n",
       "      <th>10</th>\n",
       "      <td>Table Properties</td>\n",
       "      <td>[delta.minReaderVersion=1,delta.minWriterVersi...</td>\n",
       "      <td></td>\n",
       "    </tr>\n",
       "  </tbody>\n",
       "</table>\n",
       "</div>"
      ],
      "text/plain": [
       "                        col_name  \\\n",
       "0                          movie   \n",
       "1                   release_date   \n",
       "2                                  \n",
       "3                 # Partitioning   \n",
       "4                Not partitioned   \n",
       "5                                  \n",
       "6   # Detailed Table Information   \n",
       "7                           Name   \n",
       "8                       Location   \n",
       "9                       Provider   \n",
       "10              Table Properties   \n",
       "\n",
       "                                            data_type comment  \n",
       "0                                              string          \n",
       "1                                              bigint          \n",
       "2                                                              \n",
       "3                                                              \n",
       "4                                                              \n",
       "5                                                              \n",
       "6                                                              \n",
       "7                          default.some_managed_table          \n",
       "8   file:/Users/matthew.powers/Documents/code/my_a...          \n",
       "9                                               delta          \n",
       "10  [delta.minReaderVersion=1,delta.minWriterVersi...          "
      ]
     },
     "execution_count": 27,
     "metadata": {},
     "output_type": "execute_result"
    }
   ],
   "source": [
    "spark.sql(\"DESCRIBE TABLE EXTENDED some_managed_table\").toPandas()"
   ]
  },
  {
   "cell_type": "code",
   "execution_count": 31,
   "id": "87548823-1e38-470d-b3b8-fd3157e3e844",
   "metadata": {},
   "outputs": [
    {
     "data": {
      "text/plain": [
       "'[delta.minReaderVersion=1,delta.minWriterVersion=2]'"
      ]
     },
     "execution_count": 31,
     "metadata": {},
     "output_type": "execute_result"
    }
   ],
   "source": [
    "spark.sql(\"DESCRIBE TABLE EXTENDED some_managed_table\").toPandas().iloc[10][1]"
   ]
  },
  {
   "cell_type": "code",
   "execution_count": null,
   "id": "abc4ff87-b7ef-48c1-8838-b61aabc1ee0e",
   "metadata": {},
   "outputs": [],
   "source": []
  }
 ],
 "metadata": {
  "kernelspec": {
   "display_name": "Python [conda env:pyspark-330-delta-210] *",
   "language": "python",
   "name": "conda-env-pyspark-330-delta-210-py"
  },
  "language_info": {
   "codemirror_mode": {
    "name": "ipython",
    "version": 3
   },
   "file_extension": ".py",
   "mimetype": "text/x-python",
   "name": "python",
   "nbconvert_exporter": "python",
   "pygments_lexer": "ipython3",
   "version": "3.9.13"
  }
 },
 "nbformat": 4,
 "nbformat_minor": 5
}
