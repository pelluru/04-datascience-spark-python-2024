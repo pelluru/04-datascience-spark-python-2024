{
 "cells": [
  {
   "cell_type": "code",
   "execution_count": null,
   "id": "e73a1ac6-e1e0-43f9-b218-3ae0ee29b712",
   "metadata": {},
   "outputs": [],
   "source": []
  }
 ],
 "metadata": {
  "kernelspec": {
   "display_name": "Python [conda env:mr-delta] *",
   "language": "python",
   "name": "conda-env-mr-delta-py"
  },
  "language_info": {
   "codemirror_mode": {
    "name": "ipython",
    "version": 3
   },
   "file_extension": ".py",
   "mimetype": "text/x-python",
   "name": "python",
   "nbconvert_exporter": "python",
   "pygments_lexer": "ipython3",
   "version": "3.9.13"
  }
 },
 "nbformat": 4,
 "nbformat_minor": 5
}
