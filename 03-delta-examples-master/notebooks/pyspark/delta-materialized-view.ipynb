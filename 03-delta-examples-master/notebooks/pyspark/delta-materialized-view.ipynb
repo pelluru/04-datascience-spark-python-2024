{
 "cells": [
  {
   "cell_type": "markdown",
   "id": "3f15b3ee-0ef0-4222-948c-e7c45103a7e5",
   "metadata": {},
   "source": [
    "# Create Materialized View with Delta"
   ]
  },
  {
   "cell_type": "code",
   "execution_count": 20,
   "id": "3299ef2c-1d83-4181-990d-3634ac3dcf23",
   "metadata": {},
   "outputs": [],
   "source": [
    "import pyspark\n",
    "from delta import *\n",
    "import pyspark.sql.functions as F"
   ]
  },
  {
   "cell_type": "code",
   "execution_count": 21,
   "id": "a23cc052-f495-4d28-86e6-4fd0b06cad41",
   "metadata": {},
   "outputs": [],
   "source": [
    "builder = (\n",
    "    pyspark.sql.SparkSession.builder.appName(\"MyApp\")\n",
    "    .config(\"spark.sql.extensions\", \"io.delta.sql.DeltaSparkSessionExtension\")\n",
    "    .config(\n",
    "        \"spark.sql.catalog.spark_catalog\",\n",
    "        \"org.apache.spark.sql.delta.catalog.DeltaCatalog\",\n",
    "    )\n",
    ")"
   ]
  },
  {
   "cell_type": "code",
   "execution_count": 22,
   "id": "1040f421-ff35-447a-948d-fe5ece33af72",
   "metadata": {},
   "outputs": [],
   "source": [
    "spark = configure_spark_with_delta_pip(builder).getOrCreate()"
   ]
  },
  {
   "cell_type": "code",
   "execution_count": 23,
   "id": "8bfb8dbd-d22a-4474-910f-96b2492aa6ee",
   "metadata": {},
   "outputs": [
    {
     "data": {
      "text/plain": [
       "DataFrame[]"
      ]
     },
     "execution_count": 23,
     "metadata": {},
     "output_type": "execute_result"
    }
   ],
   "source": [
    "spark.sql(\"drop table if exists `my_cool_table`\")"
   ]
  },
  {
   "cell_type": "code",
   "execution_count": 24,
   "id": "9926b9ef-b57c-4d99-9ce8-5efea5540237",
   "metadata": {},
   "outputs": [],
   "source": [
    "columns = [\"language\", \"num_speakers\"]\n",
    "data = [(\"English\", \"1.5\"), (\"Mandarin\", \"1.1\"), (\"Hindi\", \"0.6\")]\n",
    "rdd = spark.sparkContext.parallelize(data)\n",
    "df = rdd.toDF(columns)"
   ]
  },
  {
   "cell_type": "code",
   "execution_count": 25,
   "id": "8e9caa8b-dd34-4725-8a28-53a5a7ae95af",
   "metadata": {},
   "outputs": [
    {
     "name": "stderr",
     "output_type": "stream",
     "text": [
      "                                                                                \r"
     ]
    }
   ],
   "source": [
    "df.write.format(\"delta\").saveAsTable(\"default.my_cool_table\")"
   ]
  },
  {
   "cell_type": "code",
   "execution_count": 26,
   "id": "3dc563e0-36ca-4a9c-ae29-148577335bee",
   "metadata": {},
   "outputs": [],
   "source": [
    "df = spark.table(\"my_cool_table\")"
   ]
  },
  {
   "cell_type": "markdown",
   "id": "1f66c53b-2765-4d51-9c5e-ae02f2a6081f",
   "metadata": {},
   "source": [
    "## Create a regular view"
   ]
  },
  {
   "cell_type": "code",
   "execution_count": 27,
   "id": "146cb39d-ac26-433d-b230-1ae1df104df5",
   "metadata": {},
   "outputs": [],
   "source": [
    "df.filter(F.col(\"num_speakers\") > 1.0).createOrReplaceTempView(\"my_regular_view\")"
   ]
  },
  {
   "cell_type": "code",
   "execution_count": 28,
   "id": "57ff18dd-10e7-4c18-bd4b-840dcbbea73a",
   "metadata": {},
   "outputs": [
    {
     "name": "stdout",
     "output_type": "stream",
     "text": [
      "+--------+------------+\n",
      "|language|num_speakers|\n",
      "+--------+------------+\n",
      "|Mandarin|         1.1|\n",
      "| English|         1.5|\n",
      "+--------+------------+\n",
      "\n"
     ]
    }
   ],
   "source": [
    "spark.sql(\"select * from my_regular_view\").show()"
   ]
  },
  {
   "cell_type": "markdown",
   "id": "f56b6e04-e471-46a6-b886-ce3d091bc66d",
   "metadata": {},
   "source": [
    "## Create a materialized view"
   ]
  },
  {
   "cell_type": "code",
   "execution_count": 30,
   "id": "4143a1b1-2c8d-4fb6-adbf-6a1dbdd321fc",
   "metadata": {},
   "outputs": [],
   "source": [
    "df.filter(F.col(\"num_speakers\") > 1.0).write.format(\"delta\").saveAsTable(\"default.my_persisted_view\")"
   ]
  },
  {
   "cell_type": "code",
   "execution_count": 32,
   "id": "b1031d77-3221-4593-8ccc-c757689b34ad",
   "metadata": {},
   "outputs": [],
   "source": [
    "df = spark.table(\"my_persisted_view\")"
   ]
  },
  {
   "cell_type": "code",
   "execution_count": 33,
   "id": "96185355-8399-4de2-b8a3-ce878fc806f3",
   "metadata": {},
   "outputs": [],
   "source": [
    "df.createOrReplaceTempView(\"my_materialized_view\")"
   ]
  },
  {
   "cell_type": "code",
   "execution_count": 34,
   "id": "13835193-9e4e-4a58-a659-09ccd0c1adfd",
   "metadata": {},
   "outputs": [
    {
     "name": "stdout",
     "output_type": "stream",
     "text": [
      "+--------+------------+\n",
      "|language|num_speakers|\n",
      "+--------+------------+\n",
      "|Mandarin|         1.1|\n",
      "| English|         1.5|\n",
      "+--------+------------+\n",
      "\n"
     ]
    }
   ],
   "source": [
    "spark.sql(\"select * from my_materialized_view\").show()"
   ]
  },
  {
   "cell_type": "markdown",
   "id": "728f0513-7153-4e89-a944-424b794c5c6f",
   "metadata": {},
   "source": [
    "## Cleanup"
   ]
  },
  {
   "cell_type": "code",
   "execution_count": 35,
   "id": "60e6b158-61e0-4539-9c06-5740c10b24de",
   "metadata": {},
   "outputs": [],
   "source": [
    "%rm -rf spark-warehouse"
   ]
  },
  {
   "cell_type": "code",
   "execution_count": null,
   "id": "9bf97240-73e7-4130-9913-da652ea2b959",
   "metadata": {},
   "outputs": [],
   "source": []
  }
 ],
 "metadata": {
  "kernelspec": {
   "display_name": "Python [conda env:dat-pyspark-322-delta-200]",
   "language": "python",
   "name": "conda-env-dat-pyspark-322-delta-200-py"
  },
  "language_info": {
   "codemirror_mode": {
    "name": "ipython",
    "version": 3
   },
   "file_extension": ".py",
   "mimetype": "text/x-python",
   "name": "python",
   "nbconvert_exporter": "python",
   "pygments_lexer": "ipython3",
   "version": "3.9.13"
  }
 },
 "nbformat": 4,
 "nbformat_minor": 5
}
