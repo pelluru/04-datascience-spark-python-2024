{
 "cells": [
  {
   "cell_type": "code",
   "execution_count": 1,
   "id": "2f09b8ca",
   "metadata": {},
   "outputs": [
    {
     "data": {
      "text/plain": [
       "\u001b[32mimport \u001b[39m\u001b[36m$ivy.$                                  \n",
       "\u001b[39m\n",
       "\u001b[32mimport \u001b[39m\u001b[36m$ivy.$                           \n",
       "\u001b[39m\n",
       "\u001b[32mimport \u001b[39m\u001b[36m$ivy.$                          \n",
       "\u001b[39m\n",
       "\u001b[32mimport \u001b[39m\u001b[36m$ivy.$                                 \u001b[39m"
      ]
     },
     "execution_count": 1,
     "metadata": {},
     "output_type": "execute_result"
    }
   ],
   "source": [
    "import $ivy.`org.apache.spark::spark-sql:3.3.1`\n",
    "import $ivy.`io.delta::delta-core:2.1.0`\n",
    "import $ivy.`com.lihaoyi::os-lib:0.7.1`\n",
    "import $ivy.`com.github.mrpowers::jodie:0.0.3`"
   ]
  },
  {
   "cell_type": "markdown",
   "id": "d5b00888",
   "metadata": {},
   "source": [
    "## Setup"
   ]
  },
  {
   "cell_type": "code",
   "execution_count": 2,
   "id": "1d6f5f3b",
   "metadata": {},
   "outputs": [
    {
     "data": {
      "text/plain": [
       "\u001b[32mimport \u001b[39m\u001b[36morg.apache.spark.sql._\n",
       "\u001b[39m\n",
       "\u001b[32mimport \u001b[39m\u001b[36morg.apache.spark.sql.SparkSession\n",
       "\u001b[39m\n",
       "\u001b[32mimport \u001b[39m\u001b[36mio.delta.tables._\n",
       "\u001b[39m\n",
       "\u001b[32mimport \u001b[39m\u001b[36mmrpowers.jodie.{DeltaHelpers,Type2Scd}\u001b[39m"
      ]
     },
     "execution_count": 2,
     "metadata": {},
     "output_type": "execute_result"
    }
   ],
   "source": [
    "\n",
    "import org.apache.spark.sql._\n",
    "import org.apache.spark.sql.SparkSession\n",
    "import io.delta.tables._\n",
    "import mrpowers.jodie.{DeltaHelpers,Type2Scd}"
   ]
  },
  {
   "cell_type": "code",
   "execution_count": 3,
   "id": "217eaf3f",
   "metadata": {},
   "outputs": [
    {
     "name": "stderr",
     "output_type": "stream",
     "text": [
      "SLF4J: No SLF4J providers were found.\n",
      "SLF4J: Defaulting to no-operation (NOP) logger implementation\n",
      "SLF4J: See https://www.slf4j.org/codes.html#noProviders for further details.\n",
      "Using Spark's default log4j profile: org/apache/spark/log4j2-defaults.properties\n"
     ]
    },
    {
     "data": {
      "text/plain": [
       "\u001b[36mspark\u001b[39m: \u001b[32mSparkSession\u001b[39m = org.apache.spark.sql.SparkSession@e5046fd\n",
       "\u001b[32mimport \u001b[39m\u001b[36mspark.implicits._\u001b[39m"
      ]
     },
     "execution_count": 3,
     "metadata": {},
     "output_type": "execute_result"
    }
   ],
   "source": [
    "val spark = SparkSession.builder.master(\"local[*]\").appName(\"JodieDemo\").config(\"spark.sql.catalog.spark_catalog\", \"org.apache.spark.sql.delta.catalog.DeltaCatalog\").config(\"spark.sql.extensions\", \"io.delta.sql.DeltaSparkSessionExtension\").getOrCreate()\n",
    "import spark.implicits._"
   ]
  },
  {
   "cell_type": "code",
   "execution_count": 4,
   "id": "d503ee10",
   "metadata": {},
   "outputs": [
    {
     "data": {
      "text/plain": [
       "defined \u001b[32mfunction\u001b[39m \u001b[36mcreateTable\u001b[39m"
      ]
     },
     "execution_count": 4,
     "metadata": {},
     "output_type": "execute_result"
    }
   ],
   "source": [
    "def createTable(tablePath:String,df:DataFrame) = df.write.format(\"delta\").mode(\"overwrite\").save(tablePath)"
   ]
  },
  {
   "cell_type": "markdown",
   "id": "77c1aa9e",
   "metadata": {},
   "source": [
    "# Type 2 SCDs\n",
    "\n",
    "This library provides an opinionated, conventions over configuration, approach to Type 2 SCD management. Let's look at an example before covering the conventions required to take advantage of the functionality.\n",
    "\n",
    "Suppose you have the following SCD table with the `pkey` primary key:"
   ]
  },
  {
   "cell_type": "code",
   "execution_count": 5,
   "id": "440423d2",
   "metadata": {},
   "outputs": [
    {
     "name": "stdout",
     "output_type": "stream",
     "text": [
      "+----+-----+-----+----------+-------------------+--------+\n",
      "|pkey|attr1|attr2|is_current|effective_time     |end_time|\n",
      "+----+-----+-----+----------+-------------------+--------+\n",
      "|1   |A    |A    |true      |2019-01-01 00:00:00|null    |\n",
      "|2   |B    |B    |true      |2019-01-01 00:00:00|null    |\n",
      "|4   |D    |D    |true      |2019-01-01 00:00:00|null    |\n",
      "+----+-----+-----+----------+-------------------+--------+\n",
      "\n"
     ]
    },
    {
     "data": {
      "text/plain": [
       "\u001b[36mscdTable\u001b[39m: \u001b[32mDataFrame\u001b[39m = [pkey: int, attr1: string ... 4 more fields]\n",
       "\u001b[36mtablePath\u001b[39m: \u001b[32mString\u001b[39m = \u001b[32m\"/Users/brayan_jules/projects/delta-table\"\u001b[39m\n",
       "\u001b[36mscdDeltaTable\u001b[39m: \u001b[32mDeltaTable\u001b[39m = io.delta.tables.DeltaTable@53abcf4c"
      ]
     },
     "execution_count": 5,
     "metadata": {},
     "output_type": "execute_result"
    }
   ],
   "source": [
    "val scdTable = Seq(\n",
    "  (1, \"A\", \"A\", true, \"2019-01-01 00:00:00\", \"null\"),\n",
    "  (2, \"B\", \"B\", true, \"2019-01-01 00:00:00\", \"null\"),\n",
    "  (4, \"D\", \"D\", true, \"2019-01-01 00:00:00\", \"null\")\n",
    ").toDF(\"pkey\", \"attr1\", \"attr2\", \"is_current\", \"effective_time\", \"end_time\")\n",
    "val tablePath = f\"${os.pwd}/delta-table\"\n",
    "createTable(tablePath,scdTable)\n",
    "val scdDeltaTable = DeltaTable.forPath(tablePath)\n",
    "scdDeltaTable.toDF.show(false)"
   ]
  },
  {
   "cell_type": "markdown",
   "id": "5be2a62d",
   "metadata": {},
   "source": [
    "### You'd like to perform an upsert with this data:"
   ]
  },
  {
   "cell_type": "code",
   "execution_count": 6,
   "id": "819d1adb",
   "metadata": {},
   "outputs": [
    {
     "name": "stdout",
     "output_type": "stream",
     "text": [
      "+----+-----+-----+-------------------+\n",
      "|pkey|attr1|attr2|effective_time     |\n",
      "+----+-----+-----+-------------------+\n",
      "|2   |Z    |null |2020-01-01 00:00:00|\n",
      "|3   |C    |C    |2020-09-15 00:00:00|\n",
      "+----+-----+-----+-------------------+\n",
      "\n"
     ]
    },
    {
     "data": {
      "text/plain": [
       "\u001b[36mupdatesDF\u001b[39m: \u001b[32mDataFrame\u001b[39m = [pkey: int, attr1: string ... 2 more fields]"
      ]
     },
     "execution_count": 6,
     "metadata": {},
     "output_type": "execute_result"
    }
   ],
   "source": [
    "val updatesDF = Seq(\n",
    "  (2, \"Z\", null, \"2020-01-01 00:00:00\"),\n",
    "  (3, \"C\", \"C\", \"2020-09-15 00:00:00\")\n",
    ").toDF(\"pkey\", \"attr1\", \"attr2\", \"effective_time\")\n",
    "updatesDF.show(false)"
   ]
  },
  {
   "cell_type": "markdown",
   "id": "f8bde59c",
   "metadata": {},
   "source": [
    "### Here's how to perform the upsert:"
   ]
  },
  {
   "cell_type": "code",
   "execution_count": 7,
   "id": "9331c144",
   "metadata": {},
   "outputs": [],
   "source": [
    "Type2Scd.upsert(scdDeltaTable, updatesDF, \"pkey\", Seq(\"attr1\", \"attr2\"))"
   ]
  },
  {
   "cell_type": "markdown",
   "id": "6f15532b",
   "metadata": {},
   "source": [
    "### Here is the the table after the upsert:"
   ]
  },
  {
   "cell_type": "code",
   "execution_count": 8,
   "id": "2bed8be9",
   "metadata": {},
   "outputs": [
    {
     "name": "stdout",
     "output_type": "stream",
     "text": [
      "+----+-----+-----+----------+-------------------+-------------------+\n",
      "|pkey|attr1|attr2|is_current|effective_time     |end_time           |\n",
      "+----+-----+-----+----------+-------------------+-------------------+\n",
      "|2   |Z    |null |true      |2020-01-01 00:00:00|null               |\n",
      "|2   |B    |B    |false     |2019-01-01 00:00:00|2020-01-01 00:00:00|\n",
      "|3   |C    |C    |true      |2020-09-15 00:00:00|null               |\n",
      "|1   |A    |A    |true      |2019-01-01 00:00:00|null               |\n",
      "|4   |D    |D    |true      |2019-01-01 00:00:00|null               |\n",
      "+----+-----+-----+----------+-------------------+-------------------+\n",
      "\n"
     ]
    }
   ],
   "source": [
    "scdDeltaTable.toDF.show(false)"
   ]
  },
  {
   "cell_type": "markdown",
   "id": "36b9fd29",
   "metadata": {},
   "source": [
    "#### You can leverage the upsert code if your SCD table meets these requirements:\n",
    "\n",
    "* Contains a unique primary key column\n",
    "* Any change in an attribute column triggers an upsert\n",
    "* SCD logic is exposed via `effective_time`, `end_time` and `is_current` column\n",
    "\n",
    "`merge` logic can get really messy, so it's easiest to follow these conventions.  See [this blog post](https://mungingdata.com/delta-lake/type-2-scd-upserts/) if you'd like to build a SCD with custom logic."
   ]
  },
  {
   "cell_type": "markdown",
   "id": "46b8d91b",
   "metadata": {},
   "source": [
    "# Kill Duplicates\n",
    "The function `killDuplicateRecords` deletes all the duplicated records from a table given a set of columns.\n",
    "\n",
    "Given the following table:"
   ]
  },
  {
   "cell_type": "code",
   "execution_count": 9,
   "id": "54c269a8",
   "metadata": {},
   "outputs": [
    {
     "name": "stdout",
     "output_type": "stream",
     "text": [
      "+---+---------+--------+\n",
      "|id |firstname|lastname|\n",
      "+---+---------+--------+\n",
      "|4  |Benito   |Jackson |\n",
      "|9  |Benito   |Jackson |\n",
      "|1  |Benito   |Jackson |\n",
      "|3  |Jose     |Travolta|\n",
      "|5  |Jose     |Travolta|\n",
      "|2  |Maria    |Willis  |\n",
      "|6  |Maria    |Pitt    |\n",
      "+---+---------+--------+\n",
      "\n"
     ]
    },
    {
     "data": {
      "text/plain": [
       "\u001b[36minputData\u001b[39m: \u001b[32mDataFrame\u001b[39m = [id: int, firstname: string ... 1 more field]\n",
       "\u001b[36mtablePath\u001b[39m: \u001b[32mString\u001b[39m = \u001b[32m\"/Users/brayan_jules/projects/people\"\u001b[39m\n",
       "\u001b[36mpeopleDeltaTable\u001b[39m: \u001b[32mDeltaTable\u001b[39m = io.delta.tables.DeltaTable@5de8d01"
      ]
     },
     "execution_count": 9,
     "metadata": {},
     "output_type": "execute_result"
    }
   ],
   "source": [
    "val inputData = Seq(\n",
    "  (1, \"Benito\", \"Jackson\"),\n",
    "  (2, \"Maria\", \"Willis\"),\n",
    "  (3, \"Jose\", \"Travolta\"),\n",
    "  (4, \"Benito\", \"Jackson\"),\n",
    "  (5, \"Jose\", \"Travolta\"),\n",
    "  (6, \"Maria\", \"Pitt\"),\n",
    "  (9, \"Benito\", \"Jackson\")\n",
    ").toDF(\"id\", \"firstname\", \"lastname\")\n",
    "val tablePath = f\"${os.pwd}/people\"\n",
    "createTable(tablePath,inputData)\n",
    "val peopleDeltaTable = DeltaTable.forPath(tablePath)\n",
    "peopleDeltaTable.toDF.show(false)"
   ]
  },
  {
   "cell_type": "markdown",
   "id": "b4cf0eea",
   "metadata": {},
   "source": [
    "### We can Run the following function to remove all duplicates:"
   ]
  },
  {
   "cell_type": "code",
   "execution_count": 10,
   "id": "5a9c9a4b",
   "metadata": {},
   "outputs": [],
   "source": [
    "DeltaHelpers.killDuplicateRecords(deltaTable = peopleDeltaTable,duplicateColumns = Seq(\"firstname\",\"lastname\"))"
   ]
  },
  {
   "cell_type": "markdown",
   "id": "5d718d6f",
   "metadata": {},
   "source": [
    "###  The result of running the previous function is the following table:"
   ]
  },
  {
   "cell_type": "code",
   "execution_count": 11,
   "id": "065d6134",
   "metadata": {},
   "outputs": [
    {
     "name": "stdout",
     "output_type": "stream",
     "text": [
      "+---+---------+--------+\n",
      "|id |firstname|lastname|\n",
      "+---+---------+--------+\n",
      "|2  |Maria    |Willis  |\n",
      "|6  |Maria    |Pitt    |\n",
      "+---+---------+--------+\n",
      "\n"
     ]
    }
   ],
   "source": [
    "DeltaTable.forPath(tablePath).toDF.show(false)"
   ]
  },
  {
   "cell_type": "markdown",
   "id": "da6aa050",
   "metadata": {},
   "source": [
    "### As you can see all the duplicated values were removed from the table which was what we indented to do.\n",
    "\n",
    "If you goal was different and wanted to keep only one ocurrence of each element, check the function `removeDuplicateRecords`."
   ]
  },
  {
   "cell_type": "markdown",
   "id": "53d4173c",
   "metadata": {},
   "source": [
    "# Remove Duplicates\n",
    "\n",
    "The functions `removeDuplicateRecords` deletes duplicates but keeps one occurrence of each record that was duplicated. There are two versions of that function, lets look an example of each.\n",
    "\n",
    "Let’s see an example of how to use the first version. Given the following table:"
   ]
  },
  {
   "cell_type": "code",
   "execution_count": 9,
   "id": "f0d6bf7d",
   "metadata": {},
   "outputs": [
    {
     "name": "stdout",
     "output_type": "stream",
     "text": [
      "+---+---------+--------+\n",
      "|id |firstname|lastname|\n",
      "+---+---------+--------+\n",
      "|1  |Benito   |Jackson |\n",
      "|1  |Benito   |Jackson |\n",
      "|1  |Benito   |Jackson |\n",
      "|1  |Benito   |Jackson |\n",
      "|1  |Benito   |Jackson |\n",
      "+---+---------+--------+\n",
      "\n"
     ]
    },
    {
     "data": {
      "text/plain": [
       "\u001b[36mtablePath\u001b[39m: \u001b[32mString\u001b[39m = \u001b[32m\"/Users/brayan_jules/projects/students1\"\u001b[39m\n",
       "\u001b[36mdf\u001b[39m: \u001b[32mDataFrame\u001b[39m = [id: int, firstname: string ... 1 more field]\n",
       "\u001b[36mstudentsDeltaTable\u001b[39m: \u001b[32mDeltaTable\u001b[39m = io.delta.tables.DeltaTable@638908cd"
      ]
     },
     "execution_count": 9,
     "metadata": {},
     "output_type": "execute_result"
    }
   ],
   "source": [
    "val tablePath = f\"${os.pwd}/students1\"\n",
    "val df = Seq(\n",
    "        (1, \"Benito\", \"Jackson\"),\n",
    "        (1, \"Benito\", \"Jackson\"),\n",
    "        (1, \"Benito\", \"Jackson\"),\n",
    "        (1, \"Benito\", \"Jackson\"),\n",
    "        (1, \"Benito\", \"Jackson\")\n",
    "      ).toDF(\"id\", \"firstname\", \"lastname\")\n",
    "createTable(tablePath,df)\n",
    "val studentsDeltaTable = DeltaTable.forPath(tablePath)\n",
    "studentsDeltaTable.toDF.show(false)"
   ]
  },
  {
   "cell_type": "markdown",
   "id": "80e604cf",
   "metadata": {},
   "source": [
    "### We can run the following function to remove all duplicates:"
   ]
  },
  {
   "cell_type": "code",
   "execution_count": 10,
   "id": "297d0213",
   "metadata": {},
   "outputs": [],
   "source": [
    "DeltaHelpers.removeDuplicateRecords(deltaTable = studentsDeltaTable, \n",
    "                                    duplicateColumns = Seq(\"firstname\",\"lastname\"))"
   ]
  },
  {
   "cell_type": "markdown",
   "id": "6089776c",
   "metadata": {},
   "source": [
    "### The result of running the previous function is the following table:"
   ]
  },
  {
   "cell_type": "code",
   "execution_count": 11,
   "id": "8e7efdce",
   "metadata": {},
   "outputs": [
    {
     "name": "stdout",
     "output_type": "stream",
     "text": [
      "+---+---------+--------+\n",
      "|id |firstname|lastname|\n",
      "+---+---------+--------+\n",
      "|1  |Benito   |Jackson |\n",
      "+---+---------+--------+\n",
      "\n"
     ]
    }
   ],
   "source": [
    "DeltaTable.forPath(tablePath).toDF.show(false)"
   ]
  },
  {
   "cell_type": "markdown",
   "id": "17c69c04",
   "metadata": {},
   "source": [
    "### Now let’s see an example of how to use the second version:\n",
    "Suppose you have the same table:"
   ]
  },
  {
   "cell_type": "code",
   "execution_count": 13,
   "id": "7b22cfc8",
   "metadata": {},
   "outputs": [
    {
     "name": "stdout",
     "output_type": "stream",
     "text": [
      "+---+---------+--------+\n",
      "|id |firstname|lastname|\n",
      "+---+---------+--------+\n",
      "|9  |Benito   |Jackson |\n",
      "|1  |Benito   |Jackson |\n",
      "|4  |Benito   |Jackson |\n",
      "|3  |Jose     |Travolta|\n",
      "|5  |Jose     |Travolta|\n",
      "|2  |Maria    |Willis  |\n",
      "|6  |Maria    |Pitt    |\n",
      "+---+---------+--------+\n",
      "\n"
     ]
    },
    {
     "data": {
      "text/plain": [
       "\u001b[36mtablePath\u001b[39m: \u001b[32mString\u001b[39m = \u001b[32m\"/Users/brayan_jules/projects/students2\"\u001b[39m\n",
       "\u001b[36mdf\u001b[39m: \u001b[32mDataFrame\u001b[39m = [id: int, firstname: string ... 1 more field]\n",
       "\u001b[36mstudentsDeltaTable\u001b[39m: \u001b[32mDeltaTable\u001b[39m = io.delta.tables.DeltaTable@4d6b6ad1"
      ]
     },
     "execution_count": 13,
     "metadata": {},
     "output_type": "execute_result"
    }
   ],
   "source": [
    "val tablePath = f\"${os.pwd}/students2\"\n",
    "val df = Seq(\n",
    "      (2, \"Maria\", \"Willis\"),\n",
    "      (3, \"Jose\", \"Travolta\"),\n",
    "      (4, \"Benito\", \"Jackson\"),\n",
    "      (1, \"Benito\", \"Jackson\"),\n",
    "      (5, \"Jose\", \"Travolta\"),\n",
    "      (6, \"Maria\", \"Pitt\"),\n",
    "      (9, \"Benito\", \"Jackson\")\n",
    "    ).toDF(\"id\", \"firstname\", \"lastname\")\n",
    "createTable(tablePath,df)\n",
    "val studentsDeltaTable = DeltaTable.forPath(tablePath)\n",
    "studentsDeltaTable.toDF.show(false)"
   ]
  },
  {
   "cell_type": "markdown",
   "id": "9657dc12",
   "metadata": {},
   "source": [
    "This time the function takes an additional input parameter, a primary key that will be used to sort the duplicated records in ascending order and remove them according to that order."
   ]
  },
  {
   "cell_type": "code",
   "execution_count": 14,
   "id": "294d8455",
   "metadata": {},
   "outputs": [],
   "source": [
    "DeltaHelpers.removeDuplicateRecords(deltaTable = studentsDeltaTable, primaryKey = \"id\",\n",
    "  duplicateColumns = Seq(\"firstname\",\"lastname\"))"
   ]
  },
  {
   "cell_type": "markdown",
   "id": "7ce08a9b",
   "metadata": {},
   "source": [
    "### The result of running the previous function is the following:"
   ]
  },
  {
   "cell_type": "code",
   "execution_count": 15,
   "id": "fbe9f941",
   "metadata": {},
   "outputs": [
    {
     "name": "stdout",
     "output_type": "stream",
     "text": [
      "+---+---------+--------+\n",
      "|id |firstname|lastname|\n",
      "+---+---------+--------+\n",
      "|1  |Benito   |Jackson |\n",
      "|3  |Jose     |Travolta|\n",
      "|2  |Maria    |Willis  |\n",
      "|6  |Maria    |Pitt    |\n",
      "+---+---------+--------+\n",
      "\n"
     ]
    }
   ],
   "source": [
    "DeltaTable.forPath(tablePath).toDF.show(false)"
   ]
  },
  {
   "cell_type": "markdown",
   "id": "469d1564",
   "metadata": {},
   "source": [
    "# Copy Delta Table\n",
    "This function takes an existing delta table and makes a copy of all its data, properties, and partitions to a new delta table. The new table could be created based on a specified path or just a given table name.\n",
    "\n",
    "Copying does not include the delta log, which means that you will not be able to restore the new table to an old version of the original table.\n",
    "\n",
    "Let's demostrate it with an example, given the following table:"
   ]
  },
  {
   "cell_type": "code",
   "execution_count": 16,
   "id": "1ec56c05",
   "metadata": {},
   "outputs": [
    {
     "name": "stdout",
     "output_type": "stream",
     "text": [
      "+---+---------+--------+\n",
      "|id |firstname|lastname|\n",
      "+---+---------+--------+\n",
      "|1  |Benito   |Jackson |\n",
      "|5  |Jose     |Travolta|\n",
      "|6  |Maria    |Willis  |\n",
      "+---+---------+--------+\n",
      "\n"
     ]
    },
    {
     "data": {
      "text/plain": [
       "\u001b[36mtablePath\u001b[39m: \u001b[32mString\u001b[39m = \u001b[32m\"/Users/brayan_jules/projects/students3\"\u001b[39m\n",
       "\u001b[36mtablePathCopy\u001b[39m: \u001b[32mString\u001b[39m = \u001b[32m\"/Users/brayan_jules/projects/students4\"\u001b[39m\n",
       "\u001b[36mdf\u001b[39m: \u001b[32mDataFrame\u001b[39m = [id: int, firstname: string ... 1 more field]\n",
       "\u001b[36mstudentsDeltaTable3\u001b[39m: \u001b[32mDeltaTable\u001b[39m = io.delta.tables.DeltaTable@6486f667"
      ]
     },
     "execution_count": 16,
     "metadata": {},
     "output_type": "execute_result"
    }
   ],
   "source": [
    "val tablePath = f\"${os.pwd}/students3\"\n",
    "val tablePathCopy = f\"${os.pwd}/students4\"\n",
    "val df = Seq(\n",
    "      (1, \"Benito\", \"Jackson\"),\n",
    "      (5, \"Jose\", \"Travolta\"),\n",
    "      (6, \"Maria\", \"Willis\"),\n",
    "    ).toDF(\"id\", \"firstname\", \"lastname\")\n",
    "createTable(tablePath,df)\n",
    "val studentsDeltaTable3 = DeltaTable.forPath(tablePath)\n",
    "studentsDeltaTable3.toDF.show(false)"
   ]
  },
  {
   "cell_type": "markdown",
   "id": "8e05c271",
   "metadata": {},
   "source": [
    "### Here's how to perform the copy to a specific path:\n",
    "\n"
   ]
  },
  {
   "cell_type": "code",
   "execution_count": 17,
   "id": "6d6fce82",
   "metadata": {},
   "outputs": [
    {
     "ename": "",
     "evalue": "",
     "output_type": "error",
     "traceback": [
      "\u001b[31mjava.lang.ClassCastException: scala.collection.mutable.ArraySeq$ofRef cannot be cast to scala.collection.immutable.Seq\u001b[39m\n  mrpowers.jodie.DeltaHelpers$.copyTable(\u001b[32mDeltaHelpers.scala\u001b[39m:\u001b[32m161\u001b[39m)\n  ammonite.$sess.cmd16$Helper.<init>(\u001b[32mcmd16.sc\u001b[39m:\u001b[32m1\u001b[39m)\n  ammonite.$sess.cmd16$.<clinit>(\u001b[32mcmd16.sc\u001b[39m:\u001b[32m7\u001b[39m)"
     ]
    }
   ],
   "source": [
    "DeltaHelpers.copyTable(deltaTable = studentsDeltaTable3, targetPath = Some(tablePathCopy))"
   ]
  },
  {
   "cell_type": "markdown",
   "id": "295d6fc0",
   "metadata": {},
   "source": [
    "### The result of copying the table is the following:"
   ]
  },
  {
   "cell_type": "code",
   "execution_count": 7,
   "id": "2b8e7dfe",
   "metadata": {},
   "outputs": [
    {
     "ename": "",
     "evalue": "",
     "output_type": "error",
     "traceback": [
      "\u001b[31morg.apache.spark.sql.delta.DeltaAnalysisException: `/Users/brayan_jules/projects/students3_copy` is not a Delta table.\u001b[39m\n  org.apache.spark.sql.delta.DeltaErrorsBase.notADeltaTableException(\u001b[32mDeltaErrors.scala\u001b[39m:\u001b[32m459\u001b[39m)\n  org.apache.spark.sql.delta.DeltaErrorsBase.notADeltaTableException$(\u001b[32mDeltaErrors.scala\u001b[39m:\u001b[32m458\u001b[39m)\n  org.apache.spark.sql.delta.DeltaErrors$.notADeltaTableException(\u001b[32mDeltaErrors.scala\u001b[39m:\u001b[32m2293\u001b[39m)\n  io.delta.tables.DeltaTable$.forPath(\u001b[32mDeltaTable.scala\u001b[39m:\u001b[32m661\u001b[39m)\n  io.delta.tables.DeltaTable$.forPath(\u001b[32mDeltaTable.scala\u001b[39m:\u001b[32m645\u001b[39m)\n  ammonite.$sess.cmd6$Helper.<init>(\u001b[32mcmd6.sc\u001b[39m:\u001b[32m1\u001b[39m)\n  ammonite.$sess.cmd6$.<clinit>(\u001b[32mcmd6.sc\u001b[39m:\u001b[32m7\u001b[39m)"
     ]
    }
   ],
   "source": [
    "DeltaTable.forPath(tablePathCopy).toDF.show(false)"
   ]
  },
  {
   "cell_type": "markdown",
   "id": "4962037e",
   "metadata": {},
   "source": [
    "Note the location where the table will be stored in this last function call will be based on the spark conf property spark.sql.warehouse.dir."
   ]
  },
  {
   "cell_type": "markdown",
   "id": "281c1244",
   "metadata": {},
   "source": [
    "# Latest Version of Delta Table\n",
    "The function `latestVersion` return the latest version number of a table given its storage path.\n",
    "\n",
    "Here's how to use the function:"
   ]
  },
  {
   "cell_type": "code",
   "execution_count": 18,
   "id": "5e01c8d0",
   "metadata": {},
   "outputs": [
    {
     "data": {
      "text/plain": [
       "\u001b[36mres17\u001b[39m: \u001b[32mLong\u001b[39m = \u001b[32m9L\u001b[39m"
      ]
     },
     "execution_count": 18,
     "metadata": {},
     "output_type": "execute_result"
    }
   ],
   "source": [
    "DeltaHelpers.latestVersion(path = tablePath)"
   ]
  },
  {
   "cell_type": "markdown",
   "id": "86ba559e",
   "metadata": {},
   "source": [
    "# Insert Data Without Duplicates\n",
    "The function `appendWithoutDuplicates` inserts data into an existing delta table and prevents data duplication in the process. Let's see an example of how it works.\n",
    "\n",
    "Suppose we have the following table:"
   ]
  },
  {
   "cell_type": "code",
   "execution_count": 19,
   "id": "c352b89f",
   "metadata": {},
   "outputs": [
    {
     "name": "stdout",
     "output_type": "stream",
     "text": [
      "+---+---------+--------+\n",
      "|id |firstname|lastname|\n",
      "+---+---------+--------+\n",
      "|1  |Benito   |Jackson |\n",
      "|5  |Rosalia  |Pitt    |\n",
      "|6  |Maria    |Pitt    |\n",
      "+---+---------+--------+\n",
      "\n"
     ]
    },
    {
     "data": {
      "text/plain": [
       "\u001b[36mtablePath\u001b[39m: \u001b[32mString\u001b[39m = \u001b[32m\"/Users/brayan_jules/projects/people2\"\u001b[39m\n",
       "\u001b[36mdf\u001b[39m: \u001b[32mDataFrame\u001b[39m = [id: int, firstname: string ... 1 more field]\n",
       "\u001b[36mpeopleDeltaTable2\u001b[39m: \u001b[32mDeltaTable\u001b[39m = io.delta.tables.DeltaTable@71cec453"
      ]
     },
     "execution_count": 19,
     "metadata": {},
     "output_type": "execute_result"
    }
   ],
   "source": [
    "val tablePath = f\"${os.pwd}/people2\"\n",
    "val df = Seq(\n",
    "      (1, \"Benito\", \"Jackson\"),\n",
    "      (5, \"Rosalia\", \"Pitt\"),\n",
    "      (6, \"Maria\", \"Pitt\")\n",
    "    ).toDF(\"id\", \"firstname\", \"lastname\")\n",
    "createTable(tablePath,df)\n",
    "val peopleDeltaTable2 = DeltaTable.forPath(tablePath)\n",
    "peopleDeltaTable2.toDF.show(false)"
   ]
  },
  {
   "cell_type": "markdown",
   "id": "48d6d81e",
   "metadata": {},
   "source": [
    "### And we want to insert this new dataframe:"
   ]
  },
  {
   "cell_type": "code",
   "execution_count": 20,
   "id": "6290c1e4",
   "metadata": {},
   "outputs": [
    {
     "name": "stdout",
     "output_type": "stream",
     "text": [
      "+---+---------+--------+\n",
      "|id |firstname|lastname|\n",
      "+---+---------+--------+\n",
      "|6  |Rosalia  |Pitt    |\n",
      "|2  |Maria    |Willis  |\n",
      "|3  |Jose     |Travolta|\n",
      "|4  |Maria    |Pitt    |\n",
      "+---+---------+--------+\n",
      "\n"
     ]
    },
    {
     "data": {
      "text/plain": [
       "\u001b[36mnewDF\u001b[39m: \u001b[32mDataFrame\u001b[39m = [id: int, firstname: string ... 1 more field]"
      ]
     },
     "execution_count": 20,
     "metadata": {},
     "output_type": "execute_result"
    }
   ],
   "source": [
    "val newDF = Seq(\n",
    "      (6, \"Rosalia\", \"Pitt\"),\n",
    "      (2, \"Maria\", \"Willis\"),\n",
    "      (3, \"Jose\", \"Travolta\"),\n",
    "      (4, \"Maria\", \"Pitt\")\n",
    "    ).toDF(\"id\", \"firstname\", \"lastname\")\n",
    "newDF.show(false)"
   ]
  },
  {
   "cell_type": "markdown",
   "id": "c963f7de",
   "metadata": {},
   "source": [
    "### We can use the following function to insert new data and avoid data duplication:"
   ]
  },
  {
   "cell_type": "code",
   "execution_count": 21,
   "id": "32eecacf",
   "metadata": {},
   "outputs": [],
   "source": [
    "DeltaHelpers.appendWithoutDuplicates(deltaTable = peopleDeltaTable2, appendData = newDF, \n",
    "  primaryKeysColumns = Seq(\"firstname\",\"lastname\")\n",
    ")"
   ]
  },
  {
   "cell_type": "markdown",
   "id": "6fe2c078",
   "metadata": {},
   "source": [
    "### The result table will be the following:"
   ]
  },
  {
   "cell_type": "code",
   "execution_count": 22,
   "id": "6bcc143f",
   "metadata": {},
   "outputs": [
    {
     "name": "stdout",
     "output_type": "stream",
     "text": [
      "+---+---------+--------+\n",
      "|id |firstname|lastname|\n",
      "+---+---------+--------+\n",
      "|1  |Benito   |Jackson |\n",
      "|5  |Rosalia  |Pitt    |\n",
      "|2  |Maria    |Willis  |\n",
      "|3  |Jose     |Travolta|\n",
      "|6  |Maria    |Pitt    |\n",
      "+---+---------+--------+\n",
      "\n"
     ]
    }
   ],
   "source": [
    "DeltaTable.forPath(tablePath).toDF.show(false)"
   ]
  },
  {
   "cell_type": "markdown",
   "id": "31e6c2ab",
   "metadata": {},
   "source": [
    "# Generate MD5 from columns\n",
    "The function `withMD5Columns` appends a md5 hash of specified columns to the DataFrame. This can be used as a unique key if the selected columns form a composite key. Here is an example\n",
    "\n",
    "Suppose we have the following dataframe:"
   ]
  },
  {
   "cell_type": "code",
   "execution_count": 23,
   "id": "1fa94d91",
   "metadata": {},
   "outputs": [
    {
     "name": "stdout",
     "output_type": "stream",
     "text": [
      "+---+---------+--------+\n",
      "|id |firstname|lastname|\n",
      "+---+---------+--------+\n",
      "|1  |Benito   |Jackson |\n",
      "|5  |Rosalia  |Pitt    |\n",
      "|6  |Maria    |Pitt    |\n",
      "+---+---------+--------+\n",
      "\n"
     ]
    },
    {
     "data": {
      "text/plain": [
       "\u001b[36mdf\u001b[39m: \u001b[32mDataFrame\u001b[39m = [id: int, firstname: string ... 1 more field]"
      ]
     },
     "execution_count": 23,
     "metadata": {},
     "output_type": "execute_result"
    }
   ],
   "source": [
    "val df = Seq(\n",
    "      (1, \"Benito\", \"Jackson\"),\n",
    "      (5, \"Rosalia\", \"Pitt\"),\n",
    "      (6, \"Maria\", \"Pitt\")\n",
    "    ).toDF(\"id\", \"firstname\", \"lastname\")\n",
    "df.show(false)"
   ]
  },
  {
   "cell_type": "markdown",
   "id": "f4a13120",
   "metadata": {},
   "source": [
    "### We can use the md5 function in this way:"
   ]
  },
  {
   "cell_type": "code",
   "execution_count": 24,
   "id": "9cd0f32e",
   "metadata": {},
   "outputs": [
    {
     "data": {
      "text/plain": [
       "\u001b[36mresultDF\u001b[39m: \u001b[32mDataFrame\u001b[39m = [id: int, firstname: string ... 2 more fields]"
      ]
     },
     "execution_count": 24,
     "metadata": {},
     "output_type": "execute_result"
    }
   ],
   "source": [
    "val resultDF = DeltaHelpers.withMD5Columns(dataFrame = df, \n",
    "                                           cols = List(\"firstname\",\"lastname\"),\n",
    "                                           newColName = \"unique_id\")"
   ]
  },
  {
   "cell_type": "markdown",
   "id": "8466543d",
   "metadata": {},
   "source": [
    "### The result dataframe will be the following:"
   ]
  },
  {
   "cell_type": "code",
   "execution_count": 25,
   "id": "d38938b2",
   "metadata": {},
   "outputs": [
    {
     "name": "stdout",
     "output_type": "stream",
     "text": [
      "+---+---------+--------+--------------------------------+\n",
      "|id |firstname|lastname|unique_id                       |\n",
      "+---+---------+--------+--------------------------------+\n",
      "|1  |Benito   |Jackson |3456d6842080e8188b35f515254fece8|\n",
      "|5  |Rosalia  |Pitt    |ec8d357c71914f989d704b7be0d4e708|\n",
      "|6  |Maria    |Pitt    |2af7722350b26a3c7c043b8202d1d9e5|\n",
      "+---+---------+--------+--------------------------------+\n",
      "\n"
     ]
    }
   ],
   "source": [
    "resultDF.show(false)"
   ]
  },
  {
   "cell_type": "markdown",
   "id": "99126d37",
   "metadata": {},
   "source": [
    "You can use this function with the columns identified in findCompositeKeyCandidate to append a unique key to the DataFrame."
   ]
  },
  {
   "cell_type": "markdown",
   "id": "b026915c",
   "metadata": {},
   "source": [
    "# Find Composite Key\n",
    "\n",
    "This function `findCompositeKeyCandidate` helps you find a composite key that uniquely identifies the rows your Delta table. It returns a list of columns that can be used as a composite key. i.e:\n",
    "\n",
    "Suppose we have the following table:"
   ]
  },
  {
   "cell_type": "code",
   "execution_count": 26,
   "id": "c01eb000",
   "metadata": {},
   "outputs": [
    {
     "name": "stdout",
     "output_type": "stream",
     "text": [
      "+---+---------+---------+\n",
      "|id |firstname|lastname |\n",
      "+---+---------+---------+\n",
      "|7  |Maria    |Rodriguez|\n",
      "|1  |Benito   |Jackson  |\n",
      "|5  |Rosalia  |Pitt     |\n",
      "|6  |Maria    |Pitt     |\n",
      "+---+---------+---------+\n",
      "\n"
     ]
    },
    {
     "data": {
      "text/plain": [
       "\u001b[36mtablePath\u001b[39m: \u001b[32mString\u001b[39m = \u001b[32m\"/Users/brayan_jules/projects/people3\"\u001b[39m\n",
       "\u001b[36mdf\u001b[39m: \u001b[32mDataFrame\u001b[39m = [id: int, firstname: string ... 1 more field]\n",
       "\u001b[36mpeopleDeltaTable3\u001b[39m: \u001b[32mDeltaTable\u001b[39m = io.delta.tables.DeltaTable@1d9d5c3f"
      ]
     },
     "execution_count": 26,
     "metadata": {},
     "output_type": "execute_result"
    }
   ],
   "source": [
    "val tablePath = f\"${os.pwd}/people3\"\n",
    "val df = Seq(\n",
    "      (1, \"Benito\", \"Jackson\"),\n",
    "      (5, \"Rosalia\", \"Pitt\"),\n",
    "      (6, \"Maria\", \"Pitt\"),\n",
    "      (7, \"Maria\", \"Rodriguez\")\n",
    "    ).toDF(\"id\", \"firstname\", \"lastname\")\n",
    "createTable(tablePath,df)\n",
    "val peopleDeltaTable3 = DeltaTable.forPath(tablePath)\n",
    "peopleDeltaTable3.toDF.show(false)"
   ]
  },
  {
   "cell_type": "markdown",
   "id": "628bc674",
   "metadata": {},
   "source": [
    "### Now execute the function and get the result:"
   ]
  },
  {
   "cell_type": "code",
   "execution_count": 27,
   "id": "8d2e01b9",
   "metadata": {},
   "outputs": [
    {
     "data": {
      "text/plain": [
       "\u001b[36mres26\u001b[39m: \u001b[32mSeq\u001b[39m[\u001b[32mString\u001b[39m] = \u001b[33mArraySeq\u001b[39m(\u001b[32m\"firstname\"\u001b[39m, \u001b[32m\"lastname\"\u001b[39m)"
      ]
     },
     "execution_count": 27,
     "metadata": {},
     "output_type": "execute_result"
    }
   ],
   "source": [
    "DeltaHelpers.findCompositeKeyCandidate(\n",
    "  deltaTable = peopleDeltaTable3,\n",
    "  excludeCols = Seq(\"id\")\n",
    ")"
   ]
  }
 ],
 "metadata": {
  "kernelspec": {
   "display_name": "Scala",
   "language": "scala",
   "name": "scala"
  },
  "language_info": {
   "codemirror_mode": "text/x-scala",
   "file_extension": ".sc",
   "mimetype": "text/x-scala",
   "name": "scala",
   "nbconvert_exporter": "script",
   "version": "2.13.10"
  }
 },
 "nbformat": 4,
 "nbformat_minor": 5
}
