{
 "cells": [
  {
   "cell_type": "code",
   "execution_count": 1,
   "id": "8883d00c-85b9-4fa9-8ec7-03e37eff841b",
   "metadata": {},
   "outputs": [],
   "source": [
    "import pathlib\n",
    "\n",
    "import duckdb\n",
    "import pyarrow.dataset as ds\n",
    "from deltalake import DeltaTable"
   ]
  },
  {
   "cell_type": "markdown",
   "id": "94986b6c-e062-4120-a1a9-bf686926c53b",
   "metadata": {},
   "source": [
    "# DuckDB Read Delta\n",
    "\n",
    "This section shows the bad, better and best ways to read Delta tables into DuckDB databases."
   ]
  },
  {
   "cell_type": "code",
   "execution_count": 2,
   "id": "15e84ec2-91c1-45fb-82c0-ca760de16eef",
   "metadata": {},
   "outputs": [],
   "source": [
    "table = DeltaTable(f\"{pathlib.Path.home()}/data/delta/G1_1e9_1e2_0_0\")"
   ]
  },
  {
   "cell_type": "code",
   "execution_count": 3,
   "id": "db632bde-55b4-41f8-b072-6061363eabb3",
   "metadata": {},
   "outputs": [
    {
     "name": "stdout",
     "output_type": "stream",
     "text": [
      "CPU times: user 50.7 s, sys: 17.9 s, total: 1min 8s\n",
      "Wall time: 17.1 s\n"
     ]
    }
   ],
   "source": [
    "%%time\n",
    "\n",
    "quack = duckdb.arrow(table.to_pyarrow_table())"
   ]
  },
  {
   "cell_type": "markdown",
   "id": "a517dfed-359e-48c8-9ed6-4db9c1d3451e",
   "metadata": {},
   "source": [
    "### Bad"
   ]
  },
  {
   "cell_type": "code",
   "execution_count": 3,
   "id": "2712b206-f6f0-47af-a8b3-70164aacdef2",
   "metadata": {},
   "outputs": [
    {
     "name": "stdout",
     "output_type": "stream",
     "text": [
      "CPU times: user 50.5 s, sys: 18.1 s, total: 1min 8s\n",
      "Wall time: 17.1 s\n"
     ]
    },
    {
     "data": {
      "text/plain": [
       "┌─────────┬─────────┬──────────────┬───────┬───────┬─────────┬───────┬───────┬───────────┐\n",
       "│   id1   │   id2   │     id3      │  id4  │  id5  │   id6   │  v1   │  v2   │    v3     │\n",
       "│ varchar │ varchar │   varchar    │ int32 │ int32 │  int32  │ int32 │ int32 │  double   │\n",
       "├─────────┼─────────┼──────────────┼───────┼───────┼─────────┼───────┼───────┼───────────┤\n",
       "│ id016   │ id054   │ id0002309114 │    62 │    95 │ 7180859 │     4 │    13 │  7.750173 │\n",
       "│ id016   │ id044   │ id0003968533 │    63 │    98 │ 2356363 │     4 │    14 │  3.942417 │\n",
       "│ id016   │ id034   │ id0001082839 │    58 │    73 │ 8039808 │     5 │    12 │ 76.820135 │\n",
       "│ id016   │ id037   │ id0006298446 │    29 │    34 │ 2173400 │     2 │    13 │ 68.078028 │\n",
       "│ id016   │ id034   │ id0008791534 │    76 │    92 │ 6022714 │     1 │    12 │ 76.331411 │\n",
       "│ id016   │ id002   │ id0009927251 │    34 │    97 │ 1126082 │     1 │    11 │ 51.147419 │\n",
       "│ id016   │ id049   │ id0008934288 │    96 │     8 │ 3574132 │     5 │    14 │ 70.233415 │\n",
       "│ id016   │ id006   │ id0006075709 │    76 │    84 │ 3911068 │     1 │    15 │ 29.580633 │\n",
       "│ id016   │ id052   │ id0001289064 │    43 │    33 │ 4418971 │     3 │    12 │ 81.789686 │\n",
       "│ id016   │ id056   │ id0004105154 │    19 │    29 │ 6788322 │     5 │    15 │ 97.764831 │\n",
       "│   ·     │   ·     │      ·       │     · │     · │    ·    │     · │     · │      ·    │\n",
       "│   ·     │   ·     │      ·       │     · │     · │    ·    │     · │     · │      ·    │\n",
       "│   ·     │   ·     │      ·       │     · │     · │    ·    │     · │     · │      ·    │\n",
       "│ id016   │ id073   │ id0006978495 │    55 │    36 │ 4428512 │     5 │    11 │  0.661365 │\n",
       "│ id016   │ id059   │ id0006123059 │    93 │    47 │ 9632465 │     2 │    13 │ 94.671789 │\n",
       "│ id016   │ id073   │ id0007401773 │    33 │    50 │ 7497217 │     1 │    14 │  70.56862 │\n",
       "│ id016   │ id073   │ id0005535254 │    54 │    20 │ 7917068 │     4 │    12 │ 95.195972 │\n",
       "│ id016   │ id094   │ id0004098517 │    81 │    59 │ 1449701 │     3 │    12 │  2.807308 │\n",
       "│ id016   │ id005   │ id0001771150 │    64 │    45 │ 3483795 │     1 │    15 │ 81.704219 │\n",
       "│ id016   │ id060   │ id0006813035 │    33 │    82 │ 7679879 │     1 │    14 │  83.29942 │\n",
       "│ id016   │ id011   │ id0003919229 │    54 │    47 │ 8295473 │     5 │    12 │ 90.968759 │\n",
       "│ id016   │ id035   │ id0002445694 │    25 │    29 │ 2536802 │     4 │    14 │ 34.291885 │\n",
       "│ id016   │ id087   │ id0005575477 │    71 │    25 │ 8133796 │     1 │    11 │ 51.054963 │\n",
       "├─────────┴─────────┴──────────────┴───────┴───────┴─────────┴───────┴───────┴───────────┤\n",
       "│ ? rows (>9999 rows, 20 shown)                                                9 columns │\n",
       "└────────────────────────────────────────────────────────────────────────────────────────┘"
      ]
     },
     "execution_count": 3,
     "metadata": {},
     "output_type": "execute_result"
    }
   ],
   "source": [
    "%%time\n",
    "\n",
    "quack = duckdb.arrow(table.to_pyarrow_table())\n",
    "quack.filter(\"id1 = 'id016' and v2 > 10\")"
   ]
  },
  {
   "cell_type": "markdown",
   "id": "92d428a5-d29f-4666-b3c5-841d0483de97",
   "metadata": {},
   "source": [
    "### Better "
   ]
  },
  {
   "cell_type": "code",
   "execution_count": 8,
   "id": "ec8eda65-60b4-4d4a-9558-354ae52b4cbb",
   "metadata": {},
   "outputs": [
    {
     "ename": "TypeError",
     "evalue": "to_pyarrow_table() got an unexpected keyword argument 'filter'",
     "output_type": "error",
     "traceback": [
      "\u001b[0;31m---------------------------------------------------------------------------\u001b[0m",
      "\u001b[0;31mTypeError\u001b[0m                                 Traceback (most recent call last)",
      "File \u001b[0;32m<timed exec>:1\u001b[0m\n",
      "\u001b[0;31mTypeError\u001b[0m: to_pyarrow_table() got an unexpected keyword argument 'filter'"
     ]
    }
   ],
   "source": [
    "%%time\n",
    "\n",
    "table = table.to_pyarrow_table(\n",
    "    filter=((ds.field(\"id1\") == \"id016\") & (ds.field(\"v2\") > 10))\n",
    ")\n",
    "quack = duckdb.arrow(table)\n",
    "quack"
   ]
  },
  {
   "cell_type": "markdown",
   "id": "be7ba794-b99e-488a-9c75-8ae0b8071c13",
   "metadata": {},
   "source": [
    "### Best"
   ]
  },
  {
   "cell_type": "code",
   "execution_count": 4,
   "id": "1fbd11c2-e986-48ab-9e9e-732f37f2851b",
   "metadata": {},
   "outputs": [
    {
     "name": "stdout",
     "output_type": "stream",
     "text": [
      "CPU times: user 7.53 ms, sys: 4.86 ms, total: 12.4 ms\n",
      "Wall time: 10.1 ms\n"
     ]
    },
    {
     "data": {
      "text/plain": [
       "┌─────────┬─────────┬──────────────┬───────┬───────┬─────────┬───────┬───────┬───────────┐\n",
       "│   id1   │   id2   │     id3      │  id4  │  id5  │   id6   │  v1   │  v2   │    v3     │\n",
       "│ varchar │ varchar │   varchar    │ int32 │ int32 │  int32  │ int32 │ int32 │  double   │\n",
       "├─────────┼─────────┼──────────────┼───────┼───────┼─────────┼───────┼───────┼───────────┤\n",
       "│ id016   │ id054   │ id0002309114 │    62 │    95 │ 7180859 │     4 │    13 │  7.750173 │\n",
       "│ id016   │ id044   │ id0003968533 │    63 │    98 │ 2356363 │     4 │    14 │  3.942417 │\n",
       "│ id016   │ id034   │ id0001082839 │    58 │    73 │ 8039808 │     5 │    12 │ 76.820135 │\n",
       "│ id016   │ id037   │ id0006298446 │    29 │    34 │ 2173400 │     2 │    13 │ 68.078028 │\n",
       "│ id016   │ id034   │ id0008791534 │    76 │    92 │ 6022714 │     1 │    12 │ 76.331411 │\n",
       "│ id016   │ id002   │ id0009927251 │    34 │    97 │ 1126082 │     1 │    11 │ 51.147419 │\n",
       "│ id016   │ id049   │ id0008934288 │    96 │     8 │ 3574132 │     5 │    14 │ 70.233415 │\n",
       "│ id016   │ id006   │ id0006075709 │    76 │    84 │ 3911068 │     1 │    15 │ 29.580633 │\n",
       "│ id016   │ id052   │ id0001289064 │    43 │    33 │ 4418971 │     3 │    12 │ 81.789686 │\n",
       "│ id016   │ id056   │ id0004105154 │    19 │    29 │ 6788322 │     5 │    15 │ 97.764831 │\n",
       "│   ·     │   ·     │      ·       │     · │     · │    ·    │     · │     · │      ·    │\n",
       "│   ·     │   ·     │      ·       │     · │     · │    ·    │     · │     · │      ·    │\n",
       "│   ·     │   ·     │      ·       │     · │     · │    ·    │     · │     · │      ·    │\n",
       "│ id016   │ id073   │ id0006978495 │    55 │    36 │ 4428512 │     5 │    11 │  0.661365 │\n",
       "│ id016   │ id059   │ id0006123059 │    93 │    47 │ 9632465 │     2 │    13 │ 94.671789 │\n",
       "│ id016   │ id073   │ id0007401773 │    33 │    50 │ 7497217 │     1 │    14 │  70.56862 │\n",
       "│ id016   │ id073   │ id0005535254 │    54 │    20 │ 7917068 │     4 │    12 │ 95.195972 │\n",
       "│ id016   │ id094   │ id0004098517 │    81 │    59 │ 1449701 │     3 │    12 │  2.807308 │\n",
       "│ id016   │ id005   │ id0001771150 │    64 │    45 │ 3483795 │     1 │    15 │ 81.704219 │\n",
       "│ id016   │ id060   │ id0006813035 │    33 │    82 │ 7679879 │     1 │    14 │  83.29942 │\n",
       "│ id016   │ id011   │ id0003919229 │    54 │    47 │ 8295473 │     5 │    12 │ 90.968759 │\n",
       "│ id016   │ id035   │ id0002445694 │    25 │    29 │ 2536802 │     4 │    14 │ 34.291885 │\n",
       "│ id016   │ id087   │ id0005575477 │    71 │    25 │ 8133796 │     1 │    11 │ 51.054963 │\n",
       "├─────────┴─────────┴──────────────┴───────┴───────┴─────────┴───────┴───────┴───────────┤\n",
       "│ ? rows (>9999 rows, 20 shown)                                                9 columns │\n",
       "└────────────────────────────────────────────────────────────────────────────────────────┘"
      ]
     },
     "execution_count": 4,
     "metadata": {},
     "output_type": "execute_result"
    }
   ],
   "source": [
    "%%time\n",
    "\n",
    "dataset = table.to_pyarrow_dataset()\n",
    "quack = duckdb.arrow(dataset)\n",
    "quack.filter(\"id1 = 'id016' and v2 > 10\")"
   ]
  },
  {
   "cell_type": "code",
   "execution_count": 5,
   "id": "678d84eb-1944-4ce2-b4cd-e49ddf5f333d",
   "metadata": {},
   "outputs": [
    {
     "data": {
      "text/plain": [
       "┌─────────┬─────────┬──────────────┬───────┬───────┬─────────┬───────┬───────┬───────────┐\n",
       "│   id1   │   id2   │     id3      │  id4  │  id5  │   id6   │  v1   │  v2   │    v3     │\n",
       "│ varchar │ varchar │   varchar    │ int32 │ int32 │  int32  │ int32 │ int32 │  double   │\n",
       "├─────────┼─────────┼──────────────┼───────┼───────┼─────────┼───────┼───────┼───────────┤\n",
       "│ id016   │ id054   │ id0002309114 │    62 │    95 │ 7180859 │     4 │    13 │  7.750173 │\n",
       "│ id016   │ id044   │ id0003968533 │    63 │    98 │ 2356363 │     4 │    14 │  3.942417 │\n",
       "│ id016   │ id034   │ id0001082839 │    58 │    73 │ 8039808 │     5 │    12 │ 76.820135 │\n",
       "│ id016   │ id037   │ id0006298446 │    29 │    34 │ 2173400 │     2 │    13 │ 68.078028 │\n",
       "│ id016   │ id034   │ id0008791534 │    76 │    92 │ 6022714 │     1 │    12 │ 76.331411 │\n",
       "│ id016   │ id002   │ id0009927251 │    34 │    97 │ 1126082 │     1 │    11 │ 51.147419 │\n",
       "│ id016   │ id049   │ id0008934288 │    96 │     8 │ 3574132 │     5 │    14 │ 70.233415 │\n",
       "│ id016   │ id006   │ id0006075709 │    76 │    84 │ 3911068 │     1 │    15 │ 29.580633 │\n",
       "│ id016   │ id052   │ id0001289064 │    43 │    33 │ 4418971 │     3 │    12 │ 81.789686 │\n",
       "│ id016   │ id056   │ id0004105154 │    19 │    29 │ 6788322 │     5 │    15 │ 97.764831 │\n",
       "│   ·     │   ·     │      ·       │     · │     · │    ·    │     · │     · │      ·    │\n",
       "│   ·     │   ·     │      ·       │     · │     · │    ·    │     · │     · │      ·    │\n",
       "│   ·     │   ·     │      ·       │     · │     · │    ·    │     · │     · │      ·    │\n",
       "│ id016   │ id073   │ id0006978495 │    55 │    36 │ 4428512 │     5 │    11 │  0.661365 │\n",
       "│ id016   │ id059   │ id0006123059 │    93 │    47 │ 9632465 │     2 │    13 │ 94.671789 │\n",
       "│ id016   │ id073   │ id0007401773 │    33 │    50 │ 7497217 │     1 │    14 │  70.56862 │\n",
       "│ id016   │ id073   │ id0005535254 │    54 │    20 │ 7917068 │     4 │    12 │ 95.195972 │\n",
       "│ id016   │ id094   │ id0004098517 │    81 │    59 │ 1449701 │     3 │    12 │  2.807308 │\n",
       "│ id016   │ id005   │ id0001771150 │    64 │    45 │ 3483795 │     1 │    15 │ 81.704219 │\n",
       "│ id016   │ id060   │ id0006813035 │    33 │    82 │ 7679879 │     1 │    14 │  83.29942 │\n",
       "│ id016   │ id011   │ id0003919229 │    54 │    47 │ 8295473 │     5 │    12 │ 90.968759 │\n",
       "│ id016   │ id035   │ id0002445694 │    25 │    29 │ 2536802 │     4 │    14 │ 34.291885 │\n",
       "│ id016   │ id087   │ id0005575477 │    71 │    25 │ 8133796 │     1 │    11 │ 51.054963 │\n",
       "├─────────┴─────────┴──────────────┴───────┴───────┴─────────┴───────┴───────┴───────────┤\n",
       "│ ? rows (>9999 rows, 20 shown)                                                9 columns │\n",
       "└────────────────────────────────────────────────────────────────────────────────────────┘"
      ]
     },
     "execution_count": 5,
     "metadata": {},
     "output_type": "execute_result"
    }
   ],
   "source": [
    "dataset = table.to_pyarrow_dataset()\n",
    "quack = duckdb.arrow(dataset)\n",
    "quack.filter(\"id1 = 'id016' and v2 > 10\")"
   ]
  },
  {
   "cell_type": "markdown",
   "id": "e31d900f-3757-48f1-8974-61961d07eb71",
   "metadata": {},
   "source": [
    "## Query times: PyArrow vs PyTables (example not working properly yet)"
   ]
  },
  {
   "cell_type": "code",
   "execution_count": 2,
   "id": "bc3fbee7-a702-4da4-aee4-5f5fa6b58911",
   "metadata": {},
   "outputs": [],
   "source": [
    "table_1e8 = DeltaTable(f\"{pathlib.Path.home()}/data/delta/G1_1e8_1e2_0_0\")\n",
    "table_1e9 = DeltaTable(f\"{pathlib.Path.home()}/data/delta/G1_1e9_1e2_0_0\")"
   ]
  },
  {
   "cell_type": "code",
   "execution_count": 10,
   "id": "041eeba7-3b61-430d-88d6-061bde8abb8d",
   "metadata": {},
   "outputs": [
    {
     "name": "stdout",
     "output_type": "stream",
     "text": [
      "CPU times: user 50.8 s, sys: 19.5 s, total: 1min 10s\n",
      "Wall time: 19.2 s\n"
     ]
    }
   ],
   "source": [
    "%%time\n",
    "\n",
    "pyarrow_table = duckdb.arrow(table_1e9.to_pyarrow_table())\n"
   ]
  },
  {
   "cell_type": "code",
   "execution_count": null,
   "id": "bb1c822d-aea0-4181-8e3a-d47bd1506fa8",
   "metadata": {},
   "outputs": [
    {
     "name": "stdout",
     "output_type": "stream",
     "text": [
      "CPU times: user 649 µs, sys: 1.32 ms, total: 1.97 ms\n",
      "Wall time: 3.29 ms\n"
     ]
    }
   ],
   "source": [
    "%%time\n",
    "\n",
    "res = duckdb.sql('SELECT id1, sum(v1) AS v1 from pyarrow_table GROUP BY id1 limit 10')\n",
    "res"
   ]
  },
  {
   "cell_type": "code",
   "execution_count": null,
   "id": "bc14a9c2-5f89-4770-9e32-963f433cac6a",
   "metadata": {},
   "outputs": [],
   "source": [
    "%%time\n",
    "\n",
    "pyarrow_dataset = duckdb.arrow(table_1e9.to_pyarrow_dataset())"
   ]
  },
  {
   "cell_type": "code",
   "execution_count": null,
   "id": "42b79ae3-b558-44df-a6fd-44bb35532a1c",
   "metadata": {},
   "outputs": [
    {
     "name": "stdout",
     "output_type": "stream",
     "text": [
      "CPU times: user 780 µs, sys: 113 µs, total: 893 µs\n",
      "Wall time: 900 µs\n"
     ]
    }
   ],
   "source": [
    "%%time\n",
    "\n",
    "res = duckdb.sql('SELECT id1, sum(v1) AS v1 from pyarrow_dataset GROUP BY id1 limit 10')\n",
    "res"
   ]
  },
  {
   "cell_type": "code",
   "execution_count": null,
   "id": "2e1059a0-3fdd-47d4-b97d-a6f9c3375767",
   "metadata": {},
   "outputs": [],
   "source": []
  }
 ],
 "metadata": {
  "kernelspec": {
   "display_name": "deltalake-0100",
   "language": "python",
   "name": "deltalake-0100"
  },
  "language_info": {
   "codemirror_mode": {
    "name": "ipython",
    "version": 3
   },
   "file_extension": ".py",
   "mimetype": "text/x-python",
   "name": "python",
   "nbconvert_exporter": "python",
   "pygments_lexer": "ipython3",
   "version": "3.9.16"
  }
 },
 "nbformat": 4,
 "nbformat_minor": 5
}
