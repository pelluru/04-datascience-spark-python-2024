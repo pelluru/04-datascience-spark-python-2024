{
 "cells": [
  {
   "cell_type": "code",
   "execution_count": 1,
   "id": "db63e210-f6e1-4ec8-8471-ede6e92b4c82",
   "metadata": {},
   "outputs": [],
   "source": [
    "import pathlib\n",
    "\n",
    "import duckdb\n",
    "import pyarrow.dataset as ds\n",
    "from deltalake import DeltaTable"
   ]
  },
  {
   "cell_type": "code",
   "execution_count": 2,
   "id": "dc66c034-b8e7-49ed-bcac-0ab7616e8e27",
   "metadata": {},
   "outputs": [],
   "source": [
    "table = DeltaTable(f\"{pathlib.Path.home()}/data/delta/G1_1e9_1e2_0_0\")"
   ]
  },
  {
   "cell_type": "code",
   "execution_count": null,
   "id": "8a2e0800-22bb-4aa1-bb6c-06b2193eb784",
   "metadata": {},
   "outputs": [
    {
     "name": "stdout",
     "output_type": "stream",
     "text": [
      "CPU times: user 11.8 ms, sys: 5.69 ms, total: 17.4 ms\n",
      "Wall time: 13.6 ms\n"
     ]
    }
   ],
   "source": [
    "%%time\n",
    "\n",
    "dataset = table.to_pyarrow_dataset()\n",
    "quack = duckdb.arrow(dataset)\n",
    "quack.filter(\"id3 = 'id0001289064'\")"
   ]
  },
  {
   "cell_type": "code",
   "execution_count": null,
   "id": "cb00316f-f0f4-4bf0-bd1a-faa070503530",
   "metadata": {},
   "outputs": [],
   "source": []
  }
 ],
 "metadata": {
  "kernelspec": {
   "display_name": "deltalake-0100",
   "language": "python",
   "name": "deltalake-0100"
  },
  "language_info": {
   "codemirror_mode": {
    "name": "ipython",
    "version": 3
   },
   "file_extension": ".py",
   "mimetype": "text/x-python",
   "name": "python",
   "nbconvert_exporter": "python",
   "pygments_lexer": "ipython3",
   "version": "3.9.16"
  }
 },
 "nbformat": 4,
 "nbformat_minor": 5
}
