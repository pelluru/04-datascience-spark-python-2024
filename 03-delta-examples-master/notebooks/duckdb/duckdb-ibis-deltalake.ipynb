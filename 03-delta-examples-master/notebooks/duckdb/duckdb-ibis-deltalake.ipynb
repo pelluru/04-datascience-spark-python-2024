{
 "cells": [
  {
   "cell_type": "markdown",
   "id": "b37f94fa-66a2-4d43-a286-1f483e2df502",
   "metadata": {},
   "source": [
    "# DuckDB / Ibis / deltalake"
   ]
  },
  {
   "cell_type": "code",
   "execution_count": 1,
   "id": "69ef9f94-672c-4718-bc4d-0c143aa180aa",
   "metadata": {
    "tags": []
   },
   "outputs": [],
   "source": [
    "import os\n",
    "\n",
    "import pandas as pd\n",
    "from deltalake import DeltaTable\n",
    "from deltalake.writer import write_deltalake"
   ]
  },
  {
   "cell_type": "markdown",
   "id": "66ebb388-3675-4843-a5dc-2c4c35da0743",
   "metadata": {},
   "source": [
    "# Create a Delta table"
   ]
  },
  {
   "cell_type": "code",
   "execution_count": 2,
   "id": "780431a9-3150-45bc-9cd3-187e792e68e4",
   "metadata": {
    "tags": []
   },
   "outputs": [],
   "source": [
    "df = pd.DataFrame({\"x\": [\"a\", \"b\", \"c\", \"a\"], \"y\": [1, 2, 3, 4]})"
   ]
  },
  {
   "cell_type": "code",
   "execution_count": 3,
   "id": "c23217ee-e90c-485e-8b47-3e87d8558f3d",
   "metadata": {
    "tags": []
   },
   "outputs": [
    {
     "data": {
      "text/html": [
       "<div>\n",
       "<style scoped>\n",
       "    .dataframe tbody tr th:only-of-type {\n",
       "        vertical-align: middle;\n",
       "    }\n",
       "\n",
       "    .dataframe tbody tr th {\n",
       "        vertical-align: top;\n",
       "    }\n",
       "\n",
       "    .dataframe thead th {\n",
       "        text-align: right;\n",
       "    }\n",
       "</style>\n",
       "<table border=\"1\" class=\"dataframe\">\n",
       "  <thead>\n",
       "    <tr style=\"text-align: right;\">\n",
       "      <th></th>\n",
       "      <th>x</th>\n",
       "      <th>y</th>\n",
       "    </tr>\n",
       "  </thead>\n",
       "  <tbody>\n",
       "    <tr>\n",
       "      <th>0</th>\n",
       "      <td>a</td>\n",
       "      <td>1</td>\n",
       "    </tr>\n",
       "    <tr>\n",
       "      <th>1</th>\n",
       "      <td>b</td>\n",
       "      <td>2</td>\n",
       "    </tr>\n",
       "    <tr>\n",
       "      <th>2</th>\n",
       "      <td>c</td>\n",
       "      <td>3</td>\n",
       "    </tr>\n",
       "    <tr>\n",
       "      <th>3</th>\n",
       "      <td>a</td>\n",
       "      <td>4</td>\n",
       "    </tr>\n",
       "  </tbody>\n",
       "</table>\n",
       "</div>"
      ],
      "text/plain": [
       "   x  y\n",
       "0  a  1\n",
       "1  b  2\n",
       "2  c  3\n",
       "3  a  4"
      ]
     },
     "execution_count": 3,
     "metadata": {},
     "output_type": "execute_result"
    }
   ],
   "source": [
    "df"
   ]
  },
  {
   "cell_type": "code",
   "execution_count": 4,
   "id": "4ad5b42d-8598-4099-8559-92a2575a24e7",
   "metadata": {
    "tags": []
   },
   "outputs": [],
   "source": [
    "os.makedirs(\"tmp/some_delta_lake\", exist_ok=True)"
   ]
  },
  {
   "cell_type": "code",
   "execution_count": 5,
   "id": "7a7907fe-d98d-4d2a-af12-80a2cceb4827",
   "metadata": {
    "tags": []
   },
   "outputs": [],
   "source": [
    "write_deltalake(\"tmp/some_delta_lake\", df)"
   ]
  },
  {
   "cell_type": "markdown",
   "id": "3592e12e-11e3-4efd-bfa7-ec583ba32102",
   "metadata": {},
   "source": [
    "## Append to the Delta table"
   ]
  },
  {
   "cell_type": "code",
   "execution_count": 6,
   "id": "2f9d13a5-add6-4213-abd9-8338f2df2ca4",
   "metadata": {
    "tags": []
   },
   "outputs": [],
   "source": [
    "df = pd.DataFrame({\"x\": [\"l\", \"m\"], \"y\": [20, 30]})"
   ]
  },
  {
   "cell_type": "code",
   "execution_count": 7,
   "id": "98b57237-4da5-4b6a-940a-e453602d32bf",
   "metadata": {
    "tags": []
   },
   "outputs": [
    {
     "data": {
      "text/html": [
       "<div>\n",
       "<style scoped>\n",
       "    .dataframe tbody tr th:only-of-type {\n",
       "        vertical-align: middle;\n",
       "    }\n",
       "\n",
       "    .dataframe tbody tr th {\n",
       "        vertical-align: top;\n",
       "    }\n",
       "\n",
       "    .dataframe thead th {\n",
       "        text-align: right;\n",
       "    }\n",
       "</style>\n",
       "<table border=\"1\" class=\"dataframe\">\n",
       "  <thead>\n",
       "    <tr style=\"text-align: right;\">\n",
       "      <th></th>\n",
       "      <th>x</th>\n",
       "      <th>y</th>\n",
       "    </tr>\n",
       "  </thead>\n",
       "  <tbody>\n",
       "    <tr>\n",
       "      <th>0</th>\n",
       "      <td>l</td>\n",
       "      <td>20</td>\n",
       "    </tr>\n",
       "    <tr>\n",
       "      <th>1</th>\n",
       "      <td>m</td>\n",
       "      <td>30</td>\n",
       "    </tr>\n",
       "  </tbody>\n",
       "</table>\n",
       "</div>"
      ],
      "text/plain": [
       "   x   y\n",
       "0  l  20\n",
       "1  m  30"
      ]
     },
     "execution_count": 7,
     "metadata": {},
     "output_type": "execute_result"
    }
   ],
   "source": [
    "df"
   ]
  },
  {
   "cell_type": "code",
   "execution_count": 8,
   "id": "5d82cb0a-df9c-4e5a-83e8-70292e45d3f0",
   "metadata": {
    "tags": []
   },
   "outputs": [],
   "source": [
    "write_deltalake(\"tmp/some_delta_lake\", df, mode=\"append\")"
   ]
  },
  {
   "cell_type": "markdown",
   "id": "b045dbb8-e335-47fb-8d71-9b68e6aa8cfe",
   "metadata": {},
   "source": [
    "## Create an Ibis table from the Delta table"
   ]
  },
  {
   "cell_type": "code",
   "execution_count": 9,
   "id": "28b1f097-ccee-4c8b-bdb6-9cc4fe8e5c22",
   "metadata": {
    "tags": []
   },
   "outputs": [],
   "source": [
    "import ibis"
   ]
  },
  {
   "cell_type": "code",
   "execution_count": 14,
   "id": "05fe32ff-2792-47a0-a831-3e5508eae2ba",
   "metadata": {
    "tags": []
   },
   "outputs": [],
   "source": [
    "con = ibis.connect(\"duckdb://\")"
   ]
  },
  {
   "cell_type": "code",
   "execution_count": 17,
   "id": "f2268fde-ac0f-473d-99f7-427119a07306",
   "metadata": {
    "tags": []
   },
   "outputs": [
    {
     "data": {
      "text/html": [
       "<pre style=\"white-space:pre;overflow-x:auto;line-height:normal;font-family:Menlo,'DejaVu Sans Mono',consolas,'Courier New',monospace\">┏━━━━━━━━┳━━━━━━━┓\n",
       "┃<span style=\"font-weight: bold\"> x      </span>┃<span style=\"font-weight: bold\"> y     </span>┃\n",
       "┡━━━━━━━━╇━━━━━━━┩\n",
       "│ <span style=\"color: #7f7f7f; text-decoration-color: #7f7f7f\">string</span> │ <span style=\"color: #7f7f7f; text-decoration-color: #7f7f7f\">int64</span> │\n",
       "├────────┼───────┤\n",
       "│ <span style=\"color: #008000; text-decoration-color: #008000\">a     </span> │     <span style=\"color: #008080; text-decoration-color: #008080; font-weight: bold\">1</span> │\n",
       "│ <span style=\"color: #008000; text-decoration-color: #008000\">b     </span> │     <span style=\"color: #008080; text-decoration-color: #008080; font-weight: bold\">2</span> │\n",
       "│ <span style=\"color: #008000; text-decoration-color: #008000\">c     </span> │     <span style=\"color: #008080; text-decoration-color: #008080; font-weight: bold\">3</span> │\n",
       "│ <span style=\"color: #008000; text-decoration-color: #008000\">a     </span> │     <span style=\"color: #008080; text-decoration-color: #008080; font-weight: bold\">4</span> │\n",
       "│ <span style=\"color: #008000; text-decoration-color: #008000\">l     </span> │    <span style=\"color: #008080; text-decoration-color: #008080; font-weight: bold\">20</span> │\n",
       "│ <span style=\"color: #008000; text-decoration-color: #008000\">m     </span> │    <span style=\"color: #008080; text-decoration-color: #008080; font-weight: bold\">30</span> │\n",
       "└────────┴───────┘\n",
       "</pre>\n"
      ],
      "text/plain": [
       "┏━━━━━━━━┳━━━━━━━┓\n",
       "┃\u001b[1m \u001b[0m\u001b[1mx\u001b[0m\u001b[1m     \u001b[0m\u001b[1m \u001b[0m┃\u001b[1m \u001b[0m\u001b[1my\u001b[0m\u001b[1m    \u001b[0m\u001b[1m \u001b[0m┃\n",
       "┡━━━━━━━━╇━━━━━━━┩\n",
       "│ \u001b[2mstring\u001b[0m │ \u001b[2mint64\u001b[0m │\n",
       "├────────┼───────┤\n",
       "│ \u001b[32ma     \u001b[0m │     \u001b[1;36m1\u001b[0m │\n",
       "│ \u001b[32mb     \u001b[0m │     \u001b[1;36m2\u001b[0m │\n",
       "│ \u001b[32mc     \u001b[0m │     \u001b[1;36m3\u001b[0m │\n",
       "│ \u001b[32ma     \u001b[0m │     \u001b[1;36m4\u001b[0m │\n",
       "│ \u001b[32ml     \u001b[0m │    \u001b[1;36m20\u001b[0m │\n",
       "│ \u001b[32mm     \u001b[0m │    \u001b[1;36m30\u001b[0m │\n",
       "└────────┴───────┘"
      ]
     },
     "execution_count": 17,
     "metadata": {},
     "output_type": "execute_result"
    }
   ],
   "source": [
    "con.read_in_memory(DeltaTable(\"tmp/some_delta_lake\").to_pyarrow_dataset(), table_name=\"something\")"
   ]
  },
  {
   "cell_type": "code",
   "execution_count": 18,
   "id": "929abfad-8fa3-478e-a778-2e093e68daa8",
   "metadata": {
    "tags": []
   },
   "outputs": [
    {
     "data": {
      "text/html": [
       "<div>\n",
       "<style scoped>\n",
       "    .dataframe tbody tr th:only-of-type {\n",
       "        vertical-align: middle;\n",
       "    }\n",
       "\n",
       "    .dataframe tbody tr th {\n",
       "        vertical-align: top;\n",
       "    }\n",
       "\n",
       "    .dataframe thead th {\n",
       "        text-align: right;\n",
       "    }\n",
       "</style>\n",
       "<table border=\"1\" class=\"dataframe\">\n",
       "  <thead>\n",
       "    <tr style=\"text-align: right;\">\n",
       "      <th></th>\n",
       "      <th>x</th>\n",
       "      <th>y</th>\n",
       "    </tr>\n",
       "  </thead>\n",
       "  <tbody>\n",
       "    <tr>\n",
       "      <th>0</th>\n",
       "      <td>a</td>\n",
       "      <td>1</td>\n",
       "    </tr>\n",
       "    <tr>\n",
       "      <th>1</th>\n",
       "      <td>b</td>\n",
       "      <td>2</td>\n",
       "    </tr>\n",
       "  </tbody>\n",
       "</table>\n",
       "</div>"
      ],
      "text/plain": [
       "   x  y\n",
       "0  a  1\n",
       "1  b  2"
      ]
     },
     "execution_count": 18,
     "metadata": {},
     "output_type": "execute_result"
    }
   ],
   "source": [
    "con.table(\"something\").head(2).execute()"
   ]
  },
  {
   "cell_type": "markdown",
   "id": "9945fd61-5d9e-4e40-ae53-5d352f814cdc",
   "metadata": {},
   "source": [
    "## Time travel back to version 0 of the data"
   ]
  },
  {
   "cell_type": "code",
   "execution_count": 20,
   "id": "b553e088-1e84-4d8e-b63a-6f907c97f5a4",
   "metadata": {
    "tags": []
   },
   "outputs": [
    {
     "data": {
      "text/html": [
       "<pre style=\"white-space:pre;overflow-x:auto;line-height:normal;font-family:Menlo,'DejaVu Sans Mono',consolas,'Courier New',monospace\">┏━━━━━━━━┳━━━━━━━┓\n",
       "┃<span style=\"font-weight: bold\"> x      </span>┃<span style=\"font-weight: bold\"> y     </span>┃\n",
       "┡━━━━━━━━╇━━━━━━━┩\n",
       "│ <span style=\"color: #7f7f7f; text-decoration-color: #7f7f7f\">string</span> │ <span style=\"color: #7f7f7f; text-decoration-color: #7f7f7f\">int64</span> │\n",
       "├────────┼───────┤\n",
       "│ <span style=\"color: #008000; text-decoration-color: #008000\">a     </span> │     <span style=\"color: #008080; text-decoration-color: #008080; font-weight: bold\">1</span> │\n",
       "│ <span style=\"color: #008000; text-decoration-color: #008000\">b     </span> │     <span style=\"color: #008080; text-decoration-color: #008080; font-weight: bold\">2</span> │\n",
       "│ <span style=\"color: #008000; text-decoration-color: #008000\">c     </span> │     <span style=\"color: #008080; text-decoration-color: #008080; font-weight: bold\">3</span> │\n",
       "│ <span style=\"color: #008000; text-decoration-color: #008000\">a     </span> │     <span style=\"color: #008080; text-decoration-color: #008080; font-weight: bold\">4</span> │\n",
       "└────────┴───────┘\n",
       "</pre>\n"
      ],
      "text/plain": [
       "┏━━━━━━━━┳━━━━━━━┓\n",
       "┃\u001b[1m \u001b[0m\u001b[1mx\u001b[0m\u001b[1m     \u001b[0m\u001b[1m \u001b[0m┃\u001b[1m \u001b[0m\u001b[1my\u001b[0m\u001b[1m    \u001b[0m\u001b[1m \u001b[0m┃\n",
       "┡━━━━━━━━╇━━━━━━━┩\n",
       "│ \u001b[2mstring\u001b[0m │ \u001b[2mint64\u001b[0m │\n",
       "├────────┼───────┤\n",
       "│ \u001b[32ma     \u001b[0m │     \u001b[1;36m1\u001b[0m │\n",
       "│ \u001b[32mb     \u001b[0m │     \u001b[1;36m2\u001b[0m │\n",
       "│ \u001b[32mc     \u001b[0m │     \u001b[1;36m3\u001b[0m │\n",
       "│ \u001b[32ma     \u001b[0m │     \u001b[1;36m4\u001b[0m │\n",
       "└────────┴───────┘"
      ]
     },
     "execution_count": 20,
     "metadata": {},
     "output_type": "execute_result"
    }
   ],
   "source": [
    "con.read_in_memory(DeltaTable(\"tmp/some_delta_lake\", version=0).to_pyarrow_dataset(), table_name=\"somethingv0\")"
   ]
  },
  {
   "cell_type": "code",
   "execution_count": 23,
   "id": "ac496011-fce4-4462-baf4-a9fb42560f15",
   "metadata": {
    "tags": []
   },
   "outputs": [],
   "source": [
    "somethingv0 = con.table(\"somethingv0\")"
   ]
  },
  {
   "cell_type": "code",
   "execution_count": 24,
   "id": "fed3bf8b-e146-40e0-a0ed-0b6da2970059",
   "metadata": {
    "tags": []
   },
   "outputs": [
    {
     "data": {
      "text/html": [
       "<div>\n",
       "<style scoped>\n",
       "    .dataframe tbody tr th:only-of-type {\n",
       "        vertical-align: middle;\n",
       "    }\n",
       "\n",
       "    .dataframe tbody tr th {\n",
       "        vertical-align: top;\n",
       "    }\n",
       "\n",
       "    .dataframe thead th {\n",
       "        text-align: right;\n",
       "    }\n",
       "</style>\n",
       "<table border=\"1\" class=\"dataframe\">\n",
       "  <thead>\n",
       "    <tr style=\"text-align: right;\">\n",
       "      <th></th>\n",
       "      <th>x</th>\n",
       "      <th>y</th>\n",
       "    </tr>\n",
       "  </thead>\n",
       "  <tbody>\n",
       "    <tr>\n",
       "      <th>0</th>\n",
       "      <td>a</td>\n",
       "      <td>4</td>\n",
       "    </tr>\n",
       "  </tbody>\n",
       "</table>\n",
       "</div>"
      ],
      "text/plain": [
       "   x  y\n",
       "0  a  4"
      ]
     },
     "execution_count": 24,
     "metadata": {},
     "output_type": "execute_result"
    }
   ],
   "source": [
    "somethingv0.filter(somethingv0.y >= 4).execute()"
   ]
  },
  {
   "cell_type": "code",
   "execution_count": null,
   "id": "23f4091f-c3f7-4ca7-a8d0-99c6b5459f55",
   "metadata": {},
   "outputs": [],
   "source": []
  }
 ],
 "metadata": {
  "kernelspec": {
   "display_name": "Python [conda env:deltalake-081] *",
   "language": "python",
   "name": "conda-env-deltalake-081-py"
  },
  "language_info": {
   "codemirror_mode": {
    "name": "ipython",
    "version": 3
   },
   "file_extension": ".py",
   "mimetype": "text/x-python",
   "name": "python",
   "nbconvert_exporter": "python",
   "pygments_lexer": "ipython3",
   "version": "3.9.16"
  }
 },
 "nbformat": 4,
 "nbformat_minor": 5
}
