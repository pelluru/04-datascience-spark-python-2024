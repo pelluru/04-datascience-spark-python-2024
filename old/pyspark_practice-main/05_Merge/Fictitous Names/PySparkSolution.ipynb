{
 "cells": [
  {
   "cell_type": "markdown",
   "metadata": {},
   "source": [
    "# Fictitious Names"
   ]
  },
  {
   "cell_type": "markdown",
   "metadata": {},
   "source": [
    "### Introduction:\n",
    "\n",
    "This time you will create a data again \n",
    "\n",
    "Special thanks to [Chris Albon](http://chrisalbon.com/) for sharing the dataset and materials.\n",
    "All the credits to this exercise belongs to him.  \n",
    "\n",
    "In order to understand about it go [here](https://blog.codinghorror.com/a-visual-explanation-of-sql-joins/).\n",
    "\n",
    "### Step 1. Import the necessary libraries"
   ]
  },
  {
   "cell_type": "code",
   "execution_count": 1,
   "metadata": {},
   "outputs": [
    {
     "data": {
      "text/html": [
       "\n",
       "            <div>\n",
       "                <p><b>SparkSession - in-memory</b></p>\n",
       "                \n",
       "        <div>\n",
       "            <p><b>SparkContext</b></p>\n",
       "\n",
       "            <p><a href=\"http://192.168.1.20:4040\">Spark UI</a></p>\n",
       "\n",
       "            <dl>\n",
       "              <dt>Version</dt>\n",
       "                <dd><code>v3.1.2</code></dd>\n",
       "              <dt>Master</dt>\n",
       "                <dd><code>local[*]</code></dd>\n",
       "              <dt>AppName</dt>\n",
       "                <dd><code>names</code></dd>\n",
       "            </dl>\n",
       "        </div>\n",
       "        \n",
       "            </div>\n",
       "        "
      ],
      "text/plain": [
       "<pyspark.sql.session.SparkSession at 0x1058e5670>"
      ]
     },
     "execution_count": 1,
     "metadata": {},
     "output_type": "execute_result"
    }
   ],
   "source": [
    "import pyspark\n",
    "from pyspark.sql import SparkSession\n",
    "spark = SparkSession.builder.appName('names').getOrCreate()\n",
    "spark"
   ]
  },
  {
   "cell_type": "markdown",
   "metadata": {},
   "source": [
    "### Step 2. Create the 3 DataFrames based on the following raw data"
   ]
  },
  {
   "cell_type": "code",
   "execution_count": 3,
   "metadata": {},
   "outputs": [],
   "source": [
    "raw_data_1 = {\n",
    "        'subject_id': ['1', '2', '3', '4', '5'],\n",
    "        'first_name': ['Alex', 'Amy', 'Allen', 'Alice', 'Ayoung'], \n",
    "        'last_name': ['Anderson', 'Ackerman', 'Ali', 'Aoni', 'Atiches']}\n",
    "\n",
    "raw_data_2 = {\n",
    "        'subject_id': ['4', '5', '6', '7', '8'],\n",
    "        'first_name': ['Billy', 'Brian', 'Bran', 'Bryce', 'Betty'], \n",
    "        'last_name': ['Bonder', 'Black', 'Balwner', 'Brice', 'Btisan']}\n",
    "\n",
    "raw_data_3 = {\n",
    "        'subject_id': ['1', '2', '3', '4', '5', '7', '8', '9', '10', '11'],\n",
    "        'test_id': [51, 15, 15, 61, 16, 14, 15, 1, 61, 16]}"
   ]
  },
  {
   "cell_type": "markdown",
   "metadata": {},
   "source": [
    "### Step 3. Assign each to a variable called data1, data2, data3"
   ]
  },
  {
   "cell_type": "code",
   "execution_count": 2,
   "metadata": {},
   "outputs": [],
   "source": [
    "import pandas as pd"
   ]
  },
  {
   "cell_type": "code",
   "execution_count": 4,
   "metadata": {},
   "outputs": [
    {
     "name": "stdout",
     "output_type": "stream",
     "text": [
      "+----------+----------+---------+\n",
      "|subject_id|first_name|last_name|\n",
      "+----------+----------+---------+\n",
      "|         1|      Alex| Anderson|\n",
      "|         2|       Amy| Ackerman|\n",
      "|         3|     Allen|      Ali|\n",
      "|         4|     Alice|     Aoni|\n",
      "|         5|    Ayoung|  Atiches|\n",
      "+----------+----------+---------+\n",
      "\n"
     ]
    }
   ],
   "source": [
    "data1 = spark.createDataFrame(pd.DataFrame(raw_data_1))\n",
    "data1.show()"
   ]
  },
  {
   "cell_type": "code",
   "execution_count": 5,
   "metadata": {},
   "outputs": [
    {
     "name": "stdout",
     "output_type": "stream",
     "text": [
      "+----------+----------+---------+\n",
      "|subject_id|first_name|last_name|\n",
      "+----------+----------+---------+\n",
      "|         4|     Billy|   Bonder|\n",
      "|         5|     Brian|    Black|\n",
      "|         6|      Bran|  Balwner|\n",
      "|         7|     Bryce|    Brice|\n",
      "|         8|     Betty|   Btisan|\n",
      "+----------+----------+---------+\n",
      "\n"
     ]
    }
   ],
   "source": [
    "data2 = spark.createDataFrame(pd.DataFrame(raw_data_2))\n",
    "data2.show()"
   ]
  },
  {
   "cell_type": "code",
   "execution_count": 6,
   "metadata": {},
   "outputs": [
    {
     "name": "stdout",
     "output_type": "stream",
     "text": [
      "+----------+-------+\n",
      "|subject_id|test_id|\n",
      "+----------+-------+\n",
      "|         1|     51|\n",
      "|         2|     15|\n",
      "|         3|     15|\n",
      "|         4|     61|\n",
      "|         5|     16|\n",
      "|         7|     14|\n",
      "|         8|     15|\n",
      "|         9|      1|\n",
      "|        10|     61|\n",
      "|        11|     16|\n",
      "+----------+-------+\n",
      "\n"
     ]
    }
   ],
   "source": [
    "data3 = spark.createDataFrame(pd.DataFrame(raw_data_3))\n",
    "data3.show()"
   ]
  },
  {
   "cell_type": "markdown",
   "metadata": {},
   "source": [
    "### Step 4. Join the two dataframes along rows and assign all_data"
   ]
  },
  {
   "cell_type": "code",
   "execution_count": 7,
   "metadata": {},
   "outputs": [
    {
     "name": "stdout",
     "output_type": "stream",
     "text": [
      "+----------+----------+---------+\n",
      "|subject_id|first_name|last_name|\n",
      "+----------+----------+---------+\n",
      "|         1|      Alex| Anderson|\n",
      "|         2|       Amy| Ackerman|\n",
      "|         3|     Allen|      Ali|\n",
      "|         4|     Alice|     Aoni|\n",
      "|         5|    Ayoung|  Atiches|\n",
      "|         4|     Billy|   Bonder|\n",
      "|         5|     Brian|    Black|\n",
      "|         6|      Bran|  Balwner|\n",
      "|         7|     Bryce|    Brice|\n",
      "|         8|     Betty|   Btisan|\n",
      "+----------+----------+---------+\n",
      "\n"
     ]
    }
   ],
   "source": [
    "all_data = data1.unionByName(data2)\n",
    "all_data.show()"
   ]
  },
  {
   "cell_type": "markdown",
   "metadata": {},
   "source": [
    "### Step 5. Join the two dataframes along columns and assing to all_data_col"
   ]
  },
  {
   "cell_type": "code",
   "execution_count": 12,
   "metadata": {},
   "outputs": [],
   "source": [
    "#trying to find an answer"
   ]
  },
  {
   "cell_type": "markdown",
   "metadata": {},
   "source": [
    "### Step 6. Print data3"
   ]
  },
  {
   "cell_type": "code",
   "execution_count": 8,
   "metadata": {},
   "outputs": [
    {
     "name": "stdout",
     "output_type": "stream",
     "text": [
      "+----------+-------+\n",
      "|subject_id|test_id|\n",
      "+----------+-------+\n",
      "|         1|     51|\n",
      "|         2|     15|\n",
      "|         3|     15|\n",
      "|         4|     61|\n",
      "|         5|     16|\n",
      "|         7|     14|\n",
      "|         8|     15|\n",
      "|         9|      1|\n",
      "|        10|     61|\n",
      "|        11|     16|\n",
      "+----------+-------+\n",
      "\n"
     ]
    }
   ],
   "source": [
    "data3.show()"
   ]
  },
  {
   "cell_type": "markdown",
   "metadata": {},
   "source": [
    "### Step 7. Merge all_data and data3 along the subject_id value"
   ]
  },
  {
   "cell_type": "code",
   "execution_count": 9,
   "metadata": {},
   "outputs": [
    {
     "name": "stdout",
     "output_type": "stream",
     "text": [
      "+----------+----------+---------+-------+\n",
      "|subject_id|first_name|last_name|test_id|\n",
      "+----------+----------+---------+-------+\n",
      "|         7|     Bryce|    Brice|     14|\n",
      "|         3|     Allen|      Ali|     15|\n",
      "|         8|     Betty|   Btisan|     15|\n",
      "|         5|    Ayoung|  Atiches|     16|\n",
      "|         5|     Brian|    Black|     16|\n",
      "|         1|      Alex| Anderson|     51|\n",
      "|         4|     Alice|     Aoni|     61|\n",
      "|         4|     Billy|   Bonder|     61|\n",
      "|         2|       Amy| Ackerman|     15|\n",
      "+----------+----------+---------+-------+\n",
      "\n"
     ]
    }
   ],
   "source": [
    "result = all_data.join(data3, ['subject_id'])\n",
    "result.show()"
   ]
  },
  {
   "cell_type": "markdown",
   "metadata": {},
   "source": [
    "### Step 8. Merge only the data that has the same 'subject_id' on both data1 and data2"
   ]
  },
  {
   "cell_type": "code",
   "execution_count": 10,
   "metadata": {},
   "outputs": [
    {
     "name": "stdout",
     "output_type": "stream",
     "text": [
      "+----------+----------+---------+----------+---------+\n",
      "|subject_id|first_name|last_name|first_name|last_name|\n",
      "+----------+----------+---------+----------+---------+\n",
      "|         5|    Ayoung|  Atiches|     Brian|    Black|\n",
      "|         4|     Alice|     Aoni|     Billy|   Bonder|\n",
      "+----------+----------+---------+----------+---------+\n",
      "\n"
     ]
    }
   ],
   "source": [
    "data_12 = data1.join(data2,['subject_id'], 'inner')\n",
    "data_12.show()"
   ]
  },
  {
   "cell_type": "markdown",
   "metadata": {},
   "source": [
    "### Step 9. Merge all values in data1 and data2, with matching records from both sides where available."
   ]
  },
  {
   "cell_type": "code",
   "execution_count": 11,
   "metadata": {},
   "outputs": [
    {
     "name": "stdout",
     "output_type": "stream",
     "text": [
      "+----------+----------+---------+----------+---------+\n",
      "|subject_id|first_name|last_name|first_name|last_name|\n",
      "+----------+----------+---------+----------+---------+\n",
      "|         7|      null|     null|     Bryce|    Brice|\n",
      "|         3|     Allen|      Ali|      null|     null|\n",
      "|         8|      null|     null|     Betty|   Btisan|\n",
      "|         5|    Ayoung|  Atiches|     Brian|    Black|\n",
      "|         6|      null|     null|      Bran|  Balwner|\n",
      "|         1|      Alex| Anderson|      null|     null|\n",
      "|         4|     Alice|     Aoni|     Billy|   Bonder|\n",
      "|         2|       Amy| Ackerman|      null|     null|\n",
      "+----------+----------+---------+----------+---------+\n",
      "\n"
     ]
    }
   ],
   "source": [
    "data_all = data1.join(data2,['subject_id'], 'outer')\n",
    "data_all.show()"
   ]
  }
 ],
 "metadata": {
  "kernelspec": {
   "display_name": "Python 3",
   "language": "python",
   "name": "python3"
  },
  "language_info": {
   "codemirror_mode": {
    "name": "ipython",
    "version": 3
   },
   "file_extension": ".py",
   "mimetype": "text/x-python",
   "name": "python",
   "nbconvert_exporter": "python",
   "pygments_lexer": "ipython3",
   "version": "3.9.6"
  }
 },
 "nbformat": 4,
 "nbformat_minor": 1
}
