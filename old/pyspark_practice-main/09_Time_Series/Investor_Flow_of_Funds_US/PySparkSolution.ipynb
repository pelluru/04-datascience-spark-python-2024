{
 "cells": [
  {
   "cell_type": "markdown",
   "metadata": {},
   "source": [
    "# Investor - Flow of Funds - US"
   ]
  },
  {
   "cell_type": "markdown",
   "metadata": {},
   "source": [
    "### Introduction:\n",
    "\n",
    "Special thanks to: https://github.com/rgrp for sharing the dataset.\n",
    "\n",
    "### Step 1. Import the necessary libraries"
   ]
  },
  {
   "cell_type": "code",
   "execution_count": 1,
   "metadata": {},
   "outputs": [
    {
     "data": {
      "text/html": [
       "\n",
       "            <div>\n",
       "                <p><b>SparkSession - in-memory</b></p>\n",
       "                \n",
       "        <div>\n",
       "            <p><b>SparkContext</b></p>\n",
       "\n",
       "            <p><a href=\"http://192.168.1.20:4040\">Spark UI</a></p>\n",
       "\n",
       "            <dl>\n",
       "              <dt>Version</dt>\n",
       "                <dd><code>v3.1.2</code></dd>\n",
       "              <dt>Master</dt>\n",
       "                <dd><code>local[*]</code></dd>\n",
       "              <dt>AppName</dt>\n",
       "                <dd><code>funds</code></dd>\n",
       "            </dl>\n",
       "        </div>\n",
       "        \n",
       "            </div>\n",
       "        "
      ],
      "text/plain": [
       "<pyspark.sql.session.SparkSession at 0x1110bfd30>"
      ]
     },
     "execution_count": 1,
     "metadata": {},
     "output_type": "execute_result"
    }
   ],
   "source": [
    "import pyspark\n",
    "from pyspark.sql import SparkSession\n",
    "spark = SparkSession.builder.appName('funds').getOrCreate()\n",
    "spark"
   ]
  },
  {
   "cell_type": "markdown",
   "metadata": {},
   "source": [
    "### Step 2. Import the dataset from this [address](https://raw.githubusercontent.com/datasets/investor-flow-of-funds-us/master/data/weekly.csv). "
   ]
  },
  {
   "cell_type": "code",
   "execution_count": 2,
   "metadata": {},
   "outputs": [],
   "source": [
    "from pyspark import SparkFiles"
   ]
  },
  {
   "cell_type": "markdown",
   "metadata": {},
   "source": [
    "### Step 3. Assign it to a variable called "
   ]
  },
  {
   "cell_type": "code",
   "execution_count": 3,
   "metadata": {},
   "outputs": [],
   "source": [
    "url = \"https://raw.githubusercontent.com/datasets/investor-flow-of-funds-us/master/data/weekly.csv\"\n",
    "\n",
    "spark.sparkContext.addFile(url)\n",
    "\n",
    "df = spark.read.csv(SparkFiles.get(\"weekly.csv\"), header=True, inferSchema=True, sep=',')"
   ]
  },
  {
   "cell_type": "code",
   "execution_count": 4,
   "metadata": {},
   "outputs": [
    {
     "name": "stdout",
     "output_type": "stream",
     "text": [
      "+----------+------------+---------------+------------+------+----------+------------+--------------+-----+\n",
      "|      Date|Total Equity|Domestic Equity|World Equity|Hybrid|Total Bond|Taxable Bond|Municipal Bond|Total|\n",
      "+----------+------------+---------------+------------+------+----------+------------+--------------+-----+\n",
      "|2012-12-05|       -7426|          -6060|       -1367|   -74|      5317|        4210|          1107|-2183|\n",
      "|2012-12-12|       -8783|          -7520|       -1263|   123|      1818|        1598|           219|-6842|\n",
      "|2012-12-19|       -5496|          -5470|         -26|   -73|       103|        3472|         -3369|-5466|\n",
      "|2012-12-26|       -4451|          -4076|        -375|   550|      2610|        3333|          -722|-1291|\n",
      "|2013-01-02|      -11156|          -9622|       -1533|  -158|      2383|        2103|           280|-8931|\n",
      "+----------+------------+---------------+------------+------+----------+------------+--------------+-----+\n",
      "only showing top 5 rows\n",
      "\n"
     ]
    }
   ],
   "source": [
    "df.show(5)"
   ]
  },
  {
   "cell_type": "markdown",
   "metadata": {},
   "source": [
    "### Step 4.  What is the frequency of the dataset?"
   ]
  },
  {
   "cell_type": "code",
   "execution_count": 5,
   "metadata": {},
   "outputs": [],
   "source": [
    "#Weeks"
   ]
  },
  {
   "cell_type": "markdown",
   "metadata": {},
   "source": [
    "### Step 5. Set the column Date as the index."
   ]
  },
  {
   "cell_type": "code",
   "execution_count": null,
   "metadata": {},
   "outputs": [],
   "source": []
  },
  {
   "cell_type": "markdown",
   "metadata": {},
   "source": [
    "### Step 6. What is the type of the index?"
   ]
  },
  {
   "cell_type": "code",
   "execution_count": 9,
   "metadata": {},
   "outputs": [
    {
     "data": {
      "text/plain": [
       "[('Date', 'string'),\n",
       " ('Total Equity', 'int'),\n",
       " ('Domestic Equity', 'int'),\n",
       " ('World Equity', 'int'),\n",
       " ('Hybrid', 'int'),\n",
       " ('Total Bond', 'int'),\n",
       " ('Taxable Bond', 'int'),\n",
       " ('Municipal Bond', 'int'),\n",
       " ('Total', 'int')]"
      ]
     },
     "execution_count": 9,
     "metadata": {},
     "output_type": "execute_result"
    }
   ],
   "source": [
    "df.dtypes"
   ]
  },
  {
   "cell_type": "markdown",
   "metadata": {},
   "source": [
    "### Step 7. Set the index to a DatetimeIndex type"
   ]
  },
  {
   "cell_type": "code",
   "execution_count": 10,
   "metadata": {},
   "outputs": [],
   "source": [
    "import pyspark.sql.types as T"
   ]
  },
  {
   "cell_type": "code",
   "execution_count": 12,
   "metadata": {},
   "outputs": [
    {
     "name": "stdout",
     "output_type": "stream",
     "text": [
      "+----------+------------+---------------+------------+------+----------+------------+--------------+-----+\n",
      "|      Date|Total Equity|Domestic Equity|World Equity|Hybrid|Total Bond|Taxable Bond|Municipal Bond|Total|\n",
      "+----------+------------+---------------+------------+------+----------+------------+--------------+-----+\n",
      "|2012-12-05|       -7426|          -6060|       -1367|   -74|      5317|        4210|          1107|-2183|\n",
      "|2012-12-12|       -8783|          -7520|       -1263|   123|      1818|        1598|           219|-6842|\n",
      "|2012-12-19|       -5496|          -5470|         -26|   -73|       103|        3472|         -3369|-5466|\n",
      "|2012-12-26|       -4451|          -4076|        -375|   550|      2610|        3333|          -722|-1291|\n",
      "|2013-01-02|      -11156|          -9622|       -1533|  -158|      2383|        2103|           280|-8931|\n",
      "+----------+------------+---------------+------------+------+----------+------------+--------------+-----+\n",
      "only showing top 5 rows\n",
      "\n"
     ]
    }
   ],
   "source": [
    "df = df.withColumn('Date', df.Date.cast(T.DateType()))\n",
    "df.show(5)"
   ]
  },
  {
   "cell_type": "code",
   "execution_count": 13,
   "metadata": {},
   "outputs": [
    {
     "name": "stdout",
     "output_type": "stream",
     "text": [
      "root\n",
      " |-- Date: date (nullable = true)\n",
      " |-- Total Equity: integer (nullable = true)\n",
      " |-- Domestic Equity: integer (nullable = true)\n",
      " |-- World Equity: integer (nullable = true)\n",
      " |-- Hybrid: integer (nullable = true)\n",
      " |-- Total Bond: integer (nullable = true)\n",
      " |-- Taxable Bond: integer (nullable = true)\n",
      " |-- Municipal Bond: integer (nullable = true)\n",
      " |-- Total: integer (nullable = true)\n",
      "\n"
     ]
    }
   ],
   "source": [
    "df.printSchema()"
   ]
  },
  {
   "cell_type": "markdown",
   "metadata": {},
   "source": [
    "### Step 8.  Change the frequency to monthly, sum the values and assign it to monthly."
   ]
  },
  {
   "cell_type": "code",
   "execution_count": 14,
   "metadata": {},
   "outputs": [],
   "source": [
    "import pyspark.sql.functions as F"
   ]
  },
  {
   "cell_type": "code",
   "execution_count": 17,
   "metadata": {},
   "outputs": [
    {
     "name": "stdout",
     "output_type": "stream",
     "text": [
      "+----------+------------+---------------+------------+------+----------+------------+--------------+-----+-----+----+\n",
      "|      Date|Total Equity|Domestic Equity|World Equity|Hybrid|Total Bond|Taxable Bond|Municipal Bond|Total|month|year|\n",
      "+----------+------------+---------------+------------+------+----------+------------+--------------+-----+-----+----+\n",
      "|2012-12-05|       -7426|          -6060|       -1367|   -74|      5317|        4210|          1107|-2183|   12|2012|\n",
      "|2012-12-12|       -8783|          -7520|       -1263|   123|      1818|        1598|           219|-6842|   12|2012|\n",
      "|2012-12-19|       -5496|          -5470|         -26|   -73|       103|        3472|         -3369|-5466|   12|2012|\n",
      "|2012-12-26|       -4451|          -4076|        -375|   550|      2610|        3333|          -722|-1291|   12|2012|\n",
      "|2013-01-02|      -11156|          -9622|       -1533|  -158|      2383|        2103|           280|-8931|    1|2013|\n",
      "+----------+------------+---------------+------------+------+----------+------------+--------------+-----+-----+----+\n",
      "only showing top 5 rows\n",
      "\n"
     ]
    }
   ],
   "source": [
    "df_new = df.withColumn('month', F.month('Date'))\\\n",
    "            .withColumn('year', F.year('Date'))\n",
    "df_new.show(5)"
   ]
  },
  {
   "cell_type": "code",
   "execution_count": 22,
   "metadata": {},
   "outputs": [
    {
     "name": "stdout",
     "output_type": "stream",
     "text": [
      "+------------+---------------+------------+------+----------+------------+--------------+-----+-------+\n",
      "|Total Equity|Domestic Equity|World Equity|Hybrid|Total Bond|Taxable Bond|Municipal Bond|Total|  Yr_Mo|\n",
      "+------------+---------------+------------+------+----------+------------+--------------+-----+-------+\n",
      "|       -7426|          -6060|       -1367|   -74|      5317|        4210|          1107|-2183|2012-12|\n",
      "|       -8783|          -7520|       -1263|   123|      1818|        1598|           219|-6842|2012-12|\n",
      "|       -5496|          -5470|         -26|   -73|       103|        3472|         -3369|-5466|2012-12|\n",
      "|       -4451|          -4076|        -375|   550|      2610|        3333|          -722|-1291|2012-12|\n",
      "|      -11156|          -9622|       -1533|  -158|      2383|        2103|           280|-8931| 2013-1|\n",
      "+------------+---------------+------------+------+----------+------------+--------------+-----+-------+\n",
      "only showing top 5 rows\n",
      "\n"
     ]
    }
   ],
   "source": [
    "cols = ['year','month']\n",
    "df_month_sampled = df_new.withColumn('Yr_Mo', F.concat_ws(\"-\",*cols)).drop(\"Date\",\"year\",\"month\")\n",
    "df_month_sampled.show(5)"
   ]
  },
  {
   "cell_type": "code",
   "execution_count": 25,
   "metadata": {},
   "outputs": [
    {
     "name": "stdout",
     "output_type": "stream",
     "text": [
      "+-------+-----------------+--------------------+-----------------+-----------+---------------+-----------------+-------------------+----------+\n",
      "|  Yr_Mo|sum(Total Equity)|sum(Domestic Equity)|sum(World Equity)|sum(Hybrid)|sum(Total Bond)|sum(Taxable Bond)|sum(Municipal Bond)|sum(Total)|\n",
      "+-------+-----------------+--------------------+-----------------+-----------+---------------+-----------------+-------------------+----------+\n",
      "|2012-12|           -26156|              -23126|            -3031|        526|           9848|            12613|              -2765|    -15782|\n",
      "| 2013-1|             3661|               -1627|             5288|       2730|          12149|             9414|               2735|     18540|\n",
      "|2014-11|            -2753|               -7239|             4485|        729|          14528|            11566|               2962|     12502|\n",
      "| 2014-4|            10842|                1048|             9794|       4931|           8493|             7193|               1300|     24267|\n",
      "| 2014-5|            -2203|               -8720|             6518|       3172|          13767|            10192|               3576|     14736|\n",
      "+-------+-----------------+--------------------+-----------------+-----------+---------------+-----------------+-------------------+----------+\n",
      "only showing top 5 rows\n",
      "\n"
     ]
    }
   ],
   "source": [
    "monthly = df_month_sampled.groupBy(\"Yr_Mo\").sum().orderBy(\"Yr_Mo\")\n",
    "monthly.show(5)"
   ]
  },
  {
   "cell_type": "markdown",
   "metadata": {},
   "source": [
    "### Step 9. You will notice that it filled the dataFrame with months that don't have any data with NaN. Let's drop these rows."
   ]
  },
  {
   "cell_type": "code",
   "execution_count": 26,
   "metadata": {},
   "outputs": [
    {
     "name": "stdout",
     "output_type": "stream",
     "text": [
      "+-------+-----------------+--------------------+-----------------+-----------+---------------+-----------------+-------------------+----------+\n",
      "|  Yr_Mo|sum(Total Equity)|sum(Domestic Equity)|sum(World Equity)|sum(Hybrid)|sum(Total Bond)|sum(Taxable Bond)|sum(Municipal Bond)|sum(Total)|\n",
      "+-------+-----------------+--------------------+-----------------+-----------+---------------+-----------------+-------------------+----------+\n",
      "|2012-12|           -26156|              -23126|            -3031|        526|           9848|            12613|              -2765|    -15782|\n",
      "| 2013-1|             3661|               -1627|             5288|       2730|          12149|             9414|               2735|     18540|\n",
      "|2014-11|            -2753|               -7239|             4485|        729|          14528|            11566|               2962|     12502|\n",
      "| 2014-4|            10842|                1048|             9794|       4931|           8493|             7193|               1300|     24267|\n",
      "| 2014-5|            -2203|               -8720|             6518|       3172|          13767|            10192|               3576|     14736|\n",
      "+-------+-----------------+--------------------+-----------------+-----------+---------------+-----------------+-------------------+----------+\n",
      "only showing top 5 rows\n",
      "\n"
     ]
    }
   ],
   "source": [
    "monthly = df_month_sampled.dropna().groupBy(\"Yr_Mo\").sum().orderBy(\"Yr_Mo\")\n",
    "monthly.show(5)"
   ]
  },
  {
   "cell_type": "markdown",
   "metadata": {},
   "source": [
    "### Step 10. Good, now we have the monthly data. Now change the frequency to year."
   ]
  },
  {
   "cell_type": "code",
   "execution_count": 27,
   "metadata": {},
   "outputs": [
    {
     "data": {
      "text/plain": [
       "['Date',\n",
       " 'Total Equity',\n",
       " 'Domestic Equity',\n",
       " 'World Equity',\n",
       " 'Hybrid',\n",
       " 'Total Bond',\n",
       " 'Taxable Bond',\n",
       " 'Municipal Bond',\n",
       " 'Total',\n",
       " 'month',\n",
       " 'year']"
      ]
     },
     "execution_count": 27,
     "metadata": {},
     "output_type": "execute_result"
    }
   ],
   "source": [
    "df_new.columns"
   ]
  },
  {
   "cell_type": "code",
   "execution_count": 29,
   "metadata": {},
   "outputs": [
    {
     "name": "stdout",
     "output_type": "stream",
     "text": [
      "+----+-----------------+--------------------+-----------------+-----------+---------------+-----------------+-------------------+----------+---------+\n",
      "|year|sum(Total Equity)|sum(Domestic Equity)|sum(World Equity)|sum(Hybrid)|sum(Total Bond)|sum(Taxable Bond)|sum(Municipal Bond)|sum(Total)|sum(year)|\n",
      "+----+-----------------+--------------------+-----------------+-----------+---------------+-----------------+-------------------+----------+---------+\n",
      "|2012|           -26156|              -23126|            -3031|        526|           9848|            12613|              -2765|    -15782|     8048|\n",
      "|2013|             3661|               -1627|             5288|       2730|          12149|             9414|               2735|     18540|     4026|\n",
      "|2014|              330|              -44689|            45021|      19570|          59890|            44994|              14896|     79787|    52364|\n",
      "|2015|            15049|              -10459|            25508|       7280|          26028|            17986|               8041|     48357|    24180|\n",
      "+----+-----------------+--------------------+-----------------+-----------+---------------+-----------------+-------------------+----------+---------+\n",
      "\n"
     ]
    }
   ],
   "source": [
    "cols = ['year','month']\n",
    "df_year_sampled = df_new.drop(\"Date\",\"month\").dropna().groupBy('year').sum().orderBy('year')\n",
    "df_year_sampled.show(5)"
   ]
  },
  {
   "cell_type": "markdown",
   "metadata": {},
   "source": [
    "### BONUS: Create your own question and answer it."
   ]
  },
  {
   "cell_type": "code",
   "execution_count": null,
   "metadata": {
    "collapsed": true
   },
   "outputs": [],
   "source": []
  }
 ],
 "metadata": {
  "kernelspec": {
   "display_name": "Python 3",
   "language": "python",
   "name": "python3"
  },
  "language_info": {
   "codemirror_mode": {
    "name": "ipython",
    "version": 3
   },
   "file_extension": ".py",
   "mimetype": "text/x-python",
   "name": "python",
   "nbconvert_exporter": "python",
   "pygments_lexer": "ipython3",
   "version": "3.9.6"
  }
 },
 "nbformat": 4,
 "nbformat_minor": 1
}
