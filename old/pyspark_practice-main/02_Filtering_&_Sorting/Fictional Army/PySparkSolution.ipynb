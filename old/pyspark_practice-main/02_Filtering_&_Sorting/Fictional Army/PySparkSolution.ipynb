{
 "cells": [
  {
   "cell_type": "markdown",
   "metadata": {},
   "source": [
    "# Fictional Army - Filtering and Sorting"
   ]
  },
  {
   "cell_type": "markdown",
   "metadata": {},
   "source": [
    "### Introduction:\n",
    "\n",
    "This exercise was inspired by this [page](http://chrisalbon.com/python/)\n",
    "\n",
    "Special thanks to: https://github.com/chrisalbon for sharing the dataset and materials.\n",
    "\n",
    "### Step 1. Import the necessary libraries"
   ]
  },
  {
   "cell_type": "code",
   "execution_count": 1,
   "metadata": {},
   "outputs": [
    {
     "data": {
      "text/html": [
       "\n",
       "            <div>\n",
       "                <p><b>SparkSession - in-memory</b></p>\n",
       "                \n",
       "        <div>\n",
       "            <p><b>SparkContext</b></p>\n",
       "\n",
       "            <p><a href=\"http://192.168.1.20:4040\">Spark UI</a></p>\n",
       "\n",
       "            <dl>\n",
       "              <dt>Version</dt>\n",
       "                <dd><code>v3.1.2</code></dd>\n",
       "              <dt>Master</dt>\n",
       "                <dd><code>local[*]</code></dd>\n",
       "              <dt>AppName</dt>\n",
       "                <dd><code>army</code></dd>\n",
       "            </dl>\n",
       "        </div>\n",
       "        \n",
       "            </div>\n",
       "        "
      ],
      "text/plain": [
       "<pyspark.sql.session.SparkSession at 0x107bbd910>"
      ]
     },
     "execution_count": 1,
     "metadata": {},
     "output_type": "execute_result"
    }
   ],
   "source": [
    "import pyspark\n",
    "from pyspark.sql import SparkSession\n",
    "spark = SparkSession.builder.appName(\"army\").getOrCreate()\n",
    "spark"
   ]
  },
  {
   "cell_type": "markdown",
   "metadata": {},
   "source": [
    "### Step 2. This is the data given as a dictionary"
   ]
  },
  {
   "cell_type": "code",
   "execution_count": 2,
   "metadata": {},
   "outputs": [],
   "source": [
    "# Create an example dataframe about a fictional army\n",
    "raw_data = {'regiment': ['Nighthawks', 'Nighthawks', 'Nighthawks', 'Nighthawks', 'Dragoons', 'Dragoons', 'Dragoons', 'Dragoons', 'Scouts', 'Scouts', 'Scouts', 'Scouts'],\n",
    "            'company': ['1st', '1st', '2nd', '2nd', '1st', '1st', '2nd', '2nd','1st', '1st', '2nd', '2nd'],\n",
    "            'deaths': [523, 52, 25, 616, 43, 234, 523, 62, 62, 73, 37, 35],\n",
    "            'battles': [5, 42, 2, 2, 4, 7, 8, 3, 4, 7, 8, 9],\n",
    "            'size': [1045, 957, 1099, 1400, 1592, 1006, 987, 849, 973, 1005, 1099, 1523],\n",
    "            'veterans': [1, 5, 62, 26, 73, 37, 949, 48, 48, 435, 63, 345],\n",
    "            'readiness': [1, 2, 3, 3, 2, 1, 2, 3, 2, 1, 2, 3],\n",
    "            'armored': [1, 0, 1, 1, 0, 1, 0, 1, 0, 0, 1, 1],\n",
    "            'deserters': [4, 24, 31, 2, 3, 4, 24, 31, 2, 3, 2, 3],\n",
    "            'origin': ['Arizona', 'California', 'Texas', 'Florida', 'Maine', 'Iowa', 'Alaska', 'Washington', 'Oregon', 'Wyoming', 'Louisana', 'Georgia']}"
   ]
  },
  {
   "cell_type": "markdown",
   "metadata": {},
   "source": [
    "### Step 3. Create a dataframe and assign it to a variable called army. \n",
    "\n",
    "#### Don't forget to include the columns names in the order presented in the dictionary ('regiment', 'company', 'deaths'...) so that the column index order is consistent with the solutions. If omitted, pandas will order the columns alphabetically."
   ]
  },
  {
   "cell_type": "code",
   "execution_count": 3,
   "metadata": {},
   "outputs": [],
   "source": [
    "import pandas as pd"
   ]
  },
  {
   "cell_type": "code",
   "execution_count": 20,
   "metadata": {},
   "outputs": [
    {
     "name": "stdout",
     "output_type": "stream",
     "text": [
      "+----------+-------+------+-------+----+--------+---------+-------+---------+----------+\n",
      "|  regiment|company|deaths|battles|size|veterans|readiness|armored|deserters|    origin|\n",
      "+----------+-------+------+-------+----+--------+---------+-------+---------+----------+\n",
      "|Nighthawks|    1st|   523|      5|1045|       1|        1|      1|        4|   Arizona|\n",
      "|Nighthawks|    1st|    52|     42| 957|       5|        2|      0|       24|California|\n",
      "|Nighthawks|    2nd|    25|      2|1099|      62|        3|      1|       31|     Texas|\n",
      "|Nighthawks|    2nd|   616|      2|1400|      26|        3|      1|        2|   Florida|\n",
      "|  Dragoons|    1st|    43|      4|1592|      73|        2|      0|        3|     Maine|\n",
      "|  Dragoons|    1st|   234|      7|1006|      37|        1|      1|        4|      Iowa|\n",
      "|  Dragoons|    2nd|   523|      8| 987|     949|        2|      0|       24|    Alaska|\n",
      "|  Dragoons|    2nd|    62|      3| 849|      48|        3|      1|       31|Washington|\n",
      "|    Scouts|    1st|    62|      4| 973|      48|        2|      0|        2|    Oregon|\n",
      "|    Scouts|    1st|    73|      7|1005|     435|        1|      0|        3|   Wyoming|\n",
      "|    Scouts|    2nd|    37|      8|1099|      63|        2|      1|        2|  Louisana|\n",
      "|    Scouts|    2nd|    35|      9|1523|     345|        3|      1|        3|   Georgia|\n",
      "+----------+-------+------+-------+----+--------+---------+-------+---------+----------+\n",
      "\n"
     ]
    }
   ],
   "source": [
    "army = spark.createDataFrame(pd.DataFrame(data=raw_data))\n",
    "army.show()"
   ]
  },
  {
   "cell_type": "markdown",
   "metadata": {},
   "source": [
    "### Step 4. Set the 'origin' colum as the index of the dataframe"
   ]
  },
  {
   "cell_type": "code",
   "execution_count": 19,
   "metadata": {},
   "outputs": [],
   "source": [
    "#trying to find an answer"
   ]
  },
  {
   "cell_type": "markdown",
   "metadata": {},
   "source": [
    "### Step 5. Print only the column veterans"
   ]
  },
  {
   "cell_type": "code",
   "execution_count": 23,
   "metadata": {},
   "outputs": [
    {
     "name": "stdout",
     "output_type": "stream",
     "text": [
      "+--------+\n",
      "|veterans|\n",
      "+--------+\n",
      "|       1|\n",
      "|       5|\n",
      "|      62|\n",
      "|      26|\n",
      "|      73|\n",
      "+--------+\n",
      "only showing top 5 rows\n",
      "\n"
     ]
    }
   ],
   "source": [
    "army.select(\"veterans\").show(5)"
   ]
  },
  {
   "cell_type": "markdown",
   "metadata": {},
   "source": [
    "### Step 6. Print the columns 'veterans' and 'deaths'"
   ]
  },
  {
   "cell_type": "code",
   "execution_count": 24,
   "metadata": {},
   "outputs": [
    {
     "name": "stdout",
     "output_type": "stream",
     "text": [
      "+--------+------+\n",
      "|veterans|deaths|\n",
      "+--------+------+\n",
      "|       1|   523|\n",
      "|       5|    52|\n",
      "|      62|    25|\n",
      "|      26|   616|\n",
      "|      73|    43|\n",
      "+--------+------+\n",
      "only showing top 5 rows\n",
      "\n"
     ]
    }
   ],
   "source": [
    "army.select(\"veterans\",\"deaths\").show(5)"
   ]
  },
  {
   "cell_type": "markdown",
   "metadata": {},
   "source": [
    "### Step 7. Print the name of all the columns."
   ]
  },
  {
   "cell_type": "code",
   "execution_count": 25,
   "metadata": {},
   "outputs": [
    {
     "name": "stdout",
     "output_type": "stream",
     "text": [
      "['regiment', 'company', 'deaths', 'battles', 'size', 'veterans', 'readiness', 'armored', 'deserters', 'origin']\n"
     ]
    }
   ],
   "source": [
    "print(army.columns)"
   ]
  },
  {
   "cell_type": "markdown",
   "metadata": {},
   "source": [
    "### Step 8. Select the 'deaths', 'size' and 'deserters' columns from Maine and Alaska"
   ]
  },
  {
   "cell_type": "code",
   "execution_count": 26,
   "metadata": {},
   "outputs": [
    {
     "name": "stdout",
     "output_type": "stream",
     "text": [
      "+------+----+---------+\n",
      "|deaths|size|deserters|\n",
      "+------+----+---------+\n",
      "|    43|1592|        3|\n",
      "|   523| 987|       24|\n",
      "+------+----+---------+\n",
      "\n"
     ]
    }
   ],
   "source": [
    "origins = [\"Maine\",\"Alaska\"]\n",
    "cols = [\"deaths\",\"size\",\"deserters\"]\n",
    "army.select(cols).filter(army.origin.isin(origins)).show()"
   ]
  },
  {
   "cell_type": "markdown",
   "metadata": {},
   "source": [
    "### Step 9. Select the rows 3 to 7 and the columns 3 to 6"
   ]
  },
  {
   "cell_type": "code",
   "execution_count": 29,
   "metadata": {},
   "outputs": [
    {
     "data": {
      "text/plain": [
       "[Row(deaths=25, battles=2, size=1099, veterans=62),\n",
       " Row(deaths=616, battles=2, size=1400, veterans=26),\n",
       " Row(deaths=43, battles=4, size=1592, veterans=73),\n",
       " Row(deaths=234, battles=7, size=1006, veterans=37),\n",
       " Row(deaths=523, battles=8, size=987, veterans=949)]"
      ]
     },
     "execution_count": 29,
     "metadata": {},
     "output_type": "execute_result"
    }
   ],
   "source": [
    "army.select(army.columns[2:6]).collect()[2:7]"
   ]
  },
  {
   "cell_type": "markdown",
   "metadata": {},
   "source": [
    "### Step 10. Select every row after the fourth row and all columns"
   ]
  },
  {
   "cell_type": "code",
   "execution_count": 30,
   "metadata": {},
   "outputs": [
    {
     "data": {
      "text/plain": [
       "[Row(regiment='Nighthawks', company='2nd', deaths=616, battles=2, size=1400, veterans=26, readiness=3, armored=1, deserters=2, origin='Florida'),\n",
       " Row(regiment='Dragoons', company='1st', deaths=43, battles=4, size=1592, veterans=73, readiness=2, armored=0, deserters=3, origin='Maine'),\n",
       " Row(regiment='Dragoons', company='1st', deaths=234, battles=7, size=1006, veterans=37, readiness=1, armored=1, deserters=4, origin='Iowa'),\n",
       " Row(regiment='Dragoons', company='2nd', deaths=523, battles=8, size=987, veterans=949, readiness=2, armored=0, deserters=24, origin='Alaska'),\n",
       " Row(regiment='Dragoons', company='2nd', deaths=62, battles=3, size=849, veterans=48, readiness=3, armored=1, deserters=31, origin='Washington'),\n",
       " Row(regiment='Scouts', company='1st', deaths=62, battles=4, size=973, veterans=48, readiness=2, armored=0, deserters=2, origin='Oregon'),\n",
       " Row(regiment='Scouts', company='1st', deaths=73, battles=7, size=1005, veterans=435, readiness=1, armored=0, deserters=3, origin='Wyoming'),\n",
       " Row(regiment='Scouts', company='2nd', deaths=37, battles=8, size=1099, veterans=63, readiness=2, armored=1, deserters=2, origin='Louisana'),\n",
       " Row(regiment='Scouts', company='2nd', deaths=35, battles=9, size=1523, veterans=345, readiness=3, armored=1, deserters=3, origin='Georgia')]"
      ]
     },
     "execution_count": 30,
     "metadata": {},
     "output_type": "execute_result"
    }
   ],
   "source": [
    "army.collect()[3:]"
   ]
  },
  {
   "cell_type": "markdown",
   "metadata": {},
   "source": [
    "### Step 11. Select every row up to the 4th row and all columns"
   ]
  },
  {
   "cell_type": "code",
   "execution_count": 31,
   "metadata": {},
   "outputs": [
    {
     "data": {
      "text/plain": [
       "[Row(regiment='Nighthawks', company='1st', deaths=523, battles=5, size=1045, veterans=1, readiness=1, armored=1, deserters=4, origin='Arizona'),\n",
       " Row(regiment='Nighthawks', company='1st', deaths=52, battles=42, size=957, veterans=5, readiness=2, armored=0, deserters=24, origin='California'),\n",
       " Row(regiment='Nighthawks', company='2nd', deaths=25, battles=2, size=1099, veterans=62, readiness=3, armored=1, deserters=31, origin='Texas'),\n",
       " Row(regiment='Nighthawks', company='2nd', deaths=616, battles=2, size=1400, veterans=26, readiness=3, armored=1, deserters=2, origin='Florida')]"
      ]
     },
     "execution_count": 31,
     "metadata": {},
     "output_type": "execute_result"
    }
   ],
   "source": [
    "army.collect()[:4]"
   ]
  },
  {
   "cell_type": "markdown",
   "metadata": {},
   "source": [
    "### Step 12. Select the 3rd column up to the 7th column"
   ]
  },
  {
   "cell_type": "code",
   "execution_count": 33,
   "metadata": {},
   "outputs": [
    {
     "name": "stdout",
     "output_type": "stream",
     "text": [
      "+------+-------+----+--------+---------+\n",
      "|deaths|battles|size|veterans|readiness|\n",
      "+------+-------+----+--------+---------+\n",
      "|   523|      5|1045|       1|        1|\n",
      "|    52|     42| 957|       5|        2|\n",
      "|    25|      2|1099|      62|        3|\n",
      "|   616|      2|1400|      26|        3|\n",
      "|    43|      4|1592|      73|        2|\n",
      "+------+-------+----+--------+---------+\n",
      "only showing top 5 rows\n",
      "\n"
     ]
    }
   ],
   "source": [
    "army.select(army.columns[2:7]).show(5)"
   ]
  },
  {
   "cell_type": "markdown",
   "metadata": {},
   "source": [
    "### Step 13. Select rows where deaths is greater than 50"
   ]
  },
  {
   "cell_type": "code",
   "execution_count": 34,
   "metadata": {},
   "outputs": [
    {
     "name": "stdout",
     "output_type": "stream",
     "text": [
      "+----------+-------+------+-------+----+--------+---------+-------+---------+----------+\n",
      "|  regiment|company|deaths|battles|size|veterans|readiness|armored|deserters|    origin|\n",
      "+----------+-------+------+-------+----+--------+---------+-------+---------+----------+\n",
      "|Nighthawks|    1st|   523|      5|1045|       1|        1|      1|        4|   Arizona|\n",
      "|Nighthawks|    1st|    52|     42| 957|       5|        2|      0|       24|California|\n",
      "|Nighthawks|    2nd|   616|      2|1400|      26|        3|      1|        2|   Florida|\n",
      "|  Dragoons|    1st|   234|      7|1006|      37|        1|      1|        4|      Iowa|\n",
      "|  Dragoons|    2nd|   523|      8| 987|     949|        2|      0|       24|    Alaska|\n",
      "|  Dragoons|    2nd|    62|      3| 849|      48|        3|      1|       31|Washington|\n",
      "|    Scouts|    1st|    62|      4| 973|      48|        2|      0|        2|    Oregon|\n",
      "|    Scouts|    1st|    73|      7|1005|     435|        1|      0|        3|   Wyoming|\n",
      "+----------+-------+------+-------+----+--------+---------+-------+---------+----------+\n",
      "\n"
     ]
    }
   ],
   "source": [
    "army.filter(\"deaths>50\").show()"
   ]
  },
  {
   "cell_type": "markdown",
   "metadata": {},
   "source": [
    "### Step 14. Select rows where deaths is greater than 500 or less than 50"
   ]
  },
  {
   "cell_type": "code",
   "execution_count": 37,
   "metadata": {},
   "outputs": [
    {
     "name": "stdout",
     "output_type": "stream",
     "text": [
      "+----------+-------+------+-------+----+--------+---------+-------+---------+--------+\n",
      "|  regiment|company|deaths|battles|size|veterans|readiness|armored|deserters|  origin|\n",
      "+----------+-------+------+-------+----+--------+---------+-------+---------+--------+\n",
      "|Nighthawks|    1st|   523|      5|1045|       1|        1|      1|        4| Arizona|\n",
      "|Nighthawks|    2nd|    25|      2|1099|      62|        3|      1|       31|   Texas|\n",
      "|Nighthawks|    2nd|   616|      2|1400|      26|        3|      1|        2| Florida|\n",
      "|  Dragoons|    1st|    43|      4|1592|      73|        2|      0|        3|   Maine|\n",
      "|  Dragoons|    2nd|   523|      8| 987|     949|        2|      0|       24|  Alaska|\n",
      "|    Scouts|    2nd|    37|      8|1099|      63|        2|      1|        2|Louisana|\n",
      "|    Scouts|    2nd|    35|      9|1523|     345|        3|      1|        3| Georgia|\n",
      "+----------+-------+------+-------+----+--------+---------+-------+---------+--------+\n",
      "\n"
     ]
    }
   ],
   "source": [
    "army.where((army.deaths>500) | (army.deaths<50)).show()"
   ]
  },
  {
   "cell_type": "code",
   "execution_count": 38,
   "metadata": {},
   "outputs": [
    {
     "name": "stdout",
     "output_type": "stream",
     "text": [
      "+----------+-------+------+-------+----+--------+---------+-------+---------+--------+\n",
      "|  regiment|company|deaths|battles|size|veterans|readiness|armored|deserters|  origin|\n",
      "+----------+-------+------+-------+----+--------+---------+-------+---------+--------+\n",
      "|Nighthawks|    1st|   523|      5|1045|       1|        1|      1|        4| Arizona|\n",
      "|Nighthawks|    2nd|    25|      2|1099|      62|        3|      1|       31|   Texas|\n",
      "|Nighthawks|    2nd|   616|      2|1400|      26|        3|      1|        2| Florida|\n",
      "|  Dragoons|    1st|    43|      4|1592|      73|        2|      0|        3|   Maine|\n",
      "|  Dragoons|    2nd|   523|      8| 987|     949|        2|      0|       24|  Alaska|\n",
      "|    Scouts|    2nd|    37|      8|1099|      63|        2|      1|        2|Louisana|\n",
      "|    Scouts|    2nd|    35|      9|1523|     345|        3|      1|        3| Georgia|\n",
      "+----------+-------+------+-------+----+--------+---------+-------+---------+--------+\n",
      "\n"
     ]
    }
   ],
   "source": [
    "army.filter((army.deaths>500) | (army.deaths<50)).show()"
   ]
  },
  {
   "cell_type": "markdown",
   "metadata": {},
   "source": [
    "#### \"Filter\" & \"Where\" are used interchangibly due to their similar funtionality"
   ]
  },
  {
   "cell_type": "markdown",
   "metadata": {},
   "source": [
    "### Step 15. Select all the regiments not named \"Dragoons\""
   ]
  },
  {
   "cell_type": "code",
   "execution_count": 39,
   "metadata": {},
   "outputs": [
    {
     "name": "stdout",
     "output_type": "stream",
     "text": [
      "+----------+-------+------+-------+----+--------+---------+-------+---------+----------+\n",
      "|  regiment|company|deaths|battles|size|veterans|readiness|armored|deserters|    origin|\n",
      "+----------+-------+------+-------+----+--------+---------+-------+---------+----------+\n",
      "|Nighthawks|    1st|   523|      5|1045|       1|        1|      1|        4|   Arizona|\n",
      "|Nighthawks|    1st|    52|     42| 957|       5|        2|      0|       24|California|\n",
      "|Nighthawks|    2nd|    25|      2|1099|      62|        3|      1|       31|     Texas|\n",
      "|Nighthawks|    2nd|   616|      2|1400|      26|        3|      1|        2|   Florida|\n",
      "|    Scouts|    1st|    62|      4| 973|      48|        2|      0|        2|    Oregon|\n",
      "|    Scouts|    1st|    73|      7|1005|     435|        1|      0|        3|   Wyoming|\n",
      "|    Scouts|    2nd|    37|      8|1099|      63|        2|      1|        2|  Louisana|\n",
      "|    Scouts|    2nd|    35|      9|1523|     345|        3|      1|        3|   Georgia|\n",
      "+----------+-------+------+-------+----+--------+---------+-------+---------+----------+\n",
      "\n"
     ]
    }
   ],
   "source": [
    "army.where(army.regiment != \"Dragoons\").show()"
   ]
  },
  {
   "cell_type": "markdown",
   "metadata": {},
   "source": [
    "### Step 16. Select the rows called Texas and Arizona"
   ]
  },
  {
   "cell_type": "code",
   "execution_count": 40,
   "metadata": {},
   "outputs": [
    {
     "name": "stdout",
     "output_type": "stream",
     "text": [
      "+----------+-------+------+-------+----+--------+---------+-------+---------+-------+\n",
      "|  regiment|company|deaths|battles|size|veterans|readiness|armored|deserters| origin|\n",
      "+----------+-------+------+-------+----+--------+---------+-------+---------+-------+\n",
      "|Nighthawks|    1st|   523|      5|1045|       1|        1|      1|        4|Arizona|\n",
      "|Nighthawks|    2nd|    25|      2|1099|      62|        3|      1|       31|  Texas|\n",
      "+----------+-------+------+-------+----+--------+---------+-------+---------+-------+\n",
      "\n"
     ]
    }
   ],
   "source": [
    "origins = [\"Texas\", \"Arizona\"]\n",
    "army.where(army.origin.isin(origins)).show()"
   ]
  },
  {
   "cell_type": "markdown",
   "metadata": {},
   "source": [
    "### Step 17. Select the third cell in the row named Arizona"
   ]
  },
  {
   "cell_type": "code",
   "execution_count": 48,
   "metadata": {},
   "outputs": [
    {
     "data": {
      "text/plain": [
       "523"
      ]
     },
     "execution_count": 48,
     "metadata": {},
     "output_type": "execute_result"
    }
   ],
   "source": [
    "army.where(army.origin == \"Arizona\").select(army.columns[2]).head(1)[0][0]"
   ]
  },
  {
   "cell_type": "markdown",
   "metadata": {},
   "source": [
    "### Step 18. Select the third cell down in the column named deaths"
   ]
  },
  {
   "cell_type": "code",
   "execution_count": 53,
   "metadata": {},
   "outputs": [
    {
     "data": {
      "text/plain": [
       "Row(deaths=25)"
      ]
     },
     "execution_count": 53,
     "metadata": {},
     "output_type": "execute_result"
    }
   ],
   "source": [
    "army.select(\"deaths\").collect()[2]"
   ]
  }
 ],
 "metadata": {
  "kernelspec": {
   "display_name": "Python 3",
   "language": "python",
   "name": "python3"
  },
  "language_info": {
   "codemirror_mode": {
    "name": "ipython",
    "version": 3
   },
   "file_extension": ".py",
   "mimetype": "text/x-python",
   "name": "python",
   "nbconvert_exporter": "python",
   "pygments_lexer": "ipython3",
   "version": "3.9.6"
  }
 },
 "nbformat": 4,
 "nbformat_minor": 1
}
