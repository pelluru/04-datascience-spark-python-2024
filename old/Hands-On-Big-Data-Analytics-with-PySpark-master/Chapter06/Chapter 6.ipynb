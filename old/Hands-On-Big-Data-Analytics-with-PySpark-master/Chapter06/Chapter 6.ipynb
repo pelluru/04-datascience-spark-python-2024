{
 "cells": [
  {
   "cell_type": "markdown",
   "metadata": {},
   "source": [
    "# Chapter 6\n",
    "## Putting structure on your Big Data with SparkSQL\n",
    "\n",
    "Taking away labels means that we are in unsupervised learning territory. Spark has great support for clustering and dimensionality reduction algorithms."
   ]
  },
  {
   "cell_type": "markdown",
   "metadata": {},
   "source": [
    "# Manipulating DataFrames with SparkSQL schemas"
   ]
  },
  {
   "cell_type": "code",
   "execution_count": 1,
   "metadata": {},
   "outputs": [],
   "source": [
    "raw_data = sc.textFile(\"./kddcup.data.gz\")"
   ]
  },
  {
   "cell_type": "code",
   "execution_count": 9,
   "metadata": {},
   "outputs": [],
   "source": [
    "from pyspark.sql import Row, SQLContext\n",
    "sql_context = SQLContext(sc)\n",
    "csv = raw_data.map(lambda l: l.split(\",\"))"
   ]
  },
  {
   "cell_type": "code",
   "execution_count": 10,
   "metadata": {},
   "outputs": [],
   "source": [
    "rows = csv.map(lambda p: Row(duration=int(p[0]), protocol=p[1], service=p[2]))"
   ]
  },
  {
   "cell_type": "code",
   "execution_count": 11,
   "metadata": {},
   "outputs": [],
   "source": [
    "df = sql_context.createDataFrame(rows)\n",
    "df.registerTempTable(\"rdd\")"
   ]
  },
  {
   "cell_type": "code",
   "execution_count": 14,
   "metadata": {},
   "outputs": [
    {
     "name": "stdout",
     "output_type": "stream",
     "text": [
      "+--------+\n",
      "|duration|\n",
      "+--------+\n",
      "|   12454|\n",
      "|   10774|\n",
      "|   13368|\n",
      "|   10350|\n",
      "|   10409|\n",
      "|   14918|\n",
      "|   10039|\n",
      "|   15127|\n",
      "|   25602|\n",
      "|   13120|\n",
      "|    2399|\n",
      "|    6155|\n",
      "|   11155|\n",
      "|   12169|\n",
      "|   15239|\n",
      "|   10901|\n",
      "|   15182|\n",
      "|    9494|\n",
      "|    7895|\n",
      "|   11084|\n",
      "+--------+\n",
      "only showing top 20 rows\n",
      "\n"
     ]
    }
   ],
   "source": [
    "sql_context.sql(\"\"\"SELECT duration FROM rdd WHERE protocol = 'tcp' AND duration > 2000\"\"\").show()"
   ]
  },
  {
   "cell_type": "markdown",
   "metadata": {},
   "source": [
    "# Using the Spark DSL to build queries for structured data operations"
   ]
  },
  {
   "cell_type": "code",
   "execution_count": 15,
   "metadata": {},
   "outputs": [
    {
     "name": "stdout",
     "output_type": "stream",
     "text": [
      "+--------+\n",
      "|duration|\n",
      "+--------+\n",
      "|   12454|\n",
      "|   10774|\n",
      "|   13368|\n",
      "|   10350|\n",
      "|   10409|\n",
      "|   14918|\n",
      "|   10039|\n",
      "|   15127|\n",
      "|   25602|\n",
      "|   13120|\n",
      "|    2399|\n",
      "|    6155|\n",
      "|   11155|\n",
      "|   12169|\n",
      "|   15239|\n",
      "|   10901|\n",
      "|   15182|\n",
      "|    9494|\n",
      "|    7895|\n",
      "|   11084|\n",
      "+--------+\n",
      "only showing top 20 rows\n",
      "\n"
     ]
    }
   ],
   "source": [
    "df.select(\"duration\").filter(df.duration>2000).filter(df.protocol==\"tcp\").show()"
   ]
  }
 ],
 "metadata": {
  "kernelspec": {
   "display_name": "Python 3",
   "language": "python",
   "name": "python3"
  },
  "language_info": {
   "codemirror_mode": {
    "name": "ipython",
    "version": 3
   },
   "file_extension": ".py",
   "mimetype": "text/x-python",
   "name": "python",
   "nbconvert_exporter": "python",
   "pygments_lexer": "ipython3",
   "version": "3.6.2"
  }
 },
 "nbformat": 4,
 "nbformat_minor": 2
}
