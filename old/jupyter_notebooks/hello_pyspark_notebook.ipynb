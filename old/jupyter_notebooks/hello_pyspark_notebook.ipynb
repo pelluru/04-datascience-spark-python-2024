{
 "cells": [
  {
   "cell_type": "code",
   "execution_count": 1,
   "id": "413f0b75-548f-4775-8a94-5de5c30b2d03",
   "metadata": {},
   "outputs": [
    {
     "name": "stderr",
     "output_type": "stream",
     "text": [
      "24/11/27 21:45:31 WARN Utils: Your hostname, Prabhakaras-Mac-mini.local resolves to a loopback address: 127.0.0.1; using 192.168.0.62 instead (on interface en1)\n",
      "24/11/27 21:45:31 WARN Utils: Set SPARK_LOCAL_IP if you need to bind to another address\n",
      "Setting default log level to \"WARN\".\n",
      "To adjust logging level use sc.setLogLevel(newLevel). For SparkR, use setLogLevel(newLevel).\n",
      "24/11/27 21:45:32 WARN NativeCodeLoader: Unable to load native-hadoop library for your platform... using builtin-java classes where applicable\n"
     ]
    },
    {
     "name": "stdout",
     "output_type": "stream",
     "text": [
      "+------+---+-----------------+\n",
      "|  name|age|       profession|\n",
      "+------+---+-----------------+\n",
      "|prabha| 56|software engineer|\n",
      "|  siva| 53|software engineer|\n",
      "+------+---+-----------------+\n",
      "\n"
     ]
    }
   ],
   "source": [
    "from pyspark.sql import SparkSession\n",
    "\n",
    "spark = SparkSession.builder.appName('pyspark note book  test 1').master('local[*]').getOrCreate()\n",
    "\n",
    "data = [('prabha',56,'software engineer'),('siva', 53,'software engineer')]\n",
    "\n",
    "dataSchema = 'name string,age int,profession string'\n",
    "\n",
    "employees_df = spark.createDataFrame(data,dataSchema)\n",
    "\n",
    "employees_df.show()\n"
   ]
  },
  {
   "cell_type": "code",
   "execution_count": null,
   "id": "eb47b934-dc39-4180-9621-52f2acca7672",
   "metadata": {},
   "outputs": [],
   "source": []
  }
 ],
 "metadata": {
  "kernelspec": {
   "display_name": "Python 3 (ipykernel)",
   "language": "python",
   "name": "python3"
  },
  "language_info": {
   "codemirror_mode": {
    "name": "ipython",
    "version": 3
   },
   "file_extension": ".py",
   "mimetype": "text/x-python",
   "name": "python",
   "nbconvert_exporter": "python",
   "pygments_lexer": "ipython3",
   "version": "3.12.7"
  }
 },
 "nbformat": 4,
 "nbformat_minor": 5
}
