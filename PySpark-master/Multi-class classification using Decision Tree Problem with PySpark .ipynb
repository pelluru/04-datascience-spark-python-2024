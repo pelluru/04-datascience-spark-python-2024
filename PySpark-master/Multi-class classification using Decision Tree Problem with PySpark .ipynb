{
 "cells": [
  {
   "cell_type": "markdown",
   "metadata": {},
   "source": [
    "# Multi-class classification using Decision Tree Problem with PySpark "
   ]
  },
  {
   "cell_type": "markdown",
   "metadata": {},
   "source": [
    "Each year, San Francisco Airport (SFO) conducts a customer satisfaction survey to find out what they are doing well and where they can improve. The survey gauges satisfaction with SFO facilities, services, and amenities. SFO compares results to previous surveys to discover elements of the guest experience that are not satisfactory.\n",
    "\n",
    "The 2013 SFO Survey Results consists of customer responses to survey questions and an overall satisfaction rating with the airport. We investigated whether we could use machine learning to predict a customer's overall response given their responses to the individual questions. That in and of itself is not very useful because the customer has already provided an overall rating as well as individual ratings for various aspects of the airport such as parking, food quality and restroom cleanliness. However, we didn't stop at prediction instead we asked the question:\n",
    "\n",
    "What factors drove the customer to give the overall rating?"
   ]
  },
  {
   "cell_type": "markdown",
   "metadata": {},
   "source": [
    "Here is an outline of our data flow:\n",
    "\n",
    "- Load data: Load the data as a DataFrame\n",
    "- Understand the data: Compute statistics and create visualizations to get a better understanding of the data to see if we can use basic statistics to answer the question above.\n",
    "- Create Model On the training dataset:\n",
    "- Evaluate the model: Now look at the test dataset. Compare the initial model with the tuned model to see the benefit of tuning parameters.\n",
    "- Feature Importance: Determine the importance of each of the individual ratings in determining the overall rating by the customer"
   ]
  },
  {
   "cell_type": "code",
   "execution_count": 1,
   "metadata": {},
   "outputs": [],
   "source": [
    "#we use the findspark library to locate spark on our local machine\n",
    "import findspark\n",
    "findspark.init('C:/Users/bokhy/spark/spark-2.4.6-bin-hadoop2.7')"
   ]
  },
  {
   "cell_type": "code",
   "execution_count": 2,
   "metadata": {},
   "outputs": [],
   "source": [
    "import os\n",
    "import pandas as pd\n",
    "import numpy as np\n",
    "from datetime import date, timedelta, datetime\n",
    "import time\n",
    "\n",
    "import pyspark # only run this after findspark.init()\n",
    "from pyspark.sql import SparkSession, SQLContext\n",
    "from pyspark.context import SparkContext\n",
    "from pyspark.sql.functions import * \n",
    "from pyspark.sql.types import * "
   ]
  },
  {
   "cell_type": "markdown",
   "metadata": {},
   "source": [
    "## 1. Load Data \n",
    "This dataset is available as a public dataset from https://catalog.data.gov/dataset/2013-sfo-customer-survey-d3541."
   ]
  },
  {
   "cell_type": "code",
   "execution_count": 3,
   "metadata": {},
   "outputs": [],
   "source": [
    "# Initiate the Spark Session\n",
    "spark = SparkSession.builder.appName('Decision-Tree').getOrCreate()"
   ]
  },
  {
   "cell_type": "code",
   "execution_count": 27,
   "metadata": {},
   "outputs": [
    {
     "data": {
      "text/html": [
       "\n",
       "            <div>\n",
       "                <p><b>SparkSession - in-memory</b></p>\n",
       "                \n",
       "        <div>\n",
       "            <p><b>SparkContext</b></p>\n",
       "\n",
       "            <p><a href=\"http://DESKTOP-L9PS4IG.home:4041\">Spark UI</a></p>\n",
       "\n",
       "            <dl>\n",
       "              <dt>Version</dt>\n",
       "                <dd><code>v2.4.6</code></dd>\n",
       "              <dt>Master</dt>\n",
       "                <dd><code>local[*]</code></dd>\n",
       "              <dt>AppName</dt>\n",
       "                <dd><code>Decision-Tree</code></dd>\n",
       "            </dl>\n",
       "        </div>\n",
       "        \n",
       "            </div>\n",
       "        "
      ],
      "text/plain": [
       "<pyspark.sql.session.SparkSession at 0x168a5c39408>"
      ]
     },
     "execution_count": 27,
     "metadata": {},
     "output_type": "execute_result"
    }
   ],
   "source": [
    "spark"
   ]
  },
  {
   "cell_type": "code",
   "execution_count": 5,
   "metadata": {},
   "outputs": [],
   "source": [
    "survey = spark.read.csv(\"./data/2013_SFO_Customer_Survey.csv\", header=\"true\", inferSchema=\"true\")"
   ]
  },
  {
   "cell_type": "code",
   "execution_count": 6,
   "metadata": {},
   "outputs": [
    {
     "data": {
      "text/plain": [
       "DataFrame[RESPNUM: int, CCGID: int, RUN: int, INTDATE: int, GATE: int, STRATA: int, PEAK: int, METHOD: int, AIRLINE: int, FLIGHT: int, DEST: int, DESTGEO: int, DESTMARK: int, ARRTIME: string, DEPTIME: string, Q2PURP1: int, Q2PURP2: int, Q2PURP3: int, Q2PURP4: int, Q2PURP5: int, Q2PURP6: string, Q3GETTO1: int, Q3GETTO2: int, Q3GETTO3: int, Q3GETTO4: int, Q3GETTO5: string, Q3GETTO6: string, Q3PARK: int, Q4BAGS: int, Q4BUY: int, Q4FOOD: int, Q4WIFI: int, Q5FLYPERYR: int, Q6TENURE: double, SAQ: int, Q7A_ART: int, Q7B_FOOD: int, Q7C_SHOPS: int, Q7D_SIGNS: int, Q7E_WALK: int, Q7F_SCREENS: int, Q7G_INFOARR: int, Q7H_INFODEP: int, Q7I_WIFI: int, Q7J_ROAD: int, Q7K_PARK: int, Q7L_AIRTRAIN: int, Q7M_LTPARK: int, Q7N_RENTAL: int, Q7O_WHOLE: int, Q8COM1: int, Q8COM2: int, Q8COM3: int, Q9A_CLNBOARD: int, Q9B_CLNAIRTRAIN: int, Q9C_CLNRENT: int, Q9D_CLNFOOD: int, Q9E_CLNBATH: int, Q9F_CLNWHOLE: int, Q9COM1: int, Q9COM2: int, Q9COM3: int, Q10SAFE: int, Q10COM1: int, Q10COM2: int, Q10COM3: int, Q11A_USEWEB: int, Q11B_USESFOAPP: int, Q11C_USEOTHAPP: int, Q11D_USESOCMED: int, Q11E_USEWIFI: int, Q12COM1: int, Q12COM2: int, Q12COM3: int, Q13_WHEREDEPART: int, Q13_RATEGETTO: int, Q14A_FIND: int, Q14B_SECURITY: int, Q15_PROBLEMS: int, Q15COM1: int, Q15COM2: int, Q15COM3: int, Q16_REGION: int, Q17_CITY: string, Q17_ZIP: int, Q17_COUNTRY: string, HOME: int, Q18_AGE: int, Q19_SEX: int, Q20_INCOME: int, Q21_HIFLYER: int, Q22A_USESJC: int, Q22B_USEOAK: int, LANG: int, WEIGHT: double]"
      ]
     },
     "metadata": {},
     "output_type": "display_data"
    }
   ],
   "source": [
    "display(survey)"
   ]
  },
  {
   "cell_type": "code",
   "execution_count": 7,
   "metadata": {},
   "outputs": [
    {
     "name": "stdout",
     "output_type": "stream",
     "text": [
      "root\n",
      " |-- RESPNUM: integer (nullable = true)\n",
      " |-- CCGID: integer (nullable = true)\n",
      " |-- RUN: integer (nullable = true)\n",
      " |-- INTDATE: integer (nullable = true)\n",
      " |-- GATE: integer (nullable = true)\n",
      " |-- STRATA: integer (nullable = true)\n",
      " |-- PEAK: integer (nullable = true)\n",
      " |-- METHOD: integer (nullable = true)\n",
      " |-- AIRLINE: integer (nullable = true)\n",
      " |-- FLIGHT: integer (nullable = true)\n",
      " |-- DEST: integer (nullable = true)\n",
      " |-- DESTGEO: integer (nullable = true)\n",
      " |-- DESTMARK: integer (nullable = true)\n",
      " |-- ARRTIME: string (nullable = true)\n",
      " |-- DEPTIME: string (nullable = true)\n",
      " |-- Q2PURP1: integer (nullable = true)\n",
      " |-- Q2PURP2: integer (nullable = true)\n",
      " |-- Q2PURP3: integer (nullable = true)\n",
      " |-- Q2PURP4: integer (nullable = true)\n",
      " |-- Q2PURP5: integer (nullable = true)\n",
      " |-- Q2PURP6: string (nullable = true)\n",
      " |-- Q3GETTO1: integer (nullable = true)\n",
      " |-- Q3GETTO2: integer (nullable = true)\n",
      " |-- Q3GETTO3: integer (nullable = true)\n",
      " |-- Q3GETTO4: integer (nullable = true)\n",
      " |-- Q3GETTO5: string (nullable = true)\n",
      " |-- Q3GETTO6: string (nullable = true)\n",
      " |-- Q3PARK: integer (nullable = true)\n",
      " |-- Q4BAGS: integer (nullable = true)\n",
      " |-- Q4BUY: integer (nullable = true)\n",
      " |-- Q4FOOD: integer (nullable = true)\n",
      " |-- Q4WIFI: integer (nullable = true)\n",
      " |-- Q5FLYPERYR: integer (nullable = true)\n",
      " |-- Q6TENURE: double (nullable = true)\n",
      " |-- SAQ: integer (nullable = true)\n",
      " |-- Q7A_ART: integer (nullable = true)\n",
      " |-- Q7B_FOOD: integer (nullable = true)\n",
      " |-- Q7C_SHOPS: integer (nullable = true)\n",
      " |-- Q7D_SIGNS: integer (nullable = true)\n",
      " |-- Q7E_WALK: integer (nullable = true)\n",
      " |-- Q7F_SCREENS: integer (nullable = true)\n",
      " |-- Q7G_INFOARR: integer (nullable = true)\n",
      " |-- Q7H_INFODEP: integer (nullable = true)\n",
      " |-- Q7I_WIFI: integer (nullable = true)\n",
      " |-- Q7J_ROAD: integer (nullable = true)\n",
      " |-- Q7K_PARK: integer (nullable = true)\n",
      " |-- Q7L_AIRTRAIN: integer (nullable = true)\n",
      " |-- Q7M_LTPARK: integer (nullable = true)\n",
      " |-- Q7N_RENTAL: integer (nullable = true)\n",
      " |-- Q7O_WHOLE: integer (nullable = true)\n",
      " |-- Q8COM1: integer (nullable = true)\n",
      " |-- Q8COM2: integer (nullable = true)\n",
      " |-- Q8COM3: integer (nullable = true)\n",
      " |-- Q9A_CLNBOARD: integer (nullable = true)\n",
      " |-- Q9B_CLNAIRTRAIN: integer (nullable = true)\n",
      " |-- Q9C_CLNRENT: integer (nullable = true)\n",
      " |-- Q9D_CLNFOOD: integer (nullable = true)\n",
      " |-- Q9E_CLNBATH: integer (nullable = true)\n",
      " |-- Q9F_CLNWHOLE: integer (nullable = true)\n",
      " |-- Q9COM1: integer (nullable = true)\n",
      " |-- Q9COM2: integer (nullable = true)\n",
      " |-- Q9COM3: integer (nullable = true)\n",
      " |-- Q10SAFE: integer (nullable = true)\n",
      " |-- Q10COM1: integer (nullable = true)\n",
      " |-- Q10COM2: integer (nullable = true)\n",
      " |-- Q10COM3: integer (nullable = true)\n",
      " |-- Q11A_USEWEB: integer (nullable = true)\n",
      " |-- Q11B_USESFOAPP: integer (nullable = true)\n",
      " |-- Q11C_USEOTHAPP: integer (nullable = true)\n",
      " |-- Q11D_USESOCMED: integer (nullable = true)\n",
      " |-- Q11E_USEWIFI: integer (nullable = true)\n",
      " |-- Q12COM1: integer (nullable = true)\n",
      " |-- Q12COM2: integer (nullable = true)\n",
      " |-- Q12COM3: integer (nullable = true)\n",
      " |-- Q13_WHEREDEPART: integer (nullable = true)\n",
      " |-- Q13_RATEGETTO: integer (nullable = true)\n",
      " |-- Q14A_FIND: integer (nullable = true)\n",
      " |-- Q14B_SECURITY: integer (nullable = true)\n",
      " |-- Q15_PROBLEMS: integer (nullable = true)\n",
      " |-- Q15COM1: integer (nullable = true)\n",
      " |-- Q15COM2: integer (nullable = true)\n",
      " |-- Q15COM3: integer (nullable = true)\n",
      " |-- Q16_REGION: integer (nullable = true)\n",
      " |-- Q17_CITY: string (nullable = true)\n",
      " |-- Q17_ZIP: integer (nullable = true)\n",
      " |-- Q17_COUNTRY: string (nullable = true)\n",
      " |-- HOME: integer (nullable = true)\n",
      " |-- Q18_AGE: integer (nullable = true)\n",
      " |-- Q19_SEX: integer (nullable = true)\n",
      " |-- Q20_INCOME: integer (nullable = true)\n",
      " |-- Q21_HIFLYER: integer (nullable = true)\n",
      " |-- Q22A_USESJC: integer (nullable = true)\n",
      " |-- Q22B_USEOAK: integer (nullable = true)\n",
      " |-- LANG: integer (nullable = true)\n",
      " |-- WEIGHT: double (nullable = true)\n",
      "\n"
     ]
    }
   ],
   "source": [
    "survey.printSchema()"
   ]
  },
  {
   "cell_type": "markdown",
   "metadata": {},
   "source": [
    "As you can see above there are many questions in the survey including what airline the customer flew on, where do they live, etc. For the purposes of answering the above, focus on the Q7A, Q7B, Q7C .. Q7O questions since they directly related to customer satisfaction, which is what you want to measure. If you drill down on those variables you get the following:\n",
    "\n",
    "|Column Name|Data Type|Description|\n",
    "| --- | --- | --- |\n",
    "|Q7B_FOOD|INTEGER|Restaurants|\n",
    "|Q7C_SHOPS|INTEGER|Retail shops and concessions|\n",
    "|Q7D_SIGNS|INTEGER|Signs and Directions inside SFO|\n",
    "|Q7E_WALK|INTEGER|Escalators / elevators / moving walkways|\n",
    "|Q7F_SCREENS|INTEGER|Information on screens and monitors|\n",
    "|Q7G_INFOARR|INTEGER|Information booth near arrivals area|\n",
    "|Q7H_INFODEP|INTEGER|Information booth near departure areas|\n",
    "|Q7I_WIFI|INTEGER|Airport WiFi|\n",
    "|Q7J_ROAD|INTEGER|Signs and directions on SFO airport roadways|\n",
    "|Q7K_PARK|INTEGER|Airport parking facilities|\n",
    "|Q7L_AIRTRAIN|INTEGER|AirTrain|\n",
    "|Q7M_LTPARK|INTEGER|Long term parking lot shuttle|\n",
    "|Q7N_RENTAL|INTEGER|Airport rental car center|\n",
    "|Q7O_WHOLE|INTEGER|SFO Airport as a whole|\n",
    "\n",
    "Q7O_WHOLE is the target variable \n",
    "\n",
    "The possible values for the above are:\n",
    "\n",
    "**0 = no answer, 1 = Unacceptable, 2 = Below Average, 3 = Average, 4 = Good, 5 = Outstanding, 6 = Not visited or not applicable**\n",
    "\n",
    "Select only the fields we are interested in."
   ]
  },
  {
   "cell_type": "code",
   "execution_count": 8,
   "metadata": {},
   "outputs": [],
   "source": [
    "dataset = survey.select(\"Q7A_ART\", \"Q7B_FOOD\", \"Q7C_SHOPS\", \"Q7D_SIGNS\", \"Q7E_WALK\", \"Q7F_SCREENS\", \"Q7G_INFOARR\", \"Q7H_INFODEP\", \"Q7I_WIFI\", \"Q7J_ROAD\", \"Q7K_PARK\", \"Q7L_AIRTRAIN\", \"Q7M_LTPARK\", \"Q7N_RENTAL\", \"Q7O_WHOLE\")"
   ]
  },
  {
   "cell_type": "markdown",
   "metadata": {},
   "source": [
    "Let's get some basic statistics such as looking at the **average of each column**."
   ]
  },
  {
   "cell_type": "code",
   "execution_count": 9,
   "metadata": {},
   "outputs": [
    {
     "data": {
      "text/plain": [
       "\"'missingValues(Q7A_ART) Q7A_ART', 'missingValues(Q7B_FOOD) Q7B_FOOD', 'missingValues(Q7C_SHOPS) Q7C_SHOPS', 'missingValues(Q7D_SIGNS) Q7D_SIGNS', 'missingValues(Q7E_WALK) Q7E_WALK', 'missingValues(Q7F_SCREENS) Q7F_SCREENS', 'missingValues(Q7G_INFOARR) Q7G_INFOARR', 'missingValues(Q7H_INFODEP) Q7H_INFODEP', 'missingValues(Q7I_WIFI) Q7I_WIFI', 'missingValues(Q7J_ROAD) Q7J_ROAD', 'missingValues(Q7K_PARK) Q7K_PARK', 'missingValues(Q7L_AIRTRAIN) Q7L_AIRTRAIN', 'missingValues(Q7M_LTPARK) Q7M_LTPARK', 'missingValues(Q7N_RENTAL) Q7N_RENTAL', 'missingValues(Q7O_WHOLE) Q7O_WHOLE'\""
      ]
     },
     "execution_count": 9,
     "metadata": {},
     "output_type": "execute_result"
    }
   ],
   "source": [
    "a = map(lambda s: \"'missingValues(\" + s +\") \" + s + \"'\",[\"Q7A_ART\", \"Q7B_FOOD\", \"Q7C_SHOPS\", \"Q7D_SIGNS\", \"Q7E_WALK\", \"Q7F_SCREENS\", \"Q7G_INFOARR\", \"Q7H_INFODEP\", \"Q7I_WIFI\", \"Q7J_ROAD\", \"Q7K_PARK\", \"Q7L_AIRTRAIN\", \"Q7M_LTPARK\", \"Q7N_RENTAL\", \"Q7O_WHOLE\"])\n",
    "\", \".join(a)"
   ]
  },
  {
   "cell_type": "markdown",
   "metadata": {},
   "source": [
    "Let's start with the overall rating."
   ]
  },
  {
   "cell_type": "code",
   "execution_count": 10,
   "metadata": {},
   "outputs": [
    {
     "data": {
      "text/plain": [
       "[Row(Q7O_WHOLE=3.8743988684582744)]"
      ]
     },
     "execution_count": 10,
     "metadata": {},
     "output_type": "execute_result"
    }
   ],
   "source": [
    "from pyspark.sql.functions import *\n",
    "dataset.selectExpr('avg(Q7O_WHOLE) Q7O_WHOLE').take(1)"
   ]
  },
  {
   "cell_type": "markdown",
   "metadata": {},
   "source": [
    "The overall rating is only 3.87, so slightly above average. Let's get the averages of the constituent ratings:"
   ]
  },
  {
   "cell_type": "code",
   "execution_count": 11,
   "metadata": {},
   "outputs": [
    {
     "data": {
      "text/plain": [
       "DataFrame[Q7A_ART: double, Q7B_FOOD: double, Q7C_SHOPS: double, Q7D_SIGNS: double, Q7E_WALK: double, Q7F_SCREENS: double, Q7G_INFOARR: double, Q7H_INFODEP: double, Q7I_WIFI: double, Q7J_ROAD: double, Q7K_PARK: double, Q7L_AIRTRAIN: double, Q7M_LTPARK: double, Q7N_RENTAL: double]"
      ]
     },
     "metadata": {},
     "output_type": "display_data"
    }
   ],
   "source": [
    "avgs = dataset.selectExpr('avg(Q7A_ART) Q7A_ART', 'avg(Q7B_FOOD) Q7B_FOOD', 'avg(Q7C_SHOPS) Q7C_SHOPS', 'avg(Q7D_SIGNS) Q7D_SIGNS', 'avg(Q7E_WALK) Q7E_WALK', 'avg(Q7F_SCREENS) Q7F_SCREENS', 'avg(Q7G_INFOARR) Q7G_INFOARR', 'avg(Q7H_INFODEP) Q7H_INFODEP', 'avg(Q7I_WIFI) Q7I_WIFI', 'avg(Q7J_ROAD) Q7J_ROAD', 'avg(Q7K_PARK) Q7K_PARK', 'avg(Q7L_AIRTRAIN) Q7L_AIRTRAIN', 'avg(Q7M_LTPARK) Q7M_LTPARK', 'avg(Q7N_RENTAL) Q7N_RENTAL')\n",
    "display(avgs)"
   ]
  },
  {
   "cell_type": "code",
   "execution_count": 12,
   "metadata": {},
   "outputs": [
    {
     "data": {
      "text/plain": [
       "DataFrame[Q7A_ART: int, Q7B_FOOD: int, Q7C_SHOPS: int, Q7D_SIGNS: int, Q7E_WALK: int, Q7F_SCREENS: int, Q7G_INFOARR: int, Q7H_INFODEP: int, Q7I_WIFI: int, Q7J_ROAD: int, Q7K_PARK: int, Q7L_AIRTRAIN: int, Q7M_LTPARK: int, Q7N_RENTAL: int, Q7O_WHOLE: int]"
      ]
     },
     "metadata": {},
     "output_type": "display_data"
    }
   ],
   "source": [
    "display(dataset)"
   ]
  },
  {
   "cell_type": "markdown",
   "metadata": {},
   "source": [
    "So basic statistics can't seem to answer the question: **What factors drove the customer to give the overall rating?**\n",
    "\n",
    "So let's try to use a predictive algorithm to see if these individual ratings can be used to predict an overall rating."
   ]
  },
  {
   "cell_type": "markdown",
   "metadata": {},
   "source": [
    "## 2. Create a Model"
   ]
  },
  {
   "cell_type": "markdown",
   "metadata": {},
   "source": [
    "First need to treat responses of 0 = No Answer and 6 = Not Visited or Not Applicable as missing values. One of the ways you can do this is a technique called mean impute which is when we use the mean of the column as a replacement for the missing value. You can use a replace function to set all values of 0 or 6 to the average rating of 3. You also need a label column of type double so do that as well."
   ]
  },
  {
   "cell_type": "code",
   "execution_count": 13,
   "metadata": {},
   "outputs": [],
   "source": [
    "training = dataset.withColumn(\"label\", dataset['Q7O_WHOLE']*1.0).na.replace(0,3).replace(6,3)"
   ]
  },
  {
   "cell_type": "code",
   "execution_count": 14,
   "metadata": {},
   "outputs": [
    {
     "data": {
      "text/plain": [
       "DataFrame[Q7A_ART: int, Q7B_FOOD: int, Q7C_SHOPS: int, Q7D_SIGNS: int, Q7E_WALK: int, Q7F_SCREENS: int, Q7G_INFOARR: int, Q7H_INFODEP: int, Q7I_WIFI: int, Q7J_ROAD: int, Q7K_PARK: int, Q7L_AIRTRAIN: int, Q7M_LTPARK: int, Q7N_RENTAL: int, Q7O_WHOLE: int, label: double]"
      ]
     },
     "metadata": {},
     "output_type": "display_data"
    }
   ],
   "source": [
    "display(training)"
   ]
  },
  {
   "cell_type": "markdown",
   "metadata": {},
   "source": [
    "##### Create 'Model Pipeline'"
   ]
  },
  {
   "cell_type": "code",
   "execution_count": 15,
   "metadata": {},
   "outputs": [],
   "source": [
    "from pyspark.ml import Pipeline\n",
    "from pyspark.ml.feature import VectorAssembler\n",
    "from pyspark.ml.regression import DecisionTreeRegressor\n",
    "from pyspark.ml.tuning import ParamGridBuilder, CrossValidator\n",
    "from pyspark.ml.evaluation import RegressionEvaluator\n",
    "\n",
    "inputCols = ['Q7A_ART', 'Q7B_FOOD', 'Q7C_SHOPS', 'Q7D_SIGNS', 'Q7E_WALK', 'Q7F_SCREENS', 'Q7G_INFOARR', 'Q7H_INFODEP', 'Q7I_WIFI', 'Q7J_ROAD', 'Q7K_PARK', 'Q7L_AIRTRAIN', 'Q7M_LTPARK', 'Q7N_RENTAL']\n",
    "va = VectorAssembler(inputCols=inputCols,outputCol=\"features\")\n",
    "dt = DecisionTreeRegressor(labelCol=\"label\", featuresCol=\"features\", maxDepth=4)\n",
    "evaluator = RegressionEvaluator(metricName = \"rmse\", labelCol=\"label\")\n",
    "grid = ParamGridBuilder().addGrid(dt.maxDepth, [3, 5, 7, 10]).build()\n",
    "cv = CrossValidator(estimator=dt, estimatorParamMaps=grid, evaluator=evaluator, numFolds = 10)\n",
    "pipeline = Pipeline(stages=[va, dt])"
   ]
  },
  {
   "cell_type": "markdown",
   "metadata": {},
   "source": [
    "## 3. Train a Model"
   ]
  },
  {
   "cell_type": "code",
   "execution_count": 16,
   "metadata": {},
   "outputs": [],
   "source": [
    "model = pipeline.fit(training)"
   ]
  },
  {
   "cell_type": "code",
   "execution_count": 17,
   "metadata": {},
   "outputs": [
    {
     "data": {
      "text/plain": [
       "DecisionTreeRegressionModel (uid=DecisionTreeRegressor_73754465424e) of depth 4 with 31 nodes"
      ]
     },
     "metadata": {},
     "output_type": "display_data"
    }
   ],
   "source": [
    "display(model.stages[-1])"
   ]
  },
  {
   "cell_type": "code",
   "execution_count": 18,
   "metadata": {},
   "outputs": [
    {
     "data": {
      "text/plain": [
       "DataFrame[Q7A_ART: int, Q7B_FOOD: int, Q7C_SHOPS: int, Q7D_SIGNS: int, Q7E_WALK: int, Q7F_SCREENS: int, Q7G_INFOARR: int, Q7H_INFODEP: int, Q7I_WIFI: int, Q7J_ROAD: int, Q7K_PARK: int, Q7L_AIRTRAIN: int, Q7M_LTPARK: int, Q7N_RENTAL: int, Q7O_WHOLE: int, label: double, features: vector, prediction: double]"
      ]
     },
     "metadata": {},
     "output_type": "display_data"
    }
   ],
   "source": [
    "predictions = model.transform(training)\n",
    "display(predictions)"
   ]
  },
  {
   "cell_type": "markdown",
   "metadata": {},
   "source": [
    "## 4. Evaluate the model"
   ]
  },
  {
   "cell_type": "code",
   "execution_count": 19,
   "metadata": {},
   "outputs": [
    {
     "data": {
      "text/plain": [
       "0.555808023551782"
      ]
     },
     "execution_count": 19,
     "metadata": {},
     "output_type": "execute_result"
    }
   ],
   "source": [
    "from pyspark.ml.evaluation import RegressionEvaluator\n",
    "\n",
    "evaluator = RegressionEvaluator()\n",
    "\n",
    "evaluator.evaluate(predictions, {evaluator.metricName: \"rmse\"})"
   ]
  },
  {
   "cell_type": "markdown",
   "metadata": {},
   "source": [
    "## 5. Save the model"
   ]
  },
  {
   "cell_type": "code",
   "execution_count": null,
   "metadata": {},
   "outputs": [],
   "source": [
    "import uuid\n",
    "model_save_path = f\"/tmp/sfo_survey_model/{str(uuid.uuid4())}\"\n",
    "model.write().overwrite().save(model_save_path)"
   ]
  },
  {
   "cell_type": "markdown",
   "metadata": {},
   "source": [
    "## 6. Feature Importance\n",
    "Feature importance is a measure of information gain. It is scaled from 0.0 to 1.0. As an example, feature 1 in the example above is rated as 0.0826 or 8.26% of the total importance for all the features."
   ]
  },
  {
   "cell_type": "code",
   "execution_count": 21,
   "metadata": {},
   "outputs": [
    {
     "data": {
      "text/plain": [
       "SparseVector(14, {0: 0.0653, 1: 0.1173, 2: 0.0099, 3: 0.5219, 4: 0.0052, 5: 0.2403, 8: 0.0028, 10: 0.0059, 13: 0.0314})"
      ]
     },
     "execution_count": 21,
     "metadata": {},
     "output_type": "execute_result"
    }
   ],
   "source": [
    "model.stages[1].featureImportances"
   ]
  },
  {
   "cell_type": "code",
   "execution_count": 22,
   "metadata": {},
   "outputs": [],
   "source": [
    "featureImportance = model.stages[1].featureImportances.toArray()\n",
    "featureNames = map(lambda s: s.name, dataset.schema.fields)\n",
    "featureImportanceMap = zip(featureImportance, featureNames)"
   ]
  },
  {
   "cell_type": "code",
   "execution_count": 23,
   "metadata": {},
   "outputs": [
    {
     "data": {
      "text/plain": [
       "<zip at 0x168a65ac308>"
      ]
     },
     "execution_count": 23,
     "metadata": {},
     "output_type": "execute_result"
    }
   ],
   "source": [
    "featureImportanceMap"
   ]
  },
  {
   "cell_type": "code",
   "execution_count": null,
   "metadata": {},
   "outputs": [],
   "source": [
    "importancesDf = spark.createDataFrame(spark.parallelize(featureImportanceMap).map(lambda r: [r[1], float(r[0])]))\n",
    "\n",
    "importancesDf = importancesDf.withColumnRenamed(\"_1\", \"Feature\").withColumnRenamed(\"_2\", \"Importance\")"
   ]
  },
  {
   "cell_type": "markdown",
   "metadata": {},
   "source": [
    "Let's convert this to a DataFrame so you can view it and save it so other users can rely on this information."
   ]
  },
  {
   "cell_type": "code",
   "execution_count": null,
   "metadata": {},
   "outputs": [],
   "source": [
    "display(importancesDf.orderBy(desc(\"Importance\")))"
   ]
  },
  {
   "cell_type": "markdown",
   "metadata": {},
   "source": [
    "As you can see below, the 3 most important features are:\n",
    "\n",
    "- Signs\n",
    "- Screens\n",
    "- Food\n",
    "\n",
    "This is useful information for the airport management. It means that people want to first know where they are going. Second, they check the airport screens and monitors so they can find their gate and be on time for their flight. Third, they like to have good quality food.\n",
    "\n",
    "This is especially interesting considering that taking the average of these feature variables told us nothing about the importance of the variables in determining the overall rating by the survey responder.\n",
    "\n",
    "These 3 features combine to make up **65**% of the overall rating."
   ]
  },
  {
   "cell_type": "code",
   "execution_count": null,
   "metadata": {},
   "outputs": [],
   "source": [
    "importancesDf.orderBy(desc(\"Importance\")).limit(3).agg(sum(\"Importance\")).take(1)"
   ]
  },
  {
   "cell_type": "code",
   "execution_count": null,
   "metadata": {},
   "outputs": [],
   "source": [
    "# See it in Piechart\n",
    "display(importancesDf.orderBy(desc(\"Importance\")))"
   ]
  },
  {
   "cell_type": "code",
   "execution_count": null,
   "metadata": {},
   "outputs": [],
   "source": [
    "display(importancesDf.orderBy(desc(\"Importance\")).limit(5))"
   ]
  },
  {
   "cell_type": "markdown",
   "metadata": {},
   "source": [
    "## 7. Conclusion\n",
    "So if you run SFO, artwork and shopping are nice-to-haves but signs, monitors, and food are what keep airport customers happy!"
   ]
  },
  {
   "cell_type": "code",
   "execution_count": null,
   "metadata": {},
   "outputs": [],
   "source": [
    "# delete saved model\n",
    "dbutils.fs.rm(model_save_path, True)"
   ]
  }
 ],
 "metadata": {
  "kernelspec": {
   "display_name": "Python 3",
   "language": "python",
   "name": "python3"
  },
  "language_info": {
   "codemirror_mode": {
    "name": "ipython",
    "version": 3
   },
   "file_extension": ".py",
   "mimetype": "text/x-python",
   "name": "python",
   "nbconvert_exporter": "python",
   "pygments_lexer": "ipython3",
   "version": "3.7.6"
  }
 },
 "nbformat": 4,
 "nbformat_minor": 4
}
