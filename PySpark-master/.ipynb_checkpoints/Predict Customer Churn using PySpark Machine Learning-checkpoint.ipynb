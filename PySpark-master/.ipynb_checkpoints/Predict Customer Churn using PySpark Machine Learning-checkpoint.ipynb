{
 "cells": [
  {
   "cell_type": "markdown",
   "metadata": {},
   "source": [
    "# Predict Customer Churn using PySpark Machine Learning"
   ]
  },
  {
   "cell_type": "markdown",
   "metadata": {},
   "source": [
    "This notebook is a replicate of this [notebook](https://github.com/scientist94/Udacity_DSND_Spark/blob/master/Sparkify.ipynb)"
   ]
  },
  {
   "cell_type": "markdown",
   "metadata": {},
   "source": [
    "Predicting customer churn is a challenging and common problem that data scientists encounter these days. The ability to predict that a particular customer is at a high risk of churning, while there is still time to do something about it, represents a huge additional potential revenue source for every customer-facing business."
   ]
  },
  {
   "cell_type": "markdown",
   "metadata": {},
   "source": [
    "This notebook covers the creation of a machine learning solution which will be able to predict customer churn. This solution will be realized with Apache Spark. We load large datasets into Spark and manipulate them using Spark SQL and Spark Dataframes to engineer relevant features for predicting customer churn, then use the machine learning APIs within Spark ML to build and tune models."
   ]
  },
  {
   "cell_type": "markdown",
   "metadata": {},
   "source": [
    "Dataset is from Music App where user interacts with the service like playing, liking, sharing, songs, or account info, etc."
   ]
  },
  {
   "cell_type": "markdown",
   "metadata": {},
   "source": [
    "And Our goal is the predict the churn based on the target varialbe 'label' column."
   ]
  },
  {
   "cell_type": "code",
   "execution_count": null,
   "metadata": {},
   "outputs": [],
   "source": [
    "#we use the findspark library to locate spark on our local machine\n",
    "import findspark\n",
    "findspark.init('C:/Users/bokhy/spark/spark-2.4.6-bin-hadoop2.7')"
   ]
  },
  {
   "cell_type": "code",
   "execution_count": null,
   "metadata": {},
   "outputs": [],
   "source": [
    "import pandas as pd\n",
    "import numpy as np\n",
    "from datetime import date, timedelta, datetime\n",
    "import time\n",
    "import matplotlib.pyplot as plt\n",
    "%matplotlib inline\n",
    "\n",
    "import pyspark # only run this after findspark.init()\n",
    "from pyspark.sql import SparkSession, SQLContext\n",
    "from pyspark.context import SparkContext\n",
    "from pyspark.sql.functions import * \n",
    "from pyspark.sql.types import * \n",
    "import pyspark.sql.functions as F\n",
    "\n",
    "from sklearn.metrics import f1_score, recall_score, precision_score\n",
    "from pyspark.sql.types import IntegerType, DoubleType, DateType, FloatType\n",
    "from pyspark.ml.feature import VectorAssembler, MinMaxScaler\n",
    "from pyspark.ml import Pipeline\n",
    "from pyspark.ml.evaluation import BinaryClassificationEvaluator\n",
    "from pyspark.ml.tuning import ParamGridBuilder, CrossValidator\n",
    "from pyspark.ml.classification import LogisticRegression, DecisionTreeClassifier, GBTClassifier, LinearSVC"
   ]
  },
  {
   "cell_type": "markdown",
   "metadata": {},
   "source": [
    "### 1. Load Data"
   ]
  },
  {
   "cell_type": "code",
   "execution_count": null,
   "metadata": {},
   "outputs": [],
   "source": [
    "# Initiate the spark session\n",
    "spark = SparkSession \\\n",
    "    .builder \\\n",
    "    .appName(\"Churn\") \\\n",
    "    .getOrCreate()"
   ]
  },
  {
   "cell_type": "code",
   "execution_count": null,
   "metadata": {},
   "outputs": [],
   "source": [
    "# read in dataset\n",
    "path = 'C:\\\\Users\\\\bokhy\\\\Desktop\\\\Python\\\\github\\\\PySpark\\\\data'  \n",
    "\n",
    "df = spark.read.json(os.path.join(path, 'churn_data.json'))"
   ]
  },
  {
   "cell_type": "code",
   "execution_count": null,
   "metadata": {},
   "outputs": [],
   "source": [
    "display(df)"
   ]
  },
  {
   "cell_type": "code",
   "execution_count": null,
   "metadata": {},
   "outputs": [],
   "source": [
    "df.printSchema()"
   ]
  },
  {
   "cell_type": "markdown",
   "metadata": {},
   "source": [
    "### 2. EDA"
   ]
  },
  {
   "cell_type": "code",
   "execution_count": null,
   "metadata": {},
   "outputs": [],
   "source": [
    "# Get amount of unique users\n",
    "df.select(\"userId\").dropDuplicates().count()"
   ]
  },
  {
   "cell_type": "code",
   "execution_count": null,
   "metadata": {},
   "outputs": [],
   "source": [
    "# Show unique page views\n",
    "df.select('page').distinct().collect()"
   ]
  },
  {
   "cell_type": "markdown",
   "metadata": {},
   "source": [
    "Let's look at which pages are visited the most time."
   ]
  },
  {
   "cell_type": "code",
   "execution_count": null,
   "metadata": {},
   "outputs": [],
   "source": [
    "df.groupBy('page').count().sort(F.desc('count')).show()"
   ]
  },
  {
   "cell_type": "markdown",
   "metadata": {},
   "source": [
    "We can clearly see that “NextSong” is the most popular page view which makes perfect sense for a music service. However, there are many other page views which are going to be important for engineering relevant features from this raw dataset. We take the page “Cancellation Confirmation”, counting 99 visits, to create the label for the machine learning models."
   ]
  },
  {
   "cell_type": "code",
   "execution_count": null,
   "metadata": {},
   "outputs": [],
   "source": [
    "flag_cancellation_event = F.udf(lambda x: 1 if x == 'Cancellation Confirmation' else 0, IntegerType())\n",
    "df = df.withColumn('label', flag_cancellation_event('page'))"
   ]
  },
  {
   "cell_type": "markdown",
   "metadata": {},
   "source": [
    "Let look at by each hour"
   ]
  },
  {
   "cell_type": "code",
   "execution_count": null,
   "metadata": {},
   "outputs": [],
   "source": [
    "get_hour = F.udf(lambda x: datetime.datetime.fromtimestamp(x / 1000.0).hour, IntegerType())\n",
    "df = df.withColumn('hour', get_hour(df.ts))"
   ]
  },
  {
   "cell_type": "markdown",
   "metadata": {},
   "source": [
    "Since matplotlib does not work with PySpark dataframes, we convert it back to a pandas and plot the user activity by hour."
   ]
  },
  {
   "cell_type": "code",
   "execution_count": null,
   "metadata": {},
   "outputs": [],
   "source": [
    "# Count the events per hour\n",
    "songs_by_hour = df.groupBy('hour').count().orderBy(df.hour)\n",
    "songs_by_hour_pd = songs_by_hour.toPandas()\n",
    "songs_by_hour_pd.hour = pd.to_numeric(songs_by_hour_pd.hour)\n",
    "\n",
    "# Plot the events per hour aggregation\n",
    "plt.scatter(songs_by_hour_pd['hour'], songs_by_hour_pd['count'])\n",
    "plt.xlim(-1, 24)\n",
    "plt.ylim(0, 1.2 * max(songs_by_hour_pd['count']))\n",
    "plt.xlabel('Hour')\n",
    "plt.ylabel('Events');"
   ]
  },
  {
   "cell_type": "markdown",
   "metadata": {},
   "source": [
    "### 3. Data PreProcessing"
   ]
  },
  {
   "cell_type": "markdown",
   "metadata": {},
   "source": [
    "We create a new PySpark dataframe, where each row representing each user. We will create features from the dataframe df and join those sequentially to the new dataframe.\n",
    "\n",
    "Based on the column label in df we can separate the churned users from the rest."
   ]
  },
  {
   "cell_type": "code",
   "execution_count": null,
   "metadata": {},
   "outputs": [],
   "source": [
    "# Get churned and stayed user sets\n",
    "churned_collect = df.where(df.label==1).select('userId').collect()\n",
    "churned_users = set([int(row.userId) for row in churned_collect])\n",
    "churned_df = df.where(F.col('userId').isin(churned_users))\n",
    "\n",
    "all_collect = df.select('userId').collect()\n",
    "all_users = set([int(row.userId) for row in all_collect])\n",
    "\n",
    "stayed_users = all_users-churned_users\n",
    "stayed_df =  df.where(F.col('userId').isin(stayed_users))"
   ]
  },
  {
   "cell_type": "code",
   "execution_count": null,
   "metadata": {},
   "outputs": [],
   "source": [
    "# Compute average song count per churned user\n",
    "avg_songs_churned = churned_df.filter(df.page=='NextSong').count()/len(churned_users)\n",
    "print(avg_songs_churned)"
   ]
  },
  {
   "cell_type": "code",
   "execution_count": null,
   "metadata": {},
   "outputs": [],
   "source": [
    "# Compute average song count per stayed user\n",
    "avg_songs_stayed = stayed_df.filter(df.page=='NextSong').count()/len(stayed_users)\n",
    "print(avg_songs_stayed)"
   ]
  },
  {
   "cell_type": "code",
   "execution_count": null,
   "metadata": {},
   "outputs": [],
   "source": [
    "# Get gender proportions for churned users\n",
    "churned_df.dropDuplicates(subset = ['userId']).groupBy('gender').count().show()"
   ]
  },
  {
   "cell_type": "code",
   "execution_count": null,
   "metadata": {},
   "outputs": [],
   "source": [
    "# Get gender proportions for stayed users\n",
    "stayed_df.dropDuplicates(subset = ['userId']).groupBy('gender').count().show()"
   ]
  },
  {
   "cell_type": "code",
   "execution_count": null,
   "metadata": {},
   "outputs": [],
   "source": []
  },
  {
   "cell_type": "markdown",
   "metadata": {},
   "source": [
    "We will build out the features we find promising to train the model on"
   ]
  },
  {
   "cell_type": "code",
   "execution_count": null,
   "metadata": {},
   "outputs": [],
   "source": [
    "# Create features dataframe\n",
    "feature_df = spark.createDataFrame(all_users, IntegerType()).withColumnRenamed('value', 'userId')"
   ]
  },
  {
   "cell_type": "code",
   "execution_count": null,
   "metadata": {},
   "outputs": [],
   "source": [
    "# Create binary gender column\n",
    "convert_gender = F.udf(lambda x: 1 if x == 'M' else 0, IntegerType())\n",
    "df = df.withColumn('GenderBinary', convert_gender('Gender'))\n",
    "\n",
    "# Add gender as feature\n",
    "feature_df = feature_df.join(df.select(['userId', 'GenderBinary']), 'userId') \\\n",
    "    .dropDuplicates(subset=['userId']) \\\n",
    "    .sort('userId')"
   ]
  },
  {
   "cell_type": "code",
   "execution_count": null,
   "metadata": {},
   "outputs": [],
   "source": [
    "# Create binary customer level column\n",
    "convert_level = F.udf(lambda x: 1 if x == 'free' else 0, IntegerType())\n",
    "df = df.withColumn('LevelBinary', convert_level('Level'))\n",
    "\n",
    "# Add customer level as feature\n",
    "feature_df = feature_df.join(df.select(['userId', 'ts', 'LevelBinary']), 'userId') \\\n",
    "    .sort(F.desc('ts')) \\\n",
    "    .dropDuplicates(subset=['userId']) \\\n",
    "    .drop('ts')"
   ]
  },
  {
   "cell_type": "code",
   "execution_count": null,
   "metadata": {},
   "outputs": [],
   "source": [
    "# Create label column\n",
    "create_churn = F.udf(lambda x: 1 if x in churned_users else 0, IntegerType())\n",
    "feature_df = feature_df.withColumn('label', create_churn('userId'))"
   ]
  },
  {
   "cell_type": "markdown",
   "metadata": {},
   "source": [
    "Encode Page Views as Features"
   ]
  },
  {
   "cell_type": "markdown",
   "metadata": {},
   "source": [
    "Every time the users interact with the platform, it generates data. This means that we know exactly what each of the users experienced during the period of this data extract. My approach is to divide the pages into categories:"
   ]
  },
  {
   "cell_type": "markdown",
   "metadata": {},
   "source": [
    "- Neutral pages: “Cancel”, “Home”, “Logout”, “Save Settings”, “About”, “Settings” \\\n",
    "\n",
    "- Negative pages: “Thumbs Down”, “Roll Advert”, “Help”, “Error” \\\n",
    "\n",
    "- Positive pages: “Add to Playlist”, “Add Friend”, “NextSong”, “Thumbs Up” \\\n",
    "\n",
    "- Downgrade pages: “Submit Downgrade”, “Downgrade” \\\n",
    "\n",
    "- Upgrade pages: “Submit Upgrade”, “Upgrade” \\"
   ]
  },
  {
   "cell_type": "code",
   "execution_count": null,
   "metadata": {},
   "outputs": [],
   "source": [
    "# Create a dictonary which maps page views and PySpark dataframes \n",
    "pages = {}\n",
    "pages['neutralPages'] = df.filter((df.page == 'Cancel') | (df.page == 'Home') | (df.page == 'Logout') \\\n",
    "    | (df.page == 'Save Settings') | (df.page == 'About') | (df.page == 'Settings'))\n",
    "pages['negativePages'] = df.filter((df.page == 'Thumbs Down') | (df.page == 'Roll Advert') | (df.page == 'Help') \\\n",
    "    | (df.page == 'Error'))\n",
    "pages['positivePages'] = df.filter((df.page == 'Add to Playlist') | (df.page == 'Add Friend') | (df.page == 'NextSong') \\\n",
    "    | (df.page == 'Thumbs Up'))\n",
    "pages['downgradePages'] = df.filter((df.page == 'Submit Downgrade') | (df.page == 'Downgrade'))\n",
    "pages['upgradePages'] = df.filter((df.page == 'Upgrade') | (df.page == 'Submit Upgrade'))"
   ]
  },
  {
   "cell_type": "code",
   "execution_count": null,
   "metadata": {},
   "outputs": [],
   "source": [
    "# Loop through page views and aggregate the counts by user\n",
    "for key, value in pages.items():\n",
    "    value_df = value.select('userId') \\\n",
    "        .groupBy('userId') \\\n",
    "        .agg({'userId':'count'}) \\\n",
    "        .withColumnRenamed('count(userId)', key)\n",
    "    \n",
    "    # Add page view aggregations as features\n",
    "    feature_df = feature_df.join(value_df, 'userId', 'left').sort('userId') \\\n",
    "        .fillna({key:'0'})"
   ]
  },
  {
   "cell_type": "code",
   "execution_count": null,
   "metadata": {},
   "outputs": [],
   "source": [
    "def delta_time(x, y):\n",
    "    '''\n",
    "    This function computes the timedelta in days between two unix timestamps.\n",
    "    \n",
    "    INPUT:\n",
    "    x, y - timestamps\n",
    "    \n",
    "    OUTPUT:\n",
    "    Timedelta in days    \n",
    "    '''\n",
    "    val1 = datetime.datetime.fromtimestamp(x/1000.0)\n",
    "    val2 = datetime.datetime.fromtimestamp(y/1000.0)\n",
    "    delta = val2-val1\n",
    "    delta_days = delta.days\n",
    "    if delta_days == 0:\n",
    "        return 1\n",
    "    return delta_days\n",
    "\n",
    "# Create UDF for delta_time\n",
    "delta = F.udf(delta_time, IntegerType())"
   ]
  },
  {
   "cell_type": "code",
   "execution_count": null,
   "metadata": {},
   "outputs": [],
   "source": [
    "# Create dataframe with users and first timestamp\n",
    "min_date_df =  df.select('userId', 'ts') \\\n",
    "    .groupby('userId') \\\n",
    "    .agg(F.min('ts'))\n",
    "\n",
    "# Create dataframe with users and last timestamp\n",
    "max_date_df = df.select('userId', 'ts') \\\n",
    "    .groupby('userId') \\\n",
    "    .agg(F.max('ts'))\n",
    "\n",
    "# Create dataframe which contains time in days between first and last timestamp per user\n",
    "delta_df = min_date_df.join(max_date_df, 'userId')\n",
    "delta_df = delta_df.withColumn('UserActiveTime', delta('min(ts)', 'max(ts)')).drop('min(ts)', 'max(ts)')\n",
    "\n",
    "# Add UserActiveTime as feature\n",
    "feature_df = feature_df.join(delta_df, 'userId', 'left').sort('userId') \\\n",
    "    .fillna({key:'1'})"
   ]
  },
  {
   "cell_type": "code",
   "execution_count": null,
   "metadata": {},
   "outputs": [],
   "source": [
    "# Create dataframe with users and date counts\n",
    "dateCount_df = df.select('userId', 'date') \\\n",
    "    .groupby('userId') \\\n",
    "    .agg(F.countDistinct('date')) \\\n",
    "    .withColumnRenamed('count(DISTINCT date)', 'dateCount')\n",
    "\n",
    "# Add date count as feature\n",
    "feature_df = feature_df.join(dateCount_df, 'userId', 'left').sort('userId') \\\n",
    "        .fillna({'dateCount':'1'})"
   ]
  },
  {
   "cell_type": "markdown",
   "metadata": {},
   "source": [
    "These page view features are absolute values counting the number of occurrences. However, this can cause misleading results if some users signed up at the end of the data extract while others used the platform from the very beginning. For this purpose, we will make the aggregated results comparable by dividing them through the user-specific time window, obtaining counts/day. The columns containing the absolute values will be dropped afterwards."
   ]
  },
  {
   "cell_type": "code",
   "execution_count": null,
   "metadata": {},
   "outputs": [],
   "source": [
    "# Normalize the page view features by dividing through UserActiveTime\n",
    "for i in ['neutralPages', 'negativePages', 'positivePages', 'downgradePages', 'upgradePages', 'dateCount']:\n",
    "    feature_df = feature_df.withColumn(i+'Normalized', feature_df[i]/feature_df.UserActiveTime).drop(i)"
   ]
  },
  {
   "cell_type": "markdown",
   "metadata": {},
   "source": [
    "Create Features on User Activity by Hour and by Day"
   ]
  },
  {
   "cell_type": "code",
   "execution_count": null,
   "metadata": {},
   "outputs": [],
   "source": [
    "# Create dataframe with users and mean hour\n",
    "hour_df = df.select('userId', 'hour') \\\n",
    "    .groupby('userId') \\\n",
    "    .agg({'hour': 'mean'}) \\\n",
    "    .withColumnRenamed('avg(hour)', 'hourAvg')\n",
    "\n",
    "# Add mean hour as feature\n",
    "feature_df = feature_df.join(hour_df, 'userId')"
   ]
  },
  {
   "cell_type": "markdown",
   "metadata": {},
   "source": [
    "Encode User Activity over Time as Slope Feature"
   ]
  },
  {
   "cell_type": "code",
   "execution_count": null,
   "metadata": {},
   "outputs": [],
   "source": [
    "# Create dataframe with users and their activity per day\n",
    "activity_df = df.select('userId', 'date') \\\n",
    "    .groupby('userID', 'date') \\\n",
    "    .count()\n",
    "\n",
    "# Create Spark dataframe with all users\n",
    "activity_user = spark.createDataFrame(all_users, IntegerType()).withColumnRenamed('value', 'userId')"
   ]
  },
  {
   "cell_type": "code",
   "execution_count": null,
   "metadata": {},
   "outputs": [],
   "source": [
    "# initialize slopes\n",
    "slopes = []\n",
    "for user in all_users:\n",
    "    # Create pandas dataframe for slope calculation\n",
    "    activity_pandas = activity_df.filter(activity_df['userID'] == user).sort(F.asc('date')).toPandas()\n",
    "    if activity_pandas.shape[0]==1:\n",
    "        slopes.append(0)\n",
    "        continue\n",
    "    # Fit a line through the user activity counts and retrieve its slope\n",
    "    slope = np.polyfit(activity_pandas.index, activity_pandas['count'], 1)[0]\n",
    "    slopes.append(slope)"
   ]
  },
  {
   "cell_type": "code",
   "execution_count": null,
   "metadata": {},
   "outputs": [],
   "source": [
    "def outliers_iqr(data):\n",
    "    '''\n",
    "    This function returns the indices of outliers in data.\n",
    "    \n",
    "    INPUT:\n",
    "    data - list containing values\n",
    "    \n",
    "    OUTPUT:\n",
    "    Outlier indices    \n",
    "    '''\n",
    "    avg = np.mean(data)\n",
    "    lower_bound = avg - 2*np.std(data)\n",
    "    upper_bound = avg + 2*np.std(data)\n",
    "    return np.where((data > upper_bound) | (data < lower_bound))\n",
    "\n",
    "# Set outlier slopes to zero\n",
    "for i in outliers_iqr(slopes)[0]:\n",
    "    slopes[i] = 0"
   ]
  },
  {
   "cell_type": "code",
   "execution_count": null,
   "metadata": {},
   "outputs": [],
   "source": [
    "# Create dataframe from slopes\n",
    "slope_df = spark.createDataFrame([float(i) for i in slopes], FloatType()).withColumnRenamed('value', 'Slope')\n",
    "\n",
    "# Join activity_user and slope_df\n",
    "activity_user = activity_user.withColumn(\"row_idx\", F.monotonically_increasing_id())\n",
    "slope_df = slope_df.withColumn(\"row_idx\", F.monotonically_increasing_id())\n",
    "user_slopes = activity_user.join(slope_df, activity_user.row_idx == slope_df.row_idx).\\\n",
    "             drop(\"row_idx\")\n",
    "\n",
    "# Add slopes as feature\n",
    "feature_df = feature_df.join(user_slopes, 'userId').sort('userId')"
   ]
  },
  {
   "cell_type": "markdown",
   "metadata": {},
   "source": [
    "Feature Scaling, Merge Columns to one Features Vector"
   ]
  },
  {
   "cell_type": "code",
   "execution_count": null,
   "metadata": {},
   "outputs": [],
   "source": [
    "# UDF for converting column type from vector to double type\n",
    "unlist = F.udf(lambda x: round(float(list(x)[0]),3), DoubleType())\n",
    "\n",
    "# Iterate over columns to be scaled\n",
    "for i in ['neutralPagesNormalized', 'negativePagesNormalized', 'positivePagesNormalized', \\\n",
    "          'downgradePagesNormalized', 'upgradePagesNormalized', 'dateCountNormalized', \\\n",
    "         'hourAvg', 'UserActiveTime', 'Slope']:\n",
    "    # VectorAssembler Transformation - Convert column to vector type\n",
    "    assembler = VectorAssembler(inputCols=[i],outputCol=i+\"_Vect\")\n",
    "\n",
    "    # MinMaxScaler Transformation\n",
    "    scaler = MinMaxScaler(inputCol=i+\"_Vect\", outputCol=i+\"_Scaled\")\n",
    "\n",
    "    # Pipeline of VectorAssembler and MinMaxScaler\n",
    "    pipeline = Pipeline(stages=[assembler, scaler])\n",
    "\n",
    "    # Fitting pipeline on dataframe\n",
    "    feature_df = pipeline.fit(feature_df).transform(feature_df) \\\n",
    "        .withColumn(i+\"_Scaled\", unlist(i+\"_Scaled\")).drop(i+\"_Vect\")\n",
    "\n",
    "# Merge columns to one feature vector\n",
    "assembler = VectorAssembler(inputCols=['neutralPagesNormalized_Scaled', 'negativePagesNormalized_Scaled', 'positivePagesNormalized_Scaled', \\\n",
    "                                        'downgradePagesNormalized_Scaled', 'upgradePagesNormalized_Scaled', 'dateCountNormalized_Scaled', \\\n",
    "                                        'hourAvg_Scaled', 'UserActiveTime_Scaled', 'Slope_Scaled', 'LevelBinary', \\\n",
    "                                       'GenderBinary'], outputCol='features')\n",
    "feature_df = assembler.transform(feature_df)"
   ]
  },
  {
   "cell_type": "markdown",
   "metadata": {},
   "source": [
    "### 4. Create a Model"
   ]
  },
  {
   "cell_type": "markdown",
   "metadata": {},
   "source": [
    "After the creation of features, we can move on and split the full dataset into training and testing. We will test out several common machine learning methods used for classification tasks. The accuracy of the models will be evaluated and parameters tuned accordingly. Based on the F1-Score, Precision, Recall and ROC Area we will determine the winning model."
   ]
  },
  {
   "cell_type": "markdown",
   "metadata": {},
   "source": [
    "Split the dataset"
   ]
  },
  {
   "cell_type": "code",
   "execution_count": null,
   "metadata": {},
   "outputs": [],
   "source": [
    "# Read in the features dataframe and split it into training and testing\n",
    "train, test = feature_df.randomSplit([0.7, 0.3], seed = 42)\n",
    "\n",
    "print(\"Training Dataset Count: \" + str(train.count()))\n",
    "print(\"Test Dataset Count: \" + str(test.count()))"
   ]
  },
  {
   "cell_type": "code",
   "execution_count": null,
   "metadata": {},
   "outputs": [],
   "source": [
    "# Check for imbalance in the label distribution\n",
    "plt.hist(feature_df.toPandas()['label'])\n",
    "plt.show()"
   ]
  },
  {
   "cell_type": "markdown",
   "metadata": {},
   "source": [
    "#### Machine Learning Hyperparameter Tuning and Evaluation\n",
    "\n",
    "Spark's MLlib supports tools for model selection such as CrossValidator. This requires an estimator, a set of parameters and an evaluator. The estimators and parameters will be set for each classifier specifically. For evaluation, we take the BinaryClassificationEvaluator which supports both the 'areaUnderROC' and the 'areaUnderPR'. Since we have a class imbalance in the data, we take the 'areaUnderPR' as our evaluation metric (cf. http://pages.cs.wisc.edu/~jdavis/davisgoadrichcamera2.pdf).\n",
    "\n",
    "In terms of evaluation, Spark's MLlib provides metrics to assess the performance of the trained machine learning algorithms.\n",
    "\n",
    "However, the class BinaryClassificationEvaluator from pyspark.ml.evaluation only provides the metrics 'areaUnderPR' and 'areaUnderROC'. Therefore, we will compute the F1-Score, Precision and Recall with sklearn."
   ]
  },
  {
   "cell_type": "code",
   "execution_count": null,
   "metadata": {},
   "outputs": [],
   "source": [
    "# Create binary evaluator object\n",
    "evaluator = BinaryClassificationEvaluator(metricName = 'areaUnderPR')"
   ]
  },
  {
   "cell_type": "code",
   "execution_count": null,
   "metadata": {},
   "outputs": [],
   "source": [
    "# Calculate a balancing ratio to account for the class imbalance\n",
    "balancing_ratio = train.filter(train['label']==0).count()/train.count()\n",
    "train=train.withColumn(\"classWeights\", F.when(train.label == 1,balancing_ratio).otherwise(1-balancing_ratio))"
   ]
  },
  {
   "cell_type": "markdown",
   "metadata": {},
   "source": [
    "##### 1. Logistic Regression"
   ]
  },
  {
   "cell_type": "code",
   "execution_count": null,
   "metadata": {},
   "outputs": [],
   "source": [
    "# Create a logistic regression object\n",
    "lr = LogisticRegression(featuresCol = 'features', labelCol = 'label', weightCol=\"classWeights\")"
   ]
  },
  {
   "cell_type": "code",
   "execution_count": null,
   "metadata": {},
   "outputs": [],
   "source": [
    "# Train the logistic regression model without parameter tuning\n",
    "lrModel = lr.fit(train)\n",
    "trainingSummary = lrModel.summary"
   ]
  },
  {
   "cell_type": "code",
   "execution_count": null,
   "metadata": {},
   "outputs": [],
   "source": [
    "# Plot the threshold-recall curve\n",
    "tr = trainingSummary.recallByThreshold.toPandas()\n",
    "plt.plot(tr['threshold'], tr['recall'])\n",
    "plt.xlabel('Threshold')\n",
    "plt.ylabel('Recall')\n",
    "plt.show()"
   ]
  },
  {
   "cell_type": "code",
   "execution_count": null,
   "metadata": {},
   "outputs": [],
   "source": [
    "# Plot the threshold-precision curve\n",
    "tp = trainingSummary.precisionByThreshold.toPandas()\n",
    "plt.plot(tp['threshold'], tp['precision'])\n",
    "plt.xlabel('Threshold')\n",
    "plt.ylabel('Precision')\n",
    "plt.show()"
   ]
  },
  {
   "cell_type": "code",
   "execution_count": null,
   "metadata": {},
   "outputs": [],
   "source": [
    "# Plot the recall-precision curve\n",
    "pr = trainingSummary.pr.toPandas()\n",
    "plt.plot(pr['recall'], pr['precision'])\n",
    "plt.xlabel('Recall')\n",
    "plt.ylabel('Precision')\n",
    "plt.show()"
   ]
  },
  {
   "cell_type": "code",
   "execution_count": null,
   "metadata": {},
   "outputs": [],
   "source": [
    "# Plot the threshold-F-Measure curve\n",
    "fm = trainingSummary.fMeasureByThreshold.toPandas()\n",
    "plt.plot(fm['threshold'], fm['F-Measure'])\n",
    "plt.xlabel('Threshold')\n",
    "plt.ylabel('F-1 Score')\n",
    "plt.show()"
   ]
  },
  {
   "cell_type": "code",
   "execution_count": null,
   "metadata": {},
   "outputs": [],
   "source": [
    "# Create ParamGrid for Cross Validation\n",
    "paramGrid = (ParamGridBuilder()\n",
    "             .addGrid(lr.regParam, [0.01, 0.5, 2.0])\n",
    "             .addGrid(lr.elasticNetParam, [0.0, 0.5, 1.0])\n",
    "             .addGrid(lr.maxIter, [1, 5, 10])\n",
    "             .build())\n",
    "\n",
    "cv = CrossValidator(estimator=lr, estimatorParamMaps=paramGrid, evaluator=evaluator, numFolds=5)\n",
    "\n",
    "# Run cross validations\n",
    "cvModel = cv.fit(train)\n",
    "predictions = cvModel.transform(test)\n",
    "predictions_pandas = predictions.toPandas()\n",
    "print('Test Area Under PR: ', evaluator.evaluate(predictions))"
   ]
  },
  {
   "cell_type": "code",
   "execution_count": null,
   "metadata": {},
   "outputs": [],
   "source": [
    "# Calculate and print f1, recall and precision scores\n",
    "f1 = f1_score(predictions_pandas.label, predictions_pandas.prediction)\n",
    "recall = recall_score(predictions_pandas.label, predictions_pandas.prediction)\n",
    "precision = precision_score(predictions_pandas.label, predictions_pandas.prediction)\n",
    "\n",
    "print('F1-Score: {}, Recall: {}, Precision: {}'.format(f1, recall, precision))"
   ]
  },
  {
   "cell_type": "markdown",
   "metadata": {},
   "source": [
    "##### 2. Gradient-Boosting Classifier"
   ]
  },
  {
   "cell_type": "code",
   "execution_count": null,
   "metadata": {},
   "outputs": [],
   "source": [
    "# Create gradient-boosted tree classifier object\n",
    "gbt = GBTClassifier(featuresCol = 'features', labelCol = 'label')"
   ]
  },
  {
   "cell_type": "code",
   "execution_count": null,
   "metadata": {},
   "outputs": [],
   "source": [
    "# Create ParamGrid for Cross Validation\n",
    "paramGrid = (ParamGridBuilder()\n",
    "             .addGrid(gbt.maxDepth, [2, 4, 6])\n",
    "             .addGrid(gbt.maxBins, [20, 60])\n",
    "             .addGrid(gbt.maxIter, [10, 20])\n",
    "             .build())\n",
    "cv = CrossValidator(estimator=gbt, estimatorParamMaps=paramGrid, evaluator=evaluator, numFolds=5)\n",
    "\n",
    "# Run cross validations\n",
    "cvModel = cv.fit(train)\n",
    "predictions = cvModel.transform(test)\n",
    "predictions_pandas = predictions.toPandas()\n",
    "print('Test Area Under PR: ', evaluator.evaluate(predictions))"
   ]
  },
  {
   "cell_type": "code",
   "execution_count": null,
   "metadata": {},
   "outputs": [],
   "source": [
    "# Calculate and print f1, recall and precision scores\n",
    "f1 = f1_score(predictions_pandas.label, predictions_pandas.prediction)\n",
    "recall = recall_score(predictions_pandas.label, predictions_pandas.prediction)\n",
    "precision = precision_score(predictions_pandas.label, predictions_pandas.prediction)\n",
    "\n",
    "print('F1-Score: {}, Recall: {}, Precision: {}'.format(f1, recall, precision))"
   ]
  },
  {
   "cell_type": "markdown",
   "metadata": {},
   "source": [
    "##### 3. Decision Tree Classifier"
   ]
  },
  {
   "cell_type": "code",
   "execution_count": null,
   "metadata": {},
   "outputs": [],
   "source": [
    "# Create decision tree classifier\n",
    "dt = DecisionTreeClassifier(featuresCol = 'features', labelCol = 'label')"
   ]
  },
  {
   "cell_type": "code",
   "execution_count": null,
   "metadata": {},
   "outputs": [],
   "source": [
    "# Create ParamGrid for Cross Validation\n",
    "paramGrid = (ParamGridBuilder()\n",
    "             .addGrid(dt.maxDepth, [2, 4, 6])\n",
    "             .addGrid(dt.maxBins, [20, 60])\n",
    "             .addGrid(dt.impurity, ['gini', 'entropy'])\n",
    "             .build())\n",
    "cv = CrossValidator(estimator=dt, estimatorParamMaps=paramGrid, evaluator=evaluator, numFolds=5)\n",
    "\n",
    "# Run cross validations\n",
    "cvModel = cv.fit(train)\n",
    "predictions = cvModel.transform(test)\n",
    "predictions_pandas = predictions.toPandas()\n",
    "print('Test Area Under PR: ', evaluator.evaluate(predictions))"
   ]
  },
  {
   "cell_type": "code",
   "execution_count": null,
   "metadata": {},
   "outputs": [],
   "source": [
    "# Calculate and print f1, recall and precision scores\n",
    "f1 = f1_score(predictions_pandas.label, predictions_pandas.prediction)\n",
    "recall = recall_score(predictions_pandas.label, predictions_pandas.prediction)\n",
    "precision = precision_score(predictions_pandas.label, predictions_pandas.prediction)\n",
    "\n",
    "print('F1-Score: {}, Recall: {}, Precision: {}'.format(f1, recall, precision))"
   ]
  },
  {
   "cell_type": "markdown",
   "metadata": {},
   "source": [
    "### Conclusion\n",
    "The goal of this project was to exploit the capabilities of Apache Spark's analytics engine for large-scale data processing to detect customers which are about to stop using Sparkify's music streaming service.\n",
    "\n",
    "We applied the typical steps of the data science process like gaining understanding about the data, data preparation, modeling and evaluation. The logistic regression model shows the highest performance (F1-Score: 0.66, Recall: 0.84, Precision: 0.54). We are able to recall 84% of the churning customers and can provide them with special offers to keep them from deleting their Sparkify accounts. However, we need to consider a moderate Precision score of 53%. This means that, from all the customers which will receive special offers, 47% of those customers were actually satisfied with the service and would not need any special treatment."
   ]
  },
  {
   "cell_type": "code",
   "execution_count": null,
   "metadata": {},
   "outputs": [],
   "source": []
  }
 ],
 "metadata": {
  "kernelspec": {
   "display_name": "Python 3",
   "language": "python",
   "name": "python3"
  },
  "language_info": {
   "codemirror_mode": {
    "name": "ipython",
    "version": 3
   },
   "file_extension": ".py",
   "mimetype": "text/x-python",
   "name": "python",
   "nbconvert_exporter": "python",
   "pygments_lexer": "ipython3",
   "version": "3.7.6"
  }
 },
 "nbformat": 4,
 "nbformat_minor": 4
}
