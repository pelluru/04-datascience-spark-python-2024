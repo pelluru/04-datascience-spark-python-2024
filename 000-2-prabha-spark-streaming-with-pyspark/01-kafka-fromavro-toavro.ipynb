{
 "cells": [
  {
   "cell_type": "code",
   "execution_count": 2,
   "id": "428a1693-6c4d-423f-a176-13c4345c885c",
   "metadata": {},
   "outputs": [
    {
     "name": "stderr",
     "output_type": "stream",
     "text": [
      "24/12/31 23:48:34 WARN Utils: Your hostname, Prabhakaras-Mac-mini.local resolves to a loopback address: 127.0.0.1; using 192.168.0.62 instead (on interface en1)\n",
      "24/12/31 23:48:34 WARN Utils: Set SPARK_LOCAL_IP if you need to bind to another address\n",
      "Ivy Default Cache set to: /Users/prabhakarapelluru/.ivy2/cache\n",
      "The jars for the packages stored in: /Users/prabhakarapelluru/.ivy2/jars\n",
      "org.apache.spark#spark-avro_2.12 added as a dependency\n",
      ":: resolving dependencies :: org.apache.spark#spark-submit-parent-fc495d64-3980-4bad-8925-62e01b0419c1;1.0\n",
      "\tconfs: [default]\n",
      "\tfound org.apache.spark#spark-avro_2.12;3.5.3 in central\n",
      "\tfound org.tukaani#xz;1.9 in central\n",
      ":: resolution report :: resolve 65ms :: artifacts dl 1ms\n",
      "\t:: modules in use:\n",
      "\torg.apache.spark#spark-avro_2.12;3.5.3 from central in [default]\n",
      "\torg.tukaani#xz;1.9 from central in [default]\n",
      "\t---------------------------------------------------------------------\n",
      "\t|                  |            modules            ||   artifacts   |\n",
      "\t|       conf       | number| search|dwnlded|evicted|| number|dwnlded|\n",
      "\t---------------------------------------------------------------------\n",
      "\t|      default     |   2   |   0   |   0   |   0   ||   2   |   0   |\n",
      "\t---------------------------------------------------------------------\n",
      ":: retrieving :: org.apache.spark#spark-submit-parent-fc495d64-3980-4bad-8925-62e01b0419c1\n",
      "\tconfs: [default]\n",
      "\t0 artifacts copied, 2 already retrieved (0kB/1ms)\n"
     ]
    },
    {
     "name": "stdout",
     "output_type": "stream",
     "text": [
      ":: loading settings :: url = jar:file:/opt/anaconda3/lib/python3.12/site-packages/pyspark/jars/ivy-2.5.1.jar!/org/apache/ivy/core/settings/ivysettings.xml\n"
     ]
    },
    {
     "name": "stderr",
     "output_type": "stream",
     "text": [
      "24/12/31 23:48:34 WARN NativeCodeLoader: Unable to load native-hadoop library for your platform... using builtin-java classes where applicable\n",
      "Setting default log level to \"WARN\".\n",
      "To adjust logging level use sc.setLogLevel(newLevel). For SparkR, use setLogLevel(newLevel).\n"
     ]
    },
    {
     "data": {
      "text/html": [
       "\n",
       "            <div>\n",
       "                <p><b>SparkSession - in-memory</b></p>\n",
       "                \n",
       "        <div>\n",
       "            <p><b>SparkContext</b></p>\n",
       "\n",
       "            <p><a href=\"http://192.168.0.62:4040\">Spark UI</a></p>\n",
       "\n",
       "            <dl>\n",
       "              <dt>Version</dt>\n",
       "                <dd><code>v3.5.3</code></dd>\n",
       "              <dt>Master</dt>\n",
       "                <dd><code>local[*]</code></dd>\n",
       "              <dt>AppName</dt>\n",
       "                <dd><code>Streaming Process Files</code></dd>\n",
       "            </dl>\n",
       "        </div>\n",
       "        \n",
       "            </div>\n",
       "        "
      ],
      "text/plain": [
       "<pyspark.sql.session.SparkSession at 0x1204261e0>"
      ]
     },
     "execution_count": 2,
     "metadata": {},
     "output_type": "execute_result"
    }
   ],
   "source": [
    "#add all external jars to config . spark.jars.packages\n",
    "#it automatically downloads from maven central repository\n",
    "\n",
    "# Create the Spark Session\n",
    "from pyspark.sql import SparkSession\n",
    "\n",
    "spark = (\n",
    "    SparkSession \n",
    "    .builder \n",
    "    .appName(\"Streaming Process Files\") \n",
    "    .config(\"spark.streaming.stopGracefullyOnShutdown\", True) \n",
    "    .config(\"spark.jars.packages\",\n",
    "            \"org.apache.spark:spark-avro_2.12:3.5.3\")\n",
    "    .master(\"local[*]\") \n",
    "    .getOrCreate()\n",
    ")\n",
    "\n",
    "spark"
   ]
  },
  {
   "cell_type": "code",
   "execution_count": 4,
   "id": "11fb874a-c61f-4170-a46a-f35dbb68af85",
   "metadata": {},
   "outputs": [
    {
     "name": "stdout",
     "output_type": "stream",
     "text": [
      "+---+----------+\n",
      "|key|     value|\n",
      "+---+----------+\n",
      "|  1|{2, Alice}|\n",
      "+---+----------+\n",
      "\n",
      "+--------------------+\n",
      "|                avro|\n",
      "+--------------------+\n",
      "|[00 00 04 00 0A 4...|\n",
      "+--------------------+\n",
      "\n",
      "+------------+\n",
      "|       value|\n",
      "+------------+\n",
      "|{{2, Alice}}|\n",
      "+------------+\n",
      "\n"
     ]
    }
   ],
   "source": [
    "from pyspark.sql import Row\n",
    "from pyspark.sql.avro.functions import from_avro, to_avro\n",
    "\n",
    "SCHEMA_REGISTRY_URL = \"http://localhost:8081/\"\n",
    "BOOT_STRAP_SERVERS = \"http://localhost:9021/\"\n",
    "\n",
    "\n",
    "USER_SCHEMA  = '''{\n",
    "  \"type\": \"record\",\n",
    "  \"name\": \"topLevelRecord\",\n",
    "  \"fields\": [\n",
    "    {\n",
    "      \"name\": \"avro\",\n",
    "      \"type\": [\n",
    "        {\n",
    "          \"type\": \"record\",\n",
    "          \"name\": \"value\",\n",
    "          \"namespace\": \"topLevelRecord\",\n",
    "          \"fields\": [\n",
    "            {\n",
    "              \"name\": \"age\",\n",
    "              \"type\": [\n",
    "                \"long\",\n",
    "                \"null\"\n",
    "              ]\n",
    "            },\n",
    "            {\n",
    "              \"name\": \"name\",\n",
    "              \"type\": [\n",
    "                \"string\",\n",
    "                \"null\"\n",
    "              ]\n",
    "            }\n",
    "          ]\n",
    "        },\n",
    "        \"null\"\n",
    "      ]\n",
    "    }\n",
    "  ]\n",
    "}'''\n",
    "\n",
    "\n",
    "data = [(1, Row(age=2, name='Alice'))]\n",
    "\n",
    "df = spark.createDataFrame(data, (\"key\", \"value\"))\n",
    "\n",
    "df.show()\n",
    "\n",
    "avroDf = df.select(to_avro(df.value).alias(\"avro\"))\n",
    "\n",
    "avroDf.show()\n",
    "\n",
    "notAvroDf = avroDf.select(from_avro(avroDf.avro, USER_SCHEMA).alias(\"value\"))\n",
    "notAvroDf.show()\n",
    "\n",
    "\n"
   ]
  },
  {
   "cell_type": "code",
   "execution_count": 16,
   "id": "9f96bf6d-140a-470f-93d8-139d1a5944dd",
   "metadata": {},
   "outputs": [],
   "source": [
    "from pyspark.sql.functions import col, lit\n",
    "from pyspark.sql.avro.functions import from_avro, to_avro\n",
    "\n",
    "SCHEMA_REGISTRY_URL = \"http://localhost:8081/\"\n",
    "BOOT_STRAP_SERVERS = \"http://localhost:9021/\"\n",
    "\n",
    "#Convert structured data to binary from string (key column) and\n",
    "#int (value column) and save to a Kafka topic.\n",
    "\n",
    "avroDf.write.format(\"avro\").mode(\"overwrite\").save(\"/Users/prabhakarapelluru/prabhakara/prabha-jars/\")\n",
    "#option(\"kafka.bootstrap.servers\", BOOT_STRAP_SERVERS).option(\"topic\", \"test_avro1\").start()\n"
   ]
  },
  {
   "cell_type": "code",
   "execution_count": null,
   "id": "8d977663-1e81-48ef-92ab-8a986367ea19",
   "metadata": {},
   "outputs": [],
   "source": []
  }
 ],
 "metadata": {
  "kernelspec": {
   "display_name": "Python 3 (ipykernel)",
   "language": "python",
   "name": "python3"
  },
  "language_info": {
   "codemirror_mode": {
    "name": "ipython",
    "version": 3
   },
   "file_extension": ".py",
   "mimetype": "text/x-python",
   "name": "python",
   "nbconvert_exporter": "python",
   "pygments_lexer": "ipython3",
   "version": "3.12.7"
  }
 },
 "nbformat": 4,
 "nbformat_minor": 5
}
